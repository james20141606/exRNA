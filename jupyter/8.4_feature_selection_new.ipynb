{
 "cells": [
  {
   "cell_type": "code",
   "execution_count": 313,
   "metadata": {},
   "outputs": [
    {
     "name": "stdout",
     "output_type": "stream",
     "text": [
      "Populating the interactive namespace from numpy and matplotlib\n"
     ]
    }
   ],
   "source": [
    "from ipywidgets import interact, FloatSlider, RadioButtons,Dropdown,SelectMultiple,FloatRangeSlider\n",
    "import gc, argparse, sys, os, errno\n",
    "%pylab inline\n",
    "import numpy as np\n",
    "import pandas as pd\n",
    "import matplotlib.pyplot as plt\n",
    "plt.style.use('ggplot')\n",
    "import seaborn as sns\n",
    "import h5py\n",
    "import os\n",
    "import scipy\n",
    "import sklearn\n",
    "from scipy.stats import pearsonr\n",
    "from sklearn.metrics import roc_curve,roc_auc_score\n",
    "import warnings\n",
    "warnings.filterwarnings('ignore')\n",
    "from ipywidgets import interact, FloatSlider,IntSlider, RadioButtons,Dropdown,Tab,Text\n",
    "styles = [\"white\",\"dark\",'whitegrid',\"darkgrid\"]\n",
    "contexts = ['paper','talk','poster','notebook']\n",
    "from sklearn.linear_model import LogisticRegression\n",
    "from sklearn.ensemble import RandomForestClassifier\n",
    "from  sklearn import preprocessing\n",
    "from tqdm import tqdm_notebook as tqdm\n",
    "from sklearn.metrics import roc_curve, auc\n",
    "tableau20 = np.array([(31, 119, 180), (174, 199, 232), (255, 127, 14), (255, 187, 120),  \n",
    "             (44, 160, 44), (152, 223, 138), (214, 39, 40), (255, 152, 150),  \n",
    "             (148, 103, 189), (197, 176, 213), (140, 86, 75), (196, 156, 148),  \n",
    "             (227, 119, 194), (247, 182, 210), (127, 127, 127), (199, 199, 199),  \n",
    "             (188, 189, 34), (219, 219, 141), (23, 190, 207), (158, 218, 229)])/255."
   ]
  },
  {
   "cell_type": "code",
   "execution_count": 314,
   "metadata": {},
   "outputs": [
    {
     "name": "stdout",
     "output_type": "stream",
     "text": [
      "/home/chenxupeng/projects/training\n"
     ]
    }
   ],
   "source": [
    "cd /home/chenxupeng/projects/training"
   ]
  },
  {
   "cell_type": "code",
   "execution_count": 315,
   "metadata": {},
   "outputs": [
    {
     "data": {
      "text/html": [
       "<div>\n",
       "<style scoped>\n",
       "    .dataframe tbody tr th:only-of-type {\n",
       "        vertical-align: middle;\n",
       "    }\n",
       "\n",
       "    .dataframe tbody tr th {\n",
       "        vertical-align: top;\n",
       "    }\n",
       "\n",
       "    .dataframe thead th {\n",
       "        text-align: right;\n",
       "    }\n",
       "</style>\n",
       "<table border=\"1\" class=\"dataframe\">\n",
       "  <thead>\n",
       "    <tr style=\"text-align: right;\">\n",
       "      <th></th>\n",
       "      <th>Unnamed: 0</th>\n",
       "      <th>Sample_ID</th>\n",
       "      <th>Disease_status</th>\n",
       "      <th>Sex</th>\n",
       "      <th>Age</th>\n",
       "      <th>Tumor_size(cm)</th>\n",
       "      <th>Multiple_tumor</th>\n",
       "      <th>Vascular_invasion</th>\n",
       "      <th>Satellite_nonules</th>\n",
       "      <th>AFP(ng/ml)</th>\n",
       "      <th>...</th>\n",
       "      <th>PT</th>\n",
       "      <th>Stage-BCLC</th>\n",
       "      <th>RNA_mass(ng/mlplasma)</th>\n",
       "      <th>Batch</th>\n",
       "      <th>spike-in</th>\n",
       "      <th>Seq-mode</th>\n",
       "      <th>DNase1</th>\n",
       "      <th>use</th>\n",
       "      <th>sampleuse</th>\n",
       "      <th>Disease_status_formal</th>\n",
       "    </tr>\n",
       "  </thead>\n",
       "  <tbody>\n",
       "    <tr>\n",
       "      <th>0</th>\n",
       "      <td>0</td>\n",
       "      <td>lulab_249136_B</td>\n",
       "      <td>HCC_before_surgery</td>\n",
       "      <td>M</td>\n",
       "      <td>43</td>\n",
       "      <td>2.8</td>\n",
       "      <td>No</td>\n",
       "      <td>No</td>\n",
       "      <td>0</td>\n",
       "      <td>559.6</td>\n",
       "      <td>...</td>\n",
       "      <td>10.1</td>\n",
       "      <td>A</td>\n",
       "      <td>27.63</td>\n",
       "      <td>7th_201803</td>\n",
       "      <td>NaN</td>\n",
       "      <td>NaN</td>\n",
       "      <td>NaN</td>\n",
       "      <td>1</td>\n",
       "      <td>1</td>\n",
       "      <td>HCC</td>\n",
       "    </tr>\n",
       "    <tr>\n",
       "      <th>1</th>\n",
       "      <td>1</td>\n",
       "      <td>lulab_385247_B</td>\n",
       "      <td>HCC_before_surgery</td>\n",
       "      <td>M</td>\n",
       "      <td>54</td>\n",
       "      <td>4</td>\n",
       "      <td>No</td>\n",
       "      <td>No</td>\n",
       "      <td>1</td>\n",
       "      <td>19.61</td>\n",
       "      <td>...</td>\n",
       "      <td>12</td>\n",
       "      <td>A</td>\n",
       "      <td>33.45</td>\n",
       "      <td>4th_201801</td>\n",
       "      <td>NaN</td>\n",
       "      <td>NaN</td>\n",
       "      <td>NaN</td>\n",
       "      <td>1</td>\n",
       "      <td>1</td>\n",
       "      <td>HCC</td>\n",
       "    </tr>\n",
       "    <tr>\n",
       "      <th>2</th>\n",
       "      <td>2</td>\n",
       "      <td>lulab_423976_B</td>\n",
       "      <td>HCC_before_surgery</td>\n",
       "      <td>F</td>\n",
       "      <td>60</td>\n",
       "      <td>_</td>\n",
       "      <td>No</td>\n",
       "      <td>Yes</td>\n",
       "      <td>0</td>\n",
       "      <td>4.58</td>\n",
       "      <td>...</td>\n",
       "      <td>15</td>\n",
       "      <td>C</td>\n",
       "      <td>32.66</td>\n",
       "      <td>3nd_201801</td>\n",
       "      <td>NaN</td>\n",
       "      <td>NaN</td>\n",
       "      <td>NaN</td>\n",
       "      <td>1</td>\n",
       "      <td>1</td>\n",
       "      <td>HCC</td>\n",
       "    </tr>\n",
       "    <tr>\n",
       "      <th>3</th>\n",
       "      <td>3</td>\n",
       "      <td>lulab_497411_B</td>\n",
       "      <td>HCC_before_surgery</td>\n",
       "      <td>F</td>\n",
       "      <td>70</td>\n",
       "      <td>8</td>\n",
       "      <td>No</td>\n",
       "      <td>No</td>\n",
       "      <td>0</td>\n",
       "      <td>3.45</td>\n",
       "      <td>...</td>\n",
       "      <td>11.3</td>\n",
       "      <td>A</td>\n",
       "      <td>28.32</td>\n",
       "      <td>2nd_201712</td>\n",
       "      <td>0</td>\n",
       "      <td>PE150</td>\n",
       "      <td>N</td>\n",
       "      <td>1</td>\n",
       "      <td>1</td>\n",
       "      <td>HCC</td>\n",
       "    </tr>\n",
       "    <tr>\n",
       "      <th>4</th>\n",
       "      <td>4</td>\n",
       "      <td>lulab_497497_B</td>\n",
       "      <td>HCC_before_surgery</td>\n",
       "      <td>M</td>\n",
       "      <td>44</td>\n",
       "      <td>12.3</td>\n",
       "      <td>Yes</td>\n",
       "      <td>No</td>\n",
       "      <td>0</td>\n",
       "      <td>3155</td>\n",
       "      <td>...</td>\n",
       "      <td>11.2</td>\n",
       "      <td>B</td>\n",
       "      <td>34.24</td>\n",
       "      <td>1st_201711</td>\n",
       "      <td>0</td>\n",
       "      <td>PE150</td>\n",
       "      <td>N</td>\n",
       "      <td>1</td>\n",
       "      <td>1</td>\n",
       "      <td>HCC</td>\n",
       "    </tr>\n",
       "  </tbody>\n",
       "</table>\n",
       "<p>5 rows × 25 columns</p>\n",
       "</div>"
      ],
      "text/plain": [
       "   Unnamed: 0       Sample_ID      Disease_status Sex Age Tumor_size(cm)  \\\n",
       "0           0  lulab_249136_B  HCC_before_surgery   M  43            2.8   \n",
       "1           1  lulab_385247_B  HCC_before_surgery   M  54              4   \n",
       "2           2  lulab_423976_B  HCC_before_surgery   F  60              _   \n",
       "3           3  lulab_497411_B  HCC_before_surgery   F  70              8   \n",
       "4           4  lulab_497497_B  HCC_before_surgery   M  44           12.3   \n",
       "\n",
       "  Multiple_tumor Vascular_invasion Satellite_nonules AFP(ng/ml)  \\\n",
       "0             No                No                 0      559.6   \n",
       "1             No                No                 1      19.61   \n",
       "2             No               Yes                 0       4.58   \n",
       "3             No                No                 0       3.45   \n",
       "4            Yes                No                 0       3155   \n",
       "\n",
       "           ...             PT Stage-BCLC RNA_mass(ng/mlplasma)       Batch  \\\n",
       "0          ...           10.1          A                 27.63  7th_201803   \n",
       "1          ...             12          A                 33.45  4th_201801   \n",
       "2          ...             15          C                 32.66  3nd_201801   \n",
       "3          ...           11.3          A                 28.32  2nd_201712   \n",
       "4          ...           11.2          B                 34.24  1st_201711   \n",
       "\n",
       "  spike-in Seq-mode DNase1 use sampleuse Disease_status_formal  \n",
       "0      NaN      NaN    NaN   1         1                   HCC  \n",
       "1      NaN      NaN    NaN   1         1                   HCC  \n",
       "2      NaN      NaN    NaN   1         1                   HCC  \n",
       "3        0    PE150      N   1         1                   HCC  \n",
       "4        0    PE150      N   1         1                   HCC  \n",
       "\n",
       "[5 rows x 25 columns]"
      ]
     },
     "execution_count": 315,
     "metadata": {},
     "output_type": "execute_result"
    }
   ],
   "source": [
    "wholeannotation = pd.read_table(\"data/wholeannotation.csv\",sep=',')\n",
    "wholeannotation.head()"
   ]
  },
  {
   "cell_type": "markdown",
   "metadata": {},
   "source": [
    "## prepare data\n",
    "- four kinds of data\n",
    "- main and top20\n",
    "- preprocess"
   ]
  },
  {
   "cell_type": "code",
   "execution_count": 316,
   "metadata": {},
   "outputs": [
    {
     "data": {
      "text/plain": [
       "array([ 0,  1,  2,  3,  4,  5,  6,  7,  8,  9, 10, 11, 12, 13, 15, 16, 17,\n",
       "       18, 19, 20, 21, 22, 23, 24, 25, 26, 27, 28, 29, 30, 32, 33, 34, 35,\n",
       "       36, 37, 38, 39, 40, 41, 42, 43, 44, 45, 47, 48, 49, 50, 51, 52, 53,\n",
       "       54, 55, 56, 57, 58, 59, 60, 61, 62, 63])"
      ]
     },
     "execution_count": 316,
     "metadata": {},
     "output_type": "execute_result"
    }
   ],
   "source": [
    "##注意： 经过检验，normalization步骤的sample use是没问题的，在前64个sample中去掉三个sample，这里wholeanno是66个sample，\n",
    "##在前64个有三个去掉，再去掉post的即为需要的\n",
    "sampleinduse = np.array([ 0,  1,  2,  3,  4,  5,  6,  7,  8,  9, 10, 11, 12, 13,14,  15, 16,\n",
    "       17, 18, 19, 20, 21, 22, 23, 24, 25, 26, 27, 28, 29, 30, 31, 32, 33,\n",
    "       34, 35, 36, 37, 38, 39, 58, 59, 60])\n",
    "np.where(wholeannotation['sampleuse'] ==1)[0][:-2]"
   ]
  },
  {
   "cell_type": "markdown",
   "metadata": {},
   "source": [
    "#### 需要的43个sample的table！"
   ]
  },
  {
   "cell_type": "code",
   "execution_count": 317,
   "metadata": {},
   "outputs": [
    {
     "data": {
      "text/plain": [
       "30"
      ]
     },
     "execution_count": 317,
     "metadata": {},
     "output_type": "execute_result"
    }
   ],
   "source": [
    "#需要的43个sample的table！\n",
    "usetable = wholeannotation.iloc[np.where(wholeannotation['sampleuse'] ==1)[0][:-2]].iloc[sampleinduse]\n",
    "np.sum(usetable['Disease_status_formal'] =='HCC')"
   ]
  },
  {
   "cell_type": "code",
   "execution_count": 318,
   "metadata": {},
   "outputs": [
    {
     "data": {
      "text/plain": [
       "array(['A', 'A', 'C', 'A', 'B', 'B', 'B', 'A', 'A', 'B', 'A', 'B', 'A',\n",
       "       'A', 'B', 'A', 'A', 'C', 'B', 'A', 'B', 'C', 'A', 'B', 'A', 'A',\n",
       "       'B', 'C', 'A', 'A', '-', '-', '-', '-', '-', '-', '-', '-', '-',\n",
       "       '-', '-', '-', '-'], dtype=object)"
      ]
     },
     "execution_count": 318,
     "metadata": {},
     "output_type": "execute_result"
    }
   ],
   "source": [
    "np.array(usetable['Stage-BCLC'])"
   ]
  },
  {
   "cell_type": "code",
   "execution_count": 319,
   "metadata": {},
   "outputs": [
    {
     "data": {
      "text/plain": [
       "array(['HCC', 'HCC', 'HCC', 'HCC', 'HCC', 'HCC', 'HCC', 'HCC', 'HCC',\n",
       "       'HCC', 'HCC', 'HCC', 'HCC', 'HCC', 'HCC', 'HCC', 'HCC', 'HCC',\n",
       "       'HCC', 'HCC', 'HCC', 'HCC', 'HCC', 'HCC', 'HCC', 'HCC', 'HCC',\n",
       "       'HCC', 'HCC', 'HCC', 'HD', 'HD', 'HD', 'HD', 'HD', 'HD', 'HD',\n",
       "       'HD', 'HD', 'HD', 'CHB', 'CHB', 'CHB'], dtype=object)"
      ]
     },
     "execution_count": 319,
     "metadata": {},
     "output_type": "execute_result"
    }
   ],
   "source": [
    "np.array(usetable['Disease_status_formal'])"
   ]
  },
  {
   "cell_type": "code",
   "execution_count": 320,
   "metadata": {},
   "outputs": [
    {
     "data": {
      "text/plain": [
       "(43, 1709)"
      ]
     },
     "execution_count": 320,
     "metadata": {},
     "output_type": "execute_result"
    }
   ],
   "source": [
    "pd.read_table('new_feature/preprocessed/preprocessed_feature'+str(1)+'.csv',sep=',').iloc[:,1:].shape"
   ]
  },
  {
   "cell_type": "code",
   "execution_count": 321,
   "metadata": {},
   "outputs": [],
   "source": [
    "def get_data(featureind=1):\n",
    "    featuretable=  pd.read_table('new_feature/preprocessed/preprocessed_feature'+str(featureind)+'.csv',sep=',').iloc[:,1:]\n",
    "    featuretable['lables'][featuretable['lables'] ==2]=0\n",
    "    return featuretable\n",
    "\n",
    "def top20_data(featureind=1):\n",
    "    return np.array(pd.read_table('new_feature/top20/feature'+str(featureind)+'_top20.csv',sep=',').iloc[:,1:]).T\n",
    "   \n",
    "def get_concat_data(top20,main):\n",
    "    main[np.isnan(main)] =0\n",
    "    print (preprocessing.scale(top20).shape)\n",
    "    print (preprocessing.scale(main).shape)\n",
    "    fullfeaturesarray =np.concatenate((preprocessing.scale(main),\n",
    "                               preprocessing.scale(top20),\n",
    "                ),axis=1)\n",
    "    print (fullfeaturesarray.shape)\n",
    "    return fullfeaturesarray   \n",
    "def get_feature_name(featureind=1):\n",
    "    return np.concatenate((get_data(featureind).columns[2:],\n",
    "                np.array(pd.read_table('new_feature/top20/feature'+str(featureind)+'_top20.csv',sep=',').iloc[:,0])))"
   ]
  },
  {
   "cell_type": "code",
   "execution_count": 322,
   "metadata": {},
   "outputs": [
    {
     "data": {
      "text/plain": [
       "(1727,)"
      ]
     },
     "execution_count": 322,
     "metadata": {},
     "output_type": "execute_result"
    }
   ],
   "source": [
    "get_feature_name(featureind=1).shape"
   ]
  },
  {
   "cell_type": "code",
   "execution_count": 323,
   "metadata": {},
   "outputs": [
    {
     "data": {
      "text/plain": [
       "(43, 1707)"
      ]
     },
     "execution_count": 323,
     "metadata": {},
     "output_type": "execute_result"
    }
   ],
   "source": [
    "np.array(get_data(featureind=1).iloc[:,2:]).shape"
   ]
  },
  {
   "cell_type": "code",
   "execution_count": 451,
   "metadata": {},
   "outputs": [
    {
     "data": {
      "text/plain": [
       "array(['peak_1.12979_0_60', 'peak_10.13027_40_60', 'peak_100.31864_0_73',\n",
       "       ..., 'peak_997.ENST00000595858.5_1520_1560',\n",
       "       'peak_998.ENST00000596502.1_320_360',\n",
       "       'peak_999.ENST00000596663.5_1560_1580'], dtype=object)"
      ]
     },
     "execution_count": 451,
     "metadata": {},
     "output_type": "execute_result"
    }
   ],
   "source": [
    "binfeaturename"
   ]
  },
  {
   "cell_type": "code",
   "execution_count": 324,
   "metadata": {},
   "outputs": [
    {
     "name": "stdout",
     "output_type": "stream",
     "text": [
      "(43, 20)\n",
      "(43, 1707)\n",
      "(43, 1727)\n"
     ]
    }
   ],
   "source": [
    "binfeaturesarray = get_concat_data(top20_data(featureind=1),np.array(get_data(featureind=1).iloc[:,2:]))\n",
    "\n",
    "binfeaturename = get_feature_name(featureind=1)\n",
    "binfeaturenamesplit = np.array([binfeaturename[i].split('__')[0] for i in range(binfeaturename.shape[0])]).astype('object')"
   ]
  },
  {
   "cell_type": "code",
   "execution_count": 325,
   "metadata": {},
   "outputs": [
    {
     "data": {
      "text/plain": [
       "array(['peak_189;ENST00000362134.1_0_72',\n",
       "       'peak_208;ENST00000362201.2_0_80',\n",
       "       'peak_209;ENST00000362202.3_0_40',\n",
       "       'peak_211;ENST00000362205.1_0_40',\n",
       "       'peak_213;ENST00000362215.3_0_68',\n",
       "       'peak_221;ENST00000362251.4_0_77',\n",
       "       'peak_228;ENST00000362280.3_0_40',\n",
       "       'peak_230;ENST00000362283.1_0_70',\n",
       "       'peak_232;ENST00000362291.1_0_80',\n",
       "       'peak_236;ENST00000362309.3_0_40',\n",
       "       'peak_371;ENST00000364908.1_0_80',\n",
       "       'peak_530;ENST00000384816.1_0_80',\n",
       "       'peak_608;ENST00000385044.3_0_80',\n",
       "       'peak_615;ENST00000385054.1_0_80',\n",
       "       'peak_618;ENST00000385059.1_0_72',\n",
       "       'peak_630;ENST00000385140.1_0_80',\n",
       "       'peak_635;ENST00000385201.1_0_80',\n",
       "       'peak_668;ENST00000385277.1_0_80',\n",
       "       'peak_1040;ENST00000612171.2_0_68',\n",
       "       'peak_1183;ENST00000637446.1_0_64'], dtype=object)"
      ]
     },
     "execution_count": 325,
     "metadata": {},
     "output_type": "execute_result"
    }
   ],
   "source": [
    "binfeaturenamesplit[-20:]"
   ]
  },
  {
   "cell_type": "markdown",
   "metadata": {},
   "source": [
    "# bin and mix, with same gene id's bin, calculate PCC to remove redundancy"
   ]
  },
  {
   "cell_type": "code",
   "execution_count": 130,
   "metadata": {},
   "outputs": [],
   "source": [
    "binfeaturenamesplituni,binfeaturenamesplitunicounts = np.unique(binfeaturenamesplit,return_counts=True)"
   ]
  },
  {
   "cell_type": "code",
   "execution_count": 132,
   "metadata": {},
   "outputs": [
    {
     "data": {
      "text/plain": [
       "array([1, 1, 1, ..., 1, 1, 1])"
      ]
     },
     "execution_count": 132,
     "metadata": {},
     "output_type": "execute_result"
    }
   ],
   "source": [
    "binfeaturenamesplitunicounts"
   ]
  },
  {
   "cell_type": "code",
   "execution_count": 131,
   "metadata": {},
   "outputs": [
    {
     "data": {
      "text/plain": [
       "(array([0., 0., 0., 0., 0., 0., 0., 0., 0., 0., 0., 0., 0., 0., 0., 0., 0.,\n",
       "        0., 0., 0., 0., 0., 0., 0., 0., 0., 0., 0., 0., 0., 0., 0., 0., 0.,\n",
       "        0., 0., 0., 0., 0., 0., 0., 0., 0., 0., 0., 0., 0., 0., 0., 0.]),\n",
       " array([0.  , 0.02, 0.04, 0.06, 0.08, 0.1 , 0.12, 0.14, 0.16, 0.18, 0.2 ,\n",
       "        0.22, 0.24, 0.26, 0.28, 0.3 , 0.32, 0.34, 0.36, 0.38, 0.4 , 0.42,\n",
       "        0.44, 0.46, 0.48, 0.5 , 0.52, 0.54, 0.56, 0.58, 0.6 , 0.62, 0.64,\n",
       "        0.66, 0.68, 0.7 , 0.72, 0.74, 0.76, 0.78, 0.8 , 0.82, 0.84, 0.86,\n",
       "        0.88, 0.9 , 0.92, 0.94, 0.96, 0.98, 1.  ]),\n",
       " <a list of 50 Patch objects>)"
      ]
     },
     "execution_count": 131,
     "metadata": {},
     "output_type": "execute_result"
    },
    {
     "data": {
      "image/png": "[encoded data removed]",
      "text/plain": [
       "<matplotlib.figure.Figure at 0x7f2e45e26f28>"
      ]
     },
     "metadata": {},
     "output_type": "display_data"
    }
   ],
   "source": [
    "hist(binfeaturenamesplitunicounts[binfeaturenamesplitunicounts>1],bins=50)"
   ]
  },
  {
   "cell_type": "code",
   "execution_count": 326,
   "metadata": {},
   "outputs": [],
   "source": [
    "def remove_redundancy(arr,thres=0.95):\n",
    "    '''\n",
    "    calculate pcc of a m*n array, find redundancy less than thres\n",
    "    '''\n",
    "    pcc = {}\n",
    "    num = arr.shape[0]\n",
    "    final = np.arange(0,num)\n",
    "    for i in tqdm(range(num-1)):\n",
    "        pcc[i] = []\n",
    "        for j in range(i+1,num):\n",
    "            #pcc[i].append(pearsonr(arr[i],arr[j])[0])\n",
    "            if pearsonr(arr[i],arr[j])[0] >thres:\n",
    "                final = np.setdiff1d(final,np.array([j])) \n",
    "    return np.array(final)"
   ]
  },
  {
   "cell_type": "code",
   "execution_count": 327,
   "metadata": {},
   "outputs": [
    {
     "data": {
      "application/vnd.jupyter.widget-view+json": {
       "model_id": "875ae9197f174e28b66cd21593e4d3fc",
       "version_major": 2,
       "version_minor": 0
      },
      "text/html": [
       "<p>Failed to display Jupyter Widget of type <code>HBox</code>.</p>\n",
       "<p>\n",
       "  If you're reading this message in the Jupyter Notebook or JupyterLab Notebook, it may mean\n",
       "  that the widgets JavaScript is still loading. If this message persists, it\n",
       "  likely means that the widgets JavaScript library is either not installed or\n",
       "  not enabled. See the <a href=\"https://ipywidgets.readthedocs.io/en/stable/user_install.html\">Jupyter\n",
       "  Widgets Documentation</a> for setup instructions.\n",
       "</p>\n",
       "<p>\n",
       "  If you're reading this message in another frontend (for example, a static\n",
       "  rendering on GitHub or <a href=\"https://nbviewer.jupyter.org/\">NBViewer</a>),\n",
       "  it may mean that your frontend doesn't currently support widgets.\n",
       "</p>\n"
      ],
      "text/plain": [
       "HBox(children=(IntProgress(value=0, max=1727), HTML(value='')))"
      ]
     },
     "metadata": {},
     "output_type": "display_data"
    }
   ],
   "source": [
    "retainindforbin = []\n",
    "for i in tqdm(range(binfeaturenamesplituni.shape[0])):\n",
    "    unibinind = np.where(binfeaturenamesplit == binfeaturenamesplituni[i])[0]\n",
    "    if unibinind.shape[0] >1:\n",
    "        #print (unibinind[remove_redundancy(binfeaturesarray[:,unibinind].T,0.95)])\n",
    "        print (unibinind)\n",
    "        retainindforbin.append( unibinind[ remove_redundancy(binfeaturesarray[:,unibinind].T,0.95)])\n",
    "    elif unibinind.shape[0] ==1:\n",
    "        retainindforbin.append(unibinind)\n",
    "        #print (unibinind)\n",
    "    else:\n",
    "        print ('something wrong')"
   ]
  },
  {
   "cell_type": "code",
   "execution_count": 328,
   "metadata": {},
   "outputs": [],
   "source": [
    "retainindforbin_ = np.array([])\n",
    "for i in range(len(retainindforbin)):\n",
    "    retainindforbin_  = np.concatenate((retainindforbin_,retainindforbin[i]))"
   ]
  },
  {
   "cell_type": "code",
   "execution_count": 329,
   "metadata": {},
   "outputs": [],
   "source": [
    "np.savetxt('new_feature/remove_redundancy/binafterremoveredundancy_1.txt',np.array(retainindforbin_),fmt='%d')"
   ]
  },
  {
   "cell_type": "code",
   "execution_count": 330,
   "metadata": {},
   "outputs": [],
   "source": [
    "retainindforbin_ =retainindforbin_.astype('int')\n",
    "retainindforbin_.shape\n",
    "binfeaturesarray = binfeaturesarray[:,retainindforbin_]\n",
    "binfeaturenamesplit = binfeaturenamesplit[retainindforbin_]\n",
    "binfeaturename = binfeaturename[retainindforbin_]"
   ]
  },
  {
   "cell_type": "code",
   "execution_count": 331,
   "metadata": {},
   "outputs": [
    {
     "data": {
      "text/plain": [
       "array(['peak_1.12979_0_60', 'peak_10.13027_40_60', 'peak_100.31864_0_73',\n",
       "       ..., 'peak_997.ENST00000595858.5_1520_1560',\n",
       "       'peak_998.ENST00000596502.1_320_360',\n",
       "       'peak_999.ENST00000596663.5_1560_1580'], dtype=object)"
      ]
     },
     "execution_count": 331,
     "metadata": {},
     "output_type": "execute_result"
    }
   ],
   "source": [
    "binfeaturename"
   ]
  },
  {
   "cell_type": "code",
   "execution_count": 332,
   "metadata": {},
   "outputs": [
    {
     "data": {
      "text/plain": [
       "array(['peak_1.12979_0_60', 'peak_10.13027_40_60', 'peak_100.31864_0_73',\n",
       "       ..., 'peak_997.ENST00000595858.5_1520_1560',\n",
       "       'peak_998.ENST00000596502.1_320_360',\n",
       "       'peak_999.ENST00000596663.5_1560_1580'], dtype=object)"
      ]
     },
     "execution_count": 332,
     "metadata": {},
     "output_type": "execute_result"
    }
   ],
   "source": [
    "binfeaturenamesplit"
   ]
  },
  {
   "cell_type": "code",
   "execution_count": 445,
   "metadata": {},
   "outputs": [],
   "source": [
    "nametranslation = pd.read_table('/Share/home/shibinbin/projects/exRNA/data/annotation/transcript_table/all.txt',dtype='str')\n"
   ]
  },
  {
   "cell_type": "code",
   "execution_count": 475,
   "metadata": {
    "scrolled": true
   },
   "outputs": [
    {
     "data": {
      "text/plain": [
       "(array([], dtype=int64),)"
      ]
     },
     "execution_count": 475,
     "metadata": {},
     "output_type": "execute_result"
    }
   ],
   "source": [
    "np.where(nametranslation['gene_name']=='1')"
   ]
  },
  {
   "cell_type": "code",
   "execution_count": 448,
   "metadata": {
    "scrolled": true
   },
   "outputs": [
    {
     "data": {
      "text/plain": [
       "0                piR-hsa-18438\n",
       "1                    MIR6859-1\n",
       "2                 piR-hsa-7508\n",
       "3                piR-hsa-23387\n",
       "4                  MIR1302-2HG\n",
       "5                  MIR1302-2HG\n",
       "6                    MIR1302-2\n",
       "7                piR-hsa-27273\n",
       "8                      FAM138A\n",
       "9                      FAM138A\n",
       "10               piR-hsa-20283\n",
       "11               piR-hsa-20282\n",
       "12               piR-hsa-20281\n",
       "13               piR-hsa-32653\n",
       "14               piR-hsa-22415\n",
       "15               piR-hsa-30937\n",
       "16               piR-hsa-10337\n",
       "17                       OR4F5\n",
       "18                       OR4F5\n",
       "19                piR-hsa-1745\n",
       "20               piR-hsa-23999\n",
       "21               piR-hsa-24909\n",
       "22               piR-hsa-25715\n",
       "23               piR-hsa-29260\n",
       "24               piR-hsa-12461\n",
       "25               piR-hsa-20420\n",
       "26                  AL627309.1\n",
       "27                  AL627309.3\n",
       "28                  AL627309.1\n",
       "29             piR-hsa-23387_2\n",
       "                  ...         \n",
       "1040215         piR-hsa-4832_3\n",
       "1040216     piR-hsa-13505_1216\n",
       "1040217     piR-hsa-32724_3858\n",
       "1040218      piR-hsa-2278_3816\n",
       "1040219        piR-hsa-2621_74\n",
       "1040220      piR-hsa-25079_193\n",
       "1040221     piR-hsa-22419_3378\n",
       "1040222     piR-hsa-22964_1801\n",
       "1040223     piR-hsa-22419_3379\n",
       "1040224       piR-hsa-3426_334\n",
       "1040225    piR-hsa-27032_18873\n",
       "1040226      piR-hsa-19303_254\n",
       "1040227       piR-hsa-13596_38\n",
       "1040228         piR-hsa-917_22\n",
       "1040229    piR-hsa-15404_44287\n",
       "1040230    piR-hsa-21000_92656\n",
       "1040231        piR-hsa-15058_6\n",
       "1040232                   IL9R\n",
       "1040233                   IL9R\n",
       "1040234                   IL9R\n",
       "1040235      piR-hsa-3586_3767\n",
       "1040236             AJ271736.1\n",
       "1040237                   IL9R\n",
       "1040238    piR-hsa-21000_92657\n",
       "1040239                 WASIR1\n",
       "1040240      piR-hsa-5299_3135\n",
       "1040241    piR-hsa-21000_92658\n",
       "1040242    piR-hsa-15406_18975\n",
       "1040243         piR-hsa-7508_9\n",
       "1040244        piR-hsa-14170_5\n",
       "Name: gene_name, Length: 1040245, dtype: object"
      ]
     },
     "execution_count": 448,
     "metadata": {},
     "output_type": "execute_result"
    }
   ],
   "source": [
    "nametranslation['gene_name']"
   ]
  },
  {
   "cell_type": "code",
   "execution_count": 52,
   "metadata": {
    "deletable": false,
    "editable": false,
    "run_control": {
     "frozen": true
    }
   },
   "outputs": [
    {
     "data": {
      "application/vnd.jupyter.widget-view+json": {
       "model_id": "0080e5e48e1a45839de172ba3b055e62",
       "version_major": 2,
       "version_minor": 0
      },
      "text/html": [
       "<p>Failed to display Jupyter Widget of type <code>HBox</code>.</p>\n",
       "<p>\n",
       "  If you're reading this message in the Jupyter Notebook or JupyterLab Notebook, it may mean\n",
       "  that the widgets JavaScript is still loading. If this message persists, it\n",
       "  likely means that the widgets JavaScript library is either not installed or\n",
       "  not enabled. See the <a href=\"https://ipywidgets.readthedocs.io/en/stable/user_install.html\">Jupyter\n",
       "  Widgets Documentation</a> for setup instructions.\n",
       "</p>\n",
       "<p>\n",
       "  If you're reading this message in another frontend (for example, a static\n",
       "  rendering on GitHub or <a href=\"https://nbviewer.jupyter.org/\">NBViewer</a>),\n",
       "  it may mean that your frontend doesn't currently support widgets.\n",
       "</p>\n"
      ],
      "text/plain": [
       "HBox(children=(IntProgress(value=0, max=1), HTML(value='')))"
      ]
     },
     "metadata": {},
     "output_type": "display_data"
    }
   ],
   "source": [
    "for i in tqdm(np.where(nametranslation[:,2] =='Y_RNA')):\n",
    "    nametranslation[i,2] = nametranslation[i,1]\n",
    "np.savetxt('new_feature/name_translation.txt',nametranslation,fmt='%s')"
   ]
  },
  {
   "cell_type": "code",
   "execution_count": 450,
   "metadata": {},
   "outputs": [
    {
     "data": {
      "text/plain": [
       "array(['peak_1.12979_0_60', 'peak_10.13027_40_60', 'peak_100.31864_0_73',\n",
       "       ..., 'peak_997.ENST00000595858.5_1520_1560',\n",
       "       'peak_998.ENST00000596502.1_320_360',\n",
       "       'peak_999.ENST00000596663.5_1560_1580'], dtype=object)"
      ]
     },
     "execution_count": 450,
     "metadata": {},
     "output_type": "execute_result"
    }
   ],
   "source": [
    "binfeaturenamesplit"
   ]
  },
  {
   "cell_type": "code",
   "execution_count": 449,
   "metadata": {},
   "outputs": [
    {
     "data": {
      "text/plain": [
       "(array([], dtype=int64),)"
      ]
     },
     "execution_count": 449,
     "metadata": {},
     "output_type": "execute_result"
    }
   ],
   "source": [
    "np.where(nametranslation['transcript_id'] ==binfeaturenamesplit[10])"
   ]
  },
  {
   "cell_type": "code",
   "execution_count": 439,
   "metadata": {},
   "outputs": [
    {
     "data": {
      "text/plain": [
       "array(['DDX11L1', 'DDX11L1', 'WASH7P', ..., '28569', '35969', '26266'],\n",
       "      dtype='<U18')"
      ]
     },
     "execution_count": 439,
     "metadata": {},
     "output_type": "execute_result"
    }
   ],
   "source": [
    "nametranslation[:,4]"
   ]
  },
  {
   "cell_type": "markdown",
   "metadata": {},
   "source": [
    "## 去掉featurename前缀 full bin"
   ]
  },
  {
   "cell_type": "code",
   "execution_count": 333,
   "metadata": {
    "deletable": false,
    "editable": false,
    "run_control": {
     "frozen": true
    }
   },
   "outputs": [
    {
     "ename": "NameError",
     "evalue": "name 'fullfeaturename' is not defined",
     "output_type": "error",
     "traceback": [
      "\u001b[0;31m---------------------------------------------------------------------------\u001b[0m",
      "\u001b[0;31mNameError\u001b[0m                                 Traceback (most recent call last)",
      "\u001b[0;32m<ipython-input-333-a0fd71a4fb9e>\u001b[0m in \u001b[0;36m<module>\u001b[0;34m()\u001b[0m\n\u001b[0;32m----> 1\u001b[0;31m \u001b[0mstripfullfeaturename\u001b[0m \u001b[0;34m=\u001b[0m \u001b[0mnp\u001b[0m\u001b[0;34m.\u001b[0m\u001b[0marray\u001b[0m\u001b[0;34m(\u001b[0m\u001b[0mpd\u001b[0m\u001b[0;34m.\u001b[0m\u001b[0mSeries\u001b[0m\u001b[0;34m(\u001b[0m\u001b[0mfullfeaturename\u001b[0m\u001b[0;34m)\u001b[0m\u001b[0;34m.\u001b[0m\u001b[0mstr\u001b[0m\u001b[0;34m.\u001b[0m\u001b[0mextract\u001b[0m\u001b[0;34m(\u001b[0m\u001b[0;34m'^.+RNA_(.*)$'\u001b[0m\u001b[0;34m,\u001b[0m \u001b[0mexpand\u001b[0m\u001b[0;34m=\u001b[0m\u001b[0;32mFalse\u001b[0m\u001b[0;34m)\u001b[0m\u001b[0;34m)\u001b[0m\u001b[0;34m\u001b[0m\u001b[0m\n\u001b[0m",
      "\u001b[0;31mNameError\u001b[0m: name 'fullfeaturename' is not defined"
     ]
    }
   ],
   "source": [
    "stripfullfeaturename = np.array(pd.Series(fullfeaturename).str.extract('^.+RNA_(.*)$', expand=False))"
   ]
  },
  {
   "cell_type": "code",
   "execution_count": 461,
   "metadata": {},
   "outputs": [],
   "source": [
    "stripbinfeaturename = np.array(pd.Series(binfeaturename).str.extract('^([^\\.]+)\\.(.*)_([0-9]+)_([0-9]+)$', expand=False))[:,1]"
   ]
  },
  {
   "cell_type": "code",
   "execution_count": 335,
   "metadata": {
    "deletable": false,
    "editable": false,
    "run_control": {
     "frozen": true
    }
   },
   "outputs": [],
   "source": [
    "stripbinfeaturename  = np.array(pd.Series(binfeaturename).str.extract('^.+RNA_(.*)$', expand=False))"
   ]
  },
  {
   "cell_type": "markdown",
   "metadata": {},
   "source": [
    "## 对应好，改name，然后加上full或者bin"
   ]
  },
  {
   "cell_type": "code",
   "execution_count": 458,
   "metadata": {},
   "outputs": [
    {
     "data": {
      "text/plain": [
       "array(['piR-hsa-18438', 'ENST00000619216.1', 'piR-hsa-7508', ...,\n",
       "       'piR-hsa-15406_18975', 'piR-hsa-7508_9', 'piR-hsa-14170_5'],\n",
       "      dtype=object)"
      ]
     },
     "execution_count": 458,
     "metadata": {},
     "output_type": "execute_result"
    }
   ],
   "source": [
    "np.array(nametranslation['transcript_id'])"
   ]
  },
  {
   "cell_type": "code",
   "execution_count": 462,
   "metadata": {},
   "outputs": [
    {
     "data": {
      "text/plain": [
       "array(['12979', '13027', '31864', ..., 'ENST00000595858.5',\n",
       "       'ENST00000596502.1', 'ENST00000596663.5'], dtype=object)"
      ]
     },
     "execution_count": 462,
     "metadata": {},
     "output_type": "execute_result"
    }
   ],
   "source": [
    "stripbinfeaturename"
   ]
  },
  {
   "cell_type": "code",
   "execution_count": 477,
   "metadata": {
    "scrolled": true
   },
   "outputs": [
    {
     "name": "stderr",
     "output_type": "stream",
     "text": [
      "\n",
      "  0%|          | 0/1727 [00:00<?, ?it/s]\u001b[A\n",
      "  0%|          | 2/1727 [00:00<02:20, 12.25it/s]\u001b[A"
     ]
    },
    {
     "name": "stdout",
     "output_type": "stream",
     "text": [
      "0\n",
      "1\n",
      "2\n"
     ]
    },
    {
     "name": "stderr",
     "output_type": "stream",
     "text": [
      "\n",
      "  0%|          | 4/1727 [00:00<01:57, 14.65it/s]\u001b[A\n",
      "  0%|          | 6/1727 [00:00<01:50, 15.64it/s]\u001b[A"
     ]
    },
    {
     "name": "stdout",
     "output_type": "stream",
     "text": [
      "3\n",
      "4\n",
      "5\n",
      "6\n"
     ]
    },
    {
     "name": "stderr",
     "output_type": "stream",
     "text": [
      "\n",
      "  0%|          | 8/1727 [00:00<01:56, 14.81it/s]\u001b[A\n",
      "  1%|          | 10/1727 [00:00<01:59, 14.31it/s]\u001b[A"
     ]
    },
    {
     "name": "stdout",
     "output_type": "stream",
     "text": [
      "7\n",
      "8\n",
      "9\n"
     ]
    },
    {
     "name": "stderr",
     "output_type": "stream",
     "text": [
      "\n",
      "  1%|          | 12/1727 [00:00<02:06, 13.61it/s]\u001b[A"
     ]
    },
    {
     "name": "stdout",
     "output_type": "stream",
     "text": [
      "10\n",
      "11\n",
      "12\n"
     ]
    },
    {
     "name": "stderr",
     "output_type": "stream",
     "text": [
      "\n",
      "  1%|          | 14/1727 [00:01<02:05, 13.65it/s]\u001b[A\n",
      "  1%|          | 16/1727 [00:01<02:05, 13.67it/s]\u001b[A"
     ]
    },
    {
     "name": "stdout",
     "output_type": "stream",
     "text": [
      "13\n",
      "14\n",
      "15\n"
     ]
    },
    {
     "name": "stderr",
     "output_type": "stream",
     "text": [
      "\n",
      "  1%|          | 18/1727 [00:01<02:04, 13.71it/s]\u001b[A"
     ]
    },
    {
     "name": "stdout",
     "output_type": "stream",
     "text": [
      "16\n",
      "17\n",
      "18\n"
     ]
    },
    {
     "name": "stderr",
     "output_type": "stream",
     "text": [
      "\n",
      "  1%|          | 20/1727 [00:01<02:05, 13.63it/s]\u001b[A\n",
      "  1%|▏         | 22/1727 [00:01<02:05, 13.57it/s]\u001b[A"
     ]
    },
    {
     "name": "stdout",
     "output_type": "stream",
     "text": [
      "19\n",
      "20\n",
      "21\n"
     ]
    },
    {
     "name": "stderr",
     "output_type": "stream",
     "text": [
      "\n",
      "  1%|▏         | 24/1727 [00:01<02:05, 13.56it/s]\u001b[A"
     ]
    },
    {
     "name": "stdout",
     "output_type": "stream",
     "text": [
      "22\n",
      "23\n",
      "24\n"
     ]
    },
    {
     "name": "stderr",
     "output_type": "stream",
     "text": [
      "\n",
      "  2%|▏         | 26/1727 [00:01<02:06, 13.50it/s]\u001b[A\n",
      "  2%|▏         | 28/1727 [00:02<02:06, 13.48it/s]\u001b[A"
     ]
    },
    {
     "name": "stdout",
     "output_type": "stream",
     "text": [
      "25\n",
      "26\n",
      "27\n"
     ]
    },
    {
     "name": "stderr",
     "output_type": "stream",
     "text": [
      "\n",
      "  2%|▏         | 30/1727 [00:02<02:07, 13.34it/s]\u001b[A"
     ]
    },
    {
     "name": "stdout",
     "output_type": "stream",
     "text": [
      "28\n",
      "29\n",
      "30\n"
     ]
    },
    {
     "name": "stderr",
     "output_type": "stream",
     "text": [
      "\n",
      "  2%|▏         | 32/1727 [00:02<02:06, 13.41it/s]\u001b[A\n",
      "  2%|▏         | 34/1727 [00:02<02:06, 13.41it/s]\u001b[A"
     ]
    },
    {
     "name": "stdout",
     "output_type": "stream",
     "text": [
      "31\n",
      "32\n",
      "33\n"
     ]
    },
    {
     "name": "stderr",
     "output_type": "stream",
     "text": [
      "\n",
      "  2%|▏         | 36/1727 [00:02<02:05, 13.44it/s]\u001b[A"
     ]
    },
    {
     "name": "stdout",
     "output_type": "stream",
     "text": [
      "34\n",
      "35\n",
      "36\n"
     ]
    },
    {
     "name": "stderr",
     "output_type": "stream",
     "text": [
      "\n",
      "  2%|▏         | 38/1727 [00:02<02:06, 13.38it/s]\u001b[A\n",
      "  2%|▏         | 40/1727 [00:02<02:04, 13.50it/s]\u001b[A"
     ]
    },
    {
     "name": "stdout",
     "output_type": "stream",
     "text": [
      "37\n",
      "38\n",
      "39\n",
      "40\n"
     ]
    },
    {
     "name": "stderr",
     "output_type": "stream",
     "text": [
      "\n",
      "  2%|▏         | 42/1727 [00:03<02:03, 13.66it/s]\u001b[A\n",
      "  3%|▎         | 44/1727 [00:03<02:02, 13.71it/s]\u001b[A"
     ]
    },
    {
     "name": "stdout",
     "output_type": "stream",
     "text": [
      "41\n",
      "42\n",
      "43\n",
      "44\n"
     ]
    },
    {
     "name": "stderr",
     "output_type": "stream",
     "text": [
      "\n",
      "  3%|▎         | 46/1727 [00:03<02:02, 13.75it/s]\u001b[A\n",
      "  3%|▎         | 48/1727 [00:03<02:00, 13.90it/s]\u001b[A"
     ]
    },
    {
     "name": "stdout",
     "output_type": "stream",
     "text": [
      "45\n",
      "46\n",
      "48\n"
     ]
    },
    {
     "name": "stderr",
     "output_type": "stream",
     "text": [
      "\n",
      "  3%|▎         | 50/1727 [00:03<02:02, 13.64it/s]\u001b[A\n",
      "  3%|▎         | 52/1727 [00:03<02:01, 13.74it/s]\u001b[A"
     ]
    },
    {
     "name": "stdout",
     "output_type": "stream",
     "text": [
      "49\n",
      "50\n",
      "51\n",
      "52\n"
     ]
    },
    {
     "name": "stderr",
     "output_type": "stream",
     "text": [
      "\n",
      "  3%|▎         | 54/1727 [00:03<02:00, 13.84it/s]\u001b[A\n",
      "  3%|▎         | 56/1727 [00:04<01:59, 13.94it/s]\u001b[A"
     ]
    },
    {
     "name": "stdout",
     "output_type": "stream",
     "text": [
      "53\n",
      "54\n",
      "55\n",
      "56\n"
     ]
    },
    {
     "name": "stderr",
     "output_type": "stream",
     "text": [
      "\n",
      "  3%|▎         | 58/1727 [00:04<01:59, 14.00it/s]\u001b[A\n",
      "  3%|▎         | 60/1727 [00:04<01:58, 14.08it/s]\u001b[A"
     ]
    },
    {
     "name": "stdout",
     "output_type": "stream",
     "text": [
      "57\n",
      "58\n",
      "59\n",
      "60\n"
     ]
    },
    {
     "name": "stderr",
     "output_type": "stream",
     "text": [
      "\n",
      "  4%|▎         | 62/1727 [00:04<01:57, 14.13it/s]\u001b[A\n",
      "  4%|▎         | 64/1727 [00:04<01:57, 14.17it/s]\u001b[A"
     ]
    },
    {
     "name": "stdout",
     "output_type": "stream",
     "text": [
      "61\n",
      "62\n",
      "63\n",
      "64\n"
     ]
    },
    {
     "name": "stderr",
     "output_type": "stream",
     "text": [
      "\n",
      "  4%|▍         | 66/1727 [00:04<01:56, 14.23it/s]\u001b[A\n",
      "  4%|▍         | 68/1727 [00:04<01:55, 14.31it/s]\u001b[A"
     ]
    },
    {
     "name": "stdout",
     "output_type": "stream",
     "text": [
      "65\n",
      "66\n",
      "67\n",
      "68\n"
     ]
    },
    {
     "name": "stderr",
     "output_type": "stream",
     "text": [
      "\n",
      "  4%|▍         | 70/1727 [00:04<01:55, 14.36it/s]\u001b[A\n",
      "  4%|▍         | 72/1727 [00:04<01:54, 14.42it/s]\u001b[A"
     ]
    },
    {
     "name": "stdout",
     "output_type": "stream",
     "text": [
      "69\n",
      "70\n",
      "71\n",
      "72\n"
     ]
    },
    {
     "name": "stderr",
     "output_type": "stream",
     "text": [
      "\n",
      "  4%|▍         | 74/1727 [00:05<01:54, 14.49it/s]\u001b[A\n",
      "  4%|▍         | 76/1727 [00:05<01:53, 14.51it/s]\u001b[A"
     ]
    },
    {
     "name": "stdout",
     "output_type": "stream",
     "text": [
      "73\n",
      "74\n",
      "75\n",
      "76\n"
     ]
    },
    {
     "name": "stderr",
     "output_type": "stream",
     "text": [
      "\n",
      "  5%|▍         | 78/1727 [00:05<01:53, 14.57it/s]\u001b[A\n",
      "  5%|▍         | 80/1727 [00:05<01:52, 14.60it/s]\u001b[A"
     ]
    },
    {
     "name": "stdout",
     "output_type": "stream",
     "text": [
      "77\n",
      "78\n",
      "79\n",
      "80\n"
     ]
    },
    {
     "name": "stderr",
     "output_type": "stream",
     "text": [
      "\n",
      "  5%|▍         | 82/1727 [00:05<01:52, 14.66it/s]\u001b[A\n",
      "  5%|▍         | 84/1727 [00:05<01:51, 14.71it/s]\u001b[A"
     ]
    },
    {
     "name": "stdout",
     "output_type": "stream",
     "text": [
      "81\n",
      "82\n",
      "83\n",
      "84\n"
     ]
    },
    {
     "name": "stderr",
     "output_type": "stream",
     "text": [
      "\n",
      "  5%|▍         | 86/1727 [00:05<01:51, 14.76it/s]\u001b[A\n",
      "  5%|▌         | 88/1727 [00:05<01:50, 14.82it/s]\u001b[A"
     ]
    },
    {
     "name": "stdout",
     "output_type": "stream",
     "text": [
      "85\n",
      "86\n",
      "87\n",
      "88\n"
     ]
    },
    {
     "name": "stderr",
     "output_type": "stream",
     "text": [
      "\n",
      "  5%|▌         | 90/1727 [00:06<01:50, 14.82it/s]\u001b[A\n",
      "  5%|▌         | 92/1727 [00:06<01:49, 14.88it/s]\u001b[A"
     ]
    },
    {
     "name": "stdout",
     "output_type": "stream",
     "text": [
      "89\n",
      "90\n",
      "91\n",
      "92\n"
     ]
    },
    {
     "name": "stderr",
     "output_type": "stream",
     "text": [
      "\n",
      "  5%|▌         | 94/1727 [00:06<01:49, 14.93it/s]\u001b[A\n",
      "  6%|▌         | 96/1727 [00:06<01:49, 14.96it/s]\u001b[A"
     ]
    },
    {
     "name": "stdout",
     "output_type": "stream",
     "text": [
      "93\n",
      "94\n",
      "95\n",
      "96\n"
     ]
    },
    {
     "name": "stderr",
     "output_type": "stream",
     "text": [
      "\n",
      "  6%|▌         | 98/1727 [00:06<01:48, 15.00it/s]\u001b[A\n",
      "  6%|▌         | 100/1727 [00:06<01:48, 15.05it/s]\u001b[A"
     ]
    },
    {
     "name": "stdout",
     "output_type": "stream",
     "text": [
      "97\n",
      "98\n",
      "99\n",
      "100\n"
     ]
    },
    {
     "name": "stderr",
     "output_type": "stream",
     "text": [
      "\n",
      "  6%|▌         | 102/1727 [00:06<01:47, 15.05it/s]\u001b[A\n",
      "  6%|▌         | 104/1727 [00:06<01:47, 15.07it/s]\u001b[A"
     ]
    },
    {
     "name": "stdout",
     "output_type": "stream",
     "text": [
      "101\n",
      "102\n",
      "103\n"
     ]
    },
    {
     "name": "stderr",
     "output_type": "stream",
     "text": [
      "\n",
      "  6%|▌         | 106/1727 [00:07<01:47, 15.12it/s]\u001b[A\n",
      "  6%|▋         | 108/1727 [00:07<01:46, 15.18it/s]\u001b[A"
     ]
    },
    {
     "name": "stdout",
     "output_type": "stream",
     "text": [
      "104\n",
      "105\n",
      "106\n",
      "107\n"
     ]
    },
    {
     "name": "stderr",
     "output_type": "stream",
     "text": [
      "\n",
      "  6%|▋         | 110/1727 [00:07<01:46, 15.23it/s]\u001b[A\n",
      "  6%|▋         | 112/1727 [00:07<01:45, 15.28it/s]\u001b[A"
     ]
    },
    {
     "name": "stdout",
     "output_type": "stream",
     "text": [
      "108\n",
      "109\n",
      "110\n",
      "111\n"
     ]
    },
    {
     "name": "stderr",
     "output_type": "stream",
     "text": [
      "\n",
      "  7%|▋         | 114/1727 [00:07<01:45, 15.34it/s]\u001b[A\n",
      "  7%|▋         | 116/1727 [00:07<01:44, 15.38it/s]\u001b[A"
     ]
    },
    {
     "name": "stdout",
     "output_type": "stream",
     "text": [
      "112\n",
      "113\n",
      "114\n",
      "115\n"
     ]
    },
    {
     "name": "stderr",
     "output_type": "stream",
     "text": [
      "\n",
      "  7%|▋         | 118/1727 [00:07<01:44, 15.43it/s]\u001b[A\n",
      "  7%|▋         | 120/1727 [00:07<01:43, 15.47it/s]\u001b[A"
     ]
    },
    {
     "name": "stdout",
     "output_type": "stream",
     "text": [
      "116\n",
      "117\n",
      "118\n",
      "119\n"
     ]
    },
    {
     "name": "stderr",
     "output_type": "stream",
     "text": [
      "\n",
      "  7%|▋         | 122/1727 [00:07<01:43, 15.48it/s]\u001b[A\n",
      "  7%|▋         | 124/1727 [00:07<01:43, 15.52it/s]\u001b[A"
     ]
    },
    {
     "name": "stdout",
     "output_type": "stream",
     "text": [
      "120\n",
      "121\n",
      "122\n",
      "123\n"
     ]
    },
    {
     "name": "stderr",
     "output_type": "stream",
     "text": [
      "\n",
      "  7%|▋         | 126/1727 [00:08<01:42, 15.57it/s]\u001b[A\n",
      "  7%|▋         | 128/1727 [00:08<01:42, 15.62it/s]\u001b[A"
     ]
    },
    {
     "name": "stdout",
     "output_type": "stream",
     "text": [
      "124\n",
      "125\n",
      "126\n",
      "127\n"
     ]
    },
    {
     "name": "stderr",
     "output_type": "stream",
     "text": [
      "\n",
      "  8%|▊         | 130/1727 [00:08<01:42, 15.64it/s]\u001b[A\n",
      "  8%|▊         | 132/1727 [00:08<01:41, 15.68it/s]\u001b[A"
     ]
    },
    {
     "name": "stdout",
     "output_type": "stream",
     "text": [
      "128\n",
      "129\n",
      "130\n",
      "131\n"
     ]
    },
    {
     "name": "stderr",
     "output_type": "stream",
     "text": [
      "\n",
      "  8%|▊         | 134/1727 [00:08<01:41, 15.62it/s]\u001b[A"
     ]
    },
    {
     "name": "stdout",
     "output_type": "stream",
     "text": [
      "132\n",
      "133\n",
      "134\n"
     ]
    },
    {
     "name": "stderr",
     "output_type": "stream",
     "text": [
      "\n",
      "  8%|▊         | 136/1727 [00:08<01:41, 15.61it/s]\u001b[A\n",
      "  8%|▊         | 138/1727 [00:08<01:41, 15.61it/s]\u001b[A"
     ]
    },
    {
     "name": "stdout",
     "output_type": "stream",
     "text": [
      "135\n",
      "136\n",
      "137\n",
      "138\n"
     ]
    },
    {
     "name": "stderr",
     "output_type": "stream",
     "text": [
      "\n",
      "  8%|▊         | 140/1727 [00:08<01:41, 15.60it/s]\u001b[A\n",
      "  8%|▊         | 142/1727 [00:09<01:41, 15.60it/s]\u001b[A"
     ]
    },
    {
     "name": "stdout",
     "output_type": "stream",
     "text": [
      "139\n",
      "140\n",
      "141\n"
     ]
    },
    {
     "name": "stderr",
     "output_type": "stream",
     "text": [
      "\n",
      "  8%|▊         | 144/1727 [00:09<01:41, 15.57it/s]\u001b[A"
     ]
    },
    {
     "name": "stdout",
     "output_type": "stream",
     "text": [
      "142\n",
      "143\n",
      "144\n",
      "145\n"
     ]
    },
    {
     "name": "stderr",
     "output_type": "stream",
     "text": [
      "\n",
      "  8%|▊         | 146/1727 [00:09<01:41, 15.57it/s]\u001b[A\n",
      "  9%|▊         | 148/1727 [00:09<01:41, 15.58it/s]\u001b[A"
     ]
    },
    {
     "name": "stdout",
     "output_type": "stream",
     "text": [
      "146\n",
      "147\n",
      "148\n",
      "149\n"
     ]
    },
    {
     "name": "stderr",
     "output_type": "stream",
     "text": [
      "\n",
      "  9%|▊         | 150/1727 [00:09<01:41, 15.57it/s]\u001b[A\n",
      "  9%|▉         | 152/1727 [00:09<01:41, 15.56it/s]\u001b[A"
     ]
    },
    {
     "name": "stdout",
     "output_type": "stream",
     "text": [
      "150\n",
      "151\n",
      "152\n"
     ]
    },
    {
     "name": "stderr",
     "output_type": "stream",
     "text": [
      "\n",
      "  9%|▉         | 154/1727 [00:09<01:41, 15.52it/s]\u001b[A\n",
      "  9%|▉         | 156/1727 [00:10<01:41, 15.52it/s]\u001b[A"
     ]
    },
    {
     "name": "stdout",
     "output_type": "stream",
     "text": [
      "153\n",
      "154\n",
      "155\n",
      "156\n"
     ]
    },
    {
     "name": "stderr",
     "output_type": "stream",
     "text": [
      "\n",
      "  9%|▉         | 158/1727 [00:10<01:41, 15.53it/s]\u001b[A\n",
      "  9%|▉         | 160/1727 [00:10<01:40, 15.53it/s]\u001b[A"
     ]
    },
    {
     "name": "stdout",
     "output_type": "stream",
     "text": [
      "157\n",
      "158\n",
      "159\n",
      "160\n"
     ]
    },
    {
     "name": "stderr",
     "output_type": "stream",
     "text": [
      "\n",
      "  9%|▉         | 162/1727 [00:10<01:40, 15.51it/s]\u001b[A\n",
      "  9%|▉         | 164/1727 [00:10<01:40, 15.50it/s]\u001b[A"
     ]
    },
    {
     "name": "stdout",
     "output_type": "stream",
     "text": [
      "161\n",
      "162\n",
      "163\n"
     ]
    },
    {
     "name": "stderr",
     "output_type": "stream",
     "text": [
      "\n",
      " 10%|▉         | 166/1727 [00:10<01:40, 15.50it/s]\u001b[A"
     ]
    },
    {
     "name": "stdout",
     "output_type": "stream",
     "text": [
      "164\n",
      "165\n",
      "166\n",
      "167\n"
     ]
    },
    {
     "name": "stderr",
     "output_type": "stream",
     "text": [
      "\n",
      " 10%|▉         | 168/1727 [00:10<01:40, 15.50it/s]\u001b[A\n",
      " 10%|▉         | 170/1727 [00:10<01:40, 15.50it/s]\u001b[A"
     ]
    },
    {
     "name": "stdout",
     "output_type": "stream",
     "text": [
      "168\n",
      "169\n",
      "170\n",
      "171\n"
     ]
    },
    {
     "name": "stderr",
     "output_type": "stream",
     "text": [
      "\n",
      " 10%|▉         | 172/1727 [00:11<01:40, 15.50it/s]\u001b[A\n",
      " 10%|█         | 174/1727 [00:11<01:40, 15.50it/s]\u001b[A"
     ]
    },
    {
     "name": "stdout",
     "output_type": "stream",
     "text": [
      "172\n",
      "173\n",
      "174\n",
      "175\n"
     ]
    },
    {
     "name": "stderr",
     "output_type": "stream",
     "text": [
      "\n",
      " 10%|█         | 176/1727 [00:11<01:40, 15.49it/s]\u001b[A\n",
      " 10%|█         | 178/1727 [00:11<01:40, 15.49it/s]\u001b[A"
     ]
    },
    {
     "name": "stdout",
     "output_type": "stream",
     "text": [
      "176\n",
      "177\n",
      "178\n",
      "179\n"
     ]
    },
    {
     "name": "stderr",
     "output_type": "stream",
     "text": [
      "\n",
      " 10%|█         | 180/1727 [00:11<01:39, 15.49it/s]\u001b[A\n",
      " 11%|█         | 182/1727 [00:11<01:39, 15.46it/s]\u001b[A"
     ]
    },
    {
     "name": "stdout",
     "output_type": "stream",
     "text": [
      "180\n",
      "181\n",
      "182\n"
     ]
    },
    {
     "name": "stderr",
     "output_type": "stream",
     "text": [
      "\n",
      " 11%|█         | 184/1727 [00:11<01:39, 15.46it/s]\u001b[A\n",
      " 11%|█         | 186/1727 [00:12<01:39, 15.46it/s]\u001b[A"
     ]
    },
    {
     "name": "stdout",
     "output_type": "stream",
     "text": [
      "183\n",
      "184\n",
      "185\n",
      "186\n"
     ]
    },
    {
     "name": "stderr",
     "output_type": "stream",
     "text": [
      "\n",
      " 11%|█         | 188/1727 [00:12<01:39, 15.47it/s]\u001b[A"
     ]
    },
    {
     "name": "stdout",
     "output_type": "stream",
     "text": [
      "187\n",
      "188\n",
      "189\n"
     ]
    },
    {
     "name": "stderr",
     "output_type": "stream",
     "text": [
      "\n",
      " 11%|█         | 190/1727 [00:12<01:39, 15.38it/s]\u001b[A\n",
      " 11%|█         | 192/1727 [00:12<01:39, 15.41it/s]\u001b[A\n",
      " 11%|█         | 194/1727 [00:12<01:39, 15.44it/s]\u001b[A"
     ]
    },
    {
     "name": "stdout",
     "output_type": "stream",
     "text": [
      "190\n",
      "191\n",
      "192\n",
      "193\n"
     ]
    },
    {
     "name": "stderr",
     "output_type": "stream",
     "text": [
      "\n",
      " 11%|█▏        | 196/1727 [00:12<01:39, 15.41it/s]\u001b[A"
     ]
    },
    {
     "name": "stdout",
     "output_type": "stream",
     "text": [
      "194\n",
      "195\n",
      "196\n",
      "197\n"
     ]
    },
    {
     "name": "stderr",
     "output_type": "stream",
     "text": [
      "\n",
      " 11%|█▏        | 198/1727 [00:12<01:39, 15.44it/s]\u001b[A\n",
      " 12%|█▏        | 200/1727 [00:12<01:38, 15.47it/s]\u001b[A\n",
      " 12%|█▏        | 202/1727 [00:13<01:38, 15.51it/s]\u001b[A"
     ]
    },
    {
     "name": "stdout",
     "output_type": "stream",
     "text": [
      "198\n",
      "199\n",
      "200\n",
      "201\n"
     ]
    },
    {
     "name": "stderr",
     "output_type": "stream",
     "text": [
      "\n",
      " 12%|█▏        | 204/1727 [00:13<01:38, 15.53it/s]\u001b[A"
     ]
    },
    {
     "name": "stdout",
     "output_type": "stream",
     "text": [
      "202\n",
      "203\n",
      "204\n",
      "206\n"
     ]
    },
    {
     "name": "stderr",
     "output_type": "stream",
     "text": [
      "\n",
      " 12%|█▏        | 207/1727 [00:13<01:37, 15.60it/s]\u001b[A\n",
      " 12%|█▏        | 209/1727 [00:13<01:37, 15.63it/s]\u001b[A\n",
      " 12%|█▏        | 211/1727 [00:13<01:36, 15.65it/s]\u001b[A"
     ]
    },
    {
     "name": "stdout",
     "output_type": "stream",
     "text": [
      "207\n",
      "208\n",
      "209\n",
      "210\n"
     ]
    },
    {
     "name": "stderr",
     "output_type": "stream",
     "text": [
      "\n",
      " 12%|█▏        | 213/1727 [00:13<01:36, 15.67it/s]\u001b[A\n",
      " 12%|█▏        | 215/1727 [00:13<01:36, 15.70it/s]\u001b[A"
     ]
    },
    {
     "name": "stdout",
     "output_type": "stream",
     "text": [
      "211\n",
      "212\n",
      "213\n",
      "214\n"
     ]
    },
    {
     "name": "stderr",
     "output_type": "stream",
     "text": [
      "\n",
      " 13%|█▎        | 218/1727 [00:13<01:35, 15.75it/s]\u001b[A"
     ]
    },
    {
     "name": "stdout",
     "output_type": "stream",
     "text": [
      "215\n",
      "216\n",
      "217\n",
      "218\n"
     ]
    },
    {
     "name": "stderr",
     "output_type": "stream",
     "text": [
      "\n",
      " 13%|█▎        | 220/1727 [00:13<01:35, 15.76it/s]\u001b[A\n",
      " 13%|█▎        | 223/1727 [00:14<01:35, 15.82it/s]\u001b[A"
     ]
    },
    {
     "name": "stdout",
     "output_type": "stream",
     "text": [
      "219\n",
      "220\n",
      "221\n",
      "222\n",
      "223\n"
     ]
    },
    {
     "name": "stderr",
     "output_type": "stream",
     "text": [
      "\n",
      " 13%|█▎        | 225/1727 [00:14<01:34, 15.84it/s]\u001b[A\n",
      " 13%|█▎        | 227/1727 [00:14<01:34, 15.87it/s]\u001b[A"
     ]
    },
    {
     "name": "stdout",
     "output_type": "stream",
     "text": [
      "224\n",
      "225\n",
      "226\n",
      "227\n"
     ]
    },
    {
     "name": "stderr",
     "output_type": "stream",
     "text": [
      "\n",
      " 13%|█▎        | 230/1727 [00:14<01:34, 15.92it/s]\u001b[A"
     ]
    },
    {
     "name": "stdout",
     "output_type": "stream",
     "text": [
      "228\n",
      "229\n",
      "230\n",
      "231\n",
      "232\n"
     ]
    },
    {
     "name": "stderr",
     "output_type": "stream",
     "text": [
      "\n",
      " 13%|█▎        | 233/1727 [00:14<01:33, 15.96it/s]\u001b[A\n",
      " 14%|█▎        | 235/1727 [00:14<01:33, 15.99it/s]\u001b[A"
     ]
    },
    {
     "name": "stdout",
     "output_type": "stream",
     "text": [
      "233\n",
      "234\n",
      "235\n",
      "236\n",
      "237\n"
     ]
    },
    {
     "name": "stderr",
     "output_type": "stream",
     "text": [
      "\n",
      " 14%|█▍        | 238/1727 [00:14<01:32, 16.03it/s]\u001b[A\n",
      " 14%|█▍        | 241/1727 [00:14<01:32, 16.08it/s]\u001b[A"
     ]
    },
    {
     "name": "stdout",
     "output_type": "stream",
     "text": [
      "238\n",
      "239\n"
     ]
    },
    {
     "name": "stderr",
     "output_type": "stream",
     "text": [
      "\n",
      " 14%|█▍        | 245/1727 [00:15<01:31, 16.21it/s]\u001b[A\n",
      " 14%|█▍        | 248/1727 [00:15<01:30, 16.29it/s]\u001b[A\n",
      " 15%|█▍        | 252/1727 [00:15<01:29, 16.43it/s]\u001b[A"
     ]
    },
    {
     "name": "stdout",
     "output_type": "stream",
     "text": [
      "246\n"
     ]
    },
    {
     "name": "stderr",
     "output_type": "stream",
     "text": [
      "\n",
      " 15%|█▍        | 255/1727 [00:15<01:29, 16.52it/s]\u001b[A\n",
      " 15%|█▍        | 258/1727 [00:15<01:28, 16.59it/s]\u001b[A\n",
      " 15%|█▌        | 262/1727 [00:15<01:27, 16.72it/s]\u001b[A"
     ]
    },
    {
     "name": "stdout",
     "output_type": "stream",
     "text": [
      "257\n"
     ]
    },
    {
     "name": "stderr",
     "output_type": "stream",
     "text": [
      "\n",
      " 15%|█▌        | 266/1727 [00:15<01:26, 16.84it/s]\u001b[A\n",
      " 16%|█▌        | 270/1727 [00:15<01:26, 16.93it/s]\u001b[A\n",
      " 16%|█▌        | 274/1727 [00:16<01:25, 17.05it/s]\u001b[A"
     ]
    },
    {
     "name": "stdout",
     "output_type": "stream",
     "text": [
      "268\n"
     ]
    },
    {
     "name": "stderr",
     "output_type": "stream",
     "text": [
      "\n",
      " 16%|█▌        | 278/1727 [00:16<01:24, 17.17it/s]\u001b[A\n",
      " 16%|█▋        | 282/1727 [00:16<01:23, 17.27it/s]\u001b[A\n"
     ]
    },
    {
     "name": "stdout",
     "output_type": "stream",
     "text": [
      "279\n"
     ]
    },
    {
     "name": "stderr",
     "output_type": "stream",
     "text": [
      " 17%|█▋        | 286/1727 [00:16<01:22, 17.38it/s]\u001b[A\n",
      " 17%|█▋        | 290/1727 [00:16<01:22, 17.50it/s]\u001b[A\n",
      " 17%|█▋        | 294/1727 [00:16<01:21, 17.59it/s]\u001b[A"
     ]
    },
    {
     "name": "stdout",
     "output_type": "stream",
     "text": [
      "290\n"
     ]
    },
    {
     "name": "stderr",
     "output_type": "stream",
     "text": [
      "\n",
      " 17%|█▋        | 298/1727 [00:16<01:20, 17.71it/s]\u001b[A\n",
      " 17%|█▋        | 302/1727 [00:16<01:20, 17.79it/s]\u001b[A\n",
      " 18%|█▊        | 306/1727 [00:17<01:19, 17.90it/s]\u001b[A"
     ]
    },
    {
     "name": "stdout",
     "output_type": "stream",
     "text": [
      "301\n"
     ]
    },
    {
     "name": "stderr",
     "output_type": "stream",
     "text": [
      "\n",
      " 18%|█▊        | 310/1727 [00:17<01:18, 18.00it/s]\u001b[A\n",
      " 18%|█▊        | 314/1727 [00:17<01:18, 18.09it/s]\u001b[A\n",
      " 18%|█▊        | 318/1727 [00:17<01:17, 18.20it/s]\u001b[A"
     ]
    },
    {
     "name": "stdout",
     "output_type": "stream",
     "text": [
      "312\n"
     ]
    },
    {
     "name": "stderr",
     "output_type": "stream",
     "text": [
      "\n",
      " 19%|█▊        | 322/1727 [00:17<01:16, 18.30it/s]\u001b[A\n",
      " 19%|█▉        | 326/1727 [00:17<01:16, 18.38it/s]\u001b[A"
     ]
    },
    {
     "name": "stdout",
     "output_type": "stream",
     "text": [
      "323\n"
     ]
    },
    {
     "name": "stderr",
     "output_type": "stream",
     "text": [
      "\n",
      " 19%|█▉        | 330/1727 [00:17<01:15, 18.47it/s]\u001b[A\n",
      " 19%|█▉        | 334/1727 [00:17<01:15, 18.56it/s]\u001b[A\n",
      " 20%|█▉        | 338/1727 [00:18<01:14, 18.61it/s]\u001b[A"
     ]
    },
    {
     "name": "stdout",
     "output_type": "stream",
     "text": [
      "334\n",
      "335\n"
     ]
    },
    {
     "name": "stderr",
     "output_type": "stream",
     "text": [
      "\n",
      " 20%|█▉        | 342/1727 [00:18<01:14, 18.69it/s]\u001b[A\n",
      " 20%|██        | 346/1727 [00:18<01:13, 18.78it/s]\u001b[A\n",
      " 20%|██        | 349/1727 [00:18<01:13, 18.82it/s]\u001b[A"
     ]
    },
    {
     "name": "stdout",
     "output_type": "stream",
     "text": [
      "346\n"
     ]
    },
    {
     "name": "stderr",
     "output_type": "stream",
     "text": [
      "\n",
      " 20%|██        | 353/1727 [00:18<01:12, 18.91it/s]\u001b[A\n",
      " 21%|██        | 357/1727 [00:18<01:12, 19.01it/s]\u001b[A\n",
      " 21%|██        | 361/1727 [00:18<01:11, 19.08it/s]\u001b[A"
     ]
    },
    {
     "name": "stdout",
     "output_type": "stream",
     "text": [
      "357\n"
     ]
    },
    {
     "name": "stderr",
     "output_type": "stream",
     "text": [
      "\n",
      " 21%|██        | 365/1727 [00:19<01:11, 19.17it/s]\u001b[A\n",
      " 21%|██▏       | 369/1727 [00:19<01:10, 19.24it/s]\u001b[A\n",
      " 22%|██▏       | 373/1727 [00:19<01:10, 19.33it/s]\u001b[A"
     ]
    },
    {
     "name": "stdout",
     "output_type": "stream",
     "text": [
      "368\n"
     ]
    },
    {
     "name": "stderr",
     "output_type": "stream",
     "text": [
      "\n",
      " 22%|██▏       | 377/1727 [00:19<01:09, 19.41it/s]\u001b[A\n",
      " 22%|██▏       | 381/1727 [00:19<01:09, 19.48it/s]\u001b[A\n",
      " 22%|██▏       | 385/1727 [00:19<01:08, 19.56it/s]\u001b[A"
     ]
    },
    {
     "name": "stdout",
     "output_type": "stream",
     "text": [
      "379\n"
     ]
    },
    {
     "name": "stderr",
     "output_type": "stream",
     "text": [
      "\n",
      " 23%|██▎       | 389/1727 [00:19<01:08, 19.64it/s]\u001b[A\n",
      " 23%|██▎       | 393/1727 [00:19<01:07, 19.70it/s]\u001b[A"
     ]
    },
    {
     "name": "stdout",
     "output_type": "stream",
     "text": [
      "390\n"
     ]
    },
    {
     "name": "stderr",
     "output_type": "stream",
     "text": [
      "\n",
      " 23%|██▎       | 397/1727 [00:20<01:07, 19.78it/s]\u001b[A\n",
      " 23%|██▎       | 401/1727 [00:20<01:06, 19.85it/s]\u001b[A\n",
      " 23%|██▎       | 405/1727 [00:20<01:06, 19.90it/s]\u001b[A"
     ]
    },
    {
     "name": "stdout",
     "output_type": "stream",
     "text": [
      "401\n"
     ]
    },
    {
     "name": "stderr",
     "output_type": "stream",
     "text": [
      "\n",
      " 24%|██▎       | 409/1727 [00:20<01:05, 19.97it/s]\u001b[A\n",
      " 24%|██▍       | 413/1727 [00:20<01:05, 19.98it/s]\u001b[A\n",
      " 24%|██▍       | 417/1727 [00:20<01:05, 20.05it/s]\u001b[A"
     ]
    },
    {
     "name": "stdout",
     "output_type": "stream",
     "text": [
      "412\n"
     ]
    },
    {
     "name": "stderr",
     "output_type": "stream",
     "text": [
      "\n",
      " 24%|██▍       | 421/1727 [00:20<01:04, 20.11it/s]\u001b[A\n",
      " 25%|██▍       | 424/1727 [00:21<01:04, 20.14it/s]\u001b[A\n",
      " 25%|██▍       | 428/1727 [00:21<01:04, 20.21it/s]\u001b[A"
     ]
    },
    {
     "name": "stdout",
     "output_type": "stream",
     "text": [
      "423\n"
     ]
    },
    {
     "name": "stderr",
     "output_type": "stream",
     "text": [
      "\n",
      " 25%|██▍       | 431/1727 [00:21<01:03, 20.25it/s]\u001b[A\n",
      " 25%|██▌       | 434/1727 [00:21<01:03, 20.29it/s]\u001b[A\n",
      " 25%|██▌       | 437/1727 [00:21<01:03, 20.31it/s]\u001b[A"
     ]
    },
    {
     "name": "stdout",
     "output_type": "stream",
     "text": [
      "434\n"
     ]
    },
    {
     "name": "stderr",
     "output_type": "stream",
     "text": [
      "\n",
      " 26%|██▌       | 441/1727 [00:21<01:03, 20.38it/s]\u001b[A\n",
      " 26%|██▌       | 445/1727 [00:21<01:02, 20.44it/s]\u001b[A\n",
      " 26%|██▌       | 448/1727 [00:21<01:02, 20.45it/s]\u001b[A"
     ]
    },
    {
     "name": "stdout",
     "output_type": "stream",
     "text": [
      "445\n",
      "446\n"
     ]
    },
    {
     "name": "stderr",
     "output_type": "stream",
     "text": [
      "\n",
      " 26%|██▌       | 452/1727 [00:22<01:02, 20.52it/s]\u001b[A\n",
      " 26%|██▋       | 455/1727 [00:22<01:01, 20.56it/s]\u001b[A\n",
      " 27%|██▋       | 458/1727 [00:22<01:01, 20.58it/s]\u001b[A\n",
      " 27%|██▋       | 462/1727 [00:22<01:01, 20.64it/s]\u001b[A"
     ]
    },
    {
     "name": "stdout",
     "output_type": "stream",
     "text": [
      "457\n"
     ]
    },
    {
     "name": "stderr",
     "output_type": "stream",
     "text": [
      "\n",
      " 27%|██▋       | 465/1727 [00:22<01:01, 20.68it/s]\u001b[A\n",
      " 27%|██▋       | 469/1727 [00:22<01:00, 20.72it/s]\u001b[A\n",
      " 27%|██▋       | 473/1727 [00:22<01:00, 20.78it/s]\u001b[A"
     ]
    },
    {
     "name": "stdout",
     "output_type": "stream",
     "text": [
      "468\n"
     ]
    },
    {
     "name": "stderr",
     "output_type": "stream",
     "text": [
      "\n",
      " 28%|██▊       | 477/1727 [00:22<00:59, 20.84it/s]\u001b[A\n",
      " 28%|██▊       | 480/1727 [00:23<00:59, 20.86it/s]\u001b[A\n",
      " 28%|██▊       | 484/1727 [00:23<00:59, 20.91it/s]\u001b[A"
     ]
    },
    {
     "name": "stdout",
     "output_type": "stream",
     "text": [
      "479\n"
     ]
    },
    {
     "name": "stderr",
     "output_type": "stream",
     "text": [
      "\n",
      " 28%|██▊       | 488/1727 [00:23<00:59, 20.97it/s]\u001b[A\n",
      " 28%|██▊       | 491/1727 [00:23<00:58, 20.99it/s]\u001b[A\n",
      " 29%|██▊       | 495/1727 [00:23<00:58, 21.05it/s]\u001b[A"
     ]
    },
    {
     "name": "stdout",
     "output_type": "stream",
     "text": [
      "490\n"
     ]
    },
    {
     "name": "stderr",
     "output_type": "stream",
     "text": [
      "\n",
      " 29%|██▉       | 499/1727 [00:23<00:58, 21.10it/s]\u001b[A\n",
      " 29%|██▉       | 502/1727 [00:23<00:57, 21.12it/s]\u001b[A\n",
      " 29%|██▉       | 506/1727 [00:23<00:57, 21.18it/s]\u001b[A"
     ]
    },
    {
     "name": "stdout",
     "output_type": "stream",
     "text": [
      "501\n"
     ]
    },
    {
     "name": "stderr",
     "output_type": "stream",
     "text": [
      "\n",
      " 30%|██▉       | 510/1727 [00:24<00:57, 21.22it/s]\u001b[A\n",
      " 30%|██▉       | 513/1727 [00:24<00:57, 21.22it/s]\u001b[A\n",
      " 30%|██▉       | 516/1727 [00:24<00:57, 21.24it/s]\u001b[A"
     ]
    },
    {
     "name": "stdout",
     "output_type": "stream",
     "text": [
      "512\n"
     ]
    },
    {
     "name": "stderr",
     "output_type": "stream",
     "text": [
      "\n",
      " 30%|███       | 519/1727 [00:24<00:56, 21.26it/s]\u001b[A\n",
      " 30%|███       | 522/1727 [00:24<00:56, 21.27it/s]\u001b[A\n",
      " 30%|███       | 525/1727 [00:24<00:56, 21.26it/s]\u001b[A\n",
      " 31%|███       | 528/1727 [00:24<00:56, 21.29it/s]\u001b[A"
     ]
    },
    {
     "name": "stdout",
     "output_type": "stream",
     "text": [
      "523\n"
     ]
    },
    {
     "name": "stderr",
     "output_type": "stream",
     "text": [
      "\n",
      " 31%|███       | 532/1727 [00:24<00:55, 21.34it/s]\u001b[A\n",
      " 31%|███       | 535/1727 [00:25<00:55, 21.36it/s]\u001b[A\n",
      " 31%|███       | 539/1727 [00:25<00:55, 21.41it/s]\u001b[A"
     ]
    },
    {
     "name": "stdout",
     "output_type": "stream",
     "text": [
      "534\n"
     ]
    },
    {
     "name": "stderr",
     "output_type": "stream",
     "text": [
      "\n",
      " 31%|███▏      | 542/1727 [00:25<00:55, 21.42it/s]\u001b[A\n",
      " 32%|███▏      | 545/1727 [00:25<00:55, 21.42it/s]\u001b[A\n",
      " 32%|███▏      | 548/1727 [00:25<00:55, 21.41it/s]\u001b[A"
     ]
    },
    {
     "name": "stdout",
     "output_type": "stream",
     "text": [
      "545\n"
     ]
    },
    {
     "name": "stderr",
     "output_type": "stream",
     "text": [
      "\n",
      " 32%|███▏      | 552/1727 [00:25<00:54, 21.46it/s]\u001b[A\n",
      " 32%|███▏      | 556/1727 [00:25<00:54, 21.51it/s]\u001b[A\n",
      " 32%|███▏      | 559/1727 [00:25<00:54, 21.51it/s]\u001b[A"
     ]
    },
    {
     "name": "stdout",
     "output_type": "stream",
     "text": [
      "556\n",
      "557\n"
     ]
    },
    {
     "name": "stderr",
     "output_type": "stream",
     "text": [
      "\n",
      " 33%|███▎      | 563/1727 [00:26<00:54, 21.55it/s]\u001b[A\n",
      " 33%|███▎      | 567/1727 [00:26<00:53, 21.60it/s]\u001b[A\n",
      " 33%|███▎      | 570/1727 [00:26<00:53, 21.62it/s]\u001b[A\n",
      " 33%|███▎      | 574/1727 [00:26<00:53, 21.66it/s]\u001b[A"
     ]
    },
    {
     "name": "stdout",
     "output_type": "stream",
     "text": [
      "568\n"
     ]
    },
    {
     "name": "stderr",
     "output_type": "stream",
     "text": [
      "\n",
      " 33%|███▎      | 578/1727 [00:26<00:52, 21.70it/s]\u001b[A\n",
      " 34%|███▎      | 581/1727 [00:26<00:52, 21.72it/s]\u001b[A\n",
      " 34%|███▍      | 585/1727 [00:26<00:52, 21.76it/s]\u001b[A"
     ]
    },
    {
     "name": "stdout",
     "output_type": "stream",
     "text": [
      "579\n"
     ]
    },
    {
     "name": "stderr",
     "output_type": "stream",
     "text": [
      "\n",
      " 34%|███▍      | 588/1727 [00:26<00:52, 21.79it/s]\u001b[A\n",
      " 34%|███▍      | 591/1727 [00:27<00:52, 21.80it/s]\u001b[A\n",
      " 34%|███▍      | 595/1727 [00:27<00:51, 21.84it/s]\u001b[A"
     ]
    },
    {
     "name": "stdout",
     "output_type": "stream",
     "text": [
      "590\n"
     ]
    },
    {
     "name": "stderr",
     "output_type": "stream",
     "text": [
      "\n",
      " 35%|███▍      | 599/1727 [00:27<00:51, 21.89it/s]\u001b[A\n",
      " 35%|███▍      | 602/1727 [00:27<00:51, 21.89it/s]\u001b[A\n",
      " 35%|███▌      | 606/1727 [00:27<00:51, 21.93it/s]\u001b[A"
     ]
    },
    {
     "name": "stdout",
     "output_type": "stream",
     "text": [
      "601\n"
     ]
    },
    {
     "name": "stderr",
     "output_type": "stream",
     "text": [
      "\n",
      " 35%|███▌      | 610/1727 [00:27<00:50, 21.98it/s]\u001b[A\n",
      " 35%|███▌      | 613/1727 [00:27<00:50, 21.99it/s]\u001b[A\n",
      " 36%|███▌      | 617/1727 [00:28<00:50, 22.03it/s]\u001b[A"
     ]
    },
    {
     "name": "stdout",
     "output_type": "stream",
     "text": [
      "612\n"
     ]
    },
    {
     "name": "stderr",
     "output_type": "stream",
     "text": [
      "\n",
      " 36%|███▌      | 621/1727 [00:28<00:50, 22.07it/s]\u001b[A\n",
      " 36%|███▌      | 624/1727 [00:28<00:49, 22.09it/s]\u001b[A\n",
      " 36%|███▋      | 628/1727 [00:28<00:49, 22.13it/s]\u001b[A"
     ]
    },
    {
     "name": "stdout",
     "output_type": "stream",
     "text": [
      "623\n"
     ]
    },
    {
     "name": "stderr",
     "output_type": "stream",
     "text": [
      "\n",
      " 37%|███▋      | 632/1727 [00:28<00:49, 22.17it/s]\u001b[A\n",
      " 37%|███▋      | 635/1727 [00:28<00:49, 22.18it/s]\u001b[A\n",
      " 37%|███▋      | 638/1727 [00:28<00:49, 22.20it/s]\u001b[A"
     ]
    },
    {
     "name": "stdout",
     "output_type": "stream",
     "text": [
      "634\n"
     ]
    },
    {
     "name": "stderr",
     "output_type": "stream",
     "text": [
      "\n",
      " 37%|███▋      | 641/1727 [00:28<00:48, 22.22it/s]\u001b[A\n",
      " 37%|███▋      | 645/1727 [00:28<00:48, 22.26it/s]\u001b[A\n",
      " 38%|███▊      | 648/1727 [00:29<00:48, 22.27it/s]\u001b[A"
     ]
    },
    {
     "name": "stdout",
     "output_type": "stream",
     "text": [
      "645\n"
     ]
    },
    {
     "name": "stderr",
     "output_type": "stream",
     "text": [
      "\n",
      " 38%|███▊      | 652/1727 [00:29<00:48, 22.31it/s]\u001b[A\n",
      " 38%|███▊      | 656/1727 [00:29<00:47, 22.35it/s]\u001b[A\n",
      " 38%|███▊      | 659/1727 [00:29<00:47, 22.35it/s]\u001b[A"
     ]
    },
    {
     "name": "stdout",
     "output_type": "stream",
     "text": [
      "656\n"
     ]
    },
    {
     "name": "stderr",
     "output_type": "stream",
     "text": [
      "\n",
      " 38%|███▊      | 662/1727 [00:29<00:47, 22.36it/s]\u001b[A\n",
      " 39%|███▊      | 666/1727 [00:29<00:47, 22.40it/s]\u001b[A\n",
      " 39%|███▊      | 669/1727 [00:29<00:47, 22.40it/s]\u001b[A"
     ]
    },
    {
     "name": "stdout",
     "output_type": "stream",
     "text": [
      "667\n",
      "668\n"
     ]
    },
    {
     "name": "stderr",
     "output_type": "stream",
     "text": [
      "\n",
      " 39%|███▉      | 673/1727 [00:29<00:46, 22.44it/s]\u001b[A\n",
      " 39%|███▉      | 677/1727 [00:30<00:46, 22.47it/s]\u001b[A\n",
      " 39%|███▉      | 680/1727 [00:30<00:46, 22.47it/s]\u001b[A\n",
      " 40%|███▉      | 683/1727 [00:30<00:46, 22.50it/s]\u001b[A"
     ]
    },
    {
     "name": "stdout",
     "output_type": "stream",
     "text": [
      "679\n"
     ]
    },
    {
     "name": "stderr",
     "output_type": "stream",
     "text": [
      "\n",
      " 40%|███▉      | 686/1727 [00:30<00:46, 22.52it/s]\u001b[A\n",
      " 40%|███▉      | 690/1727 [00:30<00:45, 22.55it/s]\u001b[A\n",
      " 40%|████      | 693/1727 [00:30<00:45, 22.56it/s]\u001b[A"
     ]
    },
    {
     "name": "stdout",
     "output_type": "stream",
     "text": [
      "690\n"
     ]
    },
    {
     "name": "stderr",
     "output_type": "stream",
     "text": [
      "\n",
      " 40%|████      | 697/1727 [00:30<00:45, 22.60it/s]\u001b[A\n",
      " 41%|████      | 700/1727 [00:30<00:45, 22.62it/s]\u001b[A\n",
      " 41%|████      | 703/1727 [00:31<00:45, 22.62it/s]\u001b[A\n",
      " 41%|████      | 706/1727 [00:31<00:45, 22.64it/s]\u001b[A"
     ]
    },
    {
     "name": "stdout",
     "output_type": "stream",
     "text": [
      "701\n"
     ]
    },
    {
     "name": "stderr",
     "output_type": "stream",
     "text": [
      "\n",
      " 41%|████      | 709/1727 [00:31<00:44, 22.66it/s]\u001b[A\n",
      " 41%|████▏     | 713/1727 [00:31<00:44, 22.67it/s]\u001b[A\n",
      " 41%|████▏     | 716/1727 [00:31<00:44, 22.69it/s]\u001b[A"
     ]
    },
    {
     "name": "stdout",
     "output_type": "stream",
     "text": [
      "712\n"
     ]
    },
    {
     "name": "stderr",
     "output_type": "stream",
     "text": [
      "\n",
      " 42%|████▏     | 719/1727 [00:31<00:44, 22.71it/s]\u001b[A\n",
      " 42%|████▏     | 723/1727 [00:31<00:44, 22.75it/s]\u001b[A\n",
      " 42%|████▏     | 726/1727 [00:31<00:43, 22.75it/s]\u001b[A"
     ]
    },
    {
     "name": "stdout",
     "output_type": "stream",
     "text": [
      "723\n"
     ]
    },
    {
     "name": "stderr",
     "output_type": "stream",
     "text": [
      "\n",
      " 42%|████▏     | 730/1727 [00:32<00:43, 22.79it/s]\u001b[A\n",
      " 42%|████▏     | 733/1727 [00:32<00:43, 22.81it/s]\u001b[A\n",
      " 43%|████▎     | 736/1727 [00:32<00:43, 22.82it/s]\u001b[A\n",
      " 43%|████▎     | 740/1727 [00:32<00:43, 22.85it/s]\u001b[A"
     ]
    },
    {
     "name": "stdout",
     "output_type": "stream",
     "text": [
      "734\n"
     ]
    },
    {
     "name": "stderr",
     "output_type": "stream",
     "text": [
      "\n",
      " 43%|████▎     | 743/1727 [00:32<00:43, 22.87it/s]\u001b[A\n",
      " 43%|████▎     | 746/1727 [00:32<00:42, 22.88it/s]\u001b[A\n",
      " 43%|████▎     | 749/1727 [00:32<00:42, 22.89it/s]\u001b[A"
     ]
    },
    {
     "name": "stdout",
     "output_type": "stream",
     "text": [
      "745\n"
     ]
    },
    {
     "name": "stderr",
     "output_type": "stream",
     "text": [
      "\n",
      " 44%|████▎     | 753/1727 [00:32<00:42, 22.92it/s]\u001b[A\n",
      " 44%|████▍     | 757/1727 [00:32<00:42, 22.94it/s]\u001b[A\n",
      " 44%|████▍     | 760/1727 [00:33<00:42, 22.96it/s]\u001b[A"
     ]
    },
    {
     "name": "stdout",
     "output_type": "stream",
     "text": [
      "756\n"
     ]
    },
    {
     "name": "stderr",
     "output_type": "stream",
     "text": [
      "\n",
      " 44%|████▍     | 763/1727 [00:33<00:41, 22.98it/s]\u001b[A\n",
      " 44%|████▍     | 766/1727 [00:33<00:41, 23.00it/s]\u001b[A\n",
      " 45%|████▍     | 769/1727 [00:33<00:41, 23.00it/s]\u001b[A\n",
      " 45%|████▍     | 772/1727 [00:33<00:41, 23.01it/s]\u001b[A"
     ]
    },
    {
     "name": "stdout",
     "output_type": "stream",
     "text": [
      "767\n"
     ]
    },
    {
     "name": "stderr",
     "output_type": "stream",
     "text": [
      "\n",
      " 45%|████▍     | 775/1727 [00:33<00:41, 23.02it/s]\u001b[A\n",
      " 45%|████▌     | 779/1727 [00:33<00:41, 23.04it/s]\u001b[A\n",
      " 45%|████▌     | 782/1727 [00:33<00:41, 23.05it/s]\u001b[A"
     ]
    },
    {
     "name": "stdout",
     "output_type": "stream",
     "text": [
      "778\n",
      "779\n"
     ]
    },
    {
     "name": "stderr",
     "output_type": "stream",
     "text": [
      "\n",
      " 45%|████▌     | 785/1727 [00:34<00:40, 23.06it/s]\u001b[A\n",
      " 46%|████▌     | 789/1727 [00:34<00:40, 23.09it/s]\u001b[A\n",
      " 46%|████▌     | 792/1727 [00:34<00:40, 23.10it/s]\u001b[A\n",
      " 46%|████▌     | 796/1727 [00:34<00:40, 23.13it/s]\u001b[A"
     ]
    },
    {
     "name": "stdout",
     "output_type": "stream",
     "text": [
      "790\n"
     ]
    },
    {
     "name": "stderr",
     "output_type": "stream",
     "text": [
      "\n",
      " 46%|████▋     | 800/1727 [00:34<00:40, 23.16it/s]\u001b[A\n",
      " 46%|████▋     | 803/1727 [00:34<00:39, 23.13it/s]\u001b[A\n",
      " 47%|████▋     | 806/1727 [00:34<00:39, 23.13it/s]\u001b[A"
     ]
    },
    {
     "name": "stdout",
     "output_type": "stream",
     "text": [
      "801\n"
     ]
    },
    {
     "name": "stderr",
     "output_type": "stream",
     "text": [
      "\n",
      " 47%|████▋     | 809/1727 [00:34<00:39, 23.12it/s]\u001b[A\n",
      " 47%|████▋     | 812/1727 [00:35<00:39, 23.11it/s]\u001b[A"
     ]
    },
    {
     "name": "stdout",
     "output_type": "stream",
     "text": [
      "810\n",
      "811\n",
      "812\n",
      "813\n"
     ]
    },
    {
     "name": "stderr",
     "output_type": "stream",
     "text": [
      "\n",
      " 47%|████▋     | 815/1727 [00:35<00:39, 23.07it/s]\u001b[A"
     ]
    },
    {
     "name": "stdout",
     "output_type": "stream",
     "text": [
      "814\n",
      "815\n",
      "816\n",
      "817\n"
     ]
    },
    {
     "name": "stderr",
     "output_type": "stream",
     "text": [
      "\n",
      " 47%|████▋     | 818/1727 [00:35<00:39, 23.02it/s]\u001b[A\n",
      " 47%|████▋     | 820/1727 [00:35<00:39, 22.99it/s]\u001b[A"
     ]
    },
    {
     "name": "stdout",
     "output_type": "stream",
     "text": [
      "818\n",
      "819\n",
      "820\n"
     ]
    },
    {
     "name": "stderr",
     "output_type": "stream",
     "text": [
      "\n",
      " 48%|████▊     | 822/1727 [00:35<00:39, 22.96it/s]\u001b[A\n",
      " 48%|████▊     | 824/1727 [00:35<00:39, 22.92it/s]\u001b[A"
     ]
    },
    {
     "name": "stdout",
     "output_type": "stream",
     "text": [
      "821\n",
      "822\n",
      "823\n"
     ]
    },
    {
     "name": "stderr",
     "output_type": "stream",
     "text": [
      "\n",
      " 48%|████▊     | 826/1727 [00:36<00:39, 22.87it/s]\u001b[A"
     ]
    },
    {
     "name": "stdout",
     "output_type": "stream",
     "text": [
      "824\n",
      "825\n",
      "826\n"
     ]
    },
    {
     "name": "stderr",
     "output_type": "stream",
     "text": [
      "\n",
      " 48%|████▊     | 828/1727 [00:36<00:39, 22.84it/s]\u001b[A\n",
      " 48%|████▊     | 830/1727 [00:36<00:39, 22.80it/s]\u001b[A"
     ]
    },
    {
     "name": "stdout",
     "output_type": "stream",
     "text": [
      "828\n",
      "829\n",
      "830\n"
     ]
    },
    {
     "name": "stderr",
     "output_type": "stream",
     "text": [
      "\n",
      " 48%|████▊     | 832/1727 [00:36<00:39, 22.76it/s]\u001b[A\n",
      " 48%|████▊     | 834/1727 [00:36<00:39, 22.72it/s]\u001b[A"
     ]
    },
    {
     "name": "stdout",
     "output_type": "stream",
     "text": [
      "831\n",
      "832\n",
      "833\n"
     ]
    },
    {
     "name": "stderr",
     "output_type": "stream",
     "text": [
      "\n",
      " 48%|████▊     | 836/1727 [00:36<00:39, 22.68it/s]\u001b[A"
     ]
    },
    {
     "name": "stdout",
     "output_type": "stream",
     "text": [
      "834\n",
      "835\n",
      "836\n"
     ]
    },
    {
     "name": "stderr",
     "output_type": "stream",
     "text": [
      "\n",
      " 49%|████▊     | 838/1727 [00:37<00:39, 22.65it/s]\u001b[A\n",
      " 49%|████▊     | 840/1727 [00:37<00:39, 22.62it/s]\u001b[A"
     ]
    },
    {
     "name": "stdout",
     "output_type": "stream",
     "text": [
      "837\n",
      "838\n",
      "839\n",
      "840\n"
     ]
    },
    {
     "name": "stderr",
     "output_type": "stream",
     "text": [
      "\n",
      " 49%|████▉     | 842/1727 [00:37<00:39, 22.59it/s]\u001b[A\n",
      " 49%|████▉     | 844/1727 [00:37<00:39, 22.55it/s]\u001b[A"
     ]
    },
    {
     "name": "stdout",
     "output_type": "stream",
     "text": [
      "841\n",
      "842\n",
      "843\n"
     ]
    },
    {
     "name": "stderr",
     "output_type": "stream",
     "text": [
      "\n",
      " 49%|████▉     | 846/1727 [00:37<00:39, 22.52it/s]\u001b[A"
     ]
    },
    {
     "name": "stdout",
     "output_type": "stream",
     "text": [
      "844\n",
      "845\n",
      "846\n"
     ]
    },
    {
     "name": "stderr",
     "output_type": "stream",
     "text": [
      "\n",
      " 49%|████▉     | 848/1727 [00:37<00:39, 22.49it/s]\u001b[A\n",
      " 49%|████▉     | 850/1727 [00:37<00:39, 22.46it/s]\u001b[A"
     ]
    },
    {
     "name": "stdout",
     "output_type": "stream",
     "text": [
      "847\n",
      "848\n"
     ]
    },
    {
     "name": "stderr",
     "output_type": "stream",
     "text": [
      "\n",
      " 49%|████▉     | 852/1727 [00:37<00:38, 22.45it/s]\u001b[A\n",
      " 49%|████▉     | 854/1727 [00:38<00:38, 22.44it/s]\u001b[A"
     ]
    },
    {
     "name": "stdout",
     "output_type": "stream",
     "text": [
      "851\n",
      "852\n",
      "854\n"
     ]
    },
    {
     "name": "stderr",
     "output_type": "stream",
     "text": [
      "\n",
      " 50%|████▉     | 856/1727 [00:38<00:38, 22.41it/s]\u001b[A\n",
      " 50%|████▉     | 858/1727 [00:38<00:38, 22.37it/s]\u001b[A"
     ]
    },
    {
     "name": "stdout",
     "output_type": "stream",
     "text": [
      "856\n",
      "857\n",
      "858\n"
     ]
    },
    {
     "name": "stderr",
     "output_type": "stream",
     "text": [
      "\n",
      " 50%|████▉     | 860/1727 [00:38<00:38, 22.33it/s]\u001b[A\n",
      " 50%|████▉     | 862/1727 [00:38<00:38, 22.29it/s]\u001b[A"
     ]
    },
    {
     "name": "stdout",
     "output_type": "stream",
     "text": [
      "859\n",
      "860\n",
      "861\n"
     ]
    },
    {
     "name": "stderr",
     "output_type": "stream",
     "text": [
      "\n",
      " 50%|█████     | 864/1727 [00:38<00:38, 22.27it/s]\u001b[A\n",
      " 50%|█████     | 866/1727 [00:38<00:38, 22.26it/s]\u001b[A"
     ]
    },
    {
     "name": "stdout",
     "output_type": "stream",
     "text": [
      "862\n",
      "863\n",
      "865\n"
     ]
    },
    {
     "name": "stderr",
     "output_type": "stream",
     "text": [
      "\n",
      " 50%|█████     | 868/1727 [00:39<00:38, 22.24it/s]\u001b[A"
     ]
    },
    {
     "name": "stdout",
     "output_type": "stream",
     "text": [
      "866\n",
      "867\n",
      "868\n",
      "869\n"
     ]
    },
    {
     "name": "stderr",
     "output_type": "stream",
     "text": [
      "\n",
      " 50%|█████     | 870/1727 [00:39<00:38, 22.21it/s]\u001b[A\n",
      " 50%|█████     | 872/1727 [00:39<00:38, 22.20it/s]\u001b[A"
     ]
    },
    {
     "name": "stdout",
     "output_type": "stream",
     "text": [
      "870\n",
      "872\n",
      "873\n"
     ]
    },
    {
     "name": "stderr",
     "output_type": "stream",
     "text": [
      "\n",
      " 51%|█████     | 874/1727 [00:39<00:38, 22.17it/s]\u001b[A\n",
      " 51%|█████     | 876/1727 [00:39<00:38, 22.16it/s]\u001b[A\n",
      " 51%|█████     | 878/1727 [00:39<00:38, 22.15it/s]\u001b[A"
     ]
    },
    {
     "name": "stdout",
     "output_type": "stream",
     "text": [
      "875\n",
      "877\n",
      "878\n"
     ]
    },
    {
     "name": "stderr",
     "output_type": "stream",
     "text": [
      "\n",
      " 51%|█████     | 880/1727 [00:39<00:38, 22.13it/s]\u001b[A\n",
      " 51%|█████     | 882/1727 [00:39<00:38, 22.12it/s]\u001b[A"
     ]
    },
    {
     "name": "stdout",
     "output_type": "stream",
     "text": [
      "879\n",
      "881\n",
      "882\n"
     ]
    },
    {
     "name": "stderr",
     "output_type": "stream",
     "text": [
      "\n",
      " 51%|█████     | 884/1727 [00:40<00:38, 22.09it/s]\u001b[A\n",
      " 51%|█████▏    | 886/1727 [00:40<00:38, 22.07it/s]\u001b[A"
     ]
    },
    {
     "name": "stdout",
     "output_type": "stream",
     "text": [
      "883\n",
      "884\n",
      "885\n"
     ]
    },
    {
     "name": "stderr",
     "output_type": "stream",
     "text": [
      "\n",
      " 51%|█████▏    | 888/1727 [00:40<00:38, 22.05it/s]\u001b[A"
     ]
    },
    {
     "name": "stdout",
     "output_type": "stream",
     "text": [
      "886\n",
      "887\n",
      "888\n",
      "889\n"
     ]
    },
    {
     "name": "stderr",
     "output_type": "stream",
     "text": [
      "\n",
      " 52%|█████▏    | 890/1727 [00:40<00:38, 22.02it/s]\u001b[A\n",
      " 52%|█████▏    | 892/1727 [00:40<00:37, 22.00it/s]\u001b[A"
     ]
    },
    {
     "name": "stdout",
     "output_type": "stream",
     "text": [
      "890\n",
      "891\n",
      "892\n",
      "893\n"
     ]
    },
    {
     "name": "stderr",
     "output_type": "stream",
     "text": [
      "\n",
      " 52%|█████▏    | 894/1727 [00:40<00:37, 21.98it/s]\u001b[A\n",
      " 52%|█████▏    | 896/1727 [00:40<00:37, 21.96it/s]\u001b[A"
     ]
    },
    {
     "name": "stdout",
     "output_type": "stream",
     "text": [
      "894\n",
      "895\n",
      "896\n",
      "897\n"
     ]
    },
    {
     "name": "stderr",
     "output_type": "stream",
     "text": [
      "\n",
      " 52%|█████▏    | 898/1727 [00:40<00:37, 21.94it/s]\u001b[A\n",
      " 52%|█████▏    | 900/1727 [00:41<00:37, 21.92it/s]\u001b[A"
     ]
    },
    {
     "name": "stdout",
     "output_type": "stream",
     "text": [
      "898\n",
      "899\n",
      "900\n"
     ]
    },
    {
     "name": "stderr",
     "output_type": "stream",
     "text": [
      "\n",
      " 52%|█████▏    | 902/1727 [00:41<00:37, 21.89it/s]\u001b[A\n",
      " 52%|█████▏    | 904/1727 [00:41<00:37, 21.88it/s]\u001b[A"
     ]
    },
    {
     "name": "stdout",
     "output_type": "stream",
     "text": [
      "901\n",
      "902\n",
      "903\n",
      "904\n"
     ]
    },
    {
     "name": "stderr",
     "output_type": "stream",
     "text": [
      "\n",
      " 52%|█████▏    | 906/1727 [00:41<00:37, 21.87it/s]\u001b[A\n",
      " 53%|█████▎    | 908/1727 [00:41<00:37, 21.87it/s]\u001b[A"
     ]
    },
    {
     "name": "stdout",
     "output_type": "stream",
     "text": [
      "905\n",
      "906\n",
      "907\n",
      "908\n"
     ]
    },
    {
     "name": "stderr",
     "output_type": "stream",
     "text": [
      "\n",
      " 53%|█████▎    | 910/1727 [00:41<00:37, 21.86it/s]\u001b[A\n",
      " 53%|█████▎    | 912/1727 [00:41<00:37, 21.85it/s]\u001b[A"
     ]
    },
    {
     "name": "stdout",
     "output_type": "stream",
     "text": [
      "909\n",
      "910\n",
      "911\n",
      "912\n"
     ]
    },
    {
     "name": "stderr",
     "output_type": "stream",
     "text": [
      "\n",
      " 53%|█████▎    | 914/1727 [00:41<00:37, 21.84it/s]\u001b[A\n",
      " 53%|█████▎    | 916/1727 [00:41<00:37, 21.83it/s]\u001b[A"
     ]
    },
    {
     "name": "stdout",
     "output_type": "stream",
     "text": [
      "913\n",
      "914\n",
      "915\n",
      "916\n"
     ]
    },
    {
     "name": "stderr",
     "output_type": "stream",
     "text": [
      "\n",
      " 53%|█████▎    | 918/1727 [00:42<00:37, 21.83it/s]\u001b[A\n",
      " 53%|█████▎    | 920/1727 [00:42<00:36, 21.82it/s]\u001b[A"
     ]
    },
    {
     "name": "stdout",
     "output_type": "stream",
     "text": [
      "917\n",
      "918\n",
      "919\n",
      "920\n"
     ]
    },
    {
     "name": "stderr",
     "output_type": "stream",
     "text": [
      "\n",
      " 53%|█████▎    | 922/1727 [00:42<00:36, 21.81it/s]\u001b[A\n",
      " 54%|█████▎    | 924/1727 [00:42<00:36, 21.80it/s]\u001b[A"
     ]
    },
    {
     "name": "stdout",
     "output_type": "stream",
     "text": [
      "921\n",
      "922\n",
      "923\n",
      "924\n"
     ]
    },
    {
     "name": "stderr",
     "output_type": "stream",
     "text": [
      "\n",
      " 54%|█████▎    | 926/1727 [00:42<00:36, 21.79it/s]\u001b[A\n",
      " 54%|█████▎    | 928/1727 [00:42<00:36, 21.79it/s]\u001b[A"
     ]
    },
    {
     "name": "stdout",
     "output_type": "stream",
     "text": [
      "925\n",
      "926\n",
      "927\n",
      "928\n"
     ]
    },
    {
     "name": "stderr",
     "output_type": "stream",
     "text": [
      "\n",
      " 54%|█████▍    | 930/1727 [00:42<00:36, 21.78it/s]\u001b[A\n",
      " 54%|█████▍    | 932/1727 [00:42<00:36, 21.78it/s]\u001b[A"
     ]
    },
    {
     "name": "stdout",
     "output_type": "stream",
     "text": [
      "929\n",
      "930\n",
      "931\n",
      "932\n"
     ]
    },
    {
     "name": "stderr",
     "output_type": "stream",
     "text": [
      "\n",
      " 54%|█████▍    | 934/1727 [00:42<00:36, 21.77it/s]\u001b[A\n",
      " 54%|█████▍    | 936/1727 [00:43<00:36, 21.76it/s]\u001b[A"
     ]
    },
    {
     "name": "stdout",
     "output_type": "stream",
     "text": [
      "933\n",
      "934\n",
      "935\n",
      "936\n"
     ]
    },
    {
     "name": "stderr",
     "output_type": "stream",
     "text": [
      "\n",
      " 54%|█████▍    | 938/1727 [00:43<00:36, 21.76it/s]\u001b[A\n",
      " 54%|█████▍    | 940/1727 [00:43<00:36, 21.75it/s]\u001b[A"
     ]
    },
    {
     "name": "stdout",
     "output_type": "stream",
     "text": [
      "937\n",
      "938\n",
      "939\n",
      "940\n"
     ]
    },
    {
     "name": "stderr",
     "output_type": "stream",
     "text": [
      "\n",
      " 55%|█████▍    | 942/1727 [00:43<00:36, 21.74it/s]\u001b[A\n",
      " 55%|█████▍    | 944/1727 [00:43<00:36, 21.74it/s]\u001b[A"
     ]
    },
    {
     "name": "stdout",
     "output_type": "stream",
     "text": [
      "941\n",
      "942\n",
      "943\n",
      "944\n"
     ]
    },
    {
     "name": "stderr",
     "output_type": "stream",
     "text": [
      "\n",
      " 55%|█████▍    | 946/1727 [00:43<00:35, 21.73it/s]\u001b[A\n",
      " 55%|█████▍    | 948/1727 [00:43<00:35, 21.72it/s]\u001b[A"
     ]
    },
    {
     "name": "stdout",
     "output_type": "stream",
     "text": [
      "945\n",
      "946\n",
      "947\n",
      "948\n"
     ]
    },
    {
     "name": "stderr",
     "output_type": "stream",
     "text": [
      "\n",
      " 55%|█████▌    | 950/1727 [00:43<00:35, 21.71it/s]\u001b[A\n",
      " 55%|█████▌    | 953/1727 [00:43<00:35, 21.71it/s]\u001b[A"
     ]
    },
    {
     "name": "stdout",
     "output_type": "stream",
     "text": [
      "949\n",
      "950\n",
      "951\n",
      "952\n"
     ]
    },
    {
     "name": "stderr",
     "output_type": "stream",
     "text": [
      "\n",
      " 55%|█████▌    | 955/1727 [00:44<00:35, 21.70it/s]\u001b[A\n",
      " 55%|█████▌    | 957/1727 [00:44<00:35, 21.70it/s]\u001b[A"
     ]
    },
    {
     "name": "stdout",
     "output_type": "stream",
     "text": [
      "953\n",
      "954\n",
      "955\n",
      "956\n"
     ]
    },
    {
     "name": "stderr",
     "output_type": "stream",
     "text": [
      "\n",
      " 56%|█████▌    | 959/1727 [00:44<00:35, 21.69it/s]\u001b[A\n",
      " 56%|█████▌    | 961/1727 [00:44<00:35, 21.68it/s]\u001b[A"
     ]
    },
    {
     "name": "stdout",
     "output_type": "stream",
     "text": [
      "957\n",
      "958\n",
      "959\n",
      "960\n"
     ]
    },
    {
     "name": "stderr",
     "output_type": "stream",
     "text": [
      "\n",
      " 56%|█████▌    | 963/1727 [00:44<00:35, 21.68it/s]\u001b[A\n",
      " 56%|█████▌    | 965/1727 [00:44<00:35, 21.67it/s]\u001b[A"
     ]
    },
    {
     "name": "stdout",
     "output_type": "stream",
     "text": [
      "961\n",
      "962\n",
      "963\n",
      "964\n"
     ]
    },
    {
     "name": "stderr",
     "output_type": "stream",
     "text": [
      "\n",
      " 56%|█████▌    | 967/1727 [00:44<00:35, 21.66it/s]\u001b[A\n",
      " 56%|█████▌    | 969/1727 [00:44<00:35, 21.65it/s]\u001b[A"
     ]
    },
    {
     "name": "stdout",
     "output_type": "stream",
     "text": [
      "965\n",
      "966\n",
      "967\n",
      "968\n"
     ]
    },
    {
     "name": "stderr",
     "output_type": "stream",
     "text": [
      "\n",
      " 56%|█████▌    | 971/1727 [00:44<00:34, 21.65it/s]\u001b[A\n",
      " 56%|█████▋    | 973/1727 [00:44<00:34, 21.64it/s]\u001b[A"
     ]
    },
    {
     "name": "stdout",
     "output_type": "stream",
     "text": [
      "969\n",
      "970\n",
      "971\n",
      "972\n"
     ]
    },
    {
     "name": "stderr",
     "output_type": "stream",
     "text": [
      "\n",
      " 56%|█████▋    | 975/1727 [00:45<00:34, 21.63it/s]\u001b[A\n",
      " 57%|█████▋    | 977/1727 [00:45<00:34, 21.63it/s]\u001b[A"
     ]
    },
    {
     "name": "stdout",
     "output_type": "stream",
     "text": [
      "973\n",
      "974\n",
      "975\n",
      "976\n"
     ]
    },
    {
     "name": "stderr",
     "output_type": "stream",
     "text": [
      "\n",
      " 57%|█████▋    | 979/1727 [00:45<00:34, 21.62it/s]\u001b[A\n",
      " 57%|█████▋    | 981/1727 [00:45<00:34, 21.60it/s]"
     ]
    },
    {
     "name": "stdout",
     "output_type": "stream",
     "text": [
      "977\n",
      "978\n",
      "979\n",
      "980\n"
     ]
    },
    {
     "name": "stderr",
     "output_type": "stream",
     "text": [
      "\u001b[A\n",
      " 57%|█████▋    | 983/1727 [00:45<00:34, 21.59it/s]\u001b[A\n",
      " 57%|█████▋    | 985/1727 [00:45<00:34, 21.58it/s]\u001b[A"
     ]
    },
    {
     "name": "stdout",
     "output_type": "stream",
     "text": [
      "981\n",
      "982\n",
      "983\n",
      "984\n"
     ]
    },
    {
     "name": "stderr",
     "output_type": "stream",
     "text": [
      "\n",
      " 57%|█████▋    | 987/1727 [00:45<00:34, 21.57it/s]\u001b[A\n",
      " 57%|█████▋    | 989/1727 [00:45<00:34, 21.56it/s]\u001b[A"
     ]
    },
    {
     "name": "stdout",
     "output_type": "stream",
     "text": [
      "985\n",
      "986\n",
      "987\n",
      "988\n"
     ]
    },
    {
     "name": "stderr",
     "output_type": "stream",
     "text": [
      "\n",
      " 57%|█████▋    | 991/1727 [00:45<00:34, 21.56it/s]\u001b[A\n",
      " 57%|█████▋    | 993/1727 [00:46<00:34, 21.55it/s]\u001b[A"
     ]
    },
    {
     "name": "stdout",
     "output_type": "stream",
     "text": [
      "989\n",
      "990\n",
      "991\n",
      "992\n"
     ]
    },
    {
     "name": "stderr",
     "output_type": "stream",
     "text": [
      "\n",
      " 58%|█████▊    | 995/1727 [00:46<00:33, 21.54it/s]\u001b[A\n",
      " 58%|█████▊    | 997/1727 [00:46<00:33, 21.53it/s]\u001b[A"
     ]
    },
    {
     "name": "stdout",
     "output_type": "stream",
     "text": [
      "993\n",
      "994\n",
      "995\n",
      "996\n"
     ]
    },
    {
     "name": "stderr",
     "output_type": "stream",
     "text": [
      "\n",
      " 58%|█████▊    | 999/1727 [00:46<00:33, 21.52it/s]\u001b[A\n",
      " 58%|█████▊    | 1001/1727 [00:46<00:33, 21.51it/s]\u001b[A"
     ]
    },
    {
     "name": "stdout",
     "output_type": "stream",
     "text": [
      "997\n",
      "998\n",
      "999\n",
      "1000\n"
     ]
    },
    {
     "name": "stderr",
     "output_type": "stream",
     "text": [
      "\n",
      " 58%|█████▊    | 1003/1727 [00:46<00:33, 21.50it/s]\u001b[A\n",
      " 58%|█████▊    | 1005/1727 [00:46<00:33, 21.49it/s]\u001b[A"
     ]
    },
    {
     "name": "stdout",
     "output_type": "stream",
     "text": [
      "1001\n",
      "1002\n",
      "1003\n",
      "1004\n"
     ]
    },
    {
     "name": "stderr",
     "output_type": "stream",
     "text": [
      "\n",
      " 58%|█████▊    | 1007/1727 [00:46<00:33, 21.49it/s]\u001b[A\n",
      " 58%|█████▊    | 1009/1727 [00:46<00:33, 21.48it/s]\u001b[A"
     ]
    },
    {
     "name": "stdout",
     "output_type": "stream",
     "text": [
      "1005\n",
      "1006\n",
      "1007\n",
      "1008\n"
     ]
    },
    {
     "name": "stderr",
     "output_type": "stream",
     "text": [
      "\n",
      " 59%|█████▊    | 1011/1727 [00:47<00:33, 21.47it/s]\u001b[A\n",
      " 59%|█████▊    | 1013/1727 [00:47<00:33, 21.46it/s]\u001b[A"
     ]
    },
    {
     "name": "stdout",
     "output_type": "stream",
     "text": [
      "1009\n",
      "1010\n",
      "1011\n",
      "1012\n"
     ]
    },
    {
     "name": "stderr",
     "output_type": "stream",
     "text": [
      "\n",
      " 59%|█████▉    | 1015/1727 [00:47<00:33, 21.45it/s]\u001b[A\n",
      " 59%|█████▉    | 1017/1727 [00:47<00:33, 21.44it/s]\u001b[A"
     ]
    },
    {
     "name": "stdout",
     "output_type": "stream",
     "text": [
      "1013\n",
      "1014\n",
      "1015\n",
      "1016\n"
     ]
    },
    {
     "name": "stderr",
     "output_type": "stream",
     "text": [
      "\n",
      " 59%|█████▉    | 1019/1727 [00:47<00:33, 21.44it/s]\u001b[A\n",
      " 59%|█████▉    | 1021/1727 [00:47<00:32, 21.43it/s]\u001b[A"
     ]
    },
    {
     "name": "stdout",
     "output_type": "stream",
     "text": [
      "1017\n",
      "1018\n",
      "1019\n",
      "1020\n"
     ]
    },
    {
     "name": "stderr",
     "output_type": "stream",
     "text": [
      "\n",
      " 59%|█████▉    | 1023/1727 [00:47<00:32, 21.42it/s]\u001b[A\n",
      " 59%|█████▉    | 1025/1727 [00:47<00:32, 21.41it/s]\u001b[A"
     ]
    },
    {
     "name": "stdout",
     "output_type": "stream",
     "text": [
      "1021\n",
      "1022\n",
      "1023\n",
      "1024\n"
     ]
    },
    {
     "name": "stderr",
     "output_type": "stream",
     "text": [
      "\n",
      " 59%|█████▉    | 1027/1727 [00:47<00:32, 21.40it/s]\u001b[A\n",
      " 60%|█████▉    | 1029/1727 [00:48<00:32, 21.39it/s]\u001b[A"
     ]
    },
    {
     "name": "stdout",
     "output_type": "stream",
     "text": [
      "1025\n",
      "1026\n",
      "1027\n",
      "1028\n"
     ]
    },
    {
     "name": "stderr",
     "output_type": "stream",
     "text": [
      "\n",
      " 60%|█████▉    | 1032/1727 [00:48<00:32, 21.39it/s]\u001b[A"
     ]
    },
    {
     "name": "stdout",
     "output_type": "stream",
     "text": [
      "1029\n",
      "1031\n",
      "1032\n"
     ]
    },
    {
     "name": "stderr",
     "output_type": "stream",
     "text": [
      "\n",
      " 60%|█████▉    | 1034/1727 [00:48<00:32, 21.38it/s]\u001b[A\n",
      " 60%|█████▉    | 1036/1727 [00:48<00:32, 21.37it/s]\u001b[A"
     ]
    },
    {
     "name": "stdout",
     "output_type": "stream",
     "text": [
      "1033\n",
      "1034\n",
      "1035\n",
      "1036\n"
     ]
    },
    {
     "name": "stderr",
     "output_type": "stream",
     "text": [
      "\n",
      " 60%|██████    | 1038/1727 [00:48<00:32, 21.34it/s]\u001b[A\n",
      " 60%|██████    | 1040/1727 [00:48<00:32, 21.32it/s]\u001b[A"
     ]
    },
    {
     "name": "stdout",
     "output_type": "stream",
     "text": [
      "1037\n",
      "1038\n",
      "1039\n"
     ]
    },
    {
     "name": "stderr",
     "output_type": "stream",
     "text": [
      "\n",
      " 60%|██████    | 1042/1727 [00:48<00:32, 21.30it/s]\u001b[A\n",
      " 60%|██████    | 1044/1727 [00:49<00:32, 21.29it/s]\u001b[A"
     ]
    },
    {
     "name": "stdout",
     "output_type": "stream",
     "text": [
      "1040\n",
      "1041\n",
      "1042\n",
      "1043\n"
     ]
    },
    {
     "name": "stderr",
     "output_type": "stream",
     "text": [
      "\n",
      " 61%|██████    | 1046/1727 [00:49<00:31, 21.29it/s]\u001b[A\n",
      " 61%|██████    | 1048/1727 [00:49<00:31, 21.28it/s]\u001b[A"
     ]
    },
    {
     "name": "stdout",
     "output_type": "stream",
     "text": [
      "1044\n",
      "1045\n",
      "1046\n",
      "1047\n"
     ]
    },
    {
     "name": "stderr",
     "output_type": "stream",
     "text": [
      "\n",
      " 61%|██████    | 1050/1727 [00:49<00:31, 21.27it/s]\u001b[A\n",
      " 61%|██████    | 1052/1727 [00:49<00:31, 21.26it/s]\u001b[A"
     ]
    },
    {
     "name": "stdout",
     "output_type": "stream",
     "text": [
      "1048\n",
      "1049\n",
      "1050\n",
      "1051\n"
     ]
    },
    {
     "name": "stderr",
     "output_type": "stream",
     "text": [
      "\n",
      " 61%|██████    | 1054/1727 [00:49<00:31, 21.26it/s]\u001b[A\n",
      " 61%|██████    | 1056/1727 [00:49<00:31, 21.25it/s]\u001b[A"
     ]
    },
    {
     "name": "stdout",
     "output_type": "stream",
     "text": [
      "1052\n",
      "1053\n",
      "1054\n",
      "1055\n"
     ]
    },
    {
     "name": "stderr",
     "output_type": "stream",
     "text": [
      "\n",
      " 61%|██████▏   | 1058/1727 [00:49<00:31, 21.24it/s]\u001b[A\n",
      " 61%|██████▏   | 1060/1727 [00:49<00:31, 21.23it/s]\u001b[A"
     ]
    },
    {
     "name": "stdout",
     "output_type": "stream",
     "text": [
      "1056\n",
      "1057\n",
      "1058\n",
      "1059\n"
     ]
    },
    {
     "name": "stderr",
     "output_type": "stream",
     "text": [
      "\n",
      " 61%|██████▏   | 1062/1727 [00:50<00:31, 21.23it/s]\u001b[A\n",
      " 62%|██████▏   | 1064/1727 [00:50<00:31, 21.22it/s]\u001b[A"
     ]
    },
    {
     "name": "stdout",
     "output_type": "stream",
     "text": [
      "1060\n",
      "1061\n",
      "1062\n",
      "1063\n"
     ]
    },
    {
     "name": "stderr",
     "output_type": "stream",
     "text": [
      "\n",
      " 62%|██████▏   | 1066/1727 [00:50<00:31, 21.21it/s]\u001b[A\n",
      " 62%|██████▏   | 1068/1727 [00:50<00:31, 21.20it/s]\u001b[A"
     ]
    },
    {
     "name": "stdout",
     "output_type": "stream",
     "text": [
      "1064\n",
      "1065\n",
      "1066\n",
      "1067\n"
     ]
    },
    {
     "name": "stderr",
     "output_type": "stream",
     "text": [
      "\n",
      " 62%|██████▏   | 1070/1727 [00:50<00:31, 21.19it/s]\u001b[A"
     ]
    },
    {
     "name": "stdout",
     "output_type": "stream",
     "text": [
      "1068\n",
      "1069\n",
      "1070\n",
      "1071\n"
     ]
    },
    {
     "name": "stderr",
     "output_type": "stream",
     "text": [
      "\n",
      " 62%|██████▏   | 1072/1727 [00:50<00:30, 21.17it/s]\u001b[A\n",
      " 62%|██████▏   | 1074/1727 [00:50<00:30, 21.16it/s]\u001b[A"
     ]
    },
    {
     "name": "stdout",
     "output_type": "stream",
     "text": [
      "1072\n",
      "1073\n",
      "1074\n"
     ]
    },
    {
     "name": "stderr",
     "output_type": "stream",
     "text": [
      "\n",
      " 62%|██████▏   | 1076/1727 [00:50<00:30, 21.13it/s]\u001b[A\n",
      " 62%|██████▏   | 1078/1727 [00:51<00:30, 21.12it/s]\u001b[A"
     ]
    },
    {
     "name": "stdout",
     "output_type": "stream",
     "text": [
      "1075\n",
      "1076\n",
      "1077\n",
      "1078\n"
     ]
    },
    {
     "name": "stderr",
     "output_type": "stream",
     "text": [
      "\n",
      " 63%|██████▎   | 1080/1727 [00:51<00:30, 21.12it/s]\u001b[A\n",
      " 63%|██████▎   | 1082/1727 [00:51<00:30, 21.11it/s]\u001b[A"
     ]
    },
    {
     "name": "stdout",
     "output_type": "stream",
     "text": [
      "1079\n",
      "1080\n",
      "1081\n",
      "1082\n"
     ]
    },
    {
     "name": "stderr",
     "output_type": "stream",
     "text": [
      "\n",
      " 63%|██████▎   | 1084/1727 [00:51<00:30, 21.10it/s]\u001b[A\n",
      " 63%|██████▎   | 1086/1727 [00:51<00:30, 21.10it/s]\u001b[A"
     ]
    },
    {
     "name": "stdout",
     "output_type": "stream",
     "text": [
      "1083\n",
      "1084\n",
      "1085\n",
      "1086\n"
     ]
    },
    {
     "name": "stderr",
     "output_type": "stream",
     "text": [
      "\n",
      " 63%|██████▎   | 1088/1727 [00:51<00:30, 21.09it/s]\u001b[A\n",
      " 63%|██████▎   | 1090/1727 [00:51<00:30, 21.09it/s]\u001b[A"
     ]
    },
    {
     "name": "stdout",
     "output_type": "stream",
     "text": [
      "1087\n",
      "1088\n",
      "1089\n",
      "1090\n"
     ]
    },
    {
     "name": "stderr",
     "output_type": "stream",
     "text": [
      "\n",
      " 63%|██████▎   | 1092/1727 [00:51<00:30, 21.08it/s]\u001b[A\n",
      " 63%|██████▎   | 1094/1727 [00:51<00:30, 21.07it/s]\u001b[A"
     ]
    },
    {
     "name": "stdout",
     "output_type": "stream",
     "text": [
      "1091\n",
      "1092\n",
      "1093\n",
      "1094\n"
     ]
    },
    {
     "name": "stderr",
     "output_type": "stream",
     "text": [
      "\n",
      " 63%|██████▎   | 1096/1727 [00:52<00:29, 21.07it/s]\u001b[A\n",
      " 64%|██████▎   | 1098/1727 [00:52<00:29, 21.06it/s]\u001b[A"
     ]
    },
    {
     "name": "stdout",
     "output_type": "stream",
     "text": [
      "1095\n",
      "1096\n",
      "1097\n",
      "1098\n"
     ]
    },
    {
     "name": "stderr",
     "output_type": "stream",
     "text": [
      "\n",
      " 64%|██████▎   | 1100/1727 [00:52<00:29, 21.05it/s]\u001b[A\n",
      " 64%|██████▍   | 1102/1727 [00:52<00:29, 21.05it/s]\u001b[A"
     ]
    },
    {
     "name": "stdout",
     "output_type": "stream",
     "text": [
      "1099\n",
      "1100\n",
      "1101\n",
      "1102\n"
     ]
    },
    {
     "name": "stderr",
     "output_type": "stream",
     "text": [
      "\n",
      " 64%|██████▍   | 1104/1727 [00:52<00:29, 21.04it/s]\u001b[A\n",
      " 64%|██████▍   | 1106/1727 [00:52<00:29, 21.03it/s]\u001b[A"
     ]
    },
    {
     "name": "stdout",
     "output_type": "stream",
     "text": [
      "1103\n",
      "1104\n",
      "1105\n",
      "1106\n"
     ]
    },
    {
     "name": "stderr",
     "output_type": "stream",
     "text": [
      "\n",
      " 64%|██████▍   | 1108/1727 [00:52<00:29, 21.03it/s]\u001b[A\n",
      " 64%|██████▍   | 1110/1727 [00:52<00:29, 21.02it/s]\u001b[A"
     ]
    },
    {
     "name": "stdout",
     "output_type": "stream",
     "text": [
      "1107\n",
      "1108\n",
      "1109\n",
      "1110\n"
     ]
    },
    {
     "name": "stderr",
     "output_type": "stream",
     "text": [
      "\n",
      " 64%|██████▍   | 1112/1727 [00:52<00:29, 21.01it/s]\u001b[A\n",
      " 65%|██████▍   | 1114/1727 [00:53<00:29, 21.01it/s]\u001b[A"
     ]
    },
    {
     "name": "stdout",
     "output_type": "stream",
     "text": [
      "1111\n",
      "1112\n",
      "1113\n",
      "1114\n"
     ]
    },
    {
     "name": "stderr",
     "output_type": "stream",
     "text": [
      "\n",
      " 65%|██████▍   | 1116/1727 [00:53<00:29, 21.00it/s]\u001b[A\n",
      " 65%|██████▍   | 1118/1727 [00:53<00:29, 21.00it/s]\u001b[A"
     ]
    },
    {
     "name": "stdout",
     "output_type": "stream",
     "text": [
      "1115\n",
      "1116\n",
      "1117\n",
      "1118\n"
     ]
    },
    {
     "name": "stderr",
     "output_type": "stream",
     "text": [
      "\n",
      " 65%|██████▍   | 1120/1727 [00:53<00:28, 20.99it/s]\u001b[A\n",
      " 65%|██████▍   | 1122/1727 [00:53<00:28, 20.98it/s]\u001b[A"
     ]
    },
    {
     "name": "stdout",
     "output_type": "stream",
     "text": [
      "1119\n",
      "1120\n",
      "1121\n",
      "1122\n"
     ]
    },
    {
     "name": "stderr",
     "output_type": "stream",
     "text": [
      "\n",
      " 65%|██████▌   | 1124/1727 [00:53<00:28, 20.98it/s]\u001b[A\n",
      " 65%|██████▌   | 1126/1727 [00:53<00:28, 20.97it/s]\u001b[A"
     ]
    },
    {
     "name": "stdout",
     "output_type": "stream",
     "text": [
      "1123\n",
      "1124\n",
      "1125\n",
      "1126\n"
     ]
    },
    {
     "name": "stderr",
     "output_type": "stream",
     "text": [
      "\n",
      " 65%|██████▌   | 1128/1727 [00:53<00:28, 20.97it/s]\u001b[A\n",
      " 65%|██████▌   | 1130/1727 [00:53<00:28, 20.96it/s]\u001b[A"
     ]
    },
    {
     "name": "stdout",
     "output_type": "stream",
     "text": [
      "1127\n",
      "1128\n",
      "1129\n",
      "1130\n"
     ]
    },
    {
     "name": "stderr",
     "output_type": "stream",
     "text": [
      "\n",
      " 66%|██████▌   | 1132/1727 [00:54<00:28, 20.96it/s]\u001b[A\n",
      " 66%|██████▌   | 1134/1727 [00:54<00:28, 20.95it/s]\u001b[A"
     ]
    },
    {
     "name": "stdout",
     "output_type": "stream",
     "text": [
      "1131\n",
      "1132\n",
      "1133\n",
      "1134\n"
     ]
    },
    {
     "name": "stderr",
     "output_type": "stream",
     "text": [
      "\n",
      " 66%|██████▌   | 1136/1727 [00:54<00:28, 20.95it/s]\u001b[A\n",
      " 66%|██████▌   | 1138/1727 [00:54<00:28, 20.94it/s]\u001b[A"
     ]
    },
    {
     "name": "stdout",
     "output_type": "stream",
     "text": [
      "1135\n",
      "1136\n",
      "1137\n",
      "1138\n"
     ]
    },
    {
     "name": "stderr",
     "output_type": "stream",
     "text": [
      "\n",
      " 66%|██████▌   | 1140/1727 [00:54<00:28, 20.93it/s]\u001b[A\n",
      " 66%|██████▌   | 1142/1727 [00:54<00:27, 20.93it/s]\u001b[A"
     ]
    },
    {
     "name": "stdout",
     "output_type": "stream",
     "text": [
      "1139\n",
      "1140\n",
      "1141\n",
      "1142\n"
     ]
    },
    {
     "name": "stderr",
     "output_type": "stream",
     "text": [
      "\n",
      " 66%|██████▌   | 1144/1727 [00:54<00:27, 20.92it/s]\u001b[A\n",
      " 66%|██████▋   | 1146/1727 [00:54<00:27, 20.91it/s]\u001b[A"
     ]
    },
    {
     "name": "stdout",
     "output_type": "stream",
     "text": [
      "1143\n",
      "1144\n",
      "1145\n",
      "1146\n"
     ]
    },
    {
     "name": "stderr",
     "output_type": "stream",
     "text": [
      "\n",
      " 66%|██████▋   | 1148/1727 [00:54<00:27, 20.91it/s]\u001b[A\n",
      " 67%|██████▋   | 1150/1727 [00:55<00:27, 20.89it/s]\u001b[A"
     ]
    },
    {
     "name": "stdout",
     "output_type": "stream",
     "text": [
      "1147\n",
      "1148\n",
      "1149\n"
     ]
    },
    {
     "name": "stderr",
     "output_type": "stream",
     "text": [
      "\n",
      " 67%|██████▋   | 1152/1727 [00:55<00:27, 20.88it/s]\u001b[A"
     ]
    },
    {
     "name": "stdout",
     "output_type": "stream",
     "text": [
      "1150\n",
      "1151\n",
      "1152\n"
     ]
    },
    {
     "name": "stderr",
     "output_type": "stream",
     "text": [
      "\n",
      " 67%|██████▋   | 1154/1727 [00:55<00:27, 20.86it/s]\u001b[A\n",
      " 67%|██████▋   | 1156/1727 [00:55<00:27, 20.84it/s]\u001b[A"
     ]
    },
    {
     "name": "stdout",
     "output_type": "stream",
     "text": [
      "1153\n",
      "1154\n",
      "1155\n"
     ]
    },
    {
     "name": "stderr",
     "output_type": "stream",
     "text": [
      "\n",
      " 67%|██████▋   | 1158/1727 [00:55<00:27, 20.83it/s]\u001b[A"
     ]
    },
    {
     "name": "stdout",
     "output_type": "stream",
     "text": [
      "1156\n",
      "1157\n",
      "1158\n"
     ]
    },
    {
     "name": "stderr",
     "output_type": "stream",
     "text": [
      "\n",
      " 67%|██████▋   | 1160/1727 [00:55<00:27, 20.80it/s]\u001b[A\n",
      " 67%|██████▋   | 1162/1727 [00:55<00:27, 20.80it/s]\u001b[A"
     ]
    },
    {
     "name": "stdout",
     "output_type": "stream",
     "text": [
      "1159\n",
      "1160\n",
      "1161\n",
      "1162\n"
     ]
    },
    {
     "name": "stderr",
     "output_type": "stream",
     "text": [
      "\n",
      " 67%|██████▋   | 1164/1727 [00:55<00:27, 20.79it/s]\u001b[A\n",
      " 68%|██████▊   | 1166/1727 [00:56<00:26, 20.78it/s]\u001b[A"
     ]
    },
    {
     "name": "stdout",
     "output_type": "stream",
     "text": [
      "1163\n",
      "1164\n",
      "1165\n",
      "1166\n"
     ]
    },
    {
     "name": "stderr",
     "output_type": "stream",
     "text": [
      "\n",
      " 68%|██████▊   | 1168/1727 [00:56<00:26, 20.78it/s]\u001b[A\n",
      " 68%|██████▊   | 1170/1727 [00:56<00:26, 20.77it/s]\u001b[A"
     ]
    },
    {
     "name": "stdout",
     "output_type": "stream",
     "text": [
      "1167\n",
      "1168\n",
      "1169\n",
      "1170\n"
     ]
    },
    {
     "name": "stderr",
     "output_type": "stream",
     "text": [
      "\n",
      " 68%|██████▊   | 1172/1727 [00:56<00:26, 20.77it/s]\u001b[A\n",
      " 68%|██████▊   | 1174/1727 [00:56<00:26, 20.77it/s]\u001b[A"
     ]
    },
    {
     "name": "stdout",
     "output_type": "stream",
     "text": [
      "1171\n",
      "1172\n",
      "1173\n",
      "1174\n"
     ]
    },
    {
     "name": "stderr",
     "output_type": "stream",
     "text": [
      "\n",
      " 68%|██████▊   | 1176/1727 [00:56<00:26, 20.76it/s]\u001b[A\n",
      " 68%|██████▊   | 1178/1727 [00:56<00:26, 20.75it/s]\u001b[A"
     ]
    },
    {
     "name": "stdout",
     "output_type": "stream",
     "text": [
      "1175\n",
      "1176\n",
      "1177\n",
      "1178\n"
     ]
    },
    {
     "name": "stderr",
     "output_type": "stream",
     "text": [
      "\n",
      " 68%|██████▊   | 1180/1727 [00:56<00:26, 20.75it/s]\u001b[A\n",
      " 68%|██████▊   | 1182/1727 [00:56<00:26, 20.74it/s]\u001b[A"
     ]
    },
    {
     "name": "stdout",
     "output_type": "stream",
     "text": [
      "1179\n",
      "1180\n",
      "1181\n",
      "1182\n"
     ]
    },
    {
     "name": "stderr",
     "output_type": "stream",
     "text": [
      "\n",
      " 69%|██████▊   | 1184/1727 [00:57<00:26, 20.73it/s]\u001b[A\n",
      " 69%|██████▊   | 1186/1727 [00:57<00:26, 20.73it/s]\u001b[A"
     ]
    },
    {
     "name": "stdout",
     "output_type": "stream",
     "text": [
      "1183\n",
      "1184\n",
      "1185\n",
      "1186\n"
     ]
    },
    {
     "name": "stderr",
     "output_type": "stream",
     "text": [
      "\n",
      " 69%|██████▉   | 1188/1727 [00:57<00:26, 20.73it/s]\u001b[A\n",
      " 69%|██████▉   | 1190/1727 [00:57<00:25, 20.72it/s]\u001b[A"
     ]
    },
    {
     "name": "stdout",
     "output_type": "stream",
     "text": [
      "1187\n",
      "1188\n",
      "1189\n",
      "1190\n"
     ]
    },
    {
     "name": "stderr",
     "output_type": "stream",
     "text": [
      "\n",
      " 69%|██████▉   | 1192/1727 [00:57<00:25, 20.70it/s]\u001b[A\n",
      " 69%|██████▉   | 1194/1727 [00:57<00:25, 20.69it/s]\u001b[A"
     ]
    },
    {
     "name": "stdout",
     "output_type": "stream",
     "text": [
      "1191\n",
      "1192\n",
      "1193\n"
     ]
    },
    {
     "name": "stderr",
     "output_type": "stream",
     "text": [
      "\n",
      " 69%|██████▉   | 1196/1727 [00:57<00:25, 20.67it/s]\u001b[A"
     ]
    },
    {
     "name": "stdout",
     "output_type": "stream",
     "text": [
      "1194\n",
      "1195\n",
      "1196\n"
     ]
    },
    {
     "name": "stderr",
     "output_type": "stream",
     "text": [
      "\n",
      " 69%|██████▉   | 1198/1727 [00:57<00:25, 20.66it/s]\u001b[A\n",
      " 69%|██████▉   | 1200/1727 [00:58<00:25, 20.64it/s]\u001b[A"
     ]
    },
    {
     "name": "stdout",
     "output_type": "stream",
     "text": [
      "1197\n",
      "1198\n",
      "1199\n"
     ]
    },
    {
     "name": "stderr",
     "output_type": "stream",
     "text": [
      "\n",
      " 70%|██████▉   | 1202/1727 [00:58<00:25, 20.63it/s]\u001b[A"
     ]
    },
    {
     "name": "stdout",
     "output_type": "stream",
     "text": [
      "1200\n",
      "1201\n",
      "1202\n"
     ]
    },
    {
     "name": "stderr",
     "output_type": "stream",
     "text": [
      "\n",
      " 70%|██████▉   | 1204/1727 [00:58<00:25, 20.61it/s]\u001b[A\n",
      " 70%|██████▉   | 1206/1727 [00:58<00:25, 20.60it/s]\u001b[A"
     ]
    },
    {
     "name": "stdout",
     "output_type": "stream",
     "text": [
      "1203\n",
      "1204\n",
      "1205\n"
     ]
    },
    {
     "name": "stderr",
     "output_type": "stream",
     "text": [
      "\n",
      " 70%|██████▉   | 1208/1727 [00:58<00:25, 20.60it/s]\u001b[A"
     ]
    },
    {
     "name": "stdout",
     "output_type": "stream",
     "text": [
      "1206\n",
      "1208\n",
      "1209\n"
     ]
    },
    {
     "name": "stderr",
     "output_type": "stream",
     "text": [
      "\n",
      " 70%|███████   | 1210/1727 [00:58<00:25, 20.58it/s]\u001b[A\n",
      " 70%|███████   | 1212/1727 [00:58<00:25, 20.57it/s]\u001b[A\n",
      " 70%|███████   | 1214/1727 [00:59<00:24, 20.56it/s]\u001b[A"
     ]
    },
    {
     "name": "stdout",
     "output_type": "stream",
     "text": [
      "1210\n",
      "1211\n",
      "1212\n",
      "1213\n"
     ]
    },
    {
     "name": "stderr",
     "output_type": "stream",
     "text": [
      "\n",
      " 70%|███████   | 1216/1727 [00:59<00:24, 20.56it/s]\u001b[A\n",
      " 71%|███████   | 1218/1727 [00:59<00:24, 20.55it/s]\u001b[A"
     ]
    },
    {
     "name": "stdout",
     "output_type": "stream",
     "text": [
      "1214\n",
      "1215\n",
      "1216\n",
      "1217\n"
     ]
    },
    {
     "name": "stderr",
     "output_type": "stream",
     "text": [
      "\n",
      " 71%|███████   | 1220/1727 [00:59<00:24, 20.54it/s]\u001b[A\n",
      " 71%|███████   | 1222/1727 [00:59<00:24, 20.54it/s]\u001b[A"
     ]
    },
    {
     "name": "stdout",
     "output_type": "stream",
     "text": [
      "1218\n",
      "1219\n",
      "1220\n",
      "1221\n"
     ]
    },
    {
     "name": "stderr",
     "output_type": "stream",
     "text": [
      "\n",
      " 71%|███████   | 1224/1727 [00:59<00:24, 20.53it/s]\u001b[A\n",
      " 71%|███████   | 1226/1727 [00:59<00:24, 20.53it/s]\u001b[A"
     ]
    },
    {
     "name": "stdout",
     "output_type": "stream",
     "text": [
      "1222\n",
      "1223\n",
      "1224\n",
      "1225\n"
     ]
    },
    {
     "name": "stderr",
     "output_type": "stream",
     "text": [
      "\n",
      " 71%|███████   | 1228/1727 [00:59<00:24, 20.52it/s]\u001b[A\n",
      " 71%|███████   | 1230/1727 [00:59<00:24, 20.52it/s]\u001b[A"
     ]
    },
    {
     "name": "stdout",
     "output_type": "stream",
     "text": [
      "1226\n",
      "1227\n",
      "1228\n",
      "1229\n"
     ]
    },
    {
     "name": "stderr",
     "output_type": "stream",
     "text": [
      "\n",
      " 71%|███████▏  | 1232/1727 [01:00<00:24, 20.51it/s]\u001b[A\n",
      " 71%|███████▏  | 1234/1727 [01:00<00:24, 20.50it/s]\u001b[A"
     ]
    },
    {
     "name": "stdout",
     "output_type": "stream",
     "text": [
      "1230\n",
      "1231\n",
      "1232\n",
      "1233\n"
     ]
    },
    {
     "name": "stderr",
     "output_type": "stream",
     "text": [
      "\n",
      " 72%|███████▏  | 1236/1727 [01:00<00:23, 20.50it/s]\u001b[A\n",
      " 72%|███████▏  | 1238/1727 [01:00<00:23, 20.49it/s]\u001b[A"
     ]
    },
    {
     "name": "stdout",
     "output_type": "stream",
     "text": [
      "1234\n",
      "1235\n",
      "1236\n",
      "1237\n"
     ]
    },
    {
     "name": "stderr",
     "output_type": "stream",
     "text": [
      "\n",
      " 72%|███████▏  | 1240/1727 [01:00<00:23, 20.49it/s]\u001b[A\n",
      " 72%|███████▏  | 1242/1727 [01:00<00:23, 20.49it/s]\u001b[A"
     ]
    },
    {
     "name": "stdout",
     "output_type": "stream",
     "text": [
      "1238\n",
      "1239\n",
      "1240\n",
      "1241\n"
     ]
    },
    {
     "name": "stderr",
     "output_type": "stream",
     "text": [
      "\n",
      " 72%|███████▏  | 1244/1727 [01:00<00:23, 20.48it/s]\u001b[A\n",
      " 72%|███████▏  | 1246/1727 [01:00<00:23, 20.48it/s]\u001b[A"
     ]
    },
    {
     "name": "stdout",
     "output_type": "stream",
     "text": [
      "1242\n",
      "1243\n",
      "1244\n",
      "1245\n"
     ]
    },
    {
     "name": "stderr",
     "output_type": "stream",
     "text": [
      "\n",
      " 72%|███████▏  | 1248/1727 [01:00<00:23, 20.47it/s]\u001b[A"
     ]
    },
    {
     "name": "stdout",
     "output_type": "stream",
     "text": [
      "1246\n",
      "1247\n",
      "1248\n",
      "1249\n"
     ]
    },
    {
     "name": "stderr",
     "output_type": "stream",
     "text": [
      "\n",
      " 72%|███████▏  | 1250/1727 [01:01<00:23, 20.46it/s]\u001b[A\n",
      " 72%|███████▏  | 1252/1727 [01:01<00:23, 20.46it/s]\u001b[A\n",
      " 73%|███████▎  | 1254/1727 [01:01<00:23, 20.45it/s]\u001b[A"
     ]
    },
    {
     "name": "stdout",
     "output_type": "stream",
     "text": [
      "1250\n",
      "1251\n",
      "1252\n",
      "1253\n"
     ]
    },
    {
     "name": "stderr",
     "output_type": "stream",
     "text": [
      "\n",
      " 73%|███████▎  | 1256/1727 [01:01<00:23, 20.45it/s]\u001b[A\n",
      " 73%|███████▎  | 1258/1727 [01:01<00:22, 20.44it/s]\u001b[A"
     ]
    },
    {
     "name": "stdout",
     "output_type": "stream",
     "text": [
      "1254\n",
      "1255\n",
      "1256\n",
      "1257\n"
     ]
    },
    {
     "name": "stderr",
     "output_type": "stream",
     "text": [
      "\n",
      " 73%|███████▎  | 1260/1727 [01:01<00:22, 20.44it/s]\u001b[A\n",
      " 73%|███████▎  | 1262/1727 [01:01<00:22, 20.44it/s]\u001b[A"
     ]
    },
    {
     "name": "stdout",
     "output_type": "stream",
     "text": [
      "1258\n",
      "1259\n",
      "1260\n",
      "1261\n"
     ]
    },
    {
     "name": "stderr",
     "output_type": "stream",
     "text": [
      "\n",
      " 73%|███████▎  | 1264/1727 [01:01<00:22, 20.43it/s]\u001b[A\n",
      " 73%|███████▎  | 1266/1727 [01:01<00:22, 20.43it/s]\u001b[A"
     ]
    },
    {
     "name": "stdout",
     "output_type": "stream",
     "text": [
      "1262\n",
      "1263\n",
      "1264\n",
      "1265\n"
     ]
    },
    {
     "name": "stderr",
     "output_type": "stream",
     "text": [
      "\n",
      " 73%|███████▎  | 1268/1727 [01:02<00:22, 20.42it/s]\u001b[A\n",
      " 74%|███████▎  | 1270/1727 [01:02<00:22, 20.42it/s]\u001b[A"
     ]
    },
    {
     "name": "stdout",
     "output_type": "stream",
     "text": [
      "1266\n",
      "1267\n",
      "1268\n",
      "1269\n"
     ]
    },
    {
     "name": "stderr",
     "output_type": "stream",
     "text": [
      "\n",
      " 74%|███████▎  | 1272/1727 [01:02<00:22, 20.41it/s]\u001b[A\n",
      " 74%|███████▍  | 1274/1727 [01:02<00:22, 20.41it/s]\u001b[A"
     ]
    },
    {
     "name": "stdout",
     "output_type": "stream",
     "text": [
      "1270\n",
      "1271\n",
      "1272\n",
      "1273\n"
     ]
    },
    {
     "name": "stderr",
     "output_type": "stream",
     "text": [
      "\n",
      " 74%|███████▍  | 1276/1727 [01:02<00:22, 20.40it/s]\u001b[A"
     ]
    },
    {
     "name": "stdout",
     "output_type": "stream",
     "text": [
      "1274\n",
      "1275\n",
      "1276\n"
     ]
    },
    {
     "name": "stderr",
     "output_type": "stream",
     "text": [
      "\n",
      " 74%|███████▍  | 1278/1727 [01:02<00:22, 20.39it/s]\u001b[A\n",
      " 74%|███████▍  | 1280/1727 [01:02<00:21, 20.37it/s]\u001b[A"
     ]
    },
    {
     "name": "stdout",
     "output_type": "stream",
     "text": [
      "1277\n",
      "1278\n",
      "1279\n"
     ]
    },
    {
     "name": "stderr",
     "output_type": "stream",
     "text": [
      "\n",
      " 74%|███████▍  | 1282/1727 [01:02<00:21, 20.36it/s]\u001b[A"
     ]
    },
    {
     "name": "stdout",
     "output_type": "stream",
     "text": [
      "1280\n",
      "1281\n",
      "1282\n"
     ]
    },
    {
     "name": "stderr",
     "output_type": "stream",
     "text": [
      "\n",
      " 74%|███████▍  | 1284/1727 [01:03<00:21, 20.35it/s]\u001b[A\n",
      " 74%|███████▍  | 1286/1727 [01:03<00:21, 20.33it/s]\u001b[A"
     ]
    },
    {
     "name": "stdout",
     "output_type": "stream",
     "text": [
      "1283\n",
      "1284\n",
      "1285\n"
     ]
    },
    {
     "name": "stderr",
     "output_type": "stream",
     "text": [
      "\n",
      " 75%|███████▍  | 1288/1727 [01:03<00:21, 20.32it/s]\u001b[A"
     ]
    },
    {
     "name": "stdout",
     "output_type": "stream",
     "text": [
      "1286\n",
      "1287\n",
      "1288\n"
     ]
    },
    {
     "name": "stderr",
     "output_type": "stream",
     "text": [
      "\n",
      " 75%|███████▍  | 1290/1727 [01:03<00:21, 20.31it/s]\u001b[A\n",
      " 75%|███████▍  | 1292/1727 [01:03<00:21, 20.29it/s]\u001b[A"
     ]
    },
    {
     "name": "stdout",
     "output_type": "stream",
     "text": [
      "1289\n",
      "1290\n",
      "1291\n"
     ]
    },
    {
     "name": "stderr",
     "output_type": "stream",
     "text": [
      "\n",
      " 75%|███████▍  | 1294/1727 [01:03<00:21, 20.29it/s]\u001b[A\n",
      " 75%|███████▌  | 1296/1727 [01:03<00:21, 20.28it/s]\u001b[A"
     ]
    },
    {
     "name": "stdout",
     "output_type": "stream",
     "text": [
      "1292\n",
      "1294\n",
      "1295\n"
     ]
    },
    {
     "name": "stderr",
     "output_type": "stream",
     "text": [
      "\n",
      " 75%|███████▌  | 1298/1727 [01:04<00:21, 20.27it/s]\u001b[A"
     ]
    },
    {
     "name": "stdout",
     "output_type": "stream",
     "text": [
      "1296\n",
      "1297\n",
      "1298\n"
     ]
    },
    {
     "name": "stderr",
     "output_type": "stream",
     "text": [
      "\n",
      " 75%|███████▌  | 1300/1727 [01:04<00:21, 20.25it/s]\u001b[A\n",
      " 75%|███████▌  | 1302/1727 [01:04<00:20, 20.25it/s]\u001b[A"
     ]
    },
    {
     "name": "stdout",
     "output_type": "stream",
     "text": [
      "1299\n",
      "1300\n",
      "1302\n"
     ]
    },
    {
     "name": "stderr",
     "output_type": "stream",
     "text": [
      "\n",
      " 76%|███████▌  | 1304/1727 [01:04<00:20, 20.24it/s]\u001b[A\n",
      " 76%|███████▌  | 1306/1727 [01:04<00:20, 20.24it/s]\u001b[A"
     ]
    },
    {
     "name": "stdout",
     "output_type": "stream",
     "text": [
      "1303\n",
      "1305\n",
      "1306\n"
     ]
    },
    {
     "name": "stderr",
     "output_type": "stream",
     "text": [
      "\n",
      " 76%|███████▌  | 1308/1727 [01:04<00:20, 20.23it/s]\u001b[A\n",
      " 76%|███████▌  | 1310/1727 [01:04<00:20, 20.22it/s]\u001b[A"
     ]
    },
    {
     "name": "stdout",
     "output_type": "stream",
     "text": [
      "1307\n",
      "1308\n",
      "1309\n",
      "1310\n"
     ]
    },
    {
     "name": "stderr",
     "output_type": "stream",
     "text": [
      "\n",
      " 76%|███████▌  | 1312/1727 [01:04<00:20, 20.21it/s]\u001b[A\n",
      " 76%|███████▌  | 1314/1727 [01:05<00:20, 20.20it/s]\u001b[A"
     ]
    },
    {
     "name": "stdout",
     "output_type": "stream",
     "text": [
      "1311\n",
      "1312\n",
      "1313\n",
      "1314\n"
     ]
    },
    {
     "name": "stderr",
     "output_type": "stream",
     "text": [
      "\n",
      " 76%|███████▌  | 1316/1727 [01:05<00:20, 20.19it/s]\u001b[A\n",
      " 76%|███████▋  | 1318/1727 [01:05<00:20, 20.18it/s]\u001b[A"
     ]
    },
    {
     "name": "stdout",
     "output_type": "stream",
     "text": [
      "1315\n",
      "1316\n",
      "1317\n"
     ]
    },
    {
     "name": "stderr",
     "output_type": "stream",
     "text": [
      "\n",
      " 76%|███████▋  | 1320/1727 [01:05<00:20, 20.18it/s]\u001b[A\n",
      " 77%|███████▋  | 1322/1727 [01:05<00:20, 20.17it/s]\u001b[A"
     ]
    },
    {
     "name": "stdout",
     "output_type": "stream",
     "text": [
      "1319\n",
      "1320\n",
      "1321\n",
      "1322\n"
     ]
    },
    {
     "name": "stderr",
     "output_type": "stream",
     "text": [
      "\n",
      " 77%|███████▋  | 1324/1727 [01:05<00:19, 20.16it/s]\u001b[A\n",
      " 77%|███████▋  | 1326/1727 [01:05<00:19, 20.15it/s]\u001b[A"
     ]
    },
    {
     "name": "stdout",
     "output_type": "stream",
     "text": [
      "1324\n",
      "1325\n",
      "1326\n",
      "1327\n"
     ]
    },
    {
     "name": "stderr",
     "output_type": "stream",
     "text": [
      "\n",
      " 77%|███████▋  | 1328/1727 [01:05<00:19, 20.14it/s]\u001b[A\n",
      " 77%|███████▋  | 1330/1727 [01:06<00:19, 20.14it/s]\u001b[A"
     ]
    },
    {
     "name": "stdout",
     "output_type": "stream",
     "text": [
      "1328\n",
      "1329\n",
      "1330\n",
      "1331\n"
     ]
    },
    {
     "name": "stderr",
     "output_type": "stream",
     "text": [
      "\n",
      " 77%|███████▋  | 1332/1727 [01:06<00:19, 20.13it/s]\u001b[A\n",
      " 77%|███████▋  | 1334/1727 [01:06<00:19, 20.12it/s]\u001b[A"
     ]
    },
    {
     "name": "stdout",
     "output_type": "stream",
     "text": [
      "1332\n",
      "1333\n",
      "1334\n",
      "1335\n"
     ]
    },
    {
     "name": "stderr",
     "output_type": "stream",
     "text": [
      "\n",
      " 77%|███████▋  | 1336/1727 [01:06<00:19, 20.11it/s]\u001b[A\n",
      " 77%|███████▋  | 1338/1727 [01:06<00:19, 20.10it/s]\u001b[A"
     ]
    },
    {
     "name": "stdout",
     "output_type": "stream",
     "text": [
      "1336\n",
      "1337\n",
      "1338\n",
      "1339\n"
     ]
    },
    {
     "name": "stderr",
     "output_type": "stream",
     "text": [
      "\n",
      " 78%|███████▊  | 1340/1727 [01:06<00:19, 20.09it/s]\u001b[A\n",
      " 78%|███████▊  | 1342/1727 [01:06<00:19, 20.08it/s]\u001b[A"
     ]
    },
    {
     "name": "stdout",
     "output_type": "stream",
     "text": [
      "1340\n",
      "1341\n",
      "1342\n",
      "1343\n"
     ]
    },
    {
     "name": "stderr",
     "output_type": "stream",
     "text": [
      "\n",
      " 78%|███████▊  | 1344/1727 [01:06<00:19, 20.07it/s]\u001b[A\n",
      " 78%|███████▊  | 1346/1727 [01:07<00:18, 20.06it/s]\u001b[A"
     ]
    },
    {
     "name": "stdout",
     "output_type": "stream",
     "text": [
      "1344\n",
      "1345\n",
      "1346\n",
      "1347\n"
     ]
    },
    {
     "name": "stderr",
     "output_type": "stream",
     "text": [
      "\n",
      " 78%|███████▊  | 1348/1727 [01:07<00:18, 20.05it/s]\u001b[A\n",
      " 78%|███████▊  | 1350/1727 [01:07<00:18, 20.04it/s]\u001b[A"
     ]
    },
    {
     "name": "stdout",
     "output_type": "stream",
     "text": [
      "1348\n",
      "1349\n",
      "1350\n",
      "1351\n"
     ]
    },
    {
     "name": "stderr",
     "output_type": "stream",
     "text": [
      "\n",
      " 78%|███████▊  | 1352/1727 [01:07<00:18, 20.03it/s]\u001b[A\n",
      " 78%|███████▊  | 1354/1727 [01:07<00:18, 20.03it/s]\u001b[A"
     ]
    },
    {
     "name": "stdout",
     "output_type": "stream",
     "text": [
      "1352\n",
      "1353\n",
      "1354\n",
      "1355\n"
     ]
    },
    {
     "name": "stderr",
     "output_type": "stream",
     "text": [
      "\n",
      " 79%|███████▊  | 1356/1727 [01:07<00:18, 20.02it/s]\u001b[A\n",
      " 79%|███████▊  | 1358/1727 [01:07<00:18, 20.01it/s]\u001b[A\n",
      " 79%|███████▊  | 1360/1727 [01:07<00:18, 20.01it/s]\u001b[A"
     ]
    },
    {
     "name": "stdout",
     "output_type": "stream",
     "text": [
      "1356\n",
      "1357\n",
      "1358\n"
     ]
    },
    {
     "name": "stderr",
     "output_type": "stream",
     "text": [
      "\n",
      " 79%|███████▉  | 1362/1727 [01:08<00:18, 20.00it/s]\u001b[A"
     ]
    },
    {
     "name": "stdout",
     "output_type": "stream",
     "text": [
      "1360\n",
      "1361\n",
      "1362\n",
      "1363\n"
     ]
    },
    {
     "name": "stderr",
     "output_type": "stream",
     "text": [
      "\n",
      " 79%|███████▉  | 1364/1727 [01:08<00:18, 19.99it/s]\u001b[A\n",
      " 79%|███████▉  | 1366/1727 [01:08<00:18, 19.98it/s]\u001b[A"
     ]
    },
    {
     "name": "stdout",
     "output_type": "stream",
     "text": [
      "1364\n",
      "1365\n",
      "1366\n",
      "1367\n"
     ]
    },
    {
     "name": "stderr",
     "output_type": "stream",
     "text": [
      "\n",
      " 79%|███████▉  | 1368/1727 [01:08<00:17, 19.97it/s]\u001b[A\n",
      " 79%|███████▉  | 1370/1727 [01:08<00:17, 19.96it/s]\u001b[A"
     ]
    },
    {
     "name": "stdout",
     "output_type": "stream",
     "text": [
      "1368\n",
      "1369\n",
      "1370\n",
      "1371\n"
     ]
    },
    {
     "name": "stderr",
     "output_type": "stream",
     "text": [
      "\n",
      " 79%|███████▉  | 1372/1727 [01:08<00:17, 19.95it/s]\u001b[A\n",
      " 80%|███████▉  | 1374/1727 [01:08<00:17, 19.94it/s]\u001b[A"
     ]
    },
    {
     "name": "stdout",
     "output_type": "stream",
     "text": [
      "1372\n",
      "1373\n",
      "1374\n",
      "1375\n"
     ]
    },
    {
     "name": "stderr",
     "output_type": "stream",
     "text": [
      "\n",
      " 80%|███████▉  | 1376/1727 [01:09<00:17, 19.94it/s]\u001b[A\n",
      " 80%|███████▉  | 1378/1727 [01:09<00:17, 19.93it/s]\u001b[A"
     ]
    },
    {
     "name": "stdout",
     "output_type": "stream",
     "text": [
      "1376\n",
      "1377\n",
      "1378\n",
      "1379\n"
     ]
    },
    {
     "name": "stderr",
     "output_type": "stream",
     "text": [
      "\n",
      " 80%|███████▉  | 1380/1727 [01:09<00:17, 19.92it/s]\u001b[A\n",
      " 80%|████████  | 1382/1727 [01:09<00:17, 19.91it/s]\u001b[A"
     ]
    },
    {
     "name": "stdout",
     "output_type": "stream",
     "text": [
      "1380\n",
      "1381\n",
      "1382\n",
      "1383\n"
     ]
    },
    {
     "name": "stderr",
     "output_type": "stream",
     "text": [
      "\n",
      " 80%|████████  | 1384/1727 [01:09<00:17, 19.90it/s]\u001b[A\n",
      " 80%|████████  | 1386/1727 [01:09<00:17, 19.89it/s]\u001b[A"
     ]
    },
    {
     "name": "stdout",
     "output_type": "stream",
     "text": [
      "1384\n",
      "1385\n",
      "1386\n",
      "1387\n"
     ]
    },
    {
     "name": "stderr",
     "output_type": "stream",
     "text": [
      "\n",
      " 80%|████████  | 1388/1727 [01:09<00:17, 19.88it/s]\u001b[A\n",
      " 80%|████████  | 1390/1727 [01:09<00:16, 19.87it/s]\u001b[A"
     ]
    },
    {
     "name": "stdout",
     "output_type": "stream",
     "text": [
      "1388\n",
      "1389\n",
      "1390\n",
      "1391\n"
     ]
    },
    {
     "name": "stderr",
     "output_type": "stream",
     "text": [
      "\n",
      " 81%|████████  | 1392/1727 [01:10<00:16, 19.87it/s]\u001b[A\n",
      " 81%|████████  | 1394/1727 [01:10<00:16, 19.86it/s]\u001b[A"
     ]
    },
    {
     "name": "stdout",
     "output_type": "stream",
     "text": [
      "1392\n",
      "1393\n",
      "1394\n",
      "1395\n"
     ]
    },
    {
     "name": "stderr",
     "output_type": "stream",
     "text": [
      "\n",
      " 81%|████████  | 1396/1727 [01:10<00:16, 19.85it/s]\u001b[A\n",
      " 81%|████████  | 1398/1727 [01:10<00:16, 19.84it/s]\u001b[A"
     ]
    },
    {
     "name": "stdout",
     "output_type": "stream",
     "text": [
      "1396\n",
      "1397\n",
      "1398\n",
      "1399\n"
     ]
    },
    {
     "name": "stderr",
     "output_type": "stream",
     "text": [
      "\n",
      " 81%|████████  | 1400/1727 [01:10<00:16, 19.83it/s]\u001b[A\n",
      " 81%|████████  | 1402/1727 [01:10<00:16, 19.82it/s]\u001b[A"
     ]
    },
    {
     "name": "stdout",
     "output_type": "stream",
     "text": [
      "1400\n",
      "1401\n",
      "1402\n"
     ]
    },
    {
     "name": "stderr",
     "output_type": "stream",
     "text": [
      "\n",
      " 81%|████████▏ | 1404/1727 [01:10<00:16, 19.81it/s]\u001b[A\n",
      " 81%|████████▏ | 1406/1727 [01:10<00:16, 19.81it/s]\u001b[A"
     ]
    },
    {
     "name": "stdout",
     "output_type": "stream",
     "text": [
      "1403\n",
      "1404\n",
      "1405\n",
      "1406\n"
     ]
    },
    {
     "name": "stderr",
     "output_type": "stream",
     "text": [
      "\n",
      " 82%|████████▏ | 1408/1727 [01:11<00:16, 19.80it/s]\u001b[A\n",
      " 82%|████████▏ | 1410/1727 [01:11<00:16, 19.79it/s]\u001b[A"
     ]
    },
    {
     "name": "stdout",
     "output_type": "stream",
     "text": [
      "1407\n",
      "1408\n",
      "1409\n",
      "1410\n"
     ]
    },
    {
     "name": "stderr",
     "output_type": "stream",
     "text": [
      "\n",
      " 82%|████████▏ | 1412/1727 [01:11<00:15, 19.79it/s]\u001b[A\n",
      " 82%|████████▏ | 1414/1727 [01:11<00:15, 19.78it/s]\u001b[A"
     ]
    },
    {
     "name": "stdout",
     "output_type": "stream",
     "text": [
      "1411\n",
      "1412\n",
      "1413\n",
      "1414\n"
     ]
    },
    {
     "name": "stderr",
     "output_type": "stream",
     "text": [
      "\n",
      " 82%|████████▏ | 1416/1727 [01:11<00:15, 19.77it/s]\u001b[A\n",
      " 82%|████████▏ | 1418/1727 [01:11<00:15, 19.77it/s]\u001b[A"
     ]
    },
    {
     "name": "stdout",
     "output_type": "stream",
     "text": [
      "1415\n",
      "1416\n",
      "1417\n",
      "1418\n"
     ]
    },
    {
     "name": "stderr",
     "output_type": "stream",
     "text": [
      "\n",
      " 82%|████████▏ | 1420/1727 [01:11<00:15, 19.76it/s]\u001b[A\n",
      " 82%|████████▏ | 1422/1727 [01:11<00:15, 19.75it/s]\u001b[A"
     ]
    },
    {
     "name": "stdout",
     "output_type": "stream",
     "text": [
      "1419\n",
      "1420\n",
      "1421\n",
      "1422\n"
     ]
    },
    {
     "name": "stderr",
     "output_type": "stream",
     "text": [
      "\n",
      " 82%|████████▏ | 1424/1727 [01:12<00:15, 19.74it/s]\u001b[A\n",
      " 83%|████████▎ | 1426/1727 [01:12<00:15, 19.74it/s]\u001b[A"
     ]
    },
    {
     "name": "stdout",
     "output_type": "stream",
     "text": [
      "1423\n",
      "1424\n",
      "1425\n",
      "1426\n"
     ]
    },
    {
     "name": "stderr",
     "output_type": "stream",
     "text": [
      "\n",
      " 83%|████████▎ | 1428/1727 [01:12<00:15, 19.73it/s]\u001b[A\n",
      " 83%|████████▎ | 1430/1727 [01:12<00:15, 19.72it/s]\u001b[A"
     ]
    },
    {
     "name": "stdout",
     "output_type": "stream",
     "text": [
      "1427\n",
      "1428\n",
      "1429\n",
      "1430\n"
     ]
    },
    {
     "name": "stderr",
     "output_type": "stream",
     "text": [
      "\n",
      " 83%|████████▎ | 1432/1727 [01:12<00:14, 19.71it/s]\u001b[A\n",
      " 83%|████████▎ | 1434/1727 [01:12<00:14, 19.71it/s]\u001b[A"
     ]
    },
    {
     "name": "stdout",
     "output_type": "stream",
     "text": [
      "1431\n",
      "1432\n",
      "1433\n",
      "1434\n"
     ]
    },
    {
     "name": "stderr",
     "output_type": "stream",
     "text": [
      "\n",
      " 83%|████████▎ | 1436/1727 [01:12<00:14, 19.70it/s]\u001b[A\n",
      " 83%|████████▎ | 1438/1727 [01:13<00:14, 19.69it/s]\u001b[A"
     ]
    },
    {
     "name": "stdout",
     "output_type": "stream",
     "text": [
      "1435\n",
      "1436\n",
      "1437\n",
      "1438\n"
     ]
    },
    {
     "name": "stderr",
     "output_type": "stream",
     "text": [
      "\n",
      " 83%|████████▎ | 1440/1727 [01:13<00:14, 19.69it/s]\u001b[A\n",
      " 83%|████████▎ | 1442/1727 [01:13<00:14, 19.68it/s]\u001b[A"
     ]
    },
    {
     "name": "stdout",
     "output_type": "stream",
     "text": [
      "1439\n",
      "1440\n",
      "1441\n",
      "1442\n"
     ]
    },
    {
     "name": "stderr",
     "output_type": "stream",
     "text": [
      "\n",
      " 84%|████████▎ | 1444/1727 [01:13<00:14, 19.67it/s]\u001b[A\n",
      " 84%|████████▎ | 1446/1727 [01:13<00:14, 19.67it/s]\u001b[A"
     ]
    },
    {
     "name": "stdout",
     "output_type": "stream",
     "text": [
      "1443\n",
      "1444\n",
      "1445\n",
      "1446\n"
     ]
    },
    {
     "name": "stderr",
     "output_type": "stream",
     "text": [
      "\n",
      " 84%|████████▍ | 1448/1727 [01:13<00:14, 19.66it/s]\u001b[A\n",
      " 84%|████████▍ | 1450/1727 [01:13<00:14, 19.65it/s]\u001b[A"
     ]
    },
    {
     "name": "stdout",
     "output_type": "stream",
     "text": [
      "1447\n",
      "1448\n",
      "1449\n",
      "1450\n"
     ]
    },
    {
     "name": "stderr",
     "output_type": "stream",
     "text": [
      "\n",
      " 84%|████████▍ | 1452/1727 [01:13<00:13, 19.64it/s]\u001b[A\n",
      " 84%|████████▍ | 1454/1727 [01:14<00:13, 19.64it/s]\u001b[A"
     ]
    },
    {
     "name": "stdout",
     "output_type": "stream",
     "text": [
      "1451\n",
      "1452\n",
      "1453\n",
      "1454\n"
     ]
    },
    {
     "name": "stderr",
     "output_type": "stream",
     "text": [
      "\n",
      " 84%|████████▍ | 1456/1727 [01:14<00:13, 19.63it/s]\u001b[A\n",
      " 84%|████████▍ | 1458/1727 [01:14<00:13, 19.63it/s]\u001b[A"
     ]
    },
    {
     "name": "stdout",
     "output_type": "stream",
     "text": [
      "1455\n",
      "1456\n",
      "1457\n",
      "1458\n"
     ]
    },
    {
     "name": "stderr",
     "output_type": "stream",
     "text": [
      "\n",
      " 85%|████████▍ | 1460/1727 [01:14<00:13, 19.62it/s]\u001b[A\n",
      " 85%|████████▍ | 1462/1727 [01:14<00:13, 19.61it/s]\u001b[A"
     ]
    },
    {
     "name": "stdout",
     "output_type": "stream",
     "text": [
      "1459\n",
      "1460\n",
      "1461\n",
      "1462\n"
     ]
    },
    {
     "name": "stderr",
     "output_type": "stream",
     "text": [
      "\n",
      " 85%|████████▍ | 1464/1727 [01:14<00:13, 19.61it/s]\u001b[A\n",
      " 85%|████████▍ | 1466/1727 [01:14<00:13, 19.60it/s]\u001b[A"
     ]
    },
    {
     "name": "stdout",
     "output_type": "stream",
     "text": [
      "1463\n",
      "1464\n",
      "1465\n",
      "1466\n"
     ]
    },
    {
     "name": "stderr",
     "output_type": "stream",
     "text": [
      "\n",
      " 85%|████████▌ | 1468/1727 [01:14<00:13, 19.59it/s]\u001b[A\n",
      " 85%|████████▌ | 1470/1727 [01:15<00:13, 19.58it/s]\u001b[A"
     ]
    },
    {
     "name": "stdout",
     "output_type": "stream",
     "text": [
      "1467\n",
      "1468\n",
      "1469\n",
      "1470\n"
     ]
    },
    {
     "name": "stderr",
     "output_type": "stream",
     "text": [
      "\n",
      " 85%|████████▌ | 1472/1727 [01:15<00:13, 19.58it/s]\u001b[A\n",
      " 85%|████████▌ | 1474/1727 [01:15<00:12, 19.58it/s]\u001b[A"
     ]
    },
    {
     "name": "stdout",
     "output_type": "stream",
     "text": [
      "1471\n",
      "1472\n",
      "1473\n",
      "1474\n"
     ]
    },
    {
     "name": "stderr",
     "output_type": "stream",
     "text": [
      "\n",
      " 85%|████████▌ | 1476/1727 [01:15<00:12, 19.57it/s]\u001b[A\n",
      " 86%|████████▌ | 1478/1727 [01:15<00:12, 19.57it/s]\u001b[A"
     ]
    },
    {
     "name": "stdout",
     "output_type": "stream",
     "text": [
      "1475\n",
      "1476\n",
      "1477\n",
      "1478\n"
     ]
    },
    {
     "name": "stderr",
     "output_type": "stream",
     "text": [
      "\n",
      " 86%|████████▌ | 1480/1727 [01:15<00:12, 19.57it/s]\u001b[A\n",
      " 86%|████████▌ | 1482/1727 [01:15<00:12, 19.56it/s]\u001b[A"
     ]
    },
    {
     "name": "stdout",
     "output_type": "stream",
     "text": [
      "1479\n",
      "1480\n",
      "1481\n",
      "1482\n"
     ]
    },
    {
     "name": "stderr",
     "output_type": "stream",
     "text": [
      "\n",
      " 86%|████████▌ | 1484/1727 [01:15<00:12, 19.56it/s]\u001b[A\n",
      " 86%|████████▌ | 1486/1727 [01:15<00:12, 19.56it/s]\u001b[A"
     ]
    },
    {
     "name": "stdout",
     "output_type": "stream",
     "text": [
      "1483\n",
      "1484\n",
      "1485\n",
      "1486\n"
     ]
    },
    {
     "name": "stderr",
     "output_type": "stream",
     "text": [
      "\n",
      " 86%|████████▌ | 1488/1727 [01:16<00:12, 19.55it/s]\u001b[A\n",
      " 86%|████████▋ | 1490/1727 [01:16<00:12, 19.55it/s]\u001b[A"
     ]
    },
    {
     "name": "stdout",
     "output_type": "stream",
     "text": [
      "1487\n",
      "1488\n",
      "1489\n",
      "1490\n"
     ]
    },
    {
     "name": "stderr",
     "output_type": "stream",
     "text": [
      "\n",
      " 86%|████████▋ | 1492/1727 [01:16<00:12, 19.55it/s]\u001b[A\n",
      " 87%|████████▋ | 1494/1727 [01:16<00:11, 19.54it/s]\u001b[A"
     ]
    },
    {
     "name": "stdout",
     "output_type": "stream",
     "text": [
      "1491\n",
      "1492\n",
      "1493\n",
      "1494\n"
     ]
    },
    {
     "name": "stderr",
     "output_type": "stream",
     "text": [
      "\n",
      " 87%|████████▋ | 1496/1727 [01:16<00:11, 19.54it/s]\u001b[A\n",
      " 87%|████████▋ | 1498/1727 [01:16<00:11, 19.54it/s]\u001b[A"
     ]
    },
    {
     "name": "stdout",
     "output_type": "stream",
     "text": [
      "1495\n",
      "1496\n",
      "1497\n",
      "1498\n"
     ]
    },
    {
     "name": "stderr",
     "output_type": "stream",
     "text": [
      "\n",
      " 87%|████████▋ | 1500/1727 [01:16<00:11, 19.53it/s]\u001b[A\n",
      " 87%|████████▋ | 1502/1727 [01:16<00:11, 19.53it/s]\u001b[A"
     ]
    },
    {
     "name": "stdout",
     "output_type": "stream",
     "text": [
      "1499\n",
      "1500\n",
      "1501\n",
      "1502\n"
     ]
    },
    {
     "name": "stderr",
     "output_type": "stream",
     "text": [
      "\n",
      " 87%|████████▋ | 1504/1727 [01:17<00:11, 19.52it/s]\u001b[A\n",
      " 87%|████████▋ | 1506/1727 [01:17<00:11, 19.52it/s]\u001b[A"
     ]
    },
    {
     "name": "stdout",
     "output_type": "stream",
     "text": [
      "1503\n",
      "1504\n",
      "1505\n",
      "1506\n"
     ]
    },
    {
     "name": "stderr",
     "output_type": "stream",
     "text": [
      "\n",
      " 87%|████████▋ | 1508/1727 [01:17<00:11, 19.52it/s]\u001b[A\n",
      " 87%|████████▋ | 1510/1727 [01:17<00:11, 19.52it/s]\u001b[A"
     ]
    },
    {
     "name": "stdout",
     "output_type": "stream",
     "text": [
      "1507\n",
      "1508\n",
      "1509\n",
      "1510\n"
     ]
    },
    {
     "name": "stderr",
     "output_type": "stream",
     "text": [
      "\n",
      " 88%|████████▊ | 1512/1727 [01:17<00:11, 19.51it/s]\u001b[A\n",
      " 88%|████████▊ | 1514/1727 [01:17<00:10, 19.51it/s]\u001b[A"
     ]
    },
    {
     "name": "stdout",
     "output_type": "stream",
     "text": [
      "1511\n",
      "1512\n",
      "1513\n",
      "1514\n"
     ]
    },
    {
     "name": "stderr",
     "output_type": "stream",
     "text": [
      "\n",
      " 88%|████████▊ | 1516/1727 [01:17<00:10, 19.50it/s]\u001b[A\n",
      " 88%|████████▊ | 1518/1727 [01:17<00:10, 19.50it/s]\u001b[A"
     ]
    },
    {
     "name": "stdout",
     "output_type": "stream",
     "text": [
      "1515\n",
      "1516\n",
      "1517\n",
      "1518\n"
     ]
    },
    {
     "name": "stderr",
     "output_type": "stream",
     "text": [
      "\n",
      " 88%|████████▊ | 1520/1727 [01:17<00:10, 19.50it/s]\u001b[A\n",
      " 88%|████████▊ | 1522/1727 [01:18<00:10, 19.50it/s]\u001b[A"
     ]
    },
    {
     "name": "stdout",
     "output_type": "stream",
     "text": [
      "1519\n",
      "1520\n",
      "1521\n",
      "1522\n"
     ]
    },
    {
     "name": "stderr",
     "output_type": "stream",
     "text": [
      "\n",
      " 88%|████████▊ | 1524/1727 [01:18<00:10, 19.49it/s]\u001b[A\n",
      " 88%|████████▊ | 1526/1727 [01:18<00:10, 19.49it/s]\u001b[A"
     ]
    },
    {
     "name": "stdout",
     "output_type": "stream",
     "text": [
      "1523\n",
      "1524\n",
      "1525\n",
      "1526\n"
     ]
    },
    {
     "name": "stderr",
     "output_type": "stream",
     "text": [
      "\n",
      " 88%|████████▊ | 1528/1727 [01:18<00:10, 19.48it/s]\u001b[A\n",
      " 89%|████████▊ | 1530/1727 [01:18<00:10, 19.48it/s]\u001b[A"
     ]
    },
    {
     "name": "stdout",
     "output_type": "stream",
     "text": [
      "1527\n",
      "1528\n",
      "1529\n"
     ]
    },
    {
     "name": "stderr",
     "output_type": "stream",
     "text": [
      "\n",
      " 89%|████████▊ | 1532/1727 [01:18<00:10, 19.47it/s]\u001b[A"
     ]
    },
    {
     "name": "stdout",
     "output_type": "stream",
     "text": [
      "1530\n",
      "1531\n",
      "1532\n"
     ]
    },
    {
     "name": "stderr",
     "output_type": "stream",
     "text": [
      "\n",
      " 89%|████████▉ | 1534/1727 [01:18<00:09, 19.45it/s]\u001b[A\n",
      " 89%|████████▉ | 1536/1727 [01:18<00:09, 19.45it/s]\u001b[A"
     ]
    },
    {
     "name": "stdout",
     "output_type": "stream",
     "text": [
      "1533\n",
      "1534\n",
      "1535\n"
     ]
    },
    {
     "name": "stderr",
     "output_type": "stream",
     "text": [
      "\n",
      " 89%|████████▉ | 1538/1727 [01:19<00:09, 19.44it/s]\u001b[A"
     ]
    },
    {
     "name": "stdout",
     "output_type": "stream",
     "text": [
      "1536\n",
      "1537\n",
      "1538\n"
     ]
    },
    {
     "name": "stderr",
     "output_type": "stream",
     "text": [
      "\n",
      " 89%|████████▉ | 1540/1727 [01:19<00:09, 19.43it/s]\u001b[A\n",
      " 89%|████████▉ | 1542/1727 [01:19<00:09, 19.42it/s]\u001b[A"
     ]
    },
    {
     "name": "stdout",
     "output_type": "stream",
     "text": [
      "1539\n",
      "1540\n",
      "1541\n",
      "1542\n"
     ]
    },
    {
     "name": "stderr",
     "output_type": "stream",
     "text": [
      "\n",
      " 89%|████████▉ | 1544/1727 [01:19<00:09, 19.42it/s]\u001b[A\n",
      " 90%|████████▉ | 1546/1727 [01:19<00:09, 19.42it/s]\u001b[A"
     ]
    },
    {
     "name": "stdout",
     "output_type": "stream",
     "text": [
      "1543\n",
      "1544\n",
      "1545\n",
      "1546\n"
     ]
    },
    {
     "name": "stderr",
     "output_type": "stream",
     "text": [
      "\n",
      " 90%|████████▉ | 1548/1727 [01:19<00:09, 19.41it/s]\u001b[A\n",
      " 90%|████████▉ | 1550/1727 [01:19<00:09, 19.40it/s]\u001b[A"
     ]
    },
    {
     "name": "stdout",
     "output_type": "stream",
     "text": [
      "1547\n",
      "1548\n",
      "1549\n"
     ]
    },
    {
     "name": "stderr",
     "output_type": "stream",
     "text": [
      "\n",
      " 90%|████████▉ | 1552/1727 [01:20<00:09, 19.39it/s]\u001b[A"
     ]
    },
    {
     "name": "stdout",
     "output_type": "stream",
     "text": [
      "1550\n",
      "1551\n",
      "1552\n"
     ]
    },
    {
     "name": "stderr",
     "output_type": "stream",
     "text": [
      "\n",
      " 90%|████████▉ | 1554/1727 [01:20<00:08, 19.39it/s]\u001b[A\n",
      " 90%|█████████ | 1556/1727 [01:20<00:08, 19.39it/s]\u001b[A"
     ]
    },
    {
     "name": "stdout",
     "output_type": "stream",
     "text": [
      "1553\n",
      "1554\n",
      "1555\n",
      "1556\n"
     ]
    },
    {
     "name": "stderr",
     "output_type": "stream",
     "text": [
      "\n",
      " 90%|█████████ | 1558/1727 [01:20<00:08, 19.38it/s]\u001b[A\n",
      " 90%|█████████ | 1560/1727 [01:20<00:08, 19.38it/s]\u001b[A"
     ]
    },
    {
     "name": "stdout",
     "output_type": "stream",
     "text": [
      "1557\n",
      "1558\n",
      "1559\n",
      "1560\n"
     ]
    },
    {
     "name": "stderr",
     "output_type": "stream",
     "text": [
      "\n",
      " 90%|█████████ | 1562/1727 [01:20<00:08, 19.38it/s]\u001b[A\n",
      " 91%|█████████ | 1564/1727 [01:20<00:08, 19.38it/s]\u001b[A"
     ]
    },
    {
     "name": "stdout",
     "output_type": "stream",
     "text": [
      "1561\n",
      "1562\n",
      "1563\n",
      "1564\n"
     ]
    },
    {
     "name": "stderr",
     "output_type": "stream",
     "text": [
      "\n",
      " 91%|█████████ | 1566/1727 [01:20<00:08, 19.37it/s]\u001b[A\n",
      " 91%|█████████ | 1568/1727 [01:20<00:08, 19.37it/s]\u001b[A"
     ]
    },
    {
     "name": "stdout",
     "output_type": "stream",
     "text": [
      "1565\n",
      "1566\n",
      "1567\n",
      "1568\n"
     ]
    },
    {
     "name": "stderr",
     "output_type": "stream",
     "text": [
      "\n",
      " 91%|█████████ | 1570/1727 [01:21<00:08, 19.37it/s]\u001b[A\n",
      " 91%|█████████ | 1572/1727 [01:21<00:08, 19.37it/s]\u001b[A"
     ]
    },
    {
     "name": "stdout",
     "output_type": "stream",
     "text": [
      "1569\n",
      "1570\n",
      "1571\n",
      "1572\n"
     ]
    },
    {
     "name": "stderr",
     "output_type": "stream",
     "text": [
      "\n",
      " 91%|█████████ | 1574/1727 [01:21<00:07, 19.37it/s]\u001b[A\n",
      " 91%|█████████▏| 1576/1727 [01:21<00:07, 19.37it/s]\u001b[A"
     ]
    },
    {
     "name": "stdout",
     "output_type": "stream",
     "text": [
      "1573\n",
      "1574\n",
      "1575\n",
      "1576\n"
     ]
    },
    {
     "name": "stderr",
     "output_type": "stream",
     "text": [
      "\n",
      " 91%|█████████▏| 1578/1727 [01:21<00:07, 19.36it/s]\u001b[A\n",
      " 91%|█████████▏| 1580/1727 [01:21<00:07, 19.36it/s]\u001b[A"
     ]
    },
    {
     "name": "stdout",
     "output_type": "stream",
     "text": [
      "1577\n",
      "1578\n",
      "1579\n",
      "1580\n"
     ]
    },
    {
     "name": "stderr",
     "output_type": "stream",
     "text": [
      "\n",
      " 92%|█████████▏| 1582/1727 [01:21<00:07, 19.36it/s]\u001b[A\n",
      " 92%|█████████▏| 1584/1727 [01:21<00:07, 19.36it/s]\u001b[A"
     ]
    },
    {
     "name": "stdout",
     "output_type": "stream",
     "text": [
      "1581\n",
      "1582\n",
      "1583\n",
      "1584\n"
     ]
    },
    {
     "name": "stderr",
     "output_type": "stream",
     "text": [
      "\n",
      " 92%|█████████▏| 1586/1727 [01:21<00:07, 19.35it/s]\u001b[A\n",
      " 92%|█████████▏| 1588/1727 [01:22<00:07, 19.35it/s]\u001b[A"
     ]
    },
    {
     "name": "stdout",
     "output_type": "stream",
     "text": [
      "1585\n",
      "1586\n",
      "1587\n",
      "1588\n"
     ]
    },
    {
     "name": "stderr",
     "output_type": "stream",
     "text": [
      "\n",
      " 92%|█████████▏| 1590/1727 [01:22<00:07, 19.34it/s]\u001b[A\n",
      " 92%|█████████▏| 1592/1727 [01:22<00:06, 19.33it/s]\u001b[A"
     ]
    },
    {
     "name": "stdout",
     "output_type": "stream",
     "text": [
      "1589\n",
      "1590\n",
      "1591\n"
     ]
    },
    {
     "name": "stderr",
     "output_type": "stream",
     "text": [
      "\n",
      " 92%|█████████▏| 1594/1727 [01:22<00:06, 19.32it/s]\u001b[A"
     ]
    },
    {
     "name": "stdout",
     "output_type": "stream",
     "text": [
      "1592\n",
      "1593\n",
      "1594\n"
     ]
    },
    {
     "name": "stderr",
     "output_type": "stream",
     "text": [
      "\n",
      " 92%|█████████▏| 1596/1727 [01:22<00:06, 19.31it/s]\u001b[A\n",
      " 93%|█████████▎| 1598/1727 [01:22<00:06, 19.30it/s]\u001b[A"
     ]
    },
    {
     "name": "stdout",
     "output_type": "stream",
     "text": [
      "1595\n",
      "1596\n",
      "1597\n"
     ]
    },
    {
     "name": "stderr",
     "output_type": "stream",
     "text": [
      "\n",
      " 93%|█████████▎| 1600/1727 [01:22<00:06, 19.29it/s]\u001b[A"
     ]
    },
    {
     "name": "stdout",
     "output_type": "stream",
     "text": [
      "1598\n",
      "1599\n",
      "1600\n"
     ]
    },
    {
     "name": "stderr",
     "output_type": "stream",
     "text": [
      "\n",
      " 93%|█████████▎| 1602/1727 [01:23<00:06, 19.29it/s]\u001b[A\n",
      " 93%|█████████▎| 1604/1727 [01:23<00:06, 19.28it/s]\u001b[A"
     ]
    },
    {
     "name": "stdout",
     "output_type": "stream",
     "text": [
      "1601\n",
      "1602\n",
      "1603\n"
     ]
    },
    {
     "name": "stderr",
     "output_type": "stream",
     "text": [
      "\n",
      " 93%|█████████▎| 1606/1727 [01:23<00:06, 19.27it/s]\u001b[A"
     ]
    },
    {
     "name": "stdout",
     "output_type": "stream",
     "text": [
      "1604\n",
      "1605\n",
      "1606\n",
      "1607\n"
     ]
    },
    {
     "name": "stderr",
     "output_type": "stream",
     "text": [
      "\n",
      " 93%|█████████▎| 1608/1727 [01:23<00:06, 19.26it/s]\u001b[A\n",
      " 93%|█████████▎| 1610/1727 [01:23<00:06, 19.25it/s]\u001b[A"
     ]
    },
    {
     "name": "stdout",
     "output_type": "stream",
     "text": [
      "1608\n",
      "1609\n",
      "1610\n"
     ]
    },
    {
     "name": "stderr",
     "output_type": "stream",
     "text": [
      "\n",
      " 93%|█████████▎| 1612/1727 [01:23<00:05, 19.25it/s]\u001b[A\n",
      " 93%|█████████▎| 1614/1727 [01:23<00:05, 19.24it/s]\u001b[A"
     ]
    },
    {
     "name": "stdout",
     "output_type": "stream",
     "text": [
      "1611\n",
      "1612\n",
      "1613\n"
     ]
    },
    {
     "name": "stderr",
     "output_type": "stream",
     "text": [
      "\n",
      " 94%|█████████▎| 1616/1727 [01:24<00:05, 19.23it/s]\u001b[A"
     ]
    },
    {
     "name": "stdout",
     "output_type": "stream",
     "text": [
      "1614\n",
      "1615\n",
      "1616\n"
     ]
    },
    {
     "name": "stderr",
     "output_type": "stream",
     "text": [
      "\n",
      " 94%|█████████▎| 1618/1727 [01:24<00:05, 19.22it/s]\u001b[A\n",
      " 94%|█████████▍| 1620/1727 [01:24<00:05, 19.22it/s]\u001b[A"
     ]
    },
    {
     "name": "stdout",
     "output_type": "stream",
     "text": [
      "1617\n",
      "1618\n",
      "1619\n"
     ]
    },
    {
     "name": "stderr",
     "output_type": "stream",
     "text": [
      "\n",
      " 94%|█████████▍| 1622/1727 [01:24<00:05, 19.21it/s]\u001b[A\n",
      " 94%|█████████▍| 1624/1727 [01:24<00:05, 19.21it/s]\u001b[A"
     ]
    },
    {
     "name": "stdout",
     "output_type": "stream",
     "text": [
      "1620\n",
      "1621\n",
      "1622\n",
      "1623\n"
     ]
    },
    {
     "name": "stderr",
     "output_type": "stream",
     "text": [
      "\n",
      " 94%|█████████▍| 1626/1727 [01:24<00:05, 19.21it/s]\u001b[A\n",
      " 94%|█████████▍| 1628/1727 [01:24<00:05, 19.20it/s]\u001b[A"
     ]
    },
    {
     "name": "stdout",
     "output_type": "stream",
     "text": [
      "1624\n",
      "1625\n",
      "1626\n",
      "1627\n"
     ]
    },
    {
     "name": "stderr",
     "output_type": "stream",
     "text": [
      "\n",
      " 94%|█████████▍| 1630/1727 [01:24<00:05, 19.20it/s]\u001b[A\n",
      " 94%|█████████▍| 1632/1727 [01:24<00:04, 19.20it/s]\u001b[A"
     ]
    },
    {
     "name": "stdout",
     "output_type": "stream",
     "text": [
      "1628\n",
      "1629\n",
      "1630\n",
      "1631\n"
     ]
    },
    {
     "name": "stderr",
     "output_type": "stream",
     "text": [
      "\n",
      " 95%|█████████▍| 1634/1727 [01:25<00:04, 19.20it/s]\u001b[A\n",
      " 95%|█████████▍| 1636/1727 [01:25<00:04, 19.20it/s]\u001b[A"
     ]
    },
    {
     "name": "stdout",
     "output_type": "stream",
     "text": [
      "1632\n",
      "1633\n",
      "1634\n",
      "1635\n"
     ]
    },
    {
     "name": "stderr",
     "output_type": "stream",
     "text": [
      "\n",
      " 95%|█████████▍| 1638/1727 [01:25<00:04, 19.20it/s]\u001b[A\n",
      " 95%|█████████▍| 1640/1727 [01:25<00:04, 19.19it/s]\u001b[A"
     ]
    },
    {
     "name": "stdout",
     "output_type": "stream",
     "text": [
      "1636\n",
      "1637\n",
      "1638\n",
      "1639\n"
     ]
    },
    {
     "name": "stderr",
     "output_type": "stream",
     "text": [
      "\n",
      " 95%|█████████▌| 1642/1727 [01:25<00:04, 19.19it/s]\u001b[A\n",
      " 95%|█████████▌| 1644/1727 [01:25<00:04, 19.19it/s]\u001b[A"
     ]
    },
    {
     "name": "stdout",
     "output_type": "stream",
     "text": [
      "1640\n",
      "1641\n",
      "1642\n",
      "1643\n"
     ]
    },
    {
     "name": "stderr",
     "output_type": "stream",
     "text": [
      "\n",
      " 95%|█████████▌| 1646/1727 [01:25<00:04, 19.19it/s]\u001b[A\n",
      " 95%|█████████▌| 1648/1727 [01:25<00:04, 19.19it/s]\u001b[A"
     ]
    },
    {
     "name": "stdout",
     "output_type": "stream",
     "text": [
      "1644\n",
      "1645\n",
      "1646\n",
      "1647\n"
     ]
    },
    {
     "name": "stderr",
     "output_type": "stream",
     "text": [
      "\n",
      " 96%|█████████▌| 1650/1727 [01:26<00:04, 19.19it/s]\u001b[A\n",
      " 96%|█████████▌| 1652/1727 [01:26<00:03, 19.18it/s]\u001b[A"
     ]
    },
    {
     "name": "stdout",
     "output_type": "stream",
     "text": [
      "1648\n",
      "1649\n",
      "1650\n",
      "1651\n"
     ]
    },
    {
     "name": "stderr",
     "output_type": "stream",
     "text": [
      "\n",
      " 96%|█████████▌| 1654/1727 [01:26<00:03, 19.18it/s]\u001b[A\n",
      " 96%|█████████▌| 1656/1727 [01:26<00:03, 19.18it/s]\u001b[A"
     ]
    },
    {
     "name": "stdout",
     "output_type": "stream",
     "text": [
      "1652\n",
      "1653\n",
      "1654\n",
      "1655\n"
     ]
    },
    {
     "name": "stderr",
     "output_type": "stream",
     "text": [
      "\n",
      " 96%|█████████▌| 1658/1727 [01:26<00:03, 19.18it/s]\u001b[A\n",
      " 96%|█████████▌| 1660/1727 [01:26<00:03, 19.18it/s]\u001b[A"
     ]
    },
    {
     "name": "stdout",
     "output_type": "stream",
     "text": [
      "1656\n",
      "1657\n",
      "1658\n",
      "1659\n"
     ]
    },
    {
     "name": "stderr",
     "output_type": "stream",
     "text": [
      "\n",
      " 96%|█████████▌| 1662/1727 [01:26<00:03, 19.17it/s]\u001b[A\n",
      " 96%|█████████▋| 1664/1727 [01:26<00:03, 19.17it/s]\u001b[A"
     ]
    },
    {
     "name": "stdout",
     "output_type": "stream",
     "text": [
      "1660\n",
      "1661\n",
      "1662\n",
      "1663\n"
     ]
    },
    {
     "name": "stderr",
     "output_type": "stream",
     "text": [
      "\n",
      " 96%|█████████▋| 1666/1727 [01:26<00:03, 19.17it/s]\u001b[A\n",
      " 97%|█████████▋| 1668/1727 [01:27<00:03, 19.17it/s]\u001b[A"
     ]
    },
    {
     "name": "stdout",
     "output_type": "stream",
     "text": [
      "1664\n",
      "1665\n",
      "1666\n",
      "1667\n"
     ]
    },
    {
     "name": "stderr",
     "output_type": "stream",
     "text": [
      "\n",
      " 97%|█████████▋| 1670/1727 [01:27<00:02, 19.17it/s]\u001b[A\n",
      " 97%|█████████▋| 1672/1727 [01:27<00:02, 19.17it/s]\u001b[A"
     ]
    },
    {
     "name": "stdout",
     "output_type": "stream",
     "text": [
      "1668\n",
      "1669\n",
      "1670\n",
      "1671\n"
     ]
    },
    {
     "name": "stderr",
     "output_type": "stream",
     "text": [
      "\n",
      " 97%|█████████▋| 1674/1727 [01:27<00:02, 19.17it/s]\u001b[A\n",
      " 97%|█████████▋| 1676/1727 [01:27<00:02, 19.16it/s]\u001b[A"
     ]
    },
    {
     "name": "stdout",
     "output_type": "stream",
     "text": [
      "1672\n",
      "1673\n",
      "1674\n",
      "1675\n"
     ]
    },
    {
     "name": "stderr",
     "output_type": "stream",
     "text": [
      "\n",
      " 97%|█████████▋| 1678/1727 [01:27<00:02, 19.16it/s]\u001b[A\n",
      " 97%|█████████▋| 1680/1727 [01:27<00:02, 19.16it/s]\u001b[A"
     ]
    },
    {
     "name": "stdout",
     "output_type": "stream",
     "text": [
      "1676\n",
      "1677\n",
      "1678\n",
      "1679\n"
     ]
    },
    {
     "name": "stderr",
     "output_type": "stream",
     "text": [
      "\n",
      " 97%|█████████▋| 1682/1727 [01:27<00:02, 19.16it/s]\u001b[A\n",
      " 98%|█████████▊| 1684/1727 [01:27<00:02, 19.16it/s]\u001b[A"
     ]
    },
    {
     "name": "stdout",
     "output_type": "stream",
     "text": [
      "1680\n",
      "1681\n",
      "1682\n",
      "1683\n"
     ]
    },
    {
     "name": "stderr",
     "output_type": "stream",
     "text": [
      "\n",
      " 98%|█████████▊| 1686/1727 [01:28<00:02, 19.15it/s]\u001b[A\n",
      " 98%|█████████▊| 1688/1727 [01:28<00:02, 19.15it/s]\u001b[A"
     ]
    },
    {
     "name": "stdout",
     "output_type": "stream",
     "text": [
      "1684\n",
      "1685\n",
      "1686\n",
      "1687\n"
     ]
    },
    {
     "name": "stderr",
     "output_type": "stream",
     "text": [
      "\n",
      " 98%|█████████▊| 1690/1727 [01:28<00:01, 19.15it/s]\u001b[A\n",
      " 98%|█████████▊| 1692/1727 [01:28<00:01, 19.15it/s]\u001b[A"
     ]
    },
    {
     "name": "stdout",
     "output_type": "stream",
     "text": [
      "1688\n",
      "1689\n",
      "1690\n",
      "1691\n"
     ]
    },
    {
     "name": "stderr",
     "output_type": "stream",
     "text": [
      "\n",
      " 98%|█████████▊| 1694/1727 [01:28<00:01, 19.15it/s]\u001b[A\n",
      " 98%|█████████▊| 1696/1727 [01:28<00:01, 19.15it/s]\u001b[A"
     ]
    },
    {
     "name": "stdout",
     "output_type": "stream",
     "text": [
      "1692\n",
      "1693\n",
      "1694\n",
      "1695\n"
     ]
    },
    {
     "name": "stderr",
     "output_type": "stream",
     "text": [
      "\n",
      " 98%|█████████▊| 1698/1727 [01:28<00:01, 19.15it/s]\u001b[A\n",
      " 98%|█████████▊| 1700/1727 [01:28<00:01, 19.15it/s]\u001b[A"
     ]
    },
    {
     "name": "stdout",
     "output_type": "stream",
     "text": [
      "1696\n",
      "1697\n",
      "1698\n",
      "1699\n"
     ]
    },
    {
     "name": "stderr",
     "output_type": "stream",
     "text": [
      "\n",
      " 99%|█████████▊| 1702/1727 [01:28<00:01, 19.14it/s]\u001b[A\n",
      " 99%|█████████▊| 1704/1727 [01:29<00:01, 19.14it/s]\u001b[A"
     ]
    },
    {
     "name": "stdout",
     "output_type": "stream",
     "text": [
      "1700\n",
      "1701\n",
      "1702\n",
      "1703\n"
     ]
    },
    {
     "name": "stderr",
     "output_type": "stream",
     "text": [
      "\n",
      " 99%|█████████▉| 1706/1727 [01:29<00:01, 19.14it/s]\u001b[A\n",
      " 99%|█████████▉| 1708/1727 [01:29<00:00, 19.14it/s]\u001b[A"
     ]
    },
    {
     "name": "stdout",
     "output_type": "stream",
     "text": [
      "1704\n",
      "1705\n",
      "1706\n",
      "1707\n"
     ]
    },
    {
     "name": "stderr",
     "output_type": "stream",
     "text": [
      "\n",
      " 99%|█████████▉| 1710/1727 [01:29<00:00, 19.14it/s]\u001b[A\n",
      " 99%|█████████▉| 1712/1727 [01:29<00:00, 19.13it/s]\u001b[A"
     ]
    },
    {
     "name": "stdout",
     "output_type": "stream",
     "text": [
      "1708\n",
      "1709\n",
      "1710\n",
      "1711\n"
     ]
    },
    {
     "name": "stderr",
     "output_type": "stream",
     "text": [
      "\n",
      " 99%|█████████▉| 1714/1727 [01:29<00:00, 19.13it/s]\u001b[A"
     ]
    },
    {
     "name": "stdout",
     "output_type": "stream",
     "text": [
      "1712\n",
      "1713\n",
      "1714\n",
      "1715\n"
     ]
    },
    {
     "name": "stderr",
     "output_type": "stream",
     "text": [
      "\n",
      " 99%|█████████▉| 1716/1727 [01:29<00:00, 19.13it/s]\u001b[A\n",
      " 99%|█████████▉| 1718/1727 [01:29<00:00, 19.12it/s]\u001b[A\n",
      "100%|█████████▉| 1720/1727 [01:29<00:00, 19.12it/s]\u001b[A"
     ]
    },
    {
     "name": "stdout",
     "output_type": "stream",
     "text": [
      "1716\n",
      "1717\n",
      "1718\n",
      "1719\n"
     ]
    },
    {
     "name": "stderr",
     "output_type": "stream",
     "text": [
      "\n",
      "100%|█████████▉| 1722/1727 [01:30<00:00, 19.12it/s]\u001b[A\n",
      "100%|█████████▉| 1724/1727 [01:30<00:00, 19.12it/s]\u001b[A"
     ]
    },
    {
     "name": "stdout",
     "output_type": "stream",
     "text": [
      "1720\n",
      "1721\n",
      "1722\n",
      "1723\n"
     ]
    },
    {
     "name": "stderr",
     "output_type": "stream",
     "text": [
      "\n",
      "100%|█████████▉| 1726/1727 [01:30<00:00, 19.11it/s]\u001b[A\n",
      "100%|██████████| 1727/1727 [01:30<00:00, 19.11it/s]\u001b[A"
     ]
    },
    {
     "name": "stdout",
     "output_type": "stream",
     "text": [
      "1724\n",
      "1725\n",
      "1726\n"
     ]
    }
   ],
   "source": [
    "binnametranslated = np.copy(stripbinfeaturename)\n",
    "for i in tqdm(range(stripbinfeaturename.shape[0])):\n",
    "    indtmp = np.where(np.array(nametranslation['transcript_id']) ==stripbinfeaturename[i])[0]\n",
    "    if indtmp.shape[0]!=0:\n",
    "        print (i)\n",
    "        binnametranslated[i] = np.array(nametranslation['transcript_name'])[indtmp[0]]"
   ]
  },
  {
   "cell_type": "code",
   "execution_count": 482,
   "metadata": {},
   "outputs": [
    {
     "data": {
      "text/plain": [
       "(array([ 205,  827,  853,  874,  876, 1030, 1207, 1301, 1304, 1318, 1323,\n",
       "        1359]),)"
      ]
     },
     "execution_count": 482,
     "metadata": {},
     "output_type": "execute_result"
    }
   ],
   "source": [
    "np.where(binnametranslated=='1')"
   ]
  },
  {
   "cell_type": "code",
   "execution_count": 478,
   "metadata": {},
   "outputs": [
    {
     "data": {
      "text/plain": [
       "array(['12979', '13027', '31864', ..., 'ENST00000595858.5',\n",
       "       'ENST00000596502.1', 'ENST00000596663.5'], dtype=object)"
      ]
     },
     "execution_count": 478,
     "metadata": {},
     "output_type": "execute_result"
    }
   ],
   "source": [
    "stripbinfeaturename"
   ]
  },
  {
   "cell_type": "markdown",
   "metadata": {},
   "source": [
    "## 去除了冗余的array!"
   ]
  },
  {
   "cell_type": "code",
   "execution_count": 465,
   "metadata": {},
   "outputs": [
    {
     "data": {
      "text/plain": [
       "((1727,), (43, 1727))"
      ]
     },
     "execution_count": 465,
     "metadata": {},
     "output_type": "execute_result"
    }
   ],
   "source": [
    "binfeaturenamesplit.shape,binfeaturesarray.shape"
   ]
  },
  {
   "cell_type": "code",
   "execution_count": 466,
   "metadata": {},
   "outputs": [
    {
     "data": {
      "text/plain": [
       "'AC007743.1'"
      ]
     },
     "execution_count": 466,
     "metadata": {},
     "output_type": "execute_result"
    }
   ],
   "source": [
    "binnametranslated[i]"
   ]
  },
  {
   "cell_type": "code",
   "execution_count": null,
   "metadata": {},
   "outputs": [],
   "source": [
    "# 加上b或者f\n",
    "binnametranslated_ = np.ndarray([binnametranslated.shape[0]]).astype('str')\n",
    "for i in range(binnametranslated.shape[0]):\n",
    "    binnametranslated_[i] = binnametranslated[i][0]"
   ]
  },
  {
   "cell_type": "code",
   "execution_count": 467,
   "metadata": {},
   "outputs": [
    {
     "data": {
      "text/plain": [
       "array(['12979', '13027', '31864', ..., 'DDX49', 'DDX49', 'AC007743.1'],\n",
       "      dtype=object)"
      ]
     },
     "execution_count": 467,
     "metadata": {},
     "output_type": "execute_result"
    }
   ],
   "source": [
    "binnametranslated"
   ]
  },
  {
   "cell_type": "markdown",
   "metadata": {},
   "source": [
    "# 最终bin要加上后面数字\n",
    "df.index.to_series().str.extract('^(.+RNA)_(.*)(__[0-9]+__[0-9]+)?$', expand=True)"
   ]
  },
  {
   "cell_type": "markdown",
   "metadata": {},
   "source": [
    "### 直接feature selection full fit挑gene！"
   ]
  },
  {
   "cell_type": "markdown",
   "metadata": {},
   "source": [
    "#### 准备数据供feature selection\n",
    "- **目前先做stage A vs normal，HCC vs normal两种**"
   ]
  },
  {
   "cell_type": "code",
   "execution_count": 342,
   "metadata": {},
   "outputs": [
    {
     "data": {
      "text/plain": [
       "array(['A', 'A', 'C', 'A', 'B', 'B', 'B', 'A', 'A', 'B', 'A', 'B', 'A',\n",
       "       'A', 'B', 'A', 'A', 'C', 'B', 'A', 'B', 'C', 'A', 'B', 'A', 'A',\n",
       "       'B', 'C', 'A', 'A', '-', '-', '-', '-', '-', '-', '-', '-', '-',\n",
       "       '-', '-', '-', '-'], dtype=object)"
      ]
     },
     "execution_count": 342,
     "metadata": {},
     "output_type": "execute_result"
    }
   ],
   "source": [
    "np.array(usetable['Stage-BCLC'])"
   ]
  },
  {
   "cell_type": "code",
   "execution_count": 343,
   "metadata": {},
   "outputs": [],
   "source": [
    "def produce_sample_ind():\n",
    "    '''\n",
    "    generate five types of sample ind\n",
    "    '''\n",
    "    inda = np.where(usetable['Stage-BCLC'] =='A')[0]\n",
    "    indb = np.where(usetable['Stage-BCLC'] =='B')[0]\n",
    "    indc = np.where(usetable['Stage-BCLC'] =='C')[0]\n",
    "    indnormal = np.where(usetable['Stage-BCLC'] =='-')[0]\n",
    "    indhcc = np.concatenate((inda,indb,indc))\n",
    "    return inda,indb,indc,indnormal,indhcc"
   ]
  },
  {
   "cell_type": "code",
   "execution_count": 344,
   "metadata": {},
   "outputs": [],
   "source": [
    "indA,indB,indC,indnormal,indhcc = produce_sample_ind()"
   ]
  },
  {
   "cell_type": "code",
   "execution_count": 345,
   "metadata": {},
   "outputs": [
    {
     "name": "stdout",
     "output_type": "stream",
     "text": [
      "[ 0  1  3  7  8 10 12 13 15 16 19 22 24 25 28 29]\n",
      "[ 4  5  6  9 11 14 18 20 23 26]\n",
      "[ 2 17 21 27]\n",
      "[30 31 32 33 34 35 36 37 38 39 40 41 42]\n",
      "[ 0  1  3  7  8 10 12 13 15 16 19 22 24 25 28 29  4  5  6  9 11 14 18 20\n",
      " 23 26  2 17 21 27]\n"
     ]
    }
   ],
   "source": [
    "print (indA)\n",
    "print (indB)\n",
    "print (indC)\n",
    "print (indnormal)\n",
    "print (indhcc)"
   ]
  },
  {
   "cell_type": "code",
   "execution_count": 346,
   "metadata": {},
   "outputs": [],
   "source": [
    "sampleclass = np.zeros([43]).astype('int') #各种类别的\n",
    "binaryind = np.zeros([43]).astype('int') #hcc vs normal\n",
    "binaryind[indhcc] = 1\n",
    "sampleclass[indA] = 1\n",
    "sampleclass[indB] = 2\n",
    "sampleclass[indC] = 3"
   ]
  },
  {
   "cell_type": "code",
   "execution_count": 347,
   "metadata": {},
   "outputs": [
    {
     "data": {
      "text/plain": [
       "array([1, 1, 3, 1, 2, 2, 2, 1, 1, 2, 1, 2, 1, 1, 2, 1, 1, 3, 2, 1, 2, 3,\n",
       "       1, 2, 1, 1, 2, 3, 1, 1, 0, 0, 0, 0, 0, 0, 0, 0, 0, 0, 0, 0, 0])"
      ]
     },
     "execution_count": 347,
     "metadata": {},
     "output_type": "execute_result"
    }
   ],
   "source": [
    "sampleclass"
   ]
  },
  {
   "cell_type": "code",
   "execution_count": 348,
   "metadata": {},
   "outputs": [
    {
     "data": {
      "text/plain": [
       "array([1, 1, 1, 1, 1, 1, 1, 1, 1, 1, 1, 1, 1, 1, 1, 1, 0, 0, 0, 0, 0, 0,\n",
       "       0, 0, 0, 0, 0, 0, 0])"
      ]
     },
     "execution_count": 348,
     "metadata": {},
     "output_type": "execute_result"
    }
   ],
   "source": [
    "sampleclass[np.concatenate((indA,indnormal))]"
   ]
  },
  {
   "cell_type": "code",
   "execution_count": 349,
   "metadata": {},
   "outputs": [
    {
     "data": {
      "text/plain": [
       "array([1, 1, 1, 1, 1, 1, 1, 1, 1, 1, 1, 1, 1, 1, 1, 1, 1, 1, 1, 1, 1, 1,\n",
       "       1, 1, 1, 1, 1, 1, 1, 1, 0, 0, 0, 0, 0, 0, 0, 0, 0, 0, 0, 0, 0])"
      ]
     },
     "execution_count": 349,
     "metadata": {},
     "output_type": "execute_result"
    }
   ],
   "source": [
    "binaryind[np.concatenate((indhcc,indnormal))]"
   ]
  },
  {
   "cell_type": "code",
   "execution_count": 350,
   "metadata": {},
   "outputs": [],
   "source": [
    "def generate_featurearr(featureclass):\n",
    "    '''\n",
    "    featureclass: A,B,C,hcc(hccvsnormal),all(allkinds)\n",
    "    '''\n",
    "    stageindAnorm = np.concatenate((indA,indnormal))\n",
    "    hccnorm = np.concatenate((indhcc,indnormal))\n",
    "    if featureclass == 'A':\n",
    "        return binfeaturesarray[stageindAnorm],sampleclass[stageindAnorm].astype('int')\n",
    "    elif featureclass == 'hcc':\n",
    "        return binfeaturesarray[hccnorm],binaryind[hccnorm]  .astype('int')  "
   ]
  },
  {
   "cell_type": "markdown",
   "metadata": {},
   "source": [
    "### 先获得六种feature\n",
    "以full A为例进行尝试"
   ]
  },
  {
   "cell_type": "code",
   "execution_count": 351,
   "metadata": {},
   "outputs": [],
   "source": [
    "dataclass = ['A','hcc']\n",
    "dataset = {}\n",
    "labelset = {}\n",
    "for j in range(2):\n",
    "    dataset[dataclass[j]],labelset[dataclass[j]] = generate_featurearr(dataclass[j])"
   ]
  },
  {
   "cell_type": "code",
   "execution_count": 352,
   "metadata": {},
   "outputs": [
    {
     "data": {
      "text/plain": [
       "array([1, 1, 1, 1, 1, 1, 1, 1, 1, 1, 1, 1, 1, 1, 1, 1, 0, 0, 0, 0, 0, 0,\n",
       "       0, 0, 0, 0, 0, 0, 0])"
      ]
     },
     "execution_count": 352,
     "metadata": {},
     "output_type": "execute_result"
    }
   ],
   "source": [
    "dataset['A']\n",
    "labelset['A']"
   ]
  },
  {
   "cell_type": "code",
   "execution_count": 353,
   "metadata": {},
   "outputs": [
    {
     "data": {
      "text/plain": [
       "{'A': array([1, 1, 1, 1, 1, 1, 1, 1, 1, 1, 1, 1, 1, 1, 1, 1, 0, 0, 0, 0, 0, 0,\n",
       "        0, 0, 0, 0, 0, 0, 0]),\n",
       " 'hcc': array([1, 1, 1, 1, 1, 1, 1, 1, 1, 1, 1, 1, 1, 1, 1, 1, 1, 1, 1, 1, 1, 1,\n",
       "        1, 1, 1, 1, 1, 1, 1, 1, 0, 0, 0, 0, 0, 0, 0, 0, 0, 0, 0, 0, 0])}"
      ]
     },
     "execution_count": 353,
     "metadata": {},
     "output_type": "execute_result"
    }
   ],
   "source": [
    "labelset"
   ]
  },
  {
   "cell_type": "code",
   "execution_count": 354,
   "metadata": {},
   "outputs": [
    {
     "data": {
      "text/plain": [
       "array([1, 1, 3, 1, 2, 2, 2, 1, 1, 2, 1, 2, 1, 1, 2, 1, 1, 3, 2, 1, 2, 3,\n",
       "       1, 2, 1, 1, 2, 3, 1, 1, 0, 0, 0, 0, 0, 0, 0, 0, 0, 0, 0, 0, 0])"
      ]
     },
     "execution_count": 354,
     "metadata": {},
     "output_type": "execute_result"
    }
   ],
   "source": [
    "sampleclass"
   ]
  },
  {
   "cell_type": "code",
   "execution_count": 355,
   "metadata": {},
   "outputs": [
    {
     "data": {
      "text/plain": [
       "(29, 1727)"
      ]
     },
     "execution_count": 355,
     "metadata": {},
     "output_type": "execute_result"
    }
   ],
   "source": [
    "dataset['A'].shape"
   ]
  },
  {
   "cell_type": "code",
   "execution_count": 356,
   "metadata": {},
   "outputs": [
    {
     "data": {
      "text/plain": [
       "array([1, 1, 1, 1, 1, 1, 1, 1, 1, 1, 1, 1, 1, 1, 1, 1, 1, 1, 1, 1, 1, 1,\n",
       "       1, 1, 1, 1, 1, 1, 1, 1, 0, 0, 0, 0, 0, 0, 0, 0, 0, 0, 0, 0, 0])"
      ]
     },
     "execution_count": 356,
     "metadata": {},
     "output_type": "execute_result"
    }
   ],
   "source": [
    "labelset['hcc']"
   ]
  },
  {
   "cell_type": "markdown",
   "metadata": {},
   "source": [
    "### 特征选择\n",
    "- logistic regression 加上L1正则化，画图显示不同正则化参数选出的feature\n",
    "- MRMR"
   ]
  },
  {
   "cell_type": "code",
   "execution_count": 357,
   "metadata": {},
   "outputs": [],
   "source": [
    "def logistic_selection(feature,label,penalty=1):\n",
    "    logmodel = LogisticRegression(penalty='l1',C=penalty)\n",
    "    logmodel.fit(feature,label)\n",
    "    return logmodel.coef_"
   ]
  },
  {
   "cell_type": "code",
   "execution_count": 358,
   "metadata": {},
   "outputs": [],
   "source": [
    "def get_featurename(coef,featurename):\n",
    "    selectfeatureind = np.where(np.abs(coef)>=0.00001)[0]\n",
    "    #print (np.argsort(-np.abs(coef[selectfeatureind]))[:np.where(coef!=0)[0].shape[0]].shape)\n",
    "    selectfeatureind_ =selectfeatureind[np.argsort(-np.abs(coef[selectfeatureind]))[:np.where(coef!=0)[0].shape[0]]]\n",
    "    #print (selectfeatureind_)\n",
    "    ttttesttab =  pd.DataFrame(np.concatenate((featurename[selectfeatureind_].reshape(-1,1),\n",
    "                                coef[np.argsort(-np.abs(coef))\n",
    "                             [:np.where(coef!=0)[0].shape[0]]].reshape(-1,1)),axis=1),\n",
    "                columns=['ID','importance'])\n",
    "    countlist_ = []\n",
    "    #print (ttttesttab.shape)\n",
    "    num = int(ttttesttab.shape[0]/5)*5\n",
    "    if num >=50: \n",
    "        num =50 \n",
    "    #print (num)\n",
    "    for i in range(num):\n",
    "        countlist_.append(ttttesttab.iloc[i,0]+': '+str(np.round(ttttesttab.iloc[i,1],4)))\n",
    "    display(pd.DataFrame(np.array(countlist_).reshape(-1,5)))\n",
    "    fig,ax=plt.subplots(1,figsize=(int(num/5),5))\n",
    "    ax.plot(np.abs(np.array(ttttesttab.iloc[:,1])))\n",
    "    ax.set_xticks(np.arange(0,ttttesttab.shape[0],5))\n",
    "    ax.set_title('feature importance: logistic regression L1')\n",
    "    return ttttesttab"
   ]
  },
  {
   "cell_type": "code",
   "execution_count": 359,
   "metadata": {},
   "outputs": [],
   "source": [
    "styles = [\"white\",\"dark\",'whitegrid',\"darkgrid\"]\n",
    "contexts = ['paper','talk','poster','notebook']\n",
    "sns.set_style(styles[0])\n",
    "sns.set_context(contexts[2])"
   ]
  },
  {
   "cell_type": "code",
   "execution_count": 360,
   "metadata": {},
   "outputs": [
    {
     "data": {
      "text/plain": [
       "(1, 1727)"
      ]
     },
     "execution_count": 360,
     "metadata": {},
     "output_type": "execute_result"
    }
   ],
   "source": [
    "logistic_selection(dataset['A'],labelset['A'],penalty=2).shape"
   ]
  },
  {
   "cell_type": "code",
   "execution_count": 361,
   "metadata": {},
   "outputs": [
    {
     "data": {
      "text/html": [
       "<div>\n",
       "<style scoped>\n",
       "    .dataframe tbody tr th:only-of-type {\n",
       "        vertical-align: middle;\n",
       "    }\n",
       "\n",
       "    .dataframe tbody tr th {\n",
       "        vertical-align: top;\n",
       "    }\n",
       "\n",
       "    .dataframe thead th {\n",
       "        text-align: right;\n",
       "    }\n",
       "</style>\n",
       "<table border=\"1\" class=\"dataframe\">\n",
       "  <thead>\n",
       "    <tr style=\"text-align: right;\">\n",
       "      <th></th>\n",
       "      <th>0</th>\n",
       "      <th>1</th>\n",
       "      <th>2</th>\n",
       "      <th>3</th>\n",
       "      <th>4</th>\n",
       "    </tr>\n",
       "  </thead>\n",
       "  <tbody>\n",
       "    <tr>\n",
       "      <th>0</th>\n",
       "      <td>peak_778.ENST00000408855.1_40_80: -1.598</td>\n",
       "      <td>peak_339.ENST00000364346.1_0_40: -0.8981</td>\n",
       "      <td>peak_120.35839_20_60: -0.4794</td>\n",
       "      <td>peak_904.ENST00000521276.3_0_80: -0.3916</td>\n",
       "      <td>peak_756.ENST00000408509.1_40_80: -0.3521</td>\n",
       "    </tr>\n",
       "    <tr>\n",
       "      <th>1</th>\n",
       "      <td>peak_1459.piR.hsa.26940_0_32: -0.321</td>\n",
       "      <td>peak_634.ENST00000385200.3_20_60: -0.3169</td>\n",
       "      <td>peak_149.ENST00000242351.9_6460_6520: -0.1305</td>\n",
       "      <td>peak_1043.ENST00000612997.1_80_260: 0.1105</td>\n",
       "      <td>peak_225.ENST00000362263.3_60_87: -0.1002</td>\n",
       "    </tr>\n",
       "    <tr>\n",
       "      <th>2</th>\n",
       "      <td>peak_1198.T137784_1880_1920: -0.078</td>\n",
       "      <td>peak_955.ENST00000580269.1_40_80: -0.0612</td>\n",
       "      <td>peak_1155.ENST00000629295.1_1080_1280: 0.0602</td>\n",
       "      <td>peak_886.ENST00000516002.1_80_120: -0.0199</td>\n",
       "      <td>peak_873.ENST00000485101.5_2720_2760: -0.0125</td>\n",
       "    </tr>\n",
       "  </tbody>\n",
       "</table>\n",
       "</div>"
      ],
      "text/plain": [
       "                                          0  \\\n",
       "0  peak_778.ENST00000408855.1_40_80: -1.598   \n",
       "1      peak_1459.piR.hsa.26940_0_32: -0.321   \n",
       "2       peak_1198.T137784_1880_1920: -0.078   \n",
       "\n",
       "                                           1  \\\n",
       "0   peak_339.ENST00000364346.1_0_40: -0.8981   \n",
       "1  peak_634.ENST00000385200.3_20_60: -0.3169   \n",
       "2  peak_955.ENST00000580269.1_40_80: -0.0612   \n",
       "\n",
       "                                               2  \\\n",
       "0                  peak_120.35839_20_60: -0.4794   \n",
       "1  peak_149.ENST00000242351.9_6460_6520: -0.1305   \n",
       "2  peak_1155.ENST00000629295.1_1080_1280: 0.0602   \n",
       "\n",
       "                                            3  \\\n",
       "0    peak_904.ENST00000521276.3_0_80: -0.3916   \n",
       "1  peak_1043.ENST00000612997.1_80_260: 0.1105   \n",
       "2  peak_886.ENST00000516002.1_80_120: -0.0199   \n",
       "\n",
       "                                               4  \n",
       "0      peak_756.ENST00000408509.1_40_80: -0.3521  \n",
       "1      peak_225.ENST00000362263.3_60_87: -0.1002  \n",
       "2  peak_873.ENST00000485101.5_2720_2760: -0.0125  "
      ]
     },
     "metadata": {},
     "output_type": "display_data"
    },
    {
     "data": {
      "image/png": "[encoded data removed]",
      "text/plain": [
       "<matplotlib.figure.Figure at 0x7f2e44f2ee48>"
      ]
     },
     "metadata": {},
     "output_type": "display_data"
    }
   ],
   "source": [
    "logfullAtable = get_featurename(logistic_selection(dataset['A'],labelset['A'],penalty=2).ravel(),binfeaturenamesplit)"
   ]
  },
  {
   "cell_type": "markdown",
   "metadata": {},
   "source": [
    "### 1，用logistic regression"
   ]
  },
  {
   "cell_type": "code",
   "execution_count": 362,
   "metadata": {
    "deletable": false,
    "editable": false,
    "run_control": {
     "frozen": true
    }
   },
   "outputs": [
    {
     "data": {
      "text/plain": [
       "Text(0.5,1,'Receiver operating characteristic example')"
      ]
     },
     "execution_count": 362,
     "metadata": {},
     "output_type": "execute_result"
    },
    {
     "data": {
      "image/png": "[encoded data removed]",
      "text/plain": [
       "<matplotlib.figure.Figure at 0x7f2e44f2de80>"
      ]
     },
     "metadata": {},
     "output_type": "display_data"
    }
   ],
   "source": [
    "def logistic_roc(feature,label,penalty=2):\n",
    "    logmodel = LogisticRegression(penalty='l1',C=penalty)\n",
    "    y_score = logmodel.fit(feature,label).decision_function(feature)\n",
    "    fpr, tpr, _ = roc_curve(label, y_score)\n",
    "    roc_auc = auc(fpr, tpr)\n",
    "    return roc_auc,fpr, tpr,logmodel.predict(feature)\n",
    "roc,fpr,tpr,predict = {},{},{},{}\n",
    "for j in range(2):\n",
    "    roc[j],fpr[j],tpr[j],predict[j]= \\\n",
    "    logistic_roc(dataset[dataclass[j]],labelset[dataclass[j]],penalty=2)\n",
    "fig,ax=plt.subplots(1,figsize=(7,7))\n",
    "for j in range(2):\n",
    "        ax.plot(fpr[j],tpr[j],linewidth=3,color='r',label='AUC: '+str(roc[j]))\n",
    "ax.legend(prop={'size': 10})\n",
    "ax.plot([0,1],[0,1], linewidth=2,alpha=0.6,color='b',linestyle='--')\n",
    "ax.set_xlabel('False Positive Rate')\n",
    "ax.set_ylabel('True Positive Rate')\n",
    "ax.set_title('Receiver operating characteristic example')"
   ]
  },
  {
   "cell_type": "code",
   "execution_count": 363,
   "metadata": {},
   "outputs": [],
   "source": [
    "def logistic_roc(feature,label,penalty=2):\n",
    "    logmodel = LogisticRegression(penalty='l1',C=penalty)\n",
    "    y_score = logmodel.fit(feature,label).decision_function(feature)\n",
    "    fpr, tpr, _ = roc_curve(label, y_score)\n",
    "    roc_auc = auc(fpr, tpr)\n",
    "    return roc_auc,fpr, tpr,logmodel.predict(feature)\n",
    "roc,fpr,tpr,predict = {},{},{},{}\n",
    "for j in range(2):\n",
    "    roc[j],fpr[j],tpr[j],predict[j]= \\\n",
    "    logistic_roc(dataset[dataclass[j]][:,:20],labelset[dataclass[j]],penalty=2)"
   ]
  },
  {
   "cell_type": "code",
   "execution_count": 364,
   "metadata": {},
   "outputs": [
    {
     "data": {
      "text/plain": [
       "'1.0'"
      ]
     },
     "execution_count": 364,
     "metadata": {},
     "output_type": "execute_result"
    }
   ],
   "source": [
    "str(np.round(roc[j],3))"
   ]
  },
  {
   "cell_type": "code",
   "execution_count": 365,
   "metadata": {},
   "outputs": [
    {
     "data": {
      "text/plain": [
       "Text(0,0.5,'Sensitivity (%)')"
      ]
     },
     "execution_count": 365,
     "metadata": {},
     "output_type": "execute_result"
    },
    {
     "data": {
      "image/png": "[encoded data removed]",
      "text/plain": [
       "<matplotlib.figure.Figure at 0x7f2e44f19320>"
      ]
     },
     "metadata": {},
     "output_type": "display_data"
    }
   ],
   "source": [
    "fig,ax=plt.subplots(1,figsize=(7,7))\n",
    "labesl = ['Stage A vs Normal','HCC vs Normal']\n",
    "for j in range(2):\n",
    "    ax.plot(fpr[j]*100,tpr[j]*100,linewidth=3,color='r',label=labesl[j]+' AUC: '+str(np.round(roc[j],3)))\n",
    "ax.legend(prop={'size': 13,'weight':'bold'})\n",
    "ax.plot([0,100],[0,100], linewidth=2,alpha=0.6,color='b',linestyle='--')\n",
    "ax.set_xlabel('Specificity (%)')\n",
    "ax.set_ylabel('Sensitivity (%)')\n",
    "#ax.set_title('Receiver operating characteristic')"
   ]
  },
  {
   "cell_type": "code",
   "execution_count": 366,
   "metadata": {},
   "outputs": [],
   "source": [
    "#forward and RFE"
   ]
  },
  {
   "cell_type": "markdown",
   "metadata": {},
   "source": [
    "forward:每次找最高的，然后选出来  另用一个range来保证取的feature总是在总index\n",
    "    "
   ]
  },
  {
   "cell_type": "code",
   "execution_count": 367,
   "metadata": {},
   "outputs": [],
   "source": [
    "def logistic_selection_(feature,label,penalty=1):\n",
    "    logmodel = LogisticRegression(penalty='l1',C=penalty)\n",
    "    logmodel.fit(feature,label)\n",
    "    return logmodel.coef_"
   ]
  },
  {
   "cell_type": "code",
   "execution_count": 368,
   "metadata": {},
   "outputs": [],
   "source": [
    "def logistic_selection(feature,label,penalty=0.1):\n",
    "    logmodel = LogisticRegression(penalty='l2',C=penalty)\n",
    "    logmodel.fit(feature,label)\n",
    "    return logmodel.coef_"
   ]
  },
  {
   "cell_type": "code",
   "execution_count": 369,
   "metadata": {},
   "outputs": [
    {
     "data": {
      "text/plain": [
       "array([[1481,  994, 1457, ...,  158,  174,   50]])"
      ]
     },
     "execution_count": 369,
     "metadata": {},
     "output_type": "execute_result"
    }
   ],
   "source": [
    "np.argsort(logistic_selection(dataset['A'],labelset['A']))"
   ]
  },
  {
   "cell_type": "code",
   "execution_count": 370,
   "metadata": {},
   "outputs": [
    {
     "data": {
      "text/plain": [
       "(1, 1727)"
      ]
     },
     "execution_count": 370,
     "metadata": {},
     "output_type": "execute_result"
    }
   ],
   "source": [
    "ttt = logistic_selection(dataset['A'],labelset['A'])\n",
    "ttt.shape"
   ]
  },
  {
   "cell_type": "code",
   "execution_count": 371,
   "metadata": {},
   "outputs": [
    {
     "data": {
      "text/plain": [
       "(array([ 1.,  0.,  0.,  0.,  0.,  0.,  0.,  0.,  3.,  1.,  1.,  0.,  0.,\n",
       "         0.,  3.,  3.,  0.,  7.,  6.,  2.,  2.,  7.,  5., 10.,  9.,  8.,\n",
       "        11.,  8.,  7.,  8., 19., 20., 21., 16., 21., 20., 20., 28., 23.,\n",
       "        21., 22., 26., 26., 33., 34., 30., 34., 30., 30., 28., 36., 34.,\n",
       "        27., 44., 26., 31., 25., 24., 38., 36., 29., 25., 30., 28., 26.,\n",
       "        35., 34., 28., 34., 40., 41., 22., 21., 19., 32., 38., 24., 18.,\n",
       "        10., 11., 16., 12.,  8., 16., 19., 17., 15., 20., 21., 24., 13.,\n",
       "        19., 19., 12., 12.,  4.,  3.,  4.,  2.,  1.]),\n",
       " array([-0.02884082, -0.02836444, -0.02788806, -0.02741169, -0.02693531,\n",
       "        -0.02645894, -0.02598256, -0.02550618, -0.02502981, -0.02455343,\n",
       "        -0.02407706, -0.02360068, -0.0231243 , -0.02264793, -0.02217155,\n",
       "        -0.02169518, -0.0212188 , -0.02074242, -0.02026605, -0.01978967,\n",
       "        -0.0193133 , -0.01883692, -0.01836054, -0.01788417, -0.01740779,\n",
       "        -0.01693142, -0.01645504, -0.01597866, -0.01550229, -0.01502591,\n",
       "        -0.01454954, -0.01407316, -0.01359678, -0.01312041, -0.01264403,\n",
       "        -0.01216766, -0.01169128, -0.01121491, -0.01073853, -0.01026215,\n",
       "        -0.00978578, -0.0093094 , -0.00883303, -0.00835665, -0.00788027,\n",
       "        -0.0074039 , -0.00692752, -0.00645115, -0.00597477, -0.00549839,\n",
       "        -0.00502202, -0.00454564, -0.00406927, -0.00359289, -0.00311651,\n",
       "        -0.00264014, -0.00216376, -0.00168739, -0.00121101, -0.00073463,\n",
       "        -0.00025826,  0.00021812,  0.00069449,  0.00117087,  0.00164725,\n",
       "         0.00212362,  0.0026    ,  0.00307637,  0.00355275,  0.00402913,\n",
       "         0.0045055 ,  0.00498188,  0.00545825,  0.00593463,  0.00641101,\n",
       "         0.00688738,  0.00736376,  0.00784013,  0.00831651,  0.00879289,\n",
       "         0.00926926,  0.00974564,  0.01022201,  0.01069839,  0.01117477,\n",
       "         0.01165114,  0.01212752,  0.01260389,  0.01308027,  0.01355665,\n",
       "         0.01403302,  0.0145094 ,  0.01498577,  0.01546215,  0.01593853,\n",
       "         0.0164149 ,  0.01689128,  0.01736765,  0.01784403,  0.0183204 ,\n",
       "         0.01879678]),\n",
       " <a list of 100 Patch objects>)"
      ]
     },
     "execution_count": 371,
     "metadata": {},
     "output_type": "execute_result"
    },
    {
     "data": {
      "image/png": "[encoded data removed]",
      "text/plain": [
       "<matplotlib.figure.Figure at 0x7f2e44f12cf8>"
      ]
     },
     "metadata": {},
     "output_type": "display_data"
    }
   ],
   "source": [
    "hist(ttt.ravel(),bins=100)"
   ]
  },
  {
   "cell_type": "code",
   "execution_count": 372,
   "metadata": {},
   "outputs": [
    {
     "data": {
      "text/plain": [
       "array([[-0.02884082, -0.02479206, -0.02475658, ...,  0.01784995,\n",
       "         0.01785934,  0.01879678]])"
      ]
     },
     "execution_count": 372,
     "metadata": {},
     "output_type": "execute_result"
    }
   ],
   "source": [
    "np.sort(logistic_selection(dataset['A'],labelset['A']))"
   ]
  },
  {
   "cell_type": "code",
   "execution_count": 373,
   "metadata": {},
   "outputs": [
    {
     "data": {
      "application/vnd.jupyter.widget-view+json": {
       "model_id": "b46cbace64f64205be5c7977202d4608",
       "version_major": 2,
       "version_minor": 0
      },
      "text/html": [
       "<p>Failed to display Jupyter Widget of type <code>HBox</code>.</p>\n",
       "<p>\n",
       "  If you're reading this message in the Jupyter Notebook or JupyterLab Notebook, it may mean\n",
       "  that the widgets JavaScript is still loading. If this message persists, it\n",
       "  likely means that the widgets JavaScript library is either not installed or\n",
       "  not enabled. See the <a href=\"https://ipywidgets.readthedocs.io/en/stable/user_install.html\">Jupyter\n",
       "  Widgets Documentation</a> for setup instructions.\n",
       "</p>\n",
       "<p>\n",
       "  If you're reading this message in another frontend (for example, a static\n",
       "  rendering on GitHub or <a href=\"https://nbviewer.jupyter.org/\">NBViewer</a>),\n",
       "  it may mean that your frontend doesn't currently support widgets.\n",
       "</p>\n"
      ],
      "text/plain": [
       "HBox(children=(IntProgress(value=0, max=51), HTML(value='')))"
      ]
     },
     "metadata": {},
     "output_type": "display_data"
    }
   ],
   "source": [
    "def RFE_logistic(feature,label,step=100,threshold=50):\n",
    "    featureind = np.array([]) # each loop delete feature ind\n",
    "    featurenum = feature.shape[1]\n",
    "    originalfeatureind = np.arange(0,featurenum)\n",
    "    countnum = 0  #count loop\n",
    "    pbar = tqdm(total = threshold+1)\n",
    "    while featurenum - step*countnum > threshold:\n",
    "        #print (countnum)\n",
    "        #print (featurenum , step*countnum , threshold)\n",
    "        deleteind = np.argsort(np.abs(logistic_selection(feature[:,originalfeatureind],label))).ravel()[:step]\n",
    "        originalfeatureind = np.setdiff1d(originalfeatureind,deleteind)\n",
    "        #print (originalfeatureind.shape ,featureind.shape,deleteind.shape)\n",
    "        featureind = np.concatenate((featureind,deleteind))\n",
    "        #if np.where(deleteind==)\n",
    "        countnum +=1\n",
    "        #print (featurenum , step*countnum , threshold)\n",
    "        pbar.update(1)\n",
    "    pbar.close()\n",
    "    return originalfeatureind,featureind\n",
    "originalfeatureind,featureind = RFE_logistic(dataset['A'],labelset['A'],step=10,threshold=50)"
   ]
  },
  {
   "cell_type": "code",
   "execution_count": 374,
   "metadata": {},
   "outputs": [],
   "source": [
    "def logistic_roc(feature,label):\n",
    "    logmodel = LogisticRegression()\n",
    "    y_score = logmodel.fit(feature,label).decision_function(feature)\n",
    "    fpr, tpr, _ = roc_curve(label, y_score)\n",
    "    roc_auc = auc(fpr, tpr)\n",
    "    return np.array([roc_auc]), fpr, tpr\n",
    "roc,fpr,tpr ={},{},{}\n",
    "for k in range(20):\n",
    "    roc[k],fpr[k],tpr[k] ={},{},{}\n",
    "    for j in range(2):\n",
    "        roc[k][j],fpr[k][j],tpr[k][j]=\\\n",
    "        logistic_roc(dataset[dataclass[j]][:,np.flip(featureind.astype('int')[-20:],axis=0)][:,0:(k+1)]  ,labelset[dataclass[j]])\n"
   ]
  },
  {
   "cell_type": "code",
   "execution_count": 375,
   "metadata": {},
   "outputs": [
    {
     "data": {
      "text/plain": [
       "Text(0,0.5,'AUC improvement')"
      ]
     },
     "execution_count": 375,
     "metadata": {},
     "output_type": "execute_result"
    },
    {
     "data": {
      "image/png": "[encoded data removed]",
      "text/plain": [
       "<matplotlib.figure.Figure at 0x7f2e418ebba8>"
      ]
     },
     "metadata": {},
     "output_type": "display_data"
    }
   ],
   "source": [
    "fig,ax=plt.subplots(1,figsize=(10,6))\n",
    "ax.bar(range(10),np.array([roc[i][0] for i in range(10)]).ravel(),0.7,color='g',alpha=0.7)\n",
    "ax.set_ylabel('AUC', color='r',rotation=0,fontsize=18)\n",
    "ax2 = ax.twinx()\n",
    "ax2.plot(np.array([roc[i][0] for i in range(11)])[1:] - np.array([roc[i][0] for i in range(10)]),\n",
    "       color='black',linewidth=3.0)\n",
    "ax2.set_ylabel('AUC improvement', color='b',fontsize=18)"
   ]
  },
  {
   "cell_type": "code",
   "execution_count": 376,
   "metadata": {},
   "outputs": [],
   "source": [
    "def forward_selection(feature,label,step=1,threshold=10):\n",
    "    featureind = np.array([]) # each loop delete feature ind\n",
    "    featurenum = feature.shape[1]\n",
    "    countnum = 0  #count loop\n",
    "    originalfeatureind = np.arange(0,featurenum)\n",
    "    picked = np.array([])\n",
    "    pbar = tqdm(total = threshold+1)\n",
    "    while countnum < threshold:\n",
    "        #print (countnum)\n",
    "        auc = np.zeros([featurenum])\n",
    "        remain = np.setdiff1d(originalfeatureind,picked)\n",
    "        for i in remain:\n",
    "            #print ( logistic_roc(feature[:,np.concatenate((featureind,np.array([i]))).astype('int')],label)[0])\n",
    "            auc[i] = logistic_roc(feature[:,np.concatenate((picked,np.array([i]))).astype('int')],label)[0]\n",
    "        #print (auc)\n",
    "        pickfeatureind = originalfeatureind[np.argmax(auc)]\n",
    "        #print (pickfeatureind)\n",
    "        #originalfeatureind = np.setdiff1d(originalfeatureind,pickfeatureind)\n",
    "        #print (pickfeatureind)\n",
    "        picked = np.concatenate((picked,np.array([pickfeatureind])))\n",
    "        #print (picked)\n",
    "        countnum += 1\n",
    "        pbar.update(1)\n",
    "    pbar.close()\n",
    "    return picked.astype('int')"
   ]
  },
  {
   "cell_type": "code",
   "execution_count": 377,
   "metadata": {
    "scrolled": true
   },
   "outputs": [
    {
     "data": {
      "application/vnd.jupyter.widget-view+json": {
       "model_id": "01b83fa838254fa2b9cb494a9bd30201",
       "version_major": 2,
       "version_minor": 0
      },
      "text/html": [
       "<p>Failed to display Jupyter Widget of type <code>HBox</code>.</p>\n",
       "<p>\n",
       "  If you're reading this message in the Jupyter Notebook or JupyterLab Notebook, it may mean\n",
       "  that the widgets JavaScript is still loading. If this message persists, it\n",
       "  likely means that the widgets JavaScript library is either not installed or\n",
       "  not enabled. See the <a href=\"https://ipywidgets.readthedocs.io/en/stable/user_install.html\">Jupyter\n",
       "  Widgets Documentation</a> for setup instructions.\n",
       "</p>\n",
       "<p>\n",
       "  If you're reading this message in another frontend (for example, a static\n",
       "  rendering on GitHub or <a href=\"https://nbviewer.jupyter.org/\">NBViewer</a>),\n",
       "  it may mean that your frontend doesn't currently support widgets.\n",
       "</p>\n"
      ],
      "text/plain": [
       "HBox(children=(IntProgress(value=0, max=51), HTML(value='')))"
      ]
     },
     "metadata": {},
     "output_type": "display_data"
    }
   ],
   "source": [
    "picked = forward_selection(dataset[dataclass[0]][:,np.flip(featureind.astype('int')[-50:],axis=0)] ,\n",
    "                           labelset[dataclass[0]],step=1,threshold=50)"
   ]
  },
  {
   "cell_type": "code",
   "execution_count": 378,
   "metadata": {},
   "outputs": [
    {
     "data": {
      "text/plain": [
       "array([ 5,  0,  1,  2,  3,  4,  6,  7,  8,  9, 10, 11, 12, 13, 14, 15, 16,\n",
       "       17, 18, 19, 20, 21, 22, 23, 24, 25, 26, 27, 28, 29, 30, 31, 32, 33,\n",
       "       34, 35, 36, 37, 38, 39, 40, 41, 42, 43, 44, 45, 46, 47, 48, 49])"
      ]
     },
     "execution_count": 378,
     "metadata": {},
     "output_type": "execute_result"
    }
   ],
   "source": [
    "picked"
   ]
  },
  {
   "cell_type": "code",
   "execution_count": 379,
   "metadata": {},
   "outputs": [],
   "source": [
    "roc,fpr,tpr ={},{},{}\n",
    "for k in range(20):\n",
    "    roc[k],fpr[k],tpr[k] ={},{},{}\n",
    "    for j in range(0,1):\n",
    "        roc[k][j],fpr[k][j],tpr[k]=\\\n",
    "        logistic_roc(dataset[dataclass[j]][:,picked[0:(k+1)]]  ,labelset[dataclass[j]])"
   ]
  },
  {
   "cell_type": "code",
   "execution_count": 380,
   "metadata": {},
   "outputs": [
    {
     "data": {
      "text/plain": [
       "Text(0,0.5,'AUC')"
      ]
     },
     "execution_count": 380,
     "metadata": {},
     "output_type": "execute_result"
    },
    {
     "data": {
      "image/png": "[encoded data removed]",
      "text/plain": [
       "<matplotlib.figure.Figure at 0x7f2e41e9a358>"
      ]
     },
     "metadata": {},
     "output_type": "display_data"
    }
   ],
   "source": [
    "fig,ax=plt.subplots(1,figsize=(10,6))\n",
    "ax.bar(range(10),np.array([roc[i][0] for i in range(10)]).ravel(),0.7,color='g',alpha=0.7)\n",
    "ax.set_ylabel('AUC', color='r',rotation=0,fontsize=18)\n",
    "#ax2 = ax.twinx()\n",
    "#ax2.plot(np.array([roc[i][5] for i in range(11)])[1:] - np.array([roc[i][5] for i in range(10)]),\n",
    " #      color='black',linewidth=3.0)\n",
    "#ax2.set_ylabel('AUC improvement', color='b',fontsize=18)"
   ]
  },
  {
   "cell_type": "markdown",
   "metadata": {},
   "source": [
    "# 8.4\n",
    "- AUC improvement, feature importance, cluster, 交集与并集\n",
    "- 对于HCC vs normal，stageA vs Normal两组label\n",
    "- 在feature上做\n",
    "- 用RFE和forward整个流程，**在jackknife的基础上做很多次，选出多次重复出现的feature**，然后再画feature importance，画cluster，看挑出来的具体feature\n",
    "\n",
    "- 挑出来的feature分别\n",
    "    - 画AUC\n",
    "    - feature importance\n",
    "    - clsutering\n",
    "- 然后比较挑出来的feature的交集和并集，尤其是bin和full的交集！"
   ]
  },
  {
   "cell_type": "code",
   "execution_count": 381,
   "metadata": {},
   "outputs": [
    {
     "name": "stdout",
     "output_type": "stream",
     "text": [
      "A\n",
      "hcc\n"
     ]
    }
   ],
   "source": [
    "for j in range(2):\n",
    "    print (dataclass[j])"
   ]
  },
  {
   "cell_type": "code",
   "execution_count": 382,
   "metadata": {},
   "outputs": [],
   "source": [
    "def RFE_logistic(feature,label,step=10,threshold=50):\n",
    "    featureind = np.array([]) # each loop delete feature ind\n",
    "    featurenum = feature.shape[1]\n",
    "    originalfeatureind = np.arange(0,featurenum)\n",
    "    countnum = 0  #count loop\n",
    "    pbar = tqdm(total = threshold+1)\n",
    "    while featurenum - step*countnum > threshold:\n",
    "        #print (countnum)\n",
    "        #print (featurenum , step*countnum , threshold)\n",
    "        deleteind = np.argsort(np.abs(logistic_selection(feature[:,originalfeatureind],label))).ravel()[:step]\n",
    "        originalfeatureind = np.delete(originalfeatureind,deleteind)\n",
    "        #print (originalfeatureind.shape ,featureind.shape,deleteind.shape)\n",
    "        featureind = np.concatenate((featureind,deleteind))\n",
    "        #print (featureind.shape)\n",
    "        #if np.where(deleteind==)\n",
    "        countnum +=1\n",
    "        #print (featurenum , step*countnum , threshold)\n",
    "        pbar.update(1)\n",
    "    pbar.close()\n",
    "    return originalfeatureind,featureind"
   ]
  },
  {
   "cell_type": "code",
   "execution_count": 383,
   "metadata": {
    "scrolled": true
   },
   "outputs": [
    {
     "data": {
      "application/vnd.jupyter.widget-view+json": {
       "model_id": "7bce412d71b941249877d3d1c5e23789",
       "version_major": 2,
       "version_minor": 0
      },
      "text/html": [
       "<p>Failed to display Jupyter Widget of type <code>HBox</code>.</p>\n",
       "<p>\n",
       "  If you're reading this message in the Jupyter Notebook or JupyterLab Notebook, it may mean\n",
       "  that the widgets JavaScript is still loading. If this message persists, it\n",
       "  likely means that the widgets JavaScript library is either not installed or\n",
       "  not enabled. See the <a href=\"https://ipywidgets.readthedocs.io/en/stable/user_install.html\">Jupyter\n",
       "  Widgets Documentation</a> for setup instructions.\n",
       "</p>\n",
       "<p>\n",
       "  If you're reading this message in another frontend (for example, a static\n",
       "  rendering on GitHub or <a href=\"https://nbviewer.jupyter.org/\">NBViewer</a>),\n",
       "  it may mean that your frontend doesn't currently support widgets.\n",
       "</p>\n"
      ],
      "text/plain": [
       "HBox(children=(IntProgress(value=0, max=2), HTML(value='')))"
      ]
     },
     "metadata": {},
     "output_type": "display_data"
    },
    {
     "data": {
      "application/vnd.jupyter.widget-view+json": {
       "model_id": "3d70cccf02d44434a5d8bb8b850af495",
       "version_major": 2,
       "version_minor": 0
      },
      "text/html": [
       "<p>Failed to display Jupyter Widget of type <code>HBox</code>.</p>\n",
       "<p>\n",
       "  If you're reading this message in the Jupyter Notebook or JupyterLab Notebook, it may mean\n",
       "  that the widgets JavaScript is still loading. If this message persists, it\n",
       "  likely means that the widgets JavaScript library is either not installed or\n",
       "  not enabled. See the <a href=\"https://ipywidgets.readthedocs.io/en/stable/user_install.html\">Jupyter\n",
       "  Widgets Documentation</a> for setup instructions.\n",
       "</p>\n",
       "<p>\n",
       "  If you're reading this message in another frontend (for example, a static\n",
       "  rendering on GitHub or <a href=\"https://nbviewer.jupyter.org/\">NBViewer</a>),\n",
       "  it may mean that your frontend doesn't currently support widgets.\n",
       "</p>\n"
      ],
      "text/plain": [
       "HBox(children=(IntProgress(value=0, max=51), HTML(value='')))"
      ]
     },
     "metadata": {},
     "output_type": "display_data"
    },
    {
     "data": {
      "application/vnd.jupyter.widget-view+json": {
       "model_id": "fb128612cd3845d89809ae85a041b20a",
       "version_major": 2,
       "version_minor": 0
      },
      "text/html": [
       "<p>Failed to display Jupyter Widget of type <code>HBox</code>.</p>\n",
       "<p>\n",
       "  If you're reading this message in the Jupyter Notebook or JupyterLab Notebook, it may mean\n",
       "  that the widgets JavaScript is still loading. If this message persists, it\n",
       "  likely means that the widgets JavaScript library is either not installed or\n",
       "  not enabled. See the <a href=\"https://ipywidgets.readthedocs.io/en/stable/user_install.html\">Jupyter\n",
       "  Widgets Documentation</a> for setup instructions.\n",
       "</p>\n",
       "<p>\n",
       "  If you're reading this message in another frontend (for example, a static\n",
       "  rendering on GitHub or <a href=\"https://nbviewer.jupyter.org/\">NBViewer</a>),\n",
       "  it may mean that your frontend doesn't currently support widgets.\n",
       "</p>\n"
      ],
      "text/plain": [
       "HBox(children=(IntProgress(value=0, max=51), HTML(value='')))"
      ]
     },
     "metadata": {},
     "output_type": "display_data"
    }
   ],
   "source": [
    "#需要倒着提取\n",
    "rfefeatureind = {}\n",
    "for j in tqdm(range(2)):\n",
    "    rfefeatureind[j] = RFE_logistic(dataset[dataclass[j]],labelset[dataclass[j]],step=10,threshold=50)"
   ]
  },
  {
   "cell_type": "code",
   "execution_count": 384,
   "metadata": {},
   "outputs": [],
   "source": [
    "from tqdm import tqdm"
   ]
  },
  {
   "cell_type": "code",
   "execution_count": 385,
   "metadata": {},
   "outputs": [
    {
     "data": {
      "text/plain": [
       "array([  31,   50,   75,  149,  151,  169,  174,  175,  193,  209,  220,\n",
       "        221,  224,  406,  511,  545,  645,  865,  868,  914,  994, 1143,\n",
       "       1166, 1208, 1221, 1244, 1296, 1309, 1314, 1322, 1337, 1369, 1371,\n",
       "       1406, 1432, 1444, 1453, 1457, 1465, 1475, 1481, 1587, 1601, 1622,\n",
       "       1658, 1678, 1679])"
      ]
     },
     "execution_count": 385,
     "metadata": {},
     "output_type": "execute_result"
    }
   ],
   "source": [
    "rfefeatureind[0][0]"
   ]
  },
  {
   "cell_type": "code",
   "execution_count": 386,
   "metadata": {},
   "outputs": [
    {
     "data": {
      "text/plain": [
       "(47,)"
      ]
     },
     "execution_count": 386,
     "metadata": {},
     "output_type": "execute_result"
    }
   ],
   "source": [
    "rfefeatureind[0][0].shape"
   ]
  },
  {
   "cell_type": "code",
   "execution_count": 387,
   "metadata": {
    "scrolled": false
   },
   "outputs": [
    {
     "name": "stderr",
     "output_type": "stream",
     "text": [
      "100%|██████████| 2/2 [00:00<00:00, 112.93it/s]\n"
     ]
    }
   ],
   "source": [
    "for j in tqdm(range(2)):\n",
    "    np.savetxt('new_feature/rfe/'+dataclass[j]+'_feature_1.txt',rfefeatureind[j][1],fmt='%d')"
   ]
  },
  {
   "cell_type": "code",
   "execution_count": 388,
   "metadata": {},
   "outputs": [
    {
     "data": {
      "text/plain": [
       "array([1646.,  716., 1186., ...,   17.,   27.,   39.])"
      ]
     },
     "execution_count": 388,
     "metadata": {},
     "output_type": "execute_result"
    }
   ],
   "source": [
    "rfefeatureind[j][1]"
   ]
  },
  {
   "cell_type": "code",
   "execution_count": 389,
   "metadata": {},
   "outputs": [],
   "source": [
    "def forward_selection(feature,label,step=1,threshold=10):\n",
    "    featureind = np.array([]) # each loop delete feature ind\n",
    "    featurenum = feature.shape[1]\n",
    "    countnum = 0  #count loop\n",
    "    originalfeatureind = np.arange(0,featurenum)\n",
    "    picked = np.array([])\n",
    "    pbar = tqdm(total = threshold+1)\n",
    "    while countnum < threshold:\n",
    "        #print (countnum)\n",
    "        auc = np.zeros([featurenum])\n",
    "        remain = np.setdiff1d(originalfeatureind,picked)\n",
    "        for i in remain:\n",
    "            #print ( logistic_roc(feature[:,np.concatenate((featureind,np.array([i]))).astype('int')],label)[0])\n",
    "            auc[i] = logistic_roc(feature[:,np.concatenate((picked,np.array([i]))).astype('int')],label)[0]\n",
    "        #print (auc)\n",
    "        pickfeatureind = originalfeatureind[np.argmax(auc)]\n",
    "        #print (pickfeatureind)\n",
    "        #originalfeatureind = np.setdiff1d(originalfeatureind,pickfeatureind)\n",
    "        #print (pickfeatureind)\n",
    "        picked = np.concatenate((picked,np.array([pickfeatureind])))\n",
    "        #print (picked)\n",
    "        countnum += 1\n",
    "        pbar.update(1)\n",
    "    pbar.close()\n",
    "    return picked.astype('int')"
   ]
  },
  {
   "cell_type": "code",
   "execution_count": 390,
   "metadata": {
    "scrolled": false
   },
   "outputs": [
    {
     "name": "stderr",
     "output_type": "stream",
     "text": [
      "  0%|          | 0/2 [00:00<?, ?it/s]\n",
      "  0%|          | 0/51 [00:00<?, ?it/s]\u001b[A\n",
      "  4%|▍         | 2/51 [00:00<00:02, 18.67it/s]\u001b[A\n",
      " 10%|▉         | 5/51 [00:00<00:02, 21.03it/s]\u001b[A\n",
      " 18%|█▊        | 9/51 [00:00<00:01, 24.45it/s]\u001b[A\n",
      " 25%|██▌       | 13/51 [00:00<00:01, 27.08it/s]\u001b[A\n",
      " 35%|███▌      | 18/51 [00:00<00:01, 31.12it/s]\u001b[A\n",
      " 47%|████▋     | 24/51 [00:00<00:00, 35.89it/s]\u001b[A\n",
      " 61%|██████    | 31/51 [00:00<00:00, 41.60it/s]\u001b[A\n",
      " 82%|████████▏ | 42/51 [00:00<00:00, 51.10it/s]\u001b[A\n",
      " 50%|█████     | 1/2 [00:00<00:00,  1.15it/s]s]\u001b[A\n",
      "  0%|          | 0/51 [00:00<?, ?it/s]\u001b[A\n",
      "  8%|▊         | 4/51 [00:00<00:01, 36.52it/s]\u001b[A\n",
      " 16%|█▌        | 8/51 [00:00<00:01, 36.93it/s]\u001b[A\n",
      " 25%|██▌       | 13/51 [00:00<00:00, 38.14it/s]\u001b[A\n",
      " 35%|███▌      | 18/51 [00:00<00:00, 39.96it/s]\u001b[A\n",
      " 45%|████▌     | 23/51 [00:00<00:00, 42.46it/s]\u001b[A\n",
      " 59%|█████▉    | 30/51 [00:00<00:00, 46.91it/s]\u001b[A\n",
      " 76%|███████▋  | 39/51 [00:00<00:00, 54.69it/s]\u001b[A\n",
      "100%|██████████| 2/2 [00:01<00:00,  1.18it/s]s]\u001b[A\n"
     ]
    }
   ],
   "source": [
    "#需要倒着提取\n",
    "pickedind = {}\n",
    "for j in tqdm(range(2)):\n",
    "    pickedind[j] = forward_selection(dataset[dataclass[j]][:,np.flip(rfefeatureind[j][1].astype('int')[-50:],axis=0)],labelset[dataclass[j]],step=1,threshold=50)\n",
    "    \n",
    "    "
   ]
  },
  {
   "cell_type": "code",
   "execution_count": 391,
   "metadata": {},
   "outputs": [
    {
     "data": {
      "text/plain": [
       "{0: array([ 5,  0,  1,  2,  3,  4,  6,  7,  8,  9, 10, 11, 12, 13, 14, 15, 16,\n",
       "        17, 18, 19, 20, 21, 22, 23, 24, 25, 26, 27, 28, 29, 30, 31, 32, 33,\n",
       "        34, 35, 36, 37, 38, 39, 40, 41, 42, 43, 44, 45, 46, 47, 48, 49]),\n",
       " 1: array([45, 36,  0,  1,  3,  2,  4,  5,  6,  7,  8,  9, 10, 11, 12, 13, 14,\n",
       "        15, 16, 17, 18, 19, 20, 21, 22, 23, 24, 25, 26, 27, 28, 29, 30, 31,\n",
       "        32, 33, 34, 35, 37, 38, 39, 40, 41, 42, 43, 44, 46, 47, 48, 49])}"
      ]
     },
     "execution_count": 391,
     "metadata": {},
     "output_type": "execute_result"
    }
   ],
   "source": [
    "pickedind"
   ]
  },
  {
   "cell_type": "code",
   "execution_count": 392,
   "metadata": {},
   "outputs": [
    {
     "data": {
      "text/plain": [
       "array([50, 18, 39, 27, 42, 17, 41, 45, 22, 33, 37, 56, 47, 12,  9, 44,  7,\n",
       "       64, 32,  3,  4, 46, 35, 38, 63,  5, 53, 43, 28,  2, 71, 46, 22, 58,\n",
       "       59, 40, 16, 21, 19, 48, 82, 96, 59,  0, 70, 29, 32, 45, 34, 35])"
      ]
     },
     "execution_count": 392,
     "metadata": {},
     "output_type": "execute_result"
    }
   ],
   "source": [
    "#最终forward选出来的feature\n",
    "np.flip(rfefeatureind[j][1].astype('int')[-50:],axis=0)[pickedind[j]]"
   ]
  },
  {
   "cell_type": "code",
   "execution_count": 393,
   "metadata": {
    "deletable": false,
    "editable": false,
    "run_control": {
     "frozen": true
    }
   },
   "outputs": [],
   "source": [
    "def select_ind4jackknife(indcounts, select_ratio):\n",
    "    a = np.arange(0,indcounts)\n",
    "    np.random.shuffle(a)\n",
    "    return a[:int(indcounts*select_ratio)]\n",
    "def jackknife_pipeline_feature_version(feature,label,round=10,select_ratio=0.8):\n",
    "    '''\n",
    "    each time select select_ratio of all features, do several rounds\n",
    "    '''\n",
    "    repeated_feature = np.array([])\n",
    "    for i in tqdm(range(round)):\n",
    "        indcounts =  feature.shape[1]\n",
    "        ind4thisround = select_ind4jackknife(indcounts, select_ratio)\n",
    "        rfefeatureind = RFE_logistic(feature[:,ind4thisround],label,step=100,threshold=50)\n",
    "        #需要倒着提取\n",
    "        pickedind = forward_selection(feature[:,ind4thisround][:,np.flip(rfefeatureind[1].astype('int')[-50:],\n",
    "                                                                            axis=0)],label,step=1,threshold=50)\n",
    "        finalind_oneround = ind4thisround[np.flip(rfefeatureind[1].astype('int')[-50:],axis=0)[pickedind]]\n",
    "        repeated_feature = np.concatenate((repeated_feature,finalind_oneround))\n",
    "    return repeated_feature.astype('int')"
   ]
  },
  {
   "cell_type": "code",
   "execution_count": 418,
   "metadata": {},
   "outputs": [],
   "source": [
    "def select_sample4jackknife(indcounts, select_ratio):\n",
    "    a = np.arange(0,indcounts)\n",
    "    np.random.shuffle(a)\n",
    "    return a[:int(indcounts*select_ratio)]\n",
    "def jackknife_pipeline(feature,label,round=10,select_ratio=0.8):\n",
    "    '''\n",
    "    each time select select_ratio of all features, do several rounds\n",
    "    '''\n",
    "    repeated_feature = np.array([])\n",
    "    for i in tqdm(range(round)):\n",
    "        indcounts =  feature.shape[0]\n",
    "        sample4thisround = select_sample4jackknife(indcounts, select_ratio)\n",
    "        #print (sample4thisround)\n",
    "        rfefeatureind = RFE_logistic(feature[sample4thisround,:],label[sample4thisround],step=5,threshold=50)\n",
    "        print (rfefeatureind[0].shape)\n",
    "        #需要倒着提取\n",
    "        pickedind = forward_selection(feature[sample4thisround,:][:,rfefeatureind[0].astype('int')],label[sample4thisround],step=1,threshold=50)\n",
    "        print (pickedind.shape)\n",
    "        #print (np.flip(rfefeatureind[1].astype('int')[-50:],axis=0)[pickedind])\n",
    "        repeated_feature = np.concatenate((repeated_feature,rfefeatureind[0].astype('int')[pickedind]))\n",
    "    return repeated_feature.astype('int')"
   ]
  },
  {
   "cell_type": "code",
   "execution_count": 419,
   "metadata": {},
   "outputs": [
    {
     "data": {
      "text/plain": [
       "((43, 1727), (43,))"
      ]
     },
     "execution_count": 419,
     "metadata": {},
     "output_type": "execute_result"
    }
   ],
   "source": [
    "dataset[dataclass[j]].shape,labelset[dataclass[j]].shape"
   ]
  },
  {
   "cell_type": "code",
   "execution_count": null,
   "metadata": {},
   "outputs": [],
   "source": [
    "dataset[dataclass[j]]"
   ]
  },
  {
   "cell_type": "code",
   "execution_count": 420,
   "metadata": {
    "scrolled": true
   },
   "outputs": [
    {
     "name": "stderr",
     "output_type": "stream",
     "text": [
      "  0%|          | 0/10 [00:00<?, ?it/s]\n",
      "  0%|          | 0/51 [00:00<?, ?it/s]\u001b[A\n",
      " 18%|█▊        | 9/51 [00:00<00:00, 84.50it/s]\u001b[A\n",
      " 45%|████▌     | 23/51 [00:00<00:00, 95.08it/s]\u001b[A\n",
      " 80%|████████  | 41/51 [00:00<00:00, 110.73it/s]\u001b[A\n",
      "62it [00:00, 128.08it/s]                        \u001b[A\n",
      "84it [00:00, 146.35it/s]\u001b[A\n",
      "109it [00:00, 166.16it/s]\u001b[A\n",
      "138it [00:00, 189.50it/s]\u001b[A\n",
      "171it [00:00, 216.33it/s]\u001b[A\n",
      "212it [00:00, 251.42it/s]\u001b[A\n",
      "275it [00:01, 306.23it/s]\u001b[A\n",
      "336it [00:01, 314.25it/s]\u001b[A\n",
      "  0%|          | 0/51 [00:00<?, ?it/s]\u001b[A\n",
      "  8%|▊         | 4/51 [00:00<00:01, 39.32it/s]\u001b[A"
     ]
    },
    {
     "name": "stdout",
     "output_type": "stream",
     "text": [
      "(47,)\n"
     ]
    },
    {
     "name": "stderr",
     "output_type": "stream",
     "text": [
      "\n",
      " 18%|█▊        | 9/51 [00:00<00:01, 39.98it/s]\u001b[A\n",
      " 27%|██▋       | 14/51 [00:00<00:00, 41.17it/s]\u001b[A\n",
      " 39%|███▉      | 20/51 [00:00<00:00, 44.33it/s]\u001b[A\n",
      " 53%|█████▎    | 27/51 [00:00<00:00, 49.41it/s]\u001b[A\n",
      " 75%|███████▍  | 38/51 [00:00<00:00, 58.66it/s]\u001b[A\n",
      " 10%|█         | 1/10 [00:01<00:15,  1.77s/it]]\u001b[A\n",
      "  0%|          | 0/51 [00:00<?, ?it/s]\u001b[A\n",
      " 39%|███▉      | 20/51 [00:00<00:00, 199.81it/s]\u001b[A"
     ]
    },
    {
     "name": "stdout",
     "output_type": "stream",
     "text": [
      "(50,)\n"
     ]
    },
    {
     "name": "stderr",
     "output_type": "stream",
     "text": [
      "\n",
      " 82%|████████▏ | 42/51 [00:00<00:00, 203.89it/s]\u001b[A\n",
      "66it [00:00, 212.11it/s]                        \u001b[A\n",
      "93it [00:00, 225.73it/s]\u001b[A\n",
      "122it [00:00, 240.62it/s]\u001b[A\n",
      "158it [00:00, 266.17it/s]\u001b[A\n",
      "205it [00:00, 305.32it/s]\u001b[A\n",
      "283it [00:00, 373.36it/s]\u001b[A\n",
      "336it [00:00, 397.64it/s]\u001b[A\n",
      "  0%|          | 0/51 [00:00<?, ?it/s]\u001b[A\n",
      "  8%|▊         | 4/51 [00:00<00:01, 39.55it/s]\u001b[A"
     ]
    },
    {
     "name": "stdout",
     "output_type": "stream",
     "text": [
      "(47,)\n"
     ]
    },
    {
     "name": "stderr",
     "output_type": "stream",
     "text": [
      "\n",
      " 18%|█▊        | 9/51 [00:00<00:01, 40.19it/s]\u001b[A\n",
      " 27%|██▋       | 14/51 [00:00<00:00, 41.98it/s]\u001b[A\n",
      " 39%|███▉      | 20/51 [00:00<00:00, 45.10it/s]\u001b[A\n",
      " 53%|█████▎    | 27/51 [00:00<00:00, 50.16it/s]\u001b[A\n",
      " 75%|███████▍  | 38/51 [00:00<00:00, 59.50it/s]\u001b[A\n",
      " 20%|██        | 2/10 [00:03<00:13,  1.65s/it]]\u001b[A\n",
      "  0%|          | 0/51 [00:00<?, ?it/s]\u001b[A\n",
      " 37%|███▋      | 19/51 [00:00<00:00, 183.48it/s]\u001b[A"
     ]
    },
    {
     "name": "stdout",
     "output_type": "stream",
     "text": [
      "(50,)\n"
     ]
    },
    {
     "name": "stderr",
     "output_type": "stream",
     "text": [
      "\n",
      " 78%|███████▊  | 40/51 [00:00<00:00, 189.04it/s]\u001b[A\n",
      "63it [00:00, 198.21it/s]                        \u001b[A\n",
      "88it [00:00, 210.92it/s]\u001b[A\n",
      "116it [00:00, 227.01it/s]\u001b[A\n",
      "148it [00:00, 248.16it/s]\u001b[A\n",
      "188it [00:00, 279.64it/s]\u001b[A\n",
      "244it [00:00, 328.67it/s]\u001b[A\n",
      "336it [00:00, 376.97it/s]\u001b[A\n",
      "  0%|          | 0/51 [00:00<?, ?it/s]\u001b[A\n",
      "  8%|▊         | 4/51 [00:00<00:01, 39.50it/s]\u001b[A"
     ]
    },
    {
     "name": "stdout",
     "output_type": "stream",
     "text": [
      "(47,)\n"
     ]
    },
    {
     "name": "stderr",
     "output_type": "stream",
     "text": [
      "\n",
      " 18%|█▊        | 9/51 [00:00<00:01, 40.14it/s]\u001b[A\n",
      " 27%|██▋       | 14/51 [00:00<00:00, 41.95it/s]\u001b[A\n",
      " 39%|███▉      | 20/51 [00:00<00:00, 45.14it/s]\u001b[A\n",
      " 53%|█████▎    | 27/51 [00:00<00:00, 50.29it/s]\u001b[A\n",
      " 75%|███████▍  | 38/51 [00:00<00:00, 59.70it/s]\u001b[A\n",
      " 30%|███       | 3/10 [00:04<00:11,  1.62s/it]]\u001b[A\n",
      "  0%|          | 0/51 [00:00<?, ?it/s]\u001b[A\n",
      " 39%|███▉      | 20/51 [00:00<00:00, 193.29it/s]\u001b[A"
     ]
    },
    {
     "name": "stdout",
     "output_type": "stream",
     "text": [
      "(50,)\n"
     ]
    },
    {
     "name": "stderr",
     "output_type": "stream",
     "text": [
      "\n",
      " 80%|████████  | 41/51 [00:00<00:00, 197.04it/s]\u001b[A\n",
      "52it [00:00, 156.39it/s]                        \u001b[A\n",
      "70it [00:00, 161.24it/s]\u001b[A\n",
      "93it [00:00, 176.48it/s]\u001b[A\n",
      "121it [00:00, 198.16it/s]\u001b[A\n",
      "153it [00:00, 223.43it/s]\u001b[A\n",
      "192it [00:00, 256.06it/s]\u001b[A\n",
      "252it [00:00, 308.99it/s]\u001b[A\n",
      "336it [00:00, 342.37it/s]\u001b[A\n",
      "  0%|          | 0/51 [00:00<?, ?it/s]\u001b[A\n",
      "  8%|▊         | 4/51 [00:00<00:01, 39.74it/s]\u001b[A"
     ]
    },
    {
     "name": "stdout",
     "output_type": "stream",
     "text": [
      "(47,)\n"
     ]
    },
    {
     "name": "stderr",
     "output_type": "stream",
     "text": [
      "\n",
      " 18%|█▊        | 9/51 [00:00<00:01, 40.52it/s]\u001b[A\n",
      " 27%|██▋       | 14/51 [00:00<00:00, 42.42it/s]\u001b[A\n",
      " 39%|███▉      | 20/51 [00:00<00:00, 45.65it/s]\u001b[A\n",
      " 53%|█████▎    | 27/51 [00:00<00:00, 50.85it/s]\u001b[A\n",
      " 75%|███████▍  | 38/51 [00:00<00:00, 60.26it/s]\u001b[A\n",
      " 40%|████      | 4/10 [00:06<00:09,  1.63s/it]]\u001b[A\n",
      "  0%|          | 0/51 [00:00<?, ?it/s]\u001b[A\n",
      " 35%|███▌      | 18/51 [00:00<00:00, 172.78it/s]\u001b[A"
     ]
    },
    {
     "name": "stdout",
     "output_type": "stream",
     "text": [
      "(50,)\n"
     ]
    },
    {
     "name": "stderr",
     "output_type": "stream",
     "text": [
      "\n",
      " 71%|███████   | 36/51 [00:00<00:00, 174.58it/s]\u001b[A\n",
      "56it [00:00, 179.78it/s]                        \u001b[A\n",
      "77it [00:00, 187.87it/s]\u001b[A\n",
      "100it [00:00, 198.11it/s]\u001b[A\n",
      "126it [00:00, 212.76it/s]\u001b[A\n",
      "156it [00:00, 232.87it/s]\u001b[A\n",
      "193it [00:00, 261.25it/s]\u001b[A\n",
      "244it [00:00, 305.84it/s]\u001b[A\n",
      "336it [00:00, 338.13it/s]\u001b[A\n",
      "  0%|          | 0/51 [00:00<?, ?it/s]\u001b[A\n",
      "  8%|▊         | 4/51 [00:00<00:01, 39.42it/s]\u001b[A"
     ]
    },
    {
     "name": "stdout",
     "output_type": "stream",
     "text": [
      "(47,)\n"
     ]
    },
    {
     "name": "stderr",
     "output_type": "stream",
     "text": [
      "\n",
      " 18%|█▊        | 9/51 [00:00<00:01, 40.23it/s]\u001b[A\n",
      " 27%|██▋       | 14/51 [00:00<00:00, 42.14it/s]\u001b[A\n",
      " 39%|███▉      | 20/51 [00:00<00:00, 45.36it/s]\u001b[A\n",
      " 53%|█████▎    | 27/51 [00:00<00:00, 50.45it/s]\u001b[A\n",
      " 75%|███████▍  | 38/51 [00:00<00:00, 59.82it/s]\u001b[A\n",
      " 50%|█████     | 5/10 [00:08<00:08,  1.64s/it]]\u001b[A\n",
      "  0%|          | 0/51 [00:00<?, ?it/s]\u001b[A\n",
      " 39%|███▉      | 20/51 [00:00<00:00, 192.48it/s]\u001b[A"
     ]
    },
    {
     "name": "stdout",
     "output_type": "stream",
     "text": [
      "(50,)\n"
     ]
    },
    {
     "name": "stderr",
     "output_type": "stream",
     "text": [
      "\n",
      " 80%|████████  | 41/51 [00:00<00:00, 196.65it/s]\u001b[A\n",
      "64it [00:00, 203.65it/s]                        \u001b[A\n",
      "89it [00:00, 214.16it/s]\u001b[A\n",
      "117it [00:00, 230.37it/s]\u001b[A\n",
      "150it [00:00, 252.82it/s]\u001b[A\n",
      "184it [00:00, 273.15it/s]\u001b[A\n",
      "233it [00:00, 314.26it/s]\u001b[A\n",
      "336it [00:00, 368.22it/s]\u001b[A\n",
      "  0%|          | 0/51 [00:00<?, ?it/s]\u001b[A\n",
      "  8%|▊         | 4/51 [00:00<00:01, 39.70it/s]\u001b[A"
     ]
    },
    {
     "name": "stdout",
     "output_type": "stream",
     "text": [
      "(47,)\n"
     ]
    },
    {
     "name": "stderr",
     "output_type": "stream",
     "text": [
      "\n",
      " 18%|█▊        | 9/51 [00:00<00:01, 40.51it/s]\u001b[A\n",
      " 27%|██▋       | 14/51 [00:00<00:00, 42.38it/s]\u001b[A\n",
      " 39%|███▉      | 20/51 [00:00<00:00, 45.59it/s]\u001b[A\n",
      " 53%|█████▎    | 27/51 [00:00<00:00, 50.76it/s]\u001b[A\n",
      " 75%|███████▍  | 38/51 [00:00<00:00, 60.23it/s]\u001b[A\n",
      " 60%|██████    | 6/10 [00:09<00:06,  1.63s/it]]\u001b[A\n",
      "  0%|          | 0/51 [00:00<?, ?it/s]\u001b[A\n",
      " 37%|███▋      | 19/51 [00:00<00:00, 185.66it/s]\u001b[A"
     ]
    },
    {
     "name": "stdout",
     "output_type": "stream",
     "text": [
      "(50,)\n"
     ]
    },
    {
     "name": "stderr",
     "output_type": "stream",
     "text": [
      "\n",
      " 76%|███████▋  | 39/51 [00:00<00:00, 189.07it/s]\u001b[A\n",
      "60it [00:00, 193.60it/s]                        \u001b[A\n",
      "83it [00:00, 202.24it/s]\u001b[A\n",
      "108it [00:00, 214.38it/s]\u001b[A\n",
      "137it [00:00, 230.94it/s]\u001b[A\n",
      "170it [00:00, 253.58it/s]\u001b[A\n",
      "211it [00:00, 285.58it/s]\u001b[A\n",
      "275it [00:00, 342.23it/s]\u001b[A\n",
      "336it [00:00, 352.16it/s]\u001b[A\n",
      "  0%|          | 0/51 [00:00<?, ?it/s]\u001b[A\n",
      "  8%|▊         | 4/51 [00:00<00:01, 39.74it/s]\u001b[A"
     ]
    },
    {
     "name": "stdout",
     "output_type": "stream",
     "text": [
      "(47,)\n"
     ]
    },
    {
     "name": "stderr",
     "output_type": "stream",
     "text": [
      "\n",
      " 18%|█▊        | 9/51 [00:00<00:01, 40.51it/s]\u001b[A\n",
      " 27%|██▋       | 14/51 [00:00<00:00, 42.36it/s]\u001b[A\n",
      " 39%|███▉      | 20/51 [00:00<00:00, 44.99it/s]\u001b[A\n",
      " 53%|█████▎    | 27/51 [00:00<00:00, 50.13it/s]\u001b[A\n",
      " 75%|███████▍  | 38/51 [00:00<00:00, 59.58it/s]\u001b[A\n",
      " 70%|███████   | 7/10 [00:11<00:04,  1.63s/it]]\u001b[A\n",
      "  0%|          | 0/51 [00:00<?, ?it/s]\u001b[A\n",
      " 37%|███▋      | 19/51 [00:00<00:00, 188.50it/s]\u001b[A"
     ]
    },
    {
     "name": "stdout",
     "output_type": "stream",
     "text": [
      "(50,)\n"
     ]
    },
    {
     "name": "stderr",
     "output_type": "stream",
     "text": [
      "\n",
      " 76%|███████▋  | 39/51 [00:00<00:00, 190.69it/s]\u001b[A\n",
      "61it [00:00, 197.38it/s]                        \u001b[A\n",
      "85it [00:00, 207.09it/s]\u001b[A\n",
      "112it [00:00, 221.14it/s]\u001b[A\n",
      "144it [00:00, 242.60it/s]\u001b[A\n",
      "182it [00:00, 271.41it/s]\u001b[A\n",
      "231it [00:00, 312.57it/s]\u001b[A\n",
      "332it [00:00, 394.15it/s]\u001b[A\n",
      "336it [00:00, 365.88it/s]\u001b[A\n",
      "  0%|          | 0/51 [00:00<?, ?it/s]\u001b[A\n",
      "  8%|▊         | 4/51 [00:00<00:01, 39.70it/s]\u001b[A"
     ]
    },
    {
     "name": "stdout",
     "output_type": "stream",
     "text": [
      "(47,)\n"
     ]
    },
    {
     "name": "stderr",
     "output_type": "stream",
     "text": [
      "\n",
      " 18%|█▊        | 9/51 [00:00<00:01, 40.51it/s]\u001b[A\n",
      " 27%|██▋       | 14/51 [00:00<00:00, 42.44it/s]\u001b[A\n",
      " 39%|███▉      | 20/51 [00:00<00:00, 45.65it/s]\u001b[A\n",
      " 53%|█████▎    | 27/51 [00:00<00:00, 50.79it/s]\u001b[A\n",
      " 75%|███████▍  | 38/51 [00:00<00:00, 60.28it/s]\u001b[A\n",
      " 80%|████████  | 8/10 [00:13<00:03,  1.63s/it]]\u001b[A\n",
      "  0%|          | 0/51 [00:00<?, ?it/s]\u001b[A\n",
      " 39%|███▉      | 20/51 [00:00<00:00, 190.81it/s]\u001b[A"
     ]
    },
    {
     "name": "stdout",
     "output_type": "stream",
     "text": [
      "(50,)\n"
     ]
    },
    {
     "name": "stderr",
     "output_type": "stream",
     "text": [
      "\n",
      " 80%|████████  | 41/51 [00:00<00:00, 193.80it/s]\u001b[A\n",
      "64it [00:00, 201.69it/s]                        \u001b[A\n",
      "89it [00:00, 213.39it/s]\u001b[A\n",
      "117it [00:00, 228.97it/s]\u001b[A\n",
      "150it [00:00, 250.60it/s]\u001b[A\n",
      "189it [00:00, 280.26it/s]\u001b[A\n",
      "245it [00:00, 329.33it/s]\u001b[A\n",
      "336it [00:00, 376.30it/s]\u001b[A\n",
      "  0%|          | 0/51 [00:00<?, ?it/s]\u001b[A\n",
      "  8%|▊         | 4/51 [00:00<00:01, 39.73it/s]\u001b[A"
     ]
    },
    {
     "name": "stdout",
     "output_type": "stream",
     "text": [
      "(47,)\n"
     ]
    },
    {
     "name": "stderr",
     "output_type": "stream",
     "text": [
      "\n",
      " 18%|█▊        | 9/51 [00:00<00:01, 40.63it/s]\u001b[A\n",
      " 27%|██▋       | 14/51 [00:00<00:00, 42.50it/s]\u001b[A\n",
      " 39%|███▉      | 20/51 [00:00<00:00, 45.71it/s]\u001b[A\n",
      " 53%|█████▎    | 27/51 [00:00<00:00, 50.92it/s]\u001b[A\n",
      " 75%|███████▍  | 38/51 [00:00<00:00, 60.30it/s]\u001b[A\n",
      " 90%|█████████ | 9/10 [00:14<00:01,  1.62s/it]]\u001b[A\n",
      "  0%|          | 0/51 [00:00<?, ?it/s]\u001b[A\n",
      " 39%|███▉      | 20/51 [00:00<00:00, 190.86it/s]\u001b[A"
     ]
    },
    {
     "name": "stdout",
     "output_type": "stream",
     "text": [
      "(50,)\n"
     ]
    },
    {
     "name": "stderr",
     "output_type": "stream",
     "text": [
      "\n",
      " 78%|███████▊  | 40/51 [00:00<00:00, 193.32it/s]\u001b[A\n",
      "62it [00:00, 200.28it/s]                        \u001b[A\n",
      "87it [00:00, 211.05it/s]\u001b[A\n",
      "116it [00:00, 228.17it/s]\u001b[A\n",
      "149it [00:00, 250.36it/s]\u001b[A\n",
      "189it [00:00, 280.83it/s]\u001b[A\n",
      "243it [00:00, 327.60it/s]\u001b[A\n",
      "336it [00:00, 368.53it/s]\u001b[A\n",
      "  0%|          | 0/51 [00:00<?, ?it/s]\u001b[A\n",
      "  8%|▊         | 4/51 [00:00<00:01, 39.76it/s]\u001b[A"
     ]
    },
    {
     "name": "stdout",
     "output_type": "stream",
     "text": [
      "(47,)\n"
     ]
    },
    {
     "name": "stderr",
     "output_type": "stream",
     "text": [
      "\n",
      " 18%|█▊        | 9/51 [00:00<00:01, 40.58it/s]\u001b[A\n",
      " 27%|██▋       | 14/51 [00:00<00:00, 42.46it/s]\u001b[A\n",
      " 39%|███▉      | 20/51 [00:00<00:00, 45.61it/s]\u001b[A\n",
      " 53%|█████▎    | 27/51 [00:00<00:00, 50.73it/s]\u001b[A\n",
      " 75%|███████▍  | 38/51 [00:00<00:00, 60.08it/s]\u001b[A\n",
      "100%|██████████| 10/10 [00:16<00:00,  1.62s/it]\u001b[A"
     ]
    },
    {
     "name": "stdout",
     "output_type": "stream",
     "text": [
      "(50,)\n"
     ]
    },
    {
     "name": "stderr",
     "output_type": "stream",
     "text": [
      "\n"
     ]
    }
   ],
   "source": [
    "repeated_featurehcc = jackknife_pipeline(dataset[dataclass[1]],labelset[dataclass[1]],round=10,select_ratio=0.8)"
   ]
  },
  {
   "cell_type": "code",
   "execution_count": 408,
   "metadata": {},
   "outputs": [
    {
     "data": {
      "text/plain": [
       "(array([ 1,  2,  3,  4,  5,  6,  7,  8,  9, 10]),\n",
       " array([65, 17, 13,  8, 12,  5,  5,  7, 11,  5]))"
      ]
     },
     "metadata": {},
     "output_type": "display_data"
    },
    {
     "data": {
      "text/plain": [
       "Text(0.5,1,'Feature frequency')"
      ]
     },
     "execution_count": 408,
     "metadata": {},
     "output_type": "execute_result"
    },
    {
     "data": {
      "image/png": "[encoded data removed]",
      "text/plain": [
       "<matplotlib.figure.Figure at 0x7f2e4464dac8>"
      ]
     },
     "metadata": {},
     "output_type": "display_data"
    }
   ],
   "source": [
    "display(np.unique(np.unique(repeated_featurehcc,return_counts=True)[1],return_counts=True))\n",
    "fig,ax=plt.subplots(1,figsize=(8,6))\n",
    "ax.hist(np.unique(repeated_featurehcc.astype('int'),return_counts=True)[1],bins=10)\n",
    "ax.set_yticks(np.arange(0,40,5))\n",
    "ax.set_title('Feature frequency')"
   ]
  },
  {
   "cell_type": "code",
   "execution_count": 470,
   "metadata": {},
   "outputs": [
    {
     "data": {
      "text/plain": [
       "array([ 445,  446,  868,  522, 1436, 1143,  785,  587, 1059,  515,  510,\n",
       "        948,  586,  603,  942,  297, 1426,  150,  151, 1323, 1438, 1371,\n",
       "       1383,  175, 1319, 1322, 1422,  822,  914,  123,  170, 1303,  126,\n",
       "        193,  128, 1133,   33,  109, 1166,  137,  160, 1248,  132, 1455,\n",
       "         50,  152,  188, 1268,  221,  162,  220,  174,  158, 1309, 1592,\n",
       "        745, 1026,  845,  901,  818,  516,  161,  545, 1525,  125, 1444,\n",
       "       1234,  133,  645,   31,    3, 1726, 1244, 1380,  874, 1307, 1443,\n",
       "       1432,  574, 1358, 1390, 1481, 1596,  865,  772,   34, 1679,  860,\n",
       "         21, 1212,  836, 1453, 1221, 1369, 1346,   69, 1363, 1647, 1457,\n",
       "       1696, 1465, 1224, 1678,  849])"
      ]
     },
     "execution_count": 470,
     "metadata": {},
     "output_type": "execute_result"
    }
   ],
   "source": [
    "ranked_ind[:,0][[np.argsort(-featureabs)]]"
   ]
  },
  {
   "cell_type": "code",
   "execution_count": 472,
   "metadata": {},
   "outputs": [
    {
     "data": {
      "text/plain": [
       "array(['20010', '36105', 'MIRLET7D', 'piR.hsa.27616', 'MEX3C', 'Y_RNA',\n",
       "       'piR.hsa.619', 'piR.hsa.28390_2', 'Y_RNA', 'piR.hsa.27138',\n",
       "       'piR.hsa.26872', 'Y_RNA', 'piR.hsa.28390', 'piR.hsa.28634',\n",
       "       'Y_RNA', 'piR.hsa.1593', 'MIR450B', 'HELLPAR', 'HELLPAR', '1',\n",
       "       'MIR1250', 'MIR320A', '27556', 'LINC00506', 'MIR195', 'MIR204',\n",
       "       'AC116407.1', 'MIR345', 'SNORD33', 'AC006548.3', 'SNORD3B-2',\n",
       "       'MIR497', 'AC006548.3', 'MIR338', 'AC006548.3', 'Y_RNA', 'MIR92B',\n",
       "       'SNORD3C', 'Y_RNA', 'AP000542.3', 'HELLPAR', 'MIR499A',\n",
       "       'AC006548.3', 'MIR1287', 'AC022929.2', 'HELLPAR', 'LINC01427',\n",
       "       'MIR455', 'G032283', 'HELLPAR', 'G032283', 'LINC00506', 'HELLPAR',\n",
       "       'MIR27A', 'MAEA', 'RSPO1', 'SNORD3B-2', 'MIR22', 'Y_RNA', 'MIR30E',\n",
       "       'piR.hsa.27139', 'HELLPAR', 'ZC3HAV1', 'AL671511.1', 'AC006548.3',\n",
       "       'MIR1304', 'MIR19A', 'AP000542.2', 'LINC00670', 'SCARNA15',\n",
       "       'AC007743.1', 'AC007743.1', 'MIR651', 'RNU11', '1', 'MIR483',\n",
       "       'SNORD110', 'MIR885', 'piR.hsa.28205', 'MIR130A', 'MIR769',\n",
       "       'MIR548F2', 'MAEA', 'MIR148B', 'piR.hsa.6145', 'SNORD91B',\n",
       "       'SNORD3C', 'MIR424', 'SNORA51', 'MIR142', 'MIR425', 'MIR1306',\n",
       "       'MIR196B', 'MIR143', 'MIR576', 'MIR548O2', 'MIR140', 'HERC2',\n",
       "       'MIR548F3', 'MIR5010', 'MIR548O', 'MIR181A2', 'MIR4659A', '2'],\n",
       "      dtype=object)"
      ]
     },
     "execution_count": 472,
     "metadata": {},
     "output_type": "execute_result"
    }
   ],
   "source": [
    "featurenamessort"
   ]
  },
  {
   "cell_type": "code",
   "execution_count": 480,
   "metadata": {
    "scrolled": true
   },
   "outputs": [
    {
     "data": {
      "image/png": "[encoded data removed]",
      "text/plain": [
       "<matplotlib.figure.Figure at 0x7f2e431dc198>"
      ]
     },
     "metadata": {},
     "output_type": "display_data"
    }
   ],
   "source": [
    "fig,ax=plt.subplots(1,figsize=(12,6))\n",
    "ranges = 30\n",
    "featureabs = np.abs(logistic_selection(dataset[dataclass[j]][:,ranked_ind[:,0]]\n",
    "           ,labelset[dataclass[j]])).ravel()\n",
    "featurenamessort = binnametranslated[ranked_ind[:,0][[np.argsort(-featureabs)]]]\n",
    "ax.set_xticks(np.arange(0,ranges))\n",
    "ax.set_xticklabels(featurenamessort[:ranges],fontweight='bold')\n",
    "ax.plot(-np.sort(-featureabs)[:ranges])\n",
    "ax.set_title('Feature importance of Forward Selection '+ ' '+dataclass[j],fontsize=15,fontweight='bold')\n",
    "plt.setp(ax.get_xticklabels(), rotation=30, horizontalalignment='right',fontsize=11)\n",
    "fig.tight_layout()"
   ]
  },
  {
   "cell_type": "code",
   "execution_count": 409,
   "metadata": {},
   "outputs": [
    {
     "data": {
      "text/plain": [
       "(1727,)"
      ]
     },
     "execution_count": 409,
     "metadata": {},
     "output_type": "execute_result"
    }
   ],
   "source": [
    "binfeaturenamesplit.shape"
   ]
  },
  {
   "cell_type": "code",
   "execution_count": 421,
   "metadata": {},
   "outputs": [
    {
     "data": {
      "text/plain": [
       "(array([   3,    4,   21,   31,   33,   34,   50,   69,  109,  111,  122,\n",
       "         123,  125,  126,  128,  132,  133,  136,  137,  140,  141,  145,\n",
       "         149,  150,  151,  152,  158,  159,  160,  161,  162,  164,  170,\n",
       "         174,  175,  188,  193,  214,  215,  220,  221,  233,  235,  245,\n",
       "         297,  323,  341,  445,  446,  449,  496,  501,  510,  511,  512,\n",
       "         515,  516,  522,  545,  550,  574,  586,  587,  602,  603,  623,\n",
       "         645,  745,  772,  774,  775,  778,  785,  796,  818,  822,  836,\n",
       "         845,  849,  860,  865,  866,  868,  874,  888,  901,  914,  920,\n",
       "         942,  948,  952,  987,  994, 1008, 1011, 1018, 1021, 1026, 1059,\n",
       "        1110, 1118, 1133, 1141, 1143, 1166, 1209, 1212, 1213, 1221, 1224,\n",
       "        1234, 1244, 1248, 1257, 1258, 1260, 1262, 1266, 1268, 1298, 1303,\n",
       "        1307, 1309, 1319, 1322, 1323, 1326, 1329, 1339, 1343, 1346, 1358,\n",
       "        1363, 1369, 1371, 1379, 1380, 1383, 1388, 1390, 1406, 1422, 1424,\n",
       "        1426, 1432, 1436, 1438, 1443, 1444, 1445, 1453, 1455, 1457, 1461,\n",
       "        1462, 1465, 1478, 1481, 1509, 1525, 1592, 1596, 1601, 1604, 1611,\n",
       "        1622, 1647, 1654, 1678, 1679, 1696, 1719, 1723, 1726]),\n",
       " array([ 8,  1,  8, 24,  3,  5,  6,  3,  2,  1,  1,  4,  2,  7,  3,  2,  2,\n",
       "         1,  3,  1,  1,  1,  1,  8,  9,  3,  4,  1,  3,  2,  3,  1,  3,  2,\n",
       "         9,  3,  3,  1,  1,  6,  4,  1,  1,  1,  2,  1,  1,  6,  7,  1,  1,\n",
       "         1,  5,  1,  1,  3,  2,  6,  7,  1,  2,  4,  6,  1,  2,  1,  3,  4,\n",
       "         3,  1,  1,  1,  3,  1,  6,  3,  3,  3,  2,  3,  3,  1, 10,  4,  1,\n",
       "         3,  7,  1,  2,  3,  1,  1,  1,  1,  1,  1,  1,  2,  5,  1,  1,  2,\n",
       "         1,  5,  5,  1,  2,  1,  4,  2,  2,  4,  2,  1,  1,  1,  1,  1,  6,\n",
       "         1,  2,  3,  5,  3,  8,  6,  1,  1,  1,  1,  2,  4,  3,  2, 10,  1,\n",
       "         2,  4,  1,  2,  1,  6,  1,  6,  3, 10,  3,  2,  8,  1,  2,  4,  2,\n",
       "         1,  1,  2,  1,  6,  1,  2,  3,  2,  1,  1,  1,  1,  2,  1,  2,  3,\n",
       "         2,  1,  1,  2]))"
      ]
     },
     "execution_count": 421,
     "metadata": {},
     "output_type": "execute_result"
    }
   ],
   "source": [
    "np.unique(repeated_featurehcc,return_counts=True)"
   ]
  },
  {
   "cell_type": "code",
   "execution_count": 422,
   "metadata": {},
   "outputs": [
    {
     "data": {
      "text/plain": [
       "array([   3,   21,   31,   33,   34,   50,   69,  109,  123,  125,  126,\n",
       "        128,  132,  133,  137,  150,  151,  152,  158,  160,  161,  162,\n",
       "        170,  174,  175,  188,  193,  220,  221,  297,  445,  446,  510,\n",
       "        515,  516,  522,  545,  574,  586,  587,  603,  645,  745,  772,\n",
       "        785,  818,  822,  836,  845,  849,  860,  865,  868,  874,  901,\n",
       "        914,  942,  948, 1026, 1059, 1133, 1143, 1166, 1212, 1221, 1224,\n",
       "       1234, 1244, 1248, 1268, 1303, 1307, 1309, 1319, 1322, 1323, 1346,\n",
       "       1358, 1363, 1369, 1371, 1380, 1383, 1390, 1422, 1426, 1432, 1436,\n",
       "       1438, 1443, 1444, 1453, 1455, 1457, 1465, 1481, 1525, 1592, 1596,\n",
       "       1647, 1678, 1679, 1696, 1726])"
      ]
     },
     "execution_count": 422,
     "metadata": {},
     "output_type": "execute_result"
    }
   ],
   "source": [
    "np.unique(repeated_featurehcc,return_counts=True)[0][np.where(np.unique(repeated_featurehcc,return_counts=True)[1]>1)]"
   ]
  },
  {
   "cell_type": "code",
   "execution_count": 423,
   "metadata": {},
   "outputs": [
    {
     "data": {
      "text/plain": [
       "array([ 8,  8, 24,  3,  5,  6,  3,  2,  4,  2,  7,  3,  2,  2,  3,  8,  9,\n",
       "        3,  4,  3,  2,  3,  3,  2,  9,  3,  3,  6,  4,  2,  6,  7,  5,  3,\n",
       "        2,  6,  7,  2,  4,  6,  2,  3,  4,  3,  3,  6,  3,  3,  3,  2,  3,\n",
       "        3, 10,  4,  3,  7,  2,  3,  2,  5,  2,  5,  5,  2,  4,  2,  2,  4,\n",
       "        2,  6,  2,  3,  5,  3,  8,  6,  2,  4,  3,  2, 10,  2,  4,  2,  6,\n",
       "        6,  3, 10,  3,  2,  8,  2,  4,  2,  2,  6,  2,  3,  2,  2,  2,  3,\n",
       "        2,  2])"
      ]
     },
     "execution_count": 423,
     "metadata": {},
     "output_type": "execute_result"
    }
   ],
   "source": [
    "np.unique(repeated_featurehcc,return_counts=True)[1][np.where(np.unique(repeated_featurehcc,return_counts=True)[1]>1)]"
   ]
  },
  {
   "cell_type": "code",
   "execution_count": 424,
   "metadata": {},
   "outputs": [],
   "source": [
    "selectedind_count = np.concatenate(( np.unique(repeated_featurehcc,return_counts=True)[0][np.where(np.unique(repeated_featurehcc,return_counts=True)[1]>1)].reshape(-1,1),\n",
    "               np.unique(repeated_featurehcc,return_counts=True)[1][np.where(np.unique(repeated_featurehcc,return_counts=True)[1]>1)].reshape(-1,1)),axis=1)"
   ]
  },
  {
   "cell_type": "code",
   "execution_count": 425,
   "metadata": {},
   "outputs": [],
   "source": [
    "ranked_ind = selectedind_count[np.argsort(-selectedind_count[:,1])]"
   ]
  },
  {
   "cell_type": "code",
   "execution_count": 428,
   "metadata": {},
   "outputs": [
    {
     "data": {
      "text/plain": [
       "(104, 2)"
      ]
     },
     "execution_count": 428,
     "metadata": {},
     "output_type": "execute_result"
    }
   ],
   "source": [
    "ranked_ind.shape"
   ]
  },
  {
   "cell_type": "code",
   "execution_count": 426,
   "metadata": {},
   "outputs": [
    {
     "data": {
      "text/plain": [
       "(104,)"
      ]
     },
     "execution_count": 426,
     "metadata": {},
     "output_type": "execute_result"
    }
   ],
   "source": [
    "binfeaturenamesplit[ranked_ind[:,0]].shape"
   ]
  },
  {
   "cell_type": "code",
   "execution_count": 416,
   "metadata": {},
   "outputs": [
    {
     "data": {
      "text/plain": [
       "array(['peak_1134.ENST00000626826.1_40340_40440',\n",
       "       'peak_1133.ENST00000626826.1_40020_40100',\n",
       "       'peak_1026.ENST00000607520.1_3120_3200',\n",
       "       'peak_1458.piR.hsa.26872_0_27',\n",
       "       'peak_1155.ENST00000629295.1_1080_1280',\n",
       "       'peak_1192.T000078_9920_9980',\n",
       "       'peak_1142.ENST00000626826.1_113360_113600',\n",
       "       'peak_1191.ENST00000641087.1_3120_3180', 'peak_14.20010_20_86',\n",
       "       'peak_140.36105_0_40', 'peak_1462.piR.hsa.27138_0_30',\n",
       "       'peak_1156.ENST00000629295.1_1380_1540',\n",
       "       'peak_1109.ENST00000623130.1_7060_7240',\n",
       "       'peak_1469.piR.hsa.27616_0_30',\n",
       "       'peak_1043.ENST00000612997.1_80_260',\n",
       "       'peak_1140.ENST00000626826.1_111380_111680',\n",
       "       'peak_149.ENST00000242351.9_6460_6520',\n",
       "       'peak_1151.ENST00000628329.1_180_217',\n",
       "       'peak_1526.piR.hsa.28390_0_30',\n",
       "       'peak_1029.ENST00000608459.2_60_120',\n",
       "       'peak_1028.ENST00000607575.3_60_96',\n",
       "       'peak_1143.ENST00000626826.1_113620_113720',\n",
       "       'peak_1135.ENST00000626826.1_46180_46260',\n",
       "       'peak_1113.ENST00000623130.1_30360_30420',\n",
       "       'peak_1266.piR.hsa.1593_0_30', 'peak_1527.piR.hsa.28390_2_0_30',\n",
       "       'peak_1176.ENST00000636484.1_180_328',\n",
       "       'peak_1197.T137783_1920_1960', 'peak_1172.ENST00000636369.1_0_40',\n",
       "       'peak_1144.ENST00000626826.1_113760_114080',\n",
       "       'peak_1121.ENST00000623391.1_4960_5040',\n",
       "       'peak_1111.ENST00000623130.1_8640_8680',\n",
       "       'peak_1141.ENST00000626826.1_112840_113340',\n",
       "       'peak_1124.ENST00000624521.1_120_160',\n",
       "       'peak_1117.ENST00000623130.1_56520_56680',\n",
       "       'peak_1154.ENST00000629295.1_560_780',\n",
       "       'peak_1110.ENST00000623130.1_7360_7520',\n",
       "       'peak_1108.ENST00000623130.1_6900_6960',\n",
       "       'peak_1463.piR.hsa.27139_0_31',\n",
       "       'peak_1168.ENST00000635258.1_3060_3120',\n",
       "       'peak_1097.ENST00000620446.1_180_218',\n",
       "       'peak_1198.T137784_1880_1920', 'peak_1694.piR.hsa.6145_0_32',\n",
       "       'peak_1017.ENST00000606420.1_100_132',\n",
       "       'peak_1173.ENST00000636386.1_2300_2340', 'peak_131.36092_20_60',\n",
       "       'peak_121.35974_20_72', 'peak_1000.ENST00000596663.5_1600_1620',\n",
       "       'peak_1051.ENST00000613956.1_20_60',\n",
       "       'peak_1019.ENST00000606601.3_0_40',\n",
       "       'peak_1120.ENST00000623391.1_4840_4880',\n",
       "       'peak_1099.ENST00000620864.1_6340_6420',\n",
       "       'peak_1112.ENST00000623130.1_28660_28780',\n",
       "       'peak_184.ENST00000362114.1_0_40',\n",
       "       'peak_180.ENST00000362104.3_0_80', 'peak_1715.piR.hsa.7327_2_0_27',\n",
       "       'peak_17.20271_0_40', 'peak_1698.piR.hsa.6145_5_0_32',\n",
       "       'peak_167.ENST00000356545.6_220_260',\n",
       "       'peak_158.ENST00000313495.6_2540_2640',\n",
       "       'peak_1536.piR.hsa.28527_5_0_29',\n",
       "       'peak_1098.ENST00000620864.1_6300_6320',\n",
       "       'peak_1184.ENST00000637495.1_0_68',\n",
       "       'peak_1118.ENST00000623199.1_780_980', 'peak_137.36101_20_60',\n",
       "       'peak_1158.ENST00000630092.1_180_217',\n",
       "       'peak_1115.ENST00000623130.1_54100_54160',\n",
       "       'peak_1174.ENST00000636386.1_2440_2520',\n",
       "       'peak_204.ENST00000362190.3_0_80', 'peak_1716.piR.hsa.7327_3_0_27',\n",
       "       'peak_1219.piR.hsa.11256_3_0_26', 'peak_1714.piR.hsa.7327_0_27',\n",
       "       'peak_1705.piR.hsa.619_0_29', 'peak_1697.piR.hsa.6145_4_0_32',\n",
       "       'peak_1105.ENST00000623130.1_4800_4960',\n",
       "       'peak_1685.piR.hsa.426_0_31', 'peak_1400.piR.hsa.25779_11_0_27',\n",
       "       'peak_142.36332_20_72', 'peak_1024.ENST00000607313.1_0_66',\n",
       "       'peak_1193.T000081_9940_10000', 'peak_145.5500_0_60',\n",
       "       'peak_1125.ENST00000624591.1_560_620',\n",
       "       'peak_267.ENST00000362761.1_0_85'], dtype=object)"
      ]
     },
     "execution_count": 416,
     "metadata": {},
     "output_type": "execute_result"
    }
   ],
   "source": [
    "binfeaturenamesplit[ranked_ind[:,0]]"
   ]
  },
  {
   "cell_type": "code",
   "execution_count": 417,
   "metadata": {},
   "outputs": [],
   "source": [
    "np.savetxt('selected_feature_.txt',binfeaturenamesplit[ranked_ind[:,0]],fmt='%s')"
   ]
  },
  {
   "cell_type": "code",
   "execution_count": 282,
   "metadata": {},
   "outputs": [
    {
     "data": {
      "text/plain": [
       "array(['peak_1.12979_0_60', 'peak_2.12985_20_72', 'peak_3.12991_20_72',\n",
       "       ..., 'peak_668;ENST00000385277.1_0_80',\n",
       "       'peak_1040;ENST00000612171.2_0_68',\n",
       "       'peak_1183;ENST00000637446.1_0_64'], dtype=object)"
      ]
     },
     "execution_count": 282,
     "metadata": {},
     "output_type": "execute_result"
    }
   ],
   "source": [
    "binfeaturenamesplit"
   ]
  },
  {
   "cell_type": "code",
   "execution_count": 272,
   "metadata": {},
   "outputs": [
    {
     "data": {
      "text/plain": [
       "array([1457,   50,   21,   31,   69,  126,  150,  158,  175,  187,  198,\n",
       "        208,  220,  221,  445,  512,  545,  772,  776,  777,  818,  220,\n",
       "         34,   31,   38,   76,  109,  122,  126,  128,  132,  137,  150,\n",
       "        151,  160,  170,  175,  177,  188,  197, 1390,   21,   50,  123,\n",
       "        132,   69,  126,  151,  193,  150,  175,  206,  214,  220,  238,\n",
       "        297,  346,  445,  446,  496, 1212, 1143,   31,  122,   50,  128,\n",
       "        133,  151,  159,  173,  197,  126,  150,  158,  160,  175,  206,\n",
       "        188,  445,  446,  914, 1143,   31,   95,   50,  109,  123,  150,\n",
       "        151,  158,  170,  175,  193,  220,  221,  235,  297,  445,  446,\n",
       "        510,  545,  510,  818,   31,   50,  109,  126,  123,  128,  150,\n",
       "        151,  160,  175,  188,  193,  220,  221,  445,  446,  515,  914,\n",
       "        128,   33,  122,  123,  126,  150,  151,  152,  173,  193,  136,\n",
       "        137,  174,  175,  197,  220,  445,  446,  510,  214,   31,    3,\n",
       "         21,  123,  125,  150,  151,  152,  159,  161,  162,  175,  220,\n",
       "        221,  445,  446,  515,  522,  545,  914,  468,  123,  137,  126,\n",
       "        151,  170,  140,  175,  150,  197,  214,  220,  221,  445,  446,\n",
       "        510,  545,  586,  587,  220,   58,   31,   34,   50,   60,   65,\n",
       "         69,   85,  100,  107,  150,  151,  158,  175,  180,  221,  446,\n",
       "        512,  545])"
      ]
     },
     "execution_count": 272,
     "metadata": {},
     "output_type": "execute_result"
    }
   ],
   "source": [
    "repeated_featurehcc"
   ]
  },
  {
   "cell_type": "code",
   "execution_count": 265,
   "metadata": {
    "scrolled": true
   },
   "outputs": [
    {
     "data": {
      "application/vnd.jupyter.widget-view+json": {
       "model_id": "6eb3e6b81cbe43c8be5c20cf343292f7",
       "version_major": 2,
       "version_minor": 0
      },
      "text/html": [
       "<p>Failed to display Jupyter Widget of type <code>HBox</code>.</p>\n",
       "<p>\n",
       "  If you're reading this message in the Jupyter Notebook or JupyterLab Notebook, it may mean\n",
       "  that the widgets JavaScript is still loading. If this message persists, it\n",
       "  likely means that the widgets JavaScript library is either not installed or\n",
       "  not enabled. See the <a href=\"https://ipywidgets.readthedocs.io/en/stable/user_install.html\">Jupyter\n",
       "  Widgets Documentation</a> for setup instructions.\n",
       "</p>\n",
       "<p>\n",
       "  If you're reading this message in another frontend (for example, a static\n",
       "  rendering on GitHub or <a href=\"https://nbviewer.jupyter.org/\">NBViewer</a>),\n",
       "  it may mean that your frontend doesn't currently support widgets.\n",
       "</p>\n"
      ],
      "text/plain": [
       "HBox(children=(IntProgress(value=0, max=20), HTML(value='')))"
      ]
     },
     "metadata": {},
     "output_type": "display_data"
    },
    {
     "data": {
      "application/vnd.jupyter.widget-view+json": {
       "model_id": "b5e91452927345938c7cbfb16fa20aeb",
       "version_major": 2,
       "version_minor": 0
      },
      "text/html": [
       "<p>Failed to display Jupyter Widget of type <code>HBox</code>.</p>\n",
       "<p>\n",
       "  If you're reading this message in the Jupyter Notebook or JupyterLab Notebook, it may mean\n",
       "  that the widgets JavaScript is still loading. If this message persists, it\n",
       "  likely means that the widgets JavaScript library is either not installed or\n",
       "  not enabled. See the <a href=\"https://ipywidgets.readthedocs.io/en/stable/user_install.html\">Jupyter\n",
       "  Widgets Documentation</a> for setup instructions.\n",
       "</p>\n",
       "<p>\n",
       "  If you're reading this message in another frontend (for example, a static\n",
       "  rendering on GitHub or <a href=\"https://nbviewer.jupyter.org/\">NBViewer</a>),\n",
       "  it may mean that your frontend doesn't currently support widgets.\n",
       "</p>\n"
      ],
      "text/plain": [
       "HBox(children=(IntProgress(value=0, max=51), HTML(value='')))"
      ]
     },
     "metadata": {},
     "output_type": "display_data"
    },
    {
     "name": "stdout",
     "output_type": "stream",
     "text": [
      "(47,)\n"
     ]
    },
    {
     "data": {
      "application/vnd.jupyter.widget-view+json": {
       "model_id": "3ba04ba4dc504b21ba8263ff57a6c665",
       "version_major": 2,
       "version_minor": 0
      },
      "text/html": [
       "<p>Failed to display Jupyter Widget of type <code>HBox</code>.</p>\n",
       "<p>\n",
       "  If you're reading this message in the Jupyter Notebook or JupyterLab Notebook, it may mean\n",
       "  that the widgets JavaScript is still loading. If this message persists, it\n",
       "  likely means that the widgets JavaScript library is either not installed or\n",
       "  not enabled. See the <a href=\"https://ipywidgets.readthedocs.io/en/stable/user_install.html\">Jupyter\n",
       "  Widgets Documentation</a> for setup instructions.\n",
       "</p>\n",
       "<p>\n",
       "  If you're reading this message in another frontend (for example, a static\n",
       "  rendering on GitHub or <a href=\"https://nbviewer.jupyter.org/\">NBViewer</a>),\n",
       "  it may mean that your frontend doesn't currently support widgets.\n",
       "</p>\n"
      ],
      "text/plain": [
       "HBox(children=(IntProgress(value=0, max=21), HTML(value='')))"
      ]
     },
     "metadata": {},
     "output_type": "display_data"
    },
    {
     "name": "stdout",
     "output_type": "stream",
     "text": [
      "(20,)\n"
     ]
    },
    {
     "data": {
      "application/vnd.jupyter.widget-view+json": {
       "model_id": "f44723d5c57f4aba9e36f77d47d776b9",
       "version_major": 2,
       "version_minor": 0
      },
      "text/html": [
       "<p>Failed to display Jupyter Widget of type <code>HBox</code>.</p>\n",
       "<p>\n",
       "  If you're reading this message in the Jupyter Notebook or JupyterLab Notebook, it may mean\n",
       "  that the widgets JavaScript is still loading. If this message persists, it\n",
       "  likely means that the widgets JavaScript library is either not installed or\n",
       "  not enabled. See the <a href=\"https://ipywidgets.readthedocs.io/en/stable/user_install.html\">Jupyter\n",
       "  Widgets Documentation</a> for setup instructions.\n",
       "</p>\n",
       "<p>\n",
       "  If you're reading this message in another frontend (for example, a static\n",
       "  rendering on GitHub or <a href=\"https://nbviewer.jupyter.org/\">NBViewer</a>),\n",
       "  it may mean that your frontend doesn't currently support widgets.\n",
       "</p>\n"
      ],
      "text/plain": [
       "HBox(children=(IntProgress(value=0, max=51), HTML(value='')))"
      ]
     },
     "metadata": {},
     "output_type": "display_data"
    },
    {
     "name": "stdout",
     "output_type": "stream",
     "text": [
      "(47,)\n"
     ]
    },
    {
     "data": {
      "application/vnd.jupyter.widget-view+json": {
       "model_id": "37dd6d17573b4c9188682caca61ac6d7",
       "version_major": 2,
       "version_minor": 0
      },
      "text/html": [
       "<p>Failed to display Jupyter Widget of type <code>HBox</code>.</p>\n",
       "<p>\n",
       "  If you're reading this message in the Jupyter Notebook or JupyterLab Notebook, it may mean\n",
       "  that the widgets JavaScript is still loading. If this message persists, it\n",
       "  likely means that the widgets JavaScript library is either not installed or\n",
       "  not enabled. See the <a href=\"https://ipywidgets.readthedocs.io/en/stable/user_install.html\">Jupyter\n",
       "  Widgets Documentation</a> for setup instructions.\n",
       "</p>\n",
       "<p>\n",
       "  If you're reading this message in another frontend (for example, a static\n",
       "  rendering on GitHub or <a href=\"https://nbviewer.jupyter.org/\">NBViewer</a>),\n",
       "  it may mean that your frontend doesn't currently support widgets.\n",
       "</p>\n"
      ],
      "text/plain": [
       "HBox(children=(IntProgress(value=0, max=21), HTML(value='')))"
      ]
     },
     "metadata": {},
     "output_type": "display_data"
    },
    {
     "name": "stdout",
     "output_type": "stream",
     "text": [
      "(20,)\n"
     ]
    },
    {
     "data": {
      "application/vnd.jupyter.widget-view+json": {
       "model_id": "62a09c65eaaf422699a490d9b6106782",
       "version_major": 2,
       "version_minor": 0
      },
      "text/html": [
       "<p>Failed to display Jupyter Widget of type <code>HBox</code>.</p>\n",
       "<p>\n",
       "  If you're reading this message in the Jupyter Notebook or JupyterLab Notebook, it may mean\n",
       "  that the widgets JavaScript is still loading. If this message persists, it\n",
       "  likely means that the widgets JavaScript library is either not installed or\n",
       "  not enabled. See the <a href=\"https://ipywidgets.readthedocs.io/en/stable/user_install.html\">Jupyter\n",
       "  Widgets Documentation</a> for setup instructions.\n",
       "</p>\n",
       "<p>\n",
       "  If you're reading this message in another frontend (for example, a static\n",
       "  rendering on GitHub or <a href=\"https://nbviewer.jupyter.org/\">NBViewer</a>),\n",
       "  it may mean that your frontend doesn't currently support widgets.\n",
       "</p>\n"
      ],
      "text/plain": [
       "HBox(children=(IntProgress(value=0, max=51), HTML(value='')))"
      ]
     },
     "metadata": {},
     "output_type": "display_data"
    },
    {
     "name": "stdout",
     "output_type": "stream",
     "text": [
      "(47,)\n"
     ]
    },
    {
     "data": {
      "application/vnd.jupyter.widget-view+json": {
       "model_id": "0ba5bd89bf954318b234523ec5613a02",
       "version_major": 2,
       "version_minor": 0
      },
      "text/html": [
       "<p>Failed to display Jupyter Widget of type <code>HBox</code>.</p>\n",
       "<p>\n",
       "  If you're reading this message in the Jupyter Notebook or JupyterLab Notebook, it may mean\n",
       "  that the widgets JavaScript is still loading. If this message persists, it\n",
       "  likely means that the widgets JavaScript library is either not installed or\n",
       "  not enabled. See the <a href=\"https://ipywidgets.readthedocs.io/en/stable/user_install.html\">Jupyter\n",
       "  Widgets Documentation</a> for setup instructions.\n",
       "</p>\n",
       "<p>\n",
       "  If you're reading this message in another frontend (for example, a static\n",
       "  rendering on GitHub or <a href=\"https://nbviewer.jupyter.org/\">NBViewer</a>),\n",
       "  it may mean that your frontend doesn't currently support widgets.\n",
       "</p>\n"
      ],
      "text/plain": [
       "HBox(children=(IntProgress(value=0, max=21), HTML(value='')))"
      ]
     },
     "metadata": {},
     "output_type": "display_data"
    },
    {
     "name": "stdout",
     "output_type": "stream",
     "text": [
      "(20,)\n"
     ]
    },
    {
     "data": {
      "application/vnd.jupyter.widget-view+json": {
       "model_id": "1321db9781a54f77abae92dd560734ce",
       "version_major": 2,
       "version_minor": 0
      },
      "text/html": [
       "<p>Failed to display Jupyter Widget of type <code>HBox</code>.</p>\n",
       "<p>\n",
       "  If you're reading this message in the Jupyter Notebook or JupyterLab Notebook, it may mean\n",
       "  that the widgets JavaScript is still loading. If this message persists, it\n",
       "  likely means that the widgets JavaScript library is either not installed or\n",
       "  not enabled. See the <a href=\"https://ipywidgets.readthedocs.io/en/stable/user_install.html\">Jupyter\n",
       "  Widgets Documentation</a> for setup instructions.\n",
       "</p>\n",
       "<p>\n",
       "  If you're reading this message in another frontend (for example, a static\n",
       "  rendering on GitHub or <a href=\"https://nbviewer.jupyter.org/\">NBViewer</a>),\n",
       "  it may mean that your frontend doesn't currently support widgets.\n",
       "</p>\n"
      ],
      "text/plain": [
       "HBox(children=(IntProgress(value=0, max=51), HTML(value='')))"
      ]
     },
     "metadata": {},
     "output_type": "display_data"
    },
    {
     "name": "stdout",
     "output_type": "stream",
     "text": [
      "(47,)\n"
     ]
    },
    {
     "data": {
      "application/vnd.jupyter.widget-view+json": {
       "model_id": "f8179c673fb148878811006da7a33330",
       "version_major": 2,
       "version_minor": 0
      },
      "text/html": [
       "<p>Failed to display Jupyter Widget of type <code>HBox</code>.</p>\n",
       "<p>\n",
       "  If you're reading this message in the Jupyter Notebook or JupyterLab Notebook, it may mean\n",
       "  that the widgets JavaScript is still loading. If this message persists, it\n",
       "  likely means that the widgets JavaScript library is either not installed or\n",
       "  not enabled. See the <a href=\"https://ipywidgets.readthedocs.io/en/stable/user_install.html\">Jupyter\n",
       "  Widgets Documentation</a> for setup instructions.\n",
       "</p>\n",
       "<p>\n",
       "  If you're reading this message in another frontend (for example, a static\n",
       "  rendering on GitHub or <a href=\"https://nbviewer.jupyter.org/\">NBViewer</a>),\n",
       "  it may mean that your frontend doesn't currently support widgets.\n",
       "</p>\n"
      ],
      "text/plain": [
       "HBox(children=(IntProgress(value=0, max=21), HTML(value='')))"
      ]
     },
     "metadata": {},
     "output_type": "display_data"
    },
    {
     "name": "stdout",
     "output_type": "stream",
     "text": [
      "(20,)\n"
     ]
    },
    {
     "data": {
      "application/vnd.jupyter.widget-view+json": {
       "model_id": "4f33eac16ccd409dbcff3f63874bab5c",
       "version_major": 2,
       "version_minor": 0
      },
      "text/html": [
       "<p>Failed to display Jupyter Widget of type <code>HBox</code>.</p>\n",
       "<p>\n",
       "  If you're reading this message in the Jupyter Notebook or JupyterLab Notebook, it may mean\n",
       "  that the widgets JavaScript is still loading. If this message persists, it\n",
       "  likely means that the widgets JavaScript library is either not installed or\n",
       "  not enabled. See the <a href=\"https://ipywidgets.readthedocs.io/en/stable/user_install.html\">Jupyter\n",
       "  Widgets Documentation</a> for setup instructions.\n",
       "</p>\n",
       "<p>\n",
       "  If you're reading this message in another frontend (for example, a static\n",
       "  rendering on GitHub or <a href=\"https://nbviewer.jupyter.org/\">NBViewer</a>),\n",
       "  it may mean that your frontend doesn't currently support widgets.\n",
       "</p>\n"
      ],
      "text/plain": [
       "HBox(children=(IntProgress(value=0, max=51), HTML(value='')))"
      ]
     },
     "metadata": {},
     "output_type": "display_data"
    },
    {
     "name": "stdout",
     "output_type": "stream",
     "text": [
      "(47,)\n"
     ]
    },
    {
     "data": {
      "application/vnd.jupyter.widget-view+json": {
       "model_id": "c5e75c03a4114d77b8746af78fac0860",
       "version_major": 2,
       "version_minor": 0
      },
      "text/html": [
       "<p>Failed to display Jupyter Widget of type <code>HBox</code>.</p>\n",
       "<p>\n",
       "  If you're reading this message in the Jupyter Notebook or JupyterLab Notebook, it may mean\n",
       "  that the widgets JavaScript is still loading. If this message persists, it\n",
       "  likely means that the widgets JavaScript library is either not installed or\n",
       "  not enabled. See the <a href=\"https://ipywidgets.readthedocs.io/en/stable/user_install.html\">Jupyter\n",
       "  Widgets Documentation</a> for setup instructions.\n",
       "</p>\n",
       "<p>\n",
       "  If you're reading this message in another frontend (for example, a static\n",
       "  rendering on GitHub or <a href=\"https://nbviewer.jupyter.org/\">NBViewer</a>),\n",
       "  it may mean that your frontend doesn't currently support widgets.\n",
       "</p>\n"
      ],
      "text/plain": [
       "HBox(children=(IntProgress(value=0, max=21), HTML(value='')))"
      ]
     },
     "metadata": {},
     "output_type": "display_data"
    },
    {
     "name": "stdout",
     "output_type": "stream",
     "text": [
      "(20,)\n"
     ]
    },
    {
     "data": {
      "application/vnd.jupyter.widget-view+json": {
       "model_id": "e63ca91d87534b8fa58339b67cc2023b",
       "version_major": 2,
       "version_minor": 0
      },
      "text/html": [
       "<p>Failed to display Jupyter Widget of type <code>HBox</code>.</p>\n",
       "<p>\n",
       "  If you're reading this message in the Jupyter Notebook or JupyterLab Notebook, it may mean\n",
       "  that the widgets JavaScript is still loading. If this message persists, it\n",
       "  likely means that the widgets JavaScript library is either not installed or\n",
       "  not enabled. See the <a href=\"https://ipywidgets.readthedocs.io/en/stable/user_install.html\">Jupyter\n",
       "  Widgets Documentation</a> for setup instructions.\n",
       "</p>\n",
       "<p>\n",
       "  If you're reading this message in another frontend (for example, a static\n",
       "  rendering on GitHub or <a href=\"https://nbviewer.jupyter.org/\">NBViewer</a>),\n",
       "  it may mean that your frontend doesn't currently support widgets.\n",
       "</p>\n"
      ],
      "text/plain": [
       "HBox(children=(IntProgress(value=0, max=51), HTML(value='')))"
      ]
     },
     "metadata": {},
     "output_type": "display_data"
    },
    {
     "name": "stdout",
     "output_type": "stream",
     "text": [
      "(47,)\n"
     ]
    },
    {
     "data": {
      "application/vnd.jupyter.widget-view+json": {
       "model_id": "7df874116e484f9682c1c30baa61ebcb",
       "version_major": 2,
       "version_minor": 0
      },
      "text/html": [
       "<p>Failed to display Jupyter Widget of type <code>HBox</code>.</p>\n",
       "<p>\n",
       "  If you're reading this message in the Jupyter Notebook or JupyterLab Notebook, it may mean\n",
       "  that the widgets JavaScript is still loading. If this message persists, it\n",
       "  likely means that the widgets JavaScript library is either not installed or\n",
       "  not enabled. See the <a href=\"https://ipywidgets.readthedocs.io/en/stable/user_install.html\">Jupyter\n",
       "  Widgets Documentation</a> for setup instructions.\n",
       "</p>\n",
       "<p>\n",
       "  If you're reading this message in another frontend (for example, a static\n",
       "  rendering on GitHub or <a href=\"https://nbviewer.jupyter.org/\">NBViewer</a>),\n",
       "  it may mean that your frontend doesn't currently support widgets.\n",
       "</p>\n"
      ],
      "text/plain": [
       "HBox(children=(IntProgress(value=0, max=21), HTML(value='')))"
      ]
     },
     "metadata": {},
     "output_type": "display_data"
    },
    {
     "name": "stdout",
     "output_type": "stream",
     "text": [
      "(20,)\n"
     ]
    },
    {
     "data": {
      "application/vnd.jupyter.widget-view+json": {
       "model_id": "057467b893ae425598f9454481eaeefa",
       "version_major": 2,
       "version_minor": 0
      },
      "text/html": [
       "<p>Failed to display Jupyter Widget of type <code>HBox</code>.</p>\n",
       "<p>\n",
       "  If you're reading this message in the Jupyter Notebook or JupyterLab Notebook, it may mean\n",
       "  that the widgets JavaScript is still loading. If this message persists, it\n",
       "  likely means that the widgets JavaScript library is either not installed or\n",
       "  not enabled. See the <a href=\"https://ipywidgets.readthedocs.io/en/stable/user_install.html\">Jupyter\n",
       "  Widgets Documentation</a> for setup instructions.\n",
       "</p>\n",
       "<p>\n",
       "  If you're reading this message in another frontend (for example, a static\n",
       "  rendering on GitHub or <a href=\"https://nbviewer.jupyter.org/\">NBViewer</a>),\n",
       "  it may mean that your frontend doesn't currently support widgets.\n",
       "</p>\n"
      ],
      "text/plain": [
       "HBox(children=(IntProgress(value=0, max=51), HTML(value='')))"
      ]
     },
     "metadata": {},
     "output_type": "display_data"
    },
    {
     "name": "stdout",
     "output_type": "stream",
     "text": [
      "(47,)\n"
     ]
    },
    {
     "data": {
      "application/vnd.jupyter.widget-view+json": {
       "model_id": "783d52027aa64ad8b31ffe2eb7cf2109",
       "version_major": 2,
       "version_minor": 0
      },
      "text/html": [
       "<p>Failed to display Jupyter Widget of type <code>HBox</code>.</p>\n",
       "<p>\n",
       "  If you're reading this message in the Jupyter Notebook or JupyterLab Notebook, it may mean\n",
       "  that the widgets JavaScript is still loading. If this message persists, it\n",
       "  likely means that the widgets JavaScript library is either not installed or\n",
       "  not enabled. See the <a href=\"https://ipywidgets.readthedocs.io/en/stable/user_install.html\">Jupyter\n",
       "  Widgets Documentation</a> for setup instructions.\n",
       "</p>\n",
       "<p>\n",
       "  If you're reading this message in another frontend (for example, a static\n",
       "  rendering on GitHub or <a href=\"https://nbviewer.jupyter.org/\">NBViewer</a>),\n",
       "  it may mean that your frontend doesn't currently support widgets.\n",
       "</p>\n"
      ],
      "text/plain": [
       "HBox(children=(IntProgress(value=0, max=21), HTML(value='')))"
      ]
     },
     "metadata": {},
     "output_type": "display_data"
    },
    {
     "name": "stdout",
     "output_type": "stream",
     "text": [
      "(20,)\n"
     ]
    },
    {
     "data": {
      "application/vnd.jupyter.widget-view+json": {
       "model_id": "c135cf05920143e18e4ccc8776d1dd34",
       "version_major": 2,
       "version_minor": 0
      },
      "text/html": [
       "<p>Failed to display Jupyter Widget of type <code>HBox</code>.</p>\n",
       "<p>\n",
       "  If you're reading this message in the Jupyter Notebook or JupyterLab Notebook, it may mean\n",
       "  that the widgets JavaScript is still loading. If this message persists, it\n",
       "  likely means that the widgets JavaScript library is either not installed or\n",
       "  not enabled. See the <a href=\"https://ipywidgets.readthedocs.io/en/stable/user_install.html\">Jupyter\n",
       "  Widgets Documentation</a> for setup instructions.\n",
       "</p>\n",
       "<p>\n",
       "  If you're reading this message in another frontend (for example, a static\n",
       "  rendering on GitHub or <a href=\"https://nbviewer.jupyter.org/\">NBViewer</a>),\n",
       "  it may mean that your frontend doesn't currently support widgets.\n",
       "</p>\n"
      ],
      "text/plain": [
       "HBox(children=(IntProgress(value=0, max=51), HTML(value='')))"
      ]
     },
     "metadata": {},
     "output_type": "display_data"
    },
    {
     "name": "stdout",
     "output_type": "stream",
     "text": [
      "(47,)\n"
     ]
    },
    {
     "data": {
      "application/vnd.jupyter.widget-view+json": {
       "model_id": "35a2af0339d94f0fbf5945d2752c0d74",
       "version_major": 2,
       "version_minor": 0
      },
      "text/html": [
       "<p>Failed to display Jupyter Widget of type <code>HBox</code>.</p>\n",
       "<p>\n",
       "  If you're reading this message in the Jupyter Notebook or JupyterLab Notebook, it may mean\n",
       "  that the widgets JavaScript is still loading. If this message persists, it\n",
       "  likely means that the widgets JavaScript library is either not installed or\n",
       "  not enabled. See the <a href=\"https://ipywidgets.readthedocs.io/en/stable/user_install.html\">Jupyter\n",
       "  Widgets Documentation</a> for setup instructions.\n",
       "</p>\n",
       "<p>\n",
       "  If you're reading this message in another frontend (for example, a static\n",
       "  rendering on GitHub or <a href=\"https://nbviewer.jupyter.org/\">NBViewer</a>),\n",
       "  it may mean that your frontend doesn't currently support widgets.\n",
       "</p>\n"
      ],
      "text/plain": [
       "HBox(children=(IntProgress(value=0, max=21), HTML(value='')))"
      ]
     },
     "metadata": {},
     "output_type": "display_data"
    },
    {
     "name": "stdout",
     "output_type": "stream",
     "text": [
      "(20,)\n"
     ]
    },
    {
     "data": {
      "application/vnd.jupyter.widget-view+json": {
       "model_id": "9030ff78ef0545c7b3b3f935dd154272",
       "version_major": 2,
       "version_minor": 0
      },
      "text/html": [
       "<p>Failed to display Jupyter Widget of type <code>HBox</code>.</p>\n",
       "<p>\n",
       "  If you're reading this message in the Jupyter Notebook or JupyterLab Notebook, it may mean\n",
       "  that the widgets JavaScript is still loading. If this message persists, it\n",
       "  likely means that the widgets JavaScript library is either not installed or\n",
       "  not enabled. See the <a href=\"https://ipywidgets.readthedocs.io/en/stable/user_install.html\">Jupyter\n",
       "  Widgets Documentation</a> for setup instructions.\n",
       "</p>\n",
       "<p>\n",
       "  If you're reading this message in another frontend (for example, a static\n",
       "  rendering on GitHub or <a href=\"https://nbviewer.jupyter.org/\">NBViewer</a>),\n",
       "  it may mean that your frontend doesn't currently support widgets.\n",
       "</p>\n"
      ],
      "text/plain": [
       "HBox(children=(IntProgress(value=0, max=51), HTML(value='')))"
      ]
     },
     "metadata": {},
     "output_type": "display_data"
    },
    {
     "name": "stdout",
     "output_type": "stream",
     "text": [
      "(47,)\n"
     ]
    },
    {
     "data": {
      "application/vnd.jupyter.widget-view+json": {
       "model_id": "ed827ab0cca64b8eab4da815673b217f",
       "version_major": 2,
       "version_minor": 0
      },
      "text/html": [
       "<p>Failed to display Jupyter Widget of type <code>HBox</code>.</p>\n",
       "<p>\n",
       "  If you're reading this message in the Jupyter Notebook or JupyterLab Notebook, it may mean\n",
       "  that the widgets JavaScript is still loading. If this message persists, it\n",
       "  likely means that the widgets JavaScript library is either not installed or\n",
       "  not enabled. See the <a href=\"https://ipywidgets.readthedocs.io/en/stable/user_install.html\">Jupyter\n",
       "  Widgets Documentation</a> for setup instructions.\n",
       "</p>\n",
       "<p>\n",
       "  If you're reading this message in another frontend (for example, a static\n",
       "  rendering on GitHub or <a href=\"https://nbviewer.jupyter.org/\">NBViewer</a>),\n",
       "  it may mean that your frontend doesn't currently support widgets.\n",
       "</p>\n"
      ],
      "text/plain": [
       "HBox(children=(IntProgress(value=0, max=21), HTML(value='')))"
      ]
     },
     "metadata": {},
     "output_type": "display_data"
    },
    {
     "name": "stdout",
     "output_type": "stream",
     "text": [
      "(20,)\n"
     ]
    },
    {
     "data": {
      "application/vnd.jupyter.widget-view+json": {
       "model_id": "3f823eb420154bfa80b2a3bca5de8c9f",
       "version_major": 2,
       "version_minor": 0
      },
      "text/html": [
       "<p>Failed to display Jupyter Widget of type <code>HBox</code>.</p>\n",
       "<p>\n",
       "  If you're reading this message in the Jupyter Notebook or JupyterLab Notebook, it may mean\n",
       "  that the widgets JavaScript is still loading. If this message persists, it\n",
       "  likely means that the widgets JavaScript library is either not installed or\n",
       "  not enabled. See the <a href=\"https://ipywidgets.readthedocs.io/en/stable/user_install.html\">Jupyter\n",
       "  Widgets Documentation</a> for setup instructions.\n",
       "</p>\n",
       "<p>\n",
       "  If you're reading this message in another frontend (for example, a static\n",
       "  rendering on GitHub or <a href=\"https://nbviewer.jupyter.org/\">NBViewer</a>),\n",
       "  it may mean that your frontend doesn't currently support widgets.\n",
       "</p>\n"
      ],
      "text/plain": [
       "HBox(children=(IntProgress(value=0, max=51), HTML(value='')))"
      ]
     },
     "metadata": {},
     "output_type": "display_data"
    },
    {
     "name": "stdout",
     "output_type": "stream",
     "text": [
      "(47,)\n"
     ]
    },
    {
     "data": {
      "application/vnd.jupyter.widget-view+json": {
       "model_id": "eaf6240f051649708db35f2c6d3e41cd",
       "version_major": 2,
       "version_minor": 0
      },
      "text/html": [
       "<p>Failed to display Jupyter Widget of type <code>HBox</code>.</p>\n",
       "<p>\n",
       "  If you're reading this message in the Jupyter Notebook or JupyterLab Notebook, it may mean\n",
       "  that the widgets JavaScript is still loading. If this message persists, it\n",
       "  likely means that the widgets JavaScript library is either not installed or\n",
       "  not enabled. See the <a href=\"https://ipywidgets.readthedocs.io/en/stable/user_install.html\">Jupyter\n",
       "  Widgets Documentation</a> for setup instructions.\n",
       "</p>\n",
       "<p>\n",
       "  If you're reading this message in another frontend (for example, a static\n",
       "  rendering on GitHub or <a href=\"https://nbviewer.jupyter.org/\">NBViewer</a>),\n",
       "  it may mean that your frontend doesn't currently support widgets.\n",
       "</p>\n"
      ],
      "text/plain": [
       "HBox(children=(IntProgress(value=0, max=21), HTML(value='')))"
      ]
     },
     "metadata": {},
     "output_type": "display_data"
    },
    {
     "name": "stdout",
     "output_type": "stream",
     "text": [
      "(20,)\n"
     ]
    },
    {
     "data": {
      "application/vnd.jupyter.widget-view+json": {
       "model_id": "265c8e1d466840e0a3fdf349d50df388",
       "version_major": 2,
       "version_minor": 0
      },
      "text/html": [
       "<p>Failed to display Jupyter Widget of type <code>HBox</code>.</p>\n",
       "<p>\n",
       "  If you're reading this message in the Jupyter Notebook or JupyterLab Notebook, it may mean\n",
       "  that the widgets JavaScript is still loading. If this message persists, it\n",
       "  likely means that the widgets JavaScript library is either not installed or\n",
       "  not enabled. See the <a href=\"https://ipywidgets.readthedocs.io/en/stable/user_install.html\">Jupyter\n",
       "  Widgets Documentation</a> for setup instructions.\n",
       "</p>\n",
       "<p>\n",
       "  If you're reading this message in another frontend (for example, a static\n",
       "  rendering on GitHub or <a href=\"https://nbviewer.jupyter.org/\">NBViewer</a>),\n",
       "  it may mean that your frontend doesn't currently support widgets.\n",
       "</p>\n"
      ],
      "text/plain": [
       "HBox(children=(IntProgress(value=0, max=51), HTML(value='')))"
      ]
     },
     "metadata": {},
     "output_type": "display_data"
    },
    {
     "name": "stdout",
     "output_type": "stream",
     "text": [
      "(47,)\n"
     ]
    },
    {
     "data": {
      "application/vnd.jupyter.widget-view+json": {
       "model_id": "d8028067913b4d17b1fbc9428c1f896f",
       "version_major": 2,
       "version_minor": 0
      },
      "text/html": [
       "<p>Failed to display Jupyter Widget of type <code>HBox</code>.</p>\n",
       "<p>\n",
       "  If you're reading this message in the Jupyter Notebook or JupyterLab Notebook, it may mean\n",
       "  that the widgets JavaScript is still loading. If this message persists, it\n",
       "  likely means that the widgets JavaScript library is either not installed or\n",
       "  not enabled. See the <a href=\"https://ipywidgets.readthedocs.io/en/stable/user_install.html\">Jupyter\n",
       "  Widgets Documentation</a> for setup instructions.\n",
       "</p>\n",
       "<p>\n",
       "  If you're reading this message in another frontend (for example, a static\n",
       "  rendering on GitHub or <a href=\"https://nbviewer.jupyter.org/\">NBViewer</a>),\n",
       "  it may mean that your frontend doesn't currently support widgets.\n",
       "</p>\n"
      ],
      "text/plain": [
       "HBox(children=(IntProgress(value=0, max=21), HTML(value='')))"
      ]
     },
     "metadata": {},
     "output_type": "display_data"
    },
    {
     "name": "stdout",
     "output_type": "stream",
     "text": [
      "(20,)\n"
     ]
    },
    {
     "data": {
      "application/vnd.jupyter.widget-view+json": {
       "model_id": "b65cbeefa0d748bca4760b91c7427b30",
       "version_major": 2,
       "version_minor": 0
      },
      "text/html": [
       "<p>Failed to display Jupyter Widget of type <code>HBox</code>.</p>\n",
       "<p>\n",
       "  If you're reading this message in the Jupyter Notebook or JupyterLab Notebook, it may mean\n",
       "  that the widgets JavaScript is still loading. If this message persists, it\n",
       "  likely means that the widgets JavaScript library is either not installed or\n",
       "  not enabled. See the <a href=\"https://ipywidgets.readthedocs.io/en/stable/user_install.html\">Jupyter\n",
       "  Widgets Documentation</a> for setup instructions.\n",
       "</p>\n",
       "<p>\n",
       "  If you're reading this message in another frontend (for example, a static\n",
       "  rendering on GitHub or <a href=\"https://nbviewer.jupyter.org/\">NBViewer</a>),\n",
       "  it may mean that your frontend doesn't currently support widgets.\n",
       "</p>\n"
      ],
      "text/plain": [
       "HBox(children=(IntProgress(value=0, max=51), HTML(value='')))"
      ]
     },
     "metadata": {},
     "output_type": "display_data"
    },
    {
     "name": "stdout",
     "output_type": "stream",
     "text": [
      "(47,)\n"
     ]
    },
    {
     "data": {
      "application/vnd.jupyter.widget-view+json": {
       "model_id": "a4bf073929ef4af7b25f3ceaa6a98004",
       "version_major": 2,
       "version_minor": 0
      },
      "text/html": [
       "<p>Failed to display Jupyter Widget of type <code>HBox</code>.</p>\n",
       "<p>\n",
       "  If you're reading this message in the Jupyter Notebook or JupyterLab Notebook, it may mean\n",
       "  that the widgets JavaScript is still loading. If this message persists, it\n",
       "  likely means that the widgets JavaScript library is either not installed or\n",
       "  not enabled. See the <a href=\"https://ipywidgets.readthedocs.io/en/stable/user_install.html\">Jupyter\n",
       "  Widgets Documentation</a> for setup instructions.\n",
       "</p>\n",
       "<p>\n",
       "  If you're reading this message in another frontend (for example, a static\n",
       "  rendering on GitHub or <a href=\"https://nbviewer.jupyter.org/\">NBViewer</a>),\n",
       "  it may mean that your frontend doesn't currently support widgets.\n",
       "</p>\n"
      ],
      "text/plain": [
       "HBox(children=(IntProgress(value=0, max=21), HTML(value='')))"
      ]
     },
     "metadata": {},
     "output_type": "display_data"
    },
    {
     "name": "stdout",
     "output_type": "stream",
     "text": [
      "(20,)\n"
     ]
    },
    {
     "data": {
      "application/vnd.jupyter.widget-view+json": {
       "model_id": "596862a944ba4bcda117eec7e46ab69c",
       "version_major": 2,
       "version_minor": 0
      },
      "text/html": [
       "<p>Failed to display Jupyter Widget of type <code>HBox</code>.</p>\n",
       "<p>\n",
       "  If you're reading this message in the Jupyter Notebook or JupyterLab Notebook, it may mean\n",
       "  that the widgets JavaScript is still loading. If this message persists, it\n",
       "  likely means that the widgets JavaScript library is either not installed or\n",
       "  not enabled. See the <a href=\"https://ipywidgets.readthedocs.io/en/stable/user_install.html\">Jupyter\n",
       "  Widgets Documentation</a> for setup instructions.\n",
       "</p>\n",
       "<p>\n",
       "  If you're reading this message in another frontend (for example, a static\n",
       "  rendering on GitHub or <a href=\"https://nbviewer.jupyter.org/\">NBViewer</a>),\n",
       "  it may mean that your frontend doesn't currently support widgets.\n",
       "</p>\n"
      ],
      "text/plain": [
       "HBox(children=(IntProgress(value=0, max=51), HTML(value='')))"
      ]
     },
     "metadata": {},
     "output_type": "display_data"
    },
    {
     "name": "stdout",
     "output_type": "stream",
     "text": [
      "(47,)\n"
     ]
    },
    {
     "data": {
      "application/vnd.jupyter.widget-view+json": {
       "model_id": "18e139e133074f60abcc6f57f7c9988f",
       "version_major": 2,
       "version_minor": 0
      },
      "text/html": [
       "<p>Failed to display Jupyter Widget of type <code>HBox</code>.</p>\n",
       "<p>\n",
       "  If you're reading this message in the Jupyter Notebook or JupyterLab Notebook, it may mean\n",
       "  that the widgets JavaScript is still loading. If this message persists, it\n",
       "  likely means that the widgets JavaScript library is either not installed or\n",
       "  not enabled. See the <a href=\"https://ipywidgets.readthedocs.io/en/stable/user_install.html\">Jupyter\n",
       "  Widgets Documentation</a> for setup instructions.\n",
       "</p>\n",
       "<p>\n",
       "  If you're reading this message in another frontend (for example, a static\n",
       "  rendering on GitHub or <a href=\"https://nbviewer.jupyter.org/\">NBViewer</a>),\n",
       "  it may mean that your frontend doesn't currently support widgets.\n",
       "</p>\n"
      ],
      "text/plain": [
       "HBox(children=(IntProgress(value=0, max=21), HTML(value='')))"
      ]
     },
     "metadata": {},
     "output_type": "display_data"
    },
    {
     "name": "stdout",
     "output_type": "stream",
     "text": [
      "(20,)\n"
     ]
    },
    {
     "data": {
      "application/vnd.jupyter.widget-view+json": {
       "model_id": "cb46c475de7b4acb91c830e48a3a97f3",
       "version_major": 2,
       "version_minor": 0
      },
      "text/html": [
       "<p>Failed to display Jupyter Widget of type <code>HBox</code>.</p>\n",
       "<p>\n",
       "  If you're reading this message in the Jupyter Notebook or JupyterLab Notebook, it may mean\n",
       "  that the widgets JavaScript is still loading. If this message persists, it\n",
       "  likely means that the widgets JavaScript library is either not installed or\n",
       "  not enabled. See the <a href=\"https://ipywidgets.readthedocs.io/en/stable/user_install.html\">Jupyter\n",
       "  Widgets Documentation</a> for setup instructions.\n",
       "</p>\n",
       "<p>\n",
       "  If you're reading this message in another frontend (for example, a static\n",
       "  rendering on GitHub or <a href=\"https://nbviewer.jupyter.org/\">NBViewer</a>),\n",
       "  it may mean that your frontend doesn't currently support widgets.\n",
       "</p>\n"
      ],
      "text/plain": [
       "HBox(children=(IntProgress(value=0, max=51), HTML(value='')))"
      ]
     },
     "metadata": {},
     "output_type": "display_data"
    },
    {
     "name": "stdout",
     "output_type": "stream",
     "text": [
      "(47,)\n"
     ]
    },
    {
     "data": {
      "application/vnd.jupyter.widget-view+json": {
       "model_id": "88ab5d9a3ac941c5b4b9abf6d00cf1b5",
       "version_major": 2,
       "version_minor": 0
      },
      "text/html": [
       "<p>Failed to display Jupyter Widget of type <code>HBox</code>.</p>\n",
       "<p>\n",
       "  If you're reading this message in the Jupyter Notebook or JupyterLab Notebook, it may mean\n",
       "  that the widgets JavaScript is still loading. If this message persists, it\n",
       "  likely means that the widgets JavaScript library is either not installed or\n",
       "  not enabled. See the <a href=\"https://ipywidgets.readthedocs.io/en/stable/user_install.html\">Jupyter\n",
       "  Widgets Documentation</a> for setup instructions.\n",
       "</p>\n",
       "<p>\n",
       "  If you're reading this message in another frontend (for example, a static\n",
       "  rendering on GitHub or <a href=\"https://nbviewer.jupyter.org/\">NBViewer</a>),\n",
       "  it may mean that your frontend doesn't currently support widgets.\n",
       "</p>\n"
      ],
      "text/plain": [
       "HBox(children=(IntProgress(value=0, max=21), HTML(value='')))"
      ]
     },
     "metadata": {},
     "output_type": "display_data"
    },
    {
     "name": "stdout",
     "output_type": "stream",
     "text": [
      "(20,)\n"
     ]
    },
    {
     "data": {
      "application/vnd.jupyter.widget-view+json": {
       "model_id": "24f205c1f85a4c78ae64ee6fe53ed97e",
       "version_major": 2,
       "version_minor": 0
      },
      "text/html": [
       "<p>Failed to display Jupyter Widget of type <code>HBox</code>.</p>\n",
       "<p>\n",
       "  If you're reading this message in the Jupyter Notebook or JupyterLab Notebook, it may mean\n",
       "  that the widgets JavaScript is still loading. If this message persists, it\n",
       "  likely means that the widgets JavaScript library is either not installed or\n",
       "  not enabled. See the <a href=\"https://ipywidgets.readthedocs.io/en/stable/user_install.html\">Jupyter\n",
       "  Widgets Documentation</a> for setup instructions.\n",
       "</p>\n",
       "<p>\n",
       "  If you're reading this message in another frontend (for example, a static\n",
       "  rendering on GitHub or <a href=\"https://nbviewer.jupyter.org/\">NBViewer</a>),\n",
       "  it may mean that your frontend doesn't currently support widgets.\n",
       "</p>\n"
      ],
      "text/plain": [
       "HBox(children=(IntProgress(value=0, max=51), HTML(value='')))"
      ]
     },
     "metadata": {},
     "output_type": "display_data"
    },
    {
     "name": "stdout",
     "output_type": "stream",
     "text": [
      "(47,)\n"
     ]
    },
    {
     "data": {
      "application/vnd.jupyter.widget-view+json": {
       "model_id": "274572f10112447a9f4ee9b5d4aa86d5",
       "version_major": 2,
       "version_minor": 0
      },
      "text/html": [
       "<p>Failed to display Jupyter Widget of type <code>HBox</code>.</p>\n",
       "<p>\n",
       "  If you're reading this message in the Jupyter Notebook or JupyterLab Notebook, it may mean\n",
       "  that the widgets JavaScript is still loading. If this message persists, it\n",
       "  likely means that the widgets JavaScript library is either not installed or\n",
       "  not enabled. See the <a href=\"https://ipywidgets.readthedocs.io/en/stable/user_install.html\">Jupyter\n",
       "  Widgets Documentation</a> for setup instructions.\n",
       "</p>\n",
       "<p>\n",
       "  If you're reading this message in another frontend (for example, a static\n",
       "  rendering on GitHub or <a href=\"https://nbviewer.jupyter.org/\">NBViewer</a>),\n",
       "  it may mean that your frontend doesn't currently support widgets.\n",
       "</p>\n"
      ],
      "text/plain": [
       "HBox(children=(IntProgress(value=0, max=21), HTML(value='')))"
      ]
     },
     "metadata": {},
     "output_type": "display_data"
    },
    {
     "name": "stdout",
     "output_type": "stream",
     "text": [
      "(20,)\n"
     ]
    },
    {
     "data": {
      "application/vnd.jupyter.widget-view+json": {
       "model_id": "703322f857a54624a4c16944862f112c",
       "version_major": 2,
       "version_minor": 0
      },
      "text/html": [
       "<p>Failed to display Jupyter Widget of type <code>HBox</code>.</p>\n",
       "<p>\n",
       "  If you're reading this message in the Jupyter Notebook or JupyterLab Notebook, it may mean\n",
       "  that the widgets JavaScript is still loading. If this message persists, it\n",
       "  likely means that the widgets JavaScript library is either not installed or\n",
       "  not enabled. See the <a href=\"https://ipywidgets.readthedocs.io/en/stable/user_install.html\">Jupyter\n",
       "  Widgets Documentation</a> for setup instructions.\n",
       "</p>\n",
       "<p>\n",
       "  If you're reading this message in another frontend (for example, a static\n",
       "  rendering on GitHub or <a href=\"https://nbviewer.jupyter.org/\">NBViewer</a>),\n",
       "  it may mean that your frontend doesn't currently support widgets.\n",
       "</p>\n"
      ],
      "text/plain": [
       "HBox(children=(IntProgress(value=0, max=51), HTML(value='')))"
      ]
     },
     "metadata": {},
     "output_type": "display_data"
    },
    {
     "name": "stdout",
     "output_type": "stream",
     "text": [
      "(47,)\n"
     ]
    },
    {
     "data": {
      "application/vnd.jupyter.widget-view+json": {
       "model_id": "2ef7bd416f834393b3aab45cd2726cd0",
       "version_major": 2,
       "version_minor": 0
      },
      "text/html": [
       "<p>Failed to display Jupyter Widget of type <code>HBox</code>.</p>\n",
       "<p>\n",
       "  If you're reading this message in the Jupyter Notebook or JupyterLab Notebook, it may mean\n",
       "  that the widgets JavaScript is still loading. If this message persists, it\n",
       "  likely means that the widgets JavaScript library is either not installed or\n",
       "  not enabled. See the <a href=\"https://ipywidgets.readthedocs.io/en/stable/user_install.html\">Jupyter\n",
       "  Widgets Documentation</a> for setup instructions.\n",
       "</p>\n",
       "<p>\n",
       "  If you're reading this message in another frontend (for example, a static\n",
       "  rendering on GitHub or <a href=\"https://nbviewer.jupyter.org/\">NBViewer</a>),\n",
       "  it may mean that your frontend doesn't currently support widgets.\n",
       "</p>\n"
      ],
      "text/plain": [
       "HBox(children=(IntProgress(value=0, max=21), HTML(value='')))"
      ]
     },
     "metadata": {},
     "output_type": "display_data"
    },
    {
     "name": "stdout",
     "output_type": "stream",
     "text": [
      "(20,)\n"
     ]
    },
    {
     "data": {
      "application/vnd.jupyter.widget-view+json": {
       "model_id": "d8746c602087425f97dc1376c11325e2",
       "version_major": 2,
       "version_minor": 0
      },
      "text/html": [
       "<p>Failed to display Jupyter Widget of type <code>HBox</code>.</p>\n",
       "<p>\n",
       "  If you're reading this message in the Jupyter Notebook or JupyterLab Notebook, it may mean\n",
       "  that the widgets JavaScript is still loading. If this message persists, it\n",
       "  likely means that the widgets JavaScript library is either not installed or\n",
       "  not enabled. See the <a href=\"https://ipywidgets.readthedocs.io/en/stable/user_install.html\">Jupyter\n",
       "  Widgets Documentation</a> for setup instructions.\n",
       "</p>\n",
       "<p>\n",
       "  If you're reading this message in another frontend (for example, a static\n",
       "  rendering on GitHub or <a href=\"https://nbviewer.jupyter.org/\">NBViewer</a>),\n",
       "  it may mean that your frontend doesn't currently support widgets.\n",
       "</p>\n"
      ],
      "text/plain": [
       "HBox(children=(IntProgress(value=0, max=51), HTML(value='')))"
      ]
     },
     "metadata": {},
     "output_type": "display_data"
    },
    {
     "name": "stdout",
     "output_type": "stream",
     "text": [
      "(47,)\n"
     ]
    },
    {
     "data": {
      "application/vnd.jupyter.widget-view+json": {
       "model_id": "fc7abde1f1a24090b0a45c3af3bcedf6",
       "version_major": 2,
       "version_minor": 0
      },
      "text/html": [
       "<p>Failed to display Jupyter Widget of type <code>HBox</code>.</p>\n",
       "<p>\n",
       "  If you're reading this message in the Jupyter Notebook or JupyterLab Notebook, it may mean\n",
       "  that the widgets JavaScript is still loading. If this message persists, it\n",
       "  likely means that the widgets JavaScript library is either not installed or\n",
       "  not enabled. See the <a href=\"https://ipywidgets.readthedocs.io/en/stable/user_install.html\">Jupyter\n",
       "  Widgets Documentation</a> for setup instructions.\n",
       "</p>\n",
       "<p>\n",
       "  If you're reading this message in another frontend (for example, a static\n",
       "  rendering on GitHub or <a href=\"https://nbviewer.jupyter.org/\">NBViewer</a>),\n",
       "  it may mean that your frontend doesn't currently support widgets.\n",
       "</p>\n"
      ],
      "text/plain": [
       "HBox(children=(IntProgress(value=0, max=21), HTML(value='')))"
      ]
     },
     "metadata": {},
     "output_type": "display_data"
    },
    {
     "name": "stdout",
     "output_type": "stream",
     "text": [
      "(20,)\n"
     ]
    },
    {
     "data": {
      "application/vnd.jupyter.widget-view+json": {
       "model_id": "05d56304feff42018ff84e0bce5df505",
       "version_major": 2,
       "version_minor": 0
      },
      "text/html": [
       "<p>Failed to display Jupyter Widget of type <code>HBox</code>.</p>\n",
       "<p>\n",
       "  If you're reading this message in the Jupyter Notebook or JupyterLab Notebook, it may mean\n",
       "  that the widgets JavaScript is still loading. If this message persists, it\n",
       "  likely means that the widgets JavaScript library is either not installed or\n",
       "  not enabled. See the <a href=\"https://ipywidgets.readthedocs.io/en/stable/user_install.html\">Jupyter\n",
       "  Widgets Documentation</a> for setup instructions.\n",
       "</p>\n",
       "<p>\n",
       "  If you're reading this message in another frontend (for example, a static\n",
       "  rendering on GitHub or <a href=\"https://nbviewer.jupyter.org/\">NBViewer</a>),\n",
       "  it may mean that your frontend doesn't currently support widgets.\n",
       "</p>\n"
      ],
      "text/plain": [
       "HBox(children=(IntProgress(value=0, max=51), HTML(value='')))"
      ]
     },
     "metadata": {},
     "output_type": "display_data"
    },
    {
     "name": "stdout",
     "output_type": "stream",
     "text": [
      "(47,)\n"
     ]
    },
    {
     "data": {
      "application/vnd.jupyter.widget-view+json": {
       "model_id": "9c420ec140994a61aeeb5bb4941de5c5",
       "version_major": 2,
       "version_minor": 0
      },
      "text/html": [
       "<p>Failed to display Jupyter Widget of type <code>HBox</code>.</p>\n",
       "<p>\n",
       "  If you're reading this message in the Jupyter Notebook or JupyterLab Notebook, it may mean\n",
       "  that the widgets JavaScript is still loading. If this message persists, it\n",
       "  likely means that the widgets JavaScript library is either not installed or\n",
       "  not enabled. See the <a href=\"https://ipywidgets.readthedocs.io/en/stable/user_install.html\">Jupyter\n",
       "  Widgets Documentation</a> for setup instructions.\n",
       "</p>\n",
       "<p>\n",
       "  If you're reading this message in another frontend (for example, a static\n",
       "  rendering on GitHub or <a href=\"https://nbviewer.jupyter.org/\">NBViewer</a>),\n",
       "  it may mean that your frontend doesn't currently support widgets.\n",
       "</p>\n"
      ],
      "text/plain": [
       "HBox(children=(IntProgress(value=0, max=21), HTML(value='')))"
      ]
     },
     "metadata": {},
     "output_type": "display_data"
    },
    {
     "name": "stdout",
     "output_type": "stream",
     "text": [
      "(20,)\n"
     ]
    },
    {
     "data": {
      "application/vnd.jupyter.widget-view+json": {
       "model_id": "92b62c202cec488db1dc32e06571d1cd",
       "version_major": 2,
       "version_minor": 0
      },
      "text/html": [
       "<p>Failed to display Jupyter Widget of type <code>HBox</code>.</p>\n",
       "<p>\n",
       "  If you're reading this message in the Jupyter Notebook or JupyterLab Notebook, it may mean\n",
       "  that the widgets JavaScript is still loading. If this message persists, it\n",
       "  likely means that the widgets JavaScript library is either not installed or\n",
       "  not enabled. See the <a href=\"https://ipywidgets.readthedocs.io/en/stable/user_install.html\">Jupyter\n",
       "  Widgets Documentation</a> for setup instructions.\n",
       "</p>\n",
       "<p>\n",
       "  If you're reading this message in another frontend (for example, a static\n",
       "  rendering on GitHub or <a href=\"https://nbviewer.jupyter.org/\">NBViewer</a>),\n",
       "  it may mean that your frontend doesn't currently support widgets.\n",
       "</p>\n"
      ],
      "text/plain": [
       "HBox(children=(IntProgress(value=0, max=51), HTML(value='')))"
      ]
     },
     "metadata": {},
     "output_type": "display_data"
    },
    {
     "name": "stdout",
     "output_type": "stream",
     "text": [
      "(47,)\n"
     ]
    },
    {
     "data": {
      "application/vnd.jupyter.widget-view+json": {
       "model_id": "09996b21e7ac48b9a5c8a8559c2a87ff",
       "version_major": 2,
       "version_minor": 0
      },
      "text/html": [
       "<p>Failed to display Jupyter Widget of type <code>HBox</code>.</p>\n",
       "<p>\n",
       "  If you're reading this message in the Jupyter Notebook or JupyterLab Notebook, it may mean\n",
       "  that the widgets JavaScript is still loading. If this message persists, it\n",
       "  likely means that the widgets JavaScript library is either not installed or\n",
       "  not enabled. See the <a href=\"https://ipywidgets.readthedocs.io/en/stable/user_install.html\">Jupyter\n",
       "  Widgets Documentation</a> for setup instructions.\n",
       "</p>\n",
       "<p>\n",
       "  If you're reading this message in another frontend (for example, a static\n",
       "  rendering on GitHub or <a href=\"https://nbviewer.jupyter.org/\">NBViewer</a>),\n",
       "  it may mean that your frontend doesn't currently support widgets.\n",
       "</p>\n"
      ],
      "text/plain": [
       "HBox(children=(IntProgress(value=0, max=21), HTML(value='')))"
      ]
     },
     "metadata": {},
     "output_type": "display_data"
    },
    {
     "name": "stdout",
     "output_type": "stream",
     "text": [
      "(20,)\n"
     ]
    },
    {
     "data": {
      "application/vnd.jupyter.widget-view+json": {
       "model_id": "a3b2e153838d48d6a73988f6af304609",
       "version_major": 2,
       "version_minor": 0
      },
      "text/html": [
       "<p>Failed to display Jupyter Widget of type <code>HBox</code>.</p>\n",
       "<p>\n",
       "  If you're reading this message in the Jupyter Notebook or JupyterLab Notebook, it may mean\n",
       "  that the widgets JavaScript is still loading. If this message persists, it\n",
       "  likely means that the widgets JavaScript library is either not installed or\n",
       "  not enabled. See the <a href=\"https://ipywidgets.readthedocs.io/en/stable/user_install.html\">Jupyter\n",
       "  Widgets Documentation</a> for setup instructions.\n",
       "</p>\n",
       "<p>\n",
       "  If you're reading this message in another frontend (for example, a static\n",
       "  rendering on GitHub or <a href=\"https://nbviewer.jupyter.org/\">NBViewer</a>),\n",
       "  it may mean that your frontend doesn't currently support widgets.\n",
       "</p>\n"
      ],
      "text/plain": [
       "HBox(children=(IntProgress(value=0, max=51), HTML(value='')))"
      ]
     },
     "metadata": {},
     "output_type": "display_data"
    },
    {
     "name": "stdout",
     "output_type": "stream",
     "text": [
      "(47,)\n"
     ]
    },
    {
     "data": {
      "application/vnd.jupyter.widget-view+json": {
       "model_id": "3607b40159db4c0aa1ed06d84722617e",
       "version_major": 2,
       "version_minor": 0
      },
      "text/html": [
       "<p>Failed to display Jupyter Widget of type <code>HBox</code>.</p>\n",
       "<p>\n",
       "  If you're reading this message in the Jupyter Notebook or JupyterLab Notebook, it may mean\n",
       "  that the widgets JavaScript is still loading. If this message persists, it\n",
       "  likely means that the widgets JavaScript library is either not installed or\n",
       "  not enabled. See the <a href=\"https://ipywidgets.readthedocs.io/en/stable/user_install.html\">Jupyter\n",
       "  Widgets Documentation</a> for setup instructions.\n",
       "</p>\n",
       "<p>\n",
       "  If you're reading this message in another frontend (for example, a static\n",
       "  rendering on GitHub or <a href=\"https://nbviewer.jupyter.org/\">NBViewer</a>),\n",
       "  it may mean that your frontend doesn't currently support widgets.\n",
       "</p>\n"
      ],
      "text/plain": [
       "HBox(children=(IntProgress(value=0, max=21), HTML(value='')))"
      ]
     },
     "metadata": {},
     "output_type": "display_data"
    },
    {
     "name": "stdout",
     "output_type": "stream",
     "text": [
      "(20,)\n"
     ]
    }
   ],
   "source": [
    "repeated_featurehcc_20 = jackknife_pipeline(dataset[dataclass[1]],labelset[dataclass[1]],round=20,select_ratio=0.8)"
   ]
  },
  {
   "cell_type": "code",
   "execution_count": 267,
   "metadata": {},
   "outputs": [
    {
     "data": {
      "text/plain": [
       "(array([ 1,  2,  3,  4,  5,  6,  7,  8,  9, 11, 12, 14, 16, 17, 18]),\n",
       " array([44, 20, 16,  5,  3,  3,  6,  2,  1,  1,  1,  4,  1,  1,  2]))"
      ]
     },
     "metadata": {},
     "output_type": "display_data"
    },
    {
     "data": {
      "text/plain": [
       "(array([64., 21.,  6.,  6.,  3.,  1.,  1.,  4.,  1.,  3.]),\n",
       " array([ 1. ,  2.7,  4.4,  6.1,  7.8,  9.5, 11.2, 12.9, 14.6, 16.3, 18. ]),\n",
       " <a list of 10 Patch objects>)"
      ]
     },
     "execution_count": 267,
     "metadata": {},
     "output_type": "execute_result"
    },
    {
     "data": {
      "image/png": "[encoded data removed]",
      "text/plain": [
       "<matplotlib.figure.Figure at 0x7f2e572cc860>"
      ]
     },
     "metadata": {},
     "output_type": "display_data"
    }
   ],
   "source": [
    "display(np.unique(np.unique(repeated_featurehcc_20,return_counts=True)[1],return_counts=True))\n",
    "hist(np.unique(repeated_featurehcc_20.astype('int'),return_counts=True)[1],bins=10)"
   ]
  },
  {
   "cell_type": "markdown",
   "metadata": {},
   "source": [
    "## Jackknife两种feature"
   ]
  },
  {
   "cell_type": "markdown",
   "metadata": {},
   "source": [
    "## AUC"
   ]
  },
  {
   "cell_type": "code",
   "execution_count": null,
   "metadata": {
    "deletable": false,
    "editable": false,
    "run_control": {
     "frozen": true
    }
   },
   "outputs": [],
   "source": [
    "roc,fpr,tpr ={},{},{}\n",
    "for k in range(20):\n",
    "    roc[k],fpr[k],tpr[k] ={},{},{}\n",
    "    for j in range(2):\n",
    "        roc[k][j],fpr[k][j],tpr[k][j]=\\\n",
    "        logistic_roc(dataset[datatype[i]][dataclass[j]][:,\n",
    "                     np.flip(rfefeatureind[i][j].astype('int')[-50:],axis=0)[pickedind[i][j]][0:(k+1)]]  ,\n",
    "                     labelset[datatype[i]][dataclass[j]])"
   ]
  },
  {
   "cell_type": "code",
   "execution_count": null,
   "metadata": {
    "deletable": false,
    "editable": false,
    "run_control": {
     "frozen": true
    }
   },
   "outputs": [],
   "source": [
    "def plot_auc_bar(i,j):\n",
    "    fig,ax=plt.subplots(1,figsize=(10,6))\n",
    "    #print (np.array([roc[k][2*i+j] for k in range(10)]))\n",
    "    ax.bar(range(10),np.array([roc[k][2*i+j] for k in range(10)]).ravel(),0.7,color='g',alpha=0.7)\n",
    "    ax.set_ylabel('AUC', color='r',rotation=0,fontsize=18)\n",
    "    ax.set_title('AUC of Forward Feature Selection '+ datatype[i]+' '+dataclass[j])\n",
    "    ax.set_xticks(np.arange(0,10))\n",
    "    ax.set_xticklabels(np.arange(0,10))\n",
    "    #ax2 = ax.twinx()\n",
    "    #ax2.plot(np.array([roc[k][5] for k in range(11)])[1:] - np.array([roc[k][5] for k in range(10)]),\n",
    "      # color='black',linewidth=3.0)\n",
    "    #ax2.set_ylabel('AUC improvement', color='b',fontsize=18)\n",
    "    #print (np.array([roc[k][5] for k in range(11)])[1:] - np.array([roc[k][5] for k in range(10)]))"
   ]
  },
  {
   "cell_type": "code",
   "execution_count": null,
   "metadata": {
    "deletable": false,
    "editable": false,
    "run_control": {
     "frozen": true
    },
    "scrolled": false
   },
   "outputs": [],
   "source": [
    "for i in range(3):\n",
    "    for j in range(2):\n",
    "        plot_auc_bar(i,j)"
   ]
  },
  {
   "cell_type": "markdown",
   "metadata": {},
   "source": [
    "## feature importance\n"
   ]
  },
  {
   "cell_type": "code",
   "execution_count": null,
   "metadata": {
    "deletable": false,
    "editable": false,
    "run_control": {
     "frozen": true
    }
   },
   "outputs": [],
   "source": [
    "def logistic_selection(feature,label):\n",
    "    logmodel = LogisticRegression()\n",
    "    logmodel.fit(feature,label)\n",
    "    return logmodel.coef_"
   ]
  },
  {
   "cell_type": "code",
   "execution_count": null,
   "metadata": {
    "deletable": false,
    "editable": false,
    "run_control": {
     "frozen": true
    }
   },
   "outputs": [],
   "source": [
    "dataset[datatype[i]][dataclass[j]][:,\n",
    "                         np.flip(rfefeatureind[i][j].astype('int')[-50:],axis=0)[pickedind[i][j]]]"
   ]
  },
  {
   "cell_type": "code",
   "execution_count": null,
   "metadata": {},
   "outputs": [],
   "source": [
    "styles = [\"white\",\"dark\",'whitegrid',\"darkgrid\"]\n",
    "contexts = ['paper','talk','poster','notebook']\n",
    "sns.set_style(styles[0])\n",
    "sns.set_context(contexts[2])"
   ]
  },
  {
   "cell_type": "code",
   "execution_count": null,
   "metadata": {},
   "outputs": [],
   "source": [
    "def featureimport(j):\n",
    "    fig,ax=plt.subplots(1,figsize=(12,6))\n",
    "    ranges = 20\n",
    "    featuresnamessort = [fullnametranslated,binnametranslated,mixnametranslated_]\n",
    "    featureabs = np.abs(logistic_selection(dataset[datatype[i]][dataclass[j]][:,\n",
    "                     np.flip(rfefeatureind[i][j].astype('int')[-50:],axis=0)[pickedind[i][j]]]\n",
    "               ,labelset[datatype[i]][dataclass[j]])).ravel()\n",
    "    featurenamessort = featuresnamessort[i][np.flip(rfefeatureind[i][j].astype('int')[-50:],axis=0)[pickedind[i][j]]][np.argsort(-featureabs)]\n",
    "    ax.set_xticks(np.arange(0,ranges))\n",
    "    ax.set_xticklabels(featurenamessort[:ranges],fontweight='bold')\n",
    "    ax.plot(-np.sort(-featureabs)[:ranges])\n",
    "    ax.set_title('Feature importance of Forward Selection '+ datatype[i]+' '+dataclass[j],fontsize=15,fontweight='bold')\n",
    "    plt.setp(ax.get_xticklabels(), rotation=30, horizontalalignment='right',fontsize=11)\n",
    "    fig.tight_layout()"
   ]
  },
  {
   "cell_type": "code",
   "execution_count": null,
   "metadata": {},
   "outputs": [],
   "source": [
    "for j in range(2):\n",
    "    featureimport(i,j)"
   ]
  },
  {
   "cell_type": "code",
   "execution_count": null,
   "metadata": {
    "scrolled": false
   },
   "outputs": [],
   "source": [
    "fig,ax=plt.subplots(6,1,figsize=(20,60))\n",
    "ranges = 20\n",
    "featuresnamessort = [fullnametranslated,binnametranslated,mixnametranslated_]\n",
    "for i in range(3):\n",
    "    for j in range(2):\n",
    "        featureabs = np.abs(logistic_selection(dataset[datatype[i]][dataclass[j]][:,\n",
    "                         np.flip(rfefeatureind[i][j].astype('int')[-50:],axis=0)[pickedind[i][j]]]\n",
    "                   ,labelset[datatype[i]][dataclass[j]])).ravel()\n",
    "        featurenamessort = featuresnamessort[i][np.flip(rfefeatureind[i][j].astype('int')[-50:],axis=0)[pickedind[i][j]]][np.argsort(-featureabs)]\n",
    "        ax[i*2+j].set_xticks(np.arange(0,ranges))\n",
    "        ax[i*2+j].set_xticklabels(featurenamessort[:ranges],fontweight='bold')\n",
    "        ax[i*2+j].plot(-np.sort(-featureabs)[:ranges])\n",
    "        ax[i*2+j].set_title('Feature importance of Forward Selection '+ datatype[i]+' '+dataclass[j],fontsize=25,fontweight='bold')\n",
    "        plt.setp(ax[i*2+j].get_xticklabels(), rotation=30, horizontalalignment='right',fontsize=12)\n",
    "        fig.tight_layout()"
   ]
  },
  {
   "cell_type": "markdown",
   "metadata": {},
   "source": [
    "##   clsutering"
   ]
  },
  {
   "cell_type": "code",
   "execution_count": 649,
   "metadata": {
    "deletable": false,
    "editable": false,
    "run_control": {
     "frozen": true
    }
   },
   "outputs": [],
   "source": [
    "stageAnormallabel = np.repeat('sA',29)\n",
    "stageAnormallabel[labelset[datatype[0]][dataclass[0]].ravel()==0] = 'HD'"
   ]
  },
  {
   "cell_type": "code",
   "execution_count": null,
   "metadata": {},
   "outputs": [],
   "source": [
    "stageAnormallabel"
   ]
  },
  {
   "cell_type": "code",
   "execution_count": null,
   "metadata": {},
   "outputs": [],
   "source": [
    "for i in range(3):\n",
    "    for j in range(2):\n",
    "        if j ==0:\n",
    "            columns1 = stageAnormallabel\n",
    "       \n",
    "        elif j==1:\n",
    "            columns1 = samplecolumns.ravel()\n",
    "        featurenamesss = [fullnametranslated,binnametranslated,mixnametranslated_]\n",
    "        if i ==0:\n",
    "            index1 = featurenamesss[i][np.flip(rfefeatureind[i][j].astype('int')[-50:],axis=0)[pickedind[i][j]]]\n",
    "        elif i==1:\n",
    "            index1 = featurenamesss[i][np.flip(rfefeatureind[i][j].astype('int')[-50:],axis=0)[pickedind[i][j]]]\n",
    "        elif i==2:\n",
    "            index1 = featurenamesss[i][np.flip(rfefeatureind[i][j].astype('int')[-50:],axis=0)[pickedind[i][j]]]\n",
    "\n",
    "        pd.DataFrame(dataset[datatype[i]][dataclass[j]][:,\n",
    "                                 np.flip(rfefeatureind[i][j].astype('int')[-50:],axis=0)[pickedind[i][j]]].T,\n",
    "                             columns=columns1,index = index1).to_csv(datatype[i]+dataclass[j]+'_forcluster.csv')"
   ]
  },
  {
   "cell_type": "code",
   "execution_count": null,
   "metadata": {},
   "outputs": [],
   "source": [
    "def cluster_plot(i,j,width=20,height=20):\n",
    "    rc('font', weight='bold')\n",
    "    sns.set(font_scale=1)\n",
    "    if j ==0:\n",
    "        columns1 = stageAnormallabel\n",
    "        width = 12\n",
    "        height = 22\n",
    "    elif j==1:\n",
    "        columns1 = samplecolumns.ravel()\n",
    "        width = 20\n",
    "        height = 25\n",
    "    featurenamesss = [fullnametranslated,binnametranslated,mixnametranslated_]\n",
    "    if i ==0:\n",
    "        index1 = featurenamesss[i][np.flip(rfefeatureind[i][j].astype('int')[-50:],axis=0)[pickedind[i][j]]]\n",
    "    elif i==1:\n",
    "        index1 = featurenamesss[i][np.flip(rfefeatureind[i][j].astype('int')[-50:],axis=0)[pickedind[i][j]]]\n",
    "    elif i==2:\n",
    "        index1 = featurenamesss[i][np.flip(rfefeatureind[i][j].astype('int')[-50:],axis=0)[pickedind[i][j]]]\n",
    "        \n",
    "    table = pd.DataFrame(dataset[datatype[i]][dataclass[j]][:,\n",
    "                             np.flip(rfefeatureind[i][j].astype('int')[-50:],axis=0)[pickedind[i][j]]].T,\n",
    "                         columns=columns1,index = index1)\n",
    "    print (table.shape)\n",
    "    \n",
    "    cg = sns.clustermap(table,center=0,cmap=\"vlag\",linewidths=.75,figsize=(width,height))\n",
    "    \n",
    "    plt.xticks(rotation=0,fontweight='bold') \n",
    "    plt.yticks(rotation='vertical',fontweight='bold')\n",
    "    plt.title('Cluster '+ datatype[i]+' '+dataclass[j],loc ='center')"
   ]
  },
  {
   "cell_type": "code",
   "execution_count": null,
   "metadata": {
    "scrolled": false
   },
   "outputs": [],
   "source": [
    "for i in range(3):\n",
    "    for j in range(2):\n",
    "        cluster_plot(i,j)"
   ]
  },
  {
   "cell_type": "markdown",
   "metadata": {},
   "source": [
    "## 然后比较挑出来的feature的交集和并集，尤其是bin和full的交集！"
   ]
  },
  {
   "cell_type": "code",
   "execution_count": null,
   "metadata": {},
   "outputs": [],
   "source": [
    "fullfeaturename.shape"
   ]
  },
  {
   "cell_type": "code",
   "execution_count": null,
   "metadata": {},
   "outputs": [],
   "source": [
    "for i in range(3):\n",
    "    for j in range(2):\n",
    "        print (dataset[datatype[i]][dataclass[j]].shape)"
   ]
  },
  {
   "cell_type": "code",
   "execution_count": null,
   "metadata": {},
   "outputs": [],
   "source": [
    "fullfeaturename.shape, binfeaturename.shape, mixfeaturename.shape"
   ]
  },
  {
   "cell_type": "code",
   "execution_count": null,
   "metadata": {},
   "outputs": [],
   "source": [
    "selected_feature_name = {}\n",
    "for i in range(3):\n",
    "    selected_feature_name[i] = {}\n",
    "    featurenamesss = [fullnametranslated,binnametranslated,mixnametranslated_]\n",
    "    for j in range(2):\n",
    "        if i ==0:\n",
    "            selected_feature_name[i][j] = featurenamesss[i][np.flip(rfefeatureind[i][j].astype('int')[-50:],axis=0)[pickedind[i][j]]]\n",
    "        if i ==1:\n",
    "            selected_feature_name[i][j] = featurenamesss[i][np.flip(rfefeatureind[i][j].astype('int')[-50:],axis=0)[pickedind[i][j]]]\n",
    "        if i ==2:\n",
    "            selected_feature_name[i][j] = featurenamesss[i][np.flip(rfefeatureind[i][j].astype('int')[-50:],axis=0)[pickedind[i][j]]]\n",
    "tablefeature = pd.DataFrame([])\n",
    "for i in range(3):\n",
    "    for j in range(2):\n",
    "        tablefeature =pd.concat((tablefeature,pd.DataFrame(selected_feature_name[i][j])),axis=1)\n",
    "tablefeature.columns = ['Full A','Full HCC','Bin A','Bin HCC','Mix A','Mix HCC']"
   ]
  },
  {
   "cell_type": "code",
   "execution_count": null,
   "metadata": {},
   "outputs": [],
   "source": [
    "np.intersect1d(tablefeature.iloc[:,0],tablefeature.iloc[:,1])"
   ]
  },
  {
   "cell_type": "code",
   "execution_count": null,
   "metadata": {},
   "outputs": [],
   "source": [
    "tablefeature"
   ]
  },
  {
   "cell_type": "code",
   "execution_count": 778,
   "metadata": {
    "deletable": false,
    "editable": false,
    "run_control": {
     "frozen": true
    }
   },
   "outputs": [],
   "source": [
    "selected_feature_name_split = {}\n",
    "for i in range(3):\n",
    "    selected_feature_name_split[i] = {}\n",
    "    for j in range(2):\n",
    "        if i ==0:\n",
    "            selected_feature_name_split[i][j] = fullfeaturename[np.flip(rfefeatureind[i][j].astype('int')[-50:],axis=0)[pickedind[i][j]]]\n",
    "        if i ==1:\n",
    "            selected_feature_name_split[i][j] = binfeaturenamesplit[np.flip(rfefeatureind[i][j].astype('int')[-50:],axis=0)[pickedind[i][j]]]\n",
    "        if i ==2:\n",
    "            selected_feature_name_split[i][j] = mixfeaturenamesplit[np.flip(rfefeatureind[i][j].astype('int')[-50:],axis=0)[pickedind[i][j]]]\n",
    "tablefeature_split = pd.DataFrame([])\n",
    "for i in range(3):\n",
    "    for j in range(2):\n",
    "        tablefeature_split =pd.concat((tablefeature_split,pd.DataFrame(selected_feature_name_split[i][j])),axis=1)\n",
    "tablefeature_split.columns = ['Full A','Full HCC','Bin A','Bin HCC','Mix A','Mix HCC']"
   ]
  },
  {
   "cell_type": "code",
   "execution_count": 779,
   "metadata": {
    "deletable": false,
    "editable": false,
    "run_control": {
     "frozen": true
    }
   },
   "outputs": [
    {
     "data": {
      "text/html": [
       "<div>\n",
       "<style scoped>\n",
       "    .dataframe tbody tr th:only-of-type {\n",
       "        vertical-align: middle;\n",
       "    }\n",
       "\n",
       "    .dataframe tbody tr th {\n",
       "        vertical-align: top;\n",
       "    }\n",
       "\n",
       "    .dataframe thead th {\n",
       "        text-align: right;\n",
       "    }\n",
       "</style>\n",
       "<table border=\"1\" class=\"dataframe\">\n",
       "  <thead>\n",
       "    <tr style=\"text-align: right;\">\n",
       "      <th></th>\n",
       "      <th>Full A</th>\n",
       "      <th>Full HCC</th>\n",
       "      <th>Bin A</th>\n",
       "      <th>Bin HCC</th>\n",
       "      <th>Mix A</th>\n",
       "      <th>Mix HCC</th>\n",
       "    </tr>\n",
       "  </thead>\n",
       "  <tbody>\n",
       "    <tr>\n",
       "      <th>0</th>\n",
       "      <td>miRNA_ENSG00000211583.3</td>\n",
       "      <td>miRNA_ENSG00000207738.1</td>\n",
       "      <td>snoRNA_ENSG00000206688.1</td>\n",
       "      <td>lncRNA_ENSG00000263089.1</td>\n",
       "      <td>miRNA_ENSG00000211583.3</td>\n",
       "      <td>miRNA_ENSG00000211583.3</td>\n",
       "    </tr>\n",
       "    <tr>\n",
       "      <th>1</th>\n",
       "      <td>lncRNA_ENSG00000280136.2</td>\n",
       "      <td>Y_RNA_ENSG00000202255.1</td>\n",
       "      <td>tRNA_22344</td>\n",
       "      <td>lncRNA_ENSG00000251562.7</td>\n",
       "      <td>lncRNA_ENSG00000280136.2</td>\n",
       "      <td>lncRNA_ENSG00000227492.1</td>\n",
       "    </tr>\n",
       "    <tr>\n",
       "      <th>2</th>\n",
       "      <td>miRNA_ENSG00000221586.1</td>\n",
       "      <td>srpRNA_ENSG00000243420.3</td>\n",
       "      <td>miRNA_ENSG00000284553.1</td>\n",
       "      <td>Y_RNA_ENSG00000201343.1</td>\n",
       "      <td>lncRNA_ENSG00000254319.5</td>\n",
       "      <td>srpRNA_ENSG00000243420.3</td>\n",
       "    </tr>\n",
       "    <tr>\n",
       "      <th>3</th>\n",
       "      <td>piRNA_piR.hsa.21148_60</td>\n",
       "      <td>lncRNA_ENSG00000167912.5</td>\n",
       "      <td>lncRNA_ENSG00000280156.1</td>\n",
       "      <td>tRNA_12975</td>\n",
       "      <td>piRNA_piR.hsa.26301</td>\n",
       "      <td>snRNA_ENSG00000201291.1</td>\n",
       "    </tr>\n",
       "    <tr>\n",
       "      <th>4</th>\n",
       "      <td>lncRNA_ENSG00000264112.1</td>\n",
       "      <td>piRNA_piR.hsa.21148_10</td>\n",
       "      <td>snRNA_ENSG00000201291.1</td>\n",
       "      <td>lncRNA_ENSG00000251562.7</td>\n",
       "      <td>piRNA_piR.hsa.20664_51</td>\n",
       "      <td>snRNA_ENSG00000222414.1</td>\n",
       "    </tr>\n",
       "    <tr>\n",
       "      <th>5</th>\n",
       "      <td>lncRNA_ENSG00000223546.6</td>\n",
       "      <td>lncRNA_ENSG00000264112.1</td>\n",
       "      <td>lncRNA_ENSG00000177640.15</td>\n",
       "      <td>lncRNA_ENSG00000246859.2</td>\n",
       "      <td>piRNA_piR.hsa.20664_50</td>\n",
       "      <td>snRNA_ENSG00000272020.1</td>\n",
       "    </tr>\n",
       "    <tr>\n",
       "      <th>6</th>\n",
       "      <td>lncRNA_ENSG00000268573.1</td>\n",
       "      <td>lncRNA_ENSG00000249614.1</td>\n",
       "      <td>snRNA_ENSG00000252468.1</td>\n",
       "      <td>lncRNA_ENSG00000272053.1</td>\n",
       "      <td>piRNA_piR.hsa.29477</td>\n",
       "      <td>lncRNA_ENSG00000264112.1</td>\n",
       "    </tr>\n",
       "    <tr>\n",
       "      <th>7</th>\n",
       "      <td>piRNA_piR.hsa.21148_10</td>\n",
       "      <td>piRNA_piR.hsa.2621_68</td>\n",
       "      <td>srpRNA_ENSG00000239884.3</td>\n",
       "      <td>lncRNA_ENSG00000269821.1</td>\n",
       "      <td>lncRNA_ENSG00000278913.1</td>\n",
       "      <td>miRNA_ENSG00000207954.1</td>\n",
       "    </tr>\n",
       "    <tr>\n",
       "      <th>8</th>\n",
       "      <td>lncRNA_ENSG00000233424.2</td>\n",
       "      <td>piRNA_piR.hsa.21148_67</td>\n",
       "      <td>lncRNA_ENSG00000212978.6</td>\n",
       "      <td>lncRNA_ENSG00000251562.7</td>\n",
       "      <td>lncRNA_ENSG00000258844.1</td>\n",
       "      <td>tRNA_36015</td>\n",
       "    </tr>\n",
       "    <tr>\n",
       "      <th>9</th>\n",
       "      <td>tRNA_36015</td>\n",
       "      <td>miRNA_ENSG00000207711.1</td>\n",
       "      <td>lncRNA_ENSG00000279670.1</td>\n",
       "      <td>miRNA_ENSG00000198973.4</td>\n",
       "      <td>miRNA_ENSG00000221586.1</td>\n",
       "      <td>lncRNA_ENSG00000280136.2</td>\n",
       "    </tr>\n",
       "    <tr>\n",
       "      <th>10</th>\n",
       "      <td>srpRNA_ENSG00000239250.3</td>\n",
       "      <td>lncRNA_ENSG00000234350.4</td>\n",
       "      <td>lncRNA_ENSG00000281344.1</td>\n",
       "      <td>miRNA_ENSG00000207957.1</td>\n",
       "      <td>piRNA_piR.hsa.2621_50</td>\n",
       "      <td>lncRNA_ENSG00000267365.1</td>\n",
       "    </tr>\n",
       "    <tr>\n",
       "      <th>11</th>\n",
       "      <td>lncRNA_ENSG00000242428.5</td>\n",
       "      <td>lncRNA_ENSG00000248550.3</td>\n",
       "      <td>lncRNA_ENSG00000212978.6</td>\n",
       "      <td>snRNA_ENSG00000201291.1</td>\n",
       "      <td>lncRNA_ENSG00000259669.5</td>\n",
       "      <td>lncRNA_ENSG00000259240.1</td>\n",
       "    </tr>\n",
       "    <tr>\n",
       "      <th>12</th>\n",
       "      <td>piRNA_piR.hsa.20664_50</td>\n",
       "      <td>lncRNA_ENSG00000250781.1</td>\n",
       "      <td>lncRNA_ENSG00000255717.6</td>\n",
       "      <td>lncRNA_ENSG00000273018.5</td>\n",
       "      <td>lncRNA_ENSG00000277837.1</td>\n",
       "      <td>lncRNA_ENSG00000277837.1</td>\n",
       "    </tr>\n",
       "    <tr>\n",
       "      <th>13</th>\n",
       "      <td>lncRNA_ENSG00000280059.1</td>\n",
       "      <td>lncRNA_ENSG00000280136.2</td>\n",
       "      <td>Y_RNA_ENSG00000207401.1</td>\n",
       "      <td>lncRNA_ENSG00000245532.7</td>\n",
       "      <td>miRNA_ENSG00000207954.1</td>\n",
       "      <td>lncRNA_ENSG00000204283.3</td>\n",
       "    </tr>\n",
       "    <tr>\n",
       "      <th>14</th>\n",
       "      <td>tRNA_13009</td>\n",
       "      <td>piRNA_piR.hsa.2621_24</td>\n",
       "      <td>miRNA_ENSG00000207957.1</td>\n",
       "      <td>tRNA_20280</td>\n",
       "      <td>tRNA_28809</td>\n",
       "      <td>lncRNA_ENSG00000238062.5</td>\n",
       "    </tr>\n",
       "    <tr>\n",
       "      <th>15</th>\n",
       "      <td>lncRNA_ENSG00000253647.1</td>\n",
       "      <td>lncRNA_ENSG00000266717.1</td>\n",
       "      <td>lncRNA_ENSG00000248049.6</td>\n",
       "      <td>snRNA_ENSG00000222414.1</td>\n",
       "      <td>lncRNA_ENSG00000254119.5</td>\n",
       "      <td>miRNA_ENSG00000283540.1</td>\n",
       "    </tr>\n",
       "    <tr>\n",
       "      <th>16</th>\n",
       "      <td>lncRNA_ENSG00000226846.1</td>\n",
       "      <td>lncRNA_ENSG00000233008.5</td>\n",
       "      <td>lncRNA_ENSG00000273797.1</td>\n",
       "      <td>snRNA_ENSG00000251994.1</td>\n",
       "      <td>tRNA_12975</td>\n",
       "      <td>piRNA_piR.hsa.28186_5</td>\n",
       "    </tr>\n",
       "    <tr>\n",
       "      <th>17</th>\n",
       "      <td>tRNA_28809</td>\n",
       "      <td>lncRNA_ENSG00000269038.1</td>\n",
       "      <td>piRNA_piR.hsa.12730_3</td>\n",
       "      <td>lncRNA_ENSG00000280156.1</td>\n",
       "      <td>lncRNA_ENSG00000226846.1</td>\n",
       "      <td>lncRNA_ENSG00000240240.8</td>\n",
       "    </tr>\n",
       "    <tr>\n",
       "      <th>18</th>\n",
       "      <td>lncRNA_ENSG00000258844.1</td>\n",
       "      <td>lncRNA_ENSG00000280059.1</td>\n",
       "      <td>piRNA_piR.hsa.2797_2</td>\n",
       "      <td>lncRNA_ENSG00000262061.5</td>\n",
       "      <td>tRNA_12975</td>\n",
       "      <td>lncRNA_ENSG00000212766.9</td>\n",
       "    </tr>\n",
       "    <tr>\n",
       "      <th>19</th>\n",
       "      <td>piRNA_piR.hsa.22272_8</td>\n",
       "      <td>srpRNA_ENSG00000239690.3</td>\n",
       "      <td>tRNA_25584</td>\n",
       "      <td>lncRNA_ENSG00000280719.1</td>\n",
       "      <td>miRNA_ENSG00000207798.1</td>\n",
       "      <td>lncRNA_ENSG00000249684.5</td>\n",
       "    </tr>\n",
       "    <tr>\n",
       "      <th>20</th>\n",
       "      <td>miRNA_ENSG00000276029.1</td>\n",
       "      <td>miRNA_ENSG00000207954.1</td>\n",
       "      <td>lncRNA_ENSG00000226203.1</td>\n",
       "      <td>lncRNA_ENSG00000279738.1</td>\n",
       "      <td>lncRNA_ENSG00000212766.9</td>\n",
       "      <td>piRNA_piR.hsa.21148_33</td>\n",
       "    </tr>\n",
       "    <tr>\n",
       "      <th>21</th>\n",
       "      <td>piRNA_piR.hsa.26301</td>\n",
       "      <td>srpRNA_ENSG00000277265.1</td>\n",
       "      <td>lncRNA_ENSG00000261824.6</td>\n",
       "      <td>lncRNA_ENSG00000279670.1</td>\n",
       "      <td>lncRNA_ENSG00000279043.1</td>\n",
       "      <td>lncRNA_ENSG00000177337.7</td>\n",
       "    </tr>\n",
       "    <tr>\n",
       "      <th>22</th>\n",
       "      <td>srpRNA_ENSG00000243420.3</td>\n",
       "      <td>lncRNA_ENSG00000212766.9</td>\n",
       "      <td>piRNA_piR.hsa.24000</td>\n",
       "      <td>lncRNA_ENSG00000229807.10</td>\n",
       "      <td>snRNA_ENSG00000222724.1</td>\n",
       "      <td>lncRNA_ENSG00000250781.1</td>\n",
       "    </tr>\n",
       "    <tr>\n",
       "      <th>23</th>\n",
       "      <td>piRNA_piR.hsa.21148_24</td>\n",
       "      <td>lncRNA_ENSG00000227492.1</td>\n",
       "      <td>lncRNA_ENSG00000255717.6</td>\n",
       "      <td>lncRNA_ENSG00000223387.6</td>\n",
       "      <td>srpRNA_ENSG00000239250.3</td>\n",
       "      <td>piRNA_piR.hsa.21148_10</td>\n",
       "    </tr>\n",
       "    <tr>\n",
       "      <th>24</th>\n",
       "      <td>lncRNA_ENSG00000254319.5</td>\n",
       "      <td>lncRNA_ENSG00000268573.1</td>\n",
       "      <td>snoRNA_ENSG00000252337.1</td>\n",
       "      <td>lncRNA_ENSG00000284735.1</td>\n",
       "      <td>lncRNA_ENSG00000279048.1</td>\n",
       "      <td>lncRNA_ENSG00000249348.1</td>\n",
       "    </tr>\n",
       "    <tr>\n",
       "      <th>25</th>\n",
       "      <td>lncRNA_ENSG00000236466.1</td>\n",
       "      <td>lncRNA_ENSG00000233895.1</td>\n",
       "      <td>lncRNA_ENSG00000279662.1</td>\n",
       "      <td>lncRNA_ENSG00000277837.1</td>\n",
       "      <td>tRNA_12975</td>\n",
       "      <td>lncRNA_ENSG00000280059.1</td>\n",
       "    </tr>\n",
       "    <tr>\n",
       "      <th>26</th>\n",
       "      <td>srpRNA_ENSG00000263999.2</td>\n",
       "      <td>piRNA_piR.hsa.30958_24</td>\n",
       "      <td>lncRNA_ENSG00000230424.1</td>\n",
       "      <td>lncRNA_ENSG00000279670.1</td>\n",
       "      <td>tRNA_13009</td>\n",
       "      <td>lncRNA_ENSG00000248550.3</td>\n",
       "    </tr>\n",
       "    <tr>\n",
       "      <th>27</th>\n",
       "      <td>miRNA_ENSG00000207954.1</td>\n",
       "      <td>lncRNA_ENSG00000240240.8</td>\n",
       "      <td>lncRNA_ENSG00000276216.1</td>\n",
       "      <td>lncRNA_ENSG00000177406.4</td>\n",
       "      <td>tRNA_36015</td>\n",
       "      <td>lncRNA_ENSG00000246145.1</td>\n",
       "    </tr>\n",
       "    <tr>\n",
       "      <th>28</th>\n",
       "      <td>lncRNA_ENSG00000212766.9</td>\n",
       "      <td>miRNA_ENSG00000221586.1</td>\n",
       "      <td>srpRNA_ENSG00000243420.3</td>\n",
       "      <td>lncRNA_ENSG00000224086.5</td>\n",
       "      <td>lncRNA_ENSG00000253647.1</td>\n",
       "      <td>lncRNA_ENSG00000249348.1</td>\n",
       "    </tr>\n",
       "    <tr>\n",
       "      <th>29</th>\n",
       "      <td>lncRNA_ENSG00000167912.5</td>\n",
       "      <td>tRNA_36015</td>\n",
       "      <td>snRNA_ENSG00000222440.1</td>\n",
       "      <td>lncRNA_ENSG00000237414.2</td>\n",
       "      <td>srpRNA_ENSG00000263999.2</td>\n",
       "      <td>lncRNA_ENSG00000268573.1</td>\n",
       "    </tr>\n",
       "    <tr>\n",
       "      <th>30</th>\n",
       "      <td>lncRNA_ENSG00000232956.8</td>\n",
       "      <td>lncRNA_ENSG00000255067.1</td>\n",
       "      <td>lncRNA_ENSG00000281344.1</td>\n",
       "      <td>lncRNA_ENSG00000280156.1</td>\n",
       "      <td>snRNA_ENSG00000201291.1</td>\n",
       "      <td>lncRNA_ENSG00000234350.4</td>\n",
       "    </tr>\n",
       "    <tr>\n",
       "      <th>31</th>\n",
       "      <td>piRNA_piR.hsa.29477</td>\n",
       "      <td>miRNA_ENSG00000283540.1</td>\n",
       "      <td>lncRNA_ENSG00000176320.2</td>\n",
       "      <td>lncRNA_ENSG00000242808.7</td>\n",
       "      <td>lncRNA_ENSG00000177640.15</td>\n",
       "      <td>lncRNA_ENSG00000278897.1</td>\n",
       "    </tr>\n",
       "    <tr>\n",
       "      <th>32</th>\n",
       "      <td>lncRNA_ENSG00000278913.1</td>\n",
       "      <td>miRNA_ENSG00000283751.1</td>\n",
       "      <td>lncRNA_ENSG00000280184.2</td>\n",
       "      <td>lncRNA_ENSG00000257891.1</td>\n",
       "      <td>snoRNA_ENSG00000206688.1</td>\n",
       "      <td>lncRNA_ENSG00000223546.6</td>\n",
       "    </tr>\n",
       "    <tr>\n",
       "      <th>33</th>\n",
       "      <td>lncRNA_ENSG00000204283.3</td>\n",
       "      <td>lncRNA_ENSG00000279302.3</td>\n",
       "      <td>snRNA_ENSG00000201291.1</td>\n",
       "      <td>lncRNA_ENSG00000278867.1</td>\n",
       "      <td>Y_RNA_ENSG00000202255.1</td>\n",
       "      <td>piRNA_piR.hsa.21148_67</td>\n",
       "    </tr>\n",
       "    <tr>\n",
       "      <th>34</th>\n",
       "      <td>Y_RNA_ENSG00000202255.1</td>\n",
       "      <td>lncRNA_ENSG00000259356.1</td>\n",
       "      <td>snoRNA_ENSG00000206688.1</td>\n",
       "      <td>lncRNA_ENSG00000241772.2</td>\n",
       "      <td>srpRNA_ENSG00000239690.3</td>\n",
       "      <td>lncRNA_ENSG00000237560.5</td>\n",
       "    </tr>\n",
       "    <tr>\n",
       "      <th>35</th>\n",
       "      <td>snRNA_ENSG00000272020.1</td>\n",
       "      <td>lncRNA_ENSG00000204283.3</td>\n",
       "      <td>lncRNA_ENSG00000254519.3</td>\n",
       "      <td>lncRNA_ENSG00000250855.1</td>\n",
       "      <td>Y_RNA_ENSG00000238783.1</td>\n",
       "      <td>lncRNA_ENSG00000256040.2</td>\n",
       "    </tr>\n",
       "    <tr>\n",
       "      <th>36</th>\n",
       "      <td>lncRNA_ENSG00000254119.5</td>\n",
       "      <td>lncRNA_ENSG00000279043.1</td>\n",
       "      <td>lncRNA_ENSG00000248049.6</td>\n",
       "      <td>lncRNA_ENSG00000273306.1</td>\n",
       "      <td>lncRNA_ENSG00000279670.1</td>\n",
       "      <td>srpRNA_ENSG00000243548.3</td>\n",
       "    </tr>\n",
       "    <tr>\n",
       "      <th>37</th>\n",
       "      <td>tRNA_12975</td>\n",
       "      <td>snRNA_ENSG00000206629.1</td>\n",
       "      <td>snoRNA_ENSG00000207344.1</td>\n",
       "      <td>lncRNA_ENSG00000248458.2</td>\n",
       "      <td>srpRNA_ENSG00000239884.3</td>\n",
       "      <td>lncRNA_ENSG00000167912.5</td>\n",
       "    </tr>\n",
       "    <tr>\n",
       "      <th>38</th>\n",
       "      <td>srpRNA_ENSG00000240203.3</td>\n",
       "      <td>lncRNA_ENSG00000238062.5</td>\n",
       "      <td>piRNA_piR.hsa.21148_60</td>\n",
       "      <td>lncRNA_ENSG00000280156.1</td>\n",
       "      <td>srpRNA_ENSG00000276956.1</td>\n",
       "      <td>lncRNA_ENSG00000255202.1</td>\n",
       "    </tr>\n",
       "    <tr>\n",
       "      <th>39</th>\n",
       "      <td>snRNA_ENSG00000222724.1</td>\n",
       "      <td>lncRNA_ENSG00000233941.1</td>\n",
       "      <td>lncRNA_ENSG00000227906.7</td>\n",
       "      <td>lncRNA_ENSG00000224897.6</td>\n",
       "      <td>lncRNA_ENSG00000255717.6</td>\n",
       "      <td>lncRNA_ENSG00000185433.8</td>\n",
       "    </tr>\n",
       "    <tr>\n",
       "      <th>40</th>\n",
       "      <td>Y_RNA_ENSG00000201084.1</td>\n",
       "      <td>lncRNA_ENSG00000228063.1</td>\n",
       "      <td>tRNA_24591</td>\n",
       "      <td>lncRNA_ENSG00000247735.2</td>\n",
       "      <td>piRNA_piR.hsa.2621_3</td>\n",
       "      <td>miRNA_ENSG00000207738.1</td>\n",
       "    </tr>\n",
       "    <tr>\n",
       "      <th>41</th>\n",
       "      <td>Y_RNA_ENSG00000238783.1</td>\n",
       "      <td>lncRNA_ENSG00000259240.1</td>\n",
       "      <td>lncRNA_ENSG00000245532.7</td>\n",
       "      <td>lncRNA_ENSG00000279217.1</td>\n",
       "      <td>miRNA_ENSG00000263750.1</td>\n",
       "      <td>lncRNA_ENSG00000279670.1</td>\n",
       "    </tr>\n",
       "    <tr>\n",
       "      <th>42</th>\n",
       "      <td>piRNA_piR.hsa.2621_50</td>\n",
       "      <td>lncRNA_ENSG00000276476.2</td>\n",
       "      <td>lncRNA_ENSG00000234352.9</td>\n",
       "      <td>lncRNA_ENSG00000281852.1</td>\n",
       "      <td>piRNA_piR.hsa.2621_67</td>\n",
       "      <td>lncRNA_ENSG00000269050.1</td>\n",
       "    </tr>\n",
       "    <tr>\n",
       "      <th>43</th>\n",
       "      <td>piRNA_piR.hsa.14884_37</td>\n",
       "      <td>lncRNA_ENSG00000157306.14</td>\n",
       "      <td>snoRNA_ENSG00000274998.1</td>\n",
       "      <td>lncRNA_ENSG00000226203.1</td>\n",
       "      <td>lncRNA_ENSG00000204283.3</td>\n",
       "      <td>lncRNA_ENSG00000280184.2</td>\n",
       "    </tr>\n",
       "    <tr>\n",
       "      <th>44</th>\n",
       "      <td>snoRNA_ENSG00000252011.1</td>\n",
       "      <td>srpRNA_ENSG00000263999.2</td>\n",
       "      <td>snoRNA_ENSG00000281808.1</td>\n",
       "      <td>lncRNA_ENSG00000212978.6</td>\n",
       "      <td>snoRNA_ENSG00000252011.1</td>\n",
       "      <td>lncRNA_ENSG00000259623.1</td>\n",
       "    </tr>\n",
       "    <tr>\n",
       "      <th>45</th>\n",
       "      <td>piRNA_piR.hsa.2621_4</td>\n",
       "      <td>srpRNA_ENSG00000239228.3</td>\n",
       "      <td>lncRNA_ENSG00000234352.9</td>\n",
       "      <td>lncRNA_ENSG00000231023.6</td>\n",
       "      <td>snRNA_ENSG00000201291.1</td>\n",
       "      <td>lncRNA_ENSG00000246859.2</td>\n",
       "    </tr>\n",
       "    <tr>\n",
       "      <th>46</th>\n",
       "      <td>lncRNA_ENSG00000276216.1</td>\n",
       "      <td>lncRNA_ENSG00000259623.1</td>\n",
       "      <td>snoRNA_ENSG00000202363.1</td>\n",
       "      <td>lncRNA_ENSG00000277954.1</td>\n",
       "      <td>lncRNA_ENSG00000255717.6</td>\n",
       "      <td>lncRNA_ENSG00000253311.2</td>\n",
       "    </tr>\n",
       "    <tr>\n",
       "      <th>47</th>\n",
       "      <td>lncRNA_ENSG00000280920.1</td>\n",
       "      <td>lncRNA_ENSG00000250303.3</td>\n",
       "      <td>Y_RNA_ENSG00000207303.1</td>\n",
       "      <td>lncRNA_ENSG00000254635.5</td>\n",
       "      <td>snoRNA_ENSG00000207421.1</td>\n",
       "      <td>miRNA_ENSG00000207711.1</td>\n",
       "    </tr>\n",
       "    <tr>\n",
       "      <th>48</th>\n",
       "      <td>miRNA_ENSG00000283507.1</td>\n",
       "      <td>tRNA_28805</td>\n",
       "      <td>miRNA_ENSG00000278420.1</td>\n",
       "      <td>lncRNA_ENSG00000260793.2</td>\n",
       "      <td>snoRNA_ENSG00000281859.1</td>\n",
       "      <td>lncRNA_ENSG00000279302.3</td>\n",
       "    </tr>\n",
       "    <tr>\n",
       "      <th>49</th>\n",
       "      <td>piRNA_piR.hsa.2621_3</td>\n",
       "      <td>snRNA_ENSG00000272020.1</td>\n",
       "      <td>lncRNA_ENSG00000233358.2</td>\n",
       "      <td>lncRNA_ENSG00000227630.3</td>\n",
       "      <td>lncRNA_ENSG00000260772.1</td>\n",
       "      <td>lncRNA_ENSG00000233895.1</td>\n",
       "    </tr>\n",
       "  </tbody>\n",
       "</table>\n",
       "</div>"
      ],
      "text/plain": [
       "                      Full A                   Full HCC  \\\n",
       "0    miRNA_ENSG00000211583.3    miRNA_ENSG00000207738.1   \n",
       "1   lncRNA_ENSG00000280136.2    Y_RNA_ENSG00000202255.1   \n",
       "2    miRNA_ENSG00000221586.1   srpRNA_ENSG00000243420.3   \n",
       "3     piRNA_piR.hsa.21148_60   lncRNA_ENSG00000167912.5   \n",
       "4   lncRNA_ENSG00000264112.1     piRNA_piR.hsa.21148_10   \n",
       "5   lncRNA_ENSG00000223546.6   lncRNA_ENSG00000264112.1   \n",
       "6   lncRNA_ENSG00000268573.1   lncRNA_ENSG00000249614.1   \n",
       "7     piRNA_piR.hsa.21148_10      piRNA_piR.hsa.2621_68   \n",
       "8   lncRNA_ENSG00000233424.2     piRNA_piR.hsa.21148_67   \n",
       "9                 tRNA_36015    miRNA_ENSG00000207711.1   \n",
       "10  srpRNA_ENSG00000239250.3   lncRNA_ENSG00000234350.4   \n",
       "11  lncRNA_ENSG00000242428.5   lncRNA_ENSG00000248550.3   \n",
       "12    piRNA_piR.hsa.20664_50   lncRNA_ENSG00000250781.1   \n",
       "13  lncRNA_ENSG00000280059.1   lncRNA_ENSG00000280136.2   \n",
       "14                tRNA_13009      piRNA_piR.hsa.2621_24   \n",
       "15  lncRNA_ENSG00000253647.1   lncRNA_ENSG00000266717.1   \n",
       "16  lncRNA_ENSG00000226846.1   lncRNA_ENSG00000233008.5   \n",
       "17                tRNA_28809   lncRNA_ENSG00000269038.1   \n",
       "18  lncRNA_ENSG00000258844.1   lncRNA_ENSG00000280059.1   \n",
       "19     piRNA_piR.hsa.22272_8   srpRNA_ENSG00000239690.3   \n",
       "20   miRNA_ENSG00000276029.1    miRNA_ENSG00000207954.1   \n",
       "21       piRNA_piR.hsa.26301   srpRNA_ENSG00000277265.1   \n",
       "22  srpRNA_ENSG00000243420.3   lncRNA_ENSG00000212766.9   \n",
       "23    piRNA_piR.hsa.21148_24   lncRNA_ENSG00000227492.1   \n",
       "24  lncRNA_ENSG00000254319.5   lncRNA_ENSG00000268573.1   \n",
       "25  lncRNA_ENSG00000236466.1   lncRNA_ENSG00000233895.1   \n",
       "26  srpRNA_ENSG00000263999.2     piRNA_piR.hsa.30958_24   \n",
       "27   miRNA_ENSG00000207954.1   lncRNA_ENSG00000240240.8   \n",
       "28  lncRNA_ENSG00000212766.9    miRNA_ENSG00000221586.1   \n",
       "29  lncRNA_ENSG00000167912.5                 tRNA_36015   \n",
       "30  lncRNA_ENSG00000232956.8   lncRNA_ENSG00000255067.1   \n",
       "31       piRNA_piR.hsa.29477    miRNA_ENSG00000283540.1   \n",
       "32  lncRNA_ENSG00000278913.1    miRNA_ENSG00000283751.1   \n",
       "33  lncRNA_ENSG00000204283.3   lncRNA_ENSG00000279302.3   \n",
       "34   Y_RNA_ENSG00000202255.1   lncRNA_ENSG00000259356.1   \n",
       "35   snRNA_ENSG00000272020.1   lncRNA_ENSG00000204283.3   \n",
       "36  lncRNA_ENSG00000254119.5   lncRNA_ENSG00000279043.1   \n",
       "37                tRNA_12975    snRNA_ENSG00000206629.1   \n",
       "38  srpRNA_ENSG00000240203.3   lncRNA_ENSG00000238062.5   \n",
       "39   snRNA_ENSG00000222724.1   lncRNA_ENSG00000233941.1   \n",
       "40   Y_RNA_ENSG00000201084.1   lncRNA_ENSG00000228063.1   \n",
       "41   Y_RNA_ENSG00000238783.1   lncRNA_ENSG00000259240.1   \n",
       "42     piRNA_piR.hsa.2621_50   lncRNA_ENSG00000276476.2   \n",
       "43    piRNA_piR.hsa.14884_37  lncRNA_ENSG00000157306.14   \n",
       "44  snoRNA_ENSG00000252011.1   srpRNA_ENSG00000263999.2   \n",
       "45      piRNA_piR.hsa.2621_4   srpRNA_ENSG00000239228.3   \n",
       "46  lncRNA_ENSG00000276216.1   lncRNA_ENSG00000259623.1   \n",
       "47  lncRNA_ENSG00000280920.1   lncRNA_ENSG00000250303.3   \n",
       "48   miRNA_ENSG00000283507.1                 tRNA_28805   \n",
       "49      piRNA_piR.hsa.2621_3    snRNA_ENSG00000272020.1   \n",
       "\n",
       "                        Bin A                    Bin HCC  \\\n",
       "0    snoRNA_ENSG00000206688.1   lncRNA_ENSG00000263089.1   \n",
       "1                  tRNA_22344   lncRNA_ENSG00000251562.7   \n",
       "2     miRNA_ENSG00000284553.1    Y_RNA_ENSG00000201343.1   \n",
       "3    lncRNA_ENSG00000280156.1                 tRNA_12975   \n",
       "4     snRNA_ENSG00000201291.1   lncRNA_ENSG00000251562.7   \n",
       "5   lncRNA_ENSG00000177640.15   lncRNA_ENSG00000246859.2   \n",
       "6     snRNA_ENSG00000252468.1   lncRNA_ENSG00000272053.1   \n",
       "7    srpRNA_ENSG00000239884.3   lncRNA_ENSG00000269821.1   \n",
       "8    lncRNA_ENSG00000212978.6   lncRNA_ENSG00000251562.7   \n",
       "9    lncRNA_ENSG00000279670.1    miRNA_ENSG00000198973.4   \n",
       "10   lncRNA_ENSG00000281344.1    miRNA_ENSG00000207957.1   \n",
       "11   lncRNA_ENSG00000212978.6    snRNA_ENSG00000201291.1   \n",
       "12   lncRNA_ENSG00000255717.6   lncRNA_ENSG00000273018.5   \n",
       "13    Y_RNA_ENSG00000207401.1   lncRNA_ENSG00000245532.7   \n",
       "14    miRNA_ENSG00000207957.1                 tRNA_20280   \n",
       "15   lncRNA_ENSG00000248049.6    snRNA_ENSG00000222414.1   \n",
       "16   lncRNA_ENSG00000273797.1    snRNA_ENSG00000251994.1   \n",
       "17      piRNA_piR.hsa.12730_3   lncRNA_ENSG00000280156.1   \n",
       "18       piRNA_piR.hsa.2797_2   lncRNA_ENSG00000262061.5   \n",
       "19                 tRNA_25584   lncRNA_ENSG00000280719.1   \n",
       "20   lncRNA_ENSG00000226203.1   lncRNA_ENSG00000279738.1   \n",
       "21   lncRNA_ENSG00000261824.6   lncRNA_ENSG00000279670.1   \n",
       "22        piRNA_piR.hsa.24000  lncRNA_ENSG00000229807.10   \n",
       "23   lncRNA_ENSG00000255717.6   lncRNA_ENSG00000223387.6   \n",
       "24   snoRNA_ENSG00000252337.1   lncRNA_ENSG00000284735.1   \n",
       "25   lncRNA_ENSG00000279662.1   lncRNA_ENSG00000277837.1   \n",
       "26   lncRNA_ENSG00000230424.1   lncRNA_ENSG00000279670.1   \n",
       "27   lncRNA_ENSG00000276216.1   lncRNA_ENSG00000177406.4   \n",
       "28   srpRNA_ENSG00000243420.3   lncRNA_ENSG00000224086.5   \n",
       "29    snRNA_ENSG00000222440.1   lncRNA_ENSG00000237414.2   \n",
       "30   lncRNA_ENSG00000281344.1   lncRNA_ENSG00000280156.1   \n",
       "31   lncRNA_ENSG00000176320.2   lncRNA_ENSG00000242808.7   \n",
       "32   lncRNA_ENSG00000280184.2   lncRNA_ENSG00000257891.1   \n",
       "33    snRNA_ENSG00000201291.1   lncRNA_ENSG00000278867.1   \n",
       "34   snoRNA_ENSG00000206688.1   lncRNA_ENSG00000241772.2   \n",
       "35   lncRNA_ENSG00000254519.3   lncRNA_ENSG00000250855.1   \n",
       "36   lncRNA_ENSG00000248049.6   lncRNA_ENSG00000273306.1   \n",
       "37   snoRNA_ENSG00000207344.1   lncRNA_ENSG00000248458.2   \n",
       "38     piRNA_piR.hsa.21148_60   lncRNA_ENSG00000280156.1   \n",
       "39   lncRNA_ENSG00000227906.7   lncRNA_ENSG00000224897.6   \n",
       "40                 tRNA_24591   lncRNA_ENSG00000247735.2   \n",
       "41   lncRNA_ENSG00000245532.7   lncRNA_ENSG00000279217.1   \n",
       "42   lncRNA_ENSG00000234352.9   lncRNA_ENSG00000281852.1   \n",
       "43   snoRNA_ENSG00000274998.1   lncRNA_ENSG00000226203.1   \n",
       "44   snoRNA_ENSG00000281808.1   lncRNA_ENSG00000212978.6   \n",
       "45   lncRNA_ENSG00000234352.9   lncRNA_ENSG00000231023.6   \n",
       "46   snoRNA_ENSG00000202363.1   lncRNA_ENSG00000277954.1   \n",
       "47    Y_RNA_ENSG00000207303.1   lncRNA_ENSG00000254635.5   \n",
       "48    miRNA_ENSG00000278420.1   lncRNA_ENSG00000260793.2   \n",
       "49   lncRNA_ENSG00000233358.2   lncRNA_ENSG00000227630.3   \n",
       "\n",
       "                        Mix A                   Mix HCC  \n",
       "0     miRNA_ENSG00000211583.3   miRNA_ENSG00000211583.3  \n",
       "1    lncRNA_ENSG00000280136.2  lncRNA_ENSG00000227492.1  \n",
       "2    lncRNA_ENSG00000254319.5  srpRNA_ENSG00000243420.3  \n",
       "3         piRNA_piR.hsa.26301   snRNA_ENSG00000201291.1  \n",
       "4      piRNA_piR.hsa.20664_51   snRNA_ENSG00000222414.1  \n",
       "5      piRNA_piR.hsa.20664_50   snRNA_ENSG00000272020.1  \n",
       "6         piRNA_piR.hsa.29477  lncRNA_ENSG00000264112.1  \n",
       "7    lncRNA_ENSG00000278913.1   miRNA_ENSG00000207954.1  \n",
       "8    lncRNA_ENSG00000258844.1                tRNA_36015  \n",
       "9     miRNA_ENSG00000221586.1  lncRNA_ENSG00000280136.2  \n",
       "10      piRNA_piR.hsa.2621_50  lncRNA_ENSG00000267365.1  \n",
       "11   lncRNA_ENSG00000259669.5  lncRNA_ENSG00000259240.1  \n",
       "12   lncRNA_ENSG00000277837.1  lncRNA_ENSG00000277837.1  \n",
       "13    miRNA_ENSG00000207954.1  lncRNA_ENSG00000204283.3  \n",
       "14                 tRNA_28809  lncRNA_ENSG00000238062.5  \n",
       "15   lncRNA_ENSG00000254119.5   miRNA_ENSG00000283540.1  \n",
       "16                 tRNA_12975     piRNA_piR.hsa.28186_5  \n",
       "17   lncRNA_ENSG00000226846.1  lncRNA_ENSG00000240240.8  \n",
       "18                 tRNA_12975  lncRNA_ENSG00000212766.9  \n",
       "19    miRNA_ENSG00000207798.1  lncRNA_ENSG00000249684.5  \n",
       "20   lncRNA_ENSG00000212766.9    piRNA_piR.hsa.21148_33  \n",
       "21   lncRNA_ENSG00000279043.1  lncRNA_ENSG00000177337.7  \n",
       "22    snRNA_ENSG00000222724.1  lncRNA_ENSG00000250781.1  \n",
       "23   srpRNA_ENSG00000239250.3    piRNA_piR.hsa.21148_10  \n",
       "24   lncRNA_ENSG00000279048.1  lncRNA_ENSG00000249348.1  \n",
       "25                 tRNA_12975  lncRNA_ENSG00000280059.1  \n",
       "26                 tRNA_13009  lncRNA_ENSG00000248550.3  \n",
       "27                 tRNA_36015  lncRNA_ENSG00000246145.1  \n",
       "28   lncRNA_ENSG00000253647.1  lncRNA_ENSG00000249348.1  \n",
       "29   srpRNA_ENSG00000263999.2  lncRNA_ENSG00000268573.1  \n",
       "30    snRNA_ENSG00000201291.1  lncRNA_ENSG00000234350.4  \n",
       "31  lncRNA_ENSG00000177640.15  lncRNA_ENSG00000278897.1  \n",
       "32   snoRNA_ENSG00000206688.1  lncRNA_ENSG00000223546.6  \n",
       "33    Y_RNA_ENSG00000202255.1    piRNA_piR.hsa.21148_67  \n",
       "34   srpRNA_ENSG00000239690.3  lncRNA_ENSG00000237560.5  \n",
       "35    Y_RNA_ENSG00000238783.1  lncRNA_ENSG00000256040.2  \n",
       "36   lncRNA_ENSG00000279670.1  srpRNA_ENSG00000243548.3  \n",
       "37   srpRNA_ENSG00000239884.3  lncRNA_ENSG00000167912.5  \n",
       "38   srpRNA_ENSG00000276956.1  lncRNA_ENSG00000255202.1  \n",
       "39   lncRNA_ENSG00000255717.6  lncRNA_ENSG00000185433.8  \n",
       "40       piRNA_piR.hsa.2621_3   miRNA_ENSG00000207738.1  \n",
       "41    miRNA_ENSG00000263750.1  lncRNA_ENSG00000279670.1  \n",
       "42      piRNA_piR.hsa.2621_67  lncRNA_ENSG00000269050.1  \n",
       "43   lncRNA_ENSG00000204283.3  lncRNA_ENSG00000280184.2  \n",
       "44   snoRNA_ENSG00000252011.1  lncRNA_ENSG00000259623.1  \n",
       "45    snRNA_ENSG00000201291.1  lncRNA_ENSG00000246859.2  \n",
       "46   lncRNA_ENSG00000255717.6  lncRNA_ENSG00000253311.2  \n",
       "47   snoRNA_ENSG00000207421.1   miRNA_ENSG00000207711.1  \n",
       "48   snoRNA_ENSG00000281859.1  lncRNA_ENSG00000279302.3  \n",
       "49   lncRNA_ENSG00000260772.1  lncRNA_ENSG00000233895.1  "
      ]
     },
     "execution_count": 779,
     "metadata": {},
     "output_type": "execute_result"
    }
   ],
   "source": [
    "tablefeature_split"
   ]
  },
  {
   "cell_type": "code",
   "execution_count": null,
   "metadata": {},
   "outputs": [],
   "source": [
    "np.intersect1d(tablefeature.iloc[:,2],tablefeature.iloc[:,3])"
   ]
  },
  {
   "cell_type": "code",
   "execution_count": null,
   "metadata": {},
   "outputs": [],
   "source": [
    "np.intersect1d(tablefeature.iloc[:,4],tablefeature.iloc[:,5])"
   ]
  },
  {
   "cell_type": "code",
   "execution_count": null,
   "metadata": {},
   "outputs": [],
   "source": [
    "np.intersect1d(tablefeature_split.iloc[:,0],tablefeature_split.iloc[:,3])"
   ]
  },
  {
   "cell_type": "code",
   "execution_count": null,
   "metadata": {},
   "outputs": [],
   "source": [
    "uniquefeature, unicounts  = np.unique(tablefeature,return_counts=True)\n",
    "uniquefeature[unicounts>1]\n",
    "unicounts[unicounts>1]"
   ]
  },
  {
   "cell_type": "code",
   "execution_count": null,
   "metadata": {},
   "outputs": [],
   "source": [
    "np.concatenate((uniquefeature[unicounts>1].reshape(-1,1),unicounts[unicounts>1].reshape(-1,1)),axis=1).shape"
   ]
  },
  {
   "cell_type": "code",
   "execution_count": null,
   "metadata": {},
   "outputs": [],
   "source": [
    "pd.DataFrame(np.concatenate((uniquefeature[np.argsort(-unicounts)].reshape(-1,1),\n",
    "                             unicounts[np.argsort(-unicounts)].reshape(-1,1)),axis=1)[:-2].reshape(-1,6)\n",
    "            ,columns=['geneid','frequency','geneid','frequency','geneid','frequency'])"
   ]
  },
  {
   "cell_type": "code",
   "execution_count": null,
   "metadata": {
    "scrolled": false
   },
   "outputs": [],
   "source": [
    "for i in range(6):\n",
    "    for j in np.setdiff1d(np.arange(0,6),i):\n",
    "        print (['Full A','Full HCC','Bin A','Bin HCC','Mix A','Mix HCC'][i],['Full A','Full HCC','Bin A','Bin HCC','Mix A','Mix HCC'][j])\n",
    "        print (np.intersect1d(tablefeature.iloc[:,i],tablefeature.iloc[:,j]))\n",
    "        print ('\\n')"
   ]
  },
  {
   "cell_type": "code",
   "execution_count": null,
   "metadata": {},
   "outputs": [],
   "source": []
  }
 ],
 "metadata": {
  "hide_input": false,
  "kernelspec": {
   "display_name": "Python 3",
   "language": "python",
   "name": "python3"
  },
  "language_info": {
   "codemirror_mode": {
    "name": "ipython",
    "version": 3
   },
   "file_extension": ".py",
   "mimetype": "text/x-python",
   "name": "python",
   "nbconvert_exporter": "python",
   "pygments_lexer": "ipython3",
   "version": "3.6.4"
  },
  "toc": {
   "base_numbering": 1,
   "nav_menu": {},
   "number_sections": true,
   "sideBar": true,
   "skip_h1_title": false,
   "title_cell": "Table of Contents",
   "title_sidebar": "Contents",
   "toc_cell": false,
   "toc_position": {
    "height": "calc(100% - 180px)",
    "left": "10px",
    "top": "150px",
    "width": "224px"
   },
   "toc_section_display": true,
   "toc_window_display": false
  }
 },
 "nbformat": 4,
 "nbformat_minor": 2
}
