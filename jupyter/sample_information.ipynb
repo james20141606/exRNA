{
 "cells": [
  {
   "cell_type": "code",
   "execution_count": 1,
   "metadata": {},
   "outputs": [
    {
     "name": "stdout",
     "output_type": "stream",
     "text": [
      "Populating the interactive namespace from numpy and matplotlib\n"
     ]
    }
   ],
   "source": [
    "%pylab inline"
   ]
  },
  {
   "cell_type": "code",
   "execution_count": 2,
   "metadata": {},
   "outputs": [
    {
     "name": "stdout",
     "output_type": "stream",
     "text": [
      "/Share/home/shibinbin/projects/exRNA\n"
     ]
    }
   ],
   "source": [
    "cd .."
   ]
  },
  {
   "cell_type": "code",
   "execution_count": 3,
   "metadata": {},
   "outputs": [],
   "source": [
    "import pandas as pd"
   ]
  },
  {
   "cell_type": "markdown",
   "metadata": {},
   "source": [
    "## Lulab exRNA"
   ]
  },
  {
   "cell_type": "code",
   "execution_count": 50,
   "metadata": {},
   "outputs": [
    {
     "data": {
      "text/plain": [
       "17402567-B    stage_A\n",
       "249136-B      stage_A\n",
       "385247-B      stage_A\n",
       "497411-B      stage_A\n",
       "498221-B      stage_A\n",
       "dtype: object"
      ]
     },
     "execution_count": 50,
     "metadata": {},
     "output_type": "execute_result"
    }
   ],
   "source": [
    "sample_info = pd.read_table('metadata/sample_info.lulab.txt', header=None,\n",
    "                              names=['sample_id', 'group', 'stage'], index_col=0)\n",
    "sample_info['stage'].fillna('Normal', inplace=True)\n",
    "sample_info['sample_name'] = sample_info.index.to_series() + '|' + sample_info['group'] + '|' + sample_info['stage']\n",
    "sample_info.head()\n",
    "\n",
    "#sample_ids_hcc = sample_info.query('group == \"HCC_before\"').index.tolist()\n",
    "sample_ids_hcc = sample_info.query('group == \"HCC_before\"').loc[:, 'stage']\n",
    "sample_ids_normal = sample_info.query('(group == \"Normal\") or (group == \"HBV\")').index.tolist()\n",
    "sample_classes = pd.concat([sample_ids_hcc,\n",
    "           pd.Series(np.full(len(sample_ids_normal), 'Normal'), index=sample_ids_normal)])\n",
    "#sample_classes.index = sample_info.loc[sample_classes.index.values, 'sample_name']\n",
    "sample_classes.to_csv('metadata/sample_classes.txt', sep='\\t')\n",
    "sample_classes.head()"
   ]
  },
  {
   "cell_type": "markdown",
   "metadata": {},
   "source": [
    "## GSE113994 (PNAS2018)"
   ]
  },
  {
   "cell_type": "code",
   "execution_count": 78,
   "metadata": {},
   "outputs": [],
   "source": [
    "sample_info = pd.read_excel('metadata/Published_Plasma_exRNA.xlsx', 'GSE113994')\n",
    "sample_classes = sample_info.loc[:, ['Accession_SRR', 'Disease_status', 'Source/Biofluid']].groupby('Accession_SRR').head(1)\n",
    "sample_classes = pd.Series(sample_classes.loc[:, 'Disease_status'].values + '|' + sample_classes.loc[:, 'Source/Biofluid'].values, \n",
    "                           index=sample_classes.loc[:, 'Accession_SRR'].values)\n",
    "sample_classes.to_csv('metadata/sample_classes.PNAS2018.txt', header=None, index=True, sep='\\t')\n",
    "sample_classes.index.to_series().to_csv('metadata/sample_ids.PNAS2018.txt', header=False, index=False)\n",
    "\n",
    "# Plasma/Serum\n",
    "for source in ('Plasma', 'Serum'):\n",
    "    sample_classes = sample_info.loc[:, ['Accession_SRR', 'Disease_status', 'Source/Biofluid']].groupby('Accession_SRR').head(1)\n",
    "    sample_classes = sample_classes.loc[sample_classes.loc[:, 'Source/Biofluid'] == source]\n",
    "    sample_classes = pd.Series(sample_classes.loc[:, 'Disease_status'].values, \n",
    "                               index=sample_classes.loc[:, 'Accession_SRR'].values)\n",
    "    sample_classes.to_csv('metadata/sample_classes.PNAS2018_{}.txt'.format(source), header=None, index=True, sep='\\t')\n",
    "    sample_classes.index.to_series().to_csv('metadata/sample_ids.PNAS2018_{}.txt'.format(source), header=False, index=False)"
   ]
  },
  {
   "cell_type": "markdown",
   "metadata": {},
   "source": [
    "## GSE71008"
   ]
  },
  {
   "cell_type": "code",
   "execution_count": 52,
   "metadata": {},
   "outputs": [
    {
     "data": {
      "text/html": [
       "<div>\n",
       "<style scoped>\n",
       "    .dataframe tbody tr th:only-of-type {\n",
       "        vertical-align: middle;\n",
       "    }\n",
       "\n",
       "    .dataframe tbody tr th {\n",
       "        vertical-align: top;\n",
       "    }\n",
       "\n",
       "    .dataframe thead th {\n",
       "        text-align: right;\n",
       "    }\n",
       "</style>\n",
       "<table border=\"1\" class=\"dataframe\">\n",
       "  <thead>\n",
       "    <tr style=\"text-align: right;\">\n",
       "      <th></th>\n",
       "      <th>Accession_BioProject</th>\n",
       "      <th>Accession_GEO</th>\n",
       "      <th>Accession_SRR</th>\n",
       "      <th>Sample_name</th>\n",
       "      <th>Species</th>\n",
       "      <th>Disease_status</th>\n",
       "      <th>Source/Biofluid</th>\n",
       "      <th>Molecular</th>\n",
       "      <th>Sequencing_strategy</th>\n",
       "      <th>Library_construction</th>\n",
       "      <th>...</th>\n",
       "      <th>lncRNA</th>\n",
       "      <th>Unnamed: 35</th>\n",
       "      <th>mRNA</th>\n",
       "      <th>Unnamed: 37</th>\n",
       "      <th>TUCP</th>\n",
       "      <th>Unnamed: 39</th>\n",
       "      <th>Other_genome_region</th>\n",
       "      <th>Unnamed: 41</th>\n",
       "      <th>NonHuman</th>\n",
       "      <th>Unnamed: 43</th>\n",
       "    </tr>\n",
       "  </thead>\n",
       "  <tbody>\n",
       "    <tr>\n",
       "      <th>0</th>\n",
       "      <td>-</td>\n",
       "      <td>GSM1825068</td>\n",
       "      <td>SRR2105311</td>\n",
       "      <td>Sample_1S3</td>\n",
       "      <td>Homo sapiens</td>\n",
       "      <td>Colorectal Cancer</td>\n",
       "      <td>Plasma</td>\n",
       "      <td>exosomal RNA</td>\n",
       "      <td>SE50 (HiSeq2000)</td>\n",
       "      <td>NEBNext Multiplex Small RNA Library Prep Set f...</td>\n",
       "      <td>...</td>\n",
       "      <td>NaN</td>\n",
       "      <td>NaN</td>\n",
       "      <td>NaN</td>\n",
       "      <td>NaN</td>\n",
       "      <td>NaN</td>\n",
       "      <td>NaN</td>\n",
       "      <td>NaN</td>\n",
       "      <td>NaN</td>\n",
       "      <td>NaN</td>\n",
       "      <td>NaN</td>\n",
       "    </tr>\n",
       "    <tr>\n",
       "      <th>1</th>\n",
       "      <td>-</td>\n",
       "      <td>GSM1825068</td>\n",
       "      <td>SRR2105312</td>\n",
       "      <td>Sample_1S3</td>\n",
       "      <td>Homo sapiens</td>\n",
       "      <td>Colorectal Cancer</td>\n",
       "      <td>Plasma</td>\n",
       "      <td>exosomal RNA</td>\n",
       "      <td>SE50 (HiSeq2000)</td>\n",
       "      <td>NEBNext Multiplex Small RNA Library Prep Set f...</td>\n",
       "      <td>...</td>\n",
       "      <td>NaN</td>\n",
       "      <td>NaN</td>\n",
       "      <td>NaN</td>\n",
       "      <td>NaN</td>\n",
       "      <td>NaN</td>\n",
       "      <td>NaN</td>\n",
       "      <td>NaN</td>\n",
       "      <td>NaN</td>\n",
       "      <td>NaN</td>\n",
       "      <td>NaN</td>\n",
       "    </tr>\n",
       "    <tr>\n",
       "      <th>2</th>\n",
       "      <td>-</td>\n",
       "      <td>GSM1825069</td>\n",
       "      <td>SRR2105313</td>\n",
       "      <td>Sample_1S6</td>\n",
       "      <td>Homo sapiens</td>\n",
       "      <td>Colorectal Cancer</td>\n",
       "      <td>Plasma</td>\n",
       "      <td>exosomal RNA</td>\n",
       "      <td>SE50 (HiSeq2000)</td>\n",
       "      <td>NEBNext Multiplex Small RNA Library Prep Set f...</td>\n",
       "      <td>...</td>\n",
       "      <td>NaN</td>\n",
       "      <td>NaN</td>\n",
       "      <td>NaN</td>\n",
       "      <td>NaN</td>\n",
       "      <td>NaN</td>\n",
       "      <td>NaN</td>\n",
       "      <td>NaN</td>\n",
       "      <td>NaN</td>\n",
       "      <td>NaN</td>\n",
       "      <td>NaN</td>\n",
       "    </tr>\n",
       "    <tr>\n",
       "      <th>3</th>\n",
       "      <td>-</td>\n",
       "      <td>GSM1825069</td>\n",
       "      <td>SRR2105314</td>\n",
       "      <td>Sample_1S6</td>\n",
       "      <td>Homo sapiens</td>\n",
       "      <td>Colorectal Cancer</td>\n",
       "      <td>Plasma</td>\n",
       "      <td>exosomal RNA</td>\n",
       "      <td>SE50 (HiSeq2000)</td>\n",
       "      <td>NEBNext Multiplex Small RNA Library Prep Set f...</td>\n",
       "      <td>...</td>\n",
       "      <td>NaN</td>\n",
       "      <td>NaN</td>\n",
       "      <td>NaN</td>\n",
       "      <td>NaN</td>\n",
       "      <td>NaN</td>\n",
       "      <td>NaN</td>\n",
       "      <td>NaN</td>\n",
       "      <td>NaN</td>\n",
       "      <td>NaN</td>\n",
       "      <td>NaN</td>\n",
       "    </tr>\n",
       "    <tr>\n",
       "      <th>4</th>\n",
       "      <td>-</td>\n",
       "      <td>GSM1825070</td>\n",
       "      <td>SRR2105315</td>\n",
       "      <td>Sample_1S9</td>\n",
       "      <td>Homo sapiens</td>\n",
       "      <td>Colorectal Cancer</td>\n",
       "      <td>Plasma</td>\n",
       "      <td>exosomal RNA</td>\n",
       "      <td>SE50 (HiSeq2000)</td>\n",
       "      <td>NEBNext Multiplex Small RNA Library Prep Set f...</td>\n",
       "      <td>...</td>\n",
       "      <td>NaN</td>\n",
       "      <td>NaN</td>\n",
       "      <td>NaN</td>\n",
       "      <td>NaN</td>\n",
       "      <td>NaN</td>\n",
       "      <td>NaN</td>\n",
       "      <td>NaN</td>\n",
       "      <td>NaN</td>\n",
       "      <td>NaN</td>\n",
       "      <td>NaN</td>\n",
       "    </tr>\n",
       "  </tbody>\n",
       "</table>\n",
       "<p>5 rows × 44 columns</p>\n",
       "</div>"
      ],
      "text/plain": [
       "  Accession_BioProject Accession_GEO Accession_SRR Sample_name       Species  \\\n",
       "0                    -    GSM1825068    SRR2105311  Sample_1S3  Homo sapiens   \n",
       "1                    -    GSM1825068    SRR2105312  Sample_1S3  Homo sapiens   \n",
       "2                    -    GSM1825069    SRR2105313  Sample_1S6  Homo sapiens   \n",
       "3                    -    GSM1825069    SRR2105314  Sample_1S6  Homo sapiens   \n",
       "4                    -    GSM1825070    SRR2105315  Sample_1S9  Homo sapiens   \n",
       "\n",
       "      Disease_status Source/Biofluid     Molecular Sequencing_strategy  \\\n",
       "0  Colorectal Cancer          Plasma  exosomal RNA    SE50 (HiSeq2000)   \n",
       "1  Colorectal Cancer          Plasma  exosomal RNA    SE50 (HiSeq2000)   \n",
       "2  Colorectal Cancer          Plasma  exosomal RNA    SE50 (HiSeq2000)   \n",
       "3  Colorectal Cancer          Plasma  exosomal RNA    SE50 (HiSeq2000)   \n",
       "4  Colorectal Cancer          Plasma  exosomal RNA    SE50 (HiSeq2000)   \n",
       "\n",
       "                                Library_construction     ...      lncRNA  \\\n",
       "0  NEBNext Multiplex Small RNA Library Prep Set f...     ...         NaN   \n",
       "1  NEBNext Multiplex Small RNA Library Prep Set f...     ...         NaN   \n",
       "2  NEBNext Multiplex Small RNA Library Prep Set f...     ...         NaN   \n",
       "3  NEBNext Multiplex Small RNA Library Prep Set f...     ...         NaN   \n",
       "4  NEBNext Multiplex Small RNA Library Prep Set f...     ...         NaN   \n",
       "\n",
       "   Unnamed: 35 mRNA Unnamed: 37 TUCP  Unnamed: 39  Other_genome_region  \\\n",
       "0          NaN  NaN         NaN  NaN          NaN                  NaN   \n",
       "1          NaN  NaN         NaN  NaN          NaN                  NaN   \n",
       "2          NaN  NaN         NaN  NaN          NaN                  NaN   \n",
       "3          NaN  NaN         NaN  NaN          NaN                  NaN   \n",
       "4          NaN  NaN         NaN  NaN          NaN                  NaN   \n",
       "\n",
       "   Unnamed: 41  NonHuman  Unnamed: 43  \n",
       "0          NaN       NaN          NaN  \n",
       "1          NaN       NaN          NaN  \n",
       "2          NaN       NaN          NaN  \n",
       "3          NaN       NaN          NaN  \n",
       "4          NaN       NaN          NaN  \n",
       "\n",
       "[5 rows x 44 columns]"
      ]
     },
     "execution_count": 52,
     "metadata": {},
     "output_type": "execute_result"
    }
   ],
   "source": [
    "sample_info = pd.read_excel('metadata/Published_Plasma_exRNA.xlsx', 'GSE71008')\n",
    "sample_info.head()"
   ]
  },
  {
   "cell_type": "code",
   "execution_count": 57,
   "metadata": {},
   "outputs": [
    {
     "data": {
      "text/plain": [
       "Sample_1S3     Colorectal Cancer\n",
       "Sample_1S6     Colorectal Cancer\n",
       "Sample_1S9     Colorectal Cancer\n",
       "Sample_1S12    Colorectal Cancer\n",
       "Sample_1S15    Colorectal Cancer\n",
       "dtype: object"
      ]
     },
     "execution_count": 57,
     "metadata": {},
     "output_type": "execute_result"
    }
   ],
   "source": [
    "sample_classes = sample_info.loc[:, ['Sample_name', 'Disease_status']].groupby('Sample_name').head(1)\n",
    "sample_classes = pd.Series(sample_classes.loc[:, 'Disease_status'].values, \n",
    "                           index=sample_classes.loc[:, 'Sample_name'].values)\n",
    "sample_classes.to_csv('metadata/sample_classes.GSE71008.txt', header=None, index=True, sep='\\t')\n",
    "sample_classes.head()"
   ]
  },
  {
   "cell_type": "markdown",
   "metadata": {},
   "source": [
    "## exoRBase"
   ]
  },
  {
   "cell_type": "code",
   "execution_count": 60,
   "metadata": {},
   "outputs": [
    {
     "name": "stdout",
     "output_type": "stream",
     "text": [
      "number of samples: 85\n"
     ]
    },
    {
     "data": {
      "text/html": [
       "<div>\n",
       "<style scoped>\n",
       "    .dataframe tbody tr th:only-of-type {\n",
       "        vertical-align: middle;\n",
       "    }\n",
       "\n",
       "    .dataframe tbody tr th {\n",
       "        vertical-align: top;\n",
       "    }\n",
       "\n",
       "    .dataframe thead th {\n",
       "        text-align: right;\n",
       "    }\n",
       "</style>\n",
       "<table border=\"1\" class=\"dataframe\">\n",
       "  <thead>\n",
       "    <tr style=\"text-align: right;\">\n",
       "      <th></th>\n",
       "      <th>Accession_SRR</th>\n",
       "      <th>Disease_status</th>\n",
       "    </tr>\n",
       "  </thead>\n",
       "  <tbody>\n",
       "    <tr>\n",
       "      <th>0</th>\n",
       "      <td>SRR5712482</td>\n",
       "      <td>Healthy</td>\n",
       "    </tr>\n",
       "    <tr>\n",
       "      <th>1</th>\n",
       "      <td>SRR5712483</td>\n",
       "      <td>Healthy</td>\n",
       "    </tr>\n",
       "    <tr>\n",
       "      <th>2</th>\n",
       "      <td>SRR5712484</td>\n",
       "      <td>Healthy</td>\n",
       "    </tr>\n",
       "    <tr>\n",
       "      <th>3</th>\n",
       "      <td>SRR5712485</td>\n",
       "      <td>Healthy</td>\n",
       "    </tr>\n",
       "    <tr>\n",
       "      <th>4</th>\n",
       "      <td>SRR5712486</td>\n",
       "      <td>Healthy</td>\n",
       "    </tr>\n",
       "  </tbody>\n",
       "</table>\n",
       "</div>"
      ],
      "text/plain": [
       "  Accession_SRR Disease_status\n",
       "0    SRR5712482        Healthy\n",
       "1    SRR5712483        Healthy\n",
       "2    SRR5712484        Healthy\n",
       "3    SRR5712485        Healthy\n",
       "4    SRR5712486        Healthy"
      ]
     },
     "execution_count": 60,
     "metadata": {},
     "output_type": "execute_result"
    }
   ],
   "source": [
    "sample_info = []\n",
    "for accession in ('GSE100206', 'GSE100207', 'GSE100063', 'GSE99985', 'GSE100232'):\n",
    "    df = pd.read_excel('metadata/Published_Plasma_exRNA.xlsx', accession)\n",
    "    sample_info.append(df.loc[:, ['Accession_SRR', 'Disease_status']])\n",
    "sample_info = pd.concat(sample_info, axis=0)\n",
    "sample_info = sample_info.dropna()\n",
    "print('number of samples: {}'.format(sample_info.shape[0]))\n",
    "sample_info.head()"
   ]
  },
  {
   "cell_type": "code",
   "execution_count": 67,
   "metadata": {},
   "outputs": [
    {
     "data": {
      "text/plain": [
       "SRR5712482    Healthy\n",
       "SRR5712483    Healthy\n",
       "SRR5712484    Healthy\n",
       "SRR5712485    Healthy\n",
       "SRR5712486    Healthy\n",
       "dtype: object"
      ]
     },
     "execution_count": 67,
     "metadata": {},
     "output_type": "execute_result"
    }
   ],
   "source": [
    "sample_classes = pd.Series(sample_info.loc[:, 'Disease_status'].values, \n",
    "                           index=sample_info.loc[:, 'Accession_SRR'].values)\n",
    "sample_classes.to_csv('metadata/sample_classes.exoRBase.txt', header=False, index=True, sep='\\t')\n",
    "sample_classes.index.to_series().to_csv('metadata/sample_ids.exoRBase.txt', header=False, index=False)\n",
    "sample_classes.head()"
   ]
  },
  {
   "cell_type": "markdown",
   "metadata": {},
   "source": [
    "## GSE112343 (bioRxiv2018)"
   ]
  },
  {
   "cell_type": "code",
   "execution_count": 93,
   "metadata": {},
   "outputs": [],
   "source": [
    "sample_info = pd.read_excel('metadata/Published_Plasma_exRNA.xlsx', 'GSE112343')\n",
    "sample_info.dropna(subset=['Source/Biofluid'], inplace=True)\n",
    "sample_classes = sample_info.loc[:, ['Accession_SRR', 'Disease_status']].groupby('Accession_SRR').head(1)\n",
    "sample_classes = pd.Series(sample_classes.loc[:, 'Disease_status'].values, \n",
    "                           index=sample_classes.loc[:, 'Accession_SRR'].values)\n",
    "sample_classes.to_csv('metadata/sample_classes.bioRxiv2018.txt', header=None, index=True, sep='\\t')\n",
    "sample_classes.index.to_series().to_csv('metadata/sample_ids.bioRxiv2018.txt', header=False, index=False)\n",
    "# separate dataset by source\n",
    "sources = sample_info.loc[:, 'Source/Biofluid'].unique()\n",
    "renamed_sources = [s.replace(' ', '_') for s in sources]\n",
    "for source, renamed_source in zip(sources, renamed_sources):\n",
    "        sample_classes = sample_info.loc[:, ['Accession_SRR', 'Disease_status', 'Source/Biofluid']].groupby('Accession_SRR').head(1)\n",
    "        sample_classes = sample_classes.loc[sample_classes.loc[:, 'Source/Biofluid'] == source]\n",
    "        sample_classes = pd.Series(sample_classes.loc[:, 'Disease_status'].values, \n",
    "                                   index=sample_classes.loc[:, 'Accession_SRR'].values)\n",
    "        sample_classes.to_csv('metadata/sample_classes.bioRxiv2018_{}.txt'.format(renamed_source), header=None, index=True, sep='\\t')\n",
    "        sample_classes.index.to_series().to_csv('metadata/sample_ids.bioRxiv2018_{}.txt'.format(renamed_source), header=False, index=False)\n"
   ]
  },
  {
   "cell_type": "code",
   "execution_count": 88,
   "metadata": {},
   "outputs": [
    {
     "data": {
      "text/plain": [
       "array(['Plasma', 'Seminal fluid', 'Urine', 'Serum',\n",
       "       'Bronchoalveolar lavage fluid sample', 'Bile', 'Amniotic fluid',\n",
       "       'Cerebrospinal fluid', 'Ovarian Follicle Fluid'], dtype=object)"
      ]
     },
     "execution_count": 88,
     "metadata": {},
     "output_type": "execute_result"
    }
   ],
   "source": [
    "sample_info.loc[:, 'Source/Biofluid'].unique()"
   ]
  },
  {
   "cell_type": "code",
   "execution_count": 91,
   "metadata": {},
   "outputs": [
    {
     "data": {
      "text/plain": [
       "['Plasma',\n",
       " 'Seminal_fluid',\n",
       " 'Urine',\n",
       " 'Serum',\n",
       " 'Bronchoalveolar_lavage_fluid_sample',\n",
       " 'Bile',\n",
       " 'Amniotic_fluid',\n",
       " 'Cerebrospinal_fluid',\n",
       " 'Ovarian_Follicle_Fluid']"
      ]
     },
     "execution_count": 91,
     "metadata": {},
     "output_type": "execute_result"
    }
   ],
   "source": [
    "sources = sample_info.loc[:, 'Source/Biofluid'].unique()\n",
    "renamed_sources = [s.replace(' ', '_') for s in sources]\n",
    "renamed_sources"
   ]
  },
  {
   "cell_type": "code",
   "execution_count": null,
   "metadata": {},
   "outputs": [],
   "source": []
  }
 ],
 "metadata": {
  "kernelspec": {
   "display_name": "Python 3",
   "language": "python",
   "name": "python3"
  },
  "language_info": {
   "codemirror_mode": {
    "name": "ipython",
    "version": 3
   },
   "file_extension": ".py",
   "mimetype": "text/x-python",
   "name": "python",
   "nbconvert_exporter": "python",
   "pygments_lexer": "ipython3",
   "version": "3.6.3"
  },
  "toc": {
   "base_numbering": 1,
   "nav_menu": {},
   "number_sections": true,
   "sideBar": true,
   "skip_h1_title": false,
   "title_cell": "Table of Contents",
   "title_sidebar": "Contents",
   "toc_cell": false,
   "toc_position": {},
   "toc_section_display": true,
   "toc_window_display": true
  }
 },
 "nbformat": 4,
 "nbformat_minor": 2
}
