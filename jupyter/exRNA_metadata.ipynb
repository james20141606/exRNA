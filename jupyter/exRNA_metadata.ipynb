{
 "cells": [
  {
   "cell_type": "code",
   "execution_count": 1,
   "metadata": {},
   "outputs": [
    {
     "name": "stdout",
     "output_type": "stream",
     "text": [
      "Populating the interactive namespace from numpy and matplotlib\n"
     ]
    }
   ],
   "source": [
    "%pylab inline"
   ]
  },
  {
   "cell_type": "code",
   "execution_count": 2,
   "metadata": {},
   "outputs": [
    {
     "name": "stdout",
     "output_type": "stream",
     "text": [
      "/Share/home/shibinbin/projects/exRNA\n"
     ]
    }
   ],
   "source": [
    "cd .."
   ]
  },
  {
   "cell_type": "code",
   "execution_count": 3,
   "metadata": {},
   "outputs": [],
   "source": [
    "import pandas as pd"
   ]
  },
  {
   "cell_type": "code",
   "execution_count": 12,
   "metadata": {},
   "outputs": [
    {
     "data": {
      "text/html": [
       "<div>\n",
       "<style scoped>\n",
       "    .dataframe tbody tr th:only-of-type {\n",
       "        vertical-align: middle;\n",
       "    }\n",
       "\n",
       "    .dataframe tbody tr th {\n",
       "        vertical-align: top;\n",
       "    }\n",
       "\n",
       "    .dataframe thead th {\n",
       "        text-align: right;\n",
       "    }\n",
       "</style>\n",
       "<table border=\"1\" class=\"dataframe\">\n",
       "  <thead>\n",
       "    <tr style=\"text-align: right;\">\n",
       "      <th></th>\n",
       "      <th>Accession_BioProject</th>\n",
       "      <th>Accession_GEO</th>\n",
       "      <th>Accession_SRR</th>\n",
       "      <th>Sample_name</th>\n",
       "      <th>Species</th>\n",
       "      <th>Disease_status</th>\n",
       "      <th>Source/Biofluid</th>\n",
       "      <th>Molecular</th>\n",
       "      <th>Sequencing_strategy</th>\n",
       "      <th>Library_construction</th>\n",
       "      <th>Download_path</th>\n",
       "      <th>Published_year</th>\n",
       "      <th>Journal</th>\n",
       "      <th>reference</th>\n",
       "    </tr>\n",
       "  </thead>\n",
       "  <tbody>\n",
       "    <tr>\n",
       "      <th>0</th>\n",
       "      <td>PRJNA454814</td>\n",
       "      <td>GSE113994</td>\n",
       "      <td>SRR7101178</td>\n",
       "      <td>-</td>\n",
       "      <td>Homo sapiens</td>\n",
       "      <td>Healthy</td>\n",
       "      <td>Plasma</td>\n",
       "      <td>cell-free RNA</td>\n",
       "      <td>SE50 (Illumina HiSeq 2000)</td>\n",
       "      <td>sRNA-derived Home-made methods</td>\n",
       "      <td>https://sra-download.ncbi.nlm.nih.gov/traces/s...</td>\n",
       "      <td>2018</td>\n",
       "      <td>PNAS</td>\n",
       "      <td>Human plasma and serum extracellular small RNA...</td>\n",
       "    </tr>\n",
       "    <tr>\n",
       "      <th>1</th>\n",
       "      <td>PRJNA454814</td>\n",
       "      <td>GSE113994</td>\n",
       "      <td>SRR7101180</td>\n",
       "      <td>-</td>\n",
       "      <td>Homo sapiens</td>\n",
       "      <td>Healthy</td>\n",
       "      <td>Plasma</td>\n",
       "      <td>cell-free RNA</td>\n",
       "      <td>SE50 (Illumina HiSeq 2000)</td>\n",
       "      <td>sRNA-derived Home-made methods</td>\n",
       "      <td>https://sra-download.ncbi.nlm.nih.gov/traces/s...</td>\n",
       "      <td>2018</td>\n",
       "      <td>PNAS</td>\n",
       "      <td>Human plasma and serum extracellular small RNA...</td>\n",
       "    </tr>\n",
       "    <tr>\n",
       "      <th>2</th>\n",
       "      <td>PRJNA454814</td>\n",
       "      <td>GSE113994</td>\n",
       "      <td>SRR7101181</td>\n",
       "      <td>-</td>\n",
       "      <td>Homo sapiens</td>\n",
       "      <td>Healthy</td>\n",
       "      <td>Plasma</td>\n",
       "      <td>cell-free RNA</td>\n",
       "      <td>SE50 (Illumina HiSeq 2000)</td>\n",
       "      <td>sRNA-derived Home-made methods</td>\n",
       "      <td>https://sra-download.ncbi.nlm.nih.gov/traces/s...</td>\n",
       "      <td>2018</td>\n",
       "      <td>PNAS</td>\n",
       "      <td>Human plasma and serum extracellular small RNA...</td>\n",
       "    </tr>\n",
       "    <tr>\n",
       "      <th>3</th>\n",
       "      <td>PRJNA454814</td>\n",
       "      <td>GSE113994</td>\n",
       "      <td>SRR7101184</td>\n",
       "      <td>-</td>\n",
       "      <td>Homo sapiens</td>\n",
       "      <td>Healthy</td>\n",
       "      <td>Plasma</td>\n",
       "      <td>cell-free RNA</td>\n",
       "      <td>SE50 (Illumina HiSeq 2000)</td>\n",
       "      <td>sRNA-derived Home-made methods</td>\n",
       "      <td>https://sra-download.ncbi.nlm.nih.gov/traces/s...</td>\n",
       "      <td>2018</td>\n",
       "      <td>PNAS</td>\n",
       "      <td>Human plasma and serum extracellular small RNA...</td>\n",
       "    </tr>\n",
       "    <tr>\n",
       "      <th>4</th>\n",
       "      <td>PRJNA454814</td>\n",
       "      <td>GSE113994</td>\n",
       "      <td>SRR7101187</td>\n",
       "      <td>-</td>\n",
       "      <td>Homo sapiens</td>\n",
       "      <td>Healthy</td>\n",
       "      <td>Plasma</td>\n",
       "      <td>cell-free RNA</td>\n",
       "      <td>SE50 (Illumina HiSeq 2000)</td>\n",
       "      <td>sRNA-derived Home-made methods</td>\n",
       "      <td>https://sra-download.ncbi.nlm.nih.gov/traces/s...</td>\n",
       "      <td>2018</td>\n",
       "      <td>PNAS</td>\n",
       "      <td>Human plasma and serum extracellular small RNA...</td>\n",
       "    </tr>\n",
       "  </tbody>\n",
       "</table>\n",
       "</div>"
      ],
      "text/plain": [
       "  Accession_BioProject Accession_GEO Accession_SRR Sample_name       Species  \\\n",
       "0          PRJNA454814     GSE113994    SRR7101178           -  Homo sapiens   \n",
       "1          PRJNA454814     GSE113994    SRR7101180           -  Homo sapiens   \n",
       "2          PRJNA454814     GSE113994    SRR7101181           -  Homo sapiens   \n",
       "3          PRJNA454814     GSE113994    SRR7101184           -  Homo sapiens   \n",
       "4          PRJNA454814     GSE113994    SRR7101187           -  Homo sapiens   \n",
       "\n",
       "  Disease_status Source/Biofluid      Molecular         Sequencing_strategy  \\\n",
       "0        Healthy          Plasma  cell-free RNA  SE50 (Illumina HiSeq 2000)   \n",
       "1        Healthy          Plasma  cell-free RNA  SE50 (Illumina HiSeq 2000)   \n",
       "2        Healthy          Plasma  cell-free RNA  SE50 (Illumina HiSeq 2000)   \n",
       "3        Healthy          Plasma  cell-free RNA  SE50 (Illumina HiSeq 2000)   \n",
       "4        Healthy          Plasma  cell-free RNA  SE50 (Illumina HiSeq 2000)   \n",
       "\n",
       "             Library_construction  \\\n",
       "0  sRNA-derived Home-made methods   \n",
       "1  sRNA-derived Home-made methods   \n",
       "2  sRNA-derived Home-made methods   \n",
       "3  sRNA-derived Home-made methods   \n",
       "4  sRNA-derived Home-made methods   \n",
       "\n",
       "                                       Download_path  Published_year Journal  \\\n",
       "0  https://sra-download.ncbi.nlm.nih.gov/traces/s...            2018    PNAS   \n",
       "1  https://sra-download.ncbi.nlm.nih.gov/traces/s...            2018    PNAS   \n",
       "2  https://sra-download.ncbi.nlm.nih.gov/traces/s...            2018    PNAS   \n",
       "3  https://sra-download.ncbi.nlm.nih.gov/traces/s...            2018    PNAS   \n",
       "4  https://sra-download.ncbi.nlm.nih.gov/traces/s...            2018    PNAS   \n",
       "\n",
       "                                           reference  \n",
       "0  Human plasma and serum extracellular small RNA...  \n",
       "1  Human plasma and serum extracellular small RNA...  \n",
       "2  Human plasma and serum extracellular small RNA...  \n",
       "3  Human plasma and serum extracellular small RNA...  \n",
       "4  Human plasma and serum extracellular small RNA...  "
      ]
     },
     "execution_count": 12,
     "metadata": {},
     "output_type": "execute_result"
    }
   ],
   "source": [
    "df = pd.read_excel('metadata/Published_Plasma_exRNA.xlsx', 'GSE113994')\n",
    "df.loc[:, 'Accession_BioProject'] = df.loc[:, 'Accession_BioProject'].str.strip('\\t')\n",
    "df = df.iloc[:, :-1].copy()\n",
    "df.to_csv('metadata/sample_info.GSE113994.txt', sep='\\t', index=False, header=True)\n",
    "df.head()"
   ]
  },
  {
   "cell_type": "code",
   "execution_count": null,
   "metadata": {},
   "outputs": [],
   "source": []
  }
 ],
 "metadata": {
  "kernelspec": {
   "display_name": "Python 3",
   "language": "python",
   "name": "python3"
  },
  "language_info": {
   "codemirror_mode": {
    "name": "ipython",
    "version": 3
   },
   "file_extension": ".py",
   "mimetype": "text/x-python",
   "name": "python",
   "nbconvert_exporter": "python",
   "pygments_lexer": "ipython3",
   "version": "3.6.3"
  },
  "toc": {
   "base_numbering": 1,
   "nav_menu": {},
   "number_sections": true,
   "sideBar": true,
   "skip_h1_title": false,
   "title_cell": "Table of Contents",
   "title_sidebar": "Contents",
   "toc_cell": false,
   "toc_position": {},
   "toc_section_display": true,
   "toc_window_display": false
  }
 },
 "nbformat": 4,
 "nbformat_minor": 2
}
