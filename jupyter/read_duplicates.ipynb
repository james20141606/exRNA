{
 "cells": [
  {
   "cell_type": "code",
   "execution_count": 1,
   "metadata": {},
   "outputs": [
    {
     "name": "stdout",
     "output_type": "stream",
     "text": [
      "Populating the interactive namespace from numpy and matplotlib\n"
     ]
    }
   ],
   "source": [
    "%pylab inline"
   ]
  },
  {
   "cell_type": "code",
   "execution_count": 65,
   "metadata": {},
   "outputs": [],
   "source": [
    "import pandas as pd\n",
    "import seaborn as sns\n",
    "sns.set_style('whitegrid')"
   ]
  },
  {
   "cell_type": "code",
   "execution_count": 3,
   "metadata": {},
   "outputs": [
    {
     "name": "stdout",
     "output_type": "stream",
     "text": [
      "/Share/home/shibinbin/projects/exRNA\n"
     ]
    }
   ],
   "source": [
    "cd .."
   ]
  },
  {
   "cell_type": "code",
   "execution_count": 70,
   "metadata": {},
   "outputs": [],
   "source": [
    "with open('metadata/sample_ids.normal_tissue.txt', 'r') as f:\n",
    "    sample_ids_tissue = f.read().split()"
   ]
  },
  {
   "cell_type": "code",
   "execution_count": 72,
   "metadata": {},
   "outputs": [
    {
     "data": {
      "text/html": [
       "<div>\n",
       "<style scoped>\n",
       "    .dataframe tbody tr th:only-of-type {\n",
       "        vertical-align: middle;\n",
       "    }\n",
       "\n",
       "    .dataframe tbody tr th {\n",
       "        vertical-align: top;\n",
       "    }\n",
       "\n",
       "    .dataframe thead th {\n",
       "        text-align: right;\n",
       "    }\n",
       "</style>\n",
       "<table border=\"1\" class=\"dataframe\">\n",
       "  <thead>\n",
       "    <tr style=\"text-align: right;\">\n",
       "      <th></th>\n",
       "      <th>sample_id</th>\n",
       "      <th>rna_type</th>\n",
       "      <th>LIBRARY</th>\n",
       "      <th>UNPAIRED_READS_EXAMINED</th>\n",
       "      <th>READ_PAIRS_EXAMINED</th>\n",
       "      <th>SECONDARY_OR_SUPPLEMENTARY_RDS</th>\n",
       "      <th>UNMAPPED_READS</th>\n",
       "      <th>UNPAIRED_READ_DUPLICATES</th>\n",
       "      <th>READ_PAIR_DUPLICATES</th>\n",
       "      <th>READ_PAIR_OPTICAL_DUPLICATES</th>\n",
       "      <th>PERCENT_DUPLICATION</th>\n",
       "      <th>ESTIMATED_LIBRARY_SIZE</th>\n",
       "      <th>is_exrna</th>\n",
       "    </tr>\n",
       "  </thead>\n",
       "  <tbody>\n",
       "    <tr>\n",
       "      <th>0</th>\n",
       "      <td>10515058-A</td>\n",
       "      <td>lncRNA</td>\n",
       "      <td>Unknown Library</td>\n",
       "      <td>449510</td>\n",
       "      <td>0</td>\n",
       "      <td>0</td>\n",
       "      <td>0</td>\n",
       "      <td>364812</td>\n",
       "      <td>0</td>\n",
       "      <td>0</td>\n",
       "      <td>0.811577</td>\n",
       "      <td>NaN</td>\n",
       "      <td>True</td>\n",
       "    </tr>\n",
       "    <tr>\n",
       "      <th>1</th>\n",
       "      <td>10515058-A</td>\n",
       "      <td>miRNA</td>\n",
       "      <td>Unknown Library</td>\n",
       "      <td>14406426</td>\n",
       "      <td>0</td>\n",
       "      <td>0</td>\n",
       "      <td>0</td>\n",
       "      <td>14400153</td>\n",
       "      <td>0</td>\n",
       "      <td>0</td>\n",
       "      <td>0.999565</td>\n",
       "      <td>NaN</td>\n",
       "      <td>True</td>\n",
       "    </tr>\n",
       "    <tr>\n",
       "      <th>2</th>\n",
       "      <td>10515058-A</td>\n",
       "      <td>mRNA</td>\n",
       "      <td>Unknown Library</td>\n",
       "      <td>193254</td>\n",
       "      <td>0</td>\n",
       "      <td>0</td>\n",
       "      <td>0</td>\n",
       "      <td>69131</td>\n",
       "      <td>0</td>\n",
       "      <td>0</td>\n",
       "      <td>0.357721</td>\n",
       "      <td>NaN</td>\n",
       "      <td>True</td>\n",
       "    </tr>\n",
       "    <tr>\n",
       "      <th>3</th>\n",
       "      <td>10515058-A</td>\n",
       "      <td>piRNA</td>\n",
       "      <td>Unknown Library</td>\n",
       "      <td>1318281</td>\n",
       "      <td>0</td>\n",
       "      <td>0</td>\n",
       "      <td>0</td>\n",
       "      <td>1286117</td>\n",
       "      <td>0</td>\n",
       "      <td>0</td>\n",
       "      <td>0.975602</td>\n",
       "      <td>NaN</td>\n",
       "      <td>True</td>\n",
       "    </tr>\n",
       "    <tr>\n",
       "      <th>4</th>\n",
       "      <td>10515058-A</td>\n",
       "      <td>snoRNA</td>\n",
       "      <td>Unknown Library</td>\n",
       "      <td>1668991</td>\n",
       "      <td>0</td>\n",
       "      <td>0</td>\n",
       "      <td>0</td>\n",
       "      <td>1664024</td>\n",
       "      <td>0</td>\n",
       "      <td>0</td>\n",
       "      <td>0.997024</td>\n",
       "      <td>NaN</td>\n",
       "      <td>True</td>\n",
       "    </tr>\n",
       "  </tbody>\n",
       "</table>\n",
       "</div>"
      ],
      "text/plain": [
       "    sample_id rna_type          LIBRARY  UNPAIRED_READS_EXAMINED  \\\n",
       "0  10515058-A   lncRNA  Unknown Library                   449510   \n",
       "1  10515058-A    miRNA  Unknown Library                 14406426   \n",
       "2  10515058-A     mRNA  Unknown Library                   193254   \n",
       "3  10515058-A    piRNA  Unknown Library                  1318281   \n",
       "4  10515058-A   snoRNA  Unknown Library                  1668991   \n",
       "\n",
       "   READ_PAIRS_EXAMINED  SECONDARY_OR_SUPPLEMENTARY_RDS  UNMAPPED_READS  \\\n",
       "0                    0                               0               0   \n",
       "1                    0                               0               0   \n",
       "2                    0                               0               0   \n",
       "3                    0                               0               0   \n",
       "4                    0                               0               0   \n",
       "\n",
       "   UNPAIRED_READ_DUPLICATES  READ_PAIR_DUPLICATES  \\\n",
       "0                    364812                     0   \n",
       "1                  14400153                     0   \n",
       "2                     69131                     0   \n",
       "3                   1286117                     0   \n",
       "4                   1664024                     0   \n",
       "\n",
       "   READ_PAIR_OPTICAL_DUPLICATES  PERCENT_DUPLICATION  ESTIMATED_LIBRARY_SIZE  \\\n",
       "0                             0             0.811577                     NaN   \n",
       "1                             0             0.999565                     NaN   \n",
       "2                             0             0.357721                     NaN   \n",
       "3                             0             0.975602                     NaN   \n",
       "4                             0             0.997024                     NaN   \n",
       "\n",
       "   is_exrna  \n",
       "0      True  \n",
       "1      True  \n",
       "2      True  \n",
       "3      True  \n",
       "4      True  "
      ]
     },
     "execution_count": 72,
     "metadata": {},
     "output_type": "execute_result"
    }
   ],
   "source": [
    "summary = pd.read_table('output/summary/mark_duplicates.txt', sep='\\t')\n",
    "summary['is_exrna'] = ~summary['sample_id'].isin(sample_ids_tissue)\n",
    "summary.head()"
   ]
  },
  {
   "cell_type": "code",
   "execution_count": 77,
   "metadata": {},
   "outputs": [
    {
     "data": {
      "text/plain": [
       "(0, 1.1)"
      ]
     },
     "execution_count": 77,
     "metadata": {},
     "output_type": "execute_result"
    },
    {
     "data": {
      "image/png": "[encoded data removed]",
      "text/plain": [
       "<matplotlib.figure.Figure at 0x7f69139574a8>"
      ]
     },
     "metadata": {},
     "output_type": "display_data"
    }
   ],
   "source": [
    "fig, ax = plt.subplots(figsize=(14, 8))\n",
    "sns.boxplot('rna_type', 'PERCENT_DUPLICATION', hue='is_exrna',\n",
    "            linewidth=1.0, data=summary,\n",
    "            flierprops={'marker': 'o','markersize': 3, 'markerfacecolor': 'k',\n",
    "                        'linewidth': 0.8},\n",
    "            boxprops={'edgecolor': 'k', 'linewidth': 0.8},\n",
    "            medianprops={'color': 'k', 'linewidth': 0.8},\n",
    "            whiskerprops={'color': 'k', 'linewidth': 0.8},\n",
    "            capprops={'color': 'k', 'linewidth': 0.8},\n",
    "            ax=ax)\n",
    "ax.set_ylim(0, 1.1)"
   ]
  },
  {
   "cell_type": "code",
   "execution_count": 25,
   "metadata": {},
   "outputs": [],
   "source": [
    "plt.boxplot?"
   ]
  },
  {
   "cell_type": "code",
   "execution_count": null,
   "metadata": {},
   "outputs": [],
   "source": []
  }
 ],
 "metadata": {
  "kernelspec": {
   "display_name": "Python 3",
   "language": "python",
   "name": "python3"
  },
  "language_info": {
   "codemirror_mode": {
    "name": "ipython",
    "version": 3
   },
   "file_extension": ".py",
   "mimetype": "text/x-python",
   "name": "python",
   "nbconvert_exporter": "python",
   "pygments_lexer": "ipython3",
   "version": "3.6.3"
  },
  "toc": {
   "base_numbering": 1,
   "nav_menu": {},
   "number_sections": true,
   "sideBar": true,
   "skip_h1_title": false,
   "title_cell": "Table of Contents",
   "title_sidebar": "Contents",
   "toc_cell": false,
   "toc_position": {},
   "toc_section_display": true,
   "toc_window_display": false
  }
 },
 "nbformat": 4,
 "nbformat_minor": 2
}
