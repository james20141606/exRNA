{
 "cells": [
  {
   "cell_type": "code",
   "execution_count": 1,
   "metadata": {},
   "outputs": [
    {
     "name": "stdout",
     "output_type": "stream",
     "text": [
      "Populating the interactive namespace from numpy and matplotlib\n"
     ]
    }
   ],
   "source": [
    "%pylab inline"
   ]
  },
  {
   "cell_type": "code",
   "execution_count": 14,
   "metadata": {},
   "outputs": [],
   "source": [
    "import pandas as pd\n",
    "import itertools\n",
    "from tqdm import tqdm_notebook"
   ]
  },
  {
   "cell_type": "code",
   "execution_count": 3,
   "metadata": {},
   "outputs": [
    {
     "name": "stdout",
     "output_type": "stream",
     "text": [
      "/Share/home/shibinbin/projects/exRNA\n"
     ]
    }
   ],
   "source": [
    "cd .."
   ]
  },
  {
   "cell_type": "code",
   "execution_count": 5,
   "metadata": {},
   "outputs": [],
   "source": [
    "with open('metadata/sample_ids.txt', 'r') as f:\n",
    "    sample_ids = f.read().split()\n",
    "\n",
    "rna_types = ['lncRNA', 'miRNA', 'mRNA', 'piRNA', 'snoRNA',\n",
    "    'snRNA', 'srpRNA', 'tRNA', 'tucpRNA', 'vaultRNA', 'Y_RNA']\n",
    "\n",
    "piranha_methods = ['ZeroTruncatedNegativeBinomial', 'ZeroTruncatedNegativeBinomialRegression',\n",
    "    'ZeroTruncatedPoisson', 'ZeroTruncatedPoissonRegression']"
   ]
  },
  {
   "cell_type": "code",
   "execution_count": 13,
   "metadata": {},
   "outputs": [
    {
     "data": {
      "text/html": [
       "<div>\n",
       "<style scoped>\n",
       "    .dataframe tbody tr th:only-of-type {\n",
       "        vertical-align: middle;\n",
       "    }\n",
       "\n",
       "    .dataframe tbody tr th {\n",
       "        vertical-align: top;\n",
       "    }\n",
       "\n",
       "    .dataframe thead th {\n",
       "        text-align: right;\n",
       "    }\n",
       "</style>\n",
       "<table border=\"1\" class=\"dataframe\">\n",
       "  <thead>\n",
       "    <tr style=\"text-align: right;\">\n",
       "      <th></th>\n",
       "      <th>rna_id</th>\n",
       "      <th>start</th>\n",
       "      <th>end</th>\n",
       "      <th>name</th>\n",
       "      <th>rpkm</th>\n",
       "      <th>strand</th>\n",
       "      <th>sample_id</th>\n",
       "      <th>method</th>\n",
       "    </tr>\n",
       "  </thead>\n",
       "  <tbody>\n",
       "    <tr>\n",
       "      <th>0</th>\n",
       "      <td>ENST00000313495.6</td>\n",
       "      <td>2070</td>\n",
       "      <td>2190</td>\n",
       "      <td>X</td>\n",
       "      <td>60.0</td>\n",
       "      <td>+</td>\n",
       "      <td>10515058-A</td>\n",
       "      <td>ZeroTruncatedNegativeBinomial</td>\n",
       "    </tr>\n",
       "    <tr>\n",
       "      <th>1</th>\n",
       "      <td>ENST00000313495.6</td>\n",
       "      <td>2370</td>\n",
       "      <td>2400</td>\n",
       "      <td>X</td>\n",
       "      <td>40.0</td>\n",
       "      <td>+</td>\n",
       "      <td>10515058-A</td>\n",
       "      <td>ZeroTruncatedNegativeBinomial</td>\n",
       "    </tr>\n",
       "    <tr>\n",
       "      <th>2</th>\n",
       "      <td>ENST00000313495.6</td>\n",
       "      <td>2490</td>\n",
       "      <td>2550</td>\n",
       "      <td>X</td>\n",
       "      <td>84.0</td>\n",
       "      <td>+</td>\n",
       "      <td>10515058-A</td>\n",
       "      <td>ZeroTruncatedNegativeBinomial</td>\n",
       "    </tr>\n",
       "    <tr>\n",
       "      <th>3</th>\n",
       "      <td>ENST00000395900.1</td>\n",
       "      <td>2490</td>\n",
       "      <td>2520</td>\n",
       "      <td>X</td>\n",
       "      <td>38.0</td>\n",
       "      <td>+</td>\n",
       "      <td>10515058-A</td>\n",
       "      <td>ZeroTruncatedNegativeBinomial</td>\n",
       "    </tr>\n",
       "    <tr>\n",
       "      <th>4</th>\n",
       "      <td>ENST00000592946.1</td>\n",
       "      <td>2850</td>\n",
       "      <td>2880</td>\n",
       "      <td>X</td>\n",
       "      <td>47.0</td>\n",
       "      <td>+</td>\n",
       "      <td>10515058-A</td>\n",
       "      <td>ZeroTruncatedNegativeBinomial</td>\n",
       "    </tr>\n",
       "  </tbody>\n",
       "</table>\n",
       "</div>"
      ],
      "text/plain": [
       "              rna_id  start   end name  rpkm strand   sample_id  \\\n",
       "0  ENST00000313495.6   2070  2190    X  60.0      +  10515058-A   \n",
       "1  ENST00000313495.6   2370  2400    X  40.0      +  10515058-A   \n",
       "2  ENST00000313495.6   2490  2550    X  84.0      +  10515058-A   \n",
       "3  ENST00000395900.1   2490  2520    X  38.0      +  10515058-A   \n",
       "4  ENST00000592946.1   2850  2880    X  47.0      +  10515058-A   \n",
       "\n",
       "                          method  \n",
       "0  ZeroTruncatedNegativeBinomial  \n",
       "1  ZeroTruncatedNegativeBinomial  \n",
       "2  ZeroTruncatedNegativeBinomial  \n",
       "3  ZeroTruncatedNegativeBinomial  \n",
       "4  ZeroTruncatedNegativeBinomial  "
      ]
     },
     "execution_count": 13,
     "metadata": {},
     "output_type": "execute_result"
    }
   ],
   "source": [
    "peaks = []\n",
    "for sample_id, method in itertools.product(sample_ids, piranha_methods):\n",
    "    df = pd.read_table('output/call_peak_piranha/{method}/{sample_id}.bed'.format(**locals()), \n",
    "                       header=None, sep='\\t')\n",
    "    if df.shape[1] < 6:\n",
    "        continue\n",
    "    df = df.iloc[:, :6].copy()\n",
    "    colnames = ['rna_id', 'start', 'end', 'name', 'rpkm', 'strand']\n",
    "    df.columns = colnames\n",
    "    #if df.shape[1] == 8:\n",
    "    #    colnames.append('coef')\n",
    "    #df.columns = colnames\n",
    "    df['sample_id'] = sample_id\n",
    "    df['method'] = method\n",
    "    peaks.append(df)\n",
    "peaks = pd.concat(peaks, axis=0)\n",
    "peaks.head()"
   ]
  },
  {
   "cell_type": "code",
   "execution_count": 16,
   "metadata": {},
   "outputs": [
    {
     "data": {
      "text/html": [
       "<div>\n",
       "<style scoped>\n",
       "    .dataframe tbody tr th:only-of-type {\n",
       "        vertical-align: middle;\n",
       "    }\n",
       "\n",
       "    .dataframe tbody tr th {\n",
       "        vertical-align: top;\n",
       "    }\n",
       "\n",
       "    .dataframe thead th {\n",
       "        text-align: right;\n",
       "    }\n",
       "</style>\n",
       "<table border=\"1\" class=\"dataframe\">\n",
       "  <thead>\n",
       "    <tr style=\"text-align: right;\">\n",
       "      <th></th>\n",
       "      <th>rna_id</th>\n",
       "      <th>start</th>\n",
       "      <th>end</th>\n",
       "      <th>name</th>\n",
       "      <th>rpkm</th>\n",
       "      <th>strand</th>\n",
       "      <th>sample_id</th>\n",
       "      <th>method</th>\n",
       "    </tr>\n",
       "  </thead>\n",
       "  <tbody>\n",
       "    <tr>\n",
       "      <th>1625</th>\n",
       "      <td>ENST00000618786.1</td>\n",
       "      <td>0</td>\n",
       "      <td>240</td>\n",
       "      <td>X</td>\n",
       "      <td>70.125</td>\n",
       "      <td>+</td>\n",
       "      <td>10515058-A</td>\n",
       "      <td>ZeroTruncatedNegativeBinomial</td>\n",
       "    </tr>\n",
       "    <tr>\n",
       "      <th>2966</th>\n",
       "      <td>ENST00000618786.1</td>\n",
       "      <td>240</td>\n",
       "      <td>299</td>\n",
       "      <td>X</td>\n",
       "      <td>332.500</td>\n",
       "      <td>+</td>\n",
       "      <td>10515058-A</td>\n",
       "      <td>ZeroTruncatedNegativeBinomial</td>\n",
       "    </tr>\n",
       "    <tr>\n",
       "      <th>1199</th>\n",
       "      <td>ENST00000618786.1</td>\n",
       "      <td>240</td>\n",
       "      <td>299</td>\n",
       "      <td>X</td>\n",
       "      <td>332.500</td>\n",
       "      <td>+</td>\n",
       "      <td>10515058-A</td>\n",
       "      <td>ZeroTruncatedNegativeBinomialRegression</td>\n",
       "    </tr>\n",
       "    <tr>\n",
       "      <th>115755</th>\n",
       "      <td>ENST00000618786.1</td>\n",
       "      <td>0</td>\n",
       "      <td>240</td>\n",
       "      <td>X</td>\n",
       "      <td>70.125</td>\n",
       "      <td>+</td>\n",
       "      <td>10515058-A</td>\n",
       "      <td>ZeroTruncatedPoisson</td>\n",
       "    </tr>\n",
       "    <tr>\n",
       "      <th>117132</th>\n",
       "      <td>ENST00000618786.1</td>\n",
       "      <td>240</td>\n",
       "      <td>299</td>\n",
       "      <td>X</td>\n",
       "      <td>332.500</td>\n",
       "      <td>+</td>\n",
       "      <td>10515058-A</td>\n",
       "      <td>ZeroTruncatedPoisson</td>\n",
       "    </tr>\n",
       "  </tbody>\n",
       "</table>\n",
       "</div>"
      ],
      "text/plain": [
       "                   rna_id  start  end name     rpkm strand   sample_id  \\\n",
       "1625    ENST00000618786.1      0  240    X   70.125      +  10515058-A   \n",
       "2966    ENST00000618786.1    240  299    X  332.500      +  10515058-A   \n",
       "1199    ENST00000618786.1    240  299    X  332.500      +  10515058-A   \n",
       "115755  ENST00000618786.1      0  240    X   70.125      +  10515058-A   \n",
       "117132  ENST00000618786.1    240  299    X  332.500      +  10515058-A   \n",
       "\n",
       "                                         method  \n",
       "1625              ZeroTruncatedNegativeBinomial  \n",
       "2966              ZeroTruncatedNegativeBinomial  \n",
       "1199    ZeroTruncatedNegativeBinomialRegression  \n",
       "115755                     ZeroTruncatedPoisson  \n",
       "117132                     ZeroTruncatedPoisson  "
      ]
     },
     "execution_count": 16,
     "metadata": {},
     "output_type": "execute_result"
    }
   ],
   "source": [
    "peaks_RN7SL1 = peaks.query('rna_id == \"ENST00000618786.1\"')\n",
    "peaks_RN7SL1.head()"
   ]
  },
  {
   "cell_type": "code",
   "execution_count": 19,
   "metadata": {},
   "outputs": [
    {
     "data": {
      "text/html": [
       "<div>\n",
       "<style scoped>\n",
       "    .dataframe tbody tr th:only-of-type {\n",
       "        vertical-align: middle;\n",
       "    }\n",
       "\n",
       "    .dataframe tbody tr th {\n",
       "        vertical-align: top;\n",
       "    }\n",
       "\n",
       "    .dataframe thead th {\n",
       "        text-align: right;\n",
       "    }\n",
       "</style>\n",
       "<table border=\"1\" class=\"dataframe\">\n",
       "  <thead>\n",
       "    <tr style=\"text-align: right;\">\n",
       "      <th></th>\n",
       "      <th>sample_id</th>\n",
       "      <th>method</th>\n",
       "      <th>rna_id</th>\n",
       "    </tr>\n",
       "  </thead>\n",
       "  <tbody>\n",
       "    <tr>\n",
       "      <th>0</th>\n",
       "      <td>10515058-A</td>\n",
       "      <td>ZeroTruncatedNegativeBinomial</td>\n",
       "      <td>2</td>\n",
       "    </tr>\n",
       "    <tr>\n",
       "      <th>1</th>\n",
       "      <td>10515058-A</td>\n",
       "      <td>ZeroTruncatedNegativeBinomialRegression</td>\n",
       "      <td>1</td>\n",
       "    </tr>\n",
       "    <tr>\n",
       "      <th>2</th>\n",
       "      <td>10515058-A</td>\n",
       "      <td>ZeroTruncatedPoisson</td>\n",
       "      <td>2</td>\n",
       "    </tr>\n",
       "    <tr>\n",
       "      <th>3</th>\n",
       "      <td>10515058-A</td>\n",
       "      <td>ZeroTruncatedPoissonRegression</td>\n",
       "      <td>2</td>\n",
       "    </tr>\n",
       "    <tr>\n",
       "      <th>4</th>\n",
       "      <td>12402567-A</td>\n",
       "      <td>ZeroTruncatedNegativeBinomial</td>\n",
       "      <td>1</td>\n",
       "    </tr>\n",
       "  </tbody>\n",
       "</table>\n",
       "</div>"
      ],
      "text/plain": [
       "    sample_id                                   method  rna_id\n",
       "0  10515058-A            ZeroTruncatedNegativeBinomial       2\n",
       "1  10515058-A  ZeroTruncatedNegativeBinomialRegression       1\n",
       "2  10515058-A                     ZeroTruncatedPoisson       2\n",
       "3  10515058-A           ZeroTruncatedPoissonRegression       2\n",
       "4  12402567-A            ZeroTruncatedNegativeBinomial       1"
      ]
     },
     "execution_count": 19,
     "metadata": {},
     "output_type": "execute_result"
    }
   ],
   "source": [
    "peaks_count = peaks_RN7SL1.groupby(['sample_id', 'method'], as_index=False)['rna_id'].count()\n",
    "peaks_count.head()"
   ]
  },
  {
   "cell_type": "code",
   "execution_count": 22,
   "metadata": {},
   "outputs": [
    {
     "data": {
      "text/plain": [
       "method\n",
       "ZeroTruncatedNegativeBinomial              2.000000\n",
       "ZeroTruncatedNegativeBinomialRegression    1.304348\n",
       "ZeroTruncatedPoisson                       1.836066\n",
       "ZeroTruncatedPoissonRegression             1.868852\n",
       "Name: rna_id, dtype: float64"
      ]
     },
     "execution_count": 22,
     "metadata": {},
     "output_type": "execute_result"
    }
   ],
   "source": [
    "peaks_count.groupby('method')['rna_id'].mean()"
   ]
  },
  {
   "cell_type": "code",
   "execution_count": null,
   "metadata": {},
   "outputs": [],
   "source": []
  }
 ],
 "metadata": {
  "kernelspec": {
   "display_name": "Python 3",
   "language": "python",
   "name": "python3"
  },
  "language_info": {
   "codemirror_mode": {
    "name": "ipython",
    "version": 3
   },
   "file_extension": ".py",
   "mimetype": "text/x-python",
   "name": "python",
   "nbconvert_exporter": "python",
   "pygments_lexer": "ipython3",
   "version": "3.6.3"
  }
 },
 "nbformat": 4,
 "nbformat_minor": 2
}
