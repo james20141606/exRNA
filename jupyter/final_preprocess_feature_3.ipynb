{
 "cells": [
  {
   "cell_type": "code",
   "execution_count": 9,
   "metadata": {},
   "outputs": [],
   "source": [
    "#.libPaths(c('/usr/share/R/library','/usr/lib64/R/library',''))\n",
    "suppressMessages(library(SingleCellExperiment))\n",
    "suppressMessages(library(scater))\n",
    "options(stringsAsFactors = FALSE)\n",
    "setwd(\"~/projects/training\")"
   ]
  },
  {
   "cell_type": "markdown",
   "metadata": {},
   "source": [
    "## 8.4 对四种feature做！\n",
    "- 第一种是斌斌call 出来的所有的domain\n",
    "- 第二种是有structure的domain\n",
    "- 第三种是卡一下domain出现的频率和表达量\n",
    "- 第四种就是把第二种和第三种的要求都加上\n",
    "\n",
    "- 挑选原则，不加postoperative"
   ]
  },
  {
   "cell_type": "markdown",
   "metadata": {},
   "source": [
    "#### load data & annotations"
   ]
  },
  {
   "cell_type": "code",
   "execution_count": 10,
   "metadata": {},
   "outputs": [],
   "source": [
    "wholeanno <-read.table('data/wholeannotation.csv',sep=',',header=T)[seq(1,64),]\n",
    "wholeanno$Class <- \"Ctrl\"\n",
    "wholeanno[which(wholeanno$Disease_status==\"HCC_before_surgery\"),\"Class\"] <- \"HCC\""
   ]
  },
  {
   "cell_type": "code",
   "execution_count": 11,
   "metadata": {},
   "outputs": [
    {
     "data": {
      "text/html": [
       "<ol class=list-inline>\n",
       "\t<li>'lulab_249136_B'</li>\n",
       "\t<li>'lulab_385247_B'</li>\n",
       "\t<li>'lulab_423976_B'</li>\n",
       "\t<li>'lulab_497411_B'</li>\n",
       "\t<li>'lulab_497497_B'</li>\n",
       "\t<li>'lulab_498127_B'</li>\n",
       "\t<li>'lulab_498187_B'</li>\n",
       "\t<li>'lulab_498221_B'</li>\n",
       "\t<li>'lulab_507450_B'</li>\n",
       "\t<li>'lulab_507468_B'</li>\n",
       "\t<li>'lulab_507511_B'</li>\n",
       "\t<li>'lulab_507599_B'</li>\n",
       "\t<li>'lulab_507867_B'</li>\n",
       "\t<li>'lulab_507887_B'</li>\n",
       "\t<li>'lulab_507891_B'</li>\n",
       "\t<li>'lulab_507909_B'</li>\n",
       "\t<li>'lulab_508877_B'</li>\n",
       "\t<li>'lulab_508897_B'</li>\n",
       "\t<li>'lulab_511030_B'</li>\n",
       "\t<li>'lulab_511485_B'</li>\n",
       "\t<li>'lulab_515058_B'</li>\n",
       "\t<li>'lulab_515292_B'</li>\n",
       "\t<li>'lulab_SH325716_B'</li>\n",
       "\t<li>'lulab_SH327409_B'</li>\n",
       "\t<li>'lulab_SH327412_B'</li>\n",
       "\t<li>'lulab_SH327428_B'</li>\n",
       "\t<li>'lulab_17402567_B'</li>\n",
       "\t<li>'lulab_3497470_B'</li>\n",
       "\t<li>'lulab_5474594_B'</li>\n",
       "\t<li>'lulab_6474170_B'</li>\n",
       "\t<li>'lulab_8397116_B'</li>\n",
       "\t<li>'lulab_BD.LOW.mix'</li>\n",
       "\t<li>'lulab_LY'</li>\n",
       "\t<li>'lulab_CXD'</li>\n",
       "\t<li>'lulab_Normal_1'</li>\n",
       "\t<li>'lulab_Normal_2'</li>\n",
       "\t<li>'lulab_Normal_3'</li>\n",
       "\t<li>'lulab_Normal_4'</li>\n",
       "\t<li>'lulab_Normal_5'</li>\n",
       "\t<li>'lulab_Normal_6'</li>\n",
       "\t<li>'lulab_Normal_7'</li>\n",
       "\t<li>'lulab_Normal_8'</li>\n",
       "\t<li>'lulab_498187_A'</li>\n",
       "\t<li>'lulab_498221_A'</li>\n",
       "\t<li>'lulab_385247_A'</li>\n",
       "\t<li>'lulab_498191_A'</li>\n",
       "\t<li>'lulab_511122_A'</li>\n",
       "\t<li>'lulab_510199_A'</li>\n",
       "\t<li>'lulab_333874_A'</li>\n",
       "\t<li>'lulab_482592_A'</li>\n",
       "\t<li>'lulab_486978_A'</li>\n",
       "\t<li>'lulab_508955_A'</li>\n",
       "\t<li>'lulab_509155_A'</li>\n",
       "\t<li>'lulab_509442_A'</li>\n",
       "\t<li>'lulab_509970_A'</li>\n",
       "\t<li>'lulab_510470_A'</li>\n",
       "\t<li>'lulab_515058_A'</li>\n",
       "\t<li>'lulab_515292_A'</li>\n",
       "\t<li>'lulab_10515058_A'</li>\n",
       "\t<li>'lulab_12402567_A'</li>\n",
       "\t<li>'lulab_13515292_A'</li>\n",
       "\t<li>'lulab_HBV_1'</li>\n",
       "\t<li>'lulab_HBV_2'</li>\n",
       "\t<li>'lulab_HBV_3'</li>\n",
       "</ol>\n"
      ],
      "text/latex": [
       "\\begin{enumerate*}\n",
       "\\item 'lulab\\_249136\\_B'\n",
       "\\item 'lulab\\_385247\\_B'\n",
       "\\item 'lulab\\_423976\\_B'\n",
       "\\item 'lulab\\_497411\\_B'\n",
       "\\item 'lulab\\_497497\\_B'\n",
       "\\item 'lulab\\_498127\\_B'\n",
       "\\item 'lulab\\_498187\\_B'\n",
       "\\item 'lulab\\_498221\\_B'\n",
       "\\item 'lulab\\_507450\\_B'\n",
       "\\item 'lulab\\_507468\\_B'\n",
       "\\item 'lulab\\_507511\\_B'\n",
       "\\item 'lulab\\_507599\\_B'\n",
       "\\item 'lulab\\_507867\\_B'\n",
       "\\item 'lulab\\_507887\\_B'\n",
       "\\item 'lulab\\_507891\\_B'\n",
       "\\item 'lulab\\_507909\\_B'\n",
       "\\item 'lulab\\_508877\\_B'\n",
       "\\item 'lulab\\_508897\\_B'\n",
       "\\item 'lulab\\_511030\\_B'\n",
       "\\item 'lulab\\_511485\\_B'\n",
       "\\item 'lulab\\_515058\\_B'\n",
       "\\item 'lulab\\_515292\\_B'\n",
       "\\item 'lulab\\_SH325716\\_B'\n",
       "\\item 'lulab\\_SH327409\\_B'\n",
       "\\item 'lulab\\_SH327412\\_B'\n",
       "\\item 'lulab\\_SH327428\\_B'\n",
       "\\item 'lulab\\_17402567\\_B'\n",
       "\\item 'lulab\\_3497470\\_B'\n",
       "\\item 'lulab\\_5474594\\_B'\n",
       "\\item 'lulab\\_6474170\\_B'\n",
       "\\item 'lulab\\_8397116\\_B'\n",
       "\\item 'lulab\\_BD.LOW.mix'\n",
       "\\item 'lulab\\_LY'\n",
       "\\item 'lulab\\_CXD'\n",
       "\\item 'lulab\\_Normal\\_1'\n",
       "\\item 'lulab\\_Normal\\_2'\n",
       "\\item 'lulab\\_Normal\\_3'\n",
       "\\item 'lulab\\_Normal\\_4'\n",
       "\\item 'lulab\\_Normal\\_5'\n",
       "\\item 'lulab\\_Normal\\_6'\n",
       "\\item 'lulab\\_Normal\\_7'\n",
       "\\item 'lulab\\_Normal\\_8'\n",
       "\\item 'lulab\\_498187\\_A'\n",
       "\\item 'lulab\\_498221\\_A'\n",
       "\\item 'lulab\\_385247\\_A'\n",
       "\\item 'lulab\\_498191\\_A'\n",
       "\\item 'lulab\\_511122\\_A'\n",
       "\\item 'lulab\\_510199\\_A'\n",
       "\\item 'lulab\\_333874\\_A'\n",
       "\\item 'lulab\\_482592\\_A'\n",
       "\\item 'lulab\\_486978\\_A'\n",
       "\\item 'lulab\\_508955\\_A'\n",
       "\\item 'lulab\\_509155\\_A'\n",
       "\\item 'lulab\\_509442\\_A'\n",
       "\\item 'lulab\\_509970\\_A'\n",
       "\\item 'lulab\\_510470\\_A'\n",
       "\\item 'lulab\\_515058\\_A'\n",
       "\\item 'lulab\\_515292\\_A'\n",
       "\\item 'lulab\\_10515058\\_A'\n",
       "\\item 'lulab\\_12402567\\_A'\n",
       "\\item 'lulab\\_13515292\\_A'\n",
       "\\item 'lulab\\_HBV\\_1'\n",
       "\\item 'lulab\\_HBV\\_2'\n",
       "\\item 'lulab\\_HBV\\_3'\n",
       "\\end{enumerate*}\n"
      ],
      "text/markdown": [
       "1. 'lulab_249136_B'\n",
       "2. 'lulab_385247_B'\n",
       "3. 'lulab_423976_B'\n",
       "4. 'lulab_497411_B'\n",
       "5. 'lulab_497497_B'\n",
       "6. 'lulab_498127_B'\n",
       "7. 'lulab_498187_B'\n",
       "8. 'lulab_498221_B'\n",
       "9. 'lulab_507450_B'\n",
       "10. 'lulab_507468_B'\n",
       "11. 'lulab_507511_B'\n",
       "12. 'lulab_507599_B'\n",
       "13. 'lulab_507867_B'\n",
       "14. 'lulab_507887_B'\n",
       "15. 'lulab_507891_B'\n",
       "16. 'lulab_507909_B'\n",
       "17. 'lulab_508877_B'\n",
       "18. 'lulab_508897_B'\n",
       "19. 'lulab_511030_B'\n",
       "20. 'lulab_511485_B'\n",
       "21. 'lulab_515058_B'\n",
       "22. 'lulab_515292_B'\n",
       "23. 'lulab_SH325716_B'\n",
       "24. 'lulab_SH327409_B'\n",
       "25. 'lulab_SH327412_B'\n",
       "26. 'lulab_SH327428_B'\n",
       "27. 'lulab_17402567_B'\n",
       "28. 'lulab_3497470_B'\n",
       "29. 'lulab_5474594_B'\n",
       "30. 'lulab_6474170_B'\n",
       "31. 'lulab_8397116_B'\n",
       "32. 'lulab_BD.LOW.mix'\n",
       "33. 'lulab_LY'\n",
       "34. 'lulab_CXD'\n",
       "35. 'lulab_Normal_1'\n",
       "36. 'lulab_Normal_2'\n",
       "37. 'lulab_Normal_3'\n",
       "38. 'lulab_Normal_4'\n",
       "39. 'lulab_Normal_5'\n",
       "40. 'lulab_Normal_6'\n",
       "41. 'lulab_Normal_7'\n",
       "42. 'lulab_Normal_8'\n",
       "43. 'lulab_498187_A'\n",
       "44. 'lulab_498221_A'\n",
       "45. 'lulab_385247_A'\n",
       "46. 'lulab_498191_A'\n",
       "47. 'lulab_511122_A'\n",
       "48. 'lulab_510199_A'\n",
       "49. 'lulab_333874_A'\n",
       "50. 'lulab_482592_A'\n",
       "51. 'lulab_486978_A'\n",
       "52. 'lulab_508955_A'\n",
       "53. 'lulab_509155_A'\n",
       "54. 'lulab_509442_A'\n",
       "55. 'lulab_509970_A'\n",
       "56. 'lulab_510470_A'\n",
       "57. 'lulab_515058_A'\n",
       "58. 'lulab_515292_A'\n",
       "59. 'lulab_10515058_A'\n",
       "60. 'lulab_12402567_A'\n",
       "61. 'lulab_13515292_A'\n",
       "62. 'lulab_HBV_1'\n",
       "63. 'lulab_HBV_2'\n",
       "64. 'lulab_HBV_3'\n",
       "\n",
       "\n"
      ],
      "text/plain": [
       " [1] \"lulab_249136_B\"   \"lulab_385247_B\"   \"lulab_423976_B\"   \"lulab_497411_B\"  \n",
       " [5] \"lulab_497497_B\"   \"lulab_498127_B\"   \"lulab_498187_B\"   \"lulab_498221_B\"  \n",
       " [9] \"lulab_507450_B\"   \"lulab_507468_B\"   \"lulab_507511_B\"   \"lulab_507599_B\"  \n",
       "[13] \"lulab_507867_B\"   \"lulab_507887_B\"   \"lulab_507891_B\"   \"lulab_507909_B\"  \n",
       "[17] \"lulab_508877_B\"   \"lulab_508897_B\"   \"lulab_511030_B\"   \"lulab_511485_B\"  \n",
       "[21] \"lulab_515058_B\"   \"lulab_515292_B\"   \"lulab_SH325716_B\" \"lulab_SH327409_B\"\n",
       "[25] \"lulab_SH327412_B\" \"lulab_SH327428_B\" \"lulab_17402567_B\" \"lulab_3497470_B\" \n",
       "[29] \"lulab_5474594_B\"  \"lulab_6474170_B\"  \"lulab_8397116_B\"  \"lulab_BD.LOW.mix\"\n",
       "[33] \"lulab_LY\"         \"lulab_CXD\"        \"lulab_Normal_1\"   \"lulab_Normal_2\"  \n",
       "[37] \"lulab_Normal_3\"   \"lulab_Normal_4\"   \"lulab_Normal_5\"   \"lulab_Normal_6\"  \n",
       "[41] \"lulab_Normal_7\"   \"lulab_Normal_8\"   \"lulab_498187_A\"   \"lulab_498221_A\"  \n",
       "[45] \"lulab_385247_A\"   \"lulab_498191_A\"   \"lulab_511122_A\"   \"lulab_510199_A\"  \n",
       "[49] \"lulab_333874_A\"   \"lulab_482592_A\"   \"lulab_486978_A\"   \"lulab_508955_A\"  \n",
       "[53] \"lulab_509155_A\"   \"lulab_509442_A\"   \"lulab_509970_A\"   \"lulab_510470_A\"  \n",
       "[57] \"lulab_515058_A\"   \"lulab_515292_A\"   \"lulab_10515058_A\" \"lulab_12402567_A\"\n",
       "[61] \"lulab_13515292_A\" \"lulab_HBV_1\"      \"lulab_HBV_2\"      \"lulab_HBV_3\"     "
      ]
     },
     "metadata": {},
     "output_type": "display_data"
    }
   ],
   "source": [
    "wholeanno$Sample_ID"
   ]
  },
  {
   "cell_type": "code",
   "execution_count": 12,
   "metadata": {},
   "outputs": [],
   "source": [
    "raw_mx <- read.table('/Share/home/caojingyi/exRNA/process/18.new_hcc_lulab/05.matrix/merged_table/hcc_lulab.sequentialMap.featureCounts.merged.nomRNA.mx', sep = \"\\t\")\n",
    "colnames(raw_mx)<-wholeanno$Sample_ID"
   ]
  },
  {
   "cell_type": "code",
   "execution_count": 13,
   "metadata": {},
   "outputs": [
    {
     "data": {
      "text/html": [
       "<ol class=list-inline>\n",
       "\t<li>'YRNA_ENSG00000201778.1'</li>\n",
       "\t<li>'miRNA_ENSG00000284565.1'</li>\n",
       "\t<li>'miRNA_ENSG00000284440.1'</li>\n",
       "\t<li>'miRNA_ENSG00000284190.1'</li>\n",
       "\t<li>'miRNA_ENSG00000199179.3'</li>\n",
       "\t<li>'miRNA_ENSG00000199085.3'</li>\n",
       "\t<li>'miRNA_ENSG00000199075.1'</li>\n",
       "\t<li>'miRNA_ENSG00000207789.1'</li>\n",
       "\t<li>'miRNA_ENSG00000283450.1'</li>\n",
       "\t<li>'miRNA_ENSG00000274705.2'</li>\n",
       "\t<li>'miRNA_ENSG00000199150.3'</li>\n",
       "\t<li>'miRNA_ENSG00000199161.1'</li>\n",
       "\t<li>'miRNA_ENSG00000283935.1'</li>\n",
       "\t<li>'miRNA_ENSG00000284520.1'</li>\n",
       "\t<li>'miRNA_ENSG00000199153.1'</li>\n",
       "\t<li>'miRNA_ENSG00000208012.1'</li>\n",
       "\t<li>'miRNA_ENSG00000283733.1'</li>\n",
       "\t<li>'miRNA_ENSG00000283824.1'</li>\n",
       "\t<li>'miRNA_ENSG00000199121.4'</li>\n",
       "\t<li>'miRNA_ENSG00000199072.3'</li>\n",
       "</ol>\n"
      ],
      "text/latex": [
       "\\begin{enumerate*}\n",
       "\\item 'YRNA\\_ENSG00000201778.1'\n",
       "\\item 'miRNA\\_ENSG00000284565.1'\n",
       "\\item 'miRNA\\_ENSG00000284440.1'\n",
       "\\item 'miRNA\\_ENSG00000284190.1'\n",
       "\\item 'miRNA\\_ENSG00000199179.3'\n",
       "\\item 'miRNA\\_ENSG00000199085.3'\n",
       "\\item 'miRNA\\_ENSG00000199075.1'\n",
       "\\item 'miRNA\\_ENSG00000207789.1'\n",
       "\\item 'miRNA\\_ENSG00000283450.1'\n",
       "\\item 'miRNA\\_ENSG00000274705.2'\n",
       "\\item 'miRNA\\_ENSG00000199150.3'\n",
       "\\item 'miRNA\\_ENSG00000199161.1'\n",
       "\\item 'miRNA\\_ENSG00000283935.1'\n",
       "\\item 'miRNA\\_ENSG00000284520.1'\n",
       "\\item 'miRNA\\_ENSG00000199153.1'\n",
       "\\item 'miRNA\\_ENSG00000208012.1'\n",
       "\\item 'miRNA\\_ENSG00000283733.1'\n",
       "\\item 'miRNA\\_ENSG00000283824.1'\n",
       "\\item 'miRNA\\_ENSG00000199121.4'\n",
       "\\item 'miRNA\\_ENSG00000199072.3'\n",
       "\\end{enumerate*}\n"
      ],
      "text/markdown": [
       "1. 'YRNA_ENSG00000201778.1'\n",
       "2. 'miRNA_ENSG00000284565.1'\n",
       "3. 'miRNA_ENSG00000284440.1'\n",
       "4. 'miRNA_ENSG00000284190.1'\n",
       "5. 'miRNA_ENSG00000199179.3'\n",
       "6. 'miRNA_ENSG00000199085.3'\n",
       "7. 'miRNA_ENSG00000199075.1'\n",
       "8. 'miRNA_ENSG00000207789.1'\n",
       "9. 'miRNA_ENSG00000283450.1'\n",
       "10. 'miRNA_ENSG00000274705.2'\n",
       "11. 'miRNA_ENSG00000199150.3'\n",
       "12. 'miRNA_ENSG00000199161.1'\n",
       "13. 'miRNA_ENSG00000283935.1'\n",
       "14. 'miRNA_ENSG00000284520.1'\n",
       "15. 'miRNA_ENSG00000199153.1'\n",
       "16. 'miRNA_ENSG00000208012.1'\n",
       "17. 'miRNA_ENSG00000283733.1'\n",
       "18. 'miRNA_ENSG00000283824.1'\n",
       "19. 'miRNA_ENSG00000199121.4'\n",
       "20. 'miRNA_ENSG00000199072.3'\n",
       "\n",
       "\n"
      ],
      "text/plain": [
       " [1] \"YRNA_ENSG00000201778.1\"  \"miRNA_ENSG00000284565.1\"\n",
       " [3] \"miRNA_ENSG00000284440.1\" \"miRNA_ENSG00000284190.1\"\n",
       " [5] \"miRNA_ENSG00000199179.3\" \"miRNA_ENSG00000199085.3\"\n",
       " [7] \"miRNA_ENSG00000199075.1\" \"miRNA_ENSG00000207789.1\"\n",
       " [9] \"miRNA_ENSG00000283450.1\" \"miRNA_ENSG00000274705.2\"\n",
       "[11] \"miRNA_ENSG00000199150.3\" \"miRNA_ENSG00000199161.1\"\n",
       "[13] \"miRNA_ENSG00000283935.1\" \"miRNA_ENSG00000284520.1\"\n",
       "[15] \"miRNA_ENSG00000199153.1\" \"miRNA_ENSG00000208012.1\"\n",
       "[17] \"miRNA_ENSG00000283733.1\" \"miRNA_ENSG00000283824.1\"\n",
       "[19] \"miRNA_ENSG00000199121.4\" \"miRNA_ENSG00000199072.3\""
      ]
     },
     "metadata": {},
     "output_type": "display_data"
    }
   ],
   "source": [
    "rowsums <-rowSums(raw_mx)\n",
    "rowsumind <-order(-rowsums)\n",
    "top20name <-rownames(raw_mx)[rowsumind[1:20]]\n",
    "top20name"
   ]
  },
  {
   "cell_type": "code",
   "execution_count": 10,
   "metadata": {
    "deletable": false,
    "editable": false,
    "run_control": {
     "frozen": true
    }
   },
   "outputs": [],
   "source": [
    "fulltop20 <-c('Y_RNA_ENSG00000201778.1', 'miRNA_ENSG00000284565.1', 'miRNA_ENSG00000284440.1',\n",
    "              'miRNA_ENSG00000284190.1', 'miRNA_ENSG00000199179.3' ,'miRNA_ENSG00000199085.3' ,\n",
    "              'miRNA_ENSG00000199075.1', 'miRNA_ENSG00000207789.1', 'miRNA_ENSG00000283450.1' ,\n",
    "              'miRNA_ENSG00000274705.2', 'miRNA_ENSG00000199150.3' ,'miRNA_ENSG00000199161.1' ,\n",
    "              'miRNA_ENSG00000283935.1' ,'miRNA_ENSG00000284520.1' ,'miRNA_ENSG00000199153.1' ,\n",
    "              'miRNA_ENSG00000208012.1', 'miRNA_ENSG00000283733.1' ,'miRNA_ENSG00000283824.1' ,\n",
    "              'miRNA_ENSG00000199121.4' ,'miRNA_ENSG00000199072.3')"
   ]
  },
  {
   "cell_type": "code",
   "execution_count": 14,
   "metadata": {},
   "outputs": [],
   "source": [
    "new_raw_mx <-raw_mx[-which(rownames(raw_mx) %in% top20name), ]"
   ]
  },
  {
   "cell_type": "code",
   "execution_count": 15,
   "metadata": {},
   "outputs": [
    {
     "name": "stdout",
     "output_type": "stream",
     "text": [
      "[1] 834920     64\n",
      "[1] 834900     64\n"
     ]
    }
   ],
   "source": [
    "print (dim(raw_mx))\n",
    "print (dim(new_raw_mx))"
   ]
  },
  {
   "cell_type": "code",
   "execution_count": 16,
   "metadata": {},
   "outputs": [],
   "source": [
    "wholeanno$Status <- \"HD\"\n",
    "wholeanno[which(wholeanno$Stage.BCLC==\"A\"),\"Status\"] <- \"A\"\n",
    "wholeanno[which(wholeanno$Stage.BCLC==\"B\"),\"Status\"] <- \"B\"\n",
    "wholeanno[which(wholeanno$Stage.BCLC==\"C\"),\"Status\"] <- \"C\"\n",
    "wholeanno[which(wholeanno$Disease_status==\"HCC_after_surgery\"),\"Status\"] <- \"Postoperative\"\n",
    "wholeanno[which(wholeanno$Disease_status==\"mixed by 5 HBV\"),\"Status\"] <- \"CHB\"\n",
    "wholeanno[which(wholeanno$Disease_status==\"HCC_before_surgery\"),\"Disease_status\"] <- \"HCC\"\n",
    "wholeanno[which(wholeanno$Disease_status==\"Healthy\"),\"Disease_status\"] <- \"HD\"\n",
    "wholeanno[which(wholeanno$Disease_status==\"mixed by 5 HBV\"),\"Disease_status\"] <- \"CHB\""
   ]
  },
  {
   "cell_type": "code",
   "execution_count": 17,
   "metadata": {},
   "outputs": [
    {
     "data": {
      "text/html": [
       "<ol class=list-inline>\n",
       "\t<li>'HCC'</li>\n",
       "\t<li>'HCC'</li>\n",
       "\t<li>'HCC'</li>\n",
       "\t<li>'HCC'</li>\n",
       "\t<li>'HCC'</li>\n",
       "\t<li>'HCC'</li>\n",
       "\t<li>'HCC'</li>\n",
       "\t<li>'HCC'</li>\n",
       "\t<li>'HCC'</li>\n",
       "\t<li>'HCC'</li>\n",
       "\t<li>'HCC'</li>\n",
       "\t<li>'HCC'</li>\n",
       "\t<li>'HCC'</li>\n",
       "\t<li>'HCC'</li>\n",
       "\t<li>'HCC'</li>\n",
       "\t<li>'HCC'</li>\n",
       "\t<li>'HCC'</li>\n",
       "\t<li>'HCC'</li>\n",
       "\t<li>'HCC'</li>\n",
       "\t<li>'HCC'</li>\n",
       "\t<li>'HCC'</li>\n",
       "\t<li>'HCC'</li>\n",
       "\t<li>'HCC'</li>\n",
       "\t<li>'HCC'</li>\n",
       "\t<li>'HCC'</li>\n",
       "\t<li>'HCC'</li>\n",
       "\t<li>'HCC'</li>\n",
       "\t<li>'HCC'</li>\n",
       "\t<li>'HCC'</li>\n",
       "\t<li>'HCC'</li>\n",
       "\t<li>'HCC'</li>\n",
       "\t<li>'HD'</li>\n",
       "\t<li>'HD'</li>\n",
       "\t<li>'HD'</li>\n",
       "\t<li>'HD'</li>\n",
       "\t<li>'HD'</li>\n",
       "\t<li>'HD'</li>\n",
       "\t<li>'HD'</li>\n",
       "\t<li>'HD'</li>\n",
       "\t<li>'HD'</li>\n",
       "\t<li>'HD'</li>\n",
       "\t<li>'HD'</li>\n",
       "\t<li>'HCC_after_surgery'</li>\n",
       "\t<li>'HCC_after_surgery'</li>\n",
       "\t<li>'HCC_after_surgery'</li>\n",
       "\t<li>'HCC_after_surgery'</li>\n",
       "\t<li>'HCC_after_surgery'</li>\n",
       "\t<li>'HCC_after_surgery'</li>\n",
       "\t<li>'HCC_after_surgery'</li>\n",
       "\t<li>'HCC_after_surgery'</li>\n",
       "\t<li>'HCC_after_surgery'</li>\n",
       "\t<li>'HCC_after_surgery'</li>\n",
       "\t<li>'HCC_after_surgery'</li>\n",
       "\t<li>'HCC_after_surgery'</li>\n",
       "\t<li>'HCC_after_surgery'</li>\n",
       "\t<li>'HCC_after_surgery'</li>\n",
       "\t<li>'HCC_after_surgery'</li>\n",
       "\t<li>'HCC_after_surgery'</li>\n",
       "\t<li>'HCC_after_surgery'</li>\n",
       "\t<li>'HCC_after_surgery'</li>\n",
       "\t<li>'HCC_after_surgery'</li>\n",
       "\t<li>'CHB'</li>\n",
       "\t<li>'CHB'</li>\n",
       "\t<li>'CHB'</li>\n",
       "</ol>\n"
      ],
      "text/latex": [
       "\\begin{enumerate*}\n",
       "\\item 'HCC'\n",
       "\\item 'HCC'\n",
       "\\item 'HCC'\n",
       "\\item 'HCC'\n",
       "\\item 'HCC'\n",
       "\\item 'HCC'\n",
       "\\item 'HCC'\n",
       "\\item 'HCC'\n",
       "\\item 'HCC'\n",
       "\\item 'HCC'\n",
       "\\item 'HCC'\n",
       "\\item 'HCC'\n",
       "\\item 'HCC'\n",
       "\\item 'HCC'\n",
       "\\item 'HCC'\n",
       "\\item 'HCC'\n",
       "\\item 'HCC'\n",
       "\\item 'HCC'\n",
       "\\item 'HCC'\n",
       "\\item 'HCC'\n",
       "\\item 'HCC'\n",
       "\\item 'HCC'\n",
       "\\item 'HCC'\n",
       "\\item 'HCC'\n",
       "\\item 'HCC'\n",
       "\\item 'HCC'\n",
       "\\item 'HCC'\n",
       "\\item 'HCC'\n",
       "\\item 'HCC'\n",
       "\\item 'HCC'\n",
       "\\item 'HCC'\n",
       "\\item 'HD'\n",
       "\\item 'HD'\n",
       "\\item 'HD'\n",
       "\\item 'HD'\n",
       "\\item 'HD'\n",
       "\\item 'HD'\n",
       "\\item 'HD'\n",
       "\\item 'HD'\n",
       "\\item 'HD'\n",
       "\\item 'HD'\n",
       "\\item 'HD'\n",
       "\\item 'HCC\\_after\\_surgery'\n",
       "\\item 'HCC\\_after\\_surgery'\n",
       "\\item 'HCC\\_after\\_surgery'\n",
       "\\item 'HCC\\_after\\_surgery'\n",
       "\\item 'HCC\\_after\\_surgery'\n",
       "\\item 'HCC\\_after\\_surgery'\n",
       "\\item 'HCC\\_after\\_surgery'\n",
       "\\item 'HCC\\_after\\_surgery'\n",
       "\\item 'HCC\\_after\\_surgery'\n",
       "\\item 'HCC\\_after\\_surgery'\n",
       "\\item 'HCC\\_after\\_surgery'\n",
       "\\item 'HCC\\_after\\_surgery'\n",
       "\\item 'HCC\\_after\\_surgery'\n",
       "\\item 'HCC\\_after\\_surgery'\n",
       "\\item 'HCC\\_after\\_surgery'\n",
       "\\item 'HCC\\_after\\_surgery'\n",
       "\\item 'HCC\\_after\\_surgery'\n",
       "\\item 'HCC\\_after\\_surgery'\n",
       "\\item 'HCC\\_after\\_surgery'\n",
       "\\item 'CHB'\n",
       "\\item 'CHB'\n",
       "\\item 'CHB'\n",
       "\\end{enumerate*}\n"
      ],
      "text/markdown": [
       "1. 'HCC'\n",
       "2. 'HCC'\n",
       "3. 'HCC'\n",
       "4. 'HCC'\n",
       "5. 'HCC'\n",
       "6. 'HCC'\n",
       "7. 'HCC'\n",
       "8. 'HCC'\n",
       "9. 'HCC'\n",
       "10. 'HCC'\n",
       "11. 'HCC'\n",
       "12. 'HCC'\n",
       "13. 'HCC'\n",
       "14. 'HCC'\n",
       "15. 'HCC'\n",
       "16. 'HCC'\n",
       "17. 'HCC'\n",
       "18. 'HCC'\n",
       "19. 'HCC'\n",
       "20. 'HCC'\n",
       "21. 'HCC'\n",
       "22. 'HCC'\n",
       "23. 'HCC'\n",
       "24. 'HCC'\n",
       "25. 'HCC'\n",
       "26. 'HCC'\n",
       "27. 'HCC'\n",
       "28. 'HCC'\n",
       "29. 'HCC'\n",
       "30. 'HCC'\n",
       "31. 'HCC'\n",
       "32. 'HD'\n",
       "33. 'HD'\n",
       "34. 'HD'\n",
       "35. 'HD'\n",
       "36. 'HD'\n",
       "37. 'HD'\n",
       "38. 'HD'\n",
       "39. 'HD'\n",
       "40. 'HD'\n",
       "41. 'HD'\n",
       "42. 'HD'\n",
       "43. 'HCC_after_surgery'\n",
       "44. 'HCC_after_surgery'\n",
       "45. 'HCC_after_surgery'\n",
       "46. 'HCC_after_surgery'\n",
       "47. 'HCC_after_surgery'\n",
       "48. 'HCC_after_surgery'\n",
       "49. 'HCC_after_surgery'\n",
       "50. 'HCC_after_surgery'\n",
       "51. 'HCC_after_surgery'\n",
       "52. 'HCC_after_surgery'\n",
       "53. 'HCC_after_surgery'\n",
       "54. 'HCC_after_surgery'\n",
       "55. 'HCC_after_surgery'\n",
       "56. 'HCC_after_surgery'\n",
       "57. 'HCC_after_surgery'\n",
       "58. 'HCC_after_surgery'\n",
       "59. 'HCC_after_surgery'\n",
       "60. 'HCC_after_surgery'\n",
       "61. 'HCC_after_surgery'\n",
       "62. 'CHB'\n",
       "63. 'CHB'\n",
       "64. 'CHB'\n",
       "\n",
       "\n"
      ],
      "text/plain": [
       " [1] \"HCC\"               \"HCC\"               \"HCC\"              \n",
       " [4] \"HCC\"               \"HCC\"               \"HCC\"              \n",
       " [7] \"HCC\"               \"HCC\"               \"HCC\"              \n",
       "[10] \"HCC\"               \"HCC\"               \"HCC\"              \n",
       "[13] \"HCC\"               \"HCC\"               \"HCC\"              \n",
       "[16] \"HCC\"               \"HCC\"               \"HCC\"              \n",
       "[19] \"HCC\"               \"HCC\"               \"HCC\"              \n",
       "[22] \"HCC\"               \"HCC\"               \"HCC\"              \n",
       "[25] \"HCC\"               \"HCC\"               \"HCC\"              \n",
       "[28] \"HCC\"               \"HCC\"               \"HCC\"              \n",
       "[31] \"HCC\"               \"HD\"                \"HD\"               \n",
       "[34] \"HD\"                \"HD\"                \"HD\"               \n",
       "[37] \"HD\"                \"HD\"                \"HD\"               \n",
       "[40] \"HD\"                \"HD\"                \"HD\"               \n",
       "[43] \"HCC_after_surgery\" \"HCC_after_surgery\" \"HCC_after_surgery\"\n",
       "[46] \"HCC_after_surgery\" \"HCC_after_surgery\" \"HCC_after_surgery\"\n",
       "[49] \"HCC_after_surgery\" \"HCC_after_surgery\" \"HCC_after_surgery\"\n",
       "[52] \"HCC_after_surgery\" \"HCC_after_surgery\" \"HCC_after_surgery\"\n",
       "[55] \"HCC_after_surgery\" \"HCC_after_surgery\" \"HCC_after_surgery\"\n",
       "[58] \"HCC_after_surgery\" \"HCC_after_surgery\" \"HCC_after_surgery\"\n",
       "[61] \"HCC_after_surgery\" \"CHB\"               \"CHB\"              \n",
       "[64] \"CHB\"              "
      ]
     },
     "metadata": {},
     "output_type": "display_data"
    }
   ],
   "source": [
    "wholeanno$Disease_status"
   ]
  },
  {
   "cell_type": "markdown",
   "metadata": {},
   "source": [
    "#### drop some sample"
   ]
  },
  {
   "cell_type": "code",
   "execution_count": 18,
   "metadata": {},
   "outputs": [
    {
     "data": {
      "text/html": [
       "<ol class=list-inline>\n",
       "\t<li>'HCC'</li>\n",
       "\t<li>'HCC'</li>\n",
       "\t<li>'HCC'</li>\n",
       "\t<li>'HCC'</li>\n",
       "\t<li>'HCC'</li>\n",
       "\t<li>'HCC'</li>\n",
       "\t<li>'HCC'</li>\n",
       "\t<li>'HCC'</li>\n",
       "\t<li>'HCC'</li>\n",
       "\t<li>'HCC'</li>\n",
       "\t<li>'HCC'</li>\n",
       "\t<li>'HCC'</li>\n",
       "\t<li>'HCC'</li>\n",
       "\t<li>'HCC'</li>\n",
       "\t<li>'HCC'</li>\n",
       "\t<li>'HCC'</li>\n",
       "\t<li>'HCC'</li>\n",
       "\t<li>'HCC'</li>\n",
       "\t<li>'HCC'</li>\n",
       "\t<li>'HCC'</li>\n",
       "\t<li>'HCC'</li>\n",
       "\t<li>'HCC'</li>\n",
       "\t<li>'HCC'</li>\n",
       "\t<li>'HCC'</li>\n",
       "\t<li>'HCC'</li>\n",
       "\t<li>'HCC'</li>\n",
       "\t<li>'HCC'</li>\n",
       "\t<li>'HCC'</li>\n",
       "\t<li>'HCC'</li>\n",
       "\t<li>'HCC'</li>\n",
       "\t<li>'HD'</li>\n",
       "\t<li>'HD'</li>\n",
       "\t<li>'HD'</li>\n",
       "\t<li>'HD'</li>\n",
       "\t<li>'HD'</li>\n",
       "\t<li>'HD'</li>\n",
       "\t<li>'HD'</li>\n",
       "\t<li>'HD'</li>\n",
       "\t<li>'HD'</li>\n",
       "\t<li>'HD'</li>\n",
       "\t<li>'CHB'</li>\n",
       "\t<li>'CHB'</li>\n",
       "\t<li>'CHB'</li>\n",
       "</ol>\n"
      ],
      "text/latex": [
       "\\begin{enumerate*}\n",
       "\\item 'HCC'\n",
       "\\item 'HCC'\n",
       "\\item 'HCC'\n",
       "\\item 'HCC'\n",
       "\\item 'HCC'\n",
       "\\item 'HCC'\n",
       "\\item 'HCC'\n",
       "\\item 'HCC'\n",
       "\\item 'HCC'\n",
       "\\item 'HCC'\n",
       "\\item 'HCC'\n",
       "\\item 'HCC'\n",
       "\\item 'HCC'\n",
       "\\item 'HCC'\n",
       "\\item 'HCC'\n",
       "\\item 'HCC'\n",
       "\\item 'HCC'\n",
       "\\item 'HCC'\n",
       "\\item 'HCC'\n",
       "\\item 'HCC'\n",
       "\\item 'HCC'\n",
       "\\item 'HCC'\n",
       "\\item 'HCC'\n",
       "\\item 'HCC'\n",
       "\\item 'HCC'\n",
       "\\item 'HCC'\n",
       "\\item 'HCC'\n",
       "\\item 'HCC'\n",
       "\\item 'HCC'\n",
       "\\item 'HCC'\n",
       "\\item 'HD'\n",
       "\\item 'HD'\n",
       "\\item 'HD'\n",
       "\\item 'HD'\n",
       "\\item 'HD'\n",
       "\\item 'HD'\n",
       "\\item 'HD'\n",
       "\\item 'HD'\n",
       "\\item 'HD'\n",
       "\\item 'HD'\n",
       "\\item 'CHB'\n",
       "\\item 'CHB'\n",
       "\\item 'CHB'\n",
       "\\end{enumerate*}\n"
      ],
      "text/markdown": [
       "1. 'HCC'\n",
       "2. 'HCC'\n",
       "3. 'HCC'\n",
       "4. 'HCC'\n",
       "5. 'HCC'\n",
       "6. 'HCC'\n",
       "7. 'HCC'\n",
       "8. 'HCC'\n",
       "9. 'HCC'\n",
       "10. 'HCC'\n",
       "11. 'HCC'\n",
       "12. 'HCC'\n",
       "13. 'HCC'\n",
       "14. 'HCC'\n",
       "15. 'HCC'\n",
       "16. 'HCC'\n",
       "17. 'HCC'\n",
       "18. 'HCC'\n",
       "19. 'HCC'\n",
       "20. 'HCC'\n",
       "21. 'HCC'\n",
       "22. 'HCC'\n",
       "23. 'HCC'\n",
       "24. 'HCC'\n",
       "25. 'HCC'\n",
       "26. 'HCC'\n",
       "27. 'HCC'\n",
       "28. 'HCC'\n",
       "29. 'HCC'\n",
       "30. 'HCC'\n",
       "31. 'HD'\n",
       "32. 'HD'\n",
       "33. 'HD'\n",
       "34. 'HD'\n",
       "35. 'HD'\n",
       "36. 'HD'\n",
       "37. 'HD'\n",
       "38. 'HD'\n",
       "39. 'HD'\n",
       "40. 'HD'\n",
       "41. 'CHB'\n",
       "42. 'CHB'\n",
       "43. 'CHB'\n",
       "\n",
       "\n"
      ],
      "text/plain": [
       " [1] \"HCC\" \"HCC\" \"HCC\" \"HCC\" \"HCC\" \"HCC\" \"HCC\" \"HCC\" \"HCC\" \"HCC\" \"HCC\" \"HCC\"\n",
       "[13] \"HCC\" \"HCC\" \"HCC\" \"HCC\" \"HCC\" \"HCC\" \"HCC\" \"HCC\" \"HCC\" \"HCC\" \"HCC\" \"HCC\"\n",
       "[25] \"HCC\" \"HCC\" \"HCC\" \"HCC\" \"HCC\" \"HCC\" \"HD\"  \"HD\"  \"HD\"  \"HD\"  \"HD\"  \"HD\" \n",
       "[37] \"HD\"  \"HD\"  \"HD\"  \"HD\"  \"CHB\" \"CHB\" \"CHB\""
      ]
     },
     "metadata": {},
     "output_type": "display_data"
    }
   ],
   "source": [
    "wholeanno$Disease_status[wholeanno$use ==1]\n",
    "#wholeanno$Sample_ID[wholeanno$use ==1]"
   ]
  },
  {
   "cell_type": "code",
   "execution_count": 19,
   "metadata": {},
   "outputs": [],
   "source": [
    "mx <- new_raw_mx[,seq(1,64)[wholeanno$use ==1]]  #64个sample还剩下remainind个"
   ]
  },
  {
   "cell_type": "markdown",
   "metadata": {},
   "source": [
    "<span class=\"mark\">QC sample in another python jupyter, so freeze QC, drop some sample and start from imputation</span>"
   ]
  },
  {
   "cell_type": "code",
   "execution_count": 20,
   "metadata": {},
   "outputs": [
    {
     "name": "stdout",
     "output_type": "stream",
     "text": [
      "[1] 834900     43\n"
     ]
    }
   ],
   "source": [
    "#print (dim(raw_mx))\n",
    "print (dim(mx))\n",
    "#print (dim(withoutaftermx))\n",
    "# we use mx and withoutaftermx"
   ]
  },
  {
   "cell_type": "markdown",
   "metadata": {},
   "source": [
    "****************\n",
    "#### construct singleCellExperiment object"
   ]
  },
  {
   "cell_type": "code",
   "execution_count": 21,
   "metadata": {},
   "outputs": [
    {
     "data": {
      "text/plain": [
       "class: SingleCellExperiment \n",
       "dim: 834900 43 \n",
       "metadata(0):\n",
       "assays(1): counts\n",
       "rownames(834900): miRNA_ENSG00000278267.1 miRNA_ENSG00000284332.1 ...\n",
       "  lncRNA_ENSG00000240450.1 lncRNA_ENSG00000231141.1\n",
       "rowData names(0):\n",
       "colnames(43): lulab_249136_B lulab_385247_B ... lulab_HBV_2 lulab_HBV_3\n",
       "colData names(27): X Sample_ID ... Class Status\n",
       "reducedDimNames(0):\n",
       "spikeNames(0):"
      ]
     },
     "metadata": {},
     "output_type": "display_data"
    }
   ],
   "source": [
    "reads <- SingleCellExperiment(\n",
    "    assays = list(counts = as.matrix(mx)),\n",
    "    colData = wholeanno[wholeanno$use ==1,])\n",
    "reads"
   ]
  },
  {
   "cell_type": "code",
   "execution_count": 22,
   "metadata": {},
   "outputs": [
    {
     "data": {
      "text/html": [
       "<ol class=list-inline>\n",
       "\t<li>'HCC'</li>\n",
       "\t<li>'HCC'</li>\n",
       "\t<li>'HCC'</li>\n",
       "\t<li>'HCC'</li>\n",
       "\t<li>'HCC'</li>\n",
       "\t<li>'HCC'</li>\n",
       "\t<li>'HCC'</li>\n",
       "\t<li>'HCC'</li>\n",
       "\t<li>'HCC'</li>\n",
       "\t<li>'HCC'</li>\n",
       "\t<li>'HCC'</li>\n",
       "\t<li>'HCC'</li>\n",
       "\t<li>'HCC'</li>\n",
       "\t<li>'HCC'</li>\n",
       "\t<li>'HCC'</li>\n",
       "\t<li>'HCC'</li>\n",
       "\t<li>'HCC'</li>\n",
       "\t<li>'HCC'</li>\n",
       "\t<li>'HCC'</li>\n",
       "\t<li>'HCC'</li>\n",
       "\t<li>'HCC'</li>\n",
       "\t<li>'HCC'</li>\n",
       "\t<li>'HCC'</li>\n",
       "\t<li>'HCC'</li>\n",
       "\t<li>'HCC'</li>\n",
       "\t<li>'HCC'</li>\n",
       "\t<li>'HCC'</li>\n",
       "\t<li>'HCC'</li>\n",
       "\t<li>'HCC'</li>\n",
       "\t<li>'HCC'</li>\n",
       "\t<li>'HD'</li>\n",
       "\t<li>'HD'</li>\n",
       "\t<li>'HD'</li>\n",
       "\t<li>'HD'</li>\n",
       "\t<li>'HD'</li>\n",
       "\t<li>'HD'</li>\n",
       "\t<li>'HD'</li>\n",
       "\t<li>'HD'</li>\n",
       "\t<li>'HD'</li>\n",
       "\t<li>'HD'</li>\n",
       "\t<li>'CHB'</li>\n",
       "\t<li>'CHB'</li>\n",
       "\t<li>'CHB'</li>\n",
       "</ol>\n"
      ],
      "text/latex": [
       "\\begin{enumerate*}\n",
       "\\item 'HCC'\n",
       "\\item 'HCC'\n",
       "\\item 'HCC'\n",
       "\\item 'HCC'\n",
       "\\item 'HCC'\n",
       "\\item 'HCC'\n",
       "\\item 'HCC'\n",
       "\\item 'HCC'\n",
       "\\item 'HCC'\n",
       "\\item 'HCC'\n",
       "\\item 'HCC'\n",
       "\\item 'HCC'\n",
       "\\item 'HCC'\n",
       "\\item 'HCC'\n",
       "\\item 'HCC'\n",
       "\\item 'HCC'\n",
       "\\item 'HCC'\n",
       "\\item 'HCC'\n",
       "\\item 'HCC'\n",
       "\\item 'HCC'\n",
       "\\item 'HCC'\n",
       "\\item 'HCC'\n",
       "\\item 'HCC'\n",
       "\\item 'HCC'\n",
       "\\item 'HCC'\n",
       "\\item 'HCC'\n",
       "\\item 'HCC'\n",
       "\\item 'HCC'\n",
       "\\item 'HCC'\n",
       "\\item 'HCC'\n",
       "\\item 'HD'\n",
       "\\item 'HD'\n",
       "\\item 'HD'\n",
       "\\item 'HD'\n",
       "\\item 'HD'\n",
       "\\item 'HD'\n",
       "\\item 'HD'\n",
       "\\item 'HD'\n",
       "\\item 'HD'\n",
       "\\item 'HD'\n",
       "\\item 'CHB'\n",
       "\\item 'CHB'\n",
       "\\item 'CHB'\n",
       "\\end{enumerate*}\n"
      ],
      "text/markdown": [
       "1. 'HCC'\n",
       "2. 'HCC'\n",
       "3. 'HCC'\n",
       "4. 'HCC'\n",
       "5. 'HCC'\n",
       "6. 'HCC'\n",
       "7. 'HCC'\n",
       "8. 'HCC'\n",
       "9. 'HCC'\n",
       "10. 'HCC'\n",
       "11. 'HCC'\n",
       "12. 'HCC'\n",
       "13. 'HCC'\n",
       "14. 'HCC'\n",
       "15. 'HCC'\n",
       "16. 'HCC'\n",
       "17. 'HCC'\n",
       "18. 'HCC'\n",
       "19. 'HCC'\n",
       "20. 'HCC'\n",
       "21. 'HCC'\n",
       "22. 'HCC'\n",
       "23. 'HCC'\n",
       "24. 'HCC'\n",
       "25. 'HCC'\n",
       "26. 'HCC'\n",
       "27. 'HCC'\n",
       "28. 'HCC'\n",
       "29. 'HCC'\n",
       "30. 'HCC'\n",
       "31. 'HD'\n",
       "32. 'HD'\n",
       "33. 'HD'\n",
       "34. 'HD'\n",
       "35. 'HD'\n",
       "36. 'HD'\n",
       "37. 'HD'\n",
       "38. 'HD'\n",
       "39. 'HD'\n",
       "40. 'HD'\n",
       "41. 'CHB'\n",
       "42. 'CHB'\n",
       "43. 'CHB'\n",
       "\n",
       "\n"
      ],
      "text/plain": [
       " [1] \"HCC\" \"HCC\" \"HCC\" \"HCC\" \"HCC\" \"HCC\" \"HCC\" \"HCC\" \"HCC\" \"HCC\" \"HCC\" \"HCC\"\n",
       "[13] \"HCC\" \"HCC\" \"HCC\" \"HCC\" \"HCC\" \"HCC\" \"HCC\" \"HCC\" \"HCC\" \"HCC\" \"HCC\" \"HCC\"\n",
       "[25] \"HCC\" \"HCC\" \"HCC\" \"HCC\" \"HCC\" \"HCC\" \"HD\"  \"HD\"  \"HD\"  \"HD\"  \"HD\"  \"HD\" \n",
       "[37] \"HD\"  \"HD\"  \"HD\"  \"HD\"  \"CHB\" \"CHB\" \"CHB\""
      ]
     },
     "metadata": {},
     "output_type": "display_data"
    }
   ],
   "source": [
    "reads$Disease_status"
   ]
  },
  {
   "cell_type": "markdown",
   "metadata": {},
   "source": [
    "##### Remove genes that are not expressed in any samples"
   ]
  },
  {
   "cell_type": "code",
   "execution_count": 23,
   "metadata": {},
   "outputs": [
    {
     "data": {
      "text/html": [
       "<ol class=list-inline>\n",
       "\t<li>81232</li>\n",
       "\t<li>43</li>\n",
       "</ol>\n"
      ],
      "text/latex": [
       "\\begin{enumerate*}\n",
       "\\item 81232\n",
       "\\item 43\n",
       "\\end{enumerate*}\n"
      ],
      "text/markdown": [
       "1. 81232\n",
       "2. 43\n",
       "\n",
       "\n"
      ],
      "text/plain": [
       "[1] 81232    43"
      ]
     },
     "metadata": {},
     "output_type": "display_data"
    }
   ],
   "source": [
    "keep_feature <- rowSums(counts(reads) > 0) > 0\n",
    "reads <- reads[keep_feature, ]\n",
    "dim(reads)"
   ]
  },
  {
   "cell_type": "code",
   "execution_count": 24,
   "metadata": {},
   "outputs": [],
   "source": [
    "reads <-  calculateQCMetrics(reads)"
   ]
  },
  {
   "cell_type": "markdown",
   "metadata": {},
   "source": [
    "****************\n",
    "### filter samples and genes"
   ]
  },
  {
   "cell_type": "code",
   "execution_count": 25,
   "metadata": {},
   "outputs": [],
   "source": [
    "reads$use <-rep(TRUE,dim(reads)[2])"
   ]
  },
  {
   "cell_type": "markdown",
   "metadata": {},
   "source": [
    "#### gene QC\n",
    "##### filter genes with too low expression"
   ]
  },
  {
   "cell_type": "markdown",
   "metadata": {},
   "source": [
    "## <span class=\"mark\">这里要注意，新的feature数量少，要少筛掉一些！</span>"
   ]
  },
  {
   "cell_type": "code",
   "execution_count": 26,
   "metadata": {},
   "outputs": [
    {
     "data": {
      "text/plain": [
       "filter_genes\n",
       "FALSE  TRUE \n",
       "59485 21747 "
      ]
     },
     "metadata": {},
     "output_type": "display_data"
    },
    {
     "data": {
      "text/html": [
       "<ol class=list-inline>\n",
       "\t<li>21747</li>\n",
       "\t<li>43</li>\n",
       "</ol>\n"
      ],
      "text/latex": [
       "\\begin{enumerate*}\n",
       "\\item 21747\n",
       "\\item 43\n",
       "\\end{enumerate*}\n"
      ],
      "text/markdown": [
       "1. 21747\n",
       "2. 43\n",
       "\n",
       "\n"
      ],
      "text/plain": [
       "[1] 21747    43"
      ]
     },
     "metadata": {},
     "output_type": "display_data"
    }
   ],
   "source": [
    "filter_genes <- apply(counts(reads[, colData(reads)$use]), 1, function(x) length(x[x >= 1]) >= 4)\n",
    "table(filter_genes)\n",
    "rowData(reads)$use <- filter_genes\n",
    "reducedDim(reads) <- NULL\n",
    "dim(reads[rowData(reads)$use, colData(reads)$use])"
   ]
  },
  {
   "cell_type": "code",
   "execution_count": 27,
   "metadata": {},
   "outputs": [],
   "source": [
    "assay(reads, \"logcounts_raw\") <- log2(counts(reads) + 1)\n",
    "reads.qc <- reads[rowData(reads)$use, colData(reads)$use]\n",
    "endog_genes <- !rowData(reads.qc)$is_feature_control"
   ]
  },
  {
   "cell_type": "code",
   "execution_count": 28,
   "metadata": {},
   "outputs": [
    {
     "data": {
      "text/html": [
       "<ol class=list-inline>\n",
       "\t<li>21747</li>\n",
       "\t<li>43</li>\n",
       "</ol>\n"
      ],
      "text/latex": [
       "\\begin{enumerate*}\n",
       "\\item 21747\n",
       "\\item 43\n",
       "\\end{enumerate*}\n"
      ],
      "text/markdown": [
       "1. 21747\n",
       "2. 43\n",
       "\n",
       "\n"
      ],
      "text/plain": [
       "[1] 21747    43"
      ]
     },
     "metadata": {},
     "output_type": "display_data"
    }
   ],
   "source": [
    "dim(reads.qc)"
   ]
  },
  {
   "cell_type": "code",
   "execution_count": 29,
   "metadata": {},
   "outputs": [
    {
     "data": {
      "text/html": [
       "0"
      ],
      "text/latex": [
       "0"
      ],
      "text/markdown": [
       "0"
      ],
      "text/plain": [
       "[1] 0"
      ]
     },
     "metadata": {},
     "output_type": "display_data"
    }
   ],
   "source": [
    "sum(counts(reads.qc)<0)"
   ]
  },
  {
   "cell_type": "code",
   "execution_count": 30,
   "metadata": {},
   "outputs": [],
   "source": [
    "# save the data\n",
    "saveRDS(reads.qc, file = \"new_feature/tmpsave/feature_3.rds\")\n",
    "write.csv(counts(reads.qc), \"new_feature/tmpsave/feature_3.rds.csv\")"
   ]
  },
  {
   "cell_type": "code",
   "execution_count": 35,
   "metadata": {},
   "outputs": [
    {
     "data": {
      "text/html": [
       "<ol class=list-inline>\n",
       "\t<li>'HCC'</li>\n",
       "\t<li>'HCC'</li>\n",
       "\t<li>'HCC'</li>\n",
       "\t<li>'HCC'</li>\n",
       "\t<li>'HCC'</li>\n",
       "\t<li>'HCC'</li>\n",
       "\t<li>'HCC'</li>\n",
       "\t<li>'HCC'</li>\n",
       "\t<li>'HCC'</li>\n",
       "\t<li>'HCC'</li>\n",
       "\t<li>'HCC'</li>\n",
       "\t<li>'HCC'</li>\n",
       "\t<li>'HCC'</li>\n",
       "\t<li>'HCC'</li>\n",
       "\t<li>'HCC'</li>\n",
       "\t<li>'HCC'</li>\n",
       "\t<li>'HCC'</li>\n",
       "\t<li>'HCC'</li>\n",
       "\t<li>'HCC'</li>\n",
       "\t<li>'HCC'</li>\n",
       "\t<li>'HCC'</li>\n",
       "\t<li>'HCC'</li>\n",
       "\t<li>'HCC'</li>\n",
       "\t<li>'HCC'</li>\n",
       "\t<li>'HCC'</li>\n",
       "\t<li>'HCC'</li>\n",
       "\t<li>'HCC'</li>\n",
       "\t<li>'HCC'</li>\n",
       "\t<li>'HCC'</li>\n",
       "\t<li>'HCC'</li>\n",
       "\t<li>'HD'</li>\n",
       "\t<li>'HD'</li>\n",
       "\t<li>'HD'</li>\n",
       "\t<li>'HD'</li>\n",
       "\t<li>'HD'</li>\n",
       "\t<li>'HD'</li>\n",
       "\t<li>'HD'</li>\n",
       "\t<li>'HD'</li>\n",
       "\t<li>'HD'</li>\n",
       "\t<li>'HD'</li>\n",
       "\t<li>'CHB'</li>\n",
       "\t<li>'CHB'</li>\n",
       "\t<li>'CHB'</li>\n",
       "</ol>\n"
      ],
      "text/latex": [
       "\\begin{enumerate*}\n",
       "\\item 'HCC'\n",
       "\\item 'HCC'\n",
       "\\item 'HCC'\n",
       "\\item 'HCC'\n",
       "\\item 'HCC'\n",
       "\\item 'HCC'\n",
       "\\item 'HCC'\n",
       "\\item 'HCC'\n",
       "\\item 'HCC'\n",
       "\\item 'HCC'\n",
       "\\item 'HCC'\n",
       "\\item 'HCC'\n",
       "\\item 'HCC'\n",
       "\\item 'HCC'\n",
       "\\item 'HCC'\n",
       "\\item 'HCC'\n",
       "\\item 'HCC'\n",
       "\\item 'HCC'\n",
       "\\item 'HCC'\n",
       "\\item 'HCC'\n",
       "\\item 'HCC'\n",
       "\\item 'HCC'\n",
       "\\item 'HCC'\n",
       "\\item 'HCC'\n",
       "\\item 'HCC'\n",
       "\\item 'HCC'\n",
       "\\item 'HCC'\n",
       "\\item 'HCC'\n",
       "\\item 'HCC'\n",
       "\\item 'HCC'\n",
       "\\item 'HD'\n",
       "\\item 'HD'\n",
       "\\item 'HD'\n",
       "\\item 'HD'\n",
       "\\item 'HD'\n",
       "\\item 'HD'\n",
       "\\item 'HD'\n",
       "\\item 'HD'\n",
       "\\item 'HD'\n",
       "\\item 'HD'\n",
       "\\item 'CHB'\n",
       "\\item 'CHB'\n",
       "\\item 'CHB'\n",
       "\\end{enumerate*}\n"
      ],
      "text/markdown": [
       "1. 'HCC'\n",
       "2. 'HCC'\n",
       "3. 'HCC'\n",
       "4. 'HCC'\n",
       "5. 'HCC'\n",
       "6. 'HCC'\n",
       "7. 'HCC'\n",
       "8. 'HCC'\n",
       "9. 'HCC'\n",
       "10. 'HCC'\n",
       "11. 'HCC'\n",
       "12. 'HCC'\n",
       "13. 'HCC'\n",
       "14. 'HCC'\n",
       "15. 'HCC'\n",
       "16. 'HCC'\n",
       "17. 'HCC'\n",
       "18. 'HCC'\n",
       "19. 'HCC'\n",
       "20. 'HCC'\n",
       "21. 'HCC'\n",
       "22. 'HCC'\n",
       "23. 'HCC'\n",
       "24. 'HCC'\n",
       "25. 'HCC'\n",
       "26. 'HCC'\n",
       "27. 'HCC'\n",
       "28. 'HCC'\n",
       "29. 'HCC'\n",
       "30. 'HCC'\n",
       "31. 'HD'\n",
       "32. 'HD'\n",
       "33. 'HD'\n",
       "34. 'HD'\n",
       "35. 'HD'\n",
       "36. 'HD'\n",
       "37. 'HD'\n",
       "38. 'HD'\n",
       "39. 'HD'\n",
       "40. 'HD'\n",
       "41. 'CHB'\n",
       "42. 'CHB'\n",
       "43. 'CHB'\n",
       "\n",
       "\n"
      ],
      "text/plain": [
       " [1] \"HCC\" \"HCC\" \"HCC\" \"HCC\" \"HCC\" \"HCC\" \"HCC\" \"HCC\" \"HCC\" \"HCC\" \"HCC\" \"HCC\"\n",
       "[13] \"HCC\" \"HCC\" \"HCC\" \"HCC\" \"HCC\" \"HCC\" \"HCC\" \"HCC\" \"HCC\" \"HCC\" \"HCC\" \"HCC\"\n",
       "[25] \"HCC\" \"HCC\" \"HCC\" \"HCC\" \"HCC\" \"HCC\" \"HD\"  \"HD\"  \"HD\"  \"HD\"  \"HD\"  \"HD\" \n",
       "[37] \"HD\"  \"HD\"  \"HD\"  \"HD\"  \"CHB\" \"CHB\" \"CHB\""
      ]
     },
     "metadata": {},
     "output_type": "display_data"
    }
   ],
   "source": [
    "reads.qc$Disease_status"
   ]
  },
  {
   "cell_type": "code",
   "execution_count": 36,
   "metadata": {},
   "outputs": [
    {
     "data": {},
     "metadata": {},
     "output_type": "display_data"
    },
    {
     "data": {
      "image/png": "[encoded data removed]",
      "text/plain": [
       "plot without title"
      ]
     },
     "metadata": {},
     "output_type": "display_data"
    }
   ],
   "source": [
    "plotPCA(\n",
    "    reads.qc[endog_genes, ],\n",
    "    exprs_values = \"logcounts_raw\",\n",
    "    colour_by = \"Class\",\n",
    "    shape_by = \"Disease_status\",\n",
    "    size_by = \"total_features\"\n",
    ")"
   ]
  },
  {
   "cell_type": "markdown",
   "metadata": {},
   "source": [
    "## imputation"
   ]
  },
  {
   "cell_type": "code",
   "execution_count": 37,
   "metadata": {},
   "outputs": [],
   "source": [
    "suppressMessages(library(\"scImpute\"))\n",
    "reads.qc <- readRDS(\"new_feature/feature_3.rds\")\n",
    "sampleLables <- c()\n",
    "for(i in colnames(reads.qc)){tmp <- as.character(wholeanno[which(wholeanno$Sample_ID==i),\"Class\"]); sampleLables <- c(sampleLables,tmp)}"
   ]
  },
  {
   "cell_type": "code",
   "execution_count": 41,
   "metadata": {},
   "outputs": [
    {
     "name": "stdout",
     "output_type": "stream",
     "text": [
      "[1] \"reading in raw count matrix ...\"\n",
      "[1] \"number of genes in raw count matrix 21747\"\n",
      "[1] \"number of cells in raw count matrix 43\"\n",
      "[1] \"estimating dropout probability for type 1 ...\"\n",
      "[1] \"imputing dropout values for type 1 ...\"\n",
      "[1] \"estimating dropout probability for type 2 ...\"\n",
      "[1] \"imputing dropout values for type 2 ...\"\n",
      "[1] \"writing imputed count matrix ...\"\n"
     ]
    },
    {
     "data": {
      "text/html": [],
      "text/latex": [],
      "text/markdown": [],
      "text/plain": [
       "integer(0)"
      ]
     },
     "metadata": {},
     "output_type": "display_data"
    }
   ],
   "source": [
    "scimpute(count_path = \"new_feature/feature_3.rds.csv\", infile = \"csv\", \n",
    "         outfile = \"txt\", out_dir = \"new_feature/imputation/\", Kcluster = 5, ncores = 2, labels = as.vector(sampleLables), labeled = TRUE)"
   ]
  },
  {
   "cell_type": "code",
   "execution_count": 42,
   "metadata": {},
   "outputs": [],
   "source": [
    "res.qc <- read.table(\"new_feature/imputation/scimpute_count.txt\")\n",
    "reads.qc.impute <- SingleCellExperiment(assays = list(counts = as.matrix(res.qc)), colData = colData(reads.qc))\n",
    "reads.qc.impute <- calculateQCMetrics(reads.qc.impute)"
   ]
  },
  {
   "cell_type": "code",
   "execution_count": 43,
   "metadata": {},
   "outputs": [],
   "source": [
    "assay(reads.qc.impute, \"logcounts_raw\") <- log2(counts(reads.qc.impute) + 1)"
   ]
  },
  {
   "cell_type": "code",
   "execution_count": 44,
   "metadata": {},
   "outputs": [
    {
     "data": {},
     "metadata": {},
     "output_type": "display_data"
    },
    {
     "data": {
      "image/png": "[encoded data removed]",
      "text/plain": [
       "plot without title"
      ]
     },
     "metadata": {},
     "output_type": "display_data"
    }
   ],
   "source": [
    "plotPCA(\n",
    "    reads.qc.impute[endog_genes, ],\n",
    "    exprs_values = \"logcounts_raw\",\n",
    "    colour_by = \"Class\",\n",
    "    shape_by = \"Disease_status\",\n",
    "    size_by = \"total_features\"\n",
    ")"
   ]
  },
  {
   "cell_type": "code",
   "execution_count": 45,
   "metadata": {},
   "outputs": [
    {
     "data": {},
     "metadata": {},
     "output_type": "display_data"
    },
    {
     "data": {
      "image/png": "[encoded data removed]",
      "text/plain": [
       "plot without title"
      ]
     },
     "metadata": {},
     "output_type": "display_data"
    }
   ],
   "source": [
    "plotTSNE(\n",
    "    reads.qc.impute[endog_genes, ],\n",
    "    exprs_values = \"logcounts_raw\",\n",
    "    perplexity = 8,\n",
    "    colour_by = \"Class\",\n",
    "    shape_by = \"Disease_status\",\n",
    "    size_by = \"total_features\",\n",
    "    rand_seed = 123456,\n",
    "    ntop = 300\n",
    ")"
   ]
  },
  {
   "cell_type": "code",
   "execution_count": 55,
   "metadata": {},
   "outputs": [
    {
     "data": {
      "text/html": [
       "<table>\n",
       "<thead><tr><th></th><th scope=col>lulab_249136_B</th><th scope=col>lulab_385247_B</th><th scope=col>lulab_423976_B</th><th scope=col>lulab_497411_B</th><th scope=col>lulab_497497_B</th><th scope=col>lulab_498127_B</th><th scope=col>lulab_498187_B</th><th scope=col>lulab_498221_B</th><th scope=col>lulab_507450_B</th><th scope=col>lulab_507468_B</th><th scope=col>⋯</th><th scope=col>lulab_Normal_2</th><th scope=col>lulab_Normal_3</th><th scope=col>lulab_Normal_4</th><th scope=col>lulab_Normal_5</th><th scope=col>lulab_Normal_6</th><th scope=col>lulab_Normal_7</th><th scope=col>lulab_Normal_8</th><th scope=col>lulab_HBV_1</th><th scope=col>lulab_HBV_2</th><th scope=col>lulab_HBV_3</th></tr></thead>\n",
       "<tbody>\n",
       "\t<tr><th scope=row>miRNA_ENSG00000278267.1</th><td>    6 </td><td> 25   </td><td>   3  </td><td>   9  </td><td> 10   </td><td>  1   </td><td>   9  </td><td>  8   </td><td>  16  </td><td>   2  </td><td>⋯     </td><td>   8  </td><td>  11  </td><td>  0.00</td><td> 21   </td><td>  12  </td><td>  18  </td><td>   5  </td><td>  12  </td><td>  2   </td><td>  4   </td></tr>\n",
       "\t<tr><th scope=row>miRNA_ENSG00000284332.1</th><td>    0 </td><td>  1   </td><td>   0  </td><td>   0  </td><td>  1   </td><td>  0   </td><td>   0  </td><td>  0   </td><td>   0  </td><td>   0  </td><td>⋯     </td><td>   0  </td><td>   1  </td><td>  0.00</td><td>  0   </td><td>   0  </td><td>   0  </td><td>   0  </td><td>   0  </td><td>  0   </td><td>  0   </td></tr>\n",
       "\t<tr><th scope=row>miRNA_ENSG00000273874.1</th><td>    2 </td><td> 21   </td><td>   5  </td><td>  16  </td><td> 13   </td><td>  4   </td><td>   5  </td><td>  6   </td><td>  13  </td><td>   2  </td><td>⋯     </td><td>   9  </td><td>   4  </td><td>  0.00</td><td> 20   </td><td>  10  </td><td>  16  </td><td>   6  </td><td>  13  </td><td>  7   </td><td>  1   </td></tr>\n",
       "\t<tr><th scope=row>miRNA_ENSG00000278791.1</th><td>   14 </td><td> 10   </td><td>  13  </td><td>  12  </td><td> 27   </td><td> 12   </td><td>  23  </td><td>  2   </td><td>  87  </td><td>   8  </td><td>⋯     </td><td>  24  </td><td> 152  </td><td>171.00</td><td> 36   </td><td>  14  </td><td>   2  </td><td>   8  </td><td>   7  </td><td>  9   </td><td> 11   </td></tr>\n",
       "\t<tr><th scope=row>miRNA_ENSG00000207730.3</th><td>13980 </td><td>704   </td><td>1986  </td><td>3382  </td><td>564   </td><td>430   </td><td>2031  </td><td>664   </td><td>1031  </td><td>1295  </td><td>⋯     </td><td>1422  </td><td>1121  </td><td>425.36</td><td>256   </td><td>2310  </td><td>1748  </td><td>2501  </td><td>1355  </td><td>708   </td><td>781   </td></tr>\n",
       "\t<tr><th scope=row>miRNA_ENSG00000207607.3</th><td>13504 </td><td>617   </td><td>1598  </td><td>3637  </td><td>760   </td><td>666   </td><td>3214  </td><td>831   </td><td>1086  </td><td>1832  </td><td>⋯     </td><td>1527  </td><td>2280  </td><td>520.47</td><td>224   </td><td>2128  </td><td>1924  </td><td>1419  </td><td>1946  </td><td>448   </td><td>639   </td></tr>\n",
       "</tbody>\n",
       "</table>\n"
      ],
      "text/latex": [
       "\\begin{tabular}{r|lllllllllllllllllllllllllllllllllllllllllll}\n",
       "  & lulab\\_249136\\_B & lulab\\_385247\\_B & lulab\\_423976\\_B & lulab\\_497411\\_B & lulab\\_497497\\_B & lulab\\_498127\\_B & lulab\\_498187\\_B & lulab\\_498221\\_B & lulab\\_507450\\_B & lulab\\_507468\\_B & ⋯ & lulab\\_Normal\\_2 & lulab\\_Normal\\_3 & lulab\\_Normal\\_4 & lulab\\_Normal\\_5 & lulab\\_Normal\\_6 & lulab\\_Normal\\_7 & lulab\\_Normal\\_8 & lulab\\_HBV\\_1 & lulab\\_HBV\\_2 & lulab\\_HBV\\_3\\\\\n",
       "\\hline\n",
       "\tmiRNA\\_ENSG00000278267.1 &     6  &  25    &    3   &    9   &  10    &   1    &    9   &   8    &   16   &    2   & ⋯      &    8   &   11   &   0.00 &  21    &   12   &   18   &    5   &   12   &   2    &   4   \\\\\n",
       "\tmiRNA\\_ENSG00000284332.1 &     0  &   1    &    0   &    0   &   1    &   0    &    0   &   0    &    0   &    0   & ⋯      &    0   &    1   &   0.00 &   0    &    0   &    0   &    0   &    0   &   0    &   0   \\\\\n",
       "\tmiRNA\\_ENSG00000273874.1 &     2  &  21    &    5   &   16   &  13    &   4    &    5   &   6    &   13   &    2   & ⋯      &    9   &    4   &   0.00 &  20    &   10   &   16   &    6   &   13   &   7    &   1   \\\\\n",
       "\tmiRNA\\_ENSG00000278791.1 &    14  &  10    &   13   &   12   &  27    &  12    &   23   &   2    &   87   &    8   & ⋯      &   24   &  152   & 171.00 &  36    &   14   &    2   &    8   &    7   &   9    &  11   \\\\\n",
       "\tmiRNA\\_ENSG00000207730.3 & 13980  & 704    & 1986   & 3382   & 564    & 430    & 2031   & 664    & 1031   & 1295   & ⋯      & 1422   & 1121   & 425.36 & 256    & 2310   & 1748   & 2501   & 1355   & 708    & 781   \\\\\n",
       "\tmiRNA\\_ENSG00000207607.3 & 13504  & 617    & 1598   & 3637   & 760    & 666    & 3214   & 831    & 1086   & 1832   & ⋯      & 1527   & 2280   & 520.47 & 224    & 2128   & 1924   & 1419   & 1946   & 448    & 639   \\\\\n",
       "\\end{tabular}\n"
      ],
      "text/markdown": [
       "\n",
       "| <!--/--> | lulab_249136_B | lulab_385247_B | lulab_423976_B | lulab_497411_B | lulab_497497_B | lulab_498127_B | lulab_498187_B | lulab_498221_B | lulab_507450_B | lulab_507468_B | ⋯ | lulab_Normal_2 | lulab_Normal_3 | lulab_Normal_4 | lulab_Normal_5 | lulab_Normal_6 | lulab_Normal_7 | lulab_Normal_8 | lulab_HBV_1 | lulab_HBV_2 | lulab_HBV_3 | \n",
       "|---|---|---|---|---|---|\n",
       "| miRNA_ENSG00000278267.1 |     6  |  25    |    3   |    9   |  10    |   1    |    9   |   8    |   16   |    2   | ⋯      |    8   |   11   |   0.00 |  21    |   12   |   18   |    5   |   12   |   2    |   4    | \n",
       "| miRNA_ENSG00000284332.1 |     0  |   1    |    0   |    0   |   1    |   0    |    0   |   0    |    0   |    0   | ⋯      |    0   |    1   |   0.00 |   0    |    0   |    0   |    0   |    0   |   0    |   0    | \n",
       "| miRNA_ENSG00000273874.1 |     2  |  21    |    5   |   16   |  13    |   4    |    5   |   6    |   13   |    2   | ⋯      |    9   |    4   |   0.00 |  20    |   10   |   16   |    6   |   13   |   7    |   1    | \n",
       "| miRNA_ENSG00000278791.1 |    14  |  10    |   13   |   12   |  27    |  12    |   23   |   2    |   87   |    8   | ⋯      |   24   |  152   | 171.00 |  36    |   14   |    2   |    8   |    7   |   9    |  11    | \n",
       "| miRNA_ENSG00000207730.3 | 13980  | 704    | 1986   | 3382   | 564    | 430    | 2031   | 664    | 1031   | 1295   | ⋯      | 1422   | 1121   | 425.36 | 256    | 2310   | 1748   | 2501   | 1355   | 708    | 781    | \n",
       "| miRNA_ENSG00000207607.3 | 13504  | 617    | 1598   | 3637   | 760    | 666    | 3214   | 831    | 1086   | 1832   | ⋯      | 1527   | 2280   | 520.47 | 224    | 2128   | 1924   | 1419   | 1946   | 448    | 639    | \n",
       "\n",
       "\n"
      ],
      "text/plain": [
       "                        lulab_249136_B lulab_385247_B lulab_423976_B\n",
       "miRNA_ENSG00000278267.1     6           25               3          \n",
       "miRNA_ENSG00000284332.1     0            1               0          \n",
       "miRNA_ENSG00000273874.1     2           21               5          \n",
       "miRNA_ENSG00000278791.1    14           10              13          \n",
       "miRNA_ENSG00000207730.3 13980          704            1986          \n",
       "miRNA_ENSG00000207607.3 13504          617            1598          \n",
       "                        lulab_497411_B lulab_497497_B lulab_498127_B\n",
       "miRNA_ENSG00000278267.1    9            10              1           \n",
       "miRNA_ENSG00000284332.1    0             1              0           \n",
       "miRNA_ENSG00000273874.1   16            13              4           \n",
       "miRNA_ENSG00000278791.1   12            27             12           \n",
       "miRNA_ENSG00000207730.3 3382           564            430           \n",
       "miRNA_ENSG00000207607.3 3637           760            666           \n",
       "                        lulab_498187_B lulab_498221_B lulab_507450_B\n",
       "miRNA_ENSG00000278267.1    9             8              16          \n",
       "miRNA_ENSG00000284332.1    0             0               0          \n",
       "miRNA_ENSG00000273874.1    5             6              13          \n",
       "miRNA_ENSG00000278791.1   23             2              87          \n",
       "miRNA_ENSG00000207730.3 2031           664            1031          \n",
       "miRNA_ENSG00000207607.3 3214           831            1086          \n",
       "                        lulab_507468_B ⋯ lulab_Normal_2 lulab_Normal_3\n",
       "miRNA_ENSG00000278267.1    2           ⋯    8             11          \n",
       "miRNA_ENSG00000284332.1    0           ⋯    0              1          \n",
       "miRNA_ENSG00000273874.1    2           ⋯    9              4          \n",
       "miRNA_ENSG00000278791.1    8           ⋯   24            152          \n",
       "miRNA_ENSG00000207730.3 1295           ⋯ 1422           1121          \n",
       "miRNA_ENSG00000207607.3 1832           ⋯ 1527           2280          \n",
       "                        lulab_Normal_4 lulab_Normal_5 lulab_Normal_6\n",
       "miRNA_ENSG00000278267.1   0.00          21              12          \n",
       "miRNA_ENSG00000284332.1   0.00           0               0          \n",
       "miRNA_ENSG00000273874.1   0.00          20              10          \n",
       "miRNA_ENSG00000278791.1 171.00          36              14          \n",
       "miRNA_ENSG00000207730.3 425.36         256            2310          \n",
       "miRNA_ENSG00000207607.3 520.47         224            2128          \n",
       "                        lulab_Normal_7 lulab_Normal_8 lulab_HBV_1 lulab_HBV_2\n",
       "miRNA_ENSG00000278267.1   18              5             12          2        \n",
       "miRNA_ENSG00000284332.1    0              0              0          0        \n",
       "miRNA_ENSG00000273874.1   16              6             13          7        \n",
       "miRNA_ENSG00000278791.1    2              8              7          9        \n",
       "miRNA_ENSG00000207730.3 1748           2501           1355        708        \n",
       "miRNA_ENSG00000207607.3 1924           1419           1946        448        \n",
       "                        lulab_HBV_3\n",
       "miRNA_ENSG00000278267.1   4        \n",
       "miRNA_ENSG00000284332.1   0        \n",
       "miRNA_ENSG00000273874.1   1        \n",
       "miRNA_ENSG00000278791.1  11        \n",
       "miRNA_ENSG00000207730.3 781        \n",
       "miRNA_ENSG00000207607.3 639        "
      ]
     },
     "metadata": {},
     "output_type": "display_data"
    }
   ],
   "source": [
    "head(counts(reads.qc.impute))\n",
    "saveRDS(counts(reads.qc.impute), file = \"new_feature/imputation/feature_3_imputationresults.rds\")"
   ]
  },
  {
   "cell_type": "markdown",
   "metadata": {},
   "source": [
    "**********************\n",
    "## normalization"
   ]
  },
  {
   "cell_type": "code",
   "execution_count": 47,
   "metadata": {},
   "outputs": [
    {
     "data": {
      "text/plain": [
       "class: SingleCellExperiment \n",
       "dim: 21747 43 \n",
       "metadata(0):\n",
       "assays(2): counts logcounts_raw\n",
       "rownames(21747): miRNA_ENSG00000278267.1 miRNA_ENSG00000284332.1 ...\n",
       "  lncRNA_ENSG00000228786.5 lncRNA_ENSG00000231141.1\n",
       "rowData names(8): is_feature_control mean_counts ... total_counts\n",
       "  log10_total_counts\n",
       "colnames(43): lulab_249136_B lulab_385247_B ... lulab_HBV_2 lulab_HBV_3\n",
       "colData names(36): X Sample_ID ... pct_counts_top_500_features\n",
       "  is_cell_control\n",
       "reducedDimNames(0):\n",
       "spikeNames(0):"
      ]
     },
     "metadata": {},
     "output_type": "display_data"
    }
   ],
   "source": [
    "reads.qc.impute\n",
    "#counts logcounts_raw 是取log2的"
   ]
  },
  {
   "cell_type": "code",
   "execution_count": 48,
   "metadata": {},
   "outputs": [],
   "source": [
    "# CPM\n",
    "logcounts(reads.qc.impute) <- log2(calculateCPM(reads.qc.impute, use.size.factors = FALSE) + 1)"
   ]
  },
  {
   "cell_type": "code",
   "execution_count": 49,
   "metadata": {},
   "outputs": [
    {
     "name": "stderr",
     "output_type": "stream",
     "text": [
      "Loading required package: BiocParallel\n"
     ]
    }
   ],
   "source": [
    "# scran (CPM)\n",
    "library(scran)\n",
    "# define cluster for each sample\n",
    "sampleLables <- c()\n",
    "for(i in colnames(reads.qc.impute)){tmp <- as.character(wholeanno[which(wholeanno$Sample_ID==i),\"Class\"]); sampleLables <- c(sampleLables,tmp)}\n",
    "\n",
    "# sampleLables <- quickCluster(reads.qc.impute, min.size = 10)\n",
    "sampleLables <- replace(sampleLables, which(sampleLables==\"HCC\"),1)\n",
    "sampleLables <- replace(sampleLables, which(sampleLables==\"Ctrl\"),2)\n",
    "sampleLables <- as.numeric(sampleLables)\n",
    "reads.qc.impute <- computeSumFactors(reads.qc.impute, sizes = 5, clusters = sampleLables)\n",
    "reads.qc.impute <- normalize(reads.qc.impute)"
   ]
  },
  {
   "cell_type": "code",
   "execution_count": 51,
   "metadata": {},
   "outputs": [
    {
     "data": {},
     "metadata": {},
     "output_type": "display_data"
    },
    {
     "data": {},
     "metadata": {},
     "output_type": "display_data"
    },
    {
     "data": {
      "image/png": "[encoded data removed]",
      "text/plain": [
       "plot without title"
      ]
     },
     "metadata": {},
     "output_type": "display_data"
    },
    {
     "data": {
      "image/png": "[encoded data removed]",
      "text/plain": [
       "plot without title"
      ]
     },
     "metadata": {},
     "output_type": "display_data"
    }
   ],
   "source": [
    "plotPCA(\n",
    "    reads.qc.impute,\n",
    "    exprs_values = \"logcounts\",\n",
    "    colour_by = \"Class\",\n",
    "    shape_by = \"Disease_status\",\n",
    "    size_by = \"total_features\",\n",
    "    ntop = 300\n",
    ")\n",
    "\n",
    "plotTSNE(\n",
    "    reads.qc.impute,\n",
    "    exprs_values = \"logcounts\",\n",
    "    check_duplicates = FALSE,\n",
    "    perplexity = 8,\n",
    "    colour_by = \"Class\",\n",
    "    shape_by = \"Disease_status\",\n",
    "    size_by = \"total_features\",\n",
    "    rand_seed = 123456,\n",
    "    ntop = 1000\n",
    ")"
   ]
  },
  {
   "cell_type": "markdown",
   "metadata": {},
   "source": [
    "### save data after normalization"
   ]
  },
  {
   "cell_type": "code",
   "execution_count": 53,
   "metadata": {},
   "outputs": [],
   "source": [
    "write.csv(raw_mx[which(rownames(raw_mx) %in% top20name),seq(1,64)[wholeanno$use ==1]  ],'new_feature/top20/feature3_top20.csv')"
   ]
  },
  {
   "cell_type": "code",
   "execution_count": 54,
   "metadata": {},
   "outputs": [],
   "source": [
    "inputF1 <- t(assay(reads.qc.impute, i=\"logcounts\"))\n",
    "write.csv(data.frame(sampleID = rownames(inputF1), lables = sampleLables, inputF1),'new_feature/preprocessed/preprocessed_featur3.csv')\n"
   ]
  },
  {
   "cell_type": "code",
   "execution_count": null,
   "metadata": {},
   "outputs": [],
   "source": []
  }
 ],
 "metadata": {
  "gist": {
   "data": {
    "description": "projects/training/QC&after_full_sample_use.ipynb",
    "public": false
   },
   "id": ""
  },
  "hide_input": false,
  "kernelspec": {
   "display_name": "R",
   "language": "R",
   "name": "ir"
  },
  "language_info": {
   "codemirror_mode": "r",
   "file_extension": ".r",
   "mimetype": "text/x-r-source",
   "name": "R",
   "pygments_lexer": "r",
   "version": "3.4.3"
  },
  "toc": {
   "base_numbering": 1,
   "nav_menu": {},
   "number_sections": true,
   "sideBar": true,
   "skip_h1_title": false,
   "title_cell": "Table of Contents",
   "title_sidebar": "Contents",
   "toc_cell": false,
   "toc_position": {
    "height": "calc(100% - 180px)",
    "left": "10px",
    "top": "150px",
    "width": "201px"
   },
   "toc_section_display": true,
   "toc_window_display": false
  }
 },
 "nbformat": 4,
 "nbformat_minor": 2
}
