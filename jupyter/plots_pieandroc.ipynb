{
 "cells": [
  {
   "cell_type": "code",
   "execution_count": 1,
   "metadata": {},
   "outputs": [
    {
     "name": "stdout",
     "output_type": "stream",
     "text": [
      "Populating the interactive namespace from numpy and matplotlib\n"
     ]
    },
    {
     "name": "stderr",
     "output_type": "stream",
     "text": [
      "/Users/james/anaconda2/lib/python2.7/site-packages/IPython/core/magics/pylab.py:161: UserWarning:\n",
      "\n",
      "pylab import has clobbered these variables: ['rc']\n",
      "`%matplotlib` prevents importing * from pylab and numpy\n",
      "\n",
      "/Users/james/anaconda2/lib/python2.7/site-packages/h5py/__init__.py:36: FutureWarning:\n",
      "\n",
      "Conversion of the second argument of issubdtype from `float` to `np.floating` is deprecated. In future, it will be treated as `np.float64 == np.dtype(float).type`.\n",
      "\n"
     ]
    }
   ],
   "source": [
    "import matplotlib.animation as animation\n",
    "from matplotlib import rc\n",
    "from IPython.display import HTML, Image\n",
    "rc('animation', html='html5')\n",
    "import plotly\n",
    "import plotly.offline as off\n",
    "import plotly.plotly as py\n",
    "import plotly.graph_objs as go\n",
    "from ipywidgets import interact, FloatSlider, RadioButtons,Dropdown,SelectMultiple,FloatRangeSlider\n",
    "tableau20 = [(31, 119, 180), (174, 199, 232), (255, 127, 14), (255, 187, 120),  \n",
    "             (44, 160, 44), (152, 223, 138), (214, 39, 40), (255, 152, 150),  \n",
    "             (148, 103, 189), (197, 176, 213), (140, 86, 75), (196, 156, 148),  \n",
    "             (227, 119, 194), (247, 182, 210), (127, 127, 127), (199, 199, 199),  \n",
    "             (188, 189, 34), (219, 219, 141), (23, 190, 207), (158, 218, 229)] \n",
    "styles = [\"white\",\"dark\",'whitegrid',\"darkgrid\"]\n",
    "contexts = ['paper','talk','poster','notebook']\n",
    "import gc, argparse, sys, os, errno\n",
    "%pylab inline\n",
    "import numpy as np\n",
    "import pandas as pd\n",
    "import matplotlib.pyplot as plt\n",
    "plt.style.use('ggplot')\n",
    "import seaborn as sns\n",
    "import h5py\n",
    "import os\n",
    "import scipy\n",
    "import sklearn\n",
    "from scipy.stats import pearsonr\n",
    "import warnings\n",
    "warnings.filterwarnings('ignore')\n",
    "from ipywidgets import interact, FloatSlider,IntSlider, RadioButtons,Dropdown,Tab,Text"
   ]
  },
  {
   "cell_type": "markdown",
   "metadata": {},
   "source": [
    "## 3D"
   ]
  },
  {
   "cell_type": "code",
   "execution_count": 2,
   "metadata": {},
   "outputs": [
    {
     "data": {
      "text/html": [
       "<div>\n",
       "<style scoped>\n",
       "    .dataframe tbody tr th:only-of-type {\n",
       "        vertical-align: middle;\n",
       "    }\n",
       "\n",
       "    .dataframe tbody tr th {\n",
       "        vertical-align: top;\n",
       "    }\n",
       "\n",
       "    .dataframe thead th {\n",
       "        text-align: right;\n",
       "    }\n",
       "</style>\n",
       "<table border=\"1\" class=\"dataframe\">\n",
       "  <thead>\n",
       "    <tr style=\"text-align: right;\">\n",
       "      <th></th>\n",
       "      <th>miRNA</th>\n",
       "      <th>piRNA</th>\n",
       "      <th>Y_RNA</th>\n",
       "      <th>srpRNA</th>\n",
       "      <th>snRNA</th>\n",
       "      <th>snoRNA</th>\n",
       "      <th>tRNA</th>\n",
       "      <th>lncRNA</th>\n",
       "      <th>vaultRNA</th>\n",
       "      <th>tucpRNA</th>\n",
       "      <th>mRNA</th>\n",
       "    </tr>\n",
       "  </thead>\n",
       "  <tbody>\n",
       "    <tr>\n",
       "      <th>16</th>\n",
       "      <td>0.141872</td>\n",
       "      <td>0.466207</td>\n",
       "      <td>0.028963</td>\n",
       "      <td>4.627531</td>\n",
       "      <td>1.147089</td>\n",
       "      <td>1.630077</td>\n",
       "      <td>5.771060</td>\n",
       "      <td>2.806647</td>\n",
       "      <td>0.549985</td>\n",
       "      <td>2.016418</td>\n",
       "      <td>6.232335</td>\n",
       "    </tr>\n",
       "    <tr>\n",
       "      <th>17</th>\n",
       "      <td>0.212468</td>\n",
       "      <td>0.451972</td>\n",
       "      <td>0.069008</td>\n",
       "      <td>3.703953</td>\n",
       "      <td>1.659296</td>\n",
       "      <td>2.974727</td>\n",
       "      <td>2.349156</td>\n",
       "      <td>1.719334</td>\n",
       "      <td>0.521805</td>\n",
       "      <td>1.228207</td>\n",
       "      <td>4.262490</td>\n",
       "    </tr>\n",
       "    <tr>\n",
       "      <th>18</th>\n",
       "      <td>1.794238</td>\n",
       "      <td>0.487786</td>\n",
       "      <td>0.288242</td>\n",
       "      <td>3.892249</td>\n",
       "      <td>1.965033</td>\n",
       "      <td>1.386472</td>\n",
       "      <td>3.415628</td>\n",
       "      <td>4.776135</td>\n",
       "      <td>0.578165</td>\n",
       "      <td>3.929185</td>\n",
       "      <td>15.276062</td>\n",
       "    </tr>\n",
       "    <tr>\n",
       "      <th>19</th>\n",
       "      <td>1.293543</td>\n",
       "      <td>0.636484</td>\n",
       "      <td>0.075645</td>\n",
       "      <td>3.511703</td>\n",
       "      <td>5.053447</td>\n",
       "      <td>0.874827</td>\n",
       "      <td>3.524774</td>\n",
       "      <td>3.240123</td>\n",
       "      <td>0.101057</td>\n",
       "      <td>1.694700</td>\n",
       "      <td>6.687944</td>\n",
       "    </tr>\n",
       "    <tr>\n",
       "      <th>20</th>\n",
       "      <td>6.172386</td>\n",
       "      <td>0.476342</td>\n",
       "      <td>0.028771</td>\n",
       "      <td>4.516296</td>\n",
       "      <td>11.486705</td>\n",
       "      <td>1.053891</td>\n",
       "      <td>5.590829</td>\n",
       "      <td>5.991489</td>\n",
       "      <td>0.332323</td>\n",
       "      <td>1.675739</td>\n",
       "      <td>8.426085</td>\n",
       "    </tr>\n",
       "  </tbody>\n",
       "</table>\n",
       "</div>"
      ],
      "text/plain": [
       "       miRNA     piRNA     Y_RNA    srpRNA      snRNA    snoRNA      tRNA  \\\n",
       "16  0.141872  0.466207  0.028963  4.627531   1.147089  1.630077  5.771060   \n",
       "17  0.212468  0.451972  0.069008  3.703953   1.659296  2.974727  2.349156   \n",
       "18  1.794238  0.487786  0.288242  3.892249   1.965033  1.386472  3.415628   \n",
       "19  1.293543  0.636484  0.075645  3.511703   5.053447  0.874827  3.524774   \n",
       "20  6.172386  0.476342  0.028771  4.516296  11.486705  1.053891  5.590829   \n",
       "\n",
       "      lncRNA  vaultRNA   tucpRNA       mRNA  \n",
       "16  2.806647  0.549985  2.016418   6.232335  \n",
       "17  1.719334  0.521805  1.228207   4.262490  \n",
       "18  4.776135  0.578165  3.929185  15.276062  \n",
       "19  3.240123  0.101057  1.694700   6.687944  \n",
       "20  5.991489  0.332323  1.675739   8.426085  "
      ]
     },
     "execution_count": 2,
     "metadata": {},
     "output_type": "execute_result"
    }
   ],
   "source": [
    "pd.read_table('hcc_lulab.lengthN.stat.tsv.tmp.re.per').head()"
   ]
  },
  {
   "cell_type": "code",
   "execution_count": null,
   "metadata": {
    "deletable": false,
    "editable": false,
    "run_control": {
     "frozen": true
    }
   },
   "outputs": [],
   "source": [
    "miRNA, piRNA, Y_RNA,srpRNA,tRNA,snoRNA,snRNA,vaultRNA, lncRNA,mRNA,tucpRNA"
   ]
  },
  {
   "cell_type": "code",
   "execution_count": 40,
   "metadata": {},
   "outputs": [],
   "source": [
    "from mpl_toolkits.mplot3d import Axes3D\n",
    "import matplotlib.pyplot as plt\n",
    "import numpy as np\n",
    "\n",
    "\n",
    "def plot_3d(rnaname,count_,num,dataname,width,height,azim,elev,contextind,styind):\n",
    "    '''\n",
    "    count_ 长度种类  num rna数量\n",
    "    '''\n",
    "    sns.set_context(contexts[int(contextind)])\n",
    "    sns.set_style(styles[int(styind)])\n",
    "    if dataname =='4_len':\n",
    "        lengthdat = np.array(pd.read_table('table/per/4_len_summary.per').iloc[:,1:]).T\n",
    "    elif dataname =='final':\n",
    "        lengthdat = np.array(pd.read_table('hcc_lulab.lengthN.stat.tsv.tmp.re.per').iloc[:,np.array([0,1,2,3,6,5,4,8,7,10,9])]).T\n",
    "    fig = plt.figure(figsize=(width,height))\n",
    "    ax1 = fig.gca(projection=\"3d\")\n",
    "\n",
    "    xpos = np.repeat(np.arange(1,count_+1),num).reshape(count_,-1).T.ravel()\n",
    "    ypos = np.repeat(range(num),count_).ravel()\n",
    "    num_elements = len(xpos)\n",
    "    zpos = np.zeros(count_*num)\n",
    "    dx = np.ones(count_*num)/5\n",
    "    dy = np.ones(count_*num)/5\n",
    "    dz = lengthdat.ravel()\n",
    "\n",
    "    for i in range(num):\n",
    "        ax1.bar3d(xpos[count_*i:count_*(i+1)], ypos[count_*i:count_*(i+1)], zpos[count_*i:count_*(i+1)],\n",
    "                  dx[count_*i:count_*(i+1)], dy[count_*i:count_*(i+1)],dz[count_*i:count_*(i+1)], color=(np.array(tableau20)/float(256))[:num][i],alpha=0.9)\n",
    "    plt.xticks(range(count_), [str(i+16) for i in range(count_)], color='red')\n",
    "    #for i in range(9):\n",
    "    ax1.set_yticks(range(num))\n",
    "    if rnaname=='9kind':\n",
    "        rnanames = ['miRNA', u'piRNA', u'Y_RNA', u'snRNA', u'snoRNA', u'srpRNA', u'tRNA',\n",
    "       u'lncRNA', u'mRNA']\n",
    "    if rnaname=='11kind':\n",
    "        rnanames =  [u'miRNA', u'piRNA', u'Y_RNA', u'srpRNA', u'snRNA', u'snoRNA', u'tRNA',\n",
    "       u'lncRNA', u'vaultRNA', u'tucpRNA', u'mRNA']\n",
    "    ax1.set_yticklabels(rnanames, color='blue')\n",
    "    for color,tick in zip((np.array(tableau20)/float(256))[:num],ax1.yaxis.get_major_ticks()):\n",
    "        tick.label1.set_color(color)\n",
    "    ax1.view_init(azim=azim,elev=elev)  # 50 20\n",
    "    ax1.set_title('width,height,azim,elev: ' + str(width)+\"   \"+str(height)+\"   \"+str(azim)+\"   \"+str(elev),fontsize=30)\n",
    "    #ax1.bar3d(xpos[3:], ypos[3:], zpos[3:], dx[3:], dy[3:], dz[3:], color='b')\n",
    "    #print ('azim: '+str(azim))\n",
    "    fig.tight_layout()\n",
    "    plt.show()\n",
    "    #fig.savefig('images/length/lengthdistribution_'+str(t))"
   ]
  },
  {
   "cell_type": "code",
   "execution_count": 41,
   "metadata": {},
   "outputs": [
    {
     "data": {
      "application/vnd.jupyter.widget-view+json": {
       "model_id": "04757f49dcc741cba79baa5ef7676d14",
       "version_major": 2,
       "version_minor": 0
      },
      "text/html": [
       "<p>Failed to display Jupyter Widget of type <code>interactive</code>.</p>\n",
       "<p>\n",
       "  If you're reading this message in the Jupyter Notebook or JupyterLab Notebook, it may mean\n",
       "  that the widgets JavaScript is still loading. If this message persists, it\n",
       "  likely means that the widgets JavaScript library is either not installed or\n",
       "  not enabled. See the <a href=\"https://ipywidgets.readthedocs.io/en/stable/user_install.html\">Jupyter\n",
       "  Widgets Documentation</a> for setup instructions.\n",
       "</p>\n",
       "<p>\n",
       "  If you're reading this message in another frontend (for example, a static\n",
       "  rendering on GitHub or <a href=\"https://nbviewer.jupyter.org/\">NBViewer</a>),\n",
       "  it may mean that your frontend doesn't currently support widgets.\n",
       "</p>\n"
      ],
      "text/plain": [
       "interactive(children=(Dropdown(description=u'rnaname', options=('11kind',), value='11kind'), IntSlider(value=34, description=u'count_', max=40, min=30), IntSlider(value=11, description=u'num', max=15, min=7), Dropdown(description=u'dataname', options=('final',), value='final'), FloatSlider(value=25.0, description=u'width', max=40.0, min=4.0, step=1.0), FloatSlider(value=16.0, description=u'height', max=30.0, min=4.0, step=1.0), FloatSlider(value=45.0, description=u'azim', max=180.0, step=2.0), FloatSlider(value=32.0, description=u'elev', max=180.0, step=1.0), FloatSlider(value=2.0, description=u'contextind', max=3.0, step=1.0), FloatSlider(value=0.0, description=u'styind', max=2.0, step=1.0), Output()), _dom_classes=('widget-interact',))"
      ]
     },
     "metadata": {},
     "output_type": "display_data"
    },
    {
     "data": {
      "text/plain": [
       "<function __main__.plot_3d>"
      ]
     },
     "execution_count": 41,
     "metadata": {},
     "output_type": "execute_result"
    }
   ],
   "source": [
    "interact(plot_3d,\n",
    "         rnaname =Dropdown(options=['11kind']),\n",
    "         dataname = Dropdown(options=['final']),\n",
    "    styind=FloatSlider(min=0,max=2,step=1),\n",
    "         count_=IntSlider(min=30,max=40,step=1,value=34),\n",
    "    num=IntSlider(min=7,max=15,step=1,value=11),\n",
    "    contextind=FloatSlider(min=0,max=3,step=1,value=2),\n",
    "    width =FloatSlider(min=4,max=40,step=1,value=25),\n",
    "    height= FloatSlider(min=4,max=30,step=1,value=16),\n",
    "    azim= FloatSlider(min=0,max=180,step=2,value=45),\n",
    "    elev= FloatSlider(min=0,max=180,step=1,value=32))"
   ]
  },
  {
   "cell_type": "code",
   "execution_count": 7,
   "metadata": {},
   "outputs": [],
   "source": [
    "nameforlength = ['miRNA', u'piRNA', u'Y_RNA', u'snRNA', u'snoRNA', u'srpRNA', u'tRNA',\n",
    "       u'lncRNA', u'mRNA']"
   ]
  },
  {
   "cell_type": "code",
   "execution_count": 8,
   "metadata": {},
   "outputs": [
    {
     "data": {
      "text/html": [
       "<div>\n",
       "<style scoped>\n",
       "    .dataframe tbody tr th:only-of-type {\n",
       "        vertical-align: middle;\n",
       "    }\n",
       "\n",
       "    .dataframe tbody tr th {\n",
       "        vertical-align: top;\n",
       "    }\n",
       "\n",
       "    .dataframe thead th {\n",
       "        text-align: right;\n",
       "    }\n",
       "</style>\n",
       "<table border=\"1\" class=\"dataframe\">\n",
       "  <thead>\n",
       "    <tr style=\"text-align: right;\">\n",
       "      <th></th>\n",
       "      <th>len</th>\n",
       "      <th>miRNA</th>\n",
       "      <th>piRNA</th>\n",
       "      <th>Y_RNA</th>\n",
       "      <th>snRNA</th>\n",
       "      <th>snoRNA</th>\n",
       "      <th>srpRNA</th>\n",
       "      <th>tRNA</th>\n",
       "      <th>lncRNA</th>\n",
       "      <th>mRNA</th>\n",
       "    </tr>\n",
       "  </thead>\n",
       "  <tbody>\n",
       "    <tr>\n",
       "      <th>0</th>\n",
       "      <td>16</td>\n",
       "      <td>0.070658</td>\n",
       "      <td>1.540888</td>\n",
       "      <td>0.063933</td>\n",
       "      <td>1.365320</td>\n",
       "      <td>2.971636</td>\n",
       "      <td>4.478647</td>\n",
       "      <td>5.571676</td>\n",
       "      <td>3.695235</td>\n",
       "      <td>8.107609</td>\n",
       "    </tr>\n",
       "    <tr>\n",
       "      <th>1</th>\n",
       "      <td>17</td>\n",
       "      <td>0.100019</td>\n",
       "      <td>1.927832</td>\n",
       "      <td>0.080970</td>\n",
       "      <td>1.552815</td>\n",
       "      <td>6.777645</td>\n",
       "      <td>2.897948</td>\n",
       "      <td>3.744005</td>\n",
       "      <td>2.534494</td>\n",
       "      <td>6.565061</td>\n",
       "    </tr>\n",
       "    <tr>\n",
       "      <th>2</th>\n",
       "      <td>18</td>\n",
       "      <td>0.628072</td>\n",
       "      <td>2.281596</td>\n",
       "      <td>0.271323</td>\n",
       "      <td>2.473570</td>\n",
       "      <td>2.467265</td>\n",
       "      <td>3.771492</td>\n",
       "      <td>5.448757</td>\n",
       "      <td>4.352928</td>\n",
       "      <td>10.320454</td>\n",
       "    </tr>\n",
       "    <tr>\n",
       "      <th>3</th>\n",
       "      <td>19</td>\n",
       "      <td>0.782788</td>\n",
       "      <td>1.590149</td>\n",
       "      <td>0.172363</td>\n",
       "      <td>5.158128</td>\n",
       "      <td>1.964523</td>\n",
       "      <td>5.990017</td>\n",
       "      <td>5.249264</td>\n",
       "      <td>3.636867</td>\n",
       "      <td>7.756351</td>\n",
       "    </tr>\n",
       "    <tr>\n",
       "      <th>4</th>\n",
       "      <td>20</td>\n",
       "      <td>4.127704</td>\n",
       "      <td>1.983730</td>\n",
       "      <td>0.036394</td>\n",
       "      <td>13.573236</td>\n",
       "      <td>1.744522</td>\n",
       "      <td>6.738769</td>\n",
       "      <td>7.312699</td>\n",
       "      <td>9.331055</td>\n",
       "      <td>7.237323</td>\n",
       "    </tr>\n",
       "  </tbody>\n",
       "</table>\n",
       "</div>"
      ],
      "text/plain": [
       "   len     miRNA     piRNA     Y_RNA      snRNA    snoRNA    srpRNA      tRNA  \\\n",
       "0   16  0.070658  1.540888  0.063933   1.365320  2.971636  4.478647  5.571676   \n",
       "1   17  0.100019  1.927832  0.080970   1.552815  6.777645  2.897948  3.744005   \n",
       "2   18  0.628072  2.281596  0.271323   2.473570  2.467265  3.771492  5.448757   \n",
       "3   19  0.782788  1.590149  0.172363   5.158128  1.964523  5.990017  5.249264   \n",
       "4   20  4.127704  1.983730  0.036394  13.573236  1.744522  6.738769  7.312699   \n",
       "\n",
       "     lncRNA       mRNA  \n",
       "0  3.695235   8.107609  \n",
       "1  2.534494   6.565061  \n",
       "2  4.352928  10.320454  \n",
       "3  3.636867   7.756351  \n",
       "4  9.331055   7.237323  "
      ]
     },
     "execution_count": 8,
     "metadata": {},
     "output_type": "execute_result"
    }
   ],
   "source": [
    "pd.read_table('table/per/4_len_summary.per').head()"
   ]
  },
  {
   "cell_type": "markdown",
   "metadata": {},
   "source": [
    "np.array(pd.read_table('table/per/4_len_summary.per').iloc[:,1:])"
   ]
  },
  {
   "cell_type": "code",
   "execution_count": 9,
   "metadata": {},
   "outputs": [
    {
     "ename": "TypeError",
     "evalue": "plot_3d() takes exactly 8 arguments (6 given)",
     "output_type": "error",
     "traceback": [
      "\u001b[0;31m---------------------------------------------------------------------------\u001b[0m",
      "\u001b[0;31mTypeError\u001b[0m                                 Traceback (most recent call last)",
      "\u001b[0;32m<ipython-input-9-a9b5dba53663>\u001b[0m in \u001b[0;36m<module>\u001b[0;34m()\u001b[0m\n\u001b[0;32m----> 1\u001b[0;31m \u001b[0mplot_3d\u001b[0m\u001b[0;34m(\u001b[0m\u001b[0mnameforlength\u001b[0m\u001b[0;34m,\u001b[0m\u001b[0;36m35\u001b[0m\u001b[0;34m,\u001b[0m\u001b[0;36m9\u001b[0m\u001b[0;34m,\u001b[0m\u001b[0mnp\u001b[0m\u001b[0;34m.\u001b[0m\u001b[0marray\u001b[0m\u001b[0;34m(\u001b[0m\u001b[0mpd\u001b[0m\u001b[0;34m.\u001b[0m\u001b[0mread_table\u001b[0m\u001b[0;34m(\u001b[0m\u001b[0;34m'table/per/4_len_summary.per'\u001b[0m\u001b[0;34m)\u001b[0m\u001b[0;34m.\u001b[0m\u001b[0miloc\u001b[0m\u001b[0;34m[\u001b[0m\u001b[0;34m:\u001b[0m\u001b[0;34m,\u001b[0m\u001b[0;36m1\u001b[0m\u001b[0;34m:\u001b[0m\u001b[0;34m]\u001b[0m\u001b[0;34m)\u001b[0m\u001b[0;34m.\u001b[0m\u001b[0mT\u001b[0m\u001b[0;34m,\u001b[0m\u001b[0mazim\u001b[0m\u001b[0;34m=\u001b[0m\u001b[0;36m50\u001b[0m\u001b[0;34m,\u001b[0m\u001b[0melev\u001b[0m\u001b[0;34m=\u001b[0m\u001b[0;36m20\u001b[0m\u001b[0;34m)\u001b[0m\u001b[0;34m\u001b[0m\u001b[0m\n\u001b[0m",
      "\u001b[0;31mTypeError\u001b[0m: plot_3d() takes exactly 8 arguments (6 given)"
     ]
    }
   ],
   "source": [
    "plot_3d(nameforlength,35,9,np.array(pd.read_table('table/per/4_len_summary.per').iloc[:,1:]).T,azim=50,elev=20)"
   ]
  },
  {
   "cell_type": "code",
   "execution_count": 10,
   "metadata": {},
   "outputs": [
    {
     "ename": "TypeError",
     "evalue": "plot_3d() takes exactly 8 arguments (6 given)",
     "output_type": "error",
     "traceback": [
      "\u001b[0;31m---------------------------------------------------------------------------\u001b[0m",
      "\u001b[0;31mTypeError\u001b[0m                                 Traceback (most recent call last)",
      "\u001b[0;32m<ipython-input-10-49a5ea69b436>\u001b[0m in \u001b[0;36m<module>\u001b[0;34m()\u001b[0m\n\u001b[0;32m----> 1\u001b[0;31m \u001b[0mplot_3d\u001b[0m\u001b[0;34m(\u001b[0m\u001b[0mnameforlength\u001b[0m\u001b[0;34m,\u001b[0m\u001b[0;36m35\u001b[0m\u001b[0;34m,\u001b[0m\u001b[0;36m9\u001b[0m\u001b[0;34m,\u001b[0m\u001b[0mnp\u001b[0m\u001b[0;34m.\u001b[0m\u001b[0marray\u001b[0m\u001b[0;34m(\u001b[0m\u001b[0mpd\u001b[0m\u001b[0;34m.\u001b[0m\u001b[0mread_table\u001b[0m\u001b[0;34m(\u001b[0m\u001b[0;34m'table/per/64_len_summary.per'\u001b[0m\u001b[0;34m)\u001b[0m\u001b[0;34m.\u001b[0m\u001b[0miloc\u001b[0m\u001b[0;34m[\u001b[0m\u001b[0;34m:\u001b[0m\u001b[0;34m,\u001b[0m\u001b[0;36m1\u001b[0m\u001b[0;34m:\u001b[0m\u001b[0;34m]\u001b[0m\u001b[0;34m)\u001b[0m\u001b[0;34m.\u001b[0m\u001b[0mT\u001b[0m\u001b[0;34m,\u001b[0m\u001b[0mazim\u001b[0m\u001b[0;34m=\u001b[0m\u001b[0;36m50\u001b[0m\u001b[0;34m,\u001b[0m\u001b[0melev\u001b[0m\u001b[0;34m=\u001b[0m\u001b[0;36m20\u001b[0m\u001b[0;34m)\u001b[0m\u001b[0;34m\u001b[0m\u001b[0m\n\u001b[0m",
      "\u001b[0;31mTypeError\u001b[0m: plot_3d() takes exactly 8 arguments (6 given)"
     ]
    }
   ],
   "source": [
    "plot_3d(nameforlength,35,9,np.array(pd.read_table('table/per/64_len_summary.per').iloc[:,1:]).T,azim=50,elev=20)"
   ]
  },
  {
   "cell_type": "code",
   "execution_count": 428,
   "metadata": {},
   "outputs": [
    {
     "data": {
      "text/plain": [
       "(35, 9)"
      ]
     },
     "execution_count": 428,
     "metadata": {},
     "output_type": "execute_result"
    }
   ],
   "source": [
    "np.array(pd.read_table('table/per/4_len_summary.per').iloc[:,1:]).shape"
   ]
  },
  {
   "cell_type": "code",
   "execution_count": 426,
   "metadata": {},
   "outputs": [
    {
     "data": {
      "application/vnd.jupyter.widget-view+json": {
       "model_id": "e77bd0e18c3743ab9bc4b0e1369d84cf",
       "version_major": 2,
       "version_minor": 0
      },
      "text/html": [
       "<p>Failed to display Jupyter Widget of type <code>interactive</code>.</p>\n",
       "<p>\n",
       "  If you're reading this message in the Jupyter Notebook or JupyterLab Notebook, it may mean\n",
       "  that the widgets JavaScript is still loading. If this message persists, it\n",
       "  likely means that the widgets JavaScript library is either not installed or\n",
       "  not enabled. See the <a href=\"https://ipywidgets.readthedocs.io/en/stable/user_install.html\">Jupyter\n",
       "  Widgets Documentation</a> for setup instructions.\n",
       "</p>\n",
       "<p>\n",
       "  If you're reading this message in another frontend (for example, a static\n",
       "  rendering on GitHub or <a href=\"https://nbviewer.jupyter.org/\">NBViewer</a>),\n",
       "  it may mean that your frontend doesn't currently support widgets.\n",
       "</p>\n"
      ],
      "text/plain": [
       "interactive(children=(FloatSlider(value=1.0, description=u'styind', max=2.0, step=1.0), FloatSlider(value=0.0, description=u'contextind', max=3.0, step=1.0), FloatSlider(value=12.0, description=u'width', max=20.0, min=8.0, step=1.0), FloatSlider(value=6.0, description=u'height', max=10.0, min=4.0, step=1.0), FloatSlider(value=1.5, description=u'linewid', max=3.0, min=1.0, step=0.2), Output()), _dom_classes=('widget-interact',))"
      ]
     },
     "metadata": {},
     "output_type": "display_data"
    },
    {
     "data": {
      "text/plain": [
       "<function __main__.line_plot>"
      ]
     },
     "execution_count": 426,
     "metadata": {},
     "output_type": "execute_result"
    }
   ],
   "source": [
    "def line_plot(styind,contextind,width,height,linewid):\n",
    "    sns.set_context(contexts[int(contextind)])\n",
    "    sns.set_style(styles[int(styind)])\n",
    "\n",
    "    fig, ax = plt.subplots(figsize=(width,height))\n",
    "    for i in range(len(nameforlength)):\n",
    "        ax.plot(np.arange(16,51),np.array(pd.read_table('table/per/4_len_summary.per').iloc[:,1:])[:,i],\n",
    "            linewidth=linewid,label = nameforlength[i])\n",
    "    ax.legend()\n",
    "interact(line_plot,styind=FloatSlider(min=0,max=2,step=1,value=1),\n",
    "               contextind=FloatSlider(min=0,max=3,step=1),\n",
    "                width =FloatSlider(min=8,max=20,step=1,value=12),\n",
    "                 height= FloatSlider(min=4,max=10,step=1,value=6),\n",
    "        linewid= FloatSlider(min=1,max=3,step=0.2,value=1.5))"
   ]
  },
  {
   "cell_type": "code",
   "execution_count": 427,
   "metadata": {},
   "outputs": [
    {
     "data": {
      "application/vnd.jupyter.widget-view+json": {
       "model_id": "6edc36953cda4bae80a468695c31025d",
       "version_major": 2,
       "version_minor": 0
      },
      "text/html": [
       "<p>Failed to display Jupyter Widget of type <code>interactive</code>.</p>\n",
       "<p>\n",
       "  If you're reading this message in the Jupyter Notebook or JupyterLab Notebook, it may mean\n",
       "  that the widgets JavaScript is still loading. If this message persists, it\n",
       "  likely means that the widgets JavaScript library is either not installed or\n",
       "  not enabled. See the <a href=\"https://ipywidgets.readthedocs.io/en/stable/user_install.html\">Jupyter\n",
       "  Widgets Documentation</a> for setup instructions.\n",
       "</p>\n",
       "<p>\n",
       "  If you're reading this message in another frontend (for example, a static\n",
       "  rendering on GitHub or <a href=\"https://nbviewer.jupyter.org/\">NBViewer</a>),\n",
       "  it may mean that your frontend doesn't currently support widgets.\n",
       "</p>\n"
      ],
      "text/plain": [
       "interactive(children=(FloatSlider(value=1.0, description=u'styind', max=2.0, step=1.0), FloatSlider(value=0.0, description=u'contextind', max=3.0, step=1.0), FloatSlider(value=12.0, description=u'width', max=20.0, min=8.0, step=1.0), FloatSlider(value=12.0, description=u'height', max=20.0, min=8.0, step=1.0), FloatSlider(value=1.5, description=u'linewid', max=3.0, min=1.0, step=0.2), FloatSlider(value=8.0, description=u'fontsize', max=10.0, min=5.0, step=0.4), Output()), _dom_classes=('widget-interact',))"
      ]
     },
     "metadata": {},
     "output_type": "display_data"
    },
    {
     "data": {
      "text/plain": [
       "<function __main__.line_plot>"
      ]
     },
     "execution_count": 427,
     "metadata": {},
     "output_type": "execute_result"
    }
   ],
   "source": [
    "def line_plot(styind,contextind,width,height,linewid,fontsize):\n",
    "    sns.set_context(contexts[int(contextind)])\n",
    "    sns.set_style(styles[int(styind)])\n",
    "\n",
    "    fig, ax = plt.subplots(len(nameforlength),figsize=(width,height))\n",
    "    for i in range(len(nameforlength)):\n",
    "        ax[i].plot(np.arange(16,51),np.array(pd.read_table('table/per/4_len_summary.per').iloc[:,1:])[:,i],\n",
    "            linewidth=linewid,label = nameforlength[i],color=['b', 'g', 'r', 'c', 'm', 'y', 'b', 'g', 'r', 'c', 'm', 'y'][i])\n",
    "        ax[i].legend(prop={'size': fontsize})\n",
    "interact(line_plot,styind=FloatSlider(min=0,max=2,step=1,value=1),\n",
    "               contextind=FloatSlider(min=0,max=3,step=1),\n",
    "                width =FloatSlider(min=8,max=20,step=1,value=12),\n",
    "                 height= FloatSlider(min=8,max=20,step=1,value=12),\n",
    "         fontsize= FloatSlider(min=5,max=10,step=0.4,value=8),\n",
    "        linewid= FloatSlider(min=1,max=3,step=0.2,value=1.5))"
   ]
  },
  {
   "cell_type": "code",
   "execution_count": 14,
   "metadata": {},
   "outputs": [
    {
     "data": {
      "text/plain": [
       "[<matplotlib.lines.Line2D at 0x1a21c060d0>,\n",
       " <matplotlib.lines.Line2D at 0x1a21c06190>,\n",
       " <matplotlib.lines.Line2D at 0x1a21c06250>,\n",
       " <matplotlib.lines.Line2D at 0x1a21c06310>,\n",
       " <matplotlib.lines.Line2D at 0x1a21c063d0>,\n",
       " <matplotlib.lines.Line2D at 0x1a21c06490>,\n",
       " <matplotlib.lines.Line2D at 0x1a21c06550>,\n",
       " <matplotlib.lines.Line2D at 0x1a21c06610>,\n",
       " <matplotlib.lines.Line2D at 0x1a21c066d0>]"
      ]
     },
     "execution_count": 14,
     "metadata": {},
     "output_type": "execute_result"
    },
    {
     "data": {
      "image/png": "[encoded data removed]",
      "text/plain": [
       "<matplotlib.figure.Figure at 0x1a21d523d0>"
      ]
     },
     "metadata": {},
     "output_type": "display_data"
    }
   ],
   "source": [
    "plt.plot(np.array(pd.read_table('table/per/4_len_summary.per').iloc[:,1:]))"
   ]
  },
  {
   "cell_type": "code",
   "execution_count": 16,
   "metadata": {},
   "outputs": [
    {
     "data": {
      "text/plain": [
       "[<matplotlib.lines.Line2D at 0x1a22a609d0>,\n",
       " <matplotlib.lines.Line2D at 0x1a22a60a90>,\n",
       " <matplotlib.lines.Line2D at 0x1a22a60b50>,\n",
       " <matplotlib.lines.Line2D at 0x1a22a60c10>,\n",
       " <matplotlib.lines.Line2D at 0x1a22a60cd0>,\n",
       " <matplotlib.lines.Line2D at 0x1a22a60d90>,\n",
       " <matplotlib.lines.Line2D at 0x1a22a60e50>,\n",
       " <matplotlib.lines.Line2D at 0x1a22a60f10>,\n",
       " <matplotlib.lines.Line2D at 0x1a22a60fd0>]"
      ]
     },
     "execution_count": 16,
     "metadata": {},
     "output_type": "execute_result"
    },
    {
     "data": {
      "image/png": "[encoded data removed]",
      "text/plain": [
       "<matplotlib.figure.Figure at 0x111475190>"
      ]
     },
     "metadata": {},
     "output_type": "display_data"
    }
   ],
   "source": [
    "plt.plot(np.array(pd.read_table('table/per/64_len_summary.per').iloc[:,1:]))"
   ]
  },
  {
   "cell_type": "markdown",
   "metadata": {},
   "source": [
    "## pie"
   ]
  },
  {
   "cell_type": "code",
   "execution_count": 3,
   "metadata": {},
   "outputs": [
    {
     "data": {
      "text/plain": [
       "array([1.04276420e-03, 4.66056489e-01, 8.71460616e-03, 3.78655373e-01,\n",
       "       4.77542138e-03, 2.21349038e-03, 1.49202312e-04, 1.05579849e-03,\n",
       "       3.38186611e-03, 5.16146276e-03, 5.21873242e-02, 7.66062017e-02])"
      ]
     },
     "execution_count": 3,
     "metadata": {},
     "output_type": "execute_result"
    }
   ],
   "source": [
    "np.average(np.array(pd.read_table('table/per/4_order_summary.per').iloc[:,2:]),axis=0)/100."
   ]
  },
  {
   "cell_type": "code",
   "execution_count": 4,
   "metadata": {},
   "outputs": [
    {
     "data": {
      "text/plain": [
       "Index([u'sample', u'cleanN', u'rRNA_N', u'miRNA', u'piRNA', u'Y_RNA', u'snRNA',\n",
       "       u'snoRNA', u'srpRNA', u'tRNA', u'lncRNA', u'mRNA', u'hg38other',\n",
       "       u'nonHuman_N'],\n",
       "      dtype='object')"
      ]
     },
     "execution_count": 4,
     "metadata": {},
     "output_type": "execute_result"
    }
   ],
   "source": [
    "pd.read_table('table/per/4_order_summary.per').columns"
   ]
  },
  {
   "cell_type": "code",
   "execution_count": 11,
   "metadata": {},
   "outputs": [],
   "source": [
    "ratiornanames = ['rRNA_N', u'miRNA', u'piRNA', u'Y_RNA', u'snRNA',\n",
    "       u'snoRNA', u'srpRNA', u'tRNA', u'lncRNA', u'mRNA', u'hg38other',\n",
    "       u'nonHuman_N']"
   ]
  },
  {
   "cell_type": "code",
   "execution_count": null,
   "metadata": {},
   "outputs": [],
   "source": [
    "[(31, 119, 180), (174, 199, 232), (255, 127, 14), (255, 187, 120),  \n",
    "             (44, 160, 44), (152, 223, 138), (214, 39, 40), (255, 152, 150),  \n",
    "             (148, 103, 189), (197, 176, 213), (140, 86, 75), (196, 156, 148),  \n",
    "             (227, 119, 194), (247, 182, 210), (127, 127, 127), (199, 199, 199),  \n",
    "             (188, 189, 34), (219, 219, 141), (23, 190, 207), (158, 218, 229)] "
   ]
  },
  {
   "cell_type": "code",
   "execution_count": 31,
   "metadata": {},
   "outputs": [],
   "source": [
    "def draw_pie_fig(rnanames,data):\n",
    "    fig = {\n",
    "      \"data\": [\n",
    "        {\n",
    "          \"values\": data,\n",
    "          \"labels\":rnanames,\n",
    "          \"domain\": {\"x\": [0.],\"y\":[0.2]},\n",
    "          #\"name\": centertext,\n",
    "         # \"hoverinfo\":\"label+percent\",\n",
    "          \"hole\": .4,\n",
    "          \"type\": \"pie\",\n",
    "            \"marker\": {\"colors\":['rgb(31, 119, 180)', 'rgb(174, 199, 232)', 'rgb(255, 127, 14)', 'rgb(255, 187, 120)',  \n",
    "             'rgb(44, 160, 44)', 'rgb(152, 223, 138)', 'rgb(214, 39, 40)', 'rgb(255, 152, 150)',  \n",
    "             'rgb(148, 103, 189)', 'rgb(197, 176, 213)', 'rgb(140, 86, 75)', 'rgb(196, 156, 148)']}\n",
    "        }\n",
    "           \n",
    "      ]\n",
    "    }\n",
    "    return fig"
   ]
  },
  {
   "cell_type": "code",
   "execution_count": 25,
   "metadata": {},
   "outputs": [],
   "source": [
    "rnanames = np.array(['length', 'miRNA', \n",
    "            'Y_RNA', 'piRNA', 'srpRNA', \n",
    "            'snoRNA', 'snRNA', 'tRNA','vaultRNA',\n",
    "            'tucpRNA', 'lncRNA','mRNA' ])\n",
    "dataarr =np.array([[1.69530011e+07, 1.50462019e+07, 5.33691780e+05, 1.05310000e+04,\n",
    "        7.95755169e+05, 2.85018305e+04, 2.00353627e+05, 5.21037288e+03,\n",
    "        3.79830593e+05, 2.23343749e+06, 1.03443763e+05]])\n",
    "ratio = dataarr/np.sum(dataarr)"
   ]
  },
  {
   "cell_type": "code",
   "execution_count": 33,
   "metadata": {},
   "outputs": [
    {
     "data": {
      "text/html": [
       "<iframe id=\"igraph\" scrolling=\"no\" style=\"border:none;\" seamless=\"seamless\" src=\"https://plot.ly/~james20141606/331.embed\" height=\"525px\" width=\"100%\"></iframe>"
      ],
      "text/plain": [
       "<plotly.tools.PlotlyDisplay object>"
      ]
     },
     "execution_count": 33,
     "metadata": {},
     "output_type": "execute_result"
    }
   ],
   "source": [
    "py.iplot(draw_pie_fig(ratiornanames,np.average(np.array(pd.read_table('table/per/64_order_summary.per').iloc[:,2:])\n",
    "                                            ,axis=0)/100.))"
   ]
  },
  {
   "cell_type": "code",
   "execution_count": 34,
   "metadata": {},
   "outputs": [
    {
     "data": {
      "text/html": [
       "<iframe id=\"igraph\" scrolling=\"no\" style=\"border:none;\" seamless=\"seamless\" src=\"https://plot.ly/~james20141606/333.embed\" height=\"525px\" width=\"100%\"></iframe>"
      ],
      "text/plain": [
       "<plotly.tools.PlotlyDisplay object>"
      ]
     },
     "execution_count": 34,
     "metadata": {},
     "output_type": "execute_result"
    }
   ],
   "source": [
    "py.iplot(draw_pie_fig(ratiornanames,np.average(np.array(pd.read_table('table/per/4_order_summary.per').iloc[:,2:])\n",
    "                                            ,axis=0)/100.))"
   ]
  },
  {
   "cell_type": "markdown",
   "metadata": {},
   "source": [
    "## ROC and boxplot"
   ]
  },
  {
   "cell_type": "markdown",
   "metadata": {},
   "source": [
    "### boxplot"
   ]
  },
  {
   "cell_type": "markdown",
   "metadata": {},
   "source": [
    "#### data load"
   ]
  },
  {
   "cell_type": "code",
   "execution_count": 3,
   "metadata": {},
   "outputs": [
    {
     "data": {
      "text/html": [
       "<div>\n",
       "<style scoped>\n",
       "    .dataframe tbody tr th:only-of-type {\n",
       "        vertical-align: middle;\n",
       "    }\n",
       "\n",
       "    .dataframe tbody tr th {\n",
       "        vertical-align: top;\n",
       "    }\n",
       "\n",
       "    .dataframe thead th {\n",
       "        text-align: right;\n",
       "    }\n",
       "</style>\n",
       "<table border=\"1\" class=\"dataframe\">\n",
       "  <thead>\n",
       "    <tr style=\"text-align: right;\">\n",
       "      <th></th>\n",
       "      <th>BCLC</th>\n",
       "      <th>S domain-HCC</th>\n",
       "      <th>S domain-Health</th>\n",
       "    </tr>\n",
       "  </thead>\n",
       "  <tbody>\n",
       "    <tr>\n",
       "      <th>0</th>\n",
       "      <td>B</td>\n",
       "      <td>8.60</td>\n",
       "      <td>4.20</td>\n",
       "    </tr>\n",
       "    <tr>\n",
       "      <th>1</th>\n",
       "      <td>C</td>\n",
       "      <td>4.85</td>\n",
       "      <td>2.39</td>\n",
       "    </tr>\n",
       "    <tr>\n",
       "      <th>2</th>\n",
       "      <td>B</td>\n",
       "      <td>9.24</td>\n",
       "      <td>2.41</td>\n",
       "    </tr>\n",
       "    <tr>\n",
       "      <th>3</th>\n",
       "      <td>B</td>\n",
       "      <td>2.26</td>\n",
       "      <td>6.01</td>\n",
       "    </tr>\n",
       "    <tr>\n",
       "      <th>4</th>\n",
       "      <td>B</td>\n",
       "      <td>7.76</td>\n",
       "      <td>2.44</td>\n",
       "    </tr>\n",
       "    <tr>\n",
       "      <th>5</th>\n",
       "      <td>C</td>\n",
       "      <td>1.20</td>\n",
       "      <td>6.62</td>\n",
       "    </tr>\n",
       "    <tr>\n",
       "      <th>6</th>\n",
       "      <td>A</td>\n",
       "      <td>4.56</td>\n",
       "      <td>6.00</td>\n",
       "    </tr>\n",
       "    <tr>\n",
       "      <th>7</th>\n",
       "      <td>B</td>\n",
       "      <td>1.04</td>\n",
       "      <td>-2.70</td>\n",
       "    </tr>\n",
       "    <tr>\n",
       "      <th>8</th>\n",
       "      <td>C</td>\n",
       "      <td>10.29</td>\n",
       "      <td>-0.28</td>\n",
       "    </tr>\n",
       "    <tr>\n",
       "      <th>9</th>\n",
       "      <td>NaN</td>\n",
       "      <td>9.81</td>\n",
       "      <td>2.12</td>\n",
       "    </tr>\n",
       "  </tbody>\n",
       "</table>\n",
       "</div>"
      ],
      "text/plain": [
       "  BCLC  S domain-HCC  S domain-Health\n",
       "0    B          8.60             4.20\n",
       "1    C          4.85             2.39\n",
       "2    B          9.24             2.41\n",
       "3    B          2.26             6.01\n",
       "4    B          7.76             2.44\n",
       "5    C          1.20             6.62\n",
       "6    A          4.56             6.00\n",
       "7    B          1.04            -2.70\n",
       "8    C         10.29            -0.28\n",
       "9  NaN          9.81             2.12"
      ]
     },
     "metadata": {},
     "output_type": "display_data"
    },
    {
     "data": {
      "text/html": [
       "<div>\n",
       "<style scoped>\n",
       "    .dataframe tbody tr th:only-of-type {\n",
       "        vertical-align: middle;\n",
       "    }\n",
       "\n",
       "    .dataframe tbody tr th {\n",
       "        vertical-align: top;\n",
       "    }\n",
       "\n",
       "    .dataframe thead th {\n",
       "        text-align: right;\n",
       "    }\n",
       "</style>\n",
       "<table border=\"1\" class=\"dataframe\">\n",
       "  <thead>\n",
       "    <tr style=\"text-align: right;\">\n",
       "      <th></th>\n",
       "      <th>S domain-HCC</th>\n",
       "    </tr>\n",
       "  </thead>\n",
       "  <tbody>\n",
       "    <tr>\n",
       "      <th>0</th>\n",
       "      <td>8.60</td>\n",
       "    </tr>\n",
       "    <tr>\n",
       "      <th>2</th>\n",
       "      <td>9.24</td>\n",
       "    </tr>\n",
       "    <tr>\n",
       "      <th>3</th>\n",
       "      <td>2.26</td>\n",
       "    </tr>\n",
       "    <tr>\n",
       "      <th>4</th>\n",
       "      <td>7.76</td>\n",
       "    </tr>\n",
       "    <tr>\n",
       "      <th>7</th>\n",
       "      <td>1.04</td>\n",
       "    </tr>\n",
       "  </tbody>\n",
       "</table>\n",
       "</div>"
      ],
      "text/plain": [
       "   S domain-HCC\n",
       "0          8.60\n",
       "2          9.24\n",
       "3          2.26\n",
       "4          7.76\n",
       "7          1.04"
      ]
     },
     "metadata": {},
     "output_type": "display_data"
    }
   ],
   "source": [
    "datatable = pd.read_excel('ROC.xlsx')\n",
    "display(datatable.head(10))\n",
    "display(datatable.loc[datatable['BCLC'] ==\"B\",[\"S domain-HCC\"]].head())"
   ]
  },
  {
   "cell_type": "code",
   "execution_count": 4,
   "metadata": {},
   "outputs": [],
   "source": [
    "def load_data(filepath):\n",
    "    datatable = pd.read_excel(filepath)\n",
    "    return np.array(datatable.loc[datatable['BCLC'] ==\"A\",[\"S domain-HCC\"]]).ravel().astype('float'),np.array(datatable.loc[datatable['BCLC'] ==\"B\",[\"S domain-HCC\"]]).ravel().astype('float'),np.array(datatable.loc[datatable['BCLC'] ==\"C\",[\"S domain-HCC\"]]).ravel().astype('float'),np.array(datatable['S domain-Health']).ravel().astype('float')"
   ]
  },
  {
   "cell_type": "code",
   "execution_count": 5,
   "metadata": {},
   "outputs": [],
   "source": [
    "stageA,stageB,stageC,health = load_data('ROC.xlsx')\n",
    "health = health[~np.isnan(health)]\n",
    "hcc = np.concatenate((stageA,stageB,stageC))"
   ]
  },
  {
   "cell_type": "markdown",
   "metadata": {},
   "source": [
    "##### create table:\n",
    "sample stage expression <br>\n",
    "1 hcc a b c health \n",
    "注意，画图的时候\n",
    "cell free、exosome各自用 HCC HD  CHB 画一张图  用sample列\n",
    "先整理一个whole tab  用来画stage\n",
    "然后合起来画hcc health chb\n"
   ]
  },
  {
   "cell_type": "code",
   "execution_count": 6,
   "metadata": {},
   "outputs": [
    {
     "data": {
      "text/html": [
       "<div>\n",
       "<style scoped>\n",
       "    .dataframe tbody tr th:only-of-type {\n",
       "        vertical-align: middle;\n",
       "    }\n",
       "\n",
       "    .dataframe tbody tr th {\n",
       "        vertical-align: top;\n",
       "    }\n",
       "\n",
       "    .dataframe thead th {\n",
       "        text-align: right;\n",
       "    }\n",
       "</style>\n",
       "<table border=\"1\" class=\"dataframe\">\n",
       "  <thead>\n",
       "    <tr style=\"text-align: right;\">\n",
       "      <th></th>\n",
       "      <th>sample</th>\n",
       "      <th>stage</th>\n",
       "      <th>expression</th>\n",
       "    </tr>\n",
       "  </thead>\n",
       "  <tbody>\n",
       "    <tr>\n",
       "      <th>0</th>\n",
       "      <td>hcc</td>\n",
       "      <td>stageA</td>\n",
       "      <td>4.56</td>\n",
       "    </tr>\n",
       "    <tr>\n",
       "      <th>1</th>\n",
       "      <td>hcc</td>\n",
       "      <td>stageA</td>\n",
       "      <td>6.35</td>\n",
       "    </tr>\n",
       "    <tr>\n",
       "      <th>2</th>\n",
       "      <td>hcc</td>\n",
       "      <td>stageA</td>\n",
       "      <td>9.91</td>\n",
       "    </tr>\n",
       "    <tr>\n",
       "      <th>3</th>\n",
       "      <td>hcc</td>\n",
       "      <td>stageA</td>\n",
       "      <td>4.07</td>\n",
       "    </tr>\n",
       "    <tr>\n",
       "      <th>4</th>\n",
       "      <td>hcc</td>\n",
       "      <td>stageA</td>\n",
       "      <td>5.70</td>\n",
       "    </tr>\n",
       "  </tbody>\n",
       "</table>\n",
       "</div>"
      ],
      "text/plain": [
       "  sample   stage  expression\n",
       "0    hcc  stageA        4.56\n",
       "1    hcc  stageA        6.35\n",
       "2    hcc  stageA        9.91\n",
       "3    hcc  stageA        4.07\n",
       "4    hcc  stageA        5.70"
      ]
     },
     "execution_count": 6,
     "metadata": {},
     "output_type": "execute_result"
    }
   ],
   "source": [
    "stageAtab = pd.DataFrame(np.concatenate((np.repeat('hcc',stageA.shape[0]).reshape(-1,1),\n",
    "                                         np.repeat('stageA',stageA.shape[0]).reshape(-1,1),stageA.reshape(-1,1)),axis=1))\n",
    "stageBtab = pd.DataFrame(np.concatenate((np.repeat('hcc',stageB.shape[0]).reshape(-1,1),\n",
    "                                         np.repeat('stageB',stageB.shape[0]).reshape(-1,1),stageB.reshape(-1,1)),axis=1))\n",
    "stageCtab = pd.DataFrame(np.concatenate((np.repeat('hcc',stageC.shape[0]).reshape(-1,1),\n",
    "                                         np.repeat('stageC',stageC.shape[0]).reshape(-1,1),stageC.reshape(-1,1)),axis=1))\n",
    "healthtab = pd.DataFrame(np.concatenate((np.repeat('health',health.shape[0]*2).reshape(-1,2),health.reshape(-1,1)),axis=1))\n",
    "wholetab = pd.concat((stageAtab,stageBtab,stageCtab,healthtab),axis=0)\n",
    "wholetab.columns = ['sample','stage','expression']\n",
    "wholetab.head()\n",
    "wholetab['expression'] = pd.to_numeric(wholetab['expression'])\n",
    "wholetab.head()"
   ]
  },
  {
   "cell_type": "markdown",
   "metadata": {},
   "source": [
    "##### wilcoxon test for pvalue"
   ]
  },
  {
   "cell_type": "code",
   "execution_count": 7,
   "metadata": {},
   "outputs": [
    {
     "name": "stdout",
     "output_type": "stream",
     "text": [
      "hcc vs health p value: 1.3986894714551318e-11\n",
      "stageA vs health p value: 8.59708134367873e-06\n",
      "stageB vs health p value: 2.605179305102531e-10\n",
      "stageC vs health p value: 2.605179305102531e-10\n"
     ]
    }
   ],
   "source": [
    "import scipy.stats as ss\n",
    "values_per_group = [col for col_name, col in wholetab.groupby('sample')['expression']]\n",
    "print ('hcc vs health p value: '+ str(ss.ranksums(*values_per_group)[1]))\n",
    "print ('stageA vs health p value: '+ str(ss.ranksums(wholetab[wholetab['stage']==\"stageA\"]['expression'],wholetab[wholetab['stage']==\"health\"]['expression'])[1]))\n",
    "print ('stageB vs health p value: '+ str(ss.ranksums(wholetab[wholetab['stage']==\"stageB\"]['expression'],wholetab[wholetab['stage']==\"health\"]['expression'])[1]))\n",
    "print ('stageC vs health p value: '+ str(ss.ranksums(wholetab[wholetab['stage']==\"stageB\"]['expression'],wholetab[wholetab['stage']==\"health\"]['expression'])[1]))\n"
   ]
  },
  {
   "cell_type": "markdown",
   "metadata": {},
   "source": [
    "#####  fold change"
   ]
  },
  {
   "cell_type": "code",
   "execution_count": 8,
   "metadata": {},
   "outputs": [
    {
     "name": "stdout",
     "output_type": "stream",
     "text": [
      "hcc vs health fold change: 3.0088923379492036\n",
      "stageA vs health fold change: 3.0088923379492036\n",
      "stageB vs health fold change: 3.5900498279139055\n",
      "stageC vs health fold change: 3.3826475574048387\n"
     ]
    }
   ],
   "source": [
    "fc1 = np.average(wholetab[wholetab['sample']==\"hcc\"]['expression'])/np.average(wholetab[wholetab['sample']==\"health\"]['expression'])\n",
    "fc2 = np.average(wholetab[wholetab['stage']==\"stageA\"]['expression'])/np.average(wholetab[wholetab['stage']==\"health\"]['expression'])\n",
    "fc3 = np.average(wholetab[wholetab['stage']==\"stageB\"]['expression'])/np.average(wholetab[wholetab['stage']==\"health\"]['expression'])\n",
    "fc4 = np.average(wholetab[wholetab['stage']==\"stageC\"]['expression'])/np.average(wholetab[wholetab['stage']==\"health\"]['expression'])\n",
    "print ('hcc vs health fold change: '+ str(fc1))\n",
    "print ('stageA vs health fold change: '+ str(fc1))\n",
    "print ('stageB vs health fold change: '+ str(fc3))\n",
    "print ('stageC vs health fold change: '+ str(fc4))\n"
   ]
  },
  {
   "cell_type": "code",
   "execution_count": null,
   "metadata": {},
   "outputs": [],
   "source": []
  },
  {
   "cell_type": "markdown",
   "metadata": {},
   "source": [
    "##### health vs hcc"
   ]
  },
  {
   "cell_type": "code",
   "execution_count": 9,
   "metadata": {},
   "outputs": [
    {
     "data": {
      "application/vnd.jupyter.widget-view+json": {
       "model_id": "b251f53a4223454e835788d533d6559b",
       "version_major": 2,
       "version_minor": 0
      },
      "text/html": [
       "<p>Failed to display Jupyter Widget of type <code>interactive</code>.</p>\n",
       "<p>\n",
       "  If you're reading this message in the Jupyter Notebook or JupyterLab Notebook, it may mean\n",
       "  that the widgets JavaScript is still loading. If this message persists, it\n",
       "  likely means that the widgets JavaScript library is either not installed or\n",
       "  not enabled. See the <a href=\"https://ipywidgets.readthedocs.io/en/stable/user_install.html\">Jupyter\n",
       "  Widgets Documentation</a> for setup instructions.\n",
       "</p>\n",
       "<p>\n",
       "  If you're reading this message in another frontend (for example, a static\n",
       "  rendering on GitHub or <a href=\"https://nbviewer.jupyter.org/\">NBViewer</a>),\n",
       "  it may mean that your frontend doesn't currently support widgets.\n",
       "</p>\n"
      ],
      "text/plain": [
       "interactive(children=(FloatSlider(value=1.0, description=u'styind', max=2.0, step=1.0), FloatSlider(value=0.0, description=u'contextind', max=3.0, step=1.0), FloatSlider(value=12.0, description=u'width', max=20.0, min=8.0, step=1.0), FloatSlider(value=6.0, description=u'height', max=10.0, min=4.0, step=1.0), RadioButtons(description=u'showdot', options=('yes', 'no'), value='yes'), FloatSlider(value=1.0, description=u'dotsize', max=8.0, min=1.0, step=1.0), FloatSlider(value=8.0, description=u'fontsize', max=30.0, min=8.0, step=2.0), FloatRangeSlider(value=(-10.0, 20.0), description=u'ylim', max=30.0, min=-20.0, step=3.0), Output()), _dom_classes=('widget-interact',))"
      ]
     },
     "metadata": {},
     "output_type": "display_data"
    },
    {
     "data": {
      "text/plain": [
       "<function __main__.box_plot_hccvshealth>"
      ]
     },
     "execution_count": 9,
     "metadata": {},
     "output_type": "execute_result"
    }
   ],
   "source": [
    "def box_plot_hccvshealth(styind,contextind,width,height,showdot,dotsize,fontsize,ylim):\n",
    "    sns.set_context(contexts[int(contextind)])\n",
    "    sns.set_style(styles[int(styind)])\n",
    "\n",
    "\n",
    "    fig, ax = plt.subplots(figsize=(width,height))\n",
    "    sns.boxplot(ax=ax,x=\"sample\", y=\"expression\", data=wholetab, palette=\"PRGn\",width=.18)\n",
    "    if showdot =='yes':\n",
    "        sns.swarmplot(x=\"sample\", y=\"expression\", data=wholetab, size=dotsize, edgecolor=\"black\", linewidth=.9)\n",
    "    ax.set_ylim(ylim)\n",
    "    # statistical annotation\n",
    "    x1, x2 = 0, 1   # columns 'Sat' and 'Sun' (first column: 0, see plt.xticks())\n",
    "    y, h, col = wholetab['expression'].max() + 1, 1, 'k'\n",
    "    plt.plot([x1, x1, x2, x2], [y, y+h, y+h, y], lw=0.5, c=col)\n",
    "    plt.text((x1+x2)*.5, y+h, \"FC 3.0 \\n ****\", ha='center', va='bottom', color=col,size=fontsize)\n",
    "interact(box_plot_hccvshealth,styind=FloatSlider(min=0,max=2,step=1,value=1),\n",
    "               contextind=FloatSlider(min=0,max=3,step=1),\n",
    "                width =FloatSlider(min=8,max=20,step=1,value=12),\n",
    "                 height= FloatSlider(min=4,max=10,step=1,value=6),\n",
    "         dotsize= FloatSlider(min=1,max=8,step=1),\n",
    "         fontsize= FloatSlider(min=8,max=30,step=2),\n",
    "         ylim=FloatRangeSlider(value=[-10, 20],min=-20,max=30.0,step=3),\n",
    "            showdot=RadioButtons(options=['yes','no']))"
   ]
  },
  {
   "cell_type": "code",
   "execution_count": 10,
   "metadata": {},
   "outputs": [
    {
     "data": {
      "application/vnd.jupyter.widget-view+json": {
       "model_id": "77b440ec80f347e8bdf4a8e42d35531f",
       "version_major": 2,
       "version_minor": 0
      },
      "text/html": [
       "<p>Failed to display Jupyter Widget of type <code>interactive</code>.</p>\n",
       "<p>\n",
       "  If you're reading this message in the Jupyter Notebook or JupyterLab Notebook, it may mean\n",
       "  that the widgets JavaScript is still loading. If this message persists, it\n",
       "  likely means that the widgets JavaScript library is either not installed or\n",
       "  not enabled. See the <a href=\"https://ipywidgets.readthedocs.io/en/stable/user_install.html\">Jupyter\n",
       "  Widgets Documentation</a> for setup instructions.\n",
       "</p>\n",
       "<p>\n",
       "  If you're reading this message in another frontend (for example, a static\n",
       "  rendering on GitHub or <a href=\"https://nbviewer.jupyter.org/\">NBViewer</a>),\n",
       "  it may mean that your frontend doesn't currently support widgets.\n",
       "</p>\n"
      ],
      "text/plain": [
       "interactive(children=(FloatSlider(value=1.0, description=u'styind', max=2.0, step=1.0), FloatSlider(value=0.0, description=u'contextind', max=3.0, step=1.0), FloatSlider(value=12.0, description=u'width', max=20.0, min=8.0, step=1.0), FloatSlider(value=6.0, description=u'height', max=10.0, min=4.0, step=1.0), RadioButtons(description=u'showdot', options=('yes', 'no'), value='yes'), FloatSlider(value=1.0, description=u'dotsize', max=8.0, min=1.0, step=1.0), FloatSlider(value=8.0, description=u'fontsize', max=30.0, min=8.0, step=2.0), FloatRangeSlider(value=(-10.0, 22.0), description=u'ylim', max=30.0, min=-20.0, step=3.0), Output()), _dom_classes=('widget-interact',))"
      ]
     },
     "metadata": {},
     "output_type": "display_data"
    },
    {
     "data": {
      "text/plain": [
       "<function __main__.box_plot_stage>"
      ]
     },
     "execution_count": 10,
     "metadata": {},
     "output_type": "execute_result"
    }
   ],
   "source": [
    "def box_plot_stage(styind,contextind,width,height,showdot,dotsize,fontsize,ylim):\n",
    "    sns.set_context(contexts[int(contextind)])\n",
    "    sns.set_style(styles[int(styind)])\n",
    "\n",
    "\n",
    "    fig, ax = plt.subplots(figsize=(width,height))\n",
    "    sns.boxplot(ax=ax,x=\"stage\", y=\"expression\", data=wholetab, palette=\"PRGn\",width=.18)\n",
    "    if showdot =='yes':\n",
    "        sns.swarmplot(x=\"stage\", y=\"expression\", data=wholetab, size=dotsize, edgecolor=\"black\", linewidth=.9)\n",
    "    ax.set_ylim(ylim)\n",
    "    # statistical annotation\n",
    "    x1, x2 = 0, 3   # columns 'Sat' and 'Sun' (first column: 0, see plt.xticks())\n",
    "    y, h, col = wholetab['expression'].max() + 1, 0.5, 'k'\n",
    "    plt.plot([x1, x1, x2, x2], [y, y+h, y+h, y], lw=0.5, c=col)\n",
    "    plt.text((x1+x2)*.1, y+h, \"FC 3.00 \\n ****\", ha='center', va='bottom', color=col,size=fontsize)\n",
    "    x1, x2 = 1, 3 \n",
    "    y, h, col = wholetab['expression'].max() + 2, 0.5, 'k'\n",
    "    plt.plot([x1, x1, x2, x2], [y, y+h, y+h, y], lw=0.5, c=col)\n",
    "    plt.text((x1+x2)*.35, y+h, \"FC 3.59 \\n ****\", ha='center', va='bottom', color=col,size=fontsize)\n",
    "    x1, x2 = 2, 3 \n",
    "    y, h, col = wholetab['expression'].max() + 3, 0.5, 'k'\n",
    "    plt.plot([x1, x1, x2, x2], [y, y+h, y+h, y], lw=0.5, c=col)\n",
    "    plt.text((x1+x2)*.5, y+h, \"FC 3.38 \\n ****\", ha='center', va='bottom', color=col,size=fontsize)\n",
    "interact(box_plot_stage,styind=FloatSlider(min=0,max=2,step=1,value=1),\n",
    "               contextind=FloatSlider(min=0,max=3,step=1),\n",
    "                width =FloatSlider(min=8,max=20,step=1,value=12),\n",
    "                 height= FloatSlider(min=4,max=10,step=1,value=6),\n",
    "         dotsize= FloatSlider(min=1,max=8,step=1),\n",
    "         fontsize= FloatSlider(min=8,max=30,step=2),\n",
    "         ylim=FloatRangeSlider(value=[-10, 22],min=-20,max=30.0,step=3),\n",
    "            showdot=RadioButtons(options=['yes','no']))"
   ]
  },
  {
   "cell_type": "code",
   "execution_count": 363,
   "metadata": {
    "deletable": false,
    "editable": false,
    "run_control": {
     "frozen": true
    }
   },
   "outputs": [
    {
     "data": {
      "application/vnd.jupyter.widget-view+json": {
       "model_id": "bb94ddb18e96408e94efe87865605314",
       "version_major": 2,
       "version_minor": 0
      },
      "text/html": [
       "<p>Failed to display Jupyter Widget of type <code>interactive</code>.</p>\n",
       "<p>\n",
       "  If you're reading this message in the Jupyter Notebook or JupyterLab Notebook, it may mean\n",
       "  that the widgets JavaScript is still loading. If this message persists, it\n",
       "  likely means that the widgets JavaScript library is either not installed or\n",
       "  not enabled. See the <a href=\"https://ipywidgets.readthedocs.io/en/stable/user_install.html\">Jupyter\n",
       "  Widgets Documentation</a> for setup instructions.\n",
       "</p>\n",
       "<p>\n",
       "  If you're reading this message in another frontend (for example, a static\n",
       "  rendering on GitHub or <a href=\"https://nbviewer.jupyter.org/\">NBViewer</a>),\n",
       "  it may mean that your frontend doesn't currently support widgets.\n",
       "</p>\n"
      ],
      "text/plain": [
       "interactive(children=(FloatSlider(value=0.0, description=u'styind', max=2.0, step=1.0), FloatSlider(value=0.0, description=u'contextind', max=3.0, step=1.0), FloatSlider(value=12.0, description=u'width', max=20.0, min=8.0, step=1.0), FloatSlider(value=6.0, description=u'height', max=10.0, min=4.0, step=1.0), RadioButtons(description=u'showdot', options=('yes', 'no'), value='yes'), FloatSlider(value=1.0, description=u'dotsize', max=8.0, min=1.0, step=1.0), Output()), _dom_classes=('widget-interact',))"
      ]
     },
     "metadata": {},
     "output_type": "display_data"
    },
    {
     "data": {
      "text/plain": [
       "<function __main__.box_plot>"
      ]
     },
     "execution_count": 363,
     "metadata": {},
     "output_type": "execute_result"
    }
   ],
   "source": [
    "#example plot NOT USE NOW\n",
    "styles = [\"white\",\"dark\",'whitegrid',\"darkgrid\"]\n",
    "contexts = ['paper','talk','poster','notebook']\n",
    "\n",
    "def box_plot(styind,contextind,width,height,showdot,dotsize):\n",
    "    sns.set_context(contexts[int(contextind)])\n",
    "    sns.set_style(styles[int(styind)])\n",
    "    tips = sns.load_dataset(\"tips\")\n",
    "\n",
    "    fig, ax = plt.subplots(figsize=(width,height))\n",
    "    sns.boxplot(ax=ax,x=\"day\", y=\"total_bill\", data=tips, palette=\"PRGn\",width=.18)\n",
    "    if showdot =='yes':\n",
    "        sns.swarmplot(x=\"day\", y=\"total_bill\", data=tips, size=dotsize, edgecolor=\"black\", linewidth=.9)\n",
    "        \n",
    "    # statistical annotation\n",
    "    x1, x2 = 2, 3   # columns 'Sat' and 'Sun' (first column: 0, see plt.xticks())\n",
    "    y, h, col = tips['total_bill'].max() + 2, 2, 'k'\n",
    "    plt.plot([x1, x1, x2, x2], [y, y+h, y+h, y], lw=1.5, c=col)\n",
    "    plt.text((x1+x2)*.5, y+h, \"ns\", ha='center', va='bottom', color=col)\n",
    "#box_plot(0,0,8,4,'yes',3)\n",
    "interact(box_plot,styind=FloatSlider(min=0,max=2,step=1),\n",
    "               contextind=FloatSlider(min=0,max=3,step=1),\n",
    "                width =FloatSlider(min=8,max=20,step=1,value=12),\n",
    "                 height= FloatSlider(min=4,max=10,step=1,value=6),\n",
    "         dotsize= FloatSlider(min=1,max=8,step=1),\n",
    "            showdot=RadioButtons(options=['yes','no']))"
   ]
  },
  {
   "cell_type": "code",
   "execution_count": 11,
   "metadata": {},
   "outputs": [],
   "source": [
    "from sklearn.metrics import roc_curve, auc  "
   ]
  },
  {
   "cell_type": "code",
   "execution_count": 12,
   "metadata": {},
   "outputs": [],
   "source": [
    "label = np.zeros([wholetab.shape[0]]).astype('int')\n",
    "label[np.where(wholetab['sample']=='hcc')]=1\n",
    "expressionlevel = wholetab['expression']\n",
    "a,b,c= roc_curve(label,expressionlevel)  #fpr tpr threshold"
   ]
  },
  {
   "cell_type": "code",
   "execution_count": 13,
   "metadata": {},
   "outputs": [
    {
     "data": {
      "text/plain": [
       "array([1., 1., 1., 1., 1., 1., 1., 1., 1., 1., 1., 1., 1., 1., 1., 1., 1.,\n",
       "       1., 1., 1., 1., 1., 1., 1., 1., 1., 1., 1., 1., 1., 1., 1., 1., 1.,\n",
       "       1., 1., 1., 1., 1., 1., 0., 0., 0., 0., 0., 0., 0., 0., 0., 0., 0.,\n",
       "       0., 0., 0., 0., 0., 0., 0., 0., 0., 0., 0., 0., 0., 0., 0., 0., 0.,\n",
       "       0., 0., 0., 0., 0., 0., 0., 0., 0., 0., 0., 0., 0., 0., 0., 0., 0.,\n",
       "       0., 0., 0., 0., 0.])"
      ]
     },
     "execution_count": 13,
     "metadata": {},
     "output_type": "execute_result"
    }
   ],
   "source": [
    "np.concatenate((stageA,health))\n",
    "np.concatenate((np.ones([stageA.shape[0]]),np.zeros([health.shape[0]])))"
   ]
  },
  {
   "cell_type": "raw",
   "metadata": {},
   "source": [
    "y = np.array([1, 1, 2, 2])\n",
    "scores = np.array([0.1, 0.4, 0.35, 0.8])\n",
    "a, b, thresholds = roc_curve(y, scores, pos_label=2)\n",
    "print a\n",
    "print b\n",
    "print thresholds"
   ]
  },
  {
   "cell_type": "markdown",
   "metadata": {},
   "source": [
    "**产生更多的点  多类放一张图 算出最佳点**\n",
    "later: 点的annotation "
   ]
  },
  {
   "cell_type": "code",
   "execution_count": 14,
   "metadata": {},
   "outputs": [
    {
     "data": {
      "application/vnd.jupyter.widget-view+json": {
       "model_id": "66f5264c253f44e0b9563cf675d909bf",
       "version_major": 2,
       "version_minor": 0
      },
      "text/html": [
       "<p>Failed to display Jupyter Widget of type <code>interactive</code>.</p>\n",
       "<p>\n",
       "  If you're reading this message in the Jupyter Notebook or JupyterLab Notebook, it may mean\n",
       "  that the widgets JavaScript is still loading. If this message persists, it\n",
       "  likely means that the widgets JavaScript library is either not installed or\n",
       "  not enabled. See the <a href=\"https://ipywidgets.readthedocs.io/en/stable/user_install.html\">Jupyter\n",
       "  Widgets Documentation</a> for setup instructions.\n",
       "</p>\n",
       "<p>\n",
       "  If you're reading this message in another frontend (for example, a static\n",
       "  rendering on GitHub or <a href=\"https://nbviewer.jupyter.org/\">NBViewer</a>),\n",
       "  it may mean that your frontend doesn't currently support widgets.\n",
       "</p>\n"
      ],
      "text/plain": [
       "interactive(children=(FloatSlider(value=1.0, description=u'styind', max=2.0, step=1.0), FloatSlider(value=0.0, description=u'contextind', max=3.0, step=1.0), FloatSlider(value=6.0, description=u'width', max=16.0, min=6.0, step=1.0), FloatSlider(value=6.0, description=u'height', max=16.0, min=6.0, step=1.0), FloatSlider(value=1.5, description=u'linewid', max=4.0, min=1.0, step=0.3), Dropdown(description=u'color', index=2, options=('b', 'g', 'r', 'c', 'm', 'y', 'k', 'w'), value='r'), FloatSlider(value=1.5, description=u'linewid2', max=4.0, min=1.0, step=0.3), Dropdown(description=u'color2', options=('b', 'g', 'r', 'c', 'm', 'y', 'k', 'w'), value='b'), FloatSlider(value=0.5, description=u'transparency', max=1.0, step=0.05), Output()), _dom_classes=('widget-interact',))"
      ]
     },
     "metadata": {},
     "output_type": "display_data"
    },
    {
     "data": {
      "text/plain": [
       "<function __main__.rocplot>"
      ]
     },
     "execution_count": 14,
     "metadata": {},
     "output_type": "execute_result"
    }
   ],
   "source": [
    "def rocplot(styind,contextind,width,height,linewid,color,linewid2,color2,transparency):\n",
    "    sns.set_context(contexts[int(contextind)])\n",
    "    sns.set_style(styles[int(styind)])\n",
    "    fig, ax = plt.subplots(figsize=(width,height))\n",
    "    ax.plot(a,b,linewidth=linewid,color=color)\n",
    "    #ax.plot(b,a,linewidth=linewid,color=color,linestyle='dashed') #solid’ | ‘dashed’, ‘dashdot’, ‘dotted\n",
    "    ax.plot([0,1],[0,1], linewidth=linewid2,alpha=transparency,color=color2,linestyle='--')\n",
    "interact(rocplot,styind=FloatSlider(min=0,max=2,step=1,value=1),\n",
    "               contextind=FloatSlider(min=0,max=3,step=1),\n",
    "                width =FloatSlider(min=6,max=16,step=1),\n",
    "                 height= FloatSlider(min=6,max=16,step=1),\n",
    "        linewid= FloatSlider(min=1,max=4,step=0.3,value=1.5),\n",
    "        color=Dropdown(options=['b', 'g', 'r', 'c', 'm', 'y', 'k', 'w'],value='r'),\n",
    "        linewid2= FloatSlider(min=1,max=4,step=0.3,value=1.5),\n",
    "        transparency=FloatSlider(min=0,max=1,step=0.05,value=0.5),\n",
    "        color2=Dropdown(options=['b', 'g', 'r', 'c', 'm', 'y', 'k', 'w']))"
   ]
  },
  {
   "cell_type": "code",
   "execution_count": null,
   "metadata": {
    "deletable": false,
    "editable": false,
    "run_control": {
     "frozen": true
    }
   },
   "outputs": [],
   "source": [
    "rocplot(0,0,6,6,3,'g',2,'r',0.5)"
   ]
  },
  {
   "cell_type": "code",
   "execution_count": 15,
   "metadata": {},
   "outputs": [
    {
     "data": {
      "application/vnd.jupyter.widget-view+json": {
       "model_id": "fec1f10a7f1d405782345a19b7cfd508",
       "version_major": 2,
       "version_minor": 0
      },
      "text/html": [
       "<p>Failed to display Jupyter Widget of type <code>interactive</code>.</p>\n",
       "<p>\n",
       "  If you're reading this message in the Jupyter Notebook or JupyterLab Notebook, it may mean\n",
       "  that the widgets JavaScript is still loading. If this message persists, it\n",
       "  likely means that the widgets JavaScript library is either not installed or\n",
       "  not enabled. See the <a href=\"https://ipywidgets.readthedocs.io/en/stable/user_install.html\">Jupyter\n",
       "  Widgets Documentation</a> for setup instructions.\n",
       "</p>\n",
       "<p>\n",
       "  If you're reading this message in another frontend (for example, a static\n",
       "  rendering on GitHub or <a href=\"https://nbviewer.jupyter.org/\">NBViewer</a>),\n",
       "  it may mean that your frontend doesn't currently support widgets.\n",
       "</p>\n"
      ],
      "text/plain": [
       "interactive(children=(FloatSlider(value=1.0, description=u'styind', max=2.0, step=1.0), FloatSlider(value=0.0, description=u'contextind', max=3.0, step=1.0), FloatSlider(value=8.0, description=u'width', max=16.0, min=6.0, step=1.0), FloatSlider(value=8.0, description=u'height', max=16.0, min=6.0, step=1.0), FloatSlider(value=1.5, description=u'linewid', max=4.0, min=1.0, step=0.3), SelectMultiple(description=u'color', index=(0, 1, 2), options=('b', 'g', 'r', 'c', 'm', 'y', 'k', 'w'), value=('b', 'g', 'r')), FloatSlider(value=1.5, description=u'linewid2', max=4.0, min=1.0, step=0.3), Dropdown(description=u'color2', options=('b', 'g', 'r', 'c', 'm', 'y', 'k', 'w'), value='b'), FloatSlider(value=0.5, description=u'transparency', max=1.0, step=0.05), FloatSlider(value=10.0, description=u'fontsize', max=20.0, min=6.0, step=1.0), Output()), _dom_classes=('widget-interact',))"
      ]
     },
     "metadata": {},
     "output_type": "display_data"
    },
    {
     "data": {
      "text/plain": [
       "<function __main__.rocplot_stage>"
      ]
     },
     "execution_count": 15,
     "metadata": {},
     "output_type": "execute_result"
    }
   ],
   "source": [
    "def rocplot_stage(styind,contextind,width,height,linewid,color,linewid2,color2,transparency,fontsize):\n",
    "    sns.set_context(contexts[int(contextind)])\n",
    "    sns.set_style(styles[int(styind)])\n",
    "    fig, ax = plt.subplots(figsize=(width,height))\n",
    "    \n",
    "    a,b,_ = roc_curve(np.concatenate((np.ones([stageA.shape[0]]),np.zeros([health.shape[0]]))),np.concatenate((stageA,health)))   \n",
    "    ax.plot(a,b,linewidth=linewid,color=color[0],label='Stage A')\n",
    "    a,b,_ = roc_curve(np.concatenate((np.ones([stageB.shape[0]]),np.zeros([health.shape[0]]))),np.concatenate((stageB,health)))   \n",
    "    ax.plot(a,b,linewidth=linewid,color=color[1],label='Stage B')\n",
    "    a,b,_ = roc_curve(np.concatenate((np.ones([stageC.shape[0]]),np.zeros([health.shape[0]]))),np.concatenate((stageC,health)))   \n",
    "    ax.plot(a,b,linewidth=linewid,color=color[2],label='Stage C')\n",
    "    ax.legend(prop={'size': fontsize})\n",
    "    #ax.plot(b,a,linewidth=linewid,color=color,linestyle='dashed') #solid’ | ‘dashed’, ‘dashdot’, ‘dotted\n",
    "    ax.plot([0,1],[0,1], linewidth=linewid2,alpha=transparency,color=color2,linestyle='--')\n",
    "interact(rocplot_stage,styind=FloatSlider(min=0,max=2,step=1,value=1),\n",
    "               contextind=FloatSlider(min=0,max=3,step=1),\n",
    "                width =FloatSlider(min=6,max=16,step=1,value=8),\n",
    "                 height= FloatSlider(min=6,max=16,step=1,value=8),\n",
    "        linewid= FloatSlider(min=1,max=4,step=0.3,value=1.5),\n",
    "        color=SelectMultiple(options=['b', 'g', 'r', 'c', 'm', 'y', 'k', 'w'],value=('b', 'g', 'r')),\n",
    "        linewid2= FloatSlider(min=1,max=4,step=0.3,value=1.5),\n",
    "         fontsize= FloatSlider(min=6,max=20,step=1,value=10),\n",
    "        transparency=FloatSlider(min=0,max=1,step=0.05,value=0.5),\n",
    "        color2=Dropdown(options=['b', 'g', 'r', 'c', 'm', 'y', 'k', 'w']))"
   ]
  },
  {
   "cell_type": "code",
   "execution_count": null,
   "metadata": {},
   "outputs": [],
   "source": []
  },
  {
   "cell_type": "markdown",
   "metadata": {},
   "source": [
    "### select best threshold"
   ]
  },
  {
   "cell_type": "markdown",
   "metadata": {},
   "source": [
    "TODO: report 各类均值 <span class=\"mark\">what is best?</span> <br> interpret?\n",
    "<span class=\"girk\">print pandas table of \"best\" four rate and four indicators</span> \n",
    "不平衡样本 average precision AUC PRC"
   ]
  },
  {
   "cell_type": "markdown",
   "metadata": {},
   "source": [
    "<span class=\"mark\">TPR</span>  = $\\frac{TP}{ TP + FN}$  True Positive Rate  <br> \n",
    " <span class=\"mark\">FPR</span> = $\\frac{FP}{ FP + TN} $False Positive Rate<br>\n",
    "<span class=\"mark\">Acc</span>=$\\frac{TP+TN}{TP+TN+FP+FN}=\\frac{TP+TN}{P+N}$<br>\n",
    "<span class=\"mark\">Recall</span>=$\\frac{TP}{TP+FN}= \\frac{TP}{P}$ Sensitivity<br>\n",
    "<span class=\"mark\">Precision</span>=$\\frac{TP}{TP+FP}$ PPV<br>\n",
    "<span class=\"mark\">F1</span>$=\\frac{2TP}{2TP+FN+FP}=\\frac{2 \\cdot Precision \\cdot Recall}{Precision+Recall}$"
   ]
  },
  {
   "cell_type": "markdown",
   "metadata": {},
   "source": [
    "### 需计算 tp fp 等以及其他数值，各种指标都是用数量而不是rate计算出的\n"
   ]
  },
  {
   "cell_type": "code",
   "execution_count": 16,
   "metadata": {},
   "outputs": [
    {
     "data": {
      "text/plain": [
       "[<matplotlib.lines.Line2D at 0x1178a2950>]"
      ]
     },
     "execution_count": 16,
     "metadata": {},
     "output_type": "execute_result"
    },
    {
     "data": {
      "image/png": "[encoded data removed]",
      "text/plain": [
       "<matplotlib.figure.Figure at 0x1175ca690>"
      ]
     },
     "metadata": {},
     "output_type": "display_data"
    }
   ],
   "source": [
    "posinum = np.sum(label)\n",
    "neganum = label.shape[0] - np.sum(label)\n",
    "fp = a*neganum\n",
    "tp = b*posinum\n",
    "tn = (1-a)*neganum\n",
    "fn = (1-b)*posinum\n",
    "Sensitivity = tp/(tp+fn) \n",
    "Specificity = tn/(tn+fp) \n",
    "PPV = tp/(tp+fp) \n",
    "NPV = tn/(tn+fn) \n",
    "plt.plot(Sensitivity)\n",
    "plt.plot(Specificity)\n",
    "plt.plot(PPV)\n",
    "plt.plot(NPV)"
   ]
  },
  {
   "cell_type": "code",
   "execution_count": 17,
   "metadata": {},
   "outputs": [],
   "source": [
    "def report_metrics_best(expressionlevel,label):\n",
    "    posinum = np.sum(label)\n",
    "    neganum = label.shape[0] - np.sum(label)\n",
    "    a,b,c= roc_curve(label,expressionlevel) #fpr tpr threshold\n",
    "    fp = a*neganum\n",
    "    tp = b*posinum\n",
    "    tn = (1-a)*neganum\n",
    "    fn = (1-b)*posinum\n",
    "    \n",
    "    Sensitivity = tp/(tp+fn) \n",
    "    Specificity = tn/(tn+fp) \n",
    "    PPV = tp/(tp+fp) \n",
    "    NPV = tn/(tn+fn) \n",
    "    \n",
    "    arith_mean = (Sensitivity+Specificity)*0.5\n",
    "    geo_mean = (Sensitivity*Specificity)**0.5\n",
    "    harmo_mean = 2/(1/Sensitivity+1/Specificity)\n",
    "    eucilid_mean = ((1-Sensitivity)**2+(1-Specificity)**2)**0.5\n",
    "    mcc_mean = (tp*tn-fp*fn)/(((tp+fp)*(tp+fn)*(tn+fp)*(tn+fn))**0.5)\n",
    "    F1_score = 2*tp/(2*tp+fn+fp)\n",
    "    auc = sklearn.metrics.auc(a,b)\n",
    "    acc = (tp+tn)/(tp+tn+fn+fp)\n",
    "    distoleftup = (a**2+(1-b)**2)**0.5# to the left up\n",
    "    print (\"AUC:\" +str(auc))\n",
    "    return auc,tp,fp,tn,fn,acc,Sensitivity,Specificity,PPV,NPV,arith_mean,geo_mean,harmo_mean,eucilid_mean,mcc_mean,F1_score,distoleftup"
   ]
  },
  {
   "cell_type": "code",
   "execution_count": 18,
   "metadata": {},
   "outputs": [
    {
     "name": "stdout",
     "output_type": "stream",
     "text": [
      "AUC:0.8497619047619047\n"
     ]
    }
   ],
   "source": [
    "auc,tp,fp,tn,fn,acc,Sensitivity,Specificity,PPV,NPV,arith_mean,geo_mean,\\\n",
    "harmo_mean,eucilid_mean,mcc_mean,F1_score,distoleftup = report_metrics_best(expressionlevel,label)"
   ]
  },
  {
   "cell_type": "code",
   "execution_count": 19,
   "metadata": {},
   "outputs": [
    {
     "data": {
      "application/vnd.jupyter.widget-view+json": {
       "model_id": "9056a15015ce4acd8aa7ef1a49a00ef4",
       "version_major": 2,
       "version_minor": 0
      },
      "text/html": [
       "<p>Failed to display Jupyter Widget of type <code>interactive</code>.</p>\n",
       "<p>\n",
       "  If you're reading this message in the Jupyter Notebook or JupyterLab Notebook, it may mean\n",
       "  that the widgets JavaScript is still loading. If this message persists, it\n",
       "  likely means that the widgets JavaScript library is either not installed or\n",
       "  not enabled. See the <a href=\"https://ipywidgets.readthedocs.io/en/stable/user_install.html\">Jupyter\n",
       "  Widgets Documentation</a> for setup instructions.\n",
       "</p>\n",
       "<p>\n",
       "  If you're reading this message in another frontend (for example, a static\n",
       "  rendering on GitHub or <a href=\"https://nbviewer.jupyter.org/\">NBViewer</a>),\n",
       "  it may mean that your frontend doesn't currently support widgets.\n",
       "</p>\n"
      ],
      "text/plain": [
       "interactive(children=(FloatSlider(value=1.0, description=u'styind', max=2.0, step=1.0), FloatSlider(value=0.0, description=u'contextind', max=3.0, step=1.0), FloatSlider(value=9.0, description=u'width', max=16.0, min=6.0, step=1.0), FloatSlider(value=9.0, description=u'height', max=16.0, min=6.0, step=1.0), FloatSlider(value=1.5, description=u'linewid', max=4.0, min=1.0, step=0.3), SelectMultiple(description=u'metrics', index=(9,), options=('tp', 'fp', 'tn', 'fn', 'acc', 'Sensitivity', 'Specificity', 'PPV', 'NPV', 'arith_mean', 'geo_mean', 'harmo_mean', 'eucilid_mean', 'mcc_mean', 'F1_score', 'distoleftup'), value=('arith_mean',)), FloatSlider(value=10.0, description=u'fontsize', max=20.0, min=6.0, step=1.0), Output()), _dom_classes=('widget-interact',))"
      ]
     },
     "metadata": {},
     "output_type": "display_data"
    },
    {
     "data": {
      "text/plain": [
       "<function __main__.metricsplot>"
      ]
     },
     "execution_count": 19,
     "metadata": {},
     "output_type": "execute_result"
    }
   ],
   "source": [
    "def metricsplot(styind,contextind,width,height,linewid,metrics,fontsize):\n",
    "    sns.set_context(contexts[int(contextind)])\n",
    "    sns.set_style(styles[int(styind)])\n",
    "    fig, ax = plt.subplots(figsize=(width,height))\n",
    "    colors = ['b', 'g', 'r', 'c', 'm', 'y', 'k', 'w']\n",
    "    allmetrics = np.array(['tp','fp','tn','fn','acc','Sensitivity','Specificity','PPV','NPV',\n",
    "                           'arith_mean','geo_mean','harmo_mean','eucilid_mean','mcc_mean','F1_score','distoleftup'])\n",
    "    for i in range(len(metrics)):\n",
    "        indtmp = np.where(allmetrics==metrics[i])[0]\n",
    "        if indtmp.shape[0]:\n",
    "            ax.plot(report_metrics_best(expressionlevel,label)[1:][indtmp[0]],linewidth=linewid,color=colors[i],\n",
    "                    label=allmetrics[indtmp[0]] )\n",
    "    ax.legend(prop={'size': fontsize})#[allmetrics[indtmp[0]]],prop={'size': fontsize})\n",
    "    #ax.plot(arith_mean,linewidth=linewid,color=color)\n",
    "    #ax.plot([0,1],[0,1], linewidth=linewid2,alpha=transparency,color=color2)\n",
    "interact(metricsplot,styind=FloatSlider(min=0,max=2,step=1,value=1),\n",
    "               contextind=FloatSlider(min=0,max=3,step=1),\n",
    "                width =FloatSlider(min=6,max=16,step=1,value=9),\n",
    "                 height= FloatSlider(min=6,max=16,step=1,value=9),\n",
    "        linewid= FloatSlider(min=1,max=4,step=0.3,value=1.5),\n",
    "         fontsize= FloatSlider(min=6,max=20,step=1,value=10),\n",
    "        metrics=SelectMultiple(options=['tp','fp','tn','fn','acc','Sensitivity','Specificity','PPV','NPV','arith_mean','geo_mean','harmo_mean','eucilid_mean',\n",
    "                                        'mcc_mean','F1_score','distoleftup'],value=('arith_mean',)))"
   ]
  },
  {
   "cell_type": "markdown",
   "metadata": {},
   "source": [
    "#####  pick原则 用各个指标最高的10个位置，看重复出现次数最多的"
   ]
  },
  {
   "cell_type": "code",
   "execution_count": 20,
   "metadata": {},
   "outputs": [
    {
     "name": "stdout",
     "output_type": "stream",
     "text": [
      "[0.85714286]\n",
      "[0.66]\n"
     ]
    }
   ],
   "source": [
    "uni,counts= np.unique(np.concatenate((np.argsort(-arith_mean)[:10],np.argsort(-geo_mean)[:10],np.argsort(-harmo_mean)[:10],\n",
    "                np.argsort(-eucilid_mean)[:10],np.argsort(-mcc_mean)[:10],np.argsort(-F1_score)[:10])),return_counts=True)\n",
    "print (Sensitivity[uni[np.where(counts ==np.max(counts))]])\n",
    "print (Specificity[uni[np.where(counts ==np.max(counts))]])"
   ]
  },
  {
   "cell_type": "markdown",
   "metadata": {},
   "source": [
    "### plot roc\n"
   ]
  },
  {
   "cell_type": "markdown",
   "metadata": {},
   "source": [
    "##### load data"
   ]
  },
  {
   "cell_type": "code",
   "execution_count": 21,
   "metadata": {},
   "outputs": [],
   "source": [
    "datatable1 = pd.read_excel('Copy of ROC(1).xlsx','cfRNA')\n",
    "datatable2 = pd.read_excel('Copy of ROC(1).xlsx','exosome')\n",
    "datatable3 = pd.read_excel('Copy of ROC(1).xlsx','Sheet3')"
   ]
  },
  {
   "cell_type": "markdown",
   "metadata": {},
   "source": [
    "##### plot fig1"
   ]
  },
  {
   "cell_type": "code",
   "execution_count": 22,
   "metadata": {},
   "outputs": [
    {
     "data": {
      "text/html": [
       "<div>\n",
       "<style scoped>\n",
       "    .dataframe tbody tr th:only-of-type {\n",
       "        vertical-align: middle;\n",
       "    }\n",
       "\n",
       "    .dataframe tbody tr th {\n",
       "        vertical-align: top;\n",
       "    }\n",
       "\n",
       "    .dataframe thead th {\n",
       "        text-align: right;\n",
       "    }\n",
       "</style>\n",
       "<table border=\"1\" class=\"dataframe\">\n",
       "  <thead>\n",
       "    <tr style=\"text-align: right;\">\n",
       "      <th></th>\n",
       "      <th>BCLC</th>\n",
       "      <th>S domain-HCC</th>\n",
       "      <th>S domain-Health</th>\n",
       "      <th>S domain-HBV</th>\n",
       "    </tr>\n",
       "  </thead>\n",
       "  <tbody>\n",
       "    <tr>\n",
       "      <th>0</th>\n",
       "      <td>B</td>\n",
       "      <td>8.60</td>\n",
       "      <td>4.20</td>\n",
       "      <td>1.09</td>\n",
       "    </tr>\n",
       "    <tr>\n",
       "      <th>1</th>\n",
       "      <td>C</td>\n",
       "      <td>4.85</td>\n",
       "      <td>2.39</td>\n",
       "      <td>2.14</td>\n",
       "    </tr>\n",
       "    <tr>\n",
       "      <th>2</th>\n",
       "      <td>B</td>\n",
       "      <td>9.24</td>\n",
       "      <td>2.41</td>\n",
       "      <td>-5.32</td>\n",
       "    </tr>\n",
       "  </tbody>\n",
       "</table>\n",
       "</div>"
      ],
      "text/plain": [
       "  BCLC  S domain-HCC  S domain-Health  S domain-HBV\n",
       "0    B          8.60             4.20          1.09\n",
       "1    C          4.85             2.39          2.14\n",
       "2    B          9.24             2.41         -5.32"
      ]
     },
     "metadata": {},
     "output_type": "display_data"
    },
    {
     "data": {
      "text/html": [
       "<div>\n",
       "<style scoped>\n",
       "    .dataframe tbody tr th:only-of-type {\n",
       "        vertical-align: middle;\n",
       "    }\n",
       "\n",
       "    .dataframe tbody tr th {\n",
       "        vertical-align: top;\n",
       "    }\n",
       "\n",
       "    .dataframe thead th {\n",
       "        text-align: right;\n",
       "    }\n",
       "</style>\n",
       "<table border=\"1\" class=\"dataframe\">\n",
       "  <thead>\n",
       "    <tr style=\"text-align: right;\">\n",
       "      <th></th>\n",
       "      <th>HD</th>\n",
       "      <th>HCC</th>\n",
       "    </tr>\n",
       "  </thead>\n",
       "  <tbody>\n",
       "    <tr>\n",
       "      <th>0</th>\n",
       "      <td>5.85</td>\n",
       "      <td>9.28</td>\n",
       "    </tr>\n",
       "    <tr>\n",
       "      <th>1</th>\n",
       "      <td>6.56</td>\n",
       "      <td>8.73</td>\n",
       "    </tr>\n",
       "    <tr>\n",
       "      <th>2</th>\n",
       "      <td>7.38</td>\n",
       "      <td>7.48</td>\n",
       "    </tr>\n",
       "  </tbody>\n",
       "</table>\n",
       "</div>"
      ],
      "text/plain": [
       "     HD   HCC\n",
       "0  5.85  9.28\n",
       "1  6.56  8.73\n",
       "2  7.38  7.48"
      ]
     },
     "metadata": {},
     "output_type": "display_data"
    }
   ],
   "source": [
    "display(datatable1.head(3))\n",
    "display(datatable2.head(3))"
   ]
  },
  {
   "cell_type": "markdown",
   "metadata": {},
   "source": [
    "for fig 1, create table: <br>\n",
    "sample expression\n",
    "plasma_HCC plasma_Normal plasma_HBV+Normal\n",
    "exosome_HCC,exosome_Normal"
   ]
  },
  {
   "cell_type": "code",
   "execution_count": 23,
   "metadata": {},
   "outputs": [],
   "source": [
    "plasma_HCC = np.array(datatable1['S domain-HCC'])\n",
    "plasma_HCC = plasma_HCC[~np.isnan(plasma_HCC)]\n",
    "plasma_Normal = np.array(datatable1['S domain-Health'])\n",
    "plasma_Normal = plasma_Normal[~np.isnan(plasma_Normal)]\n",
    "plasma_HBV_Normal = np.concatenate((np.array(datatable1['S domain-Health']),np.array(datatable1['S domain-HBV'])))\n",
    "plasma_HBV_Normal = plasma_HBV_Normal[~np.isnan(plasma_HBV_Normal)]\n",
    "exosome_HCC= np.array(datatable2['HCC'])\n",
    "exosome_HCC= exosome_HCC[~np.isnan(exosome_HCC)]\n",
    "exosome_Normal = np.array(datatable2['HD'])\n",
    "exosome_Normal= exosome_Normal[~np.isnan(exosome_Normal)]"
   ]
  },
  {
   "cell_type": "code",
   "execution_count": 24,
   "metadata": {},
   "outputs": [
    {
     "data": {
      "text/html": [
       "<div>\n",
       "<style scoped>\n",
       "    .dataframe tbody tr th:only-of-type {\n",
       "        vertical-align: middle;\n",
       "    }\n",
       "\n",
       "    .dataframe tbody tr th {\n",
       "        vertical-align: top;\n",
       "    }\n",
       "\n",
       "    .dataframe thead th {\n",
       "        text-align: right;\n",
       "    }\n",
       "</style>\n",
       "<table border=\"1\" class=\"dataframe\">\n",
       "  <thead>\n",
       "    <tr style=\"text-align: right;\">\n",
       "      <th></th>\n",
       "      <th>sample</th>\n",
       "      <th>expression</th>\n",
       "    </tr>\n",
       "  </thead>\n",
       "  <tbody>\n",
       "    <tr>\n",
       "      <th>0</th>\n",
       "      <td>plasma_HCC</td>\n",
       "      <td>8.60</td>\n",
       "    </tr>\n",
       "    <tr>\n",
       "      <th>1</th>\n",
       "      <td>plasma_HCC</td>\n",
       "      <td>4.85</td>\n",
       "    </tr>\n",
       "    <tr>\n",
       "      <th>2</th>\n",
       "      <td>plasma_HCC</td>\n",
       "      <td>9.24</td>\n",
       "    </tr>\n",
       "    <tr>\n",
       "      <th>3</th>\n",
       "      <td>plasma_HCC</td>\n",
       "      <td>2.26</td>\n",
       "    </tr>\n",
       "    <tr>\n",
       "      <th>4</th>\n",
       "      <td>plasma_HCC</td>\n",
       "      <td>7.76</td>\n",
       "    </tr>\n",
       "  </tbody>\n",
       "</table>\n",
       "</div>"
      ],
      "text/plain": [
       "       sample  expression\n",
       "0  plasma_HCC        8.60\n",
       "1  plasma_HCC        4.85\n",
       "2  plasma_HCC        9.24\n",
       "3  plasma_HCC        2.26\n",
       "4  plasma_HCC        7.76"
      ]
     },
     "execution_count": 24,
     "metadata": {},
     "output_type": "execute_result"
    }
   ],
   "source": [
    "plasma_HCCtab = pd.DataFrame(np.concatenate((np.repeat('plasma_HCC',plasma_HCC.shape[0]).reshape(-1,1),\n",
    "                                        plasma_HCC.reshape(-1,1)),axis=1))\n",
    "plasma_Normaltab = pd.DataFrame(np.concatenate((np.repeat('plasma_Normal',plasma_Normal.shape[0]).reshape(-1,1),\n",
    "                                        plasma_Normal.reshape(-1,1)),axis=1))\n",
    "plasma_HBV_Normaltab = pd.DataFrame(np.concatenate((np.repeat('plasma_HBV_Normal',plasma_HBV_Normal.shape[0]).reshape(-1,1),\n",
    "                                        plasma_HBV_Normal.reshape(-1,1)),axis=1))\n",
    "exosome_HCCtab = pd.DataFrame(np.concatenate((np.repeat('exosome_HCC',exosome_HCC.shape[0]).reshape(-1,1),\n",
    "                                        exosome_HCC.reshape(-1,1)),axis=1))\n",
    "exosome_Normaltab = pd.DataFrame(np.concatenate((np.repeat('exosome_Normal',exosome_Normal.shape[0]).reshape(-1,1),\n",
    "                                        exosome_Normal.reshape(-1,1)),axis=1))\n",
    "\n",
    "wholetab1 = pd.concat((plasma_HCCtab,plasma_Normaltab,plasma_HBV_Normaltab,exosome_HCCtab,exosome_Normaltab),axis=0)\n",
    "wholetab1.columns = ['sample','expression']\n",
    "wholetab1['expression'] = pd.to_numeric(wholetab1['expression'])\n",
    "wholetab1.head()"
   ]
  },
  {
   "cell_type": "code",
   "execution_count": 25,
   "metadata": {},
   "outputs": [
    {
     "name": "stdout",
     "output_type": "stream",
     "text": [
      "cf hcc vs health p value: 4.359828647833226e-13\n",
      "cf hcc vs health_hbv p value: 3.071725323038997e-16\n",
      "exo hcc vs health p value: 0.05878172135535886\n",
      "cf hcc vs health fold change: 3.029087686854677\n",
      "cf hcc vs health_hbv fold change: 3.029087686854677\n",
      "exo hcc vs health fold change: 3.3760603204524036\n"
     ]
    }
   ],
   "source": [
    "import scipy.stats as ss\n",
    "print ('cf hcc vs health p value: '+ str(ss.ranksums(plasma_HCC,plasma_Normal)[1]))\n",
    "print ('cf hcc vs health_hbv p value: '+ str(ss.ranksums(plasma_HCC,plasma_HBV_Normal)[1]))\n",
    "print ('exo hcc vs health p value: '+ str(ss.ranksums(exosome_HCC,exosome_Normal)[1]))\n",
    "\n",
    "fc1 = np.average(plasma_HCC)/np.average(plasma_Normal)\n",
    "fc2 = np.average(plasma_HCC)/np.average(plasma_HBV_Normal)\n",
    "fc3 = np.average(exosome_HCC)/np.average(exosome_Normal)\n",
    "print ('cf hcc vs health fold change: '+ str(fc1))\n",
    "print ('cf hcc vs health_hbv fold change: '+ str(fc1))\n",
    "print ('exo hcc vs health fold change: '+ str(fc3))"
   ]
  },
  {
   "cell_type": "code",
   "execution_count": 26,
   "metadata": {},
   "outputs": [
    {
     "data": {
      "text/plain": [
       "'3.02'"
      ]
     },
     "execution_count": 26,
     "metadata": {},
     "output_type": "execute_result"
    }
   ],
   "source": [
    "str('%0.4s'%fc1)"
   ]
  },
  {
   "cell_type": "code",
   "execution_count": 27,
   "metadata": {},
   "outputs": [
    {
     "data": {
      "application/vnd.jupyter.widget-view+json": {
       "model_id": "7a4d9ed24d71474dac0eba9ada055f4e",
       "version_major": 2,
       "version_minor": 0
      },
      "text/html": [
       "<p>Failed to display Jupyter Widget of type <code>interactive</code>.</p>\n",
       "<p>\n",
       "  If you're reading this message in the Jupyter Notebook or JupyterLab Notebook, it may mean\n",
       "  that the widgets JavaScript is still loading. If this message persists, it\n",
       "  likely means that the widgets JavaScript library is either not installed or\n",
       "  not enabled. See the <a href=\"https://ipywidgets.readthedocs.io/en/stable/user_install.html\">Jupyter\n",
       "  Widgets Documentation</a> for setup instructions.\n",
       "</p>\n",
       "<p>\n",
       "  If you're reading this message in another frontend (for example, a static\n",
       "  rendering on GitHub or <a href=\"https://nbviewer.jupyter.org/\">NBViewer</a>),\n",
       "  it may mean that your frontend doesn't currently support widgets.\n",
       "</p>\n"
      ],
      "text/plain": [
       "interactive(children=(FloatSlider(value=2.0, description=u'styind', max=3.0, step=1.0), FloatSlider(value=1.0, description=u'contextind', max=3.0, step=1.0), FloatSlider(value=12.0, description=u'width', max=20.0, min=8.0, step=1.0), FloatSlider(value=6.0, description=u'height', max=10.0, min=4.0, step=1.0), RadioButtons(description=u'showdot', options=('yes', 'no'), value='yes'), FloatSlider(value=1.0, description=u'dotsize', max=8.0, min=1.0, step=1.0), FloatSlider(value=8.0, description=u'fontsize', max=30.0, min=8.0, step=2.0), FloatRangeSlider(value=(-10.0, 25.0), description=u'ylim', max=30.0, min=-20.0, step=3.0), FloatSlider(value=0.2, description=u'boxwidth', max=0.5, min=0.05, step=0.05), Dropdown(description=u'box_violin', index=1, options=('box', 'violin'), value='violin'), FloatSlider(value=3.0, description=u'compareheight1', max=10.0, min=3.0, step=1.0), FloatSlider(value=6.0, description=u'compareheight2', max=10.0, min=3.0, step=1.0), FloatSlider(value=6.0, description=u'compareheight3', max=10.0, min=3.0, step=1.0), Output()), _dom_classes=('widget-interact',))"
      ]
     },
     "metadata": {},
     "output_type": "display_data"
    },
    {
     "data": {
      "text/plain": [
       "<function __main__.box_plot_1>"
      ]
     },
     "execution_count": 27,
     "metadata": {},
     "output_type": "execute_result"
    }
   ],
   "source": [
    "def box_plot_1(styind,contextind,width,height,showdot,dotsize,fontsize,\n",
    "               ylim,boxwidth,box_violin,compareheight1,compareheight2,compareheight3):\n",
    "    sns.set_context(contexts[int(contextind)])\n",
    "    sns.set_style(styles[int(styind)])\n",
    "\n",
    "\n",
    "    fig, ax = plt.subplots(figsize=(width,height))\n",
    "    if box_violin=='violin':\n",
    "        sns.violinplot(ax=ax,x=\"sample\", y=\"expression\", data=wholetab1, palette=\"PRGn\",width=boxwidth)\n",
    "    elif box_violin=='box':\n",
    "        sns.boxplot(ax=ax,x=\"sample\", y=\"expression\", data=wholetab1, palette=\"PRGn\",width=boxwidth)\n",
    "    if showdot =='yes':\n",
    "        sns.swarmplot(x=\"sample\", y=\"expression\", data=wholetab1, size=dotsize, edgecolor=\"black\", linewidth=.9)\n",
    "    ax.set_ylim(ylim)\n",
    "    # statistical annotation\n",
    "    x1, x2 = 0, 1   # columns 'Sat' and 'Sun' (first column: 0, see plt.xticks())\n",
    "    y, h, col = wholetab['expression'].max() + compareheight1, 0.5, 'k'\n",
    "    plt.plot([x1, x1, x2, x2], [y, y+h, y+h, y], lw=0.5, c=col)\n",
    "    plt.text((x1+x2)*.5, y+h, 'FC ' +str('%0.4s'%fc1)+ '\\n ****', ha='center', va='bottom', color=col,size=fontsize)\n",
    "    x1, x2 = 0, 2\n",
    "    y, h, col = wholetab['expression'].max() + compareheight2, 0.5, 'k'\n",
    "    plt.plot([x1, x1, x2, x2], [y, y+h, y+h, y], lw=0.5, c=col)\n",
    "    plt.text((x1+x2)*.5, y+h, 'FC ' +str('%0.4s'%fc2)+ ' \\n ****', ha='center', va='bottom', color=col,size=fontsize)\n",
    "    x1, x2 = 3, 4 \n",
    "    y, h, col = wholetab['expression'].max() + compareheight3, 0.5, 'k'\n",
    "    plt.plot([x1, x1, x2, x2], [y, y+h, y+h, y], lw=0.5, c=col)\n",
    "    plt.text((x1+x2)*.5, y+h, 'FC ' +str('%0.4s'%fc3)+ ' \\n ****', ha='center', va='bottom', color=col,size=fontsize)\n",
    "interact(box_plot_1,styind=FloatSlider(min=0,max=3,step=1,value=2),\n",
    "               contextind=FloatSlider(min=0,max=3,step=1,value=1),\n",
    "                width =FloatSlider(min=8,max=20,step=1,value=12),\n",
    "                 height= FloatSlider(min=4,max=10,step=1,value=6),\n",
    "         boxwidth= FloatSlider(min=0.05,max=0.5,step=0.05,value=0.2),\n",
    "         dotsize= FloatSlider(min=1,max=8,step=1),\n",
    "         fontsize= FloatSlider(min=8,max=30,step=2),\n",
    "         ylim=FloatRangeSlider(value=[-10, 25],min=-20,max=30.0,step=3),\n",
    "            showdot=RadioButtons(options=['yes','no']),\n",
    "        box_violin = Dropdown(options=['box','violin'],value='violin'),\n",
    "         compareheight1=FloatSlider(min=3,max=10,step=1,value=3),\n",
    "         compareheight2=FloatSlider(min=3,max=10,step=1,value=6),\n",
    "         compareheight3=FloatSlider(min=3,max=10,step=1,value=6))"
   ]
  },
  {
   "cell_type": "code",
   "execution_count": 28,
   "metadata": {},
   "outputs": [
    {
     "data": {
      "application/vnd.jupyter.widget-view+json": {
       "model_id": "638335b2fab94d9fa78bddd43731cda3",
       "version_major": 2,
       "version_minor": 0
      },
      "text/html": [
       "<p>Failed to display Jupyter Widget of type <code>interactive</code>.</p>\n",
       "<p>\n",
       "  If you're reading this message in the Jupyter Notebook or JupyterLab Notebook, it may mean\n",
       "  that the widgets JavaScript is still loading. If this message persists, it\n",
       "  likely means that the widgets JavaScript library is either not installed or\n",
       "  not enabled. See the <a href=\"https://ipywidgets.readthedocs.io/en/stable/user_install.html\">Jupyter\n",
       "  Widgets Documentation</a> for setup instructions.\n",
       "</p>\n",
       "<p>\n",
       "  If you're reading this message in another frontend (for example, a static\n",
       "  rendering on GitHub or <a href=\"https://nbviewer.jupyter.org/\">NBViewer</a>),\n",
       "  it may mean that your frontend doesn't currently support widgets.\n",
       "</p>\n"
      ],
      "text/plain": [
       "interactive(children=(FloatSlider(value=1.0, description=u'styind', max=2.0, step=1.0), FloatSlider(value=1.0, description=u'contextind', max=3.0, step=1.0), FloatSlider(value=8.0, description=u'width', max=16.0, min=6.0, step=1.0), FloatSlider(value=8.0, description=u'height', max=16.0, min=6.0, step=1.0), FloatSlider(value=1.5, description=u'linewid', max=4.0, min=1.0, step=0.3), SelectMultiple(description=u'color', index=(0, 1, 2), options=('b', 'g', 'r', 'c', 'm', 'y', 'k', 'w'), value=('b', 'g', 'r')), FloatSlider(value=1.5, description=u'linewid2', max=4.0, min=1.0, step=0.3), Dropdown(description=u'color2', options=('b', 'g', 'r', 'c', 'm', 'y', 'k', 'w'), value='b'), FloatSlider(value=0.5, description=u'transparency', max=1.0, step=0.05), FloatSlider(value=10.0, description=u'fontsize', max=20.0, min=6.0, step=1.0), Output()), _dom_classes=('widget-interact',))"
      ]
     },
     "metadata": {},
     "output_type": "display_data"
    },
    {
     "data": {
      "text/plain": [
       "<function __main__.rocplot1>"
      ]
     },
     "execution_count": 28,
     "metadata": {},
     "output_type": "execute_result"
    }
   ],
   "source": [
    "def rocplot1(styind,contextind,width,height,linewid,color,linewid2,color2,transparency,fontsize):\n",
    "    sns.set_context(contexts[int(contextind)])\n",
    "    sns.set_style(styles[int(styind)])\n",
    "    fig, ax = plt.subplots(figsize=(width,height))\n",
    "    \n",
    "    a,b,_ = roc_curve(np.concatenate((np.ones([exosome_HCC.shape[0]]),np.zeros([exosome_Normal.shape[0]]))),np.concatenate((exosome_HCC,exosome_Normal)),drop_intermediate=False)   \n",
    "    ax.plot(a,b,linewidth=linewid,color=color[0],label='exosome')\n",
    "    a,b,_ = roc_curve(np.concatenate((np.ones([plasma_HCC.shape[0]]),np.zeros([plasma_Normal.shape[0]]))),np.concatenate((plasma_HCC,plasma_Normal)))   \n",
    "    ax.plot(a,b,linewidth=linewid,color=color[1],label='plasma -HBV')\n",
    "    a,b,_ = roc_curve(np.concatenate((np.ones([plasma_HCC.shape[0]]),np.zeros([plasma_HBV_Normal.shape[0]]))),np.concatenate((plasma_HCC,plasma_HBV_Normal)))   \n",
    "    ax.plot(a,b,linewidth=linewid,color=color[2],label='plasma +HBV')\n",
    "    ax.legend(prop={'size': fontsize})\n",
    "    #ax.plot(b,a,linewidth=linewid,color=color,linestyle='dashed') #solid’ | ‘dashed’, ‘dashdot’, ‘dotted\n",
    "    ax.plot([0,1],[0,1], linewidth=linewid2,alpha=transparency,color=color2,linestyle='--')\n",
    "interact(rocplot1,styind=FloatSlider(min=0,max=2,step=1,value=1),\n",
    "               contextind=FloatSlider(min=0,max=3,step=1,value=1),\n",
    "                width =FloatSlider(min=6,max=16,step=1,value=8),\n",
    "                 height= FloatSlider(min=6,max=16,step=1,value=8),\n",
    "        linewid= FloatSlider(min=1,max=4,step=0.3,value=1.5),\n",
    "        color=SelectMultiple(options=['b', 'g', 'r', 'c', 'm', 'y', 'k', 'w'],value=('b', 'g', 'r')),\n",
    "        linewid2= FloatSlider(min=1,max=4,step=0.3,value=1.5),\n",
    "         fontsize= FloatSlider(min=6,max=20,step=1,value=10),\n",
    "        transparency=FloatSlider(min=0,max=1,step=0.05,value=0.5),\n",
    "        color2=Dropdown(options=['b', 'g', 'r', 'c', 'm', 'y', 'k', 'w']))"
   ]
  },
  {
   "cell_type": "code",
   "execution_count": 29,
   "metadata": {},
   "outputs": [],
   "source": [
    "def find_metrics_best(label,expressionlevel):\n",
    "    posinum = np.sum(label)\n",
    "    neganum = label.shape[0] - np.sum(label)\n",
    "    a,b,c= roc_curve(label,expressionlevel) #fpr tpr threshold\n",
    "    fp = a*neganum\n",
    "    tp = b*posinum\n",
    "    tn = (1-a)*neganum\n",
    "    fn = (1-b)*posinum\n",
    "    \n",
    "    Sensitivity = tp/(tp+fn) \n",
    "    Specificity = tn/(tn+fp) \n",
    "    PPV = tp/(tp+fp) \n",
    "    NPV = tn/(tn+fn) \n",
    "    \n",
    "    arith_mean = (Sensitivity+Specificity)*0.5\n",
    "    geo_mean = (Sensitivity*Specificity)**0.5\n",
    "    harmo_mean = 2/(1/Sensitivity+1/Specificity)\n",
    "    eucilid_mean = ((1-Sensitivity)**2+(1-Specificity)**2)**0.5\n",
    "    mcc_mean = (tp*tn-fp*fn)/(((tp+fp)*(tp+fn)*(tn+fp)*(tn+fn))**0.5)\n",
    "    F1_score = 2*tp/(2*tp+fn+fp)\n",
    "    auc = sklearn.metrics.auc(a,b)\n",
    "    acc = (tp+tn)/(tp+tn+fn+fp)\n",
    "    distoleftup = (a**2+(1-b)**2)**0.5# to the left up\n",
    "    #print (\"AUC:\" +str(auc))\n",
    "    \n",
    "    thres = int(label.shape[0]/10.) if int(label.shape[0]/10.)>0 else 1\n",
    "    uni,counts= np.unique(np.concatenate((np.argsort(-arith_mean)[:thres],np.argsort(-geo_mean)[:thres],np.argsort(-harmo_mean)[:thres],\n",
    "                np.argsort(-eucilid_mean)[:thres],np.argsort(-mcc_mean)[:thres],np.argsort(-F1_score)[:thres])),return_counts=True)\n",
    "    #print (Sensitivity[uni[np.where(counts ==np.max(counts))][0]])\n",
    "    #print (Specificity[uni[np.where(counts ==np.max(counts))][0]])\n",
    "    #print (F1_score)\n",
    "    #print (np.argsort(-F1_score))\n",
    "    return auc,Sensitivity[uni[np.where(counts ==np.max(counts))][0]],Specificity[uni[np.where(counts ==np.max(counts))][0]]"
   ]
  },
  {
   "cell_type": "code",
   "execution_count": 30,
   "metadata": {},
   "outputs": [
    {
     "data": {
      "text/html": [
       "<div>\n",
       "<style scoped>\n",
       "    .dataframe tbody tr th:only-of-type {\n",
       "        vertical-align: middle;\n",
       "    }\n",
       "\n",
       "    .dataframe tbody tr th {\n",
       "        vertical-align: top;\n",
       "    }\n",
       "\n",
       "    .dataframe thead th {\n",
       "        text-align: right;\n",
       "    }\n",
       "</style>\n",
       "<table border=\"1\" class=\"dataframe\">\n",
       "  <thead>\n",
       "    <tr style=\"text-align: right;\">\n",
       "      <th></th>\n",
       "      <th>AUC</th>\n",
       "      <th>Specificity</th>\n",
       "      <th>Sensitivity</th>\n",
       "    </tr>\n",
       "  </thead>\n",
       "  <tbody>\n",
       "    <tr>\n",
       "      <th>exosome</th>\n",
       "      <td>0.750000</td>\n",
       "      <td>1.00</td>\n",
       "      <td>0.50</td>\n",
       "    </tr>\n",
       "    <tr>\n",
       "      <th>plasma -HBV</th>\n",
       "      <td>0.863400</td>\n",
       "      <td>0.87</td>\n",
       "      <td>0.66</td>\n",
       "    </tr>\n",
       "    <tr>\n",
       "      <th>plasma +HBV</th>\n",
       "      <td>0.868643</td>\n",
       "      <td>0.70</td>\n",
       "      <td>0.90</td>\n",
       "    </tr>\n",
       "  </tbody>\n",
       "</table>\n",
       "</div>"
      ],
      "text/plain": [
       "                  AUC  Specificity  Sensitivity\n",
       "exosome      0.750000         1.00         0.50\n",
       "plasma -HBV  0.863400         0.87         0.66\n",
       "plasma +HBV  0.868643         0.70         0.90"
      ]
     },
     "execution_count": 30,
     "metadata": {},
     "output_type": "execute_result"
    }
   ],
   "source": [
    "pd.DataFrame(np.concatenate((np.array(find_metrics_best(np.concatenate((np.ones([exosome_HCC.shape[0]]),np.zeros([exosome_Normal.shape[0]]))),np.concatenate((exosome_HCC,exosome_Normal)))).reshape(1,-1),\n",
    "                np.array(find_metrics_best(np.concatenate((np.ones([plasma_HCC.shape[0]]),np.zeros([plasma_Normal.shape[0]]))),np.concatenate((plasma_HCC,plasma_Normal)))).reshape(1,-1),\n",
    "                np.array(find_metrics_best(np.concatenate((np.ones([plasma_HCC.shape[0]]),np.zeros([plasma_HBV_Normal.shape[0]]))),np.concatenate((plasma_HCC,plasma_HBV_Normal)))).reshape(1,-1)\n",
    "               )),columns=['AUC','Specificity','Sensitivity'],\n",
    "             index=['exosome','plasma -HBV','plasma +HBV'])\n"
   ]
  },
  {
   "cell_type": "code",
   "execution_count": null,
   "metadata": {
    "deletable": false,
    "editable": false,
    "run_control": {
     "frozen": true
    }
   },
   "outputs": [],
   "source": [
    "def metricsplot(styind,contextind,width,height,linewid,metrics,fontsize):\n",
    "    sns.set_context(contexts[int(contextind)])\n",
    "    sns.set_style(styles[int(styind)])\n",
    "    fig, ax = plt.subplots(figsize=(width,height))\n",
    "    colors = ['b', 'g', 'r', 'c', 'm', 'y', 'k', 'w']\n",
    "    allmetrics = np.array(['tp','fp','tn','fn','acc','Sensitivity','Specificity','PPV','NPV',\n",
    "                           'arith_mean','geo_mean','harmo_mean','eucilid_mean','mcc_mean','F1_score','distoleftup'])\n",
    "    for i in range(len(metrics)):\n",
    "        indtmp = np.where(allmetrics==metrics[i])[0]\n",
    "        if indtmp.shape[0]:\n",
    "            ax.plot(report_metrics_best(np.concatenate((exosome_HCC,exosome_Normal)),np.concatenate((np.ones([exosome_HCC.shape[0]]),np.zeros([exosome_Normal.shape[0]]))))[1:][indtmp[0]],linewidth=linewid,color=colors[i],\n",
    "                    label=allmetrics[indtmp[0]] )\n",
    "    ax.legend(prop={'size': fontsize})#[allmetrics[indtmp[0]]],prop={'size': fontsize})\n",
    "    #ax.plot(arith_mean,linewidth=linewid,color=color)\n",
    "    #ax.plot([0,1],[0,1], linewidth=linewid2,alpha=transparency,color=color2)\n",
    "interact(metricsplot,styind=FloatSlider(min=0,max=2,step=1,value=1),\n",
    "               contextind=FloatSlider(min=0,max=3,step=1),\n",
    "                width =FloatSlider(min=6,max=16,step=1,value=9),\n",
    "                 height= FloatSlider(min=6,max=16,step=1,value=9),\n",
    "        linewid= FloatSlider(min=1,max=4,step=0.3,value=1.5),\n",
    "         fontsize= FloatSlider(min=6,max=20,step=1,value=10),\n",
    "        metrics=SelectMultiple(options=['tp','fp','tn','fn','acc','Sensitivity','Specificity','PPV','NPV','arith_mean','geo_mean','harmo_mean','eucilid_mean',\n",
    "                                        'mcc_mean','F1_score','distoleftup'],value=('arith_mean',)))"
   ]
  },
  {
   "cell_type": "code",
   "execution_count": null,
   "metadata": {},
   "outputs": [],
   "source": []
  },
  {
   "cell_type": "markdown",
   "metadata": {},
   "source": [
    "##### plot fig2"
   ]
  },
  {
   "cell_type": "code",
   "execution_count": 31,
   "metadata": {},
   "outputs": [
    {
     "data": {
      "text/html": [
       "<div>\n",
       "<style scoped>\n",
       "    .dataframe tbody tr th:only-of-type {\n",
       "        vertical-align: middle;\n",
       "    }\n",
       "\n",
       "    .dataframe tbody tr th {\n",
       "        vertical-align: top;\n",
       "    }\n",
       "\n",
       "    .dataframe thead th {\n",
       "        text-align: right;\n",
       "    }\n",
       "</style>\n",
       "<table border=\"1\" class=\"dataframe\">\n",
       "  <thead>\n",
       "    <tr style=\"text-align: right;\">\n",
       "      <th></th>\n",
       "      <th>BCLC</th>\n",
       "      <th>S domain-HCC</th>\n",
       "      <th>S domain-Health</th>\n",
       "      <th>S domain-HBV</th>\n",
       "    </tr>\n",
       "  </thead>\n",
       "  <tbody>\n",
       "    <tr>\n",
       "      <th>0</th>\n",
       "      <td>B</td>\n",
       "      <td>8.60</td>\n",
       "      <td>4.20</td>\n",
       "      <td>1.09</td>\n",
       "    </tr>\n",
       "    <tr>\n",
       "      <th>1</th>\n",
       "      <td>C</td>\n",
       "      <td>4.85</td>\n",
       "      <td>2.39</td>\n",
       "      <td>2.14</td>\n",
       "    </tr>\n",
       "    <tr>\n",
       "      <th>2</th>\n",
       "      <td>B</td>\n",
       "      <td>9.24</td>\n",
       "      <td>2.41</td>\n",
       "      <td>-5.32</td>\n",
       "    </tr>\n",
       "    <tr>\n",
       "      <th>3</th>\n",
       "      <td>B</td>\n",
       "      <td>2.26</td>\n",
       "      <td>6.01</td>\n",
       "      <td>4.00</td>\n",
       "    </tr>\n",
       "    <tr>\n",
       "      <th>4</th>\n",
       "      <td>B</td>\n",
       "      <td>7.76</td>\n",
       "      <td>2.44</td>\n",
       "      <td>5.51</td>\n",
       "    </tr>\n",
       "  </tbody>\n",
       "</table>\n",
       "</div>"
      ],
      "text/plain": [
       "  BCLC  S domain-HCC  S domain-Health  S domain-HBV\n",
       "0    B          8.60             4.20          1.09\n",
       "1    C          4.85             2.39          2.14\n",
       "2    B          9.24             2.41         -5.32\n",
       "3    B          2.26             6.01          4.00\n",
       "4    B          7.76             2.44          5.51"
      ]
     },
     "execution_count": 31,
     "metadata": {},
     "output_type": "execute_result"
    }
   ],
   "source": [
    "datatable1.head()"
   ]
  },
  {
   "cell_type": "code",
   "execution_count": 32,
   "metadata": {},
   "outputs": [],
   "source": [
    "def load_data(table):\n",
    "    datatable = table\n",
    "    return np.array(datatable.loc[datatable['BCLC'] ==\"A\",[\"S domain-HCC\"]]).ravel().astype('float'),np.array(datatable.loc[datatable['BCLC'] ==\"B\",[\"S domain-HCC\"]]).ravel().astype('float'),np.array(datatable.loc[datatable['BCLC'] ==\"C\",[\"S domain-HCC\"]]).ravel().astype('float'),np.array(datatable['S domain-Health']).ravel().astype('float')\n",
    "\n",
    "stageA,stageB,stageC,health = load_data(datatable1)\n",
    "health= datatable1['S domain-Health']\n",
    "health = health[~np.isnan(health)]\n",
    "hcc = np.concatenate((stageA,stageB,stageC))"
   ]
  },
  {
   "cell_type": "code",
   "execution_count": 33,
   "metadata": {},
   "outputs": [
    {
     "name": "stdout",
     "output_type": "stream",
     "text": [
      "hcc vs health p value: 1.3986894714551318e-11\n",
      "stageA vs health p value: 8.59708134367873e-06\n",
      "stageB vs health p value: 2.605179305102531e-10\n",
      "stageC vs health p value: 2.605179305102531e-10\n",
      "hcc vs health fold change: 3.0088923379492036\n",
      "stageA vs health fold change: 3.0088923379492036\n",
      "stageB vs health fold change: 3.5900498279139055\n",
      "stageC vs health fold change: 3.3826475574048387\n"
     ]
    }
   ],
   "source": [
    "stageAtab = pd.DataFrame(np.concatenate((np.repeat('hcc',stageA.shape[0]).reshape(-1,1),\n",
    "                                         np.repeat('stageA',stageA.shape[0]).reshape(-1,1),stageA.reshape(-1,1)),axis=1))\n",
    "stageBtab = pd.DataFrame(np.concatenate((np.repeat('hcc',stageB.shape[0]).reshape(-1,1),\n",
    "                                         np.repeat('stageB',stageB.shape[0]).reshape(-1,1),stageB.reshape(-1,1)),axis=1))\n",
    "stageCtab = pd.DataFrame(np.concatenate((np.repeat('hcc',stageC.shape[0]).reshape(-1,1),\n",
    "                                         np.repeat('stageC',stageC.shape[0]).reshape(-1,1),stageC.reshape(-1,1)),axis=1))\n",
    "healthtab = pd.DataFrame(np.concatenate((np.repeat('health',health.shape[0]*2).reshape(-1,2),health.reshape(-1,1)),axis=1))\n",
    "wholetab = pd.concat((stageAtab,stageBtab,stageCtab,healthtab),axis=0)\n",
    "wholetab.columns = ['sample','stage','expression']\n",
    "wholetab.head()\n",
    "wholetab['expression'] = pd.to_numeric(wholetab['expression'])\n",
    "wholetab.head()\n",
    "\n",
    "import scipy.stats as ss\n",
    "values_per_group = [col for col_name, col in wholetab.groupby('sample')['expression']]\n",
    "print ('hcc vs health p value: '+ str(ss.ranksums(*values_per_group)[1]))\n",
    "print ('stageA vs health p value: '+ str(ss.ranksums(wholetab[wholetab['stage']==\"stageA\"]['expression'],wholetab[wholetab['stage']==\"health\"]['expression'])[1]))\n",
    "print ('stageB vs health p value: '+ str(ss.ranksums(wholetab[wholetab['stage']==\"stageB\"]['expression'],wholetab[wholetab['stage']==\"health\"]['expression'])[1]))\n",
    "print ('stageC vs health p value: '+ str(ss.ranksums(wholetab[wholetab['stage']==\"stageB\"]['expression'],wholetab[wholetab['stage']==\"health\"]['expression'])[1]))\n",
    "\n",
    "\n",
    "fc1 = np.average(wholetab[wholetab['sample']==\"hcc\"]['expression'])/np.average(wholetab[wholetab['sample']==\"health\"]['expression'])\n",
    "fc2 = np.average(wholetab[wholetab['stage']==\"stageA\"]['expression'])/np.average(wholetab[wholetab['stage']==\"health\"]['expression'])\n",
    "fc3 = np.average(wholetab[wholetab['stage']==\"stageB\"]['expression'])/np.average(wholetab[wholetab['stage']==\"health\"]['expression'])\n",
    "fc4 = np.average(wholetab[wholetab['stage']==\"stageC\"]['expression'])/np.average(wholetab[wholetab['stage']==\"health\"]['expression'])\n",
    "print ('hcc vs health fold change: '+ str(fc1))\n",
    "print ('stageA vs health fold change: '+ str(fc1))\n",
    "print ('stageB vs health fold change: '+ str(fc3))\n",
    "print ('stageC vs health fold change: '+ str(fc4))\n"
   ]
  },
  {
   "cell_type": "code",
   "execution_count": 34,
   "metadata": {},
   "outputs": [
    {
     "data": {
      "application/vnd.jupyter.widget-view+json": {
       "model_id": "1e138bdf7c9e46729e2a91433fef1cc9",
       "version_major": 2,
       "version_minor": 0
      },
      "text/html": [
       "<p>Failed to display Jupyter Widget of type <code>interactive</code>.</p>\n",
       "<p>\n",
       "  If you're reading this message in the Jupyter Notebook or JupyterLab Notebook, it may mean\n",
       "  that the widgets JavaScript is still loading. If this message persists, it\n",
       "  likely means that the widgets JavaScript library is either not installed or\n",
       "  not enabled. See the <a href=\"https://ipywidgets.readthedocs.io/en/stable/user_install.html\">Jupyter\n",
       "  Widgets Documentation</a> for setup instructions.\n",
       "</p>\n",
       "<p>\n",
       "  If you're reading this message in another frontend (for example, a static\n",
       "  rendering on GitHub or <a href=\"https://nbviewer.jupyter.org/\">NBViewer</a>),\n",
       "  it may mean that your frontend doesn't currently support widgets.\n",
       "</p>\n"
      ],
      "text/plain": [
       "interactive(children=(FloatSlider(value=2.0, description=u'styind', max=3.0, step=1.0), FloatSlider(value=1.0, description=u'contextind', max=3.0, step=1.0), FloatSlider(value=12.0, description=u'width', max=20.0, min=8.0, step=1.0), FloatSlider(value=6.0, description=u'height', max=10.0, min=4.0, step=1.0), RadioButtons(description=u'showdot', options=('yes', 'no'), value='yes'), FloatSlider(value=1.0, description=u'dotsize', max=8.0, min=1.0, step=1.0), FloatSlider(value=8.0, description=u'fontsize', max=30.0, min=8.0, step=2.0), FloatRangeSlider(value=(-10.0, 22.0), description=u'ylim', max=30.0, min=-20.0, step=3.0), FloatSlider(value=1.0, description=u'compareheight1', max=10.0, min=1.0, step=1.0), FloatSlider(value=2.0, description=u'compareheight2', max=10.0, min=1.0, step=1.0), FloatSlider(value=3.0, description=u'compareheight3', max=10.0, min=1.0, step=1.0), FloatSlider(value=0.2, description=u'boxwidth', max=0.5, min=0.05, step=0.05), Dropdown(description=u'box_violin', options=('box', 'violin'), value='box'), Output()), _dom_classes=('widget-interact',))"
      ]
     },
     "metadata": {},
     "output_type": "display_data"
    },
    {
     "data": {
      "text/plain": [
       "<function __main__.box_plot_stage>"
      ]
     },
     "execution_count": 34,
     "metadata": {},
     "output_type": "execute_result"
    }
   ],
   "source": [
    "def box_plot_stage(styind,contextind,width,height,showdot,\n",
    "                   dotsize,fontsize,ylim,compareheight1,compareheight2,compareheight3,boxwidth,box_violin):\n",
    "    sns.set_context(contexts[int(contextind)])\n",
    "    sns.set_style(styles[int(styind)])\n",
    "\n",
    "\n",
    "    fig, ax = plt.subplots(figsize=(width,height))\n",
    "    if box_violin=='violin':\n",
    "        sns.violinplot(ax=ax,x=\"sample\", y=\"expression\", data=wholetab1, palette=\"PRGn\",width=boxwidth)\n",
    "    elif box_violin=='box':\n",
    "        sns.boxplot(ax=ax,x=\"stage\", y=\"expression\", data=wholetab, palette=\"PRGn\",width=boxwidth)\n",
    "    if showdot =='yes':\n",
    "        sns.swarmplot(x=\"stage\", y=\"expression\", data=wholetab, size=dotsize, edgecolor=\"black\", linewidth=.9)\n",
    "    ax.set_ylim(ylim)\n",
    "    # statistical annotation\n",
    "    x1, x2 = 0, 3   # columns 'Sat' and 'Sun' (first column: 0, see plt.xticks())\n",
    "    y, h, col = wholetab['expression'].max() + compareheight1, 0.5, 'k'\n",
    "    plt.plot([x1, x1, x2, x2], [y, y+h, y+h, y], lw=0.5, c=col)\n",
    "    plt.text((x1+x2)*.1, y+h, \"FC 3.00 \\n ****\", ha='center', va='bottom', color=col,size=fontsize)\n",
    "    x1, x2 = 1, 3 \n",
    "    y, h, col = wholetab['expression'].max() + compareheight2, 0.5, 'k'\n",
    "    plt.plot([x1, x1, x2, x2], [y, y+h, y+h, y], lw=0.5, c=col)\n",
    "    plt.text((x1+x2)*.35, y+h, \"FC 3.59 \\n ****\", ha='center', va='bottom', color=col,size=fontsize)\n",
    "    x1, x2 = 2, 3 \n",
    "    y, h, col = wholetab['expression'].max() + compareheight3, 0.5, 'k'\n",
    "    plt.plot([x1, x1, x2, x2], [y, y+h, y+h, y], lw=0.5, c=col)\n",
    "    plt.text((x1+x2)*.5, y+h, \"FC 3.38 \\n ****\", ha='center', va='bottom', color=col,size=fontsize)\n",
    "interact(box_plot_stage,styind=FloatSlider(min=0,max=3,step=1,value=2),\n",
    "               contextind=FloatSlider(min=0,max=3,step=1,value=1),\n",
    "                width =FloatSlider(min=8,max=20,step=1,value=12),\n",
    "                 height= FloatSlider(min=4,max=10,step=1,value=6),\n",
    "         dotsize= FloatSlider(min=1,max=8,step=1),\n",
    "         fontsize= FloatSlider(min=8,max=30,step=2),\n",
    "         ylim=FloatRangeSlider(value=[-10, 22],min=-20,max=30.0,step=3),\n",
    "            showdot=RadioButtons(options=['yes','no']),\n",
    "        compareheight1=FloatSlider(min=1,max=10,step=1,value=1),\n",
    "         compareheight2=FloatSlider(min=1,max=10,step=1,value=2),\n",
    "         compareheight3=FloatSlider(min=1,max=10,step=1,value=3),\n",
    "        boxwidth= FloatSlider(min=0.05,max=0.5,step=0.05,value=0.2),\n",
    "        box_violin = Dropdown(options=['box','violin'],value='box'))"
   ]
  },
  {
   "cell_type": "code",
   "execution_count": 35,
   "metadata": {},
   "outputs": [
    {
     "data": {
      "application/vnd.jupyter.widget-view+json": {
       "model_id": "2a9edf619d374172ad819741fd9cad1b",
       "version_major": 2,
       "version_minor": 0
      },
      "text/html": [
       "<p>Failed to display Jupyter Widget of type <code>interactive</code>.</p>\n",
       "<p>\n",
       "  If you're reading this message in the Jupyter Notebook or JupyterLab Notebook, it may mean\n",
       "  that the widgets JavaScript is still loading. If this message persists, it\n",
       "  likely means that the widgets JavaScript library is either not installed or\n",
       "  not enabled. See the <a href=\"https://ipywidgets.readthedocs.io/en/stable/user_install.html\">Jupyter\n",
       "  Widgets Documentation</a> for setup instructions.\n",
       "</p>\n",
       "<p>\n",
       "  If you're reading this message in another frontend (for example, a static\n",
       "  rendering on GitHub or <a href=\"https://nbviewer.jupyter.org/\">NBViewer</a>),\n",
       "  it may mean that your frontend doesn't currently support widgets.\n",
       "</p>\n"
      ],
      "text/plain": [
       "interactive(children=(FloatSlider(value=2.0, description=u'styind', max=3.0, step=1.0), FloatSlider(value=0.0, description=u'contextind', max=3.0, step=1.0), FloatSlider(value=8.0, description=u'width', max=16.0, min=6.0, step=1.0), FloatSlider(value=8.0, description=u'height', max=16.0, min=6.0, step=1.0), FloatSlider(value=1.5, description=u'linewid', max=4.0, min=1.0, step=0.3), SelectMultiple(description=u'color', index=(0, 1, 2), options=('b', 'g', 'r', 'c', 'm', 'y', 'k', 'w'), value=('b', 'g', 'r')), FloatSlider(value=1.5, description=u'linewid2', max=4.0, min=1.0, step=0.3), Dropdown(description=u'color2', options=('b', 'g', 'r', 'c', 'm', 'y', 'k', 'w'), value='b'), FloatSlider(value=0.5, description=u'transparency', max=1.0, step=0.05), FloatSlider(value=10.0, description=u'fontsize', max=20.0, min=6.0, step=1.0), Output()), _dom_classes=('widget-interact',))"
      ]
     },
     "metadata": {},
     "output_type": "display_data"
    },
    {
     "data": {
      "text/plain": [
       "<function __main__.rocplot_stage>"
      ]
     },
     "execution_count": 35,
     "metadata": {},
     "output_type": "execute_result"
    }
   ],
   "source": [
    "def rocplot_stage(styind,contextind,width,height,linewid,color,linewid2,color2,transparency,fontsize):\n",
    "    sns.set_context(contexts[int(contextind)])\n",
    "    sns.set_style(styles[int(styind)])\n",
    "    fig, ax = plt.subplots(figsize=(width,height))\n",
    "    \n",
    "    a,b,_ = roc_curve(np.concatenate((np.ones([stageA.shape[0]]),np.zeros([health.shape[0]]))),np.concatenate((stageA,health)))   \n",
    "    ax.plot(a,b,linewidth=linewid,color=color[0],label='Stage A')\n",
    "    a,b,_ = roc_curve(np.concatenate((np.ones([stageB.shape[0]]),np.zeros([health.shape[0]]))),np.concatenate((stageB,health)))   \n",
    "    ax.plot(a,b,linewidth=linewid,color=color[1],label='Stage B')\n",
    "    a,b,_ = roc_curve(np.concatenate((np.ones([stageC.shape[0]]),np.zeros([health.shape[0]]))),np.concatenate((stageC,health)))   \n",
    "    ax.plot(a,b,linewidth=linewid,color=color[2],label='Stage C')\n",
    "    ax.legend(prop={'size': fontsize})\n",
    "    #ax.plot(b,a,linewidth=linewid,color=color,linestyle='dashed') #solid’ | ‘dashed’, ‘dashdot’, ‘dotted\n",
    "    ax.plot([0,1],[0,1], linewidth=linewid2,alpha=transparency,color=color2,linestyle='--')\n",
    "interact(rocplot_stage,styind=FloatSlider(min=0,max=3,step=1,value=2),\n",
    "               contextind=FloatSlider(min=0,max=3,step=1),\n",
    "                width =FloatSlider(min=6,max=16,step=1,value=8),\n",
    "                 height= FloatSlider(min=6,max=16,step=1,value=8),\n",
    "        linewid= FloatSlider(min=1,max=4,step=0.3,value=1.5),\n",
    "        color=SelectMultiple(options=['b', 'g', 'r', 'c', 'm', 'y', 'k', 'w'],value=('b', 'g', 'r')),\n",
    "        linewid2= FloatSlider(min=1,max=4,step=0.3,value=1.5),\n",
    "         fontsize= FloatSlider(min=6,max=20,step=1,value=10),\n",
    "        transparency=FloatSlider(min=0,max=1,step=0.05,value=0.5),\n",
    "        color2=Dropdown(options=['b', 'g', 'r', 'c', 'm', 'y', 'k', 'w']))"
   ]
  },
  {
   "cell_type": "code",
   "execution_count": 36,
   "metadata": {},
   "outputs": [
    {
     "data": {
      "text/html": [
       "<div>\n",
       "<style scoped>\n",
       "    .dataframe tbody tr th:only-of-type {\n",
       "        vertical-align: middle;\n",
       "    }\n",
       "\n",
       "    .dataframe tbody tr th {\n",
       "        vertical-align: top;\n",
       "    }\n",
       "\n",
       "    .dataframe thead th {\n",
       "        text-align: right;\n",
       "    }\n",
       "</style>\n",
       "<table border=\"1\" class=\"dataframe\">\n",
       "  <thead>\n",
       "    <tr style=\"text-align: right;\">\n",
       "      <th></th>\n",
       "      <th>AUC</th>\n",
       "      <th>Specificity</th>\n",
       "      <th>Sensitivity</th>\n",
       "    </tr>\n",
       "  </thead>\n",
       "  <tbody>\n",
       "    <tr>\n",
       "      <th>stageA</th>\n",
       "      <td>0.774000</td>\n",
       "      <td>0.775000</td>\n",
       "      <td>0.66</td>\n",
       "    </tr>\n",
       "    <tr>\n",
       "      <th>stageB</th>\n",
       "      <td>0.924000</td>\n",
       "      <td>0.766667</td>\n",
       "      <td>0.98</td>\n",
       "    </tr>\n",
       "    <tr>\n",
       "      <th>stageC</th>\n",
       "      <td>0.907143</td>\n",
       "      <td>0.714286</td>\n",
       "      <td>0.96</td>\n",
       "    </tr>\n",
       "  </tbody>\n",
       "</table>\n",
       "</div>"
      ],
      "text/plain": [
       "             AUC  Specificity  Sensitivity\n",
       "stageA  0.774000     0.775000         0.66\n",
       "stageB  0.924000     0.766667         0.98\n",
       "stageC  0.907143     0.714286         0.96"
      ]
     },
     "execution_count": 36,
     "metadata": {},
     "output_type": "execute_result"
    }
   ],
   "source": [
    "pd.DataFrame(np.concatenate((np.array(find_metrics_best(np.concatenate((np.ones([stageA.shape[0]]),np.zeros([health.shape[0]]))),np.concatenate((stageA,health)))).reshape(1,-1),\n",
    "                np.array(find_metrics_best(np.concatenate((np.ones([stageB.shape[0]]),np.zeros([health.shape[0]]))),np.concatenate((stageB,health)))).reshape(1,-1),\n",
    "                np.array(find_metrics_best(np.concatenate((np.ones([stageC.shape[0]]),np.zeros([health.shape[0]]))),np.concatenate((stageC,health)))).reshape(1,-1)\n",
    "               )),columns=['AUC','Specificity','Sensitivity'],\n",
    "             index=['stageA','stageB','stageC'])\n"
   ]
  },
  {
   "cell_type": "markdown",
   "metadata": {},
   "source": [
    "##### plot fig3"
   ]
  },
  {
   "cell_type": "code",
   "execution_count": 37,
   "metadata": {},
   "outputs": [
    {
     "data": {
      "text/html": [
       "<div>\n",
       "<style scoped>\n",
       "    .dataframe tbody tr th:only-of-type {\n",
       "        vertical-align: middle;\n",
       "    }\n",
       "\n",
       "    .dataframe tbody tr th {\n",
       "        vertical-align: top;\n",
       "    }\n",
       "\n",
       "    .dataframe thead th {\n",
       "        text-align: right;\n",
       "    }\n",
       "</style>\n",
       "<table border=\"1\" class=\"dataframe\">\n",
       "  <thead>\n",
       "    <tr style=\"text-align: right;\">\n",
       "      <th></th>\n",
       "      <th>S-Health</th>\n",
       "      <th>S-HBV</th>\n",
       "      <th>S-HCC</th>\n",
       "      <th>L-Health</th>\n",
       "      <th>L-HBV</th>\n",
       "      <th>L-HCC</th>\n",
       "    </tr>\n",
       "  </thead>\n",
       "  <tbody>\n",
       "    <tr>\n",
       "      <th>0</th>\n",
       "      <td>10.95</td>\n",
       "      <td>9.62</td>\n",
       "      <td>12.23</td>\n",
       "      <td>5.73</td>\n",
       "      <td>6.41</td>\n",
       "      <td>7.18</td>\n",
       "    </tr>\n",
       "    <tr>\n",
       "      <th>1</th>\n",
       "      <td>9.26</td>\n",
       "      <td>11.67</td>\n",
       "      <td>12.38</td>\n",
       "      <td>3.20</td>\n",
       "      <td>3.73</td>\n",
       "      <td>7.52</td>\n",
       "    </tr>\n",
       "    <tr>\n",
       "      <th>2</th>\n",
       "      <td>8.98</td>\n",
       "      <td>8.79</td>\n",
       "      <td>11.23</td>\n",
       "      <td>3.47</td>\n",
       "      <td>1.73</td>\n",
       "      <td>5.99</td>\n",
       "    </tr>\n",
       "    <tr>\n",
       "      <th>3</th>\n",
       "      <td>11.86</td>\n",
       "      <td>8.61</td>\n",
       "      <td>8.98</td>\n",
       "      <td>6.65</td>\n",
       "      <td>2.43</td>\n",
       "      <td>3.66</td>\n",
       "    </tr>\n",
       "    <tr>\n",
       "      <th>4</th>\n",
       "      <td>12.07</td>\n",
       "      <td>9.89</td>\n",
       "      <td>-0.03</td>\n",
       "      <td>6.34</td>\n",
       "      <td>3.05</td>\n",
       "      <td>-4.55</td>\n",
       "    </tr>\n",
       "  </tbody>\n",
       "</table>\n",
       "</div>"
      ],
      "text/plain": [
       "   S-Health  S-HBV  S-HCC  L-Health  L-HBV  L-HCC\n",
       "0     10.95   9.62  12.23      5.73   6.41   7.18\n",
       "1      9.26  11.67  12.38      3.20   3.73   7.52\n",
       "2      8.98   8.79  11.23      3.47   1.73   5.99\n",
       "3     11.86   8.61   8.98      6.65   2.43   3.66\n",
       "4     12.07   9.89  -0.03      6.34   3.05  -4.55"
      ]
     },
     "execution_count": 37,
     "metadata": {},
     "output_type": "execute_result"
    }
   ],
   "source": [
    "datatable3.head()"
   ]
  },
  {
   "cell_type": "code",
   "execution_count": 38,
   "metadata": {},
   "outputs": [
    {
     "name": "stdout",
     "output_type": "stream",
     "text": [
      "cf hcc vs health p value: 4.359828647833226e-13\n",
      "cf hcc vs health_hbv p value: 3.071725323038997e-16\n",
      "exo hcc vs health p value: 0.05878172135535886\n",
      "cf hcc vs health fold change: 3.029087686854677\n",
      "cf hcc vs health_hbv fold change: 3.029087686854677\n",
      "exo hcc vs health fold change: 3.3760603204524036\n"
     ]
    }
   ],
   "source": [
    "plasma_HCC = np.array(datatable1['S domain-HCC'])\n",
    "plasma_HCC = plasma_HCC[~np.isnan(plasma_HCC)]\n",
    "plasma_Normal = np.array(datatable1['S domain-Health'])\n",
    "plasma_Normal = plasma_Normal[~np.isnan(plasma_Normal)]\n",
    "plasma_HBV_Normal = np.concatenate((np.array(datatable1['S domain-Health']),np.array(datatable1['S domain-HBV'])))\n",
    "plasma_HBV_Normal = plasma_HBV_Normal[~np.isnan(plasma_HBV_Normal)]\n",
    "exosome_HCC= np.array(datatable2['HCC'])\n",
    "exosome_HCC= exosome_HCC[~np.isnan(exosome_HCC)]\n",
    "exosome_Normal = np.array(datatable2['HD'])\n",
    "exosome_Normal= exosome_Normal[~np.isnan(exosome_Normal)]\n",
    "\n",
    "plasma_HCCtab = pd.DataFrame(np.concatenate((np.repeat('plasma_HCC',plasma_HCC.shape[0]).reshape(-1,1),\n",
    "                                        plasma_HCC.reshape(-1,1)),axis=1))\n",
    "plasma_Normaltab = pd.DataFrame(np.concatenate((np.repeat('plasma_Normal',plasma_Normal.shape[0]).reshape(-1,1),\n",
    "                                        plasma_Normal.reshape(-1,1)),axis=1))\n",
    "plasma_HBV_Normaltab = pd.DataFrame(np.concatenate((np.repeat('plasma_HBV_Normal',plasma_HBV_Normal.shape[0]).reshape(-1,1),\n",
    "                                        plasma_HBV_Normal.reshape(-1,1)),axis=1))\n",
    "exosome_HCCtab = pd.DataFrame(np.concatenate((np.repeat('exosome_HCC',exosome_HCC.shape[0]).reshape(-1,1),\n",
    "                                        exosome_HCC.reshape(-1,1)),axis=1))\n",
    "exosome_Normaltab = pd.DataFrame(np.concatenate((np.repeat('exosome_Normal',exosome_Normal.shape[0]).reshape(-1,1),\n",
    "                                        exosome_Normal.reshape(-1,1)),axis=1))\n",
    "\n",
    "wholetab1 = pd.concat((plasma_HCCtab,plasma_Normaltab,plasma_HBV_Normaltab,exosome_HCCtab,exosome_Normaltab),axis=0)\n",
    "wholetab1.columns = ['sample','expression']\n",
    "wholetab1['expression'] = pd.to_numeric(wholetab1['expression'])\n",
    "wholetab1.head()\n",
    "\n",
    "\n",
    "import scipy.stats as ss\n",
    "print ('cf hcc vs health p value: '+ str(ss.ranksums(plasma_HCC,plasma_Normal)[1]))\n",
    "print ('cf hcc vs health_hbv p value: '+ str(ss.ranksums(plasma_HCC,plasma_HBV_Normal)[1]))\n",
    "print ('exo hcc vs health p value: '+ str(ss.ranksums(exosome_HCC,exosome_Normal)[1]))\n",
    "\n",
    "fc1 = np.average(plasma_HCC)/np.average(plasma_Normal)\n",
    "fc2 = np.average(plasma_HCC)/np.average(plasma_HBV_Normal)\n",
    "fc3 = np.average(exosome_HCC)/np.average(exosome_Normal)\n",
    "print ('cf hcc vs health fold change: '+ str(fc1))\n",
    "print ('cf hcc vs health_hbv fold change: '+ str(fc1))\n",
    "print ('exo hcc vs health fold change: '+ str(fc3))\n",
    "\n"
   ]
  },
  {
   "cell_type": "code",
   "execution_count": 39,
   "metadata": {},
   "outputs": [
    {
     "data": {
      "application/vnd.jupyter.widget-view+json": {
       "model_id": "9f9ccd82e52c4c75ac2176e46101696f",
       "version_major": 2,
       "version_minor": 0
      },
      "text/html": [
       "<p>Failed to display Jupyter Widget of type <code>interactive</code>.</p>\n",
       "<p>\n",
       "  If you're reading this message in the Jupyter Notebook or JupyterLab Notebook, it may mean\n",
       "  that the widgets JavaScript is still loading. If this message persists, it\n",
       "  likely means that the widgets JavaScript library is either not installed or\n",
       "  not enabled. See the <a href=\"https://ipywidgets.readthedocs.io/en/stable/user_install.html\">Jupyter\n",
       "  Widgets Documentation</a> for setup instructions.\n",
       "</p>\n",
       "<p>\n",
       "  If you're reading this message in another frontend (for example, a static\n",
       "  rendering on GitHub or <a href=\"https://nbviewer.jupyter.org/\">NBViewer</a>),\n",
       "  it may mean that your frontend doesn't currently support widgets.\n",
       "</p>\n"
      ],
      "text/plain": [
       "interactive(children=(FloatSlider(value=2.0, description=u'styind', max=3.0, step=1.0), FloatSlider(value=1.0, description=u'contextind', max=3.0, step=1.0), FloatSlider(value=12.0, description=u'width', max=20.0, min=8.0, step=1.0), FloatSlider(value=6.0, description=u'height', max=10.0, min=4.0, step=1.0), RadioButtons(description=u'showdot', options=('yes', 'no'), value='yes'), FloatSlider(value=1.0, description=u'dotsize', max=8.0, min=1.0, step=1.0), FloatSlider(value=8.0, description=u'fontsize', max=30.0, min=8.0, step=2.0), FloatRangeSlider(value=(-10.0, 25.0), description=u'ylim', max=30.0, min=-20.0, step=3.0), FloatSlider(value=0.2, description=u'boxwidth', max=0.5, min=0.05, step=0.05), Dropdown(description=u'box_violin', index=1, options=('box', 'violin'), value='violin'), FloatSlider(value=3.0, description=u'compareheight1', max=10.0, min=3.0, step=1.0), FloatSlider(value=6.0, description=u'compareheight2', max=10.0, min=3.0, step=1.0), FloatSlider(value=6.0, description=u'compareheight3', max=10.0, min=3.0, step=1.0), Output()), _dom_classes=('widget-interact',))"
      ]
     },
     "metadata": {},
     "output_type": "display_data"
    },
    {
     "data": {
      "application/vnd.jupyter.widget-view+json": {
       "model_id": "ee9053d3f49b4febb8034f39e391b420",
       "version_major": 2,
       "version_minor": 0
      },
      "text/html": [
       "<p>Failed to display Jupyter Widget of type <code>interactive</code>.</p>\n",
       "<p>\n",
       "  If you're reading this message in the Jupyter Notebook or JupyterLab Notebook, it may mean\n",
       "  that the widgets JavaScript is still loading. If this message persists, it\n",
       "  likely means that the widgets JavaScript library is either not installed or\n",
       "  not enabled. See the <a href=\"https://ipywidgets.readthedocs.io/en/stable/user_install.html\">Jupyter\n",
       "  Widgets Documentation</a> for setup instructions.\n",
       "</p>\n",
       "<p>\n",
       "  If you're reading this message in another frontend (for example, a static\n",
       "  rendering on GitHub or <a href=\"https://nbviewer.jupyter.org/\">NBViewer</a>),\n",
       "  it may mean that your frontend doesn't currently support widgets.\n",
       "</p>\n"
      ],
      "text/plain": [
       "interactive(children=(FloatSlider(value=1.0, description=u'styind', max=2.0, step=1.0), FloatSlider(value=1.0, description=u'contextind', max=3.0, step=1.0), FloatSlider(value=8.0, description=u'width', max=16.0, min=6.0, step=1.0), FloatSlider(value=8.0, description=u'height', max=16.0, min=6.0, step=1.0), FloatSlider(value=1.5, description=u'linewid', max=4.0, min=1.0, step=0.3), SelectMultiple(description=u'color', index=(0, 1, 2), options=('b', 'g', 'r', 'c', 'm', 'y', 'k', 'w'), value=('b', 'g', 'r')), FloatSlider(value=1.5, description=u'linewid2', max=4.0, min=1.0, step=0.3), Dropdown(description=u'color2', options=('b', 'g', 'r', 'c', 'm', 'y', 'k', 'w'), value='b'), FloatSlider(value=0.5, description=u'transparency', max=1.0, step=0.05), FloatSlider(value=10.0, description=u'fontsize', max=20.0, min=6.0, step=1.0), Output()), _dom_classes=('widget-interact',))"
      ]
     },
     "metadata": {},
     "output_type": "display_data"
    },
    {
     "data": {
      "text/plain": [
       "<function __main__.rocplot1>"
      ]
     },
     "execution_count": 39,
     "metadata": {},
     "output_type": "execute_result"
    }
   ],
   "source": [
    "def box_plot_1(styind,contextind,width,height,showdot,dotsize,fontsize,\n",
    "               ylim,boxwidth,box_violin,compareheight1,compareheight2,compareheight3):\n",
    "    sns.set_context(contexts[int(contextind)])\n",
    "    sns.set_style(styles[int(styind)])\n",
    "\n",
    "\n",
    "    fig, ax = plt.subplots(figsize=(width,height))\n",
    "    if box_violin=='violin':\n",
    "        sns.violinplot(ax=ax,x=\"sample\", y=\"expression\", data=wholetab1, palette=\"PRGn\",width=boxwidth)\n",
    "    elif box_violin=='box':\n",
    "        sns.boxplot(ax=ax,x=\"sample\", y=\"expression\", data=wholetab1, palette=\"PRGn\",width=boxwidth)\n",
    "    if showdot =='yes':\n",
    "        sns.swarmplot(x=\"sample\", y=\"expression\", data=wholetab1, size=dotsize, edgecolor=\"black\", linewidth=.9)\n",
    "    ax.set_ylim(ylim)\n",
    "    # statistical annotation\n",
    "    x1, x2 = 0, 1   # columns 'Sat' and 'Sun' (first column: 0, see plt.xticks())\n",
    "    y, h, col = wholetab['expression'].max() + compareheight1, 0.5, 'k'\n",
    "    plt.plot([x1, x1, x2, x2], [y, y+h, y+h, y], lw=0.5, c=col)\n",
    "    plt.text((x1+x2)*.5, y+h, 'FC ' +str('%0.4s'%fc1)+ '\\n ****', ha='center', va='bottom', color=col,size=fontsize)\n",
    "    x1, x2 = 0, 2\n",
    "    y, h, col = wholetab['expression'].max() + compareheight2, 0.5, 'k'\n",
    "    plt.plot([x1, x1, x2, x2], [y, y+h, y+h, y], lw=0.5, c=col)\n",
    "    plt.text((x1+x2)*.5, y+h, 'FC ' +str('%0.4s'%fc2)+ ' \\n ****', ha='center', va='bottom', color=col,size=fontsize)\n",
    "    x1, x2 = 3, 4 \n",
    "    y, h, col = wholetab['expression'].max() + compareheight3, 0.5, 'k'\n",
    "    plt.plot([x1, x1, x2, x2], [y, y+h, y+h, y], lw=0.5, c=col)\n",
    "    plt.text((x1+x2)*.5, y+h, 'FC ' +str('%0.4s'%fc3)+ ' \\n ****', ha='center', va='bottom', color=col,size=fontsize)\n",
    "interact(box_plot_1,styind=FloatSlider(min=0,max=3,step=1,value=2),\n",
    "               contextind=FloatSlider(min=0,max=3,step=1,value=1),\n",
    "                width =FloatSlider(min=8,max=20,step=1,value=12),\n",
    "                 height= FloatSlider(min=4,max=10,step=1,value=6),\n",
    "         boxwidth= FloatSlider(min=0.05,max=0.5,step=0.05,value=0.2),\n",
    "         dotsize= FloatSlider(min=1,max=8,step=1),\n",
    "         fontsize= FloatSlider(min=8,max=30,step=2),\n",
    "         ylim=FloatRangeSlider(value=[-10, 25],min=-20,max=30.0,step=3),\n",
    "            showdot=RadioButtons(options=['yes','no']),\n",
    "        box_violin = Dropdown(options=['box','violin'],value='violin'),\n",
    "         compareheight1=FloatSlider(min=3,max=10,step=1,value=3),\n",
    "         compareheight2=FloatSlider(min=3,max=10,step=1,value=6),\n",
    "         compareheight3=FloatSlider(min=3,max=10,step=1,value=6))\n",
    "\n",
    "def rocplot1(styind,contextind,width,height,linewid,color,linewid2,color2,transparency,fontsize):\n",
    "    sns.set_context(contexts[int(contextind)])\n",
    "    sns.set_style(styles[int(styind)])\n",
    "    fig, ax = plt.subplots(figsize=(width,height))\n",
    "    \n",
    "    a,b,_ = roc_curve(np.concatenate((np.ones([exosome_HCC.shape[0]]),np.zeros([exosome_Normal.shape[0]]))),np.concatenate((exosome_HCC,exosome_Normal)),drop_intermediate=False)   \n",
    "    ax.plot(a,b,linewidth=linewid,color=color[0],label='exosome')\n",
    "    a,b,_ = roc_curve(np.concatenate((np.ones([plasma_HCC.shape[0]]),np.zeros([plasma_Normal.shape[0]]))),np.concatenate((plasma_HCC,plasma_Normal)))   \n",
    "    ax.plot(a,b,linewidth=linewid,color=color[1],label='plasma -HBV')\n",
    "    a,b,_ = roc_curve(np.concatenate((np.ones([plasma_HCC.shape[0]]),np.zeros([plasma_HBV_Normal.shape[0]]))),np.concatenate((plasma_HCC,plasma_HBV_Normal)))   \n",
    "    ax.plot(a,b,linewidth=linewid,color=color[2],label='plasma +HBV')\n",
    "    ax.legend(prop={'size': fontsize})\n",
    "    #ax.plot(b,a,linewidth=linewid,color=color,linestyle='dashed') #solid’ | ‘dashed’, ‘dashdot’, ‘dotted\n",
    "    ax.plot([0,1],[0,1], linewidth=linewid2,alpha=transparency,color=color2,linestyle='--')\n",
    "interact(rocplot1,styind=FloatSlider(min=0,max=2,step=1,value=1),\n",
    "               contextind=FloatSlider(min=0,max=3,step=1,value=1),\n",
    "                width =FloatSlider(min=6,max=16,step=1,value=8),\n",
    "                 height= FloatSlider(min=6,max=16,step=1,value=8),\n",
    "        linewid= FloatSlider(min=1,max=4,step=0.3,value=1.5),\n",
    "        color=SelectMultiple(options=['b', 'g', 'r', 'c', 'm', 'y', 'k', 'w'],value=('b', 'g', 'r')),\n",
    "        linewid2= FloatSlider(min=1,max=4,step=0.3,value=1.5),\n",
    "         fontsize= FloatSlider(min=6,max=20,step=1,value=10),\n",
    "        transparency=FloatSlider(min=0,max=1,step=0.05,value=0.5),\n",
    "        color2=Dropdown(options=['b', 'g', 'r', 'c', 'm', 'y', 'k', 'w']))"
   ]
  },
  {
   "cell_type": "code",
   "execution_count": null,
   "metadata": {},
   "outputs": [],
   "source": []
  },
  {
   "cell_type": "code",
   "execution_count": null,
   "metadata": {},
   "outputs": [],
   "source": []
  },
  {
   "cell_type": "code",
   "execution_count": null,
   "metadata": {},
   "outputs": [],
   "source": []
  },
  {
   "cell_type": "code",
   "execution_count": null,
   "metadata": {},
   "outputs": [],
   "source": []
  },
  {
   "cell_type": "code",
   "execution_count": null,
   "metadata": {},
   "outputs": [],
   "source": []
  },
  {
   "cell_type": "code",
   "execution_count": null,
   "metadata": {},
   "outputs": [],
   "source": []
  },
  {
   "cell_type": "code",
   "execution_count": null,
   "metadata": {},
   "outputs": [],
   "source": []
  },
  {
   "cell_type": "code",
   "execution_count": null,
   "metadata": {},
   "outputs": [],
   "source": []
  },
  {
   "cell_type": "code",
   "execution_count": null,
   "metadata": {},
   "outputs": [],
   "source": []
  },
  {
   "cell_type": "code",
   "execution_count": null,
   "metadata": {},
   "outputs": [],
   "source": []
  },
  {
   "cell_type": "code",
   "execution_count": null,
   "metadata": {},
   "outputs": [],
   "source": []
  },
  {
   "cell_type": "code",
   "execution_count": null,
   "metadata": {},
   "outputs": [],
   "source": []
  },
  {
   "cell_type": "code",
   "execution_count": null,
   "metadata": {},
   "outputs": [],
   "source": []
  },
  {
   "cell_type": "code",
   "execution_count": null,
   "metadata": {},
   "outputs": [],
   "source": []
  },
  {
   "cell_type": "code",
   "execution_count": null,
   "metadata": {},
   "outputs": [],
   "source": []
  },
  {
   "cell_type": "code",
   "execution_count": null,
   "metadata": {},
   "outputs": [],
   "source": []
  },
  {
   "cell_type": "code",
   "execution_count": null,
   "metadata": {},
   "outputs": [],
   "source": []
  },
  {
   "cell_type": "code",
   "execution_count": null,
   "metadata": {},
   "outputs": [],
   "source": []
  },
  {
   "cell_type": "code",
   "execution_count": null,
   "metadata": {},
   "outputs": [],
   "source": []
  },
  {
   "cell_type": "code",
   "execution_count": null,
   "metadata": {},
   "outputs": [],
   "source": []
  },
  {
   "cell_type": "code",
   "execution_count": null,
   "metadata": {},
   "outputs": [],
   "source": []
  },
  {
   "cell_type": "code",
   "execution_count": null,
   "metadata": {},
   "outputs": [],
   "source": []
  },
  {
   "cell_type": "code",
   "execution_count": null,
   "metadata": {},
   "outputs": [],
   "source": []
  },
  {
   "cell_type": "code",
   "execution_count": null,
   "metadata": {},
   "outputs": [],
   "source": []
  },
  {
   "cell_type": "code",
   "execution_count": null,
   "metadata": {},
   "outputs": [],
   "source": []
  },
  {
   "cell_type": "code",
   "execution_count": null,
   "metadata": {},
   "outputs": [],
   "source": []
  },
  {
   "cell_type": "code",
   "execution_count": null,
   "metadata": {},
   "outputs": [],
   "source": []
  },
  {
   "cell_type": "code",
   "execution_count": null,
   "metadata": {},
   "outputs": [],
   "source": []
  },
  {
   "cell_type": "code",
   "execution_count": null,
   "metadata": {},
   "outputs": [],
   "source": []
  }
 ],
 "metadata": {
  "kernelspec": {
   "display_name": "Python 2",
   "language": "python",
   "name": "python2"
  },
  "language_info": {
   "codemirror_mode": {
    "name": "ipython",
    "version": 2
   },
   "file_extension": ".py",
   "mimetype": "text/x-python",
   "name": "python",
   "nbconvert_exporter": "python",
   "pygments_lexer": "ipython2",
   "version": "2.7.14"
  },
  "toc": {
   "base_numbering": 1,
   "nav_menu": {},
   "number_sections": true,
   "sideBar": true,
   "skip_h1_title": false,
   "title_cell": "Table of Contents",
   "title_sidebar": "Contents",
   "toc_cell": false,
   "toc_position": {
    "height": "calc(100% - 180px)",
    "left": "10px",
    "top": "150px",
    "width": "182px"
   },
   "toc_section_display": true,
   "toc_window_display": true
  }
 },
 "nbformat": 4,
 "nbformat_minor": 2
}
