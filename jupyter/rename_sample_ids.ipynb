{
 "cells": [
  {
   "cell_type": "code",
   "execution_count": 1,
   "metadata": {},
   "outputs": [
    {
     "name": "stdout",
     "output_type": "stream",
     "text": [
      "Populating the interactive namespace from numpy and matplotlib\n"
     ]
    }
   ],
   "source": [
    "%pylab inline"
   ]
  },
  {
   "cell_type": "code",
   "execution_count": 4,
   "metadata": {},
   "outputs": [],
   "source": [
    "import pandas as pd"
   ]
  },
  {
   "cell_type": "code",
   "execution_count": 2,
   "metadata": {},
   "outputs": [
    {
     "name": "stdout",
     "output_type": "stream",
     "text": [
      "/Share/home/shibinbin/projects/exRNA\n"
     ]
    }
   ],
   "source": [
    "cd .."
   ]
  },
  {
   "cell_type": "code",
   "execution_count": 3,
   "metadata": {},
   "outputs": [],
   "source": [
    "def map_by_similarity(src, dst, verbose=False):\n",
    "    \"\"\"Map a list of strings to another list of strings by similarity\n",
    "    Returns:\n",
    "        A list of strings of the same length as src that contains \n",
    "        strings in dst that best matches strings in src.\n",
    "    \"\"\"\n",
    "    from difflib import SequenceMatcher\n",
    "    mapped = []\n",
    "    for a_src in src:\n",
    "        matcher = SequenceMatcher(a=a_src)\n",
    "        max_ratio = 0\n",
    "        max_id = None\n",
    "        for a_dst in dst:\n",
    "            matcher.set_seq2(a_dst)\n",
    "            if matcher.ratio() > max_ratio:\n",
    "                max_ratio = matcher.ratio()\n",
    "                max_id = a_dst\n",
    "        if verbose:\n",
    "            print('{} => {}'.format(a_src, max_id))\n",
    "        mapped.append(max_id)\n",
    "    return mapped"
   ]
  },
  {
   "cell_type": "code",
   "execution_count": 7,
   "metadata": {},
   "outputs": [],
   "source": [
    "with open('metadata/sample_classes.hcc.txt', 'r') as f:\n",
    "    correct_ids = []\n",
    "    for line in f:\n",
    "        correct_ids.append(line.split('\\t')[0])"
   ]
  },
  {
   "cell_type": "code",
   "execution_count": 8,
   "metadata": {},
   "outputs": [],
   "source": [
    "def rename_ids(filename, correct_ids):\n",
    "    wrong_ids = open(filename, 'r').readline().strip().split('\\t')\n",
    "    mapped_ids = map_by_similarity(wrong_ids, correct_ids)\n",
    "    return wrong_ids, mapped_ids"
   ]
  },
  {
   "cell_type": "code",
   "execution_count": 12,
   "metadata": {},
   "outputs": [],
   "source": [
    "datasets = ['rle.piranha_peaks_iterative_43',\n",
    "        'rle.transcripts_exrna_43',\n",
    "        'scnorm.piranha_peaks_iterative',\n",
    "        'scnorm.transcripts_exrna',\n",
    "        'tmm.piranha_peaks_iterative_43',\n",
    "        'tmm.transcripts_exrna_43',\n",
    "        'reference.piranha_peaks_iterative_43',\n",
    "        'reference.transcripts_exrna_43']\n",
    "for dataset in datasets:\n",
    "    filename = 'output/cpm_matrix/{}.txt'.format(dataset)\n",
    "    wrong_ids, mapped_ids = rename_ids(filename, correct_ids)\n",
    "    with open(filename, 'r') as f:\n",
    "        f.readline()\n",
    "        data = f.read()\n",
    "    with open('output/cpm_matrix/{}.txt'.format(dataset), 'w') as f:\n",
    "        f.write('\\t'.join(mapped_ids))\n",
    "        f.write('\\n')\n",
    "        f.write(data)"
   ]
  },
  {
   "cell_type": "code",
   "execution_count": 14,
   "metadata": {},
   "outputs": [],
   "source": [
    "x = pd.Categorical(['a', 'b', 'c', 'a', 'c', 'd'])"
   ]
  },
  {
   "cell_type": "code",
   "execution_count": 16,
   "metadata": {},
   "outputs": [
    {
     "data": {
      "text/plain": [
       "Index(['a', 'b', 'c', 'd'], dtype='object')"
      ]
     },
     "execution_count": 16,
     "metadata": {},
     "output_type": "execute_result"
    }
   ],
   "source": [
    "x.categories"
   ]
  },
  {
   "cell_type": "code",
   "execution_count": 17,
   "metadata": {},
   "outputs": [
    {
     "data": {
      "text/plain": [
       "array([0, 1, 2, 0, 2, 3], dtype=int8)"
      ]
     },
     "execution_count": 17,
     "metadata": {},
     "output_type": "execute_result"
    }
   ],
   "source": [
    "x.codes"
   ]
  },
  {
   "cell_type": "code",
   "execution_count": 20,
   "metadata": {},
   "outputs": [],
   "source": [
    "x = pd.Series(['a', 'b', 'c', 'a', 'c', 'd'], dtype='category')"
   ]
  },
  {
   "cell_type": "code",
   "execution_count": 25,
   "metadata": {},
   "outputs": [
    {
     "data": {
      "text/plain": [
       "array([0, 1, 2, 0, 2, 3], dtype=int8)"
      ]
     },
     "execution_count": 25,
     "metadata": {},
     "output_type": "execute_result"
    }
   ],
   "source": [
    "x.values.codes"
   ]
  },
  {
   "cell_type": "code",
   "execution_count": null,
   "metadata": {},
   "outputs": [],
   "source": []
  }
 ],
 "metadata": {
  "kernelspec": {
   "display_name": "Python 3",
   "language": "python",
   "name": "python3"
  },
  "language_info": {
   "codemirror_mode": {
    "name": "ipython",
    "version": 3
   },
   "file_extension": ".py",
   "mimetype": "text/x-python",
   "name": "python",
   "nbconvert_exporter": "python",
   "pygments_lexer": "ipython3",
   "version": "3.6.3"
  },
  "toc": {
   "base_numbering": 1,
   "nav_menu": {},
   "number_sections": true,
   "sideBar": true,
   "skip_h1_title": false,
   "title_cell": "Table of Contents",
   "title_sidebar": "Contents",
   "toc_cell": false,
   "toc_position": {},
   "toc_section_display": true,
   "toc_window_display": false
  }
 },
 "nbformat": 4,
 "nbformat_minor": 2
}
