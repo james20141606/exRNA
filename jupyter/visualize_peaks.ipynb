{
 "cells": [
  {
   "cell_type": "code",
   "execution_count": 1,
   "metadata": {},
   "outputs": [
    {
     "name": "stdout",
     "output_type": "stream",
     "text": [
      "Populating the interactive namespace from numpy and matplotlib\n"
     ]
    }
   ],
   "source": [
    "%pylab inline"
   ]
  },
  {
   "cell_type": "code",
   "execution_count": 2,
   "metadata": {},
   "outputs": [
    {
     "name": "stdout",
     "output_type": "stream",
     "text": [
      "/Share/home/shibinbin/projects/exRNA\n"
     ]
    }
   ],
   "source": [
    "cd .."
   ]
  },
  {
   "cell_type": "code",
   "execution_count": 3,
   "metadata": {},
   "outputs": [],
   "source": [
    "from igv import IGV, Reference, Track"
   ]
  },
  {
   "cell_type": "code",
   "execution_count": 4,
   "metadata": {},
   "outputs": [
    {
     "data": {
      "text/html": [
       "\n",
       "            <div id=\"igv_3791613\" class=\"igv-js\"></div>\n",
       "            <script type=\"text/javascript\">\n",
       "                require([location.origin + Jupyter.contents.base_url + \"nbextensions/igv/igv-jupyter.js\"], function() {\n",
       "                    var div = $(\"#igv_3791613.igv-js\")[0], options = {\"reference\": {\"id\": \"hg19\"}, \"showKaryo\": false, \"showNavigation\": true, \"showRuler\": true, \"tracks\": [{\"name\": \"Genes\", \"url\": \"//s3.amazonaws.com/igv.broadinstitute.org/annotations/hg19/genes/gencode.v18.collapsed.bed\", \"indexUrl\": \"//s3.amazonaws.com/igv.broadinstitute.org/annotations/hg19/genes/gencode.v18.collapsed.bed.idx\", \"displayMode\": \"EXPANDED\"}], \"locus\": \"chr1:155,160,475-155,184,282\", \"flanking\": 1000, \"doubleClickDelay\": 500, \"hideIdeogram\": false, \"showCursorTrackingGuide\": true, \"showCenterGuide\": true};\n",
       "                    igv.createBrowser(div, options);\n",
       "                });\n",
       "            </script>\n",
       "            "
      ],
      "text/plain": [
       "<igv.IGV at 0x7f3d28bb13c8>"
      ]
     },
     "execution_count": 4,
     "metadata": {},
     "output_type": "execute_result"
    }
   ],
   "source": [
    "IGV(locus=\"chr1:155,160,475-155,184,282\", reference=Reference(id=\"hg19\"), tracks=[Track(\n",
    "    name=\"Genes\", \n",
    "    url=\"//s3.amazonaws.com/igv.broadinstitute.org/annotations/hg19/genes/gencode.v18.collapsed.bed\",\n",
    "    index_url=\"//s3.amazonaws.com/igv.broadinstitute.org/annotations/hg19/genes/gencode.v18.collapsed.bed.idx\", \n",
    "    display_mode=\"EXPANDED\")])"
   ]
  },
  {
   "cell_type": "code",
   "execution_count": 27,
   "metadata": {},
   "outputs": [
    {
     "data": {
      "text/html": [
       "\n",
       "            <div id=\"igv_1961829\" class=\"igv-js\"></div>\n",
       "            <script type=\"text/javascript\">\n",
       "                require([location.origin + Jupyter.contents.base_url + \"nbextensions/igv/igv-jupyter.js\"], function() {\n",
       "                    var div = $(\"#igv_1961829.igv-js\")[0], options = {\"reference\": {\"id\": \"hg38\"}, \"showKaryo\": false, \"showNavigation\": true, \"showRuler\": true, \"tracks\": [{\"name\": \"Genes\", \"url\": \"http://172.22.220.58:8000/jupyter/user/shibinbin/files/projects/exRNA/data/annotation/bed12/all.bed\", \"indexUrl\": \"http://172.22.220.58:8000/jupyter/user/shibinbin/files/projects/exRNA/data/annotation/bed12/all.bed.idx\", \"displayMode\": \"SQUISHED\"}, {\"name\": \"Peaks (pvalue = 0.01)\", \"url\": \"http://172.22.220.58:8000/jupyter/user/shibinbin/files/projects/exRNA/output/recurring_peaks_piranha/20/ZeroTruncatedNegativeBinomial/01.genome.bed\", \"indexUrl\": \"http://172.22.220.58:8000/jupyter/user/shibinbin/files/projects/exRNA/output/recurring_peaks_piranha/20/ZeroTruncatedNegativeBinomial/01.genome.bed.idx\", \"displayMode\": \"EXPANDED\"}], \"locus\": \"chr14:49,586,580-49,586,878 \", \"flanking\": 1000, \"doubleClickDelay\": 500, \"hideIdeogram\": false, \"showCursorTrackingGuide\": true, \"showCenterGuide\": true};\n",
       "                    igv.createBrowser(div, options);\n",
       "                });\n",
       "            </script>\n",
       "            "
      ],
      "text/plain": [
       "<igv.IGV at 0x7f3d28695ef0>"
      ]
     },
     "execution_count": 27,
     "metadata": {},
     "output_type": "execute_result"
    }
   ],
   "source": [
    "base_url = 'http://172.22.220.58:8000/jupyter/user/shibinbin/files/projects/exRNA'\n",
    "annotation_track = Track(\n",
    "    name='Genes', \n",
    "    url=base_url + '/data/annotation/bed12/all.bed',\n",
    "    index_url=base_url + '/data/annotation/bed12/all.bed.idx', \n",
    "    display_mode='SQUISHED')\n",
    "peaks_01 = Track(\n",
    "    name='Peaks (pvalue = 0.01)',\n",
    "    url=base_url + '/output/recurring_peaks_piranha/20/ZeroTruncatedNegativeBinomial/01.genome.bed',\n",
    "    index_url=base_url + '/output/recurring_peaks_piranha/20/ZeroTruncatedNegativeBinomial/01.genome.bed.idx',\n",
    "    display_mode='EXPANDED'\n",
    ")\n",
    "igv = IGV(locus=\"chr14:49,586,580-49,586,878 \", reference=Reference(id=\"hg38\"),\n",
    "    tracks=[annotation_track, peaks_01])\n",
    "igv"
   ]
  },
  {
   "cell_type": "code",
   "execution_count": null,
   "metadata": {},
   "outputs": [],
   "source": []
  }
 ],
 "metadata": {
  "kernelspec": {
   "display_name": "Python 3",
   "language": "python",
   "name": "python3"
  },
  "language_info": {
   "codemirror_mode": {
    "name": "ipython",
    "version": 3
   },
   "file_extension": ".py",
   "mimetype": "text/x-python",
   "name": "python",
   "nbconvert_exporter": "python",
   "pygments_lexer": "ipython3",
   "version": "3.6.3"
  }
 },
 "nbformat": 4,
 "nbformat_minor": 2
}
