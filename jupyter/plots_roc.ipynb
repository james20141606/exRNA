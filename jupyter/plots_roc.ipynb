{
 "cells": [
  {
   "cell_type": "code",
   "execution_count": 103,
   "metadata": {
    "hide_input": true
   },
   "outputs": [
    {
     "name": "stdout",
     "output_type": "stream",
     "text": [
      "Populating the interactive namespace from numpy and matplotlib\n"
     ]
    }
   ],
   "source": [
    "from ipywidgets import interact, FloatSlider, RadioButtons,Dropdown,SelectMultiple,FloatRangeSlider\n",
    "import gc, argparse, sys, os, errno\n",
    "%pylab inline\n",
    "import numpy as np\n",
    "import pandas as pd\n",
    "import matplotlib.pyplot as plt\n",
    "plt.style.use('ggplot')\n",
    "import seaborn as sns\n",
    "import h5py\n",
    "import os\n",
    "import scipy\n",
    "import sklearn\n",
    "from scipy.stats import pearsonr\n",
    "from sklearn.metrics import roc_curve,roc_auc_score\n",
    "import warnings\n",
    "warnings.filterwarnings('ignore')\n",
    "from ipywidgets import interact, FloatSlider,IntSlider, RadioButtons,Dropdown,Tab,Text\n",
    "styles = [\"white\",\"dark\",'whitegrid',\"darkgrid\"]\n",
    "contexts = ['paper','talk','poster','notebook']"
   ]
  },
  {
   "cell_type": "markdown",
   "metadata": {},
   "source": [
    "#### load data"
   ]
  },
  {
   "cell_type": "code",
   "execution_count": 104,
   "metadata": {},
   "outputs": [],
   "source": [
    "datatable1 = pd.read_excel('Copy of Copy of ROC(1) 2.xlsx','cfRNA')\n",
    "datatable2 = pd.read_excel('Copy of Copy of ROC(1) 2.xlsx','exosome')\n",
    "datatable3 = pd.read_excel('Copy of Copy of ROC(1) 2.xlsx','Sheet3')\n",
    "datatable4 = pd.read_excel('Copy of Copy of ROC(1) 2.xlsx','Sheet4')"
   ]
  },
  {
   "cell_type": "markdown",
   "metadata": {},
   "source": [
    "##### 调配色"
   ]
  },
  {
   "cell_type": "code",
   "execution_count": 105,
   "metadata": {},
   "outputs": [
    {
     "data": {
      "application/vnd.jupyter.widget-view+json": {
       "model_id": "33579ad2ac014d7293954431e43ad802",
       "version_major": 2,
       "version_minor": 0
      },
      "text/html": [
       "<p>Failed to display Jupyter Widget of type <code>interactive</code>.</p>\n",
       "<p>\n",
       "  If you're reading this message in the Jupyter Notebook or JupyterLab Notebook, it may mean\n",
       "  that the widgets JavaScript is still loading. If this message persists, it\n",
       "  likely means that the widgets JavaScript library is either not installed or\n",
       "  not enabled. See the <a href=\"https://ipywidgets.readthedocs.io/en/stable/user_install.html\">Jupyter\n",
       "  Widgets Documentation</a> for setup instructions.\n",
       "</p>\n",
       "<p>\n",
       "  If you're reading this message in another frontend (for example, a static\n",
       "  rendering on GitHub or <a href=\"https://nbviewer.jupyter.org/\">NBViewer</a>),\n",
       "  it may mean that your frontend doesn't currently support widgets.\n",
       "</p>\n"
      ],
      "text/plain": [
       "interactive(children=(IntSlider(value=2, description=u'palettesind', max=11), FloatSlider(value=0.2, description=u'saturation', max=1.0), Output()), _dom_classes=('widget-interact',))"
      ]
     },
     "metadata": {},
     "output_type": "display_data"
    },
    {
     "data": {
      "text/plain": [
       "<function __main__.testplot>"
      ]
     },
     "execution_count": 105,
     "metadata": {},
     "output_type": "execute_result"
    }
   ],
   "source": [
    "palettes = [sns.color_palette(\"Paired\"),\"PRGn\",\"Set1\",\"Set2\",\"Set3\",sns.color_palette(\"hls\", 8),\n",
    "           sns.hls_palette(8, l=.6, s=.8),sns.color_palette(\"husl\", 8),\n",
    "           sns.color_palette([\"#9b59b6\", \"#3498db\", \"#95a5a6\", \"#e74c3c\", \"#34495e\", \"#2ecc71\"]),\n",
    "           sns.color_palette(\"cubehelix\", 8)[2:],sns.color_palette(\"RdBu_r\", 7),\n",
    "           sns.color_palette(\"coolwarm\", 10)]\n",
    "def testplot(palettesind,saturation):\n",
    "    fig,ax=plt.subplots(1,figsize=(16,8))\n",
    "    sns.boxplot(x=\"sample\", y=\"expression\", data=wholetab1,palette=palettes[palettesind],saturation=saturation)\n",
    "interact(testplot,palettesind=IntSlider(min=0,max=len(palettes)-1,step=1,value=2),\n",
    "        saturation=FloatSlider(min=0,max=1,step=0.1,value=0.2))"
   ]
  },
  {
   "cell_type": "code",
   "execution_count": 106,
   "metadata": {},
   "outputs": [
    {
     "data": {
      "image/png": "[encoded data removed]",
      "text/plain": [
       "<matplotlib.figure.Figure at 0x7f6926c25ed0>"
      ]
     },
     "metadata": {},
     "output_type": "display_data"
    }
   ],
   "source": [
    "selfdesignpalette = np.concatenate((np.array(palettes[0][3:]),np.array(sns.color_palette(palettes[2]))[np.array([4,5])]\n",
    "                                   ,np.array(sns.color_palette(palettes[3]))[3].reshape(1,-1),np.array(sns.color_palette(palettes[5]))[np.array([-3,-2,-1])]\n",
    "                                  ))\n",
    "sns.palplot(selfdesignpalette)"
   ]
  },
  {
   "cell_type": "code",
   "execution_count": 107,
   "metadata": {},
   "outputs": [
    {
     "data": {
      "image/png": "[encoded data removed]",
      "text/plain": [
       "<matplotlib.figure.Figure at 0x7f69261c1b90>"
      ]
     },
     "metadata": {},
     "output_type": "display_data"
    }
   ],
   "source": [
    "sns.palplot(palettes[0])"
   ]
  },
  {
   "cell_type": "code",
   "execution_count": 108,
   "metadata": {},
   "outputs": [],
   "source": [
    "palettes_ = {}\n",
    "palettes_[0] =  selfdesignpalette\n",
    "for i in range(len(palettes)):\n",
    "    palettes_[i+1] = palettes[i]\n",
    "palettes = palettes_"
   ]
  },
  {
   "cell_type": "markdown",
   "metadata": {},
   "source": [
    "### plot fig1"
   ]
  },
  {
   "cell_type": "code",
   "execution_count": 109,
   "metadata": {},
   "outputs": [
    {
     "data": {
      "text/html": [
       "<div>\n",
       "<style scoped>\n",
       "    .dataframe tbody tr th:only-of-type {\n",
       "        vertical-align: middle;\n",
       "    }\n",
       "\n",
       "    .dataframe tbody tr th {\n",
       "        vertical-align: top;\n",
       "    }\n",
       "\n",
       "    .dataframe thead th {\n",
       "        text-align: right;\n",
       "    }\n",
       "</style>\n",
       "<table border=\"1\" class=\"dataframe\">\n",
       "  <thead>\n",
       "    <tr style=\"text-align: right;\">\n",
       "      <th></th>\n",
       "      <th>BCLC</th>\n",
       "      <th>S domain-HCC</th>\n",
       "      <th>S domain-Health</th>\n",
       "      <th>S domain-HBV</th>\n",
       "    </tr>\n",
       "  </thead>\n",
       "  <tbody>\n",
       "    <tr>\n",
       "      <th>0</th>\n",
       "      <td>B</td>\n",
       "      <td>8.60</td>\n",
       "      <td>7.20</td>\n",
       "      <td>1.09</td>\n",
       "    </tr>\n",
       "    <tr>\n",
       "      <th>1</th>\n",
       "      <td>C</td>\n",
       "      <td>4.85</td>\n",
       "      <td>5.39</td>\n",
       "      <td>2.14</td>\n",
       "    </tr>\n",
       "    <tr>\n",
       "      <th>2</th>\n",
       "      <td>B</td>\n",
       "      <td>9.24</td>\n",
       "      <td>5.41</td>\n",
       "      <td>-5.32</td>\n",
       "    </tr>\n",
       "  </tbody>\n",
       "</table>\n",
       "</div>"
      ],
      "text/plain": [
       "  BCLC  S domain-HCC  S domain-Health  S domain-HBV\n",
       "0    B          8.60             7.20          1.09\n",
       "1    C          4.85             5.39          2.14\n",
       "2    B          9.24             5.41         -5.32"
      ]
     },
     "metadata": {},
     "output_type": "display_data"
    },
    {
     "data": {
      "text/html": [
       "<div>\n",
       "<style scoped>\n",
       "    .dataframe tbody tr th:only-of-type {\n",
       "        vertical-align: middle;\n",
       "    }\n",
       "\n",
       "    .dataframe tbody tr th {\n",
       "        vertical-align: top;\n",
       "    }\n",
       "\n",
       "    .dataframe thead th {\n",
       "        text-align: right;\n",
       "    }\n",
       "</style>\n",
       "<table border=\"1\" class=\"dataframe\">\n",
       "  <thead>\n",
       "    <tr style=\"text-align: right;\">\n",
       "      <th></th>\n",
       "      <th>HD</th>\n",
       "      <th>HCC</th>\n",
       "    </tr>\n",
       "  </thead>\n",
       "  <tbody>\n",
       "    <tr>\n",
       "      <th>0</th>\n",
       "      <td>5.85</td>\n",
       "      <td>9.28</td>\n",
       "    </tr>\n",
       "    <tr>\n",
       "      <th>1</th>\n",
       "      <td>6.56</td>\n",
       "      <td>8.73</td>\n",
       "    </tr>\n",
       "    <tr>\n",
       "      <th>2</th>\n",
       "      <td>7.38</td>\n",
       "      <td>7.48</td>\n",
       "    </tr>\n",
       "  </tbody>\n",
       "</table>\n",
       "</div>"
      ],
      "text/plain": [
       "     HD   HCC\n",
       "0  5.85  9.28\n",
       "1  6.56  8.73\n",
       "2  7.38  7.48"
      ]
     },
     "metadata": {},
     "output_type": "display_data"
    }
   ],
   "source": [
    "display(datatable1.head(3))\n",
    "display(datatable2.head(3))"
   ]
  },
  {
   "cell_type": "markdown",
   "metadata": {},
   "source": [
    "for fig 1, create table: <br>\n",
    "sample expression\n",
    "plasma_HCC plasma_Normal plasma_HBV+Normal\n",
    "exosome_HCC,exosome_Normal"
   ]
  },
  {
   "cell_type": "code",
   "execution_count": 110,
   "metadata": {},
   "outputs": [],
   "source": [
    "plasma_HCC = np.array(datatable1['S domain-HCC'])\n",
    "plasma_HCC = plasma_HCC[~np.isnan(plasma_HCC)]\n",
    "plasma_Normal = np.array(datatable1['S domain-Health'])\n",
    "plasma_Normal = plasma_Normal[~np.isnan(plasma_Normal)]\n",
    "plasma_HBV_Normal = np.concatenate((np.array(datatable1['S domain-Health']),np.array(datatable1['S domain-HBV'])))\n",
    "plasma_HBV_Normal = plasma_HBV_Normal[~np.isnan(plasma_HBV_Normal)]\n",
    "exosome_HCC= np.array(datatable2['HCC'])\n",
    "exosome_HCC= exosome_HCC[~np.isnan(exosome_HCC)]\n",
    "exosome_Normal = np.array(datatable2['HD'])\n",
    "exosome_Normal= exosome_Normal[~np.isnan(exosome_Normal)]"
   ]
  },
  {
   "cell_type": "code",
   "execution_count": 111,
   "metadata": {},
   "outputs": [
    {
     "data": {
      "text/html": [
       "<div>\n",
       "<style scoped>\n",
       "    .dataframe tbody tr th:only-of-type {\n",
       "        vertical-align: middle;\n",
       "    }\n",
       "\n",
       "    .dataframe tbody tr th {\n",
       "        vertical-align: top;\n",
       "    }\n",
       "\n",
       "    .dataframe thead th {\n",
       "        text-align: right;\n",
       "    }\n",
       "</style>\n",
       "<table border=\"1\" class=\"dataframe\">\n",
       "  <thead>\n",
       "    <tr style=\"text-align: right;\">\n",
       "      <th></th>\n",
       "      <th>sample</th>\n",
       "      <th>expression</th>\n",
       "    </tr>\n",
       "  </thead>\n",
       "  <tbody>\n",
       "    <tr>\n",
       "      <th>0</th>\n",
       "      <td>plasma_HCC</td>\n",
       "      <td>8.60</td>\n",
       "    </tr>\n",
       "    <tr>\n",
       "      <th>1</th>\n",
       "      <td>plasma_HCC</td>\n",
       "      <td>4.85</td>\n",
       "    </tr>\n",
       "    <tr>\n",
       "      <th>2</th>\n",
       "      <td>plasma_HCC</td>\n",
       "      <td>9.24</td>\n",
       "    </tr>\n",
       "    <tr>\n",
       "      <th>3</th>\n",
       "      <td>plasma_HCC</td>\n",
       "      <td>2.26</td>\n",
       "    </tr>\n",
       "    <tr>\n",
       "      <th>4</th>\n",
       "      <td>plasma_HCC</td>\n",
       "      <td>7.76</td>\n",
       "    </tr>\n",
       "  </tbody>\n",
       "</table>\n",
       "</div>"
      ],
      "text/plain": [
       "       sample  expression\n",
       "0  plasma_HCC        8.60\n",
       "1  plasma_HCC        4.85\n",
       "2  plasma_HCC        9.24\n",
       "3  plasma_HCC        2.26\n",
       "4  plasma_HCC        7.76"
      ]
     },
     "execution_count": 111,
     "metadata": {},
     "output_type": "execute_result"
    }
   ],
   "source": [
    "plasma_HCCtab = pd.DataFrame(np.concatenate((np.repeat('plasma_HCC',plasma_HCC.shape[0]).reshape(-1,1),\n",
    "                                        plasma_HCC.reshape(-1,1)),axis=1))\n",
    "plasma_Normaltab = pd.DataFrame(np.concatenate((np.repeat('plasma_Normal',plasma_Normal.shape[0]).reshape(-1,1),\n",
    "                                        plasma_Normal.reshape(-1,1)),axis=1))\n",
    "plasma_HBV_Normaltab = pd.DataFrame(np.concatenate((np.repeat('plasma_HBV_Normal',plasma_HBV_Normal.shape[0]).reshape(-1,1),\n",
    "                                        plasma_HBV_Normal.reshape(-1,1)),axis=1))\n",
    "exosome_HCCtab = pd.DataFrame(np.concatenate((np.repeat('exosome_HCC',exosome_HCC.shape[0]).reshape(-1,1),\n",
    "                                        exosome_HCC.reshape(-1,1)),axis=1))\n",
    "exosome_Normaltab = pd.DataFrame(np.concatenate((np.repeat('exosome_Normal',exosome_Normal.shape[0]).reshape(-1,1),\n",
    "                                        exosome_Normal.reshape(-1,1)),axis=1))\n",
    "\n",
    "wholetab1 = pd.concat((plasma_HCCtab,plasma_Normaltab,plasma_HBV_Normaltab,exosome_HCCtab,exosome_Normaltab),axis=0)\n",
    "wholetab1.columns = ['sample','expression']\n",
    "wholetab1['expression'] = pd.to_numeric(wholetab1['expression'])\n",
    "wholetab1.head()"
   ]
  },
  {
   "cell_type": "markdown",
   "metadata": {},
   "source": [
    "#### wilcoxon test and fold change"
   ]
  },
  {
   "cell_type": "code",
   "execution_count": 112,
   "metadata": {},
   "outputs": [
    {
     "data": {
      "text/plain": [
       "4.240339367612373"
      ]
     },
     "execution_count": 112,
     "metadata": {},
     "output_type": "execute_result"
    }
   ],
   "source": [
    "np.average(plasma_HCC)-np.average(plasma_HBV_Normal)"
   ]
  },
  {
   "cell_type": "code",
   "execution_count": 113,
   "metadata": {},
   "outputs": [],
   "source": [
    "def calculate_fc(data1,data2):\n",
    "    return 2**(np.average(data1)-np.average(data2))"
   ]
  },
  {
   "cell_type": "code",
   "execution_count": 114,
   "metadata": {},
   "outputs": [
    {
     "name": "stdout",
     "output_type": "stream",
     "text": [
      "cf hcc vs health p value: 0.0002652980819686067\n",
      "cf hcc vs health_hbv p value: 1.329252212585876e-09\n",
      "exo hcc vs health p value: 0.05878172135535886\n",
      "cf hcc vs health fold change: 10.290724855895078\n",
      "cf hcc vs health_hbv fold change: 18.900328016358124\n",
      "exo hcc vs health fold change: 5.739798138426813\n"
     ]
    }
   ],
   "source": [
    "import scipy.stats as ss\n",
    "print ('cf hcc vs health p value: '+ str(ss.ranksums(plasma_HCC,plasma_Normal)[1]))\n",
    "print ('cf hcc vs health_hbv p value: '+ str(ss.ranksums(plasma_HCC,plasma_HBV_Normal)[1]))\n",
    "print ('exo hcc vs health p value: '+ str(ss.ranksums(exosome_HCC,exosome_Normal)[1]))\n",
    "\n",
    "fc1 = calculate_fc(plasma_HCC,plasma_Normal)\n",
    "fc2 = calculate_fc(plasma_HCC,plasma_HBV_Normal)\n",
    "fc3 = calculate_fc(exosome_HCC,exosome_Normal)\n",
    "print ('cf hcc vs health fold change: '+ str(fc1))\n",
    "print ('cf hcc vs health_hbv fold change: '+ str(fc2))\n",
    "print ('exo hcc vs health fold change: '+ str(fc3))"
   ]
  },
  {
   "cell_type": "markdown",
   "metadata": {},
   "source": [
    "##### boxplot fig1\n",
    "**分为两部分，分别是cell free的三个box和exosome的两个box **<br>\n",
    "cell free的三个box分别为hcc，normal以及normal和HBV<br>\n",
    "exosome的两个box分别为hcc，normal"
   ]
  },
  {
   "cell_type": "code",
   "execution_count": 115,
   "metadata": {},
   "outputs": [
    {
     "data": {
      "application/vnd.jupyter.widget-view+json": {
       "model_id": "b9734d68682f4c67b30e5df70d43e7c1",
       "version_major": 2,
       "version_minor": 0
      },
      "text/html": [
       "<p>Failed to display Jupyter Widget of type <code>interactive</code>.</p>\n",
       "<p>\n",
       "  If you're reading this message in the Jupyter Notebook or JupyterLab Notebook, it may mean\n",
       "  that the widgets JavaScript is still loading. If this message persists, it\n",
       "  likely means that the widgets JavaScript library is either not installed or\n",
       "  not enabled. See the <a href=\"https://ipywidgets.readthedocs.io/en/stable/user_install.html\">Jupyter\n",
       "  Widgets Documentation</a> for setup instructions.\n",
       "</p>\n",
       "<p>\n",
       "  If you're reading this message in another frontend (for example, a static\n",
       "  rendering on GitHub or <a href=\"https://nbviewer.jupyter.org/\">NBViewer</a>),\n",
       "  it may mean that your frontend doesn't currently support widgets.\n",
       "</p>\n"
      ],
      "text/plain": [
       "interactive(children=(FloatSlider(value=2.0, description=u'styind', max=3.0, step=1.0), FloatSlider(value=1.0, description=u'contextind', max=3.0, step=1.0), FloatSlider(value=12.0, description=u'width', max=20.0, min=8.0, step=1.0), FloatSlider(value=6.0, description=u'height', max=10.0, min=4.0, step=1.0), RadioButtons(description=u'showdot', options=('yes', 'no'), value='yes'), RadioButtons(description=u'showbox', options=('yes', 'no'), value='yes'), FloatSlider(value=5.0, description=u'dotsize', max=8.0, min=1.0, step=1.0), FloatSlider(value=12.0, description=u'fontsize', max=30.0, min=8.0, step=2.0), FloatRangeSlider(value=(-15.0, 28.0), description=u'ylim', max=35.0, min=-20.0, step=1.0), FloatSlider(value=0.6, description=u'boxwidth', max=1.0, min=0.05, step=0.05), Dropdown(description=u'box_violin', index=1, options=('box', 'violin'), value='violin'), FloatSlider(value=4.0, description=u'compareheight1', max=10.0, min=3.0, step=1.0), FloatSlider(value=8.0, description=u'compareheight2', max=10.0, min=3.0, step=1.0), FloatSlider(value=8.0, description=u'compareheight3', max=10.0, min=3.0, step=1.0), IntSlider(value=4, description=u'palettesind', max=12), FloatSlider(value=0.8, description=u'saturation', max=1.0), Output()), _dom_classes=('widget-interact',))"
      ]
     },
     "metadata": {},
     "output_type": "display_data"
    },
    {
     "data": {
      "text/plain": [
       "<function __main__.box_plot_1>"
      ]
     },
     "execution_count": 115,
     "metadata": {},
     "output_type": "execute_result"
    }
   ],
   "source": [
    "def box_plot_1(styind,contextind,width,height,showdot,showbox,dotsize,fontsize,\n",
    "               ylim,boxwidth,box_violin,compareheight1,compareheight2,compareheight3,palettesind,saturation):\n",
    "    sns.set_context(contexts[int(contextind)])\n",
    "    sns.set_style(styles[int(styind)])\n",
    "\n",
    "\n",
    "    fig, ax = plt.subplots(figsize=(width,height))\n",
    "    if showbox =='yes':\n",
    "        if box_violin=='violin':\n",
    "            sns.violinplot(ax=ax,x=\"sample\", y=\"expression\", data=wholetab1, palette=palettes[palettesind],width=boxwidth,saturation=saturation)\n",
    "        elif box_violin=='box':\n",
    "            sns.boxplot(ax=ax,x=\"sample\", y=\"expression\", data=wholetab1, palette=palettes[palettesind],width=boxwidth,saturation=saturation)\n",
    "    if showdot =='yes':\n",
    "        sns.swarmplot(x=\"sample\", y=\"expression\", data=wholetab1, size=dotsize, edgecolor=\"black\", linewidth=.9)\n",
    "    ax.set_ylim(ylim)\n",
    "    # statistical annotation\n",
    "    x1, x2 = 0, 1   # columns 'Sat' and 'Sun' (first column: 0, see plt.xticks())\n",
    "    y, h, col = wholetab1['expression'].max() + compareheight1, 0.5, 'k'\n",
    "    plt.plot([x1, x1, x2, x2], [y, y+h, y+h, y], lw=0.5, c=col)\n",
    "    plt.text((x1+x2)*.5, y+h, 'FC ' +str('%0.4s'%fc1)+ '\\n ****', ha='center', va='bottom', color=col,size=fontsize)\n",
    "    x1, x2 = 0, 2\n",
    "    y, h, col = wholetab1['expression'].max() + compareheight2, 0.5, 'k'\n",
    "    plt.plot([x1, x1, x2, x2], [y, y+h, y+h, y], lw=0.5, c=col)\n",
    "    plt.text((x1+x2)*.5, y+h, 'FC ' +str('%0.4s'%fc2)+ ' \\n ****', ha='center', va='bottom', color=col,size=fontsize)\n",
    "    x1, x2 = 3, 4 \n",
    "    y, h, col = wholetab1['expression'].max() + compareheight3, 0.5, 'k'\n",
    "    plt.plot([x1, x1, x2, x2], [y, y+h, y+h, y], lw=0.5, c=col)\n",
    "    plt.text((x1+x2)*.5, y+h, 'FC ' +str('%0.4s'%fc3)+ ' \\n ns', ha='center', va='bottom', color=col,size=fontsize)\n",
    "interact(box_plot_1,styind=FloatSlider(min=0,max=3,step=1,value=2),\n",
    "               contextind=FloatSlider(min=0,max=3,step=1,value=1),\n",
    "                width =FloatSlider(min=8,max=20,step=1,value=12),\n",
    "                 height= FloatSlider(min=4,max=10,step=1,value=6),\n",
    "         boxwidth= FloatSlider(min=0.05,max=1,step=0.05,value=0.6),\n",
    "         dotsize= FloatSlider(min=1,max=8,step=1,value=5),\n",
    "         fontsize= FloatSlider(min=8,max=30,step=2,value=12),\n",
    "         ylim=FloatRangeSlider(value=[-15, 28],min=-20,max=35.0,step=1),\n",
    "            showdot=RadioButtons(options=['yes','no']),\n",
    "         showbox=RadioButtons(options=['yes','no']),\n",
    "        box_violin = Dropdown(options=['box','violin'],value='violin'),\n",
    "         compareheight1=FloatSlider(min=3,max=10,step=1,value=4),\n",
    "         compareheight2=FloatSlider(min=3,max=10,step=1,value=8),\n",
    "         compareheight3=FloatSlider(min=3,max=10,step=1,value=8),\n",
    "        palettesind=IntSlider(min=0,max=len(palettes)-1,step=1,value=4),\n",
    "        saturation=FloatSlider(min=0,max=1,step=0.1,value=0.8))"
   ]
  },
  {
   "cell_type": "code",
   "execution_count": 155,
   "metadata": {},
   "outputs": [
    {
     "data": {
      "image/png": "[encoded data removed]",
      "text/plain": [
       "<matplotlib.figure.Figure at 0x7f6925faf2d0>"
      ]
     },
     "metadata": {},
     "output_type": "display_data"
    }
   ],
   "source": [
    "box_plot_1(2,1,12,6,'yes','no',4,12,[-15,28],0.25,'violin',4,8,8,4,1)"
   ]
  },
  {
   "cell_type": "markdown",
   "metadata": {},
   "source": [
    "##### rocplot fig1\n",
    "**分别计算cell free和exosome中hcc对normal的roc**"
   ]
  },
  {
   "cell_type": "code",
   "execution_count": 156,
   "metadata": {},
   "outputs": [],
   "source": [
    "def find_metrics_best(label,expressionlevel):\n",
    "    posinum = np.sum(label)\n",
    "    neganum = label.shape[0] - np.sum(label)\n",
    "    a,b,c= roc_curve(label,expressionlevel) #fpr tpr threshold\n",
    "    fp = a*neganum\n",
    "    tp = b*posinum\n",
    "    tn = (1-a)*neganum\n",
    "    fn = (1-b)*posinum\n",
    "    \n",
    "    Sensitivity = tp/(tp+fn) \n",
    "    Specificity = tn/(tn+fp) \n",
    "    PPV = tp/(tp+fp) \n",
    "    NPV = tn/(tn+fn) \n",
    "    \n",
    "    arith_mean = (Sensitivity+Specificity)*0.5\n",
    "    geo_mean = (Sensitivity*Specificity)**0.5\n",
    "    harmo_mean = 2/(1/Sensitivity+1/Specificity)\n",
    "    eucilid_mean = ((1-Sensitivity)**2+(1-Specificity)**2)**0.5\n",
    "    mcc_mean = (tp*tn-fp*fn)/(((tp+fp)*(tp+fn)*(tn+fp)*(tn+fn))**0.5)\n",
    "    F1_score = 2*tp/(2*tp+fn+fp)\n",
    "    auc = sklearn.metrics.auc(a,b)\n",
    "    acc = (tp+tn)/(tp+tn+fn+fp)\n",
    "    distoleftup = (a**2+(1-b)**2)**0.5# to the left up\n",
    "    #print (\"AUC:\" +str(auc))\n",
    "    \n",
    "    thres = int(label.shape[0]/10.) if int(label.shape[0]/10.)>0 else 1\n",
    "    uni,counts= np.unique(np.concatenate((np.argsort(-arith_mean)[:thres],np.argsort(-geo_mean)[:thres],np.argsort(-harmo_mean)[:thres],\n",
    "                np.argsort(-eucilid_mean)[:thres],np.argsort(-mcc_mean)[:thres],np.argsort(-F1_score)[:thres])),return_counts=True)\n",
    "    #print (Sensitivity[uni[np.where(counts ==np.max(counts))][0]])\n",
    "    #print (Specificity[uni[np.where(counts ==np.max(counts))][0]])\n",
    "    #print (F1_score)\n",
    "    #print (np.argsort(-F1_score))\n",
    "    return auc,Sensitivity[uni[np.where(counts ==np.max(counts))][0]],Specificity[uni[np.where(counts ==np.max(counts))][0]]"
   ]
  },
  {
   "cell_type": "code",
   "execution_count": 118,
   "metadata": {},
   "outputs": [
    {
     "data": {
      "application/vnd.jupyter.widget-view+json": {
       "model_id": "b6380132c9f04d629b508f83bc0da00e",
       "version_major": 2,
       "version_minor": 0
      },
      "text/html": [
       "<p>Failed to display Jupyter Widget of type <code>interactive</code>.</p>\n",
       "<p>\n",
       "  If you're reading this message in the Jupyter Notebook or JupyterLab Notebook, it may mean\n",
       "  that the widgets JavaScript is still loading. If this message persists, it\n",
       "  likely means that the widgets JavaScript library is either not installed or\n",
       "  not enabled. See the <a href=\"https://ipywidgets.readthedocs.io/en/stable/user_install.html\">Jupyter\n",
       "  Widgets Documentation</a> for setup instructions.\n",
       "</p>\n",
       "<p>\n",
       "  If you're reading this message in another frontend (for example, a static\n",
       "  rendering on GitHub or <a href=\"https://nbviewer.jupyter.org/\">NBViewer</a>),\n",
       "  it may mean that your frontend doesn't currently support widgets.\n",
       "</p>\n"
      ],
      "text/plain": [
       "interactive(children=(FloatSlider(value=1.0, description=u'styind', max=2.0, step=1.0), FloatSlider(value=1.0, description=u'contextind', max=3.0, step=1.0), FloatSlider(value=8.0, description=u'width', max=16.0, min=6.0, step=1.0), FloatSlider(value=8.0, description=u'height', max=16.0, min=6.0, step=1.0), FloatSlider(value=1.5, description=u'linewid', max=4.0, min=1.0, step=0.3), SelectMultiple(description=u'color', index=(0, 1, 2), options=('b', 'g', 'r', 'c', 'm', 'y', 'k', 'w'), value=('b', 'g', 'r')), FloatSlider(value=1.5, description=u'linewid2', max=4.0, min=1.0, step=0.3), Dropdown(description=u'color2', options=('b', 'g', 'r', 'c', 'm', 'y', 'k', 'w'), value='b'), FloatSlider(value=0.5, description=u'transparency', max=1.0, step=0.05), FloatSlider(value=10.0, description=u'fontsize', max=20.0, min=6.0, step=1.0), RadioButtons(description=u'showmetrics', options=('yes', 'no'), value='yes'), Output()), _dom_classes=('widget-interact',))"
      ]
     },
     "metadata": {},
     "output_type": "display_data"
    },
    {
     "data": {
      "text/plain": [
       "<function __main__.rocplot1>"
      ]
     },
     "execution_count": 118,
     "metadata": {},
     "output_type": "execute_result"
    }
   ],
   "source": [
    "aucspesenarr = np.concatenate(((np.array(find_metrics_best(np.concatenate((np.ones([exosome_HCC.shape[0]]),np.zeros([exosome_Normal.shape[0]]))),np.concatenate((exosome_HCC,exosome_Normal)))).reshape(1,-1),\n",
    "                np.array(find_metrics_best(np.concatenate((np.ones([plasma_HCC.shape[0]]),np.zeros([plasma_Normal.shape[0]]))),np.concatenate((plasma_HCC,plasma_Normal)))).reshape(1,-1),\n",
    "                np.array(find_metrics_best(np.concatenate((np.ones([plasma_HCC.shape[0]]),np.zeros([plasma_HBV_Normal.shape[0]]))),np.concatenate((plasma_HCC,plasma_HBV_Normal)))).reshape(1,-1)\n",
    "               )))\n",
    "auc,spe,sen= {},{},{}\n",
    "for i in range(3):\n",
    "    auc[i],spe[i],sen[i] = aucspesenarr[i][0],aucspesenarr[i][1],aucspesenarr[i][2]\n",
    "label1 = ['exosome','plasma -HBV','plasma +HBV']\n",
    "label2 = ['AUC: ' + str('%0.4s'%auc[i]) +' ['+str('%0.4s'%spe[i])+' '+str('%0.4s'%sen[i])+']' for i in range(3)]\n",
    "#label1[i] +'\\n'+label2[i]\n",
    "\n",
    "def rocplot1(styind,contextind,width,height,linewid,color,linewid2,color2,transparency,fontsize,showmetrics):\n",
    "    sns.set_context(contexts[int(contextind)])\n",
    "    sns.set_style(styles[int(styind)])\n",
    "    fig, ax = plt.subplots(figsize=(width,height))\n",
    "    if len(color) !=3:\n",
    "        color = ['r','g','b']\n",
    "    label1 = ['exosome','plasma -HBV','plasma +HBV']\n",
    "    label2 = ['AUC: ' + str('%0.4s'%auc[i]) +' ['+str('%0.4s'%spe[i])+' '+str('%0.4s'%sen[i])+']' for i in range(3)]\n",
    "    if showmetrics =='yes':\n",
    "        labels = [label1[i] +'\\n'+label2[i] for i in range(3)]\n",
    "    else:\n",
    "        labels = [label1[i] for i in range(3)]\n",
    "    a,b,_ = roc_curve(np.concatenate((np.ones([exosome_HCC.shape[0]]),np.zeros([exosome_Normal.shape[0]]))),np.concatenate((exosome_HCC,exosome_Normal)),drop_intermediate=False)   \n",
    "    ax.plot(a,b,linewidth=linewid,color=color[0],label=labels[0])\n",
    "    a,b,_ = roc_curve(np.concatenate((np.ones([plasma_HCC.shape[0]]),np.zeros([plasma_Normal.shape[0]]))),np.concatenate((plasma_HCC,plasma_Normal)))   \n",
    "    ax.plot(a,b,linewidth=linewid,color=color[1],label=labels[1])\n",
    "    a,b,_ = roc_curve(np.concatenate((np.ones([plasma_HCC.shape[0]]),np.zeros([plasma_HBV_Normal.shape[0]]))),np.concatenate((plasma_HCC,plasma_HBV_Normal)))   \n",
    "    ax.plot(a,b,linewidth=linewid,color=color[2],label=labels[2])\n",
    "    ax.legend(prop={'size': fontsize})\n",
    "    #ax.plot(b,a,linewidth=linewid,color=color,linestyle='dashed') #solid’ | ‘dashed’, ‘dashdot’, ‘dotted\n",
    "    ax.plot([0,1],[0,1], linewidth=linewid2,alpha=transparency,color=color2,linestyle='--')\n",
    "interact(rocplot1,styind=FloatSlider(min=0,max=2,step=1,value=1),\n",
    "               contextind=FloatSlider(min=0,max=3,step=1,value=1),\n",
    "                width =FloatSlider(min=6,max=16,step=1,value=8),\n",
    "                 height= FloatSlider(min=6,max=16,step=1,value=8),\n",
    "        linewid= FloatSlider(min=1,max=4,step=0.3,value=1.5),\n",
    "        color=SelectMultiple(options=['b', 'g', 'r', 'c', 'm', 'y', 'k', 'w'],value=('b', 'g', 'r')),\n",
    "        linewid2= FloatSlider(min=1,max=4,step=0.3,value=1.5),\n",
    "         fontsize= FloatSlider(min=6,max=20,step=1,value=10),\n",
    "        transparency=FloatSlider(min=0,max=1,step=0.05,value=0.5),\n",
    "        color2=Dropdown(options=['b', 'g', 'r', 'c', 'm', 'y', 'k', 'w']),\n",
    "        showmetrics=RadioButtons(options=['yes','no']))"
   ]
  },
  {
   "cell_type": "code",
   "execution_count": 119,
   "metadata": {},
   "outputs": [
    {
     "data": {
      "image/png": "[encoded data removed]",
      "text/plain": [
       "<matplotlib.figure.Figure at 0x7f69286a2750>"
      ]
     },
     "metadata": {},
     "output_type": "display_data"
    }
   ],
   "source": [
    "rocplot1(1,1,8,8,1.5,['r','g','m'],1.5,'b',0.5,10,'yes')"
   ]
  },
  {
   "cell_type": "markdown",
   "metadata": {},
   "source": [
    "##### report best specificity &sensitivity\n",
    " $$TPR  =\\frac{TP}{ TP + FN}$$  \n",
    "\n",
    " $$FPR =\\frac{FP}{ FP + TN} $$\n",
    "\n",
    "$$Acc=\\frac{TP+TN}{TP+TN+FP+FN}=\\frac{TP+TN}{P+N}$$\n",
    "\n",
    "$$Recall/Sensitivity=\\frac{TP}{TP+FN}= \\frac{TP}{P}$$ <br>\n",
    "$$Precision/PPV=\\frac{TP}{TP+FP}$$<br>\n",
    "$$Specificity=\\frac{TN}{TN+FP}$$<br>\n",
    "$$F1=\\frac{2TP}{2TP+FN+FP}=\\frac{2 \\cdot Precision \\cdot Recall}{Precision+Recall}$$\n",
    "$$arith\\_mean = \\frac{Specificity+Sensitivity}{2}$$<br>\n",
    "$$geo\\_mean = \\sqrt {Specificity \\dot Sensitivity}$$<br>\n",
    "$$harmo\\_mean = \\frac{1}{\\frac{1}{Specificity}+\\frac{1}{Sensitivity}}$$<br>\n",
    "$$mcc\\_mean = \\frac{TP \\dot TN-FP \\dot FN}{(TP+FP)(TN+FP)(TP+FN)(TN+FN)} $$<br>\n",
    "$$distoleftup = \\sqrt{FPR^2+(1-TPR)^2 }$$<br>"
   ]
  },
  {
   "cell_type": "markdown",
   "metadata": {},
   "source": [
    "##### best sensitivity and specificity:\n",
    "各个指标的一致较优集合中的交集作为最终选择标准"
   ]
  },
  {
   "cell_type": "code",
   "execution_count": 120,
   "metadata": {},
   "outputs": [
    {
     "name": "stdout",
     "output_type": "stream",
     "text": [
      "AUC:0.7200000000000001\n"
     ]
    },
    {
     "data": {
      "image/png": "[encoded data removed]",
      "text/plain": [
       "<matplotlib.figure.Figure at 0x7f69286a2cd0>"
      ]
     },
     "metadata": {},
     "output_type": "display_data"
    }
   ],
   "source": [
    "def report_metrics_best(expressionlevel,label):\n",
    "    posinum = np.sum(label)\n",
    "    neganum = label.shape[0] - np.sum(label)\n",
    "    a,b,c= roc_curve(label,expressionlevel) #fpr tpr threshold\n",
    "    fp = a*neganum\n",
    "    tp = b*posinum\n",
    "    tn = (1-a)*neganum\n",
    "    fn = (1-b)*posinum\n",
    "    \n",
    "    Sensitivity = tp/(tp+fn) \n",
    "    Specificity = tn/(tn+fp) \n",
    "    PPV = tp/(tp+fp) \n",
    "    NPV = tn/(tn+fn) \n",
    "    \n",
    "    arith_mean = (Sensitivity+Specificity)*0.5\n",
    "    geo_mean = (Sensitivity*Specificity)**0.5\n",
    "    harmo_mean = 2/(1/Sensitivity+1/Specificity)\n",
    "    eucilid_mean = ((1-Sensitivity)**2+(1-Specificity)**2)**0.5\n",
    "    mcc_mean = (tp*tn-fp*fn)/(((tp+fp)*(tp+fn)*(tn+fp)*(tn+fn))**0.5)\n",
    "    F1_score = 2*tp/(2*tp+fn+fp)\n",
    "    auc = sklearn.metrics.auc(a,b)\n",
    "    acc = (tp+tn)/(tp+tn+fn+fp)\n",
    "    distoleftup = (a**2+(1-b)**2)**0.5# to the left up\n",
    "    print (\"AUC:\" +str(auc))\n",
    "    return auc,tp,fp,tn,fn,acc,Sensitivity,Specificity,PPV,NPV,arith_mean,geo_mean,harmo_mean,eucilid_mean,mcc_mean,F1_score,distoleftup\n",
    "def metricsplot(styind,contextind,width,height,linewid,metrics,fontsize):\n",
    "    sns.set_context(contexts[int(contextind)])\n",
    "    sns.set_style(styles[int(styind)])\n",
    "    fig, ax = plt.subplots(figsize=(width,height))\n",
    "    colors = ['b', 'g', 'r', 'c', 'm', 'y', 'k', 'w','b', 'g', 'r', 'c', 'm', 'y', 'k', 'w']\n",
    "    allmetrics = np.array(['tp','fp','tn','fn','acc','Sensitivity','Specificity','PPV','NPV',\n",
    "                           'arith_mean','geo_mean','harmo_mean','eucilid_mean','mcc_mean','F1_score','distoleftup'])\n",
    "    metricss = report_metrics_best( np.concatenate((plasma_HCC,plasma_Normal)),\n",
    "                                        np.concatenate((np.ones([plasma_HCC.shape[0]]),np.zeros([plasma_Normal.shape[0]]))))[:]\n",
    "    for i in range(len(metrics)):\n",
    "        indtmp = np.where(allmetrics==metrics[i])[0]\n",
    "        if indtmp.shape[0]:\n",
    "            ax.plot(metricss[indtmp[0]],linewidth=linewid,color=colors[i],label=allmetrics[indtmp[0]] )\n",
    "    ax.legend(prop={'size': fontsize})#[allmetrics[indtmp[0]]],prop={'size': fontsize})\n",
    "    #ax.plot(arith_mean,linewidth=linewid,color=color)\n",
    "    #ax.plot([0,1],[0,1], linewidth=linewid2,alpha=transparency,color=color2)\n",
    "metricsplot(1,1,8,8,3,['arith_mean','geo_mean','harmo_mean','eucilid_mean',\n",
    "                                        'mcc_mean','F1_score','distoleftup'],12)"
   ]
  },
  {
   "cell_type": "markdown",
   "metadata": {},
   "source": [
    "##### 三条曲线的AUC及最佳specificity与sensitivity组合"
   ]
  },
  {
   "cell_type": "code",
   "execution_count": 121,
   "metadata": {},
   "outputs": [
    {
     "data": {
      "text/html": [
       "<div>\n",
       "<style scoped>\n",
       "    .dataframe tbody tr th:only-of-type {\n",
       "        vertical-align: middle;\n",
       "    }\n",
       "\n",
       "    .dataframe tbody tr th {\n",
       "        vertical-align: top;\n",
       "    }\n",
       "\n",
       "    .dataframe thead th {\n",
       "        text-align: right;\n",
       "    }\n",
       "</style>\n",
       "<table border=\"1\" class=\"dataframe\">\n",
       "  <thead>\n",
       "    <tr style=\"text-align: right;\">\n",
       "      <th></th>\n",
       "      <th>AUC</th>\n",
       "      <th>Specificity</th>\n",
       "      <th>Sensitivity</th>\n",
       "    </tr>\n",
       "  </thead>\n",
       "  <tbody>\n",
       "    <tr>\n",
       "      <th>exosome</th>\n",
       "      <td>0.7500</td>\n",
       "      <td>1.00</td>\n",
       "      <td>0.500000</td>\n",
       "    </tr>\n",
       "    <tr>\n",
       "      <th>plasma -HBV</th>\n",
       "      <td>0.7200</td>\n",
       "      <td>0.85</td>\n",
       "      <td>0.566667</td>\n",
       "    </tr>\n",
       "    <tr>\n",
       "      <th>plasma +HBV</th>\n",
       "      <td>0.8042</td>\n",
       "      <td>0.83</td>\n",
       "      <td>0.740000</td>\n",
       "    </tr>\n",
       "  </tbody>\n",
       "</table>\n",
       "</div>"
      ],
      "text/plain": [
       "                AUC  Specificity  Sensitivity\n",
       "exosome      0.7500         1.00     0.500000\n",
       "plasma -HBV  0.7200         0.85     0.566667\n",
       "plasma +HBV  0.8042         0.83     0.740000"
      ]
     },
     "execution_count": 121,
     "metadata": {},
     "output_type": "execute_result"
    }
   ],
   "source": [
    "pd.DataFrame(np.concatenate((np.array(find_metrics_best(np.concatenate((np.ones([exosome_HCC.shape[0]]),np.zeros([exosome_Normal.shape[0]]))),np.concatenate((exosome_HCC,exosome_Normal)))).reshape(1,-1),\n",
    "                np.array(find_metrics_best(np.concatenate((np.ones([plasma_HCC.shape[0]]),np.zeros([plasma_Normal.shape[0]]))),np.concatenate((plasma_HCC,plasma_Normal)))).reshape(1,-1),\n",
    "                np.array(find_metrics_best(np.concatenate((np.ones([plasma_HCC.shape[0]]),np.zeros([plasma_HBV_Normal.shape[0]]))),np.concatenate((plasma_HCC,plasma_HBV_Normal)))).reshape(1,-1)\n",
    "               )),columns=['AUC','Specificity','Sensitivity'],\n",
    "             index=['exosome','plasma -HBV','plasma +HBV'])\n"
   ]
  },
  {
   "cell_type": "code",
   "execution_count": 122,
   "metadata": {
    "deletable": false,
    "editable": false,
    "run_control": {
     "frozen": true
    }
   },
   "outputs": [
    {
     "data": {
      "application/vnd.jupyter.widget-view+json": {
       "model_id": "a65518dd60b341e6a70c658ee137948d",
       "version_major": 2,
       "version_minor": 0
      },
      "text/html": [
       "<p>Failed to display Jupyter Widget of type <code>interactive</code>.</p>\n",
       "<p>\n",
       "  If you're reading this message in the Jupyter Notebook or JupyterLab Notebook, it may mean\n",
       "  that the widgets JavaScript is still loading. If this message persists, it\n",
       "  likely means that the widgets JavaScript library is either not installed or\n",
       "  not enabled. See the <a href=\"https://ipywidgets.readthedocs.io/en/stable/user_install.html\">Jupyter\n",
       "  Widgets Documentation</a> for setup instructions.\n",
       "</p>\n",
       "<p>\n",
       "  If you're reading this message in another frontend (for example, a static\n",
       "  rendering on GitHub or <a href=\"https://nbviewer.jupyter.org/\">NBViewer</a>),\n",
       "  it may mean that your frontend doesn't currently support widgets.\n",
       "</p>\n"
      ],
      "text/plain": [
       "interactive(children=(FloatSlider(value=1.0, description=u'styind', max=2.0, step=1.0), FloatSlider(value=0.0, description=u'contextind', max=3.0, step=1.0), FloatSlider(value=9.0, description=u'width', max=16.0, min=6.0, step=1.0), FloatSlider(value=9.0, description=u'height', max=16.0, min=6.0, step=1.0), FloatSlider(value=1.5, description=u'linewid', max=4.0, min=1.0, step=0.3), SelectMultiple(description=u'metrics', index=(9,), options=('tp', 'fp', 'tn', 'fn', 'acc', 'Sensitivity', 'Specificity', 'PPV', 'NPV', 'arith_mean', 'geo_mean', 'harmo_mean', 'eucilid_mean', 'mcc_mean', 'F1_score', 'distoleftup'), value=('arith_mean',)), FloatSlider(value=10.0, description=u'fontsize', max=20.0, min=6.0, step=1.0), Output()), _dom_classes=('widget-interact',))"
      ]
     },
     "metadata": {},
     "output_type": "display_data"
    },
    {
     "data": {
      "text/plain": [
       "<function __main__.metricsplot>"
      ]
     },
     "execution_count": 122,
     "metadata": {},
     "output_type": "execute_result"
    }
   ],
   "source": [
    "def metricsplot(styind,contextind,width,height,linewid,metrics,fontsize):\n",
    "    sns.set_context(contexts[int(contextind)])\n",
    "    sns.set_style(styles[int(styind)])\n",
    "    fig, ax = plt.subplots(figsize=(width,height))\n",
    "    colors = ['b', 'g', 'r', 'c', 'm', 'y', 'k', 'w']\n",
    "    allmetrics = np.array(['tp','fp','tn','fn','acc','Sensitivity','Specificity','PPV','NPV',\n",
    "                           'arith_mean','geo_mean','harmo_mean','eucilid_mean','mcc_mean','F1_score','distoleftup'])\n",
    "    for i in range(len(metrics)):\n",
    "        indtmp = np.where(allmetrics==metrics[i])[0]\n",
    "        if indtmp.shape[0]:\n",
    "            ax.plot(report_metrics_best(np.concatenate((exosome_HCC,exosome_Normal)),np.concatenate((np.ones([exosome_HCC.shape[0]]),np.zeros([exosome_Normal.shape[0]]))))[1:][indtmp[0]],linewidth=linewid,color=colors[i],\n",
    "                    label=allmetrics[indtmp[0]] )\n",
    "    ax.legend(prop={'size': fontsize})#[allmetrics[indtmp[0]]],prop={'size': fontsize})\n",
    "    #ax.plot(arith_mean,linewidth=linewid,color=color)\n",
    "    #ax.plot([0,1],[0,1], linewidth=linewid2,alpha=transparency,color=color2)\n",
    "interact(metricsplot,styind=FloatSlider(min=0,max=2,step=1,value=1),\n",
    "               contextind=FloatSlider(min=0,max=3,step=1),\n",
    "                width =FloatSlider(min=6,max=16,step=1,value=9),\n",
    "                 height= FloatSlider(min=6,max=16,step=1,value=9),\n",
    "        linewid= FloatSlider(min=1,max=4,step=0.3,value=1.5),\n",
    "         fontsize= FloatSlider(min=6,max=20,step=1,value=10),\n",
    "        metrics=SelectMultiple(options=['tp','fp','tn','fn','acc','Sensitivity','Specificity','PPV','NPV','arith_mean','geo_mean','harmo_mean','eucilid_mean',\n",
    "                                        'mcc_mean','F1_score','distoleftup'],value=('arith_mean',)))"
   ]
  },
  {
   "cell_type": "markdown",
   "metadata": {},
   "source": [
    "### plot fig2"
   ]
  },
  {
   "cell_type": "code",
   "execution_count": 146,
   "metadata": {},
   "outputs": [
    {
     "data": {
      "text/html": [
       "<div>\n",
       "<style scoped>\n",
       "    .dataframe tbody tr th:only-of-type {\n",
       "        vertical-align: middle;\n",
       "    }\n",
       "\n",
       "    .dataframe tbody tr th {\n",
       "        vertical-align: top;\n",
       "    }\n",
       "\n",
       "    .dataframe thead th {\n",
       "        text-align: right;\n",
       "    }\n",
       "</style>\n",
       "<table border=\"1\" class=\"dataframe\">\n",
       "  <thead>\n",
       "    <tr style=\"text-align: right;\">\n",
       "      <th></th>\n",
       "      <th>BCLC</th>\n",
       "      <th>S domain-HCC</th>\n",
       "      <th>S domain-Health</th>\n",
       "      <th>S domain-HBV</th>\n",
       "    </tr>\n",
       "  </thead>\n",
       "  <tbody>\n",
       "    <tr>\n",
       "      <th>0</th>\n",
       "      <td>B</td>\n",
       "      <td>8.60</td>\n",
       "      <td>7.20</td>\n",
       "      <td>1.09</td>\n",
       "    </tr>\n",
       "    <tr>\n",
       "      <th>1</th>\n",
       "      <td>C</td>\n",
       "      <td>4.85</td>\n",
       "      <td>5.39</td>\n",
       "      <td>2.14</td>\n",
       "    </tr>\n",
       "  </tbody>\n",
       "</table>\n",
       "</div>"
      ],
      "text/plain": [
       "  BCLC  S domain-HCC  S domain-Health  S domain-HBV\n",
       "0    B          8.60             7.20          1.09\n",
       "1    C          4.85             5.39          2.14"
      ]
     },
     "execution_count": 146,
     "metadata": {},
     "output_type": "execute_result"
    }
   ],
   "source": [
    "datatable1.head(2)"
   ]
  },
  {
   "cell_type": "code",
   "execution_count": 147,
   "metadata": {},
   "outputs": [],
   "source": [
    "def load_data(table):\n",
    "    datatable = table\n",
    "    return np.array(datatable.loc[datatable['BCLC'] ==\"A\",[\"S domain-HCC\"]]).ravel().astype('float'),np.array(datatable.loc[datatable['BCLC'] ==\"B\",[\"S domain-HCC\"]]).ravel().astype('float'),np.array(datatable.loc[datatable['BCLC'] ==\"C\",[\"S domain-HCC\"]]).ravel().astype('float'),np.array(datatable['S domain-Health']).ravel().astype('float')\n",
    "\n",
    "stageA,stageB,stageC,health = load_data(datatable1)\n",
    "health= datatable1['S domain-Health']\n",
    "health = health[~np.isnan(health)]\n",
    "hcc = np.concatenate((stageA,stageB,stageC))"
   ]
  },
  {
   "cell_type": "code",
   "execution_count": 148,
   "metadata": {},
   "outputs": [
    {
     "name": "stdout",
     "output_type": "stream",
     "text": [
      "hcc vs health p value: 0.00022107588259178435\n",
      "stageA vs health p value: 0.00634116343477631\n",
      "stageB vs health p value: 0.0004336778335061887\n",
      "stageC vs health p value: 0.0004336778335061887\n",
      "hcc vs health fold change: 10.99048148865632\n",
      "stageA vs health fold change: 8.000297354246165\n",
      "stageB vs health fold change: 16.51559545990606\n",
      "stageC vs health fold change: 11.376894338182627\n"
     ]
    }
   ],
   "source": [
    "stageAtab = pd.DataFrame(np.concatenate((np.repeat('hcc',stageA.shape[0]).reshape(-1,1),\n",
    "                                         np.repeat('stageA',stageA.shape[0]).reshape(-1,1),stageA.reshape(-1,1)),axis=1))\n",
    "stageBtab = pd.DataFrame(np.concatenate((np.repeat('hcc',stageB.shape[0]).reshape(-1,1),\n",
    "                                         np.repeat('stageB',stageB.shape[0]).reshape(-1,1),stageB.reshape(-1,1)),axis=1))\n",
    "stageCtab = pd.DataFrame(np.concatenate((np.repeat('hcc',stageC.shape[0]).reshape(-1,1),\n",
    "                                         np.repeat('stageC',stageC.shape[0]).reshape(-1,1),stageC.reshape(-1,1)),axis=1))\n",
    "healthtab = pd.DataFrame(np.concatenate((np.repeat('health',health.shape[0]*2).reshape(-1,2),health.reshape(-1,1)),axis=1))\n",
    "wholetab = pd.concat((stageAtab,stageBtab,stageCtab,healthtab),axis=0)\n",
    "wholetab.columns = ['sample','stage','expression']\n",
    "wholetab.head()\n",
    "wholetab['expression'] = pd.to_numeric(wholetab['expression'])\n",
    "wholetab.head()\n",
    "\n",
    "import scipy.stats as ss\n",
    "values_per_group = [col for col_name, col in wholetab.groupby('sample')['expression']]\n",
    "print ('hcc vs health p value: '+ str(ss.ranksums(*values_per_group)[1]))\n",
    "print ('stageA vs health p value: '+ str(ss.ranksums(wholetab[wholetab['stage']==\"stageA\"]['expression'],wholetab[wholetab['stage']==\"health\"]['expression'])[1]))\n",
    "print ('stageB vs health p value: '+ str(ss.ranksums(wholetab[wholetab['stage']==\"stageB\"]['expression'],wholetab[wholetab['stage']==\"health\"]['expression'])[1]))\n",
    "print ('stageC vs health p value: '+ str(ss.ranksums(wholetab[wholetab['stage']==\"stageB\"]['expression'],wholetab[wholetab['stage']==\"health\"]['expression'])[1]))\n",
    "\n",
    "\n",
    "fc1 = calculate_fc(hcc,health)\n",
    "fc2 = calculate_fc(stageA,health)\n",
    "fc3 = calculate_fc(stageB,health)\n",
    "fc4 = calculate_fc(stageC,health)\n",
    "print ('hcc vs health fold change: '+ str(fc1))\n",
    "print ('stageA vs health fold change: '+ str(fc2))\n",
    "print ('stageB vs health fold change: '+ str(fc3))\n",
    "print ('stageC vs health fold change: '+ str(fc4))\n"
   ]
  },
  {
   "cell_type": "markdown",
   "metadata": {},
   "source": [
    "#####  boxplot fig2\n",
    "cell free中三期对health"
   ]
  },
  {
   "cell_type": "code",
   "execution_count": 149,
   "metadata": {},
   "outputs": [
    {
     "data": {
      "application/vnd.jupyter.widget-view+json": {
       "model_id": "fc21d958feee47b1a85b4fcf83dc1201",
       "version_major": 2,
       "version_minor": 0
      },
      "text/html": [
       "<p>Failed to display Jupyter Widget of type <code>interactive</code>.</p>\n",
       "<p>\n",
       "  If you're reading this message in the Jupyter Notebook or JupyterLab Notebook, it may mean\n",
       "  that the widgets JavaScript is still loading. If this message persists, it\n",
       "  likely means that the widgets JavaScript library is either not installed or\n",
       "  not enabled. See the <a href=\"https://ipywidgets.readthedocs.io/en/stable/user_install.html\">Jupyter\n",
       "  Widgets Documentation</a> for setup instructions.\n",
       "</p>\n",
       "<p>\n",
       "  If you're reading this message in another frontend (for example, a static\n",
       "  rendering on GitHub or <a href=\"https://nbviewer.jupyter.org/\">NBViewer</a>),\n",
       "  it may mean that your frontend doesn't currently support widgets.\n",
       "</p>\n"
      ],
      "text/plain": [
       "interactive(children=(FloatSlider(value=2.0, description=u'styind', max=3.0, step=1.0), FloatSlider(value=1.0, description=u'contextind', max=3.0, step=1.0), FloatSlider(value=12.0, description=u'width', max=20.0, min=8.0, step=1.0), FloatSlider(value=6.0, description=u'height', max=10.0, min=4.0, step=1.0), RadioButtons(description=u'showdot', options=('yes', 'no'), value='yes'), RadioButtons(description=u'showbox', options=('yes', 'no'), value='yes'), FloatSlider(value=8.0, description=u'dotsize', max=15.0, min=1.0, step=1.0), FloatSlider(value=12.0, description=u'fontsize', max=30.0, min=8.0, step=2.0), FloatRangeSlider(value=(-10.0, 25.0), description=u'ylim', max=30.0, min=-20.0, step=3.0), FloatSlider(value=1.0, description=u'compareheight1', max=10.0, min=1.0, step=1.0), FloatSlider(value=3.0, description=u'compareheight2', max=10.0, min=1.0, step=1.0), FloatSlider(value=5.0, description=u'compareheight3', max=10.0, min=1.0, step=1.0), FloatSlider(value=0.5, description=u'boxwidth', max=1.0, min=0.05, step=0.05), Dropdown(description=u'box_violin', options=('box', 'violin'), value='box'), IntSlider(value=4, description=u'palettesind', max=12), FloatSlider(value=0.8, description=u'saturation', max=1.0), Output()), _dom_classes=('widget-interact',))"
      ]
     },
     "metadata": {},
     "output_type": "display_data"
    },
    {
     "data": {
      "text/plain": [
       "<function __main__.box_plot_stage>"
      ]
     },
     "execution_count": 149,
     "metadata": {},
     "output_type": "execute_result"
    }
   ],
   "source": [
    "def box_plot_stage(styind,contextind,width,height,showdot,showbox,\n",
    "                   dotsize,fontsize,ylim,compareheight1,compareheight2,compareheight3,boxwidth,box_violin,palettesind,saturation):\n",
    "    sns.set_context(contexts[int(contextind)])\n",
    "    sns.set_style(styles[int(styind)])\n",
    "\n",
    "\n",
    "    fig, ax = plt.subplots(figsize=(width,height))\n",
    "    if showbox =='yes':\n",
    "        if box_violin=='violin':\n",
    "            sns.violinplot(ax=ax,x=\"stage\", y=\"expression\", data=wholetab, palette=palettes[palettesind],width=boxwidth,saturation=saturation)\n",
    "        elif box_violin=='box':\n",
    "            sns.boxplot(ax=ax,x=\"stage\", y=\"expression\", data=wholetab, palette=palettes[palettesind],width=boxwidth,saturation=saturation)\n",
    "    if showdot =='yes':\n",
    "        sns.swarmplot(x=\"stage\", y=\"expression\", data=wholetab, size=dotsize, edgecolor=\"black\", linewidth=.9)\n",
    "    ax.set_ylim(ylim)\n",
    "    # statistical annotation\n",
    "    x1, x2 = 0, 3   # columns 'Sat' and 'Sun' (first column: 0, see plt.xticks())\n",
    "    y, h, col = wholetab['expression'].max() + compareheight1, 0.5, 'k'\n",
    "    plt.plot([x1, x1, x2, x2], [y, y+h, y+h, y], lw=0.5, c=col)\n",
    "    plt.text((x1+x2)*.1, y+h, 'FC ' +str('%0.4s'%fc1)+ ' \\n ****', ha='center', va='bottom', color=col,size=fontsize)\n",
    "    x1, x2 = 1, 3 \n",
    "    y, h, col = wholetab['expression'].max() + compareheight2, 0.5, 'k'\n",
    "    plt.plot([x1, x1, x2, x2], [y, y+h, y+h, y], lw=0.5, c=col)\n",
    "    plt.text((x1+x2)*.35, y+h, 'FC ' +str('%0.4s'%fc2)+ ' \\n ****', ha='center', va='bottom', color=col,size=fontsize)\n",
    "    x1, x2 = 2, 3 \n",
    "    y, h, col = wholetab['expression'].max() + compareheight3, 0.5, 'k'\n",
    "    plt.plot([x1, x1, x2, x2], [y, y+h, y+h, y], lw=0.5, c=col)\n",
    "    plt.text((x1+x2)*.5, y+h, 'FC ' +str('%0.4s'%fc3)+ ' \\n ****', ha='center', va='bottom', color=col,size=fontsize)\n",
    "interact(box_plot_stage,styind=FloatSlider(min=0,max=3,step=1,value=2),\n",
    "               contextind=FloatSlider(min=0,max=3,step=1,value=1),\n",
    "                width =FloatSlider(min=8,max=20,step=1,value=12),\n",
    "                 height= FloatSlider(min=4,max=10,step=1,value=6),\n",
    "         dotsize= FloatSlider(min=1,max=15,step=1,value=8),\n",
    "         fontsize= FloatSlider(min=8,max=30,step=2,value=12),\n",
    "         ylim=FloatRangeSlider(value=[-10, 25],min=-20,max=30.0,step=3),\n",
    "            showdot=RadioButtons(options=['yes','no']),\n",
    "          showbox=RadioButtons(options=['yes','no']),\n",
    "        compareheight1=FloatSlider(min=1,max=10,step=1,value=1),\n",
    "         compareheight2=FloatSlider(min=1,max=10,step=1,value=3),\n",
    "         compareheight3=FloatSlider(min=1,max=10,step=1,value=5),\n",
    "        boxwidth= FloatSlider(min=0.05,max=1,step=0.05,value=0.5),\n",
    "        box_violin = Dropdown(options=['box','violin'],value='box'),\n",
    "        palettesind=IntSlider(min=0,max=len(palettes)-1,step=1,value=4),\n",
    "        saturation=FloatSlider(min=0,max=1,step=0.1,value=0.8))"
   ]
  },
  {
   "cell_type": "code",
   "execution_count": 150,
   "metadata": {},
   "outputs": [
    {
     "data": {
      "image/png": "[encoded data removed]",
      "text/plain": [
       "<matplotlib.figure.Figure at 0x7f6925ac2b90>"
      ]
     },
     "metadata": {},
     "output_type": "display_data"
    }
   ],
   "source": [
    "box_plot_stage(2,1,12,6,'yes','no',1,12,[-10,25],1,3,5,0.2,'box',4,1)"
   ]
  },
  {
   "cell_type": "markdown",
   "metadata": {},
   "source": [
    "#####  rocplot fig2"
   ]
  },
  {
   "cell_type": "code",
   "execution_count": 151,
   "metadata": {},
   "outputs": [
    {
     "data": {
      "application/vnd.jupyter.widget-view+json": {
       "model_id": "e151d1dcba814afc995718bcc560e3d0",
       "version_major": 2,
       "version_minor": 0
      },
      "text/html": [
       "<p>Failed to display Jupyter Widget of type <code>interactive</code>.</p>\n",
       "<p>\n",
       "  If you're reading this message in the Jupyter Notebook or JupyterLab Notebook, it may mean\n",
       "  that the widgets JavaScript is still loading. If this message persists, it\n",
       "  likely means that the widgets JavaScript library is either not installed or\n",
       "  not enabled. See the <a href=\"https://ipywidgets.readthedocs.io/en/stable/user_install.html\">Jupyter\n",
       "  Widgets Documentation</a> for setup instructions.\n",
       "</p>\n",
       "<p>\n",
       "  If you're reading this message in another frontend (for example, a static\n",
       "  rendering on GitHub or <a href=\"https://nbviewer.jupyter.org/\">NBViewer</a>),\n",
       "  it may mean that your frontend doesn't currently support widgets.\n",
       "</p>\n"
      ],
      "text/plain": [
       "interactive(children=(FloatSlider(value=2.0, description=u'styind', max=3.0, step=1.0), FloatSlider(value=0.0, description=u'contextind', max=3.0, step=1.0), FloatSlider(value=8.0, description=u'width', max=16.0, min=6.0, step=1.0), FloatSlider(value=8.0, description=u'height', max=16.0, min=6.0, step=1.0), FloatSlider(value=1.5, description=u'linewid', max=4.0, min=1.0, step=0.3), SelectMultiple(description=u'color', index=(0, 1, 2, 4), options=('b', 'g', 'r', 'c', 'm', 'y', 'k', 'w'), value=('b', 'g', 'r', 'm')), FloatSlider(value=1.5, description=u'linewid2', max=4.0, min=1.0, step=0.3), Dropdown(description=u'color2', options=('b', 'g', 'r', 'c', 'm', 'y', 'k', 'w'), value='b'), FloatSlider(value=0.5, description=u'transparency', max=1.0, step=0.05), FloatSlider(value=10.0, description=u'fontsize', max=20.0, min=6.0, step=1.0), RadioButtons(description=u'showmetrics', options=('yes', 'no'), value='yes'), Output()), _dom_classes=('widget-interact',))"
      ]
     },
     "metadata": {},
     "output_type": "display_data"
    },
    {
     "data": {
      "text/plain": [
       "<function __main__.rocplot_stage>"
      ]
     },
     "execution_count": 151,
     "metadata": {},
     "output_type": "execute_result"
    }
   ],
   "source": [
    "aucspesenarr = np.concatenate((np.array(find_metrics_best(np.concatenate((np.ones([stageA.shape[0]]),np.zeros([health.shape[0]]))),np.concatenate((stageA,health)))).reshape(1,-1),\n",
    "                np.array(find_metrics_best(np.concatenate((np.ones([stageB.shape[0]]),np.zeros([health.shape[0]]))),np.concatenate((stageB,health)))).reshape(1,-1),\n",
    "                np.array(find_metrics_best(np.concatenate((np.ones([stageC.shape[0]]),np.zeros([health.shape[0]]))),np.concatenate((stageC,health)))).reshape(1,-1),\n",
    "                             np.array(find_metrics_best(np.concatenate((np.ones([hcc.shape[0]]),np.zeros([health.shape[0]]))),np.concatenate((hcc,health)))).reshape(1,-1)\n",
    "               ))\n",
    "auc,spe,sen= {},{},{}\n",
    "for i in range(4):\n",
    "    auc[i],spe[i],sen[i] = aucspesenarr[i][0],aucspesenarr[i][1],aucspesenarr[i][2]\n",
    "label1 = ['Stage A','Stage B','Stage C','HCC']\n",
    "label2 = ['AUC: ' + str('%0.4s'%auc[i]) +' ['+str('%0.4s'%spe[i])+' '+str('%0.4s'%sen[i])+']' for i in range(4)]\n",
    "\n",
    "def rocplot_stage(styind,contextind,width,height,linewid,color,linewid2,color2,transparency,fontsize,showmetrics):\n",
    "    sns.set_context(contexts[int(contextind)])\n",
    "    sns.set_style(styles[int(styind)])\n",
    "    fig, ax = plt.subplots(figsize=(width,height))\n",
    "    if len(color) !=4:\n",
    "        color = ['r','g','b','m']\n",
    "    if showmetrics =='yes':\n",
    "        labels = [label1[i] +'\\n'+label2[i] for i in range(4)]\n",
    "    else:\n",
    "        labels = [label1[i] for i in range(4)]\n",
    "    a,b,_ = roc_curve(np.concatenate((np.ones([stageA.shape[0]]),np.zeros([health.shape[0]]))),np.concatenate((stageA,health)))   \n",
    "    ax.plot(a,b,linewidth=linewid,color=color[0],label=labels[0])\n",
    "    a,b,_ = roc_curve(np.concatenate((np.ones([stageB.shape[0]]),np.zeros([health.shape[0]]))),np.concatenate((stageB,health)))   \n",
    "    ax.plot(a,b,linewidth=linewid,color=color[1],label=labels[1])\n",
    "    a,b,_ = roc_curve(np.concatenate((np.ones([stageC.shape[0]]),np.zeros([health.shape[0]]))),np.concatenate((stageC,health)))   \n",
    "    ax.plot(a,b,linewidth=linewid,color=color[2],label=labels[2])\n",
    "    a,b,_ = roc_curve(np.concatenate((np.ones([hcc.shape[0]]),np.zeros([health.shape[0]]))),np.concatenate((hcc,health)))   \n",
    "    ax.plot(a,b,linewidth=linewid,color=color[3],label=labels[3])\n",
    "    ax.legend(prop={'size': fontsize})\n",
    "    #ax.plot(b,a,linewidth=linewid,color=color,linestyle='dashed') #solid’ | ‘dashed’, ‘dashdot’, ‘dotted\n",
    "    ax.plot([0,1],[0,1], linewidth=linewid2,alpha=transparency,color=color2,linestyle='--')\n",
    "interact(rocplot_stage,styind=FloatSlider(min=0,max=3,step=1,value=2),\n",
    "               contextind=FloatSlider(min=0,max=3,step=1),\n",
    "                width =FloatSlider(min=6,max=16,step=1,value=8),\n",
    "                 height= FloatSlider(min=6,max=16,step=1,value=8),\n",
    "        linewid= FloatSlider(min=1,max=4,step=0.3,value=1.5),\n",
    "        color=SelectMultiple(options=['b', 'g', 'r', 'c', 'm', 'y', 'k', 'w'],value=('b', 'g', 'r','m')),\n",
    "        linewid2= FloatSlider(min=1,max=4,step=0.3,value=1.5),\n",
    "         fontsize= FloatSlider(min=6,max=20,step=1,value=10),\n",
    "        transparency=FloatSlider(min=0,max=1,step=0.05,value=0.5),\n",
    "        color2=Dropdown(options=['b', 'g', 'r', 'c', 'm', 'y', 'k', 'w']),\n",
    "        showmetrics=RadioButtons(options=['yes','no']))"
   ]
  },
  {
   "cell_type": "code",
   "execution_count": 154,
   "metadata": {},
   "outputs": [
    {
     "data": {
      "image/png": "[encoded data removed]",
      "text/plain": [
       "<matplotlib.figure.Figure at 0x7f6925f2a090>"
      ]
     },
     "metadata": {},
     "output_type": "display_data"
    }
   ],
   "source": [
    "rocplot_stage(0,0,8,8,1.5,['b','g','r','m'],1.5,'b',0.5,10,'no')"
   ]
  },
  {
   "cell_type": "code",
   "execution_count": 153,
   "metadata": {},
   "outputs": [
    {
     "data": {
      "text/html": [
       "<div>\n",
       "<style scoped>\n",
       "    .dataframe tbody tr th:only-of-type {\n",
       "        vertical-align: middle;\n",
       "    }\n",
       "\n",
       "    .dataframe tbody tr th {\n",
       "        vertical-align: top;\n",
       "    }\n",
       "\n",
       "    .dataframe thead th {\n",
       "        text-align: right;\n",
       "    }\n",
       "</style>\n",
       "<table border=\"1\" class=\"dataframe\">\n",
       "  <thead>\n",
       "    <tr style=\"text-align: right;\">\n",
       "      <th></th>\n",
       "      <th>AUC</th>\n",
       "      <th>Specificity</th>\n",
       "      <th>Sensitivity</th>\n",
       "    </tr>\n",
       "  </thead>\n",
       "  <tbody>\n",
       "    <tr>\n",
       "      <th>stageA</th>\n",
       "      <td>0.691667</td>\n",
       "      <td>0.825000</td>\n",
       "      <td>0.566667</td>\n",
       "    </tr>\n",
       "    <tr>\n",
       "      <th>stageB</th>\n",
       "      <td>0.764444</td>\n",
       "      <td>0.800000</td>\n",
       "      <td>0.600000</td>\n",
       "    </tr>\n",
       "    <tr>\n",
       "      <th>stageC</th>\n",
       "      <td>0.752381</td>\n",
       "      <td>0.500000</td>\n",
       "      <td>0.933333</td>\n",
       "    </tr>\n",
       "    <tr>\n",
       "      <th>HCC</th>\n",
       "      <td>0.727778</td>\n",
       "      <td>0.845238</td>\n",
       "      <td>0.566667</td>\n",
       "    </tr>\n",
       "  </tbody>\n",
       "</table>\n",
       "</div>"
      ],
      "text/plain": [
       "             AUC  Specificity  Sensitivity\n",
       "stageA  0.691667     0.825000     0.566667\n",
       "stageB  0.764444     0.800000     0.600000\n",
       "stageC  0.752381     0.500000     0.933333\n",
       "HCC     0.727778     0.845238     0.566667"
      ]
     },
     "execution_count": 153,
     "metadata": {},
     "output_type": "execute_result"
    }
   ],
   "source": [
    "pd.DataFrame(np.concatenate((np.array(find_metrics_best(np.concatenate((np.ones([stageA.shape[0]]),np.zeros([health.shape[0]]))),np.concatenate((stageA,health)))).reshape(1,-1),\n",
    "                np.array(find_metrics_best(np.concatenate((np.ones([stageB.shape[0]]),np.zeros([health.shape[0]]))),np.concatenate((stageB,health)))).reshape(1,-1),\n",
    "                np.array(find_metrics_best(np.concatenate((np.ones([stageC.shape[0]]),np.zeros([health.shape[0]]))),np.concatenate((stageC,health)))).reshape(1,-1),\n",
    "                             np.array(find_metrics_best(np.concatenate((np.ones([hcc.shape[0]]),np.zeros([health.shape[0]]))),np.concatenate((hcc,health)))).reshape(1,-1)\n",
    "               )),columns=['AUC','Specificity','Sensitivity'],\n",
    "             index=['stageA','stageB','stageC','HCC'])\n"
   ]
  },
  {
   "cell_type": "markdown",
   "metadata": {},
   "source": [
    "### plot fig3"
   ]
  },
  {
   "cell_type": "code",
   "execution_count": 131,
   "metadata": {},
   "outputs": [
    {
     "data": {
      "text/html": [
       "<div>\n",
       "<style scoped>\n",
       "    .dataframe tbody tr th:only-of-type {\n",
       "        vertical-align: middle;\n",
       "    }\n",
       "\n",
       "    .dataframe tbody tr th {\n",
       "        vertical-align: top;\n",
       "    }\n",
       "\n",
       "    .dataframe thead th {\n",
       "        text-align: right;\n",
       "    }\n",
       "</style>\n",
       "<table border=\"1\" class=\"dataframe\">\n",
       "  <thead>\n",
       "    <tr style=\"text-align: right;\">\n",
       "      <th></th>\n",
       "      <th>S-Health</th>\n",
       "      <th>S-HBV</th>\n",
       "      <th>S-HCC</th>\n",
       "      <th>L-Health</th>\n",
       "      <th>L-HBV</th>\n",
       "      <th>L-HCC</th>\n",
       "    </tr>\n",
       "  </thead>\n",
       "  <tbody>\n",
       "    <tr>\n",
       "      <th>0</th>\n",
       "      <td>10.95</td>\n",
       "      <td>9.62</td>\n",
       "      <td>12.23</td>\n",
       "      <td>5.73</td>\n",
       "      <td>6.41</td>\n",
       "      <td>7.18</td>\n",
       "    </tr>\n",
       "    <tr>\n",
       "      <th>1</th>\n",
       "      <td>9.26</td>\n",
       "      <td>11.67</td>\n",
       "      <td>12.38</td>\n",
       "      <td>3.20</td>\n",
       "      <td>3.73</td>\n",
       "      <td>7.52</td>\n",
       "    </tr>\n",
       "  </tbody>\n",
       "</table>\n",
       "</div>"
      ],
      "text/plain": [
       "   S-Health  S-HBV  S-HCC  L-Health  L-HBV  L-HCC\n",
       "0     10.95   9.62  12.23      5.73   6.41   7.18\n",
       "1      9.26  11.67  12.38      3.20   3.73   7.52"
      ]
     },
     "execution_count": 131,
     "metadata": {},
     "output_type": "execute_result"
    }
   ],
   "source": [
    "datatable3.head(2)"
   ]
  },
  {
   "cell_type": "code",
   "execution_count": 132,
   "metadata": {},
   "outputs": [
    {
     "name": "stdout",
     "output_type": "stream",
     "text": [
      "S hcc vs health p value: 4.762608871459029e-05\n",
      "S hcc vs health_hbv p value: 1.0474024611826171e-07\n",
      "L hcc vs health p value: 0.00026816403903172196\n",
      "L hcc vs health_hbv p value: 7.750174354805054e-07\n",
      "S hcc vs health fold change: 2.0852205745985843\n",
      "S hcc vs health_hbv fold change: 2.2771037098732063\n",
      "L hcc vs health fold change: 2.2816328631265894\n",
      "L hcc vs health_hbv fold change: 3.4933228946180916\n"
     ]
    }
   ],
   "source": [
    "S_HCC = np.array(datatable3['S-HCC'])\n",
    "S_HCC = S_HCC[~np.isnan(S_HCC)]\n",
    "S_Normal = np.array(datatable3['S-Health'])\n",
    "S_Normal = S_Normal[~np.isnan(S_Normal)]\n",
    "S_HBV_Normal = np.concatenate((np.array(datatable3['S-Health']),np.array(datatable3['S-HBV'])))\n",
    "S_HBV_Normal = S_HBV_Normal[~np.isnan(S_HBV_Normal)]\n",
    "\n",
    "L_HCC = np.array(datatable3['L-HCC'])\n",
    "L_HCC = L_HCC[~np.isnan(L_HCC)]\n",
    "L_Normal = np.array(datatable3['L-Health'])\n",
    "L_Normal = L_Normal[~np.isnan(L_Normal)]\n",
    "L_HBV_Normal = np.concatenate((np.array(datatable3['L-Health']),np.array(datatable3['L-HBV'])))\n",
    "L_HBV_Normal = L_HBV_Normal[~np.isnan(L_HBV_Normal)]\n",
    "\n",
    "S_HCCtab = pd.DataFrame(np.concatenate((np.repeat('S_HCC',S_HCC.shape[0]).reshape(-1,1),\n",
    "                                        S_HCC.reshape(-1,1)),axis=1))\n",
    "S_Normaltab = pd.DataFrame(np.concatenate((np.repeat('S_Normal',S_Normal.shape[0]).reshape(-1,1),\n",
    "                                        S_Normal.reshape(-1,1)),axis=1))\n",
    "S_HBV_Normaltab = pd.DataFrame(np.concatenate((np.repeat('S_HBV_Normal',S_HBV_Normal.shape[0]).reshape(-1,1),\n",
    "                                        S_HBV_Normal.reshape(-1,1)),axis=1))\n",
    "\n",
    "L_HCCtab = pd.DataFrame(np.concatenate((np.repeat('L_HCC',L_HCC.shape[0]).reshape(-1,1),\n",
    "                                        L_HCC.reshape(-1,1)),axis=1))\n",
    "L_Normaltab = pd.DataFrame(np.concatenate((np.repeat('L_Normal',L_Normal.shape[0]).reshape(-1,1),\n",
    "                                        L_Normal.reshape(-1,1)),axis=1))\n",
    "L_HBV_Normaltab = pd.DataFrame(np.concatenate((np.repeat('L_HBV_Normal',L_HBV_Normal.shape[0]).reshape(-1,1),\n",
    "                                        L_HBV_Normal.reshape(-1,1)),axis=1))\n",
    "\n",
    "\n",
    "\n",
    "wholetab2 = pd.concat((S_HCCtab,S_Normaltab,S_HBV_Normaltab,L_HCCtab,L_Normaltab,L_HBV_Normaltab),axis=0)\n",
    "wholetab2.columns = ['sample','expression']\n",
    "wholetab2['expression'] = pd.to_numeric(wholetab2['expression'])\n",
    "wholetab2.head()\n",
    "\n",
    "\n",
    "import scipy.stats as ss\n",
    "print ('S hcc vs health p value: '+ str(ss.ranksums(S_HCC,S_Normal)[1]))\n",
    "print ('S hcc vs health_hbv p value: '+ str(ss.ranksums(S_HCC,S_HBV_Normal)[1]))\n",
    "print ('L hcc vs health p value: '+ str(ss.ranksums(L_HCC,L_Normal)[1]))\n",
    "print ('L hcc vs health_hbv p value: '+ str(ss.ranksums(L_HCC,L_HBV_Normal)[1]))\n",
    "\n",
    "fc1 = calculate_fc(S_HCC,S_Normal)\n",
    "fc2 = calculate_fc(S_HCC,S_HBV_Normal)\n",
    "fc3 = calculate_fc(L_HCC,L_Normal)\n",
    "fc4 = calculate_fc(L_HCC,L_HBV_Normal)\n",
    "print ('S hcc vs health fold change: '+ str(fc1))\n",
    "print ('S hcc vs health_hbv fold change: '+ str(fc2))\n",
    "print ('L hcc vs health fold change: '+ str(fc3))\n",
    "print ('L hcc vs health_hbv fold change: '+ str(fc4))\n",
    "\n"
   ]
  },
  {
   "cell_type": "markdown",
   "metadata": {},
   "source": [
    "#####  boxplot fig3\n",
    "S domain 和 full length 中 HCC对normal以及HCC对(normal+HBV)"
   ]
  },
  {
   "cell_type": "code",
   "execution_count": 133,
   "metadata": {},
   "outputs": [
    {
     "data": {
      "application/vnd.jupyter.widget-view+json": {
       "model_id": "5c80b5f33b00419ead953db646eac686",
       "version_major": 2,
       "version_minor": 0
      },
      "text/html": [
       "<p>Failed to display Jupyter Widget of type <code>interactive</code>.</p>\n",
       "<p>\n",
       "  If you're reading this message in the Jupyter Notebook or JupyterLab Notebook, it may mean\n",
       "  that the widgets JavaScript is still loading. If this message persists, it\n",
       "  likely means that the widgets JavaScript library is either not installed or\n",
       "  not enabled. See the <a href=\"https://ipywidgets.readthedocs.io/en/stable/user_install.html\">Jupyter\n",
       "  Widgets Documentation</a> for setup instructions.\n",
       "</p>\n",
       "<p>\n",
       "  If you're reading this message in another frontend (for example, a static\n",
       "  rendering on GitHub or <a href=\"https://nbviewer.jupyter.org/\">NBViewer</a>),\n",
       "  it may mean that your frontend doesn't currently support widgets.\n",
       "</p>\n"
      ],
      "text/plain": [
       "interactive(children=(FloatSlider(value=2.0, description=u'styind', max=3.0, step=1.0), FloatSlider(value=1.0, description=u'contextind', max=3.0, step=1.0), FloatSlider(value=12.0, description=u'width', max=20.0, min=8.0, step=1.0), FloatSlider(value=6.0, description=u'height', max=10.0, min=4.0, step=1.0), RadioButtons(description=u'showdot', options=('yes', 'no'), value='yes'), RadioButtons(description=u'showbox', options=('yes', 'no'), value='yes'), FloatSlider(value=5.0, description=u'dotsize', max=8.0, min=1.0, step=1.0), FloatSlider(value=12.0, description=u'fontsize', max=30.0, min=8.0, step=2.0), FloatRangeSlider(value=(-10.0, 25.0), description=u'ylim', max=30.0, min=-20.0, step=3.0), FloatSlider(value=0.6, description=u'boxwidth', max=1.0, min=0.05, step=0.05), Dropdown(description=u'box_violin', index=1, options=('box', 'violin'), value='violin'), FloatSlider(value=3.0, description=u'compareheight1', max=10.0, min=3.0, step=1.0), FloatSlider(value=6.0, description=u'compareheight2', max=10.0, min=3.0, step=1.0), FloatSlider(value=3.0, description=u'compareheight3', max=10.0, min=3.0, step=1.0), FloatSlider(value=6.0, description=u'compareheight4', max=10.0, min=3.0, step=1.0), IntSlider(value=4, description=u'palettesind', max=12), FloatSlider(value=0.8, description=u'saturation', max=1.0), Output()), _dom_classes=('widget-interact',))"
      ]
     },
     "metadata": {},
     "output_type": "display_data"
    },
    {
     "data": {
      "text/plain": [
       "<function __main__.box_plot_2>"
      ]
     },
     "execution_count": 133,
     "metadata": {},
     "output_type": "execute_result"
    }
   ],
   "source": [
    "def box_plot_2(styind,contextind,width,height,showdot,showbox,dotsize,fontsize,\n",
    "               ylim,boxwidth,box_violin,compareheight1,compareheight2,compareheight3,compareheight4,palettesind,saturation):\n",
    "    sns.set_context(contexts[int(contextind)])\n",
    "    sns.set_style(styles[int(styind)])\n",
    "\n",
    "\n",
    "    fig, ax = plt.subplots(figsize=(width,height))\n",
    "    if showbox =='yes':\n",
    "        if box_violin=='violin':\n",
    "            sns.violinplot(ax=ax,x=\"sample\", y=\"expression\", data=wholetab2, palette=palettes[palettesind],width=boxwidth,saturation=saturation)\n",
    "        elif box_violin=='box':\n",
    "            sns.boxplot(ax=ax,x=\"sample\", y=\"expression\", data=wholetab2, palette=palettes[palettesind],width=boxwidth,saturation=saturation)\n",
    "\n",
    "    if showdot =='yes':\n",
    "        sns.swarmplot(x=\"sample\", y=\"expression\", data=wholetab2, size=dotsize, edgecolor=\"black\", linewidth=.9)\n",
    "    ax.set_ylim(ylim)\n",
    "    # statistical annotation\n",
    "    x1, x2 = 0, 1   # columns 'Sat' and 'Sun' (first column: 0, see plt.xticks())\n",
    "    y, h, col = wholetab2['expression'].max() + compareheight1, 0.5, 'k'\n",
    "    plt.plot([x1, x1, x2, x2], [y, y+h, y+h, y], lw=0.5, c=col)\n",
    "    plt.text((x1+x2)*.5, y+h, 'FC ' +str('%0.4s'%fc1)+ '\\n ****', ha='center', va='bottom', color=col,size=fontsize)\n",
    "    x1, x2 = 0, 2\n",
    "    y, h, col = wholetab2['expression'].max() + compareheight2, 0.5, 'k'\n",
    "    plt.plot([x1, x1, x2, x2], [y, y+h, y+h, y], lw=0.5, c=col)\n",
    "    plt.text((x1+x2)*.5, y+h, 'FC ' +str('%0.4s'%fc2)+ ' \\n ****', ha='center', va='bottom', color=col,size=fontsize)\n",
    "    x1, x2 = 3, 4 \n",
    "    y, h, col = wholetab2['expression'].max() + compareheight3, 0.5, 'k'\n",
    "    plt.plot([x1, x1, x2, x2], [y, y+h, y+h, y], lw=0.5, c=col)\n",
    "    plt.text((x1+x2)*.5, y+h, 'FC ' +str('%0.4s'%fc3)+ ' \\n ****', ha='center', va='bottom', color=col,size=fontsize)\n",
    "    x1, x2 = 3, 5\n",
    "    y, h, col = wholetab2['expression'].max() + compareheight4, 0.5, 'k'\n",
    "    plt.plot([x1, x1, x2, x2], [y, y+h, y+h, y], lw=0.5, c=col)\n",
    "    plt.text((x1+x2)*.5, y+h, 'FC ' +str('%0.4s'%fc4)+ ' \\n ****', ha='center', va='bottom', color=col,size=fontsize)\n",
    "interact(box_plot_2,styind=FloatSlider(min=0,max=3,step=1,value=2),\n",
    "               contextind=FloatSlider(min=0,max=3,step=1,value=1),\n",
    "                width =FloatSlider(min=8,max=20,step=1,value=12),\n",
    "                 height= FloatSlider(min=4,max=10,step=1,value=6),\n",
    "         boxwidth= FloatSlider(min=0.05,max=1,step=0.05,value=0.6),\n",
    "         dotsize= FloatSlider(min=1,max=8,step=1,value=5),\n",
    "         fontsize= FloatSlider(min=8,max=30,step=2,value=12),\n",
    "         ylim=FloatRangeSlider(value=[-10, 25],min=-20,max=30.0,step=3),\n",
    "            showdot=RadioButtons(options=['yes','no']),\n",
    "         showbox=RadioButtons(options=['yes','no']),\n",
    "        box_violin = Dropdown(options=['box','violin'],value='violin'),\n",
    "         compareheight1=FloatSlider(min=3,max=10,step=1,value=3),\n",
    "         compareheight2=FloatSlider(min=3,max=10,step=1,value=6),\n",
    "         compareheight3=FloatSlider(min=3,max=10,step=1,value=3),\n",
    "        compareheight4=FloatSlider(min=3,max=10,step=1,value=6),\n",
    "        palettesind=IntSlider(min=0,max=len(palettes)-1,step=1,value=4),\n",
    "        saturation=FloatSlider(min=0,max=1,step=0.1,value=0.8))\n"
   ]
  },
  {
   "cell_type": "code",
   "execution_count": 134,
   "metadata": {},
   "outputs": [
    {
     "data": {
      "image/png": "[encoded data removed]",
      "text/plain": [
       "<matplotlib.figure.Figure at 0x7f6926a70250>"
      ]
     },
     "metadata": {},
     "output_type": "display_data"
    }
   ],
   "source": [
    "box_plot_2(3,1,12,6,'yes','no',5,12,[-10,25],0.6,'violin',3,6,3,6,4,0.8)"
   ]
  },
  {
   "cell_type": "markdown",
   "metadata": {},
   "source": [
    "#####  rocplot fig3"
   ]
  },
  {
   "cell_type": "code",
   "execution_count": null,
   "metadata": {},
   "outputs": [],
   "source": []
  },
  {
   "cell_type": "code",
   "execution_count": 135,
   "metadata": {},
   "outputs": [
    {
     "data": {
      "application/vnd.jupyter.widget-view+json": {
       "model_id": "6f1447d1abbf4195ac0f8d54977b840b",
       "version_major": 2,
       "version_minor": 0
      },
      "text/html": [
       "<p>Failed to display Jupyter Widget of type <code>interactive</code>.</p>\n",
       "<p>\n",
       "  If you're reading this message in the Jupyter Notebook or JupyterLab Notebook, it may mean\n",
       "  that the widgets JavaScript is still loading. If this message persists, it\n",
       "  likely means that the widgets JavaScript library is either not installed or\n",
       "  not enabled. See the <a href=\"https://ipywidgets.readthedocs.io/en/stable/user_install.html\">Jupyter\n",
       "  Widgets Documentation</a> for setup instructions.\n",
       "</p>\n",
       "<p>\n",
       "  If you're reading this message in another frontend (for example, a static\n",
       "  rendering on GitHub or <a href=\"https://nbviewer.jupyter.org/\">NBViewer</a>),\n",
       "  it may mean that your frontend doesn't currently support widgets.\n",
       "</p>\n"
      ],
      "text/plain": [
       "interactive(children=(FloatSlider(value=3.0, description=u'styind', max=3.0, step=1.0), FloatSlider(value=1.0, description=u'contextind', max=3.0, step=1.0), FloatSlider(value=8.0, description=u'width', max=16.0, min=6.0, step=1.0), FloatSlider(value=8.0, description=u'height', max=16.0, min=6.0, step=1.0), FloatSlider(value=1.5, description=u'linewid', max=4.0, min=1.0, step=0.3), SelectMultiple(description=u'color', index=(0, 1, 2, 4), options=('b', 'g', 'r', 'c', 'm', 'y', 'k', 'w'), value=('b', 'g', 'r', 'm')), FloatSlider(value=1.5, description=u'linewid2', max=4.0, min=1.0, step=0.3), Dropdown(description=u'color2', options=('b', 'g', 'r', 'c', 'm', 'y', 'k', 'w'), value='b'), FloatSlider(value=0.5, description=u'transparency', max=1.0, step=0.05), FloatSlider(value=10.0, description=u'fontsize', max=20.0, min=6.0, step=1.0), RadioButtons(description=u'showmetrics', options=('yes', 'no'), value='yes'), Output()), _dom_classes=('widget-interact',))"
      ]
     },
     "metadata": {},
     "output_type": "display_data"
    },
    {
     "data": {
      "text/plain": [
       "<function __main__.rocplot2>"
      ]
     },
     "execution_count": 135,
     "metadata": {},
     "output_type": "execute_result"
    }
   ],
   "source": [
    "aucspesenarr = np.concatenate((np.array(find_metrics_best(np.concatenate((np.ones([S_HCC.shape[0]]),np.zeros([S_Normal.shape[0]]))),np.concatenate((S_HCC,S_Normal)))).reshape(1,-1),\n",
    "                np.array(find_metrics_best(np.concatenate((np.ones([S_HCC.shape[0]]),np.zeros([S_HBV_Normal.shape[0]]))),np.concatenate((S_HCC,S_HBV_Normal)))).reshape(1,-1),\n",
    "               np.array(find_metrics_best(np.concatenate((np.ones([L_HCC.shape[0]]),np.zeros([L_Normal.shape[0]]))),np.concatenate((L_HCC,L_Normal)))).reshape(1,-1),\n",
    "                np.array(find_metrics_best(np.concatenate((np.ones([L_HCC.shape[0]]),np.zeros([L_HBV_Normal.shape[0]]))),np.concatenate((L_HCC,L_HBV_Normal)))).reshape(1,-1)\n",
    "               ))\n",
    "auc,spe,sen= {},{},{}\n",
    "for i in range(4):\n",
    "    auc[i],spe[i],sen[i] = aucspesenarr[i][0],aucspesenarr[i][1],aucspesenarr[i][2]\n",
    "label1 = ['S -HBV','S +HBV','L -HBV','L +HBV']\n",
    "label2 = ['AUC: ' + str('%0.4s'%auc[i]) +' ['+str('%0.4s'%spe[i])+' '+str('%0.4s'%sen[i])+']' for i in range(4)]\n",
    "\n",
    "\n",
    "def rocplot2(styind,contextind,width,height,linewid,color,linewid2,color2,transparency,fontsize,showmetrics):\n",
    "    sns.set_context(contexts[int(contextind)])\n",
    "    sns.set_style(styles[int(styind)])\n",
    "    fig, ax = plt.subplots(figsize=(width,height))\n",
    "    if len(color) !=3:\n",
    "        color = ['r','g','b','m']\n",
    "    if showmetrics =='yes':\n",
    "        labels = [label1[i] +'\\n'+label2[i] for i in range(4)]\n",
    "    else:\n",
    "        labels = [label1[i] for i in range(4)]\n",
    "    a,b,_ = roc_curve(np.concatenate((np.ones([S_HCC.shape[0]]),np.zeros([S_Normal.shape[0]]))),np.concatenate((S_HCC,S_Normal)))   \n",
    "    ax.plot(a,b,linewidth=linewid,color=color[0],label=labels[0])\n",
    "    a,b,_ = roc_curve(np.concatenate((np.ones([S_HCC.shape[0]]),np.zeros([S_HBV_Normal.shape[0]]))),np.concatenate((S_HCC,S_HBV_Normal)))   \n",
    "    ax.plot(a,b,linewidth=linewid,color=color[1],label=labels[1])\n",
    "    a,b,_ = roc_curve(np.concatenate((np.ones([L_HCC.shape[0]]),np.zeros([L_Normal.shape[0]]))),np.concatenate((L_HCC,L_Normal)))   \n",
    "    ax.plot(a,b,linewidth=linewid,color=color[2],label=labels[2])\n",
    "    a,b,_ = roc_curve(np.concatenate((np.ones([L_HCC.shape[0]]),np.zeros([L_HBV_Normal.shape[0]]))),np.concatenate((L_HCC,L_HBV_Normal)))   \n",
    "    ax.plot(a,b,linewidth=linewid,color=color[3],label=labels[3])\n",
    "    ax.legend(prop={'size': fontsize})\n",
    "    #ax.plot(b,a,linewidth=linewid,color=color,linestyle='dashed') #solid’ | ‘dashed’, ‘dashdot’, ‘dotted\n",
    "    ax.plot([0,1],[0,1], linewidth=linewid2,alpha=transparency,color=color2,linestyle='--')\n",
    "interact(rocplot2,styind=FloatSlider(min=0,max=3,step=1,value=3),\n",
    "               contextind=FloatSlider(min=0,max=3,step=1,value=1),\n",
    "                width =FloatSlider(min=6,max=16,step=1,value=8),\n",
    "                 height= FloatSlider(min=6,max=16,step=1,value=8),\n",
    "        linewid= FloatSlider(min=1,max=4,step=0.3,value=1.5),\n",
    "        color=SelectMultiple(options=['b', 'g', 'r', 'c', 'm', 'y', 'k', 'w'],value=('b', 'g', 'r','m')),\n",
    "        linewid2= FloatSlider(min=1,max=4,step=0.3,value=1.5),\n",
    "         fontsize= FloatSlider(min=6,max=20,step=1,value=10),\n",
    "        transparency=FloatSlider(min=0,max=1,step=0.05,value=0.5),\n",
    "        color2=Dropdown(options=['b', 'g', 'r', 'c', 'm', 'y', 'k', 'w']),\n",
    "        showmetrics=RadioButtons(options=['yes','no']))"
   ]
  },
  {
   "cell_type": "code",
   "execution_count": 136,
   "metadata": {},
   "outputs": [
    {
     "data": {
      "image/png": "[encoded data removed]",
      "text/plain": [
       "<matplotlib.figure.Figure at 0x7f69267328d0>"
      ]
     },
     "metadata": {},
     "output_type": "display_data"
    }
   ],
   "source": [
    "rocplot2(3,3,8,8,1.5,['b','g','r','m'],1.5,'b',0.5,10,'yes')"
   ]
  },
  {
   "cell_type": "code",
   "execution_count": 137,
   "metadata": {},
   "outputs": [
    {
     "data": {
      "text/html": [
       "<div>\n",
       "<style scoped>\n",
       "    .dataframe tbody tr th:only-of-type {\n",
       "        vertical-align: middle;\n",
       "    }\n",
       "\n",
       "    .dataframe tbody tr th {\n",
       "        vertical-align: top;\n",
       "    }\n",
       "\n",
       "    .dataframe thead th {\n",
       "        text-align: right;\n",
       "    }\n",
       "</style>\n",
       "<table border=\"1\" class=\"dataframe\">\n",
       "  <thead>\n",
       "    <tr style=\"text-align: right;\">\n",
       "      <th></th>\n",
       "      <th>AUC</th>\n",
       "      <th>Specificity</th>\n",
       "      <th>Sensitivity</th>\n",
       "    </tr>\n",
       "  </thead>\n",
       "  <tbody>\n",
       "    <tr>\n",
       "      <th>S -HBV</th>\n",
       "      <td>0.745333</td>\n",
       "      <td>0.84</td>\n",
       "      <td>0.533333</td>\n",
       "    </tr>\n",
       "    <tr>\n",
       "      <th>S +HBV</th>\n",
       "      <td>0.766800</td>\n",
       "      <td>0.80</td>\n",
       "      <td>0.660000</td>\n",
       "    </tr>\n",
       "    <tr>\n",
       "      <th>L -HBV</th>\n",
       "      <td>0.719833</td>\n",
       "      <td>0.54</td>\n",
       "      <td>0.933333</td>\n",
       "    </tr>\n",
       "    <tr>\n",
       "      <th>L +HBV</th>\n",
       "      <td>0.747900</td>\n",
       "      <td>0.67</td>\n",
       "      <td>0.820000</td>\n",
       "    </tr>\n",
       "  </tbody>\n",
       "</table>\n",
       "</div>"
      ],
      "text/plain": [
       "             AUC  Specificity  Sensitivity\n",
       "S -HBV  0.745333         0.84     0.533333\n",
       "S +HBV  0.766800         0.80     0.660000\n",
       "L -HBV  0.719833         0.54     0.933333\n",
       "L +HBV  0.747900         0.67     0.820000"
      ]
     },
     "execution_count": 137,
     "metadata": {},
     "output_type": "execute_result"
    }
   ],
   "source": [
    "pd.DataFrame(np.concatenate((np.array(find_metrics_best(np.concatenate((np.ones([S_HCC.shape[0]]),np.zeros([S_Normal.shape[0]]))),np.concatenate((S_HCC,S_Normal)))).reshape(1,-1),\n",
    "                np.array(find_metrics_best(np.concatenate((np.ones([S_HCC.shape[0]]),np.zeros([S_HBV_Normal.shape[0]]))),np.concatenate((S_HCC,S_HBV_Normal)))).reshape(1,-1),\n",
    "               np.array(find_metrics_best(np.concatenate((np.ones([L_HCC.shape[0]]),np.zeros([L_Normal.shape[0]]))),np.concatenate((L_HCC,L_Normal)))).reshape(1,-1),\n",
    "                np.array(find_metrics_best(np.concatenate((np.ones([L_HCC.shape[0]]),np.zeros([L_HBV_Normal.shape[0]]))),np.concatenate((L_HCC,L_HBV_Normal)))).reshape(1,-1)\n",
    "               )),columns=['AUC','Specificity','Sensitivity'],\n",
    "             index=['S -HBV','S +HBV','L -HBV','L +HBV'])\n"
   ]
  },
  {
   "cell_type": "markdown",
   "metadata": {},
   "source": [
    "### plot fig4"
   ]
  },
  {
   "cell_type": "code",
   "execution_count": 138,
   "metadata": {},
   "outputs": [
    {
     "data": {
      "text/html": [
       "<div>\n",
       "<style scoped>\n",
       "    .dataframe tbody tr th:only-of-type {\n",
       "        vertical-align: middle;\n",
       "    }\n",
       "\n",
       "    .dataframe tbody tr th {\n",
       "        vertical-align: top;\n",
       "    }\n",
       "\n",
       "    .dataframe thead th {\n",
       "        text-align: right;\n",
       "    }\n",
       "</style>\n",
       "<table border=\"1\" class=\"dataframe\">\n",
       "  <thead>\n",
       "    <tr style=\"text-align: right;\">\n",
       "      <th></th>\n",
       "      <th>Alu domain-Health</th>\n",
       "      <th>Alu domain-HBV</th>\n",
       "      <th>Alu domain-HCC</th>\n",
       "      <th>S domain-Health</th>\n",
       "      <th>S domain-HBV</th>\n",
       "      <th>S domain-HCC</th>\n",
       "      <th>MIR192-Health</th>\n",
       "      <th>MIR192-HBV</th>\n",
       "      <th>MIR192-HCC</th>\n",
       "    </tr>\n",
       "  </thead>\n",
       "  <tbody>\n",
       "    <tr>\n",
       "      <th>0</th>\n",
       "      <td>3.75</td>\n",
       "      <td>2.55</td>\n",
       "      <td>8.74</td>\n",
       "      <td>7.20</td>\n",
       "      <td>1.09</td>\n",
       "      <td>8.60</td>\n",
       "      <td>2.74</td>\n",
       "      <td>2.97</td>\n",
       "      <td>0.87</td>\n",
       "    </tr>\n",
       "    <tr>\n",
       "      <th>1</th>\n",
       "      <td>1.41</td>\n",
       "      <td>5.37</td>\n",
       "      <td>3.79</td>\n",
       "      <td>5.39</td>\n",
       "      <td>2.14</td>\n",
       "      <td>4.85</td>\n",
       "      <td>-2.01</td>\n",
       "      <td>2.64</td>\n",
       "      <td>0.52</td>\n",
       "    </tr>\n",
       "    <tr>\n",
       "      <th>2</th>\n",
       "      <td>1.90</td>\n",
       "      <td>4.07</td>\n",
       "      <td>8.03</td>\n",
       "      <td>5.41</td>\n",
       "      <td>-5.32</td>\n",
       "      <td>9.24</td>\n",
       "      <td>-3.30</td>\n",
       "      <td>2.52</td>\n",
       "      <td>0.13</td>\n",
       "    </tr>\n",
       "    <tr>\n",
       "      <th>3</th>\n",
       "      <td>4.41</td>\n",
       "      <td>-5.49</td>\n",
       "      <td>0.59</td>\n",
       "      <td>9.01</td>\n",
       "      <td>4.00</td>\n",
       "      <td>2.26</td>\n",
       "      <td>2.31</td>\n",
       "      <td>1.79</td>\n",
       "      <td>-1.52</td>\n",
       "    </tr>\n",
       "    <tr>\n",
       "      <th>4</th>\n",
       "      <td>-4.12</td>\n",
       "      <td>1.32</td>\n",
       "      <td>6.80</td>\n",
       "      <td>5.44</td>\n",
       "      <td>5.51</td>\n",
       "      <td>7.76</td>\n",
       "      <td>-1.40</td>\n",
       "      <td>2.36</td>\n",
       "      <td>1.69</td>\n",
       "    </tr>\n",
       "  </tbody>\n",
       "</table>\n",
       "</div>"
      ],
      "text/plain": [
       "   Alu domain-Health  Alu domain-HBV  Alu domain-HCC  S domain-Health  \\\n",
       "0               3.75            2.55            8.74             7.20   \n",
       "1               1.41            5.37            3.79             5.39   \n",
       "2               1.90            4.07            8.03             5.41   \n",
       "3               4.41           -5.49            0.59             9.01   \n",
       "4              -4.12            1.32            6.80             5.44   \n",
       "\n",
       "   S domain-HBV  S domain-HCC  MIR192-Health  MIR192-HBV  MIR192-HCC  \n",
       "0          1.09          8.60           2.74        2.97        0.87  \n",
       "1          2.14          4.85          -2.01        2.64        0.52  \n",
       "2         -5.32          9.24          -3.30        2.52        0.13  \n",
       "3          4.00          2.26           2.31        1.79       -1.52  \n",
       "4          5.51          7.76          -1.40        2.36        1.69  "
      ]
     },
     "execution_count": 138,
     "metadata": {},
     "output_type": "execute_result"
    }
   ],
   "source": [
    "datatable4.head(5)"
   ]
  },
  {
   "cell_type": "code",
   "execution_count": 139,
   "metadata": {},
   "outputs": [
    {
     "name": "stdout",
     "output_type": "stream",
     "text": [
      "Alu hcc vs health p value: 0.23049048247732962\n",
      "Alu hcc vs health_hbv p value: 0.26600982978674426\n",
      "S hcc vs health p value: 0.0002652980819686067\n",
      "S hcc vs health_hbv p value: 1.329252212585876e-09\n",
      "MIR hcc vs health p value: 0.07284135727415071\n",
      "MIR hcc vs health_hbv p value: 0.31087318745731485\n",
      "Alu hcc vs health fold change: 1.7528064115687674\n",
      "Alu hcc vs health_hbv fold change: 1.8210871933934816\n",
      "S hcc vs health fold change: 10.290724855895078\n",
      "S hcc vs health_hbv fold change: 18.900328016358124\n",
      "MIR hcc vs health fold change: 2.156063995095727\n",
      "MIR hcc vs health_hbv fold change: 1.4965080091443426\n"
     ]
    }
   ],
   "source": [
    "Alu_HCC = np.array(datatable4['Alu domain-HCC'])\n",
    "Alu_HCC = Alu_HCC[~np.isnan(Alu_HCC)]\n",
    "Alu_Normal = np.array(datatable4['Alu domain-Health'])\n",
    "Alu_Normal = Alu_Normal[~np.isnan(Alu_Normal)]\n",
    "Alu_HBV_Normal = np.concatenate((np.array(datatable4['Alu domain-Health']),np.array(datatable4['Alu domain-HBV'])))\n",
    "Alu_HBV_Normal = Alu_HBV_Normal[~np.isnan(Alu_HBV_Normal)]\n",
    "\n",
    "S_HCC = np.array(datatable4['S domain-HCC'])\n",
    "S_HCC = S_HCC[~np.isnan(S_HCC)]\n",
    "S_Normal = np.array(datatable4['S domain-Health'])\n",
    "S_Normal = S_Normal[~np.isnan(S_Normal)]\n",
    "S_HBV_Normal = np.concatenate((np.array(datatable4['S domain-Health']),np.array(datatable4['S domain-HBV'])))\n",
    "S_HBV_Normal = S_HBV_Normal[~np.isnan(S_HBV_Normal)]\n",
    "\n",
    "MIR_HCC = np.array(datatable4['MIR192-HCC'])\n",
    "MIR_HCC = MIR_HCC[~np.isnan(MIR_HCC)]\n",
    "MIR_Normal = np.array(datatable4['MIR192-Health'])\n",
    "MIR_Normal = MIR_Normal[~np.isnan(MIR_Normal)]\n",
    "MIR_HBV_Normal = np.concatenate((np.array(datatable4['MIR192-Health']),np.array(datatable4['MIR192-HBV'])))\n",
    "MIR_HBV_Normal = MIR_HBV_Normal[~np.isnan(MIR_HBV_Normal)]\n",
    "\n",
    "Alu_HCCtab = pd.DataFrame(np.concatenate((np.repeat('Alu_HCC',Alu_HCC.shape[0]).reshape(-1,1),\n",
    "                                        Alu_HCC.reshape(-1,1)),axis=1))\n",
    "Alu_Normaltab = pd.DataFrame(np.concatenate((np.repeat('Alu_Normal',Alu_Normal.shape[0]).reshape(-1,1),\n",
    "                                        Alu_Normal.reshape(-1,1)),axis=1))\n",
    "Alu_HBV_Normaltab = pd.DataFrame(np.concatenate((np.repeat('Alu_HBV_Normal',Alu_HBV_Normal.shape[0]).reshape(-1,1),\n",
    "                                        Alu_HBV_Normal.reshape(-1,1)),axis=1))\n",
    "\n",
    "S_HCCtab = pd.DataFrame(np.concatenate((np.repeat('S_HCC',S_HCC.shape[0]).reshape(-1,1),\n",
    "                                        S_HCC.reshape(-1,1)),axis=1))\n",
    "S_Normaltab = pd.DataFrame(np.concatenate((np.repeat('S_Normal',S_Normal.shape[0]).reshape(-1,1),\n",
    "                                        S_Normal.reshape(-1,1)),axis=1))\n",
    "S_HBV_Normaltab = pd.DataFrame(np.concatenate((np.repeat('S_HBV_Normal',S_HBV_Normal.shape[0]).reshape(-1,1),\n",
    "                                        S_HBV_Normal.reshape(-1,1)),axis=1))\n",
    "\n",
    "MIR_HCCtab = pd.DataFrame(np.concatenate((np.repeat('MIR_HCC',MIR_HCC.shape[0]).reshape(-1,1),\n",
    "                                        MIR_HCC.reshape(-1,1)),axis=1))\n",
    "MIR_Normaltab = pd.DataFrame(np.concatenate((np.repeat('MIR_Normal',MIR_Normal.shape[0]).reshape(-1,1),\n",
    "                                        MIR_Normal.reshape(-1,1)),axis=1))\n",
    "MIR_HBV_Normaltab = pd.DataFrame(np.concatenate((np.repeat('MIR_HBV_Normal',MIR_HBV_Normal.shape[0]).reshape(-1,1),\n",
    "                                        MIR_HBV_Normal.reshape(-1,1)),axis=1))\n",
    "\n",
    "\n",
    "\n",
    "wholetab3 = pd.concat((Alu_HCCtab,Alu_Normaltab,Alu_HBV_Normaltab,S_HCCtab,S_Normaltab,S_HBV_Normaltab,MIR_HCCtab,MIR_Normaltab,MIR_HBV_Normaltab),axis=0)\n",
    "wholetab3.columns = ['sample','expression']\n",
    "wholetab3['expression'] = pd.to_numeric(wholetab3['expression'])\n",
    "wholetab3.head()\n",
    "\n",
    "\n",
    "import scipy.stats as ss\n",
    "print ('Alu hcc vs health p value: '+ str(ss.ranksums(Alu_HCC,Alu_Normal)[1]))\n",
    "print ('Alu hcc vs health_hbv p value: '+ str(ss.ranksums(Alu_HCC,Alu_HBV_Normal)[1]))\n",
    "print ('S hcc vs health p value: '+ str(ss.ranksums(S_HCC,S_Normal)[1]))\n",
    "print ('S hcc vs health_hbv p value: '+ str(ss.ranksums(S_HCC,S_HBV_Normal)[1]))\n",
    "print ('MIR hcc vs health p value: '+ str(ss.ranksums(MIR_HCC,MIR_Normal)[1]))\n",
    "print ('MIR hcc vs health_hbv p value: '+ str(ss.ranksums(MIR_HCC,MIR_HBV_Normal)[1]))\n",
    "\n",
    "fc1 =calculate_fc(Alu_HCC,Alu_Normal)\n",
    "fc2 =calculate_fc(Alu_HCC,Alu_HBV_Normal)\n",
    "fc3 =calculate_fc(S_HCC,S_Normal)\n",
    "fc4 =calculate_fc(S_HCC,S_HBV_Normal)\n",
    "fc5 =calculate_fc(MIR_HCC,MIR_Normal)\n",
    "fc6 =calculate_fc(MIR_HCC,MIR_HBV_Normal)\n",
    "\n",
    "print ('Alu hcc vs health fold change: '+ str(fc1))\n",
    "print ('Alu hcc vs health_hbv fold change: '+ str(fc2))\n",
    "print ('S hcc vs health fold change: '+ str(fc3))\n",
    "print ('S hcc vs health_hbv fold change: '+ str(fc4))\n",
    "print ('MIR hcc vs health fold change: '+ str(fc5))\n",
    "print ('MIR hcc vs health_hbv fold change: '+ str(fc6))\n"
   ]
  },
  {
   "cell_type": "code",
   "execution_count": 140,
   "metadata": {},
   "outputs": [
    {
     "data": {
      "text/plain": [
       "(array([1., 0., 1., 3., 3., 2., 0., 2., 1., 2., 0., 1., 3., 1., 2., 2., 4.,\n",
       "        0., 0., 2.]),\n",
       " array([-3.3   , -2.9355, -2.571 , -2.2065, -1.842 , -1.4775, -1.113 ,\n",
       "        -0.7485, -0.384 , -0.0195,  0.345 ,  0.7095,  1.074 ,  1.4385,\n",
       "         1.803 ,  2.1675,  2.532 ,  2.8965,  3.261 ,  3.6255,  3.99  ]),\n",
       " <a list of 20 Patch objects>)"
      ]
     },
     "execution_count": 140,
     "metadata": {},
     "output_type": "execute_result"
    },
    {
     "data": {
      "image/png": "[encoded data removed]",
      "text/plain": [
       "<matplotlib.figure.Figure at 0x7f6926c9bf10>"
      ]
     },
     "metadata": {},
     "output_type": "display_data"
    }
   ],
   "source": [
    "fig,ax=plt.subplots(1,figsize=(6,3))\n",
    "ax.hist(MIR_HCC,alpha=0.7,bins=20)\n",
    "ax.hist(MIR_Normal,alpha=0.7,bins=20)\n",
    "#ax.hist(MIR_HBV_Normal,alpha=0.7,bins=20)"
   ]
  },
  {
   "cell_type": "markdown",
   "metadata": {},
   "source": [
    "#####  boxplot fig4"
   ]
  },
  {
   "cell_type": "code",
   "execution_count": 141,
   "metadata": {},
   "outputs": [
    {
     "data": {
      "application/vnd.jupyter.widget-view+json": {
       "model_id": "b1292010c5944edfaf4177e3266e7f60",
       "version_major": 2,
       "version_minor": 0
      },
      "text/html": [
       "<p>Failed to display Jupyter Widget of type <code>interactive</code>.</p>\n",
       "<p>\n",
       "  If you're reading this message in the Jupyter Notebook or JupyterLab Notebook, it may mean\n",
       "  that the widgets JavaScript is still loading. If this message persists, it\n",
       "  likely means that the widgets JavaScript library is either not installed or\n",
       "  not enabled. See the <a href=\"https://ipywidgets.readthedocs.io/en/stable/user_install.html\">Jupyter\n",
       "  Widgets Documentation</a> for setup instructions.\n",
       "</p>\n",
       "<p>\n",
       "  If you're reading this message in another frontend (for example, a static\n",
       "  rendering on GitHub or <a href=\"https://nbviewer.jupyter.org/\">NBViewer</a>),\n",
       "  it may mean that your frontend doesn't currently support widgets.\n",
       "</p>\n"
      ],
      "text/plain": [
       "interactive(children=(FloatSlider(value=2.0, description=u'styind', max=3.0, step=1.0), FloatSlider(value=1.0, description=u'contextind', max=3.0, step=1.0), FloatSlider(value=16.0, description=u'width', max=20.0, min=8.0, step=1.0), FloatSlider(value=6.0, description=u'height', max=10.0, min=4.0, step=1.0), RadioButtons(description=u'showdot', options=('yes', 'no'), value='yes'), RadioButtons(description=u'showbox', options=('yes', 'no'), value='yes'), FloatSlider(value=5.0, description=u'dotsize', max=8.0, min=1.0, step=1.0), FloatSlider(value=12.0, description=u'fontsize', max=30.0, min=8.0, step=2.0), FloatRangeSlider(value=(-10.0, 25.0), description=u'ylim', max=30.0, min=-20.0, step=3.0), FloatSlider(value=0.6, description=u'boxwidth', max=1.0, min=0.05, step=0.05), Dropdown(description=u'box_violin', index=1, options=('box', 'violin'), value='violin'), FloatSlider(value=3.0, description=u'compareheight1', max=10.0, min=3.0, step=1.0), FloatSlider(value=6.0, description=u'compareheight2', max=10.0, min=3.0, step=1.0), FloatSlider(value=3.0, description=u'compareheight3', max=10.0, min=3.0, step=1.0), FloatSlider(value=6.0, description=u'compareheight4', max=10.0, min=3.0, step=1.0), FloatSlider(value=3.0, description=u'compareheight5', max=10.0, min=3.0, step=1.0), FloatSlider(value=6.0, description=u'compareheight6', max=10.0, min=3.0, step=1.0), IntSlider(value=4, description=u'palettesind', max=12), FloatSlider(value=0.8, description=u'saturation', max=1.0), Output()), _dom_classes=('widget-interact',))"
      ]
     },
     "metadata": {},
     "output_type": "display_data"
    },
    {
     "data": {
      "text/plain": [
       "<function __main__.box_plot_3>"
      ]
     },
     "execution_count": 141,
     "metadata": {},
     "output_type": "execute_result"
    }
   ],
   "source": [
    "def box_plot_3(styind,contextind,width,height,showdot,showbox,dotsize,fontsize,\n",
    "               ylim,boxwidth,box_violin,compareheight1,compareheight2,compareheight3,compareheight4,\n",
    "              compareheight5,compareheight6,palettesind,saturation):\n",
    "    sns.set_context(contexts[int(contextind)])\n",
    "    sns.set_style(styles[int(styind)])\n",
    "\n",
    "\n",
    "    fig, ax = plt.subplots(figsize=(width,height))\n",
    "    if showbox =='yes':\n",
    "        if box_violin=='violin':\n",
    "            sns.violinplot(ax=ax,x=\"sample\", y=\"expression\", data=wholetab3, palette=palettes[palettesind],width=boxwidth,saturation=saturation)\n",
    "        elif box_violin=='box':\n",
    "            sns.boxplot(ax=ax,x=\"sample\", y=\"expression\", data=wholetab3, palette=palettes[palettesind],width=boxwidth,saturation=saturation)\n",
    "    if showdot =='yes':\n",
    "        sns.swarmplot(x=\"sample\", y=\"expression\", data=wholetab3, size=dotsize, edgecolor=\"black\", linewidth=.9)\n",
    "    ax.set_ylim(ylim)\n",
    "    # statistical annotation\n",
    "    x1, x2 = 0, 1   # columns 'Sat' and 'Sun' (first column: 0, see plt.xticks())\n",
    "    y, h, col = wholetab3['expression'].max() + compareheight1, 0.5, 'k'\n",
    "    plt.plot([x1, x1, x2, x2], [y, y+h, y+h, y], lw=0.5, c=col)\n",
    "    plt.text((x1+x2)*.5, y+h, 'FC ' +str('%0.4s'%fc1)+ '\\n ns', ha='center', va='bottom', color=col,size=fontsize)\n",
    "    x1, x2 = 0, 2\n",
    "    y, h, col = wholetab3['expression'].max() + compareheight2, 0.5, 'k'\n",
    "    plt.plot([x1, x1, x2, x2], [y, y+h, y+h, y], lw=0.5, c=col)\n",
    "    plt.text((x1+x2)*.5, y+h, 'FC ' +str('%0.4s'%fc2)+ ' \\n ns', ha='center', va='bottom', color=col,size=fontsize)\n",
    "    x1, x2 = 3, 4 \n",
    "    y, h, col = wholetab3['expression'].max() + compareheight3, 0.5, 'k'\n",
    "    plt.plot([x1, x1, x2, x2], [y, y+h, y+h, y], lw=0.5, c=col)\n",
    "    plt.text((x1+x2)*.5, y+h, 'FC ' +str('%0.4s'%fc3)+ ' \\n ****', ha='center', va='bottom', color=col,size=fontsize)\n",
    "    x1, x2 = 3, 5\n",
    "    y, h, col = wholetab3['expression'].max() + compareheight4, 0.5, 'k'\n",
    "    plt.plot([x1, x1, x2, x2], [y, y+h, y+h, y], lw=0.5, c=col)\n",
    "    plt.text((x1+x2)*.5, y+h, 'FC ' +str('%0.4s'%fc4)+ ' \\n ****', ha='center', va='bottom', color=col,size=fontsize)\n",
    "    x1, x2 = 6, 7\n",
    "    y, h, col = wholetab3['expression'].max() + compareheight5, 0.5, 'k'\n",
    "    plt.plot([x1, x1, x2, x2], [y, y+h, y+h, y], lw=0.5, c=col)\n",
    "    plt.text((x1+x2)*.5, y+h, 'FC ' +str('%0.4s'%fc5)+ ' \\n ns', ha='center', va='bottom', color=col,size=fontsize)\n",
    "    x1, x2 = 6, 8\n",
    "    y, h, col = wholetab3['expression'].max() + compareheight6, 0.5, 'k'\n",
    "    plt.plot([x1, x1, x2, x2], [y, y+h, y+h, y], lw=0.5, c=col)\n",
    "    plt.text((x1+x2)*.5, y+h, 'FC ' +str('%0.4s'%fc6)+ ' \\n ns', ha='center', va='bottom', color=col,size=fontsize)\n",
    "interact(box_plot_3,styind=FloatSlider(min=0,max=3,step=1,value=2),\n",
    "               contextind=FloatSlider(min=0,max=3,step=1,value=1),\n",
    "                width =FloatSlider(min=8,max=20,step=1,value=16),\n",
    "                 height= FloatSlider(min=4,max=10,step=1,value=6),\n",
    "         boxwidth= FloatSlider(min=0.05,max=1,step=0.05,value=0.6),\n",
    "         dotsize= FloatSlider(min=1,max=8,step=1,value=5),\n",
    "         fontsize= FloatSlider(min=8,max=30,step=2,value=12),\n",
    "         ylim=FloatRangeSlider(value=[-10, 25],min=-20,max=30.0,step=3),\n",
    "            showdot=RadioButtons(options=['yes','no']),\n",
    "        box_violin = Dropdown(options=['box','violin'],value='violin'),\n",
    "         compareheight1=FloatSlider(min=3,max=10,step=1,value=3),\n",
    "         compareheight2=FloatSlider(min=3,max=10,step=1,value=6),\n",
    "         compareheight3=FloatSlider(min=3,max=10,step=1,value=3),\n",
    "        compareheight4=FloatSlider(min=3,max=10,step=1,value=6),\n",
    "        compareheight5=FloatSlider(min=3,max=10,step=1,value=3),\n",
    "         showbox=RadioButtons(options=['yes','no']),\n",
    "        compareheight6=FloatSlider(min=3,max=10,step=1,value=6),\n",
    "        palettesind=IntSlider(min=0,max=len(palettes)-1,step=1,value=4),\n",
    "        saturation=FloatSlider(min=0,max=1,step=0.1,value=0.8))"
   ]
  },
  {
   "cell_type": "markdown",
   "metadata": {},
   "source": [
    "#####  rocplot fig4"
   ]
  },
  {
   "cell_type": "code",
   "execution_count": 142,
   "metadata": {},
   "outputs": [
    {
     "data": {
      "application/vnd.jupyter.widget-view+json": {
       "model_id": "9391e04c3ec74588a7732e9ebf310f71",
       "version_major": 2,
       "version_minor": 0
      },
      "text/html": [
       "<p>Failed to display Jupyter Widget of type <code>interactive</code>.</p>\n",
       "<p>\n",
       "  If you're reading this message in the Jupyter Notebook or JupyterLab Notebook, it may mean\n",
       "  that the widgets JavaScript is still loading. If this message persists, it\n",
       "  likely means that the widgets JavaScript library is either not installed or\n",
       "  not enabled. See the <a href=\"https://ipywidgets.readthedocs.io/en/stable/user_install.html\">Jupyter\n",
       "  Widgets Documentation</a> for setup instructions.\n",
       "</p>\n",
       "<p>\n",
       "  If you're reading this message in another frontend (for example, a static\n",
       "  rendering on GitHub or <a href=\"https://nbviewer.jupyter.org/\">NBViewer</a>),\n",
       "  it may mean that your frontend doesn't currently support widgets.\n",
       "</p>\n"
      ],
      "text/plain": [
       "interactive(children=(FloatSlider(value=3.0, description=u'styind', max=3.0, step=1.0), FloatSlider(value=1.0, description=u'contextind', max=3.0, step=1.0), FloatSlider(value=8.0, description=u'width', max=16.0, min=6.0, step=1.0), FloatSlider(value=8.0, description=u'height', max=16.0, min=6.0, step=1.0), FloatSlider(value=1.5, description=u'linewid', max=4.0, min=1.0, step=0.3), SelectMultiple(description=u'color', index=(0, 1, 2, 4), options=('b', 'g', 'r', 'c', 'm', 'y', 'k', 'w'), value=('b', 'g', 'r', 'm')), FloatSlider(value=1.5, description=u'linewid2', max=4.0, min=1.0, step=0.3), Dropdown(description=u'color2', options=('b', 'g', 'r', 'c', 'm', 'y', 'k', 'w'), value='b'), FloatSlider(value=0.5, description=u'transparency', max=1.0, step=0.05), FloatSlider(value=10.0, description=u'fontsize', max=20.0, min=6.0, step=1.0), RadioButtons(description=u'showmetrics', options=('yes', 'no'), value='yes'), Output()), _dom_classes=('widget-interact',))"
      ]
     },
     "metadata": {},
     "output_type": "display_data"
    },
    {
     "data": {
      "text/plain": [
       "<function __main__.rocplot3>"
      ]
     },
     "execution_count": 142,
     "metadata": {},
     "output_type": "execute_result"
    }
   ],
   "source": [
    "aucspesenarr = np.concatenate((np.array(find_metrics_best(np.concatenate((np.ones([S_HCC.shape[0]]),np.zeros([S_Normal.shape[0]]))),np.concatenate((S_HCC,S_Normal)))).reshape(1,-1),\n",
    "                np.array(find_metrics_best(np.concatenate((np.ones([S_HCC.shape[0]]),np.zeros([S_HBV_Normal.shape[0]]))),np.concatenate((S_HCC,S_HBV_Normal)))).reshape(1,-1),\n",
    "               np.array(find_metrics_best(np.concatenate((np.ones([Alu_HCC.shape[0]]),np.zeros([Alu_Normal.shape[0]]))),np.concatenate((Alu_HCC,Alu_Normal)))).reshape(1,-1),\n",
    "                np.array(find_metrics_best(np.concatenate((np.ones([Alu_HCC.shape[0]]),np.zeros([Alu_HBV_Normal.shape[0]]))),np.concatenate((Alu_HCC,Alu_HBV_Normal)))).reshape(1,-1),\n",
    "                np.array(find_metrics_best(np.concatenate((np.ones([MIR_HCC.shape[0]]),np.zeros([MIR_Normal.shape[0]]))),np.concatenate((MIR_HCC,MIR_Normal)))).reshape(1,-1),\n",
    "                np.array(find_metrics_best(np.concatenate((np.ones([MIR_HCC.shape[0]]),np.zeros([MIR_HBV_Normal.shape[0]]))),np.concatenate((MIR_HCC,MIR_HBV_Normal)))).reshape(1,-1)\n",
    "               ))\n",
    "auc,spe,sen= {},{},{}\n",
    "for i in range(6):\n",
    "    auc[i],spe[i],sen[i] = aucspesenarr[i][0],aucspesenarr[i][1],aucspesenarr[i][2]\n",
    "label1 = ['S -HBV','S +HBV','Alu -HBV','Alu +HBV','MIR -HBV','MIR +HBV']\n",
    "label2 = ['AUC: ' + str('%0.4s'%auc[i]) +' ['+str('%0.4s'%spe[i])+' '+str('%0.4s'%sen[i])+']' for i in range(6)]\n",
    "\n",
    "def rocplot3(styind,contextind,width,height,linewid,color,linewid2,color2,transparency,fontsize,showmetrics):\n",
    "    sns.set_context(contexts[int(contextind)])\n",
    "    sns.set_style(styles[int(styind)])\n",
    "    fig, ax = plt.subplots(figsize=(width,height))\n",
    "    if len(color) !=3:\n",
    "        color = ['r','g','b','m','y','c']\n",
    "    if showmetrics =='yes':\n",
    "        labels = [label1[i] +'\\n'+label2[i] for i in range(6)]\n",
    "    else:\n",
    "        labels = [label1[i] for i in range(6)]\n",
    "    a,b,_ = roc_curve(np.concatenate((np.ones([S_HCC.shape[0]]),np.zeros([S_Normal.shape[0]]))),np.concatenate((S_HCC,S_Normal)))   \n",
    "    ax.plot(a,b,linewidth=linewid,color=color[0],label=labels[0])\n",
    "    a,b,_ = roc_curve(np.concatenate((np.ones([S_HCC.shape[0]]),np.zeros([S_HBV_Normal.shape[0]]))),np.concatenate((S_HCC,S_HBV_Normal)))   \n",
    "    ax.plot(a,b,linewidth=linewid,color=color[1],label=labels[1])\n",
    "    a,b,_ = roc_curve(np.concatenate((np.ones([Alu_HCC.shape[0]]),np.zeros([Alu_Normal.shape[0]]))),np.concatenate((Alu_HCC,Alu_Normal)))   \n",
    "    ax.plot(a,b,linewidth=linewid,color=color[2],label=labels[2])\n",
    "    a,b,_ = roc_curve(np.concatenate((np.ones([Alu_HCC.shape[0]]),np.zeros([Alu_HBV_Normal.shape[0]]))),np.concatenate((Alu_HCC,Alu_HBV_Normal)))   \n",
    "    ax.plot(a,b,linewidth=linewid,color=color[3],label=labels[3])\n",
    "    a,b,_ = roc_curve(np.concatenate((np.ones([MIR_HCC.shape[0]]),np.zeros([MIR_Normal.shape[0]]))),np.concatenate((MIR_HCC,MIR_Normal)))   \n",
    "    ax.plot(a,b,linewidth=linewid,color=color[4],label=labels[4])\n",
    "    a,b,_ = roc_curve(np.concatenate((np.ones([MIR_HCC.shape[0]]),np.zeros([MIR_HBV_Normal.shape[0]]))),np.concatenate((MIR_HCC,MIR_HBV_Normal)))   \n",
    "    ax.plot(a,b,linewidth=linewid,color=color[5],label=labels[5])\n",
    "    \n",
    "    ax.legend(prop={'size': fontsize})\n",
    "    #ax.plot(b,a,linewidth=linewid,color=color,linestyle='dashed') #solid’ | ‘dashed’, ‘dashdot’, ‘dotted\n",
    "    ax.plot([0,1],[0,1], linewidth=linewid2,alpha=transparency,color=color2,linestyle='--')\n",
    "interact(rocplot3,styind=FloatSlider(min=0,max=3,step=1,value=3),\n",
    "               contextind=FloatSlider(min=0,max=3,step=1,value=1),\n",
    "                width =FloatSlider(min=6,max=16,step=1,value=8),\n",
    "                 height= FloatSlider(min=6,max=16,step=1,value=8),\n",
    "        linewid= FloatSlider(min=1,max=4,step=0.3,value=1.5),\n",
    "        color=SelectMultiple(options=['b', 'g', 'r', 'c', 'm', 'y', 'k', 'w'],value=('b', 'g', 'r','m')),\n",
    "        linewid2= FloatSlider(min=1,max=4,step=0.3,value=1.5),\n",
    "         fontsize= FloatSlider(min=6,max=20,step=1,value=10),\n",
    "        transparency=FloatSlider(min=0,max=1,step=0.05,value=0.5),\n",
    "        color2=Dropdown(options=['b', 'g', 'r', 'c', 'm', 'y', 'k', 'w']),\n",
    "        showmetrics=RadioButtons(options=['yes','no']))"
   ]
  },
  {
   "cell_type": "code",
   "execution_count": 143,
   "metadata": {},
   "outputs": [
    {
     "data": {
      "text/html": [
       "<div>\n",
       "<style scoped>\n",
       "    .dataframe tbody tr th:only-of-type {\n",
       "        vertical-align: middle;\n",
       "    }\n",
       "\n",
       "    .dataframe tbody tr th {\n",
       "        vertical-align: top;\n",
       "    }\n",
       "\n",
       "    .dataframe thead th {\n",
       "        text-align: right;\n",
       "    }\n",
       "</style>\n",
       "<table border=\"1\" class=\"dataframe\">\n",
       "  <thead>\n",
       "    <tr style=\"text-align: right;\">\n",
       "      <th></th>\n",
       "      <th>AUC</th>\n",
       "      <th>Specificity</th>\n",
       "      <th>Sensitivity</th>\n",
       "    </tr>\n",
       "  </thead>\n",
       "  <tbody>\n",
       "    <tr>\n",
       "      <th>S -HBV</th>\n",
       "      <td>0.720000</td>\n",
       "      <td>0.85</td>\n",
       "      <td>0.566667</td>\n",
       "    </tr>\n",
       "    <tr>\n",
       "      <th>S +HBV</th>\n",
       "      <td>0.804200</td>\n",
       "      <td>0.83</td>\n",
       "      <td>0.740000</td>\n",
       "    </tr>\n",
       "    <tr>\n",
       "      <th>Alu -HBV</th>\n",
       "      <td>0.572333</td>\n",
       "      <td>0.79</td>\n",
       "      <td>0.400000</td>\n",
       "    </tr>\n",
       "    <tr>\n",
       "      <th>Alu +HBV</th>\n",
       "      <td>0.555800</td>\n",
       "      <td>0.88</td>\n",
       "      <td>0.220000</td>\n",
       "    </tr>\n",
       "    <tr>\n",
       "      <th>MIR -HBV</th>\n",
       "      <td>0.620333</td>\n",
       "      <td>0.74</td>\n",
       "      <td>0.500000</td>\n",
       "    </tr>\n",
       "    <tr>\n",
       "      <th>MIR +HBV</th>\n",
       "      <td>0.558800</td>\n",
       "      <td>0.72</td>\n",
       "      <td>0.420000</td>\n",
       "    </tr>\n",
       "  </tbody>\n",
       "</table>\n",
       "</div>"
      ],
      "text/plain": [
       "               AUC  Specificity  Sensitivity\n",
       "S -HBV    0.720000         0.85     0.566667\n",
       "S +HBV    0.804200         0.83     0.740000\n",
       "Alu -HBV  0.572333         0.79     0.400000\n",
       "Alu +HBV  0.555800         0.88     0.220000\n",
       "MIR -HBV  0.620333         0.74     0.500000\n",
       "MIR +HBV  0.558800         0.72     0.420000"
      ]
     },
     "execution_count": 143,
     "metadata": {},
     "output_type": "execute_result"
    }
   ],
   "source": [
    "pd.DataFrame(np.concatenate((np.array(find_metrics_best(np.concatenate((np.ones([S_HCC.shape[0]]),np.zeros([S_Normal.shape[0]]))),np.concatenate((S_HCC,S_Normal)))).reshape(1,-1),\n",
    "                np.array(find_metrics_best(np.concatenate((np.ones([S_HCC.shape[0]]),np.zeros([S_HBV_Normal.shape[0]]))),np.concatenate((S_HCC,S_HBV_Normal)))).reshape(1,-1),\n",
    "               np.array(find_metrics_best(np.concatenate((np.ones([Alu_HCC.shape[0]]),np.zeros([Alu_Normal.shape[0]]))),np.concatenate((Alu_HCC,Alu_Normal)))).reshape(1,-1),\n",
    "                np.array(find_metrics_best(np.concatenate((np.ones([Alu_HCC.shape[0]]),np.zeros([Alu_HBV_Normal.shape[0]]))),np.concatenate((Alu_HCC,Alu_HBV_Normal)))).reshape(1,-1),\n",
    "                np.array(find_metrics_best(np.concatenate((np.ones([MIR_HCC.shape[0]]),np.zeros([MIR_Normal.shape[0]]))),np.concatenate((MIR_HCC,MIR_Normal)))).reshape(1,-1),\n",
    "                np.array(find_metrics_best(np.concatenate((np.ones([MIR_HCC.shape[0]]),np.zeros([MIR_HBV_Normal.shape[0]]))),np.concatenate((MIR_HCC,MIR_HBV_Normal)))).reshape(1,-1)\n",
    "               )),columns=['AUC','Specificity','Sensitivity'],\n",
    "             index=['S -HBV','S +HBV','Alu -HBV','Alu +HBV','MIR -HBV','MIR +HBV'])\n"
   ]
  },
  {
   "cell_type": "code",
   "execution_count": 144,
   "metadata": {},
   "outputs": [
    {
     "ename": "TypeError",
     "evalue": "test_data() takes exactly 2 arguments (1 given)",
     "output_type": "error",
     "traceback": [
      "\u001b[0;31m\u001b[0m",
      "\u001b[0;31mTypeError\u001b[0mTraceback (most recent call last)",
      "\u001b[0;32m<ipython-input-144-7244883eb400>\u001b[0m in \u001b[0;36m<module>\u001b[0;34m()\u001b[0m\n\u001b[1;32m      2\u001b[0m     \u001b[0;32mprint\u001b[0m \u001b[0mdata\u001b[0m\u001b[0;34m\u001b[0m\u001b[0m\n\u001b[1;32m      3\u001b[0m     \u001b[0;32mprint\u001b[0m \u001b[0;34m(\u001b[0m\u001b[0mi\u001b[0m\u001b[0;34m)\u001b[0m\u001b[0;34m\u001b[0m\u001b[0m\n\u001b[0;32m----> 4\u001b[0;31m interact(test_data(np.arange(0,5)),\n\u001b[0m\u001b[1;32m      5\u001b[0m          i=FloatSlider(min=0,max=3,step=1,value=3))\n",
      "\u001b[0;31mTypeError\u001b[0m: test_data() takes exactly 2 arguments (1 given)"
     ]
    }
   ],
   "source": [
    "def test_data(data,i):\n",
    "    print data\n",
    "    print (i)\n",
    "interact(test_data(np.arange(0,5)),\n",
    "         i=FloatSlider(min=0,max=3,step=1,value=3))"
   ]
  },
  {
   "cell_type": "code",
   "execution_count": null,
   "metadata": {},
   "outputs": [],
   "source": [
    "from functools import partial\n",
    "\n",
    "def test_data(data,i):\n",
    "    print ('this is data: '+str(data))\n",
    "    print (i)\n",
    "\n",
    "\n",
    "# Define the new partial function with df_pnl loaded.\n",
    "test_data_partial = partial(test_data, data=np.arange(0,5))\n",
    "\n",
    "interact(test_data_partial,\n",
    "         i=FloatSlider(min=0,max=3,step=1,value=3))"
   ]
  },
  {
   "cell_type": "markdown",
   "metadata": {},
   "source": [
    "### 6.7 plot"
   ]
  },
  {
   "cell_type": "code",
   "execution_count": null,
   "metadata": {},
   "outputs": [],
   "source": [
    "datatable1 = pd.read_excel('piechart_data 1.xlsx','Sheet1')\n",
    "datatable2 = pd.read_excel('piechart_data 1.xlsx','Sheet2')\n",
    "datatable3 = pd.read_excel('piechart_data 1.xlsx','Sheet3')\n",
    "datatable4 = pd.read_excel('piechart_data 1.xlsx','Sheet4')"
   ]
  },
  {
   "cell_type": "code",
   "execution_count": null,
   "metadata": {},
   "outputs": [],
   "source": [
    "#四个table结构一样，测试通过后每次更改datatable1的路径即可"
   ]
  },
  {
   "cell_type": "code",
   "execution_count": null,
   "metadata": {},
   "outputs": [],
   "source": []
  },
  {
   "cell_type": "code",
   "execution_count": null,
   "metadata": {},
   "outputs": [],
   "source": []
  },
  {
   "cell_type": "code",
   "execution_count": null,
   "metadata": {},
   "outputs": [],
   "source": [
    "Alu_domain_Tumor = np.array(datatable1['Alu_domain_Tumor'])\n",
    "Alu_domain_Tumor = Alu_domain_Tumor[~np.isnan(Alu_domain_Tumor)]\n",
    "Alu_domain_Normal = np.array(datatable1['Alu_domain_Normal'])\n",
    "Alu_domain_Normal = Alu_domain_Normal[~np.isnan(Alu_domain_Normal)]\n",
    "\n",
    "S_domain_Tumor = np.array(datatable1['S_domain_Tumor'])\n",
    "S_domain_Tumor = S_domain_Tumor[~np.isnan(S_domain_Tumor)]\n",
    "S_domain_Normal = np.array(datatable1['S_domain_Normal'])\n",
    "S_domain_Normal = S_domain_Normal[~np.isnan(S_domain_Normal)]\n",
    "\n",
    "region_3_Tumor = np.array(datatable1[\"3'region_Tumor\"])\n",
    "region_3_Tumor = region_3_Tumor[~np.isnan(region_3_Tumor)]\n",
    "region_3_Normal = np.array(datatable1[\"3'region_Normal\"])\n",
    "region_3_Normal = region_3_Normal[~np.isnan(region_3_Normal)]\n",
    "\n",
    "full_length_Tumor = np.array(datatable1['full_length_Tumor'])\n",
    "full_length_Tumor = full_length_Tumor[~np.isnan(full_length_Tumor)]\n",
    "full_length_Normal = np.array(datatable1['full_length_Normal'])\n",
    "full_length_Normal = full_length_Normal[~np.isnan(full_length_Normal)]"
   ]
  },
  {
   "cell_type": "code",
   "execution_count": null,
   "metadata": {},
   "outputs": [],
   "source": [
    "Alu_domain_Tumortab = pd.DataFrame(np.concatenate((np.repeat('Alu domain_Tumor',Alu_domain_Tumor.shape[0]).reshape(-1,1),\n",
    "                                        Alu_domain_Tumor.reshape(-1,1)),axis=1))\n",
    "Alu_domain_Normaltab = pd.DataFrame(np.concatenate((np.repeat('Alu domain_Normal',Alu_domain_Normal.shape[0]).reshape(-1,1),\n",
    "                                        Alu_domain_Normal.reshape(-1,1)),axis=1))\n",
    "S_domain_Tumortab = pd.DataFrame(np.concatenate((np.repeat('S domain_Tumor',S_domain_Tumor.shape[0]).reshape(-1,1),\n",
    "                                        S_domain_Tumor.reshape(-1,1)),axis=1))\n",
    "S_domain_Normaltab = pd.DataFrame(np.concatenate((np.repeat('S domain_Normal',S_domain_Normal.shape[0]).reshape(-1,1),\n",
    "                                        S_domain_Normal.reshape(-1,1)),axis=1))\n",
    "region_3_Tumortab = pd.DataFrame(np.concatenate((np.repeat(\"3 region_Tumor\",region_3_Tumor.shape[0]).reshape(-1,1),\n",
    "                                       region_3_Tumor.reshape(-1,1)),axis=1))\n",
    "region_3_Normaltab = pd.DataFrame(np.concatenate((np.repeat(\"3 region_Normal\",region_3_Normal.shape[0]).reshape(-1,1),\n",
    "                                       region_3_Normal.reshape(-1,1)),axis=1))\n",
    "full_length_Tumortab = pd.DataFrame(np.concatenate((np.repeat('full length_Tumor',full_length_Tumor.shape[0]).reshape(-1,1),\n",
    "                                        full_length_Tumor.reshape(-1,1)),axis=1))\n",
    "full_length_Normaltab = pd.DataFrame(np.concatenate((np.repeat('full length_Normal',full_length_Normal.shape[0]).reshape(-1,1),\n",
    "                                        full_length_Normal.reshape(-1,1)),axis=1))\n",
    "\n",
    "wholetab1 = pd.concat((Alu_domain_Tumortab,Alu_domain_Normaltab,S_domain_Tumortab,\n",
    "                       S_domain_Normaltab ,region_3_Tumortab,region_3_Normaltab,\n",
    "                      full_length_Tumortab,full_length_Normaltab),axis=0)\n",
    "\n",
    "wholetab1.columns = ['sample','CPM']\n",
    "wholetab1['CPM'] = pd.to_numeric(wholetab1['CPM'])\n",
    "wholetab1.head()"
   ]
  },
  {
   "cell_type": "code",
   "execution_count": null,
   "metadata": {},
   "outputs": [],
   "source": [
    "sample = np.ndarray([wholetab1.shape[0],]).astype('str')\n",
    "status = np.ndarray([wholetab1.shape[0],]).astype('str')\n",
    "for i in range(wholetab1.shape[0]):\n",
    "    sample[i] = np.array(np.array(wholetab1['sample'])[i].split('_'))[0]\n",
    "    status[i] =  np.array(np.array(wholetab1['sample'])[i].split('_'))[1]\n",
    "wholetab1['sample'] = sample\n",
    "wholetab1['status'] = status"
   ]
  },
  {
   "cell_type": "code",
   "execution_count": null,
   "metadata": {},
   "outputs": [],
   "source": []
  },
  {
   "cell_type": "code",
   "execution_count": null,
   "metadata": {},
   "outputs": [],
   "source": [
    "def calculate_fc(data1,data2):\n",
    "    return np.average(data1)/np.average(data2)\n",
    "\n",
    "import scipy.stats as ss\n",
    "p1 =  ss.ranksums(Alu_domain_Tumor,Alu_domain_Normal)[1]\n",
    "p2 = ss.ranksums(S_domain_Tumor,S_domain_Normal)[1]\n",
    "p3 = ss.ranksums(region_3_Tumor,region_3_Normal)[1]\n",
    "p4 = ss.ranksums(full_length_Tumor,full_length_Normal)[1]\n",
    "print ('Alu_domain_Tumor vs Alu_domain_Normal p value: '+ str(p1))\n",
    "print ('S_domain_Tumor vs S_domain_Normal p value: '+ str(p2))\n",
    "print ('region_3_Tumor vs region_3_Normal p value: '+ str(p3))\n",
    "print ('full_length_Tumor vs full_length_Normal p value: '+ str(p4))\n",
    "\n",
    "fc1 = calculate_fc(Alu_domain_Tumor,Alu_domain_Normal)\n",
    "fc2 = calculate_fc(S_domain_Tumor,S_domain_Normal)\n",
    "fc3 = calculate_fc(region_3_Tumor,region_3_Normal)\n",
    "fc4 = calculate_fc(full_length_Tumor,full_length_Normal)\n",
    "print ('cf hcc vs health fold change: '+ str(fc1))\n",
    "print ('cf hcc vs health_hbv fold change: '+ str(fc2))\n",
    "print ('exo hcc vs health fold change: '+ str(fc3))"
   ]
  },
  {
   "cell_type": "code",
   "execution_count": null,
   "metadata": {},
   "outputs": [],
   "source": [
    "positionX =np.repeat(np.atleast_2d(np.arange(4)),2, axis=0)+ np.array([[-.2],[.2]])"
   ]
  },
  {
   "cell_type": "code",
   "execution_count": null,
   "metadata": {},
   "outputs": [],
   "source": [
    "def box_plot_four(styind,contextind,width,height,showdot,showbox,dotsize,fontsize,\n",
    "               ylim,boxwidth,box_violin,compareheight1,compareheight2,compareheight3,compareheight4,palettesind,saturation):\n",
    "    sns.set_context(contexts[int(contextind)])\n",
    "    sns.set_style(styles[int(styind)])\n",
    "\n",
    "\n",
    "    fig, ax = plt.subplots(figsize=(width,height))\n",
    "    if showbox =='yes':\n",
    "        if box_violin=='violin':\n",
    "            sns.violinplot(ax=ax,x=\"sample\", y=\"CPM\",hue=\"status\", data=wholetab1,width=boxwidth,saturation=saturation)\n",
    "        elif box_violin=='box':\n",
    "            sns.boxplot(ax=ax,x=\"sample\", y=\"CPM\",hue=\"status\", data=wholetab1, width=boxwidth,saturation=saturation)\n",
    "    if showdot =='yes':\n",
    "        sns.swarmplot(x=\"sample\", y=\"CPM\", hue=\"status\",data=wholetab1, dodge=True,size=dotsize, edgecolor=\"black\", linewidth=.9)\n",
    "    ax.set_ylim(ylim)\n",
    "    # statistical annotation\n",
    "    x1, x2 = positionX[0,0],positionX[1,0]   # columns 'Sat' and 'Sun' (first column: 0, see plt.xticks())\n",
    "    y, h, col = wholetab1['CPM'].max() + compareheight1, 0.5, 'k'\n",
    "    plt.plot([x1, x1, x2, x2], [y, y+h, y+h, y], lw=0.5, c=col)\n",
    "    if p1 <=0.05:\n",
    "        significance ='****'\n",
    "    elif p1 >0.05:\n",
    "        significance='ns'\n",
    "    plt.text((x1+x2)*.5, y+h, 'FC ' +str('%0.4s'%fc1)+ '\\n '+significance, ha='center', va='bottom', color=col,size=fontsize)\n",
    "    x1, x2 = positionX[0,1],positionX[1,1]\n",
    "    y, h, col = wholetab1['CPM'].max() + compareheight2, 0.5, 'k'\n",
    "    plt.plot([x1, x1, x2, x2], [y, y+h, y+h, y], lw=0.5, c=col)\n",
    "    if p2 <=0.05:\n",
    "        significance ='****'\n",
    "    elif p2 >0.05:\n",
    "        significance='ns'\n",
    "    plt.text((x1+x2)*.5, y+h, 'FC ' +str('%0.4s'%fc2)+ '\\n '+significance, ha='center', va='bottom', color=col,size=fontsize)\n",
    "    x1, x2 = positionX[0,2],positionX[1,2]\n",
    "    y, h, col = wholetab1['CPM'].max() + compareheight3, 0.5, 'k'\n",
    "    plt.plot([x1, x1, x2, x2], [y, y+h, y+h, y], lw=0.5, c=col)\n",
    "    if p3 <=0.05:\n",
    "        significance ='****'\n",
    "    elif p3 >0.05:\n",
    "        significance='ns'\n",
    "    plt.text((x1+x2)*.5, y+h, 'FC ' +str('%0.4s'%fc3)+ '\\n '+significance, ha='center', va='bottom', color=col,size=fontsize)\n",
    "    x1, x2 =positionX[0,3],positionX[1,3]\n",
    "    y, h, col = wholetab1['CPM'].max() + compareheight4, 0.5, 'k'\n",
    "    plt.plot([x1, x1, x2, x2], [y, y+h, y+h, y], lw=0.5, c=col)\n",
    "    if p4 <=0.05:\n",
    "        significance ='****'\n",
    "    elif p5 >0.05:\n",
    "        significance='ns'\n",
    "    plt.text((x1+x2)*.5, y+h, 'FC ' +str('%0.4s'%fc3)+ '\\n '+significance, ha='center', va='bottom', color=col,size=fontsize)\n",
    "interact(box_plot_four,styind=FloatSlider(min=0,max=3,step=1,value=0),\n",
    "               contextind=FloatSlider(min=0,max=3,step=1,value=2),\n",
    "                width =FloatSlider(min=8,max=20,step=1,value=20),\n",
    "                 height= FloatSlider(min=4,max=10,step=1,value=10),\n",
    "         boxwidth= FloatSlider(min=0.05,max=1,step=0.05,value=0.6),\n",
    "         dotsize= FloatSlider(min=1,max=8,step=1,value=5),\n",
    "         fontsize= FloatSlider(min=8,max=30,step=2,value=12),\n",
    "         ylim=FloatRangeSlider(value=[0, 80],min=0,max=90.0,step=1),\n",
    "            showdot=RadioButtons(options=['yes','no'],value='no'),\n",
    "         showbox=RadioButtons(options=['yes','no']),\n",
    "        box_violin = Dropdown(options=['box','violin'],value='box'),\n",
    "         compareheight1=FloatSlider(min=1,max=10,step=1,value=4),\n",
    "         compareheight2=FloatSlider(min=1,max=10,step=1,value=4),\n",
    "         compareheight3=FloatSlider(min=1,max=10,step=1,value=4),\n",
    "         compareheight4=FloatSlider(min=1,max=10,step=1,value=4),\n",
    "        palettesind=IntSlider(min=0,max=len(palettes)-1,step=1,value=4),\n",
    "        saturation=FloatSlider(min=0,max=1,step=0.1,value=0.8))\n"
   ]
  },
  {
   "cell_type": "code",
   "execution_count": null,
   "metadata": {},
   "outputs": [],
   "source": [
    "aucspesenarr = np.concatenate(((np.array(find_metrics_best(np.concatenate((np.ones([Alu_domain_Tumor.shape[0]]),np.zeros([Alu_domain_Normal.shape[0]]))),np.concatenate((Alu_domain_Tumor,Alu_domain_Normal)))).reshape(1,-1),\n",
    "               np.array(find_metrics_best(np.concatenate((np.ones([S_domain_Tumor.shape[0]]),np.zeros([S_domain_Normal.shape[0]]))),np.concatenate((S_domain_Tumor,S_domain_Normal)))).reshape(1,-1),\n",
    "                               np.array(find_metrics_best(np.concatenate((np.ones([region_3_Tumor.shape[0]]),np.zeros([region_3_Normal.shape[0]]))),np.concatenate((region_3_Tumor,region_3_Normal)))).reshape(1,-1),\n",
    "                               np.array(find_metrics_best(np.concatenate((np.ones([full_length_Tumor.shape[0]]),np.zeros([full_length_Normal.shape[0]]))),np.concatenate((full_length_Tumor,full_length_Normal)))).reshape(1,-1))))\n",
    "auc,spe,sen= {},{},{}\n",
    "for i in range(4):\n",
    "    auc[i],spe[i],sen[i] = aucspesenarr[i][0],aucspesenarr[i][1],aucspesenarr[i][2]\n",
    "label1 = ['Alu_domain','S_domain',\"3'region\",'full_length']\n",
    "label2 = ['AUC: ' + str('%0.4s'%auc[i]) +' ['+str('%0.4s'%spe[i])+' '+str('%0.4s'%sen[i])+']' for i in range(4)]\n",
    "#label1[i] +'\\n'+label2[i]"
   ]
  },
  {
   "cell_type": "code",
   "execution_count": null,
   "metadata": {},
   "outputs": [],
   "source": [
    "def rocplot1(styind,contextind,width,height,linewid,color,linewid2,color2,transparency,fontsize,showmetrics):\n",
    "    sns.set_context(contexts[int(contextind)])\n",
    "    sns.set_style(styles[int(styind)])\n",
    "    fig, ax = plt.subplots(figsize=(width,height))\n",
    "    if len(color) !=4:\n",
    "        color = ['r','g','b','m']\n",
    "    if showmetrics =='yes':\n",
    "        labels = [label1[i] +'\\n'+label2[i] for i in range(4)]\n",
    "    else:\n",
    "        labels = [label1[i] for i in range(4)]\n",
    "    a,b,_ = roc_curve(np.concatenate((np.ones([Alu_domain_Tumor.shape[0]]),np.zeros([Alu_domain_Normal.shape[0]]))),np.concatenate((Alu_domain_Tumor,Alu_domain_Normal)))   \n",
    "    ax.plot(a,b,linewidth=linewid,color=color[0],label=labels[0])\n",
    "    a,b,_ = roc_curve(np.concatenate((np.ones([S_domain_Tumor.shape[0]]),np.zeros([S_domain_Normal.shape[0]]))),np.concatenate((S_domain_Tumor,S_domain_Normal)))   \n",
    "    ax.plot(a,b,linewidth=linewid,color=color[1],label=labels[1])\n",
    "    a,b,_ = roc_curve(np.concatenate((np.ones([region_3_Tumor.shape[0]]),np.zeros([region_3_Normal.shape[0]]))),np.concatenate((region_3_Tumor,region_3_Normal)))    \n",
    "    ax.plot(a,b,linewidth=linewid,color=color[2],label=labels[2])\n",
    "    a,b,_ = roc_curve(np.concatenate((np.ones([full_length_Tumor.shape[0]]),np.zeros([full_length_Normal.shape[0]]))),np.concatenate((full_length_Tumor,full_length_Normal)))   \n",
    "    ax.plot(a,b,linewidth=linewid,color=color[3],label=labels[3])\n",
    "    \n",
    "    ax.legend(prop={'size': fontsize})\n",
    "    #ax.plot(b,a,linewidth=linewid,color=color,linestyle='dashed') #solid’ | ‘dashed’, ‘dashdot’, ‘dotted\n",
    "    ax.plot([0,1],[0,1], linewidth=linewid2,alpha=transparency,color=color2,linestyle='--')\n",
    "interact(rocplot1,styind=FloatSlider(min=0,max=2,step=1,value=1),\n",
    "               contextind=FloatSlider(min=0,max=3,step=1,value=1),\n",
    "                width =FloatSlider(min=6,max=16,step=1,value=8),\n",
    "                 height= FloatSlider(min=6,max=16,step=1,value=8),\n",
    "        linewid= FloatSlider(min=1,max=4,step=0.3,value=1.5),\n",
    "        color=SelectMultiple(options=['b', 'g', 'r', 'c', 'm', 'y', 'k', 'w'],value=('b', 'g', 'r')),\n",
    "        linewid2= FloatSlider(min=1,max=4,step=0.3,value=1.5),\n",
    "         fontsize= FloatSlider(min=6,max=20,step=1,value=10),\n",
    "        transparency=FloatSlider(min=0,max=1,step=0.05,value=0.5),\n",
    "        color2=Dropdown(options=['b', 'g', 'r', 'c', 'm', 'y', 'k', 'w']),\n",
    "        showmetrics=RadioButtons(options=['yes','no']))\n",
    "\n",
    "\n"
   ]
  },
  {
   "cell_type": "code",
   "execution_count": null,
   "metadata": {},
   "outputs": [],
   "source": [
    "pd.DataFrame(np.concatenate(((np.array(find_metrics_best(np.concatenate((np.ones([Alu_domain_Tumor.shape[0]]),np.zeros([Alu_domain_Normal.shape[0]]))),np.concatenate((Alu_domain_Tumor,Alu_domain_Normal)))).reshape(1,-1),\n",
    "               np.array(find_metrics_best(np.concatenate((np.ones([S_domain_Tumor.shape[0]]),np.zeros([S_domain_Normal.shape[0]]))),np.concatenate((S_domain_Tumor,S_domain_Normal)))).reshape(1,-1),\n",
    "                               np.array(find_metrics_best(np.concatenate((np.ones([region_3_Tumor.shape[0]]),np.zeros([region_3_Normal.shape[0]]))),np.concatenate((region_3_Tumor,region_3_Normal)))).reshape(1,-1),\n",
    "                               np.array(find_metrics_best(np.concatenate((np.ones([full_length_Tumor.shape[0]]),np.zeros([full_length_Normal.shape[0]]))),np.concatenate((full_length_Tumor,full_length_Normal)))).reshape(1,-1))))\n",
    ",columns=['AUC','Specificity','Sensitivity'],\n",
    "             index=['Alu_domain','S_domain',\"3'region\",'full_length'])\n"
   ]
  },
  {
   "cell_type": "markdown",
   "metadata": {},
   "source": [
    "#### 写成函数"
   ]
  },
  {
   "cell_type": "code",
   "execution_count": null,
   "metadata": {},
   "outputs": [],
   "source": [
    "def plotall(datatable,specialy1=0,specialy2=80,specialy1lim=0,specialy2lim=90,specialcompareheight1=1,specialcompareheight2=10,specialcompareheight3=4,specialsteps=1):\n",
    "    datatable1 = datatable\n",
    "    Alu_domain_Tumor = np.array(datatable1['Alu_domain_Tumor'])\n",
    "    Alu_domain_Tumor = Alu_domain_Tumor[~np.isnan(Alu_domain_Tumor)]\n",
    "    Alu_domain_Normal = np.array(datatable1['Alu_domain_Normal'])\n",
    "    Alu_domain_Normal = Alu_domain_Normal[~np.isnan(Alu_domain_Normal)]\n",
    "\n",
    "    S_domain_Tumor = np.array(datatable1['S_domain_Tumor'])\n",
    "    S_domain_Tumor = S_domain_Tumor[~np.isnan(S_domain_Tumor)]\n",
    "    S_domain_Normal = np.array(datatable1['S_domain_Normal'])\n",
    "    S_domain_Normal = S_domain_Normal[~np.isnan(S_domain_Normal)]\n",
    "\n",
    "    region_3_Tumor = np.array(datatable1[\"3'region_Tumor\"])\n",
    "    region_3_Tumor = region_3_Tumor[~np.isnan(region_3_Tumor)]\n",
    "    region_3_Normal = np.array(datatable1[\"3'region_Normal\"])\n",
    "    region_3_Normal = region_3_Normal[~np.isnan(region_3_Normal)]\n",
    "\n",
    "    full_length_Tumor = np.array(datatable1['full_length_Tumor'])\n",
    "    full_length_Tumor = full_length_Tumor[~np.isnan(full_length_Tumor)]\n",
    "    full_length_Normal = np.array(datatable1['full_length_Normal'])\n",
    "    full_length_Normal = full_length_Normal[~np.isnan(full_length_Normal)]\n",
    "    Alu_domain_Tumortab = pd.DataFrame(np.concatenate((np.repeat('Alu domain_Tumor',Alu_domain_Tumor.shape[0]).reshape(-1,1),\n",
    "                                        Alu_domain_Tumor.reshape(-1,1)),axis=1))\n",
    "    Alu_domain_Normaltab = pd.DataFrame(np.concatenate((np.repeat('Alu domain_Normal',Alu_domain_Normal.shape[0]).reshape(-1,1),\n",
    "                                            Alu_domain_Normal.reshape(-1,1)),axis=1))\n",
    "    S_domain_Tumortab = pd.DataFrame(np.concatenate((np.repeat('S domain_Tumor',S_domain_Tumor.shape[0]).reshape(-1,1),\n",
    "                                            S_domain_Tumor.reshape(-1,1)),axis=1))\n",
    "    S_domain_Normaltab = pd.DataFrame(np.concatenate((np.repeat('S domain_Normal',S_domain_Normal.shape[0]).reshape(-1,1),\n",
    "                                            S_domain_Normal.reshape(-1,1)),axis=1))\n",
    "    region_3_Tumortab = pd.DataFrame(np.concatenate((np.repeat(\"3' region_Tumor\",region_3_Tumor.shape[0]).reshape(-1,1),\n",
    "                                           region_3_Tumor.reshape(-1,1)),axis=1))\n",
    "    region_3_Normaltab = pd.DataFrame(np.concatenate((np.repeat(\"3' region_Normal\",region_3_Normal.shape[0]).reshape(-1,1),\n",
    "                                           region_3_Normal.reshape(-1,1)),axis=1))\n",
    "    full_length_Tumortab = pd.DataFrame(np.concatenate((np.repeat('full length_Tumor',full_length_Tumor.shape[0]).reshape(-1,1),\n",
    "                                            full_length_Tumor.reshape(-1,1)),axis=1))\n",
    "    full_length_Normaltab = pd.DataFrame(np.concatenate((np.repeat('full length_Normal',full_length_Normal.shape[0]).reshape(-1,1),\n",
    "                                            full_length_Normal.reshape(-1,1)),axis=1))\n",
    "\n",
    "    wholetab1 = pd.concat((Alu_domain_Tumortab,Alu_domain_Normaltab,S_domain_Tumortab,\n",
    "                           S_domain_Normaltab ,region_3_Tumortab,region_3_Normaltab,\n",
    "                          full_length_Tumortab,full_length_Normaltab),axis=0)\n",
    "\n",
    "    wholetab1.columns = ['sample','CPM']\n",
    "    wholetab1['CPM'] = pd.to_numeric(wholetab1['CPM'])\n",
    "    sample = np.ndarray([wholetab1.shape[0],]).astype('str')\n",
    "    status = np.ndarray([wholetab1.shape[0],]).astype('str')\n",
    "    for i in range(wholetab1.shape[0]):\n",
    "        sample[i] = np.array(np.array(wholetab1['sample'])[i].split('_'))[0]\n",
    "        status[i] =  np.array(np.array(wholetab1['sample'])[i].split('_'))[1]\n",
    "    wholetab1['sample'] = sample\n",
    "    wholetab1['status'] = status\n",
    " \n",
    "    p1 =  ss.ranksums(Alu_domain_Tumor,Alu_domain_Normal)[1]\n",
    "    p2 = ss.ranksums(S_domain_Tumor,S_domain_Normal)[1]\n",
    "    p3 = ss.ranksums(region_3_Tumor,region_3_Normal)[1]\n",
    "    p4 = ss.ranksums(full_length_Tumor,full_length_Normal)[1]\n",
    "    fc1 = calculate_fc(Alu_domain_Tumor,Alu_domain_Normal)\n",
    "    fc2 = calculate_fc(S_domain_Tumor,S_domain_Normal)\n",
    "    fc3 = calculate_fc(region_3_Tumor,region_3_Normal)\n",
    "    fc4 = calculate_fc(full_length_Tumor,full_length_Normal)\n",
    "    print np.average(S_domain_Tumor),np.average(S_domain_Normal)\n",
    "    def box_plot_four(styind,contextind,width,height,showdot,showbox,dotsize,fontsize,\n",
    "               ylim,boxwidth,box_violin,compareheight1,compareheight2,compareheight3,compareheight4,palettesind,saturation):\n",
    "        sns.set_context(contexts[int(contextind)])\n",
    "        sns.set_style(styles[int(styind)])\n",
    "\n",
    "\n",
    "        fig, ax = plt.subplots(figsize=(width,height))\n",
    "        if showbox =='yes':\n",
    "            if box_violin=='violin':\n",
    "                sns.violinplot(ax=ax,x=\"sample\", y=\"CPM\",hue=\"status\", data=wholetab1,width=boxwidth,saturation=saturation)\n",
    "            elif box_violin=='box':\n",
    "                sns.boxplot(ax=ax,x=\"sample\", y=\"CPM\",hue=\"status\", data=wholetab1, width=boxwidth,saturation=saturation)\n",
    "        if showdot =='yes':\n",
    "            sns.swarmplot(x=\"sample\", y=\"CPM\", hue=\"status\",data=wholetab1, dodge=True,size=dotsize, edgecolor=\"black\", linewidth=.9)\n",
    "        ax.set_ylim(ylim)\n",
    "        # statistical annotation\n",
    "        \n",
    "        if p1 <=0.05:\n",
    "            significance ='****'\n",
    "        elif p1 >0.05:\n",
    "            significance='ns'\n",
    "        #if wholetab1['CPM'].max() <=70:\n",
    "        highpos = np.sort(wholetab1['CPM'])[-1]\n",
    "        #else:\n",
    "            #highpos = 70\n",
    "        x1, x2 = positionX[0,0],positionX[1,0]   # columns 'Sat' and 'Sun' (first column: 0, see plt.xticks())\n",
    "        y, h, col = highpos + compareheight1, 0.5, 'k'\n",
    "        plt.plot([x1, x1, x2, x2], [y, y+h, y+h, y], lw=0.5, c=col)\n",
    "        plt.text((x1+x2)*.5, y+h, 'FC ' +str('%0.4s'%fc1)+ '\\n '+significance, ha='center', va='bottom', color=col,size=fontsize)\n",
    "        x1, x2 = positionX[0,1],positionX[1,1]\n",
    "        y, h, col = highpos + compareheight2, 0.5, 'k'\n",
    "        plt.plot([x1, x1, x2, x2], [y, y+h, y+h, y], lw=0.5, c=col)\n",
    "        if p2 <=0.05:\n",
    "            significance ='****'\n",
    "        elif p2 >0.05:\n",
    "            significance='ns'\n",
    "        plt.text((x1+x2)*.5, y+h, 'FC ' +str('%0.4s'%fc2)+ '\\n '+significance, ha='center', va='bottom', color=col,size=fontsize)\n",
    "        x1, x2 = positionX[0,2],positionX[1,2]\n",
    "        y, h, col = highpos + compareheight3, 0.5, 'k'\n",
    "        plt.plot([x1, x1, x2, x2], [y, y+h, y+h, y], lw=0.5, c=col)\n",
    "        if p3 <=0.05:\n",
    "            significance ='****'\n",
    "        elif p3 >0.05:\n",
    "            significance='ns'\n",
    "        plt.text((x1+x2)*.5, y+h, 'FC ' +str('%0.4s'%fc3)+ '\\n '+significance, ha='center', va='bottom', color=col,size=fontsize)\n",
    "        x1, x2 =positionX[0,3],positionX[1,3]\n",
    "        y, h, col = highpos + compareheight4, 0.5, 'k'\n",
    "        plt.plot([x1, x1, x2, x2], [y, y+h, y+h, y], lw=0.5, c=col)\n",
    "        if p4 <=0.05:\n",
    "            significance ='****'\n",
    "        elif p4 >0.05:\n",
    "            significance='ns'\n",
    "        plt.text((x1+x2)*.5, y+h, 'FC ' +str('%0.4s'%fc3)+ '\\n '+significance, ha='center', va='bottom', color=col,size=fontsize)\n",
    "    interact(box_plot_four,styind=FloatSlider(min=0,max=3,step=1,value=0),\n",
    "                   contextind=FloatSlider(min=0,max=3,step=1,value=2),\n",
    "                    width =FloatSlider(min=8,max=20,step=1,value=20),\n",
    "                     height= FloatSlider(min=4,max=10,step=1,value=10),\n",
    "             boxwidth= FloatSlider(min=0.05,max=1,step=0.05,value=0.6),\n",
    "             dotsize= FloatSlider(min=1,max=8,step=1,value=5),\n",
    "             fontsize= FloatSlider(min=8,max=30,step=2,value=12),\n",
    "             ylim=FloatRangeSlider(value=[specialy1, specialy2],min=specialy1lim,max=specialy2lim,step=1),\n",
    "                showdot=RadioButtons(options=['yes','no'],value='no'),\n",
    "             showbox=RadioButtons(options=['yes','no']),\n",
    "            box_violin = Dropdown(options=['box','violin'],value='box'),\n",
    "             compareheight1=FloatSlider(min=specialcompareheight1,max=specialcompareheight2,step=specialsteps,value=specialcompareheight3),\n",
    "             compareheight2=FloatSlider(min=specialcompareheight1,max=specialcompareheight2,step=specialsteps,value=specialcompareheight3),\n",
    "             compareheight3=FloatSlider(min=specialcompareheight1,max=specialcompareheight2,step=specialsteps,value=specialcompareheight3),\n",
    "             compareheight4=FloatSlider(min=specialcompareheight1,max=specialcompareheight2,step=specialsteps,value=specialcompareheight3),\n",
    "            palettesind=IntSlider(min=0,max=len(palettes)-1,step=1,value=4),\n",
    "            saturation=FloatSlider(min=0,max=1,step=0.1,value=0.8))\n",
    "\n",
    "    aucspesenarr = np.concatenate(((np.array(find_metrics_best(np.concatenate((np.ones([Alu_domain_Tumor.shape[0]]),np.zeros([Alu_domain_Normal.shape[0]]))),np.concatenate((Alu_domain_Tumor,Alu_domain_Normal)))).reshape(1,-1),\n",
    "               np.array(find_metrics_best(np.concatenate((np.ones([S_domain_Tumor.shape[0]]),np.zeros([S_domain_Normal.shape[0]]))),np.concatenate((S_domain_Tumor,S_domain_Normal)))).reshape(1,-1),\n",
    "                               np.array(find_metrics_best(np.concatenate((np.ones([region_3_Tumor.shape[0]]),np.zeros([region_3_Normal.shape[0]]))),np.concatenate((region_3_Tumor,region_3_Normal)))).reshape(1,-1),\n",
    "                               np.array(find_metrics_best(np.concatenate((np.ones([full_length_Tumor.shape[0]]),np.zeros([full_length_Normal.shape[0]]))),np.concatenate((full_length_Tumor,full_length_Normal)))).reshape(1,-1))))\n",
    "    auc,spe,sen= {},{},{}\n",
    "    for i in range(4):\n",
    "        auc[i],spe[i],sen[i] = aucspesenarr[i][0],aucspesenarr[i][1],aucspesenarr[i][2]\n",
    "    label1 = ['Alu_domain','S_domain',\"3'region\",'full_length']\n",
    "    label2 = ['AUC: ' + str('%0.4s'%auc[i]) +' ['+str('%0.4s'%spe[i])+' '+str('%0.4s'%sen[i])+']' for i in range(4)]\n",
    "    \n",
    "    def rocplot1(styind,contextind,width,height,linewid,color,linewid2,color2,transparency,fontsize,showmetrics):\n",
    "        sns.set_context(contexts[int(contextind)])\n",
    "        sns.set_style(styles[int(styind)])\n",
    "        fig, ax = plt.subplots(figsize=(width,height))\n",
    "        if len(color) !=4:\n",
    "            color = ['r','g','b','m']\n",
    "        if showmetrics =='yes':\n",
    "            labels = [label1[i] +'\\n'+label2[i] for i in range(4)]\n",
    "        else:\n",
    "            labels = [label1[i] for i in range(4)]\n",
    "        a,b,_ = roc_curve(np.concatenate((np.ones([Alu_domain_Tumor.shape[0]]),np.zeros([Alu_domain_Normal.shape[0]]))),np.concatenate((Alu_domain_Tumor,Alu_domain_Normal)))   \n",
    "        ax.plot(a,b,linewidth=linewid,color=color[0],label=labels[0])\n",
    "        a,b,_ = roc_curve(np.concatenate((np.ones([S_domain_Tumor.shape[0]]),np.zeros([S_domain_Normal.shape[0]]))),np.concatenate((S_domain_Tumor,S_domain_Normal)))   \n",
    "        ax.plot(a,b,linewidth=linewid,color=color[1],label=labels[1])\n",
    "        a,b,_ = roc_curve(np.concatenate((np.ones([region_3_Tumor.shape[0]]),np.zeros([region_3_Normal.shape[0]]))),np.concatenate((region_3_Tumor,region_3_Normal)))    \n",
    "        ax.plot(a,b,linewidth=linewid,color=color[2],label=labels[2])\n",
    "        a,b,_ = roc_curve(np.concatenate((np.ones([full_length_Tumor.shape[0]]),np.zeros([full_length_Normal.shape[0]]))),np.concatenate((full_length_Tumor,full_length_Normal)))   \n",
    "        ax.plot(a,b,linewidth=linewid,color=color[3],label=labels[3])\n",
    "\n",
    "        ax.legend(prop={'size': fontsize},loc=4)\n",
    "        #ax.plot(b,a,linewidth=linewid,color=color,linestyle='dashed') #solid’ | ‘dashed’, ‘dashdot’, ‘dotted\n",
    "        ax.plot([0,1],[0,1], linewidth=linewid2,alpha=transparency,color=color2,linestyle='--')\n",
    "    interact(rocplot1,styind=FloatSlider(min=0,max=2,step=1,value=0),\n",
    "               contextind=FloatSlider(min=0,max=3,step=1,value=1),\n",
    "                width =FloatSlider(min=6,max=16,step=1,value=8),\n",
    "                 height= FloatSlider(min=6,max=16,step=1,value=8),\n",
    "        linewid= FloatSlider(min=1,max=4,step=0.3,value=1.5),\n",
    "        color=SelectMultiple(options=['b', 'g', 'r', 'c', 'm', 'y', 'k', 'w'],value=('b', 'g', 'r')),\n",
    "        linewid2= FloatSlider(min=1,max=4,step=0.3,value=1.5),\n",
    "         fontsize= FloatSlider(min=6,max=20,step=1,value=10),\n",
    "        transparency=FloatSlider(min=0,max=1,step=0.05,value=0.5),\n",
    "        color2=Dropdown(options=['b', 'g', 'r', 'c', 'm', 'y', 'k', 'w']),\n",
    "        showmetrics=RadioButtons(options=['yes','no']))\n",
    "    display(pd.DataFrame(np.concatenate(((np.array(find_metrics_best(np.concatenate((np.ones([Alu_domain_Tumor.shape[0]]),np.zeros([Alu_domain_Normal.shape[0]]))),np.concatenate((Alu_domain_Tumor,Alu_domain_Normal)))).reshape(1,-1),\n",
    "               np.array(find_metrics_best(np.concatenate((np.ones([S_domain_Tumor.shape[0]]),np.zeros([S_domain_Normal.shape[0]]))),np.concatenate((S_domain_Tumor,S_domain_Normal)))).reshape(1,-1),\n",
    "                               np.array(find_metrics_best(np.concatenate((np.ones([region_3_Tumor.shape[0]]),np.zeros([region_3_Normal.shape[0]]))),np.concatenate((region_3_Tumor,region_3_Normal)))).reshape(1,-1),\n",
    "                               np.array(find_metrics_best(np.concatenate((np.ones([full_length_Tumor.shape[0]]),np.zeros([full_length_Normal.shape[0]]))),np.concatenate((full_length_Tumor,full_length_Normal)))).reshape(1,-1))))\n",
    ",columns=['AUC','Specificity','Sensitivity'],\n",
    "             index=['Alu_domain','S_domain',\"3'region\",'full_length']))"
   ]
  },
  {
   "cell_type": "code",
   "execution_count": null,
   "metadata": {
    "scrolled": false
   },
   "outputs": [],
   "source": [
    "plotall(datatable1)"
   ]
  },
  {
   "cell_type": "code",
   "execution_count": null,
   "metadata": {
    "scrolled": false
   },
   "outputs": [],
   "source": [
    "plotall(datatable2,500,22000,0,30000,0,1000,500,50)"
   ]
  },
  {
   "cell_type": "code",
   "execution_count": null,
   "metadata": {
    "scrolled": false
   },
   "outputs": [],
   "source": [
    "plotall(datatable3)"
   ]
  },
  {
   "cell_type": "code",
   "execution_count": null,
   "metadata": {
    "scrolled": false
   },
   "outputs": [],
   "source": [
    "plotall(datatable4,specialcompareheight1=-110,specialcompareheight2=0,specialcompareheight3=-120,specialsteps=5)"
   ]
  },
  {
   "cell_type": "markdown",
   "metadata": {},
   "source": [
    "### find metrics best"
   ]
  },
  {
   "cell_type": "code",
   "execution_count": 159,
   "metadata": {},
   "outputs": [
    {
     "data": {
      "text/plain": [
       "<function matplotlib.pyplot.table>"
      ]
     },
     "execution_count": 159,
     "metadata": {},
     "output_type": "execute_result"
    }
   ],
   "source": []
  },
  {
   "cell_type": "code",
   "execution_count": 158,
   "metadata": {},
   "outputs": [
    {
     "data": {
      "text/plain": [
       "(array([1., 1., 1., 1., 1., 1., 1., 1., 1., 1., 1., 1., 1., 1., 1., 1., 1.,\n",
       "        1., 1., 1., 1., 1., 1., 1., 1., 1., 1., 1., 1., 1., 1., 0., 0., 0.,\n",
       "        0., 0., 0., 0., 0., 0., 0., 0.]),\n",
       " array([1.25191265, 6.9128248 , 1.93969545, 5.36058512, 6.3244991 ,\n",
       "        3.75845064, 1.34811064, 5.73937835, 5.82065007, 9.66337134,\n",
       "        2.34439405, 6.08449054, 6.92529617, 5.3339858 , 6.29741793,\n",
       "        7.19861707, 5.47722181, 6.21457422, 5.60950544, 2.12179677,\n",
       "        3.61790309, 1.98682251, 2.42256599, 1.15715326, 0.53983902,\n",
       "        0.53272952, 1.31469977, 3.50017653, 2.12677653, 2.20456405,\n",
       "        3.0540656 , 2.65762542, 3.16461936, 5.71125962, 0.33477597,\n",
       "        0.51947651, 0.60344098, 0.53633088, 1.05741952, 0.87372951,\n",
       "        0.57143394, 1.96495891]))"
      ]
     },
     "execution_count": 158,
     "metadata": {},
     "output_type": "execute_result"
    }
   ],
   "source": [
    "np.concatenate((np.ones([S_domain_Tumor.shape[0]]),np.zeros([S_domain_Normal.shape[0]]))),np.concatenate((S_domain_Tumor,S_domain_Normal))"
   ]
  },
  {
   "cell_type": "code",
   "execution_count": 160,
   "metadata": {},
   "outputs": [],
   "source": [
    "datatable1_ = pd.read_excel('roc7.31.xlsx','Sheet1')\n",
    "datatable2_ = pd.read_excel('roc7.31.xlsx','Sheet2')"
   ]
  },
  {
   "cell_type": "code",
   "execution_count": 188,
   "metadata": {},
   "outputs": [
    {
     "data": {
      "text/html": [
       "<div>\n",
       "<style scoped>\n",
       "    .dataframe tbody tr th:only-of-type {\n",
       "        vertical-align: middle;\n",
       "    }\n",
       "\n",
       "    .dataframe tbody tr th {\n",
       "        vertical-align: top;\n",
       "    }\n",
       "\n",
       "    .dataframe thead th {\n",
       "        text-align: right;\n",
       "    }\n",
       "</style>\n",
       "<table border=\"1\" class=\"dataframe\">\n",
       "  <thead>\n",
       "    <tr style=\"text-align: right;\">\n",
       "      <th></th>\n",
       "      <th>HD+HBV</th>\n",
       "      <th>stageA</th>\n",
       "      <th>stageB</th>\n",
       "      <th>stageC</th>\n",
       "      <th>all stage</th>\n",
       "    </tr>\n",
       "  </thead>\n",
       "  <tbody>\n",
       "    <tr>\n",
       "      <th>0</th>\n",
       "      <td>4.20</td>\n",
       "      <td>4.56</td>\n",
       "      <td>8.60</td>\n",
       "      <td>4.85</td>\n",
       "      <td>4.56</td>\n",
       "    </tr>\n",
       "    <tr>\n",
       "      <th>1</th>\n",
       "      <td>2.39</td>\n",
       "      <td>6.35</td>\n",
       "      <td>9.24</td>\n",
       "      <td>1.20</td>\n",
       "      <td>6.35</td>\n",
       "    </tr>\n",
       "    <tr>\n",
       "      <th>2</th>\n",
       "      <td>2.41</td>\n",
       "      <td>9.91</td>\n",
       "      <td>2.26</td>\n",
       "      <td>10.29</td>\n",
       "      <td>9.91</td>\n",
       "    </tr>\n",
       "    <tr>\n",
       "      <th>3</th>\n",
       "      <td>6.01</td>\n",
       "      <td>4.07</td>\n",
       "      <td>7.76</td>\n",
       "      <td>7.68</td>\n",
       "      <td>4.07</td>\n",
       "    </tr>\n",
       "    <tr>\n",
       "      <th>4</th>\n",
       "      <td>2.44</td>\n",
       "      <td>5.70</td>\n",
       "      <td>1.04</td>\n",
       "      <td>8.90</td>\n",
       "      <td>5.70</td>\n",
       "    </tr>\n",
       "  </tbody>\n",
       "</table>\n",
       "</div>"
      ],
      "text/plain": [
       "   HD+HBV  stageA  stageB  stageC  all stage\n",
       "0    4.20    4.56    8.60    4.85       4.56\n",
       "1    2.39    6.35    9.24    1.20       6.35\n",
       "2    2.41    9.91    2.26   10.29       9.91\n",
       "3    6.01    4.07    7.76    7.68       4.07\n",
       "4    2.44    5.70    1.04    8.90       5.70"
      ]
     },
     "execution_count": 188,
     "metadata": {},
     "output_type": "execute_result"
    }
   ],
   "source": [
    "datatable1_.head()"
   ]
  },
  {
   "cell_type": "code",
   "execution_count": 216,
   "metadata": {},
   "outputs": [
    {
     "data": {
      "text/html": [
       "<div>\n",
       "<style scoped>\n",
       "    .dataframe tbody tr th:only-of-type {\n",
       "        vertical-align: middle;\n",
       "    }\n",
       "\n",
       "    .dataframe tbody tr th {\n",
       "        vertical-align: top;\n",
       "    }\n",
       "\n",
       "    .dataframe thead th {\n",
       "        text-align: right;\n",
       "    }\n",
       "</style>\n",
       "<table border=\"1\" class=\"dataframe\">\n",
       "  <thead>\n",
       "    <tr style=\"text-align: right;\">\n",
       "      <th></th>\n",
       "      <th>HD+HBV</th>\n",
       "      <th>stageA</th>\n",
       "      <th>stageB</th>\n",
       "      <th>stageC</th>\n",
       "      <th>all stage</th>\n",
       "    </tr>\n",
       "  </thead>\n",
       "  <tbody>\n",
       "    <tr>\n",
       "      <th>0</th>\n",
       "      <td>6.41</td>\n",
       "      <td>6.91</td>\n",
       "      <td>7.18</td>\n",
       "      <td>7.52</td>\n",
       "      <td>6.91</td>\n",
       "    </tr>\n",
       "    <tr>\n",
       "      <th>1</th>\n",
       "      <td>3.73</td>\n",
       "      <td>3.12</td>\n",
       "      <td>5.99</td>\n",
       "      <td>7.94</td>\n",
       "      <td>3.12</td>\n",
       "    </tr>\n",
       "    <tr>\n",
       "      <th>2</th>\n",
       "      <td>1.73</td>\n",
       "      <td>5.14</td>\n",
       "      <td>3.66</td>\n",
       "      <td>4.31</td>\n",
       "      <td>5.14</td>\n",
       "    </tr>\n",
       "    <tr>\n",
       "      <th>3</th>\n",
       "      <td>2.43</td>\n",
       "      <td>6.27</td>\n",
       "      <td>-4.55</td>\n",
       "      <td>9.00</td>\n",
       "      <td>6.27</td>\n",
       "    </tr>\n",
       "    <tr>\n",
       "      <th>4</th>\n",
       "      <td>3.05</td>\n",
       "      <td>5.99</td>\n",
       "      <td>4.38</td>\n",
       "      <td>4.75</td>\n",
       "      <td>5.99</td>\n",
       "    </tr>\n",
       "  </tbody>\n",
       "</table>\n",
       "</div>"
      ],
      "text/plain": [
       "   HD+HBV  stageA  stageB  stageC  all stage\n",
       "0    6.41    6.91    7.18    7.52       6.91\n",
       "1    3.73    3.12    5.99    7.94       3.12\n",
       "2    1.73    5.14    3.66    4.31       5.14\n",
       "3    2.43    6.27   -4.55    9.00       6.27\n",
       "4    3.05    5.99    4.38    4.75       5.99"
      ]
     },
     "execution_count": 216,
     "metadata": {},
     "output_type": "execute_result"
    }
   ],
   "source": [
    "datatable2_.head()"
   ]
  },
  {
   "cell_type": "code",
   "execution_count": 185,
   "metadata": {},
   "outputs": [],
   "source": [
    "def delete_nan(data):\n",
    "    return np.array(data)[~np.isnan(np.array(data))]"
   ]
  },
  {
   "cell_type": "code",
   "execution_count": 219,
   "metadata": {},
   "outputs": [],
   "source": [
    "def pipeline_roc(datatable):\n",
    "    normal = delete_nan(datatable['HD+HBV'])\n",
    "    stageA = delete_nan(datatable['stageA'])\n",
    "    stageB = delete_nan(datatable['stageB'])\n",
    "    stageC = delete_nan(datatable['stageC'])\n",
    "    allstage = delete_nan(datatable['all stage'])\n",
    "    sheet1arr = np.array([])\n",
    "    stages = [stageA,stageB,stageC,allstage]\n",
    "    for i in range(4):\n",
    "        sheet1arr = np.concatenate((sheet1arr,get_metrics_result(stages[i],normal)[0])) \n",
    "    table = pd.DataFrame(sheet1arr.reshape(-1,3),columns=['AUC','Specificity','Sensitivity'],\n",
    "             index=['stageA','stageB','stageC','allstage'])\n",
    "    return table"
   ]
  },
  {
   "cell_type": "code",
   "execution_count": 220,
   "metadata": {},
   "outputs": [
    {
     "data": {
      "text/html": [
       "<div>\n",
       "<style scoped>\n",
       "    .dataframe tbody tr th:only-of-type {\n",
       "        vertical-align: middle;\n",
       "    }\n",
       "\n",
       "    .dataframe tbody tr th {\n",
       "        vertical-align: top;\n",
       "    }\n",
       "\n",
       "    .dataframe thead th {\n",
       "        text-align: right;\n",
       "    }\n",
       "</style>\n",
       "<table border=\"1\" class=\"dataframe\">\n",
       "  <thead>\n",
       "    <tr style=\"text-align: right;\">\n",
       "      <th></th>\n",
       "      <th>AUC</th>\n",
       "      <th>Specificity</th>\n",
       "      <th>Sensitivity</th>\n",
       "    </tr>\n",
       "  </thead>\n",
       "  <tbody>\n",
       "    <tr>\n",
       "      <th>stageA</th>\n",
       "      <td>0.781964</td>\n",
       "      <td>0.725000</td>\n",
       "      <td>0.685714</td>\n",
       "    </tr>\n",
       "    <tr>\n",
       "      <th>stageB</th>\n",
       "      <td>0.927473</td>\n",
       "      <td>0.743590</td>\n",
       "      <td>0.985714</td>\n",
       "    </tr>\n",
       "    <tr>\n",
       "      <th>stageC</th>\n",
       "      <td>0.924490</td>\n",
       "      <td>0.761905</td>\n",
       "      <td>0.971429</td>\n",
       "    </tr>\n",
       "    <tr>\n",
       "      <th>allstage</th>\n",
       "      <td>0.868643</td>\n",
       "      <td>0.700000</td>\n",
       "      <td>0.900000</td>\n",
       "    </tr>\n",
       "  </tbody>\n",
       "</table>\n",
       "</div>"
      ],
      "text/plain": [
       "               AUC  Specificity  Sensitivity\n",
       "stageA    0.781964     0.725000     0.685714\n",
       "stageB    0.927473     0.743590     0.985714\n",
       "stageC    0.924490     0.761905     0.971429\n",
       "allstage  0.868643     0.700000     0.900000"
      ]
     },
     "execution_count": 220,
     "metadata": {},
     "output_type": "execute_result"
    }
   ],
   "source": [
    "pipeline_roc(datatable1_)"
   ]
  },
  {
   "cell_type": "code",
   "execution_count": 221,
   "metadata": {},
   "outputs": [
    {
     "data": {
      "text/html": [
       "<div>\n",
       "<style scoped>\n",
       "    .dataframe tbody tr th:only-of-type {\n",
       "        vertical-align: middle;\n",
       "    }\n",
       "\n",
       "    .dataframe tbody tr th {\n",
       "        vertical-align: top;\n",
       "    }\n",
       "\n",
       "    .dataframe thead th {\n",
       "        text-align: right;\n",
       "    }\n",
       "</style>\n",
       "<table border=\"1\" class=\"dataframe\">\n",
       "  <thead>\n",
       "    <tr style=\"text-align: right;\">\n",
       "      <th></th>\n",
       "      <th>AUC</th>\n",
       "      <th>Specificity</th>\n",
       "      <th>Sensitivity</th>\n",
       "    </tr>\n",
       "  </thead>\n",
       "  <tbody>\n",
       "    <tr>\n",
       "      <th>stageA</th>\n",
       "      <td>0.836750</td>\n",
       "      <td>0.650000</td>\n",
       "      <td>0.92</td>\n",
       "    </tr>\n",
       "    <tr>\n",
       "      <th>stageB</th>\n",
       "      <td>0.687179</td>\n",
       "      <td>0.538462</td>\n",
       "      <td>0.96</td>\n",
       "    </tr>\n",
       "    <tr>\n",
       "      <th>stageC</th>\n",
       "      <td>0.694286</td>\n",
       "      <td>0.523810</td>\n",
       "      <td>0.90</td>\n",
       "    </tr>\n",
       "    <tr>\n",
       "      <th>allstage</th>\n",
       "      <td>0.748500</td>\n",
       "      <td>0.670000</td>\n",
       "      <td>0.82</td>\n",
       "    </tr>\n",
       "  </tbody>\n",
       "</table>\n",
       "</div>"
      ],
      "text/plain": [
       "               AUC  Specificity  Sensitivity\n",
       "stageA    0.836750     0.650000         0.92\n",
       "stageB    0.687179     0.538462         0.96\n",
       "stageC    0.694286     0.523810         0.90\n",
       "allstage  0.748500     0.670000         0.82"
      ]
     },
     "execution_count": 221,
     "metadata": {},
     "output_type": "execute_result"
    }
   ],
   "source": [
    "pipeline_roc(datatable2_)"
   ]
  },
  {
   "cell_type": "code",
   "execution_count": 189,
   "metadata": {},
   "outputs": [],
   "source": [
    "normal = delete_nan(datatable1_['HD+HBV'])\n",
    "stageA = delete_nan(datatable1_['stageA'])\n",
    "stageB = delete_nan(datatable1_['stageB'])\n",
    "stageC = delete_nan(datatable1_['stageC'])\n",
    "allstage = delete_nan(datatable1_['all stage'])"
   ]
  },
  {
   "cell_type": "code",
   "execution_count": 206,
   "metadata": {},
   "outputs": [],
   "source": [
    "def get_metrics_result(data1,data2):\n",
    "    data = np.concatenate((np.ones([data1.shape[0]]),np.zeros([data2.shape[0]])))\n",
    "    data_ = np.concatenate((data1,data2))\n",
    "    return find_metrics_best(data,data_),data,data_"
   ]
  },
  {
   "cell_type": "code",
   "execution_count": 218,
   "metadata": {},
   "outputs": [
    {
     "data": {
      "text/html": [
       "<div>\n",
       "<style scoped>\n",
       "    .dataframe tbody tr th:only-of-type {\n",
       "        vertical-align: middle;\n",
       "    }\n",
       "\n",
       "    .dataframe tbody tr th {\n",
       "        vertical-align: top;\n",
       "    }\n",
       "\n",
       "    .dataframe thead th {\n",
       "        text-align: right;\n",
       "    }\n",
       "</style>\n",
       "<table border=\"1\" class=\"dataframe\">\n",
       "  <thead>\n",
       "    <tr style=\"text-align: right;\">\n",
       "      <th></th>\n",
       "      <th>AUC</th>\n",
       "      <th>Specificity</th>\n",
       "      <th>Sensitivity</th>\n",
       "    </tr>\n",
       "  </thead>\n",
       "  <tbody>\n",
       "    <tr>\n",
       "      <th>stageA</th>\n",
       "      <td>0.781964</td>\n",
       "      <td>0.725000</td>\n",
       "      <td>0.685714</td>\n",
       "    </tr>\n",
       "    <tr>\n",
       "      <th>stageB</th>\n",
       "      <td>0.927473</td>\n",
       "      <td>0.743590</td>\n",
       "      <td>0.985714</td>\n",
       "    </tr>\n",
       "    <tr>\n",
       "      <th>stageC</th>\n",
       "      <td>0.924490</td>\n",
       "      <td>0.761905</td>\n",
       "      <td>0.971429</td>\n",
       "    </tr>\n",
       "    <tr>\n",
       "      <th>allstage</th>\n",
       "      <td>0.868643</td>\n",
       "      <td>0.700000</td>\n",
       "      <td>0.900000</td>\n",
       "    </tr>\n",
       "  </tbody>\n",
       "</table>\n",
       "</div>"
      ],
      "text/plain": [
       "               AUC  Specificity  Sensitivity\n",
       "stageA    0.781964     0.725000     0.685714\n",
       "stageB    0.927473     0.743590     0.985714\n",
       "stageC    0.924490     0.761905     0.971429\n",
       "allstage  0.868643     0.700000     0.900000"
      ]
     },
     "execution_count": 218,
     "metadata": {},
     "output_type": "execute_result"
    }
   ],
   "source": [
    "sheet1arr = np.array([])\n",
    "stages = [stageA,stageB,stageC,allstage]\n",
    "for i in range(4):\n",
    "    sheet1arr = np.concatenate((sheet1arr,get_metrics_result(stages[i],normal)[0])) \n",
    "pd.DataFrame(sheet1arr.reshape(-1,3),columns=['AUC','Specificity','Sensitivity'],\n",
    "             index=['stageA','stageB','stageC','allstage'])"
   ]
  },
  {
   "cell_type": "code",
   "execution_count": 222,
   "metadata": {},
   "outputs": [
    {
     "data": {
      "text/plain": [
       "[<matplotlib.lines.Line2D at 0x7f695c7fa290>]"
      ]
     },
     "execution_count": 222,
     "metadata": {},
     "output_type": "execute_result"
    },
    {
     "data": {
      "image/png": "[encoded data removed]",
      "text/plain": [
       "<matplotlib.figure.Figure at 0x7f695c82dcd0>"
      ]
     },
     "metadata": {},
     "output_type": "display_data"
    }
   ],
   "source": [
    "fig,ax=plt.subplots(1,figsize=(8,8))\n",
    "a,b,_ = roc_curve(get_metrics_result(stageA,normal)[1],get_metrics_result(stageA,normal)[2])\n",
    "ax.plot(a,b,linewidth=10,color='r')"
   ]
  },
  {
   "cell_type": "code",
   "execution_count": null,
   "metadata": {},
   "outputs": [],
   "source": []
  }
 ],
 "metadata": {
  "hide_input": false,
  "kernelspec": {
   "display_name": "Python 2",
   "language": "python",
   "name": "python2"
  },
  "language_info": {
   "codemirror_mode": {
    "name": "ipython",
    "version": 2
   },
   "file_extension": ".py",
   "mimetype": "text/x-python",
   "name": "python",
   "nbconvert_exporter": "python",
   "pygments_lexer": "ipython2",
   "version": "2.7.14"
  },
  "toc": {
   "base_numbering": 1,
   "nav_menu": {},
   "number_sections": true,
   "sideBar": true,
   "skip_h1_title": false,
   "title_cell": "Table of Contents",
   "title_sidebar": "Contents",
   "toc_cell": false,
   "toc_position": {
    "height": "calc(100% - 180px)",
    "left": "10px",
    "top": "150px",
    "width": "182px"
   },
   "toc_section_display": true,
   "toc_window_display": true
  }
 },
 "nbformat": 4,
 "nbformat_minor": 2
}
