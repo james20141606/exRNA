{
 "cells": [
  {
   "cell_type": "code",
   "execution_count": 1,
   "metadata": {},
   "outputs": [
    {
     "name": "stdout",
     "output_type": "stream",
     "text": [
      "Populating the interactive namespace from numpy and matplotlib\n"
     ]
    }
   ],
   "source": [
    "%pylab inline"
   ]
  },
  {
   "cell_type": "code",
   "execution_count": 2,
   "metadata": {},
   "outputs": [
    {
     "name": "stdout",
     "output_type": "stream",
     "text": [
      "/Share/home/shibinbin/projects/exRNA\n"
     ]
    }
   ],
   "source": [
    "cd .."
   ]
  },
  {
   "cell_type": "code",
   "execution_count": 14,
   "metadata": {},
   "outputs": [],
   "source": [
    "import os\n",
    "import re\n",
    "import pandas as pd\n",
    "from glob import glob"
   ]
  },
  {
   "cell_type": "code",
   "execution_count": 22,
   "metadata": {},
   "outputs": [],
   "source": [
    "pat = r'output/piranha_peak_cov_with_frequency/20/ZeroTruncatedNegativeBinomial/(?P<pvalue>[0-9]+)/(?P<frequency>[0-9]+)/(?P<sample_id>[^\\.]+).bed'\n",
    "pat = re.compile(pat)\n",
    "records = []\n",
    "for dirpath, dirnames, filenames in os.walk('output/piranha_peak_cov_with_frequency/20/ZeroTruncatedNegativeBinomial'):\n",
    "    for filename in filenames:\n",
    "        fullpath = os.path.join(dirpath, filename)\n",
    "        record = pat.match(fullpath).groupdict()\n",
    "        with open(fullpath, 'r') as f:\n",
    "            df = pd.read_table(f, header=None, sep='\\t')\n",
    "        record['n_peaks'] = df.shape[0]\n",
    "        record['n_nans'] = np.isnan(df.iloc[:, 4]).sum()\n",
    "        records.append(record)\n",
    "records = pd.DataFrame.from_records(records)"
   ]
  },
  {
   "cell_type": "code",
   "execution_count": 25,
   "metadata": {},
   "outputs": [
    {
     "data": {
      "text/plain": [
       "0"
      ]
     },
     "execution_count": 25,
     "metadata": {},
     "output_type": "execute_result"
    }
   ],
   "source": [
    "records['n_nans'].sum()"
   ]
  },
  {
   "cell_type": "code",
   "execution_count": 20,
   "metadata": {},
   "outputs": [
    {
     "data": {
      "text/html": [
       "<div>\n",
       "<style scoped>\n",
       "    .dataframe tbody tr th:only-of-type {\n",
       "        vertical-align: middle;\n",
       "    }\n",
       "\n",
       "    .dataframe tbody tr th {\n",
       "        vertical-align: top;\n",
       "    }\n",
       "\n",
       "    .dataframe thead th {\n",
       "        text-align: right;\n",
       "    }\n",
       "</style>\n",
       "<table border=\"1\" class=\"dataframe\">\n",
       "  <thead>\n",
       "    <tr style=\"text-align: right;\">\n",
       "      <th></th>\n",
       "      <th>0</th>\n",
       "      <th>1</th>\n",
       "      <th>2</th>\n",
       "      <th>3</th>\n",
       "      <th>4</th>\n",
       "      <th>5</th>\n",
       "    </tr>\n",
       "  </thead>\n",
       "  <tbody>\n",
       "    <tr>\n",
       "      <th>0</th>\n",
       "      <td>12954</td>\n",
       "      <td>60</td>\n",
       "      <td>94</td>\n",
       "      <td>peak_1</td>\n",
       "      <td>9</td>\n",
       "      <td>+</td>\n",
       "    </tr>\n",
       "    <tr>\n",
       "      <th>1</th>\n",
       "      <td>12956</td>\n",
       "      <td>0</td>\n",
       "      <td>72</td>\n",
       "      <td>peak_2</td>\n",
       "      <td>55</td>\n",
       "      <td>+</td>\n",
       "    </tr>\n",
       "    <tr>\n",
       "      <th>2</th>\n",
       "      <td>12958</td>\n",
       "      <td>40</td>\n",
       "      <td>82</td>\n",
       "      <td>peak_3</td>\n",
       "      <td>7</td>\n",
       "      <td>+</td>\n",
       "    </tr>\n",
       "    <tr>\n",
       "      <th>3</th>\n",
       "      <td>12962</td>\n",
       "      <td>0</td>\n",
       "      <td>60</td>\n",
       "      <td>peak_4</td>\n",
       "      <td>59</td>\n",
       "      <td>+</td>\n",
       "    </tr>\n",
       "    <tr>\n",
       "      <th>4</th>\n",
       "      <td>12969</td>\n",
       "      <td>0</td>\n",
       "      <td>40</td>\n",
       "      <td>peak_5</td>\n",
       "      <td>44</td>\n",
       "      <td>+</td>\n",
       "    </tr>\n",
       "  </tbody>\n",
       "</table>\n",
       "</div>"
      ],
      "text/plain": [
       "       0   1   2       3   4  5\n",
       "0  12954  60  94  peak_1   9  +\n",
       "1  12956   0  72  peak_2  55  +\n",
       "2  12958  40  82  peak_3   7  +\n",
       "3  12962   0  60  peak_4  59  +\n",
       "4  12969   0  40  peak_5  44  +"
      ]
     },
     "execution_count": 20,
     "metadata": {},
     "output_type": "execute_result"
    }
   ],
   "source": [
    "merged = None\n",
    "for filename in glob('output/piranha_peak_cov_with_frequency_rna_type/20/ZeroTruncatedNegativeBinomial/01/1/509970-A/*.bed'):\n",
    "    pd.read_table(filename, header=None)\n",
    "    bed = pd.read_table(filename, header=None)\n",
    "    if merged is None:\n",
    "        merged = bed\n",
    "    else:\n",
    "        merged.iloc[:, 4] += bed.iloc[:, 4]\n",
    "merged.head()"
   ]
  },
  {
   "cell_type": "code",
   "execution_count": 19,
   "metadata": {},
   "outputs": [
    {
     "data": {
      "text/plain": [
       "0"
      ]
     },
     "execution_count": 19,
     "metadata": {},
     "output_type": "execute_result"
    }
   ],
   "source": [
    "np.isnan(merged.iloc[:, 4]).sum()"
   ]
  },
  {
   "cell_type": "code",
   "execution_count": null,
   "metadata": {},
   "outputs": [],
   "source": []
  }
 ],
 "metadata": {
  "kernelspec": {
   "display_name": "Python 3",
   "language": "python",
   "name": "python3"
  },
  "language_info": {
   "codemirror_mode": {
    "name": "ipython",
    "version": 3
   },
   "file_extension": ".py",
   "mimetype": "text/x-python",
   "name": "python",
   "nbconvert_exporter": "python",
   "pygments_lexer": "ipython3",
   "version": "3.6.3"
  }
 },
 "nbformat": 4,
 "nbformat_minor": 2
}
