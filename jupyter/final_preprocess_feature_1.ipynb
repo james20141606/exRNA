{
 "cells": [
  {
   "cell_type": "code",
   "execution_count": 2,
   "metadata": {},
   "outputs": [],
   "source": [
    "#.libPaths(c('/usr/share/R/library','/usr/lib64/R/library',''))\n",
    "suppressMessages(library(SingleCellExperiment))\n",
    "suppressMessages(library(scater))\n",
    "options(stringsAsFactors = FALSE)\n",
    "setwd(\"~/projects/training\")"
   ]
  },
  {
   "cell_type": "markdown",
   "metadata": {},
   "source": [
    "## 8.4 对四种feature做！\n",
    "- 第一种是斌斌call 出来的所有的domain\n",
    "- 第二种是有structure的domain\n",
    "- 第三种是卡一下domain出现的频率和表达量\n",
    "- 第四种就是把第二种和第三种的要求都加上\n",
    "\n",
    "- 挑选原则，不加postoperative"
   ]
  },
  {
   "cell_type": "markdown",
   "metadata": {},
   "source": [
    "#### load data & annotations"
   ]
  },
  {
   "cell_type": "code",
   "execution_count": 3,
   "metadata": {},
   "outputs": [],
   "source": [
    "wholeanno <-read.table('data/wholeannotation.csv',sep=',',header=T)[seq(1,64),]\n",
    "wholeanno$Class <- \"Ctrl\"\n",
    "wholeanno[which(wholeanno$Disease_status==\"HCC_before_surgery\"),\"Class\"] <- \"HCC\""
   ]
  },
  {
   "cell_type": "code",
   "execution_count": 4,
   "metadata": {},
   "outputs": [
    {
     "data": {
      "text/html": [
       "<ol class=list-inline>\n",
       "\t<li>'lulab_249136_B'</li>\n",
       "\t<li>'lulab_385247_B'</li>\n",
       "\t<li>'lulab_423976_B'</li>\n",
       "\t<li>'lulab_497411_B'</li>\n",
       "\t<li>'lulab_497497_B'</li>\n",
       "\t<li>'lulab_498127_B'</li>\n",
       "\t<li>'lulab_498187_B'</li>\n",
       "\t<li>'lulab_498221_B'</li>\n",
       "\t<li>'lulab_507450_B'</li>\n",
       "\t<li>'lulab_507468_B'</li>\n",
       "\t<li>'lulab_507511_B'</li>\n",
       "\t<li>'lulab_507599_B'</li>\n",
       "\t<li>'lulab_507867_B'</li>\n",
       "\t<li>'lulab_507887_B'</li>\n",
       "\t<li>'lulab_507891_B'</li>\n",
       "\t<li>'lulab_507909_B'</li>\n",
       "\t<li>'lulab_508877_B'</li>\n",
       "\t<li>'lulab_508897_B'</li>\n",
       "\t<li>'lulab_511030_B'</li>\n",
       "\t<li>'lulab_511485_B'</li>\n",
       "\t<li>'lulab_515058_B'</li>\n",
       "\t<li>'lulab_515292_B'</li>\n",
       "\t<li>'lulab_SH325716_B'</li>\n",
       "\t<li>'lulab_SH327409_B'</li>\n",
       "\t<li>'lulab_SH327412_B'</li>\n",
       "\t<li>'lulab_SH327428_B'</li>\n",
       "\t<li>'lulab_17402567_B'</li>\n",
       "\t<li>'lulab_3497470_B'</li>\n",
       "\t<li>'lulab_5474594_B'</li>\n",
       "\t<li>'lulab_6474170_B'</li>\n",
       "\t<li>'lulab_8397116_B'</li>\n",
       "\t<li>'lulab_BD.LOW.mix'</li>\n",
       "\t<li>'lulab_LY'</li>\n",
       "\t<li>'lulab_CXD'</li>\n",
       "\t<li>'lulab_Normal_1'</li>\n",
       "\t<li>'lulab_Normal_2'</li>\n",
       "\t<li>'lulab_Normal_3'</li>\n",
       "\t<li>'lulab_Normal_4'</li>\n",
       "\t<li>'lulab_Normal_5'</li>\n",
       "\t<li>'lulab_Normal_6'</li>\n",
       "\t<li>'lulab_Normal_7'</li>\n",
       "\t<li>'lulab_Normal_8'</li>\n",
       "\t<li>'lulab_498187_A'</li>\n",
       "\t<li>'lulab_498221_A'</li>\n",
       "\t<li>'lulab_385247_A'</li>\n",
       "\t<li>'lulab_498191_A'</li>\n",
       "\t<li>'lulab_511122_A'</li>\n",
       "\t<li>'lulab_510199_A'</li>\n",
       "\t<li>'lulab_333874_A'</li>\n",
       "\t<li>'lulab_482592_A'</li>\n",
       "\t<li>'lulab_486978_A'</li>\n",
       "\t<li>'lulab_508955_A'</li>\n",
       "\t<li>'lulab_509155_A'</li>\n",
       "\t<li>'lulab_509442_A'</li>\n",
       "\t<li>'lulab_509970_A'</li>\n",
       "\t<li>'lulab_510470_A'</li>\n",
       "\t<li>'lulab_515058_A'</li>\n",
       "\t<li>'lulab_515292_A'</li>\n",
       "\t<li>'lulab_10515058_A'</li>\n",
       "\t<li>'lulab_12402567_A'</li>\n",
       "\t<li>'lulab_13515292_A'</li>\n",
       "\t<li>'lulab_HBV_1'</li>\n",
       "\t<li>'lulab_HBV_2'</li>\n",
       "\t<li>'lulab_HBV_3'</li>\n",
       "</ol>\n"
      ],
      "text/latex": [
       "\\begin{enumerate*}\n",
       "\\item 'lulab\\_249136\\_B'\n",
       "\\item 'lulab\\_385247\\_B'\n",
       "\\item 'lulab\\_423976\\_B'\n",
       "\\item 'lulab\\_497411\\_B'\n",
       "\\item 'lulab\\_497497\\_B'\n",
       "\\item 'lulab\\_498127\\_B'\n",
       "\\item 'lulab\\_498187\\_B'\n",
       "\\item 'lulab\\_498221\\_B'\n",
       "\\item 'lulab\\_507450\\_B'\n",
       "\\item 'lulab\\_507468\\_B'\n",
       "\\item 'lulab\\_507511\\_B'\n",
       "\\item 'lulab\\_507599\\_B'\n",
       "\\item 'lulab\\_507867\\_B'\n",
       "\\item 'lulab\\_507887\\_B'\n",
       "\\item 'lulab\\_507891\\_B'\n",
       "\\item 'lulab\\_507909\\_B'\n",
       "\\item 'lulab\\_508877\\_B'\n",
       "\\item 'lulab\\_508897\\_B'\n",
       "\\item 'lulab\\_511030\\_B'\n",
       "\\item 'lulab\\_511485\\_B'\n",
       "\\item 'lulab\\_515058\\_B'\n",
       "\\item 'lulab\\_515292\\_B'\n",
       "\\item 'lulab\\_SH325716\\_B'\n",
       "\\item 'lulab\\_SH327409\\_B'\n",
       "\\item 'lulab\\_SH327412\\_B'\n",
       "\\item 'lulab\\_SH327428\\_B'\n",
       "\\item 'lulab\\_17402567\\_B'\n",
       "\\item 'lulab\\_3497470\\_B'\n",
       "\\item 'lulab\\_5474594\\_B'\n",
       "\\item 'lulab\\_6474170\\_B'\n",
       "\\item 'lulab\\_8397116\\_B'\n",
       "\\item 'lulab\\_BD.LOW.mix'\n",
       "\\item 'lulab\\_LY'\n",
       "\\item 'lulab\\_CXD'\n",
       "\\item 'lulab\\_Normal\\_1'\n",
       "\\item 'lulab\\_Normal\\_2'\n",
       "\\item 'lulab\\_Normal\\_3'\n",
       "\\item 'lulab\\_Normal\\_4'\n",
       "\\item 'lulab\\_Normal\\_5'\n",
       "\\item 'lulab\\_Normal\\_6'\n",
       "\\item 'lulab\\_Normal\\_7'\n",
       "\\item 'lulab\\_Normal\\_8'\n",
       "\\item 'lulab\\_498187\\_A'\n",
       "\\item 'lulab\\_498221\\_A'\n",
       "\\item 'lulab\\_385247\\_A'\n",
       "\\item 'lulab\\_498191\\_A'\n",
       "\\item 'lulab\\_511122\\_A'\n",
       "\\item 'lulab\\_510199\\_A'\n",
       "\\item 'lulab\\_333874\\_A'\n",
       "\\item 'lulab\\_482592\\_A'\n",
       "\\item 'lulab\\_486978\\_A'\n",
       "\\item 'lulab\\_508955\\_A'\n",
       "\\item 'lulab\\_509155\\_A'\n",
       "\\item 'lulab\\_509442\\_A'\n",
       "\\item 'lulab\\_509970\\_A'\n",
       "\\item 'lulab\\_510470\\_A'\n",
       "\\item 'lulab\\_515058\\_A'\n",
       "\\item 'lulab\\_515292\\_A'\n",
       "\\item 'lulab\\_10515058\\_A'\n",
       "\\item 'lulab\\_12402567\\_A'\n",
       "\\item 'lulab\\_13515292\\_A'\n",
       "\\item 'lulab\\_HBV\\_1'\n",
       "\\item 'lulab\\_HBV\\_2'\n",
       "\\item 'lulab\\_HBV\\_3'\n",
       "\\end{enumerate*}\n"
      ],
      "text/markdown": [
       "1. 'lulab_249136_B'\n",
       "2. 'lulab_385247_B'\n",
       "3. 'lulab_423976_B'\n",
       "4. 'lulab_497411_B'\n",
       "5. 'lulab_497497_B'\n",
       "6. 'lulab_498127_B'\n",
       "7. 'lulab_498187_B'\n",
       "8. 'lulab_498221_B'\n",
       "9. 'lulab_507450_B'\n",
       "10. 'lulab_507468_B'\n",
       "11. 'lulab_507511_B'\n",
       "12. 'lulab_507599_B'\n",
       "13. 'lulab_507867_B'\n",
       "14. 'lulab_507887_B'\n",
       "15. 'lulab_507891_B'\n",
       "16. 'lulab_507909_B'\n",
       "17. 'lulab_508877_B'\n",
       "18. 'lulab_508897_B'\n",
       "19. 'lulab_511030_B'\n",
       "20. 'lulab_511485_B'\n",
       "21. 'lulab_515058_B'\n",
       "22. 'lulab_515292_B'\n",
       "23. 'lulab_SH325716_B'\n",
       "24. 'lulab_SH327409_B'\n",
       "25. 'lulab_SH327412_B'\n",
       "26. 'lulab_SH327428_B'\n",
       "27. 'lulab_17402567_B'\n",
       "28. 'lulab_3497470_B'\n",
       "29. 'lulab_5474594_B'\n",
       "30. 'lulab_6474170_B'\n",
       "31. 'lulab_8397116_B'\n",
       "32. 'lulab_BD.LOW.mix'\n",
       "33. 'lulab_LY'\n",
       "34. 'lulab_CXD'\n",
       "35. 'lulab_Normal_1'\n",
       "36. 'lulab_Normal_2'\n",
       "37. 'lulab_Normal_3'\n",
       "38. 'lulab_Normal_4'\n",
       "39. 'lulab_Normal_5'\n",
       "40. 'lulab_Normal_6'\n",
       "41. 'lulab_Normal_7'\n",
       "42. 'lulab_Normal_8'\n",
       "43. 'lulab_498187_A'\n",
       "44. 'lulab_498221_A'\n",
       "45. 'lulab_385247_A'\n",
       "46. 'lulab_498191_A'\n",
       "47. 'lulab_511122_A'\n",
       "48. 'lulab_510199_A'\n",
       "49. 'lulab_333874_A'\n",
       "50. 'lulab_482592_A'\n",
       "51. 'lulab_486978_A'\n",
       "52. 'lulab_508955_A'\n",
       "53. 'lulab_509155_A'\n",
       "54. 'lulab_509442_A'\n",
       "55. 'lulab_509970_A'\n",
       "56. 'lulab_510470_A'\n",
       "57. 'lulab_515058_A'\n",
       "58. 'lulab_515292_A'\n",
       "59. 'lulab_10515058_A'\n",
       "60. 'lulab_12402567_A'\n",
       "61. 'lulab_13515292_A'\n",
       "62. 'lulab_HBV_1'\n",
       "63. 'lulab_HBV_2'\n",
       "64. 'lulab_HBV_3'\n",
       "\n",
       "\n"
      ],
      "text/plain": [
       " [1] \"lulab_249136_B\"   \"lulab_385247_B\"   \"lulab_423976_B\"   \"lulab_497411_B\"  \n",
       " [5] \"lulab_497497_B\"   \"lulab_498127_B\"   \"lulab_498187_B\"   \"lulab_498221_B\"  \n",
       " [9] \"lulab_507450_B\"   \"lulab_507468_B\"   \"lulab_507511_B\"   \"lulab_507599_B\"  \n",
       "[13] \"lulab_507867_B\"   \"lulab_507887_B\"   \"lulab_507891_B\"   \"lulab_507909_B\"  \n",
       "[17] \"lulab_508877_B\"   \"lulab_508897_B\"   \"lulab_511030_B\"   \"lulab_511485_B\"  \n",
       "[21] \"lulab_515058_B\"   \"lulab_515292_B\"   \"lulab_SH325716_B\" \"lulab_SH327409_B\"\n",
       "[25] \"lulab_SH327412_B\" \"lulab_SH327428_B\" \"lulab_17402567_B\" \"lulab_3497470_B\" \n",
       "[29] \"lulab_5474594_B\"  \"lulab_6474170_B\"  \"lulab_8397116_B\"  \"lulab_BD.LOW.mix\"\n",
       "[33] \"lulab_LY\"         \"lulab_CXD\"        \"lulab_Normal_1\"   \"lulab_Normal_2\"  \n",
       "[37] \"lulab_Normal_3\"   \"lulab_Normal_4\"   \"lulab_Normal_5\"   \"lulab_Normal_6\"  \n",
       "[41] \"lulab_Normal_7\"   \"lulab_Normal_8\"   \"lulab_498187_A\"   \"lulab_498221_A\"  \n",
       "[45] \"lulab_385247_A\"   \"lulab_498191_A\"   \"lulab_511122_A\"   \"lulab_510199_A\"  \n",
       "[49] \"lulab_333874_A\"   \"lulab_482592_A\"   \"lulab_486978_A\"   \"lulab_508955_A\"  \n",
       "[53] \"lulab_509155_A\"   \"lulab_509442_A\"   \"lulab_509970_A\"   \"lulab_510470_A\"  \n",
       "[57] \"lulab_515058_A\"   \"lulab_515292_A\"   \"lulab_10515058_A\" \"lulab_12402567_A\"\n",
       "[61] \"lulab_13515292_A\" \"lulab_HBV_1\"      \"lulab_HBV_2\"      \"lulab_HBV_3\"     "
      ]
     },
     "metadata": {},
     "output_type": "display_data"
    }
   ],
   "source": [
    "wholeanno$Sample_ID"
   ]
  },
  {
   "cell_type": "code",
   "execution_count": 48,
   "metadata": {},
   "outputs": [],
   "source": [
    "raw_mx <- read.table('/Share/home/caojingyi/exRNA/process/18.new_hcc_lulab/08.new_peak/new1/all.01.14.count.mx', row.names = 1,skip=1,sep = \"\\t\")\n",
    "#colnames(raw_mx)<-wholeanno$Sample_ID"
   ]
  },
  {
   "cell_type": "code",
   "execution_count": 50,
   "metadata": {},
   "outputs": [
    {
     "data": {
      "text/html": [
       "<table>\n",
       "<thead><tr><th></th><th scope=col>V2</th><th scope=col>V3</th><th scope=col>V4</th><th scope=col>V5</th><th scope=col>V6</th><th scope=col>V7</th><th scope=col>V8</th><th scope=col>V9</th><th scope=col>V10</th><th scope=col>V11</th><th scope=col>⋯</th><th scope=col>V35</th><th scope=col>V36</th><th scope=col>V37</th><th scope=col>V38</th><th scope=col>V39</th><th scope=col>V40</th><th scope=col>V41</th><th scope=col>V42</th><th scope=col>V43</th><th scope=col>V44</th></tr></thead>\n",
       "<tbody>\n",
       "\t<tr><th scope=row>peak_1;12979_0_60</th><td> 239</td><td> 112</td><td>116 </td><td> 209</td><td>130 </td><td> 91 </td><td>142 </td><td>125 </td><td> 66 </td><td>109 </td><td>⋯   </td><td> 25 </td><td> 54 </td><td> 59 </td><td> 33 </td><td> 70 </td><td> 51 </td><td>274 </td><td> 50 </td><td> 81 </td><td> 61 </td></tr>\n",
       "\t<tr><th scope=row>peak_2;12985_20_72</th><td> 249</td><td> 218</td><td>110 </td><td> 232</td><td> 64 </td><td> 62 </td><td> 49 </td><td>107 </td><td> 57 </td><td>145 </td><td>⋯   </td><td> 92 </td><td> 49 </td><td>116 </td><td> 78 </td><td> 87 </td><td>129 </td><td>196 </td><td>102 </td><td>125 </td><td> 94 </td></tr>\n",
       "\t<tr><th scope=row>peak_3;12991_20_72</th><td> 216</td><td> 215</td><td>115 </td><td> 263</td><td> 67 </td><td> 57 </td><td> 50 </td><td> 98 </td><td> 61 </td><td>134 </td><td>⋯   </td><td>108 </td><td> 44 </td><td> 94 </td><td>113 </td><td> 92 </td><td>118 </td><td>184 </td><td>115 </td><td>126 </td><td>104 </td></tr>\n",
       "\t<tr><th scope=row>peak_4;12993_0_72</th><td> 826</td><td> 486</td><td>394 </td><td> 948</td><td>295 </td><td>311 </td><td>266 </td><td>408 </td><td>217 </td><td>400 </td><td>⋯   </td><td>105 </td><td>186 </td><td>174 </td><td>125 </td><td>208 </td><td>191 </td><td>824 </td><td>182 </td><td>290 </td><td>190 </td></tr>\n",
       "\t<tr><th scope=row>peak_5;13011_0_60</th><td> 311</td><td> 515</td><td>370 </td><td> 253</td><td> 77 </td><td>146 </td><td>432 </td><td>387 </td><td>378 </td><td>780 </td><td>⋯   </td><td>340 </td><td>266 </td><td>258 </td><td>390 </td><td>491 </td><td>658 </td><td>212 </td><td>407 </td><td>391 </td><td>383 </td></tr>\n",
       "\t<tr><th scope=row>peak_6;13013_20_72</th><td> 589</td><td> 285</td><td>276 </td><td> 816</td><td>221 </td><td>244 </td><td>139 </td><td>279 </td><td>114 </td><td>198 </td><td>⋯   </td><td> 29 </td><td>102 </td><td>105 </td><td> 63 </td><td> 53 </td><td> 54 </td><td>712 </td><td> 83 </td><td>164 </td><td> 77 </td></tr>\n",
       "\t<tr><th scope=row>peak_7;13014_20_72</th><td> 442</td><td> 245</td><td>252 </td><td> 643</td><td>184 </td><td>173 </td><td>111 </td><td>213 </td><td> 95 </td><td>160 </td><td>⋯   </td><td> 19 </td><td> 75 </td><td> 80 </td><td> 48 </td><td> 84 </td><td> 49 </td><td>587 </td><td> 58 </td><td>134 </td><td> 66 </td></tr>\n",
       "\t<tr><th scope=row>peak_8;13016_0_40</th><td>  55</td><td>  52</td><td>326 </td><td> 126</td><td> 25 </td><td> 89 </td><td>592 </td><td>133 </td><td>187 </td><td>127 </td><td>⋯   </td><td> 71 </td><td> 89 </td><td> 75 </td><td> 64 </td><td>104 </td><td>108 </td><td> 62 </td><td>112 </td><td>103 </td><td> 81 </td></tr>\n",
       "\t<tr><th scope=row>peak_9;13026_0_40</th><td> 270</td><td>1225</td><td>336 </td><td> 706</td><td> 43 </td><td>176 </td><td>179 </td><td>186 </td><td>116 </td><td>316 </td><td>⋯   </td><td> 30 </td><td> 50 </td><td>129 </td><td> 47 </td><td>339 </td><td> 37 </td><td>245 </td><td> 62 </td><td>145 </td><td>162 </td></tr>\n",
       "\t<tr><th scope=row>peak_10;13027_40_60</th><td> 136</td><td> 162</td><td> 71 </td><td> 196</td><td> 53 </td><td> 68 </td><td> 37 </td><td> 70 </td><td> 41 </td><td> 59 </td><td>⋯   </td><td> 59 </td><td> 42 </td><td> 80 </td><td> 53 </td><td> 52 </td><td> 99 </td><td>121 </td><td> 82 </td><td> 87 </td><td> 62 </td></tr>\n",
       "\t<tr><th scope=row>peak_11;13029_0_60</th><td> 405</td><td> 259</td><td>265 </td><td> 497</td><td>170 </td><td>158 </td><td>215 </td><td>238 </td><td>133 </td><td>258 </td><td>⋯   </td><td> 74 </td><td>111 </td><td>130 </td><td> 89 </td><td>149 </td><td>182 </td><td>420 </td><td>115 </td><td>175 </td><td>125 </td></tr>\n",
       "\t<tr><th scope=row>peak_12;13035_0_60</th><td> 475</td><td> 401</td><td>402 </td><td> 340</td><td> 95 </td><td>462 </td><td>991 </td><td>569 </td><td>984 </td><td>760 </td><td>⋯   </td><td>231 </td><td>236 </td><td>173 </td><td>281 </td><td>380 </td><td>438 </td><td>195 </td><td>237 </td><td>273 </td><td>309 </td></tr>\n",
       "\t<tr><th scope=row>peak_13;19740_0_72</th><td> 800</td><td> 449</td><td>426 </td><td> 875</td><td>314 </td><td>282 </td><td>284 </td><td>421 </td><td>208 </td><td>433 </td><td>⋯   </td><td>106 </td><td>166 </td><td>202 </td><td>131 </td><td>224 </td><td>159 </td><td>850 </td><td>169 </td><td>268 </td><td>156 </td></tr>\n",
       "\t<tr><th scope=row>peak_14;20010_20_86</th><td> 237</td><td> 649</td><td>266 </td><td> 215</td><td> 85 </td><td>129 </td><td>191 </td><td>239 </td><td>175 </td><td>413 </td><td>⋯   </td><td>266 </td><td>250 </td><td>265 </td><td>348 </td><td>333 </td><td>313 </td><td>314 </td><td>330 </td><td>359 </td><td>433 </td></tr>\n",
       "\t<tr><th scope=row>peak_15;20044_0_40</th><td>  73</td><td> 138</td><td>254 </td><td> 127</td><td> 25 </td><td> 42 </td><td>654 </td><td>168 </td><td>185 </td><td>226 </td><td>⋯   </td><td> 33 </td><td> 42 </td><td> 67 </td><td> 25 </td><td> 30 </td><td> 47 </td><td> 54 </td><td> 30 </td><td> 70 </td><td> 48 </td></tr>\n",
       "\t<tr><th scope=row>peak_16;20137_40_82</th><td> 223</td><td> 132</td><td> 96 </td><td> 374</td><td> 58 </td><td> 81 </td><td> 78 </td><td>103 </td><td> 49 </td><td> 86 </td><td>⋯   </td><td> 16 </td><td> 62 </td><td> 74 </td><td> 34 </td><td> 37 </td><td> 28 </td><td>330 </td><td> 30 </td><td> 99 </td><td> 35 </td></tr>\n",
       "\t<tr><th scope=row>peak_17;20271_0_40</th><td>  81</td><td> 138</td><td> 85 </td><td> 128</td><td> 55 </td><td> 34 </td><td> 62 </td><td> 50 </td><td> 44 </td><td> 93 </td><td>⋯   </td><td> 34 </td><td> 49 </td><td> 53 </td><td> 33 </td><td> 80 </td><td> 65 </td><td> 76 </td><td> 49 </td><td> 74 </td><td> 66 </td></tr>\n",
       "\t<tr><th scope=row>peak_18;20272_0_72</th><td> 840</td><td> 475</td><td>365 </td><td> 915</td><td>316 </td><td>287 </td><td>302 </td><td>376 </td><td>220 </td><td>389 </td><td>⋯   </td><td> 88 </td><td>173 </td><td>184 </td><td>120 </td><td>227 </td><td>160 </td><td>852 </td><td>201 </td><td>257 </td><td>160 </td></tr>\n",
       "\t<tr><th scope=row>peak_19;20274_0_60</th><td> 327</td><td> 510</td><td>390 </td><td> 263</td><td> 64 </td><td>150 </td><td>417 </td><td>406 </td><td>372 </td><td>735 </td><td>⋯   </td><td>368 </td><td>245 </td><td>274 </td><td>362 </td><td>433 </td><td>658 </td><td>217 </td><td>320 </td><td>377 </td><td>383 </td></tr>\n",
       "\t<tr><th scope=row>peak_20;20276_60_80</th><td> 153</td><td> 114</td><td> 63 </td><td> 317</td><td> 30 </td><td> 47 </td><td> 32 </td><td> 91 </td><td> 24 </td><td> 59 </td><td>⋯   </td><td>  2 </td><td> 18 </td><td> 13 </td><td> 12 </td><td> 13 </td><td> 10 </td><td>229 </td><td>  6 </td><td> 22 </td><td> 17 </td></tr>\n",
       "\t<tr><th scope=row>peak_21;20283_40_60</th><td> 212</td><td> 110</td><td> 97 </td><td> 190</td><td> 23 </td><td> 29 </td><td> 39 </td><td> 94 </td><td> 29 </td><td>105 </td><td>⋯   </td><td> 37 </td><td> 36 </td><td> 51 </td><td> 36 </td><td> 42 </td><td> 67 </td><td>215 </td><td> 33 </td><td> 42 </td><td> 34 </td></tr>\n",
       "\t<tr><th scope=row>peak_22;20284_20_72</th><td> 218</td><td> 220</td><td>123 </td><td> 265</td><td> 68 </td><td> 60 </td><td> 41 </td><td>106 </td><td> 40 </td><td>143 </td><td>⋯   </td><td> 79 </td><td> 64 </td><td> 95 </td><td>108 </td><td> 89 </td><td>130 </td><td>164 </td><td>119 </td><td>137 </td><td>107 </td></tr>\n",
       "\t<tr><th scope=row>peak_23;20288_0_20</th><td> 256</td><td> 233</td><td> 99 </td><td>  29</td><td> 10 </td><td> 12 </td><td> 72 </td><td> 60 </td><td> 49 </td><td> 97 </td><td>⋯   </td><td> 58 </td><td> 74 </td><td>224 </td><td>146 </td><td>106 </td><td>109 </td><td> 73 </td><td> 86 </td><td>210 </td><td>157 </td></tr>\n",
       "\t<tr><th scope=row>peak_24;20288_40_80</th><td> 194</td><td> 226</td><td> 64 </td><td> 167</td><td> 38 </td><td> 59 </td><td> 51 </td><td> 82 </td><td> 21 </td><td> 64 </td><td>⋯   </td><td> 15 </td><td> 27 </td><td> 38 </td><td> 82 </td><td> 24 </td><td> 30 </td><td> 97 </td><td> 17 </td><td> 54 </td><td> 76 </td></tr>\n",
       "\t<tr><th scope=row>peak_25;20332_20_72</th><td> 545</td><td> 282</td><td>239 </td><td> 864</td><td>219 </td><td>243 </td><td>143 </td><td>294 </td><td>100 </td><td>204 </td><td>⋯   </td><td> 28 </td><td>106 </td><td>124 </td><td> 61 </td><td>101 </td><td> 75 </td><td>635 </td><td> 78 </td><td>158 </td><td> 74 </td></tr>\n",
       "\t<tr><th scope=row>peak_26;20648_0_72</th><td>1009</td><td> 534</td><td>391 </td><td>1164</td><td>130 </td><td>244 </td><td>600 </td><td>526 </td><td>408 </td><td>497 </td><td>⋯   </td><td> 79 </td><td>203 </td><td>203 </td><td>129 </td><td>165 </td><td>105 </td><td>875 </td><td>159 </td><td>318 </td><td>156 </td></tr>\n",
       "\t<tr><th scope=row>peak_27;20650_40_74</th><td> 225</td><td>  99</td><td> 60 </td><td> 331</td><td> 36 </td><td> 62 </td><td> 36 </td><td> 92 </td><td> 28 </td><td> 68 </td><td>⋯   </td><td>  4 </td><td> 32 </td><td> 22 </td><td> 11 </td><td> 20 </td><td> 11 </td><td>227 </td><td> 18 </td><td> 29 </td><td> 16 </td></tr>\n",
       "\t<tr><th scope=row>peak_28;20656_0_40</th><td> 165</td><td> 330</td><td>295 </td><td> 475</td><td> 64 </td><td>120 </td><td>533 </td><td>229 </td><td>405 </td><td>220 </td><td>⋯   </td><td> 62 </td><td>133 </td><td>152 </td><td> 83 </td><td> 98 </td><td> 97 </td><td>205 </td><td>110 </td><td>246 </td><td> 88 </td></tr>\n",
       "\t<tr><th scope=row>peak_29;20658_40_74</th><td> 229</td><td> 120</td><td> 48 </td><td> 336</td><td> 36 </td><td> 60 </td><td> 32 </td><td>108 </td><td> 46 </td><td> 88 </td><td>⋯   </td><td> 10 </td><td> 28 </td><td> 17 </td><td>  8 </td><td> 15 </td><td>  9 </td><td>216 </td><td> 27 </td><td> 36 </td><td> 15 </td></tr>\n",
       "\t<tr><th scope=row>peak_30;20819_0_60</th><td> 314</td><td> 631</td><td>577 </td><td> 266</td><td>124 </td><td>141 </td><td>621 </td><td>337 </td><td>397 </td><td>735 </td><td>⋯   </td><td>213 </td><td>225 </td><td>332 </td><td>182 </td><td>233 </td><td>341 </td><td>327 </td><td>226 </td><td>363 </td><td>232 </td></tr>\n",
       "\t<tr><th scope=row>⋮</th><td>⋮</td><td>⋮</td><td>⋮</td><td>⋮</td><td>⋮</td><td>⋮</td><td>⋮</td><td>⋮</td><td>⋮</td><td>⋮</td><td>⋱</td><td>⋮</td><td>⋮</td><td>⋮</td><td>⋮</td><td>⋮</td><td>⋮</td><td>⋮</td><td>⋮</td><td>⋮</td><td>⋮</td></tr>\n",
       "\t<tr><th scope=row>peak_1698;piR-hsa-6145_5_0_32</th><td>  515 </td><td>   438</td><td>   411</td><td> 253  </td><td> 84   </td><td> 422  </td><td>   528</td><td>   657</td><td>  675 </td><td>  994 </td><td>⋯     </td><td>  269 </td><td>  256 </td><td>  206 </td><td>  387 </td><td>  441 </td><td>  517 </td><td> 161  </td><td>  360 </td><td>  358 </td><td>  458 </td></tr>\n",
       "\t<tr><th scope=row>peak_1699;piR-hsa-6145_6_0_32</th><td>  474 </td><td>   439</td><td>   430</td><td> 246  </td><td> 83   </td><td> 386  </td><td>   530</td><td>   684</td><td>  732 </td><td>  964 </td><td>⋯     </td><td>  309 </td><td>  267 </td><td>  219 </td><td>  415 </td><td>  435 </td><td>  571 </td><td> 159  </td><td>  393 </td><td>  345 </td><td>  422 </td></tr>\n",
       "\t<tr><th scope=row>peak_1700;piR-hsa-6145_7_0_32</th><td>  515 </td><td>   407</td><td>   418</td><td> 232  </td><td> 76   </td><td> 429  </td><td>   553</td><td>   682</td><td>  722 </td><td> 1004 </td><td>⋯     </td><td>  282 </td><td>  235 </td><td>  209 </td><td>  429 </td><td>  424 </td><td>  513 </td><td> 158  </td><td>  363 </td><td>  360 </td><td>  430 </td></tr>\n",
       "\t<tr><th scope=row>peak_1701;piR-hsa-6145_8_0_32</th><td>  502 </td><td>   453</td><td>   425</td><td> 221  </td><td> 65   </td><td> 421  </td><td>   550</td><td>   721</td><td>  724 </td><td>  990 </td><td>⋯     </td><td>  309 </td><td>  257 </td><td>  218 </td><td>  355 </td><td>  452 </td><td>  513 </td><td> 139  </td><td>  307 </td><td>  357 </td><td>  460 </td></tr>\n",
       "\t<tr><th scope=row>peak_1702;piR-hsa-6145_9_0_32</th><td>  487 </td><td>   414</td><td>   409</td><td> 242  </td><td> 72   </td><td> 383  </td><td>   587</td><td>   674</td><td>  737 </td><td> 1069 </td><td>⋯     </td><td>  290 </td><td>  248 </td><td>  217 </td><td>  400 </td><td>  407 </td><td>  486 </td><td> 149  </td><td>  330 </td><td>  314 </td><td>  441 </td></tr>\n",
       "\t<tr><th scope=row>peak_1703;piR-hsa-6146_0_31</th><td>  363 </td><td>    92</td><td>   129</td><td> 107  </td><td> 21   </td><td>  35  </td><td>    76</td><td>    61</td><td>   47 </td><td>  221 </td><td>⋯     </td><td>   78 </td><td>   48 </td><td>   52 </td><td>  123 </td><td>  123 </td><td>  158 </td><td>  63  </td><td>  106 </td><td>   88 </td><td>  159 </td></tr>\n",
       "\t<tr><th scope=row>peak_1704;piR-hsa-6147_0_32</th><td>  833 </td><td>   721</td><td>   691</td><td> 393  </td><td>120   </td><td> 189  </td><td>   344</td><td>   519</td><td>  319 </td><td> 1619 </td><td>⋯     </td><td>  802 </td><td>  513 </td><td>  522 </td><td> 1155 </td><td>  900 </td><td> 1384 </td><td> 443  </td><td>  867 </td><td>  695 </td><td> 1180 </td></tr>\n",
       "\t<tr><th scope=row>peak_1705;piR-hsa-619_0_29</th><td>  826 </td><td>  1055</td><td>   938</td><td>2036  </td><td>628   </td><td> 495  </td><td>  1330</td><td>  1672</td><td>  737 </td><td> 1170 </td><td>⋯     </td><td>  204 </td><td>  440 </td><td>  769 </td><td>  873 </td><td>  862 </td><td>  359 </td><td>1226  </td><td>  357 </td><td>  897 </td><td>  883 </td></tr>\n",
       "\t<tr><th scope=row>peak_1706;piR-hsa-7116_0_27</th><td>   12 </td><td>    42</td><td>   268</td><td>  77  </td><td> 23   </td><td> 199  </td><td>   396</td><td>   220</td><td>  230 </td><td>   49 </td><td>⋯     </td><td>   46 </td><td>   73 </td><td>   93 </td><td>  124 </td><td>  148 </td><td>  154 </td><td>  20  </td><td>   79 </td><td>  126 </td><td>  154 </td></tr>\n",
       "\t<tr><th scope=row>peak_1707;piR-hsa-7193_0_31</th><td>  285 </td><td>   149</td><td>   225</td><td> 279  </td><td>279   </td><td> 197  </td><td>   544</td><td>   171</td><td>  163 </td><td>  265 </td><td>⋯     </td><td>   85 </td><td>  129 </td><td>  170 </td><td>  112 </td><td>  121 </td><td>  115 </td><td> 175  </td><td>  137 </td><td>  213 </td><td>  118 </td></tr>\n",
       "\t<tr><th scope=row>peak_1708;piR-hsa-7193_2_0_31</th><td>  300 </td><td>   151</td><td>   224</td><td> 282  </td><td>257   </td><td> 178  </td><td>   551</td><td>   203</td><td>  174 </td><td>  298 </td><td>⋯     </td><td>  101 </td><td>  165 </td><td>  175 </td><td>   98 </td><td>  121 </td><td>  143 </td><td> 197  </td><td>  123 </td><td>  229 </td><td>  130 </td></tr>\n",
       "\t<tr><th scope=row>peak_1709;piR-hsa-7193_3_0_31</th><td>  301 </td><td>   159</td><td>   249</td><td> 275  </td><td>261   </td><td> 169  </td><td>   573</td><td>   167</td><td>  192 </td><td>  274 </td><td>⋯     </td><td>  111 </td><td>  170 </td><td>  142 </td><td>  104 </td><td>  125 </td><td>  160 </td><td> 187  </td><td>  146 </td><td>  198 </td><td>  113 </td></tr>\n",
       "\t<tr><th scope=row>peak_1710;piR-hsa-7193_4_0_31</th><td>  282 </td><td>   158</td><td>   224</td><td> 264  </td><td>248   </td><td> 182  </td><td>   554</td><td>   187</td><td>  193 </td><td>  270 </td><td>⋯     </td><td>   83 </td><td>  168 </td><td>  157 </td><td>   94 </td><td>  112 </td><td>  141 </td><td> 172  </td><td>  145 </td><td>  257 </td><td>  114 </td></tr>\n",
       "\t<tr><th scope=row>peak_1711;piR-hsa-7193_5_0_31</th><td>  311 </td><td>   153</td><td>   224</td><td> 261  </td><td>253   </td><td> 195  </td><td>   537</td><td>   181</td><td>  184 </td><td>  275 </td><td>⋯     </td><td>   98 </td><td>  137 </td><td>  135 </td><td>  100 </td><td>  112 </td><td>  160 </td><td> 191  </td><td>  131 </td><td>  243 </td><td>   90 </td></tr>\n",
       "\t<tr><th scope=row>peak_1712;piR-hsa-7193_6_0_31</th><td>  283 </td><td>   153</td><td>   217</td><td> 268  </td><td>264   </td><td> 193  </td><td>   582</td><td>   213</td><td>  178 </td><td>  264 </td><td>⋯     </td><td>   87 </td><td>  145 </td><td>  150 </td><td>  102 </td><td>  111 </td><td>  126 </td><td> 176  </td><td>  138 </td><td>  195 </td><td>  120 </td></tr>\n",
       "\t<tr><th scope=row>peak_1713;piR-hsa-7193_7_0_31</th><td>  309 </td><td>   159</td><td>   229</td><td> 255  </td><td>250   </td><td> 195  </td><td>   572</td><td>   170</td><td>  185 </td><td>  281 </td><td>⋯     </td><td>   85 </td><td>  158 </td><td>  138 </td><td>  100 </td><td>  112 </td><td>  116 </td><td> 177  </td><td>  144 </td><td>  226 </td><td>  106 </td></tr>\n",
       "\t<tr><th scope=row>peak_1714;piR-hsa-7327_0_27</th><td>   30 </td><td>    58</td><td>    63</td><td>  76  </td><td> 37   </td><td>  85  </td><td>   142</td><td>   255</td><td>   71 </td><td>  154 </td><td>⋯     </td><td>   35 </td><td>   34 </td><td>   50 </td><td>   52 </td><td>   73 </td><td>   85 </td><td>  43  </td><td>   32 </td><td>   44 </td><td>   52 </td></tr>\n",
       "\t<tr><th scope=row>peak_1715;piR-hsa-7327_2_0_27</th><td>   21 </td><td>    65</td><td>    80</td><td>  85  </td><td> 44   </td><td>  66  </td><td>   134</td><td>   247</td><td>   59 </td><td>  145 </td><td>⋯     </td><td>   41 </td><td>   32 </td><td>   61 </td><td>   58 </td><td>   69 </td><td>   98 </td><td>  43  </td><td>   25 </td><td>   31 </td><td>   52 </td></tr>\n",
       "\t<tr><th scope=row>peak_1716;piR-hsa-7327_3_0_27</th><td>   22 </td><td>    71</td><td>    63</td><td>  90  </td><td> 38   </td><td>  81  </td><td>   105</td><td>   229</td><td>   69 </td><td>  156 </td><td>⋯     </td><td>   25 </td><td>   35 </td><td>   55 </td><td>   68 </td><td>   67 </td><td>   91 </td><td>  44  </td><td>   24 </td><td>   37 </td><td>   55 </td></tr>\n",
       "\t<tr><th scope=row>peak_1717;piR-hsa-7327_4_0_27</th><td>   36 </td><td>    52</td><td>    82</td><td>  76  </td><td> 47   </td><td>  85  </td><td>   136</td><td>   243</td><td>   68 </td><td>  162 </td><td>⋯     </td><td>   33 </td><td>   38 </td><td>   39 </td><td>   48 </td><td>   67 </td><td>   89 </td><td>  38  </td><td>   28 </td><td>   31 </td><td>   46 </td></tr>\n",
       "\t<tr><th scope=row>peak_1718;piR-hsa-7327_5_0_27</th><td>   27 </td><td>    64</td><td>    77</td><td>  91  </td><td> 47   </td><td>  86  </td><td>   120</td><td>   262</td><td>   85 </td><td>  135 </td><td>⋯     </td><td>   35 </td><td>   42 </td><td>   44 </td><td>   61 </td><td>   80 </td><td>   79 </td><td>  37  </td><td>   25 </td><td>   43 </td><td>   51 </td></tr>\n",
       "\t<tr><th scope=row>peak_1719;piR-hsa-7327_6_0_27</th><td>   25 </td><td>    51</td><td>    71</td><td> 104  </td><td> 49   </td><td>  86  </td><td>   125</td><td>   251</td><td>   70 </td><td>  151 </td><td>⋯     </td><td>   43 </td><td>   29 </td><td>   46 </td><td>   60 </td><td>   71 </td><td>   72 </td><td>  46  </td><td>   28 </td><td>   36 </td><td>   53 </td></tr>\n",
       "\t<tr><th scope=row>peak_1720;piR-hsa-7327_7_0_27</th><td>   21 </td><td>    53</td><td>    82</td><td>  82  </td><td> 49   </td><td>  83  </td><td>   142</td><td>   216</td><td>   74 </td><td>  172 </td><td>⋯     </td><td>   38 </td><td>   31 </td><td>   58 </td><td>   56 </td><td>   67 </td><td>   77 </td><td>  48  </td><td>   26 </td><td>   44 </td><td>   60 </td></tr>\n",
       "\t<tr><th scope=row>peak_1721;piR-hsa-793_0_30</th><td>  191 </td><td>   760</td><td>   666</td><td> 517  </td><td>181   </td><td> 210  </td><td>   704</td><td>   780</td><td>  502 </td><td>  230 </td><td>⋯     </td><td>   46 </td><td>   82 </td><td>  143 </td><td>  152 </td><td>  158 </td><td>   76 </td><td> 300  </td><td>   80 </td><td>  202 </td><td>  218 </td></tr>\n",
       "\t<tr><th scope=row>peak_1722;piR-hsa-820_0_29</th><td>  681 </td><td> 50345</td><td> 18386</td><td> 463  </td><td> 76   </td><td> 439  </td><td> 27158</td><td> 54848</td><td>11292 </td><td> 6026 </td><td>⋯     </td><td> 1716 </td><td>  385 </td><td>  621 </td><td> 2120 </td><td>  556 </td><td> 3398 </td><td> 525  </td><td>  826 </td><td>  178 </td><td> 1243 </td></tr>\n",
       "\t<tr><th scope=row>peak_1723;piR-hsa-9010_0_26</th><td>  350 </td><td>  3734</td><td>  1345</td><td> 374  </td><td>250   </td><td> 340  </td><td>  1939</td><td>   848</td><td>  754 </td><td>  752 </td><td>⋯     </td><td>   53 </td><td>   79 </td><td>  162 </td><td>  124 </td><td>  152 </td><td>  165 </td><td> 332  </td><td>   92 </td><td>  172 </td><td>  149 </td></tr>\n",
       "\t<tr><th scope=row>peak_1724;piR-hsa-9491_0_32</th><td> 1713 </td><td> 10775</td><td>  3109</td><td>2655  </td><td>246   </td><td>2415  </td><td>  1322</td><td>  3938</td><td> 5306 </td><td> 8706 </td><td>⋯     </td><td>30866 </td><td>11657 </td><td>10205 </td><td>59739 </td><td>25720 </td><td>47438 </td><td>4303  </td><td>35180 </td><td>17042 </td><td>54027 </td></tr>\n",
       "\t<tr><th scope=row>peak_1725;piR-hsa-952_0_28</th><td>10887 </td><td>368876</td><td>135444</td><td>2785  </td><td>408   </td><td>3440  </td><td>244993</td><td>293284</td><td>65559 </td><td>52173 </td><td>⋯     </td><td> 9594 </td><td> 2030 </td><td> 3397 </td><td> 9166 </td><td> 2547 </td><td>14658 </td><td>2650  </td><td> 5409 </td><td> 1086 </td><td> 5771 </td></tr>\n",
       "\t<tr><th scope=row>peak_1726;piR-hsa-963_0_31</th><td>  589 </td><td> 50617</td><td> 19659</td><td> 438  </td><td> 62   </td><td> 450  </td><td> 27185</td><td> 46127</td><td>10110 </td><td> 6175 </td><td>⋯     </td><td> 1451 </td><td>  388 </td><td>  521 </td><td> 1568 </td><td>  504 </td><td> 2577 </td><td> 539  </td><td>  772 </td><td>  144 </td><td> 1048 </td></tr>\n",
       "\t<tr><th scope=row>peak_1727;piR-hsa-993_0_28</th><td>  815 </td><td> 54962</td><td> 25160</td><td> 582  </td><td>359   </td><td>1063  </td><td> 50569</td><td> 54646</td><td>18721 </td><td> 6530 </td><td>⋯     </td><td> 2796 </td><td>  945 </td><td> 1375 </td><td> 2423 </td><td> 1334 </td><td> 4446 </td><td>1392  </td><td> 1429 </td><td>  362 </td><td> 1429 </td></tr>\n",
       "</tbody>\n",
       "</table>\n"
      ],
      "text/latex": [
       "\\begin{tabular}{r|lllllllllllllllllllllllllllllllllllllllllll}\n",
       "  & V2 & V3 & V4 & V5 & V6 & V7 & V8 & V9 & V10 & V11 & ⋯ & V35 & V36 & V37 & V38 & V39 & V40 & V41 & V42 & V43 & V44\\\\\n",
       "\\hline\n",
       "\tpeak\\_1;12979\\_0\\_60 &  239 &  112 & 116  &  209 & 130  &  91  & 142  & 125  &  66  & 109  & ⋯    &  25  &  54  &  59  &  33  &  70  &  51  & 274  &  50  &  81  &  61 \\\\\n",
       "\tpeak\\_2;12985\\_20\\_72 &  249 &  218 & 110  &  232 &  64  &  62  &  49  & 107  &  57  & 145  & ⋯    &  92  &  49  & 116  &  78  &  87  & 129  & 196  & 102  & 125  &  94 \\\\\n",
       "\tpeak\\_3;12991\\_20\\_72 &  216 &  215 & 115  &  263 &  67  &  57  &  50  &  98  &  61  & 134  & ⋯    & 108  &  44  &  94  & 113  &  92  & 118  & 184  & 115  & 126  & 104 \\\\\n",
       "\tpeak\\_4;12993\\_0\\_72 &  826 &  486 & 394  &  948 & 295  & 311  & 266  & 408  & 217  & 400  & ⋯    & 105  & 186  & 174  & 125  & 208  & 191  & 824  & 182  & 290  & 190 \\\\\n",
       "\tpeak\\_5;13011\\_0\\_60 &  311 &  515 & 370  &  253 &  77  & 146  & 432  & 387  & 378  & 780  & ⋯    & 340  & 266  & 258  & 390  & 491  & 658  & 212  & 407  & 391  & 383 \\\\\n",
       "\tpeak\\_6;13013\\_20\\_72 &  589 &  285 & 276  &  816 & 221  & 244  & 139  & 279  & 114  & 198  & ⋯    &  29  & 102  & 105  &  63  &  53  &  54  & 712  &  83  & 164  &  77 \\\\\n",
       "\tpeak\\_7;13014\\_20\\_72 &  442 &  245 & 252  &  643 & 184  & 173  & 111  & 213  &  95  & 160  & ⋯    &  19  &  75  &  80  &  48  &  84  &  49  & 587  &  58  & 134  &  66 \\\\\n",
       "\tpeak\\_8;13016\\_0\\_40 &   55 &   52 & 326  &  126 &  25  &  89  & 592  & 133  & 187  & 127  & ⋯    &  71  &  89  &  75  &  64  & 104  & 108  &  62  & 112  & 103  &  81 \\\\\n",
       "\tpeak\\_9;13026\\_0\\_40 &  270 & 1225 & 336  &  706 &  43  & 176  & 179  & 186  & 116  & 316  & ⋯    &  30  &  50  & 129  &  47  & 339  &  37  & 245  &  62  & 145  & 162 \\\\\n",
       "\tpeak\\_10;13027\\_40\\_60 &  136 &  162 &  71  &  196 &  53  &  68  &  37  &  70  &  41  &  59  & ⋯    &  59  &  42  &  80  &  53  &  52  &  99  & 121  &  82  &  87  &  62 \\\\\n",
       "\tpeak\\_11;13029\\_0\\_60 &  405 &  259 & 265  &  497 & 170  & 158  & 215  & 238  & 133  & 258  & ⋯    &  74  & 111  & 130  &  89  & 149  & 182  & 420  & 115  & 175  & 125 \\\\\n",
       "\tpeak\\_12;13035\\_0\\_60 &  475 &  401 & 402  &  340 &  95  & 462  & 991  & 569  & 984  & 760  & ⋯    & 231  & 236  & 173  & 281  & 380  & 438  & 195  & 237  & 273  & 309 \\\\\n",
       "\tpeak\\_13;19740\\_0\\_72 &  800 &  449 & 426  &  875 & 314  & 282  & 284  & 421  & 208  & 433  & ⋯    & 106  & 166  & 202  & 131  & 224  & 159  & 850  & 169  & 268  & 156 \\\\\n",
       "\tpeak\\_14;20010\\_20\\_86 &  237 &  649 & 266  &  215 &  85  & 129  & 191  & 239  & 175  & 413  & ⋯    & 266  & 250  & 265  & 348  & 333  & 313  & 314  & 330  & 359  & 433 \\\\\n",
       "\tpeak\\_15;20044\\_0\\_40 &   73 &  138 & 254  &  127 &  25  &  42  & 654  & 168  & 185  & 226  & ⋯    &  33  &  42  &  67  &  25  &  30  &  47  &  54  &  30  &  70  &  48 \\\\\n",
       "\tpeak\\_16;20137\\_40\\_82 &  223 &  132 &  96  &  374 &  58  &  81  &  78  & 103  &  49  &  86  & ⋯    &  16  &  62  &  74  &  34  &  37  &  28  & 330  &  30  &  99  &  35 \\\\\n",
       "\tpeak\\_17;20271\\_0\\_40 &   81 &  138 &  85  &  128 &  55  &  34  &  62  &  50  &  44  &  93  & ⋯    &  34  &  49  &  53  &  33  &  80  &  65  &  76  &  49  &  74  &  66 \\\\\n",
       "\tpeak\\_18;20272\\_0\\_72 &  840 &  475 & 365  &  915 & 316  & 287  & 302  & 376  & 220  & 389  & ⋯    &  88  & 173  & 184  & 120  & 227  & 160  & 852  & 201  & 257  & 160 \\\\\n",
       "\tpeak\\_19;20274\\_0\\_60 &  327 &  510 & 390  &  263 &  64  & 150  & 417  & 406  & 372  & 735  & ⋯    & 368  & 245  & 274  & 362  & 433  & 658  & 217  & 320  & 377  & 383 \\\\\n",
       "\tpeak\\_20;20276\\_60\\_80 &  153 &  114 &  63  &  317 &  30  &  47  &  32  &  91  &  24  &  59  & ⋯    &   2  &  18  &  13  &  12  &  13  &  10  & 229  &   6  &  22  &  17 \\\\\n",
       "\tpeak\\_21;20283\\_40\\_60 &  212 &  110 &  97  &  190 &  23  &  29  &  39  &  94  &  29  & 105  & ⋯    &  37  &  36  &  51  &  36  &  42  &  67  & 215  &  33  &  42  &  34 \\\\\n",
       "\tpeak\\_22;20284\\_20\\_72 &  218 &  220 & 123  &  265 &  68  &  60  &  41  & 106  &  40  & 143  & ⋯    &  79  &  64  &  95  & 108  &  89  & 130  & 164  & 119  & 137  & 107 \\\\\n",
       "\tpeak\\_23;20288\\_0\\_20 &  256 &  233 &  99  &   29 &  10  &  12  &  72  &  60  &  49  &  97  & ⋯    &  58  &  74  & 224  & 146  & 106  & 109  &  73  &  86  & 210  & 157 \\\\\n",
       "\tpeak\\_24;20288\\_40\\_80 &  194 &  226 &  64  &  167 &  38  &  59  &  51  &  82  &  21  &  64  & ⋯    &  15  &  27  &  38  &  82  &  24  &  30  &  97  &  17  &  54  &  76 \\\\\n",
       "\tpeak\\_25;20332\\_20\\_72 &  545 &  282 & 239  &  864 & 219  & 243  & 143  & 294  & 100  & 204  & ⋯    &  28  & 106  & 124  &  61  & 101  &  75  & 635  &  78  & 158  &  74 \\\\\n",
       "\tpeak\\_26;20648\\_0\\_72 & 1009 &  534 & 391  & 1164 & 130  & 244  & 600  & 526  & 408  & 497  & ⋯    &  79  & 203  & 203  & 129  & 165  & 105  & 875  & 159  & 318  & 156 \\\\\n",
       "\tpeak\\_27;20650\\_40\\_74 &  225 &   99 &  60  &  331 &  36  &  62  &  36  &  92  &  28  &  68  & ⋯    &   4  &  32  &  22  &  11  &  20  &  11  & 227  &  18  &  29  &  16 \\\\\n",
       "\tpeak\\_28;20656\\_0\\_40 &  165 &  330 & 295  &  475 &  64  & 120  & 533  & 229  & 405  & 220  & ⋯    &  62  & 133  & 152  &  83  &  98  &  97  & 205  & 110  & 246  &  88 \\\\\n",
       "\tpeak\\_29;20658\\_40\\_74 &  229 &  120 &  48  &  336 &  36  &  60  &  32  & 108  &  46  &  88  & ⋯    &  10  &  28  &  17  &   8  &  15  &   9  & 216  &  27  &  36  &  15 \\\\\n",
       "\tpeak\\_30;20819\\_0\\_60 &  314 &  631 & 577  &  266 & 124  & 141  & 621  & 337  & 397  & 735  & ⋯    & 213  & 225  & 332  & 182  & 233  & 341  & 327  & 226  & 363  & 232 \\\\\n",
       "\t⋮ & ⋮ & ⋮ & ⋮ & ⋮ & ⋮ & ⋮ & ⋮ & ⋮ & ⋮ & ⋮ & ⋱ & ⋮ & ⋮ & ⋮ & ⋮ & ⋮ & ⋮ & ⋮ & ⋮ & ⋮ & ⋮\\\\\n",
       "\tpeak\\_1698;piR-hsa-6145\\_5\\_0\\_32 &   515  &    438 &    411 &  253   &  84    &  422   &    528 &    657 &   675  &   994  & ⋯      &   269  &   256  &   206  &   387  &   441  &   517  &  161   &   360  &   358  &   458 \\\\\n",
       "\tpeak\\_1699;piR-hsa-6145\\_6\\_0\\_32 &   474  &    439 &    430 &  246   &  83    &  386   &    530 &    684 &   732  &   964  & ⋯      &   309  &   267  &   219  &   415  &   435  &   571  &  159   &   393  &   345  &   422 \\\\\n",
       "\tpeak\\_1700;piR-hsa-6145\\_7\\_0\\_32 &   515  &    407 &    418 &  232   &  76    &  429   &    553 &    682 &   722  &  1004  & ⋯      &   282  &   235  &   209  &   429  &   424  &   513  &  158   &   363  &   360  &   430 \\\\\n",
       "\tpeak\\_1701;piR-hsa-6145\\_8\\_0\\_32 &   502  &    453 &    425 &  221   &  65    &  421   &    550 &    721 &   724  &   990  & ⋯      &   309  &   257  &   218  &   355  &   452  &   513  &  139   &   307  &   357  &   460 \\\\\n",
       "\tpeak\\_1702;piR-hsa-6145\\_9\\_0\\_32 &   487  &    414 &    409 &  242   &  72    &  383   &    587 &    674 &   737  &  1069  & ⋯      &   290  &   248  &   217  &   400  &   407  &   486  &  149   &   330  &   314  &   441 \\\\\n",
       "\tpeak\\_1703;piR-hsa-6146\\_0\\_31 &   363  &     92 &    129 &  107   &  21    &   35   &     76 &     61 &    47  &   221  & ⋯      &    78  &    48  &    52  &   123  &   123  &   158  &   63   &   106  &    88  &   159 \\\\\n",
       "\tpeak\\_1704;piR-hsa-6147\\_0\\_32 &   833  &    721 &    691 &  393   & 120    &  189   &    344 &    519 &   319  &  1619  & ⋯      &   802  &   513  &   522  &  1155  &   900  &  1384  &  443   &   867  &   695  &  1180 \\\\\n",
       "\tpeak\\_1705;piR-hsa-619\\_0\\_29 &   826  &   1055 &    938 & 2036   & 628    &  495   &   1330 &   1672 &   737  &  1170  & ⋯      &   204  &   440  &   769  &   873  &   862  &   359  & 1226   &   357  &   897  &   883 \\\\\n",
       "\tpeak\\_1706;piR-hsa-7116\\_0\\_27 &    12  &     42 &    268 &   77   &  23    &  199   &    396 &    220 &   230  &    49  & ⋯      &    46  &    73  &    93  &   124  &   148  &   154  &   20   &    79  &   126  &   154 \\\\\n",
       "\tpeak\\_1707;piR-hsa-7193\\_0\\_31 &   285  &    149 &    225 &  279   & 279    &  197   &    544 &    171 &   163  &   265  & ⋯      &    85  &   129  &   170  &   112  &   121  &   115  &  175   &   137  &   213  &   118 \\\\\n",
       "\tpeak\\_1708;piR-hsa-7193\\_2\\_0\\_31 &   300  &    151 &    224 &  282   & 257    &  178   &    551 &    203 &   174  &   298  & ⋯      &   101  &   165  &   175  &    98  &   121  &   143  &  197   &   123  &   229  &   130 \\\\\n",
       "\tpeak\\_1709;piR-hsa-7193\\_3\\_0\\_31 &   301  &    159 &    249 &  275   & 261    &  169   &    573 &    167 &   192  &   274  & ⋯      &   111  &   170  &   142  &   104  &   125  &   160  &  187   &   146  &   198  &   113 \\\\\n",
       "\tpeak\\_1710;piR-hsa-7193\\_4\\_0\\_31 &   282  &    158 &    224 &  264   & 248    &  182   &    554 &    187 &   193  &   270  & ⋯      &    83  &   168  &   157  &    94  &   112  &   141  &  172   &   145  &   257  &   114 \\\\\n",
       "\tpeak\\_1711;piR-hsa-7193\\_5\\_0\\_31 &   311  &    153 &    224 &  261   & 253    &  195   &    537 &    181 &   184  &   275  & ⋯      &    98  &   137  &   135  &   100  &   112  &   160  &  191   &   131  &   243  &    90 \\\\\n",
       "\tpeak\\_1712;piR-hsa-7193\\_6\\_0\\_31 &   283  &    153 &    217 &  268   & 264    &  193   &    582 &    213 &   178  &   264  & ⋯      &    87  &   145  &   150  &   102  &   111  &   126  &  176   &   138  &   195  &   120 \\\\\n",
       "\tpeak\\_1713;piR-hsa-7193\\_7\\_0\\_31 &   309  &    159 &    229 &  255   & 250    &  195   &    572 &    170 &   185  &   281  & ⋯      &    85  &   158  &   138  &   100  &   112  &   116  &  177   &   144  &   226  &   106 \\\\\n",
       "\tpeak\\_1714;piR-hsa-7327\\_0\\_27 &    30  &     58 &     63 &   76   &  37    &   85   &    142 &    255 &    71  &   154  & ⋯      &    35  &    34  &    50  &    52  &    73  &    85  &   43   &    32  &    44  &    52 \\\\\n",
       "\tpeak\\_1715;piR-hsa-7327\\_2\\_0\\_27 &    21  &     65 &     80 &   85   &  44    &   66   &    134 &    247 &    59  &   145  & ⋯      &    41  &    32  &    61  &    58  &    69  &    98  &   43   &    25  &    31  &    52 \\\\\n",
       "\tpeak\\_1716;piR-hsa-7327\\_3\\_0\\_27 &    22  &     71 &     63 &   90   &  38    &   81   &    105 &    229 &    69  &   156  & ⋯      &    25  &    35  &    55  &    68  &    67  &    91  &   44   &    24  &    37  &    55 \\\\\n",
       "\tpeak\\_1717;piR-hsa-7327\\_4\\_0\\_27 &    36  &     52 &     82 &   76   &  47    &   85   &    136 &    243 &    68  &   162  & ⋯      &    33  &    38  &    39  &    48  &    67  &    89  &   38   &    28  &    31  &    46 \\\\\n",
       "\tpeak\\_1718;piR-hsa-7327\\_5\\_0\\_27 &    27  &     64 &     77 &   91   &  47    &   86   &    120 &    262 &    85  &   135  & ⋯      &    35  &    42  &    44  &    61  &    80  &    79  &   37   &    25  &    43  &    51 \\\\\n",
       "\tpeak\\_1719;piR-hsa-7327\\_6\\_0\\_27 &    25  &     51 &     71 &  104   &  49    &   86   &    125 &    251 &    70  &   151  & ⋯      &    43  &    29  &    46  &    60  &    71  &    72  &   46   &    28  &    36  &    53 \\\\\n",
       "\tpeak\\_1720;piR-hsa-7327\\_7\\_0\\_27 &    21  &     53 &     82 &   82   &  49    &   83   &    142 &    216 &    74  &   172  & ⋯      &    38  &    31  &    58  &    56  &    67  &    77  &   48   &    26  &    44  &    60 \\\\\n",
       "\tpeak\\_1721;piR-hsa-793\\_0\\_30 &   191  &    760 &    666 &  517   & 181    &  210   &    704 &    780 &   502  &   230  & ⋯      &    46  &    82  &   143  &   152  &   158  &    76  &  300   &    80  &   202  &   218 \\\\\n",
       "\tpeak\\_1722;piR-hsa-820\\_0\\_29 &   681  &  50345 &  18386 &  463   &  76    &  439   &  27158 &  54848 & 11292  &  6026  & ⋯      &  1716  &   385  &   621  &  2120  &   556  &  3398  &  525   &   826  &   178  &  1243 \\\\\n",
       "\tpeak\\_1723;piR-hsa-9010\\_0\\_26 &   350  &   3734 &   1345 &  374   & 250    &  340   &   1939 &    848 &   754  &   752  & ⋯      &    53  &    79  &   162  &   124  &   152  &   165  &  332   &    92  &   172  &   149 \\\\\n",
       "\tpeak\\_1724;piR-hsa-9491\\_0\\_32 &  1713  &  10775 &   3109 & 2655   & 246    & 2415   &   1322 &   3938 &  5306  &  8706  & ⋯      & 30866  & 11657  & 10205  & 59739  & 25720  & 47438  & 4303   & 35180  & 17042  & 54027 \\\\\n",
       "\tpeak\\_1725;piR-hsa-952\\_0\\_28 & 10887  & 368876 & 135444 & 2785   & 408    & 3440   & 244993 & 293284 & 65559  & 52173  & ⋯      &  9594  &  2030  &  3397  &  9166  &  2547  & 14658  & 2650   &  5409  &  1086  &  5771 \\\\\n",
       "\tpeak\\_1726;piR-hsa-963\\_0\\_31 &   589  &  50617 &  19659 &  438   &  62    &  450   &  27185 &  46127 & 10110  &  6175  & ⋯      &  1451  &   388  &   521  &  1568  &   504  &  2577  &  539   &   772  &   144  &  1048 \\\\\n",
       "\tpeak\\_1727;piR-hsa-993\\_0\\_28 &   815  &  54962 &  25160 &  582   & 359    & 1063   &  50569 &  54646 & 18721  &  6530  & ⋯      &  2796  &   945  &  1375  &  2423  &  1334  &  4446  & 1392   &  1429  &   362  &  1429 \\\\\n",
       "\\end{tabular}\n"
      ],
      "text/markdown": [
       "\n",
       "| <!--/--> | V2 | V3 | V4 | V5 | V6 | V7 | V8 | V9 | V10 | V11 | ⋯ | V35 | V36 | V37 | V38 | V39 | V40 | V41 | V42 | V43 | V44 | \n",
       "|---|---|---|---|---|---|---|---|---|---|---|---|---|---|---|---|---|---|---|---|---|---|---|---|---|---|---|---|---|---|---|---|---|---|---|---|---|---|---|---|---|---|---|---|---|---|---|---|---|---|---|---|---|---|---|---|---|---|---|---|---|\n",
       "| peak_1;12979_0_60 |  239 |  112 | 116  |  209 | 130  |  91  | 142  | 125  |  66  | 109  | ⋯    |  25  |  54  |  59  |  33  |  70  |  51  | 274  |  50  |  81  |  61  | \n",
       "| peak_2;12985_20_72 |  249 |  218 | 110  |  232 |  64  |  62  |  49  | 107  |  57  | 145  | ⋯    |  92  |  49  | 116  |  78  |  87  | 129  | 196  | 102  | 125  |  94  | \n",
       "| peak_3;12991_20_72 |  216 |  215 | 115  |  263 |  67  |  57  |  50  |  98  |  61  | 134  | ⋯    | 108  |  44  |  94  | 113  |  92  | 118  | 184  | 115  | 126  | 104  | \n",
       "| peak_4;12993_0_72 |  826 |  486 | 394  |  948 | 295  | 311  | 266  | 408  | 217  | 400  | ⋯    | 105  | 186  | 174  | 125  | 208  | 191  | 824  | 182  | 290  | 190  | \n",
       "| peak_5;13011_0_60 |  311 |  515 | 370  |  253 |  77  | 146  | 432  | 387  | 378  | 780  | ⋯    | 340  | 266  | 258  | 390  | 491  | 658  | 212  | 407  | 391  | 383  | \n",
       "| peak_6;13013_20_72 |  589 |  285 | 276  |  816 | 221  | 244  | 139  | 279  | 114  | 198  | ⋯    |  29  | 102  | 105  |  63  |  53  |  54  | 712  |  83  | 164  |  77  | \n",
       "| peak_7;13014_20_72 |  442 |  245 | 252  |  643 | 184  | 173  | 111  | 213  |  95  | 160  | ⋯    |  19  |  75  |  80  |  48  |  84  |  49  | 587  |  58  | 134  |  66  | \n",
       "| peak_8;13016_0_40 |   55 |   52 | 326  |  126 |  25  |  89  | 592  | 133  | 187  | 127  | ⋯    |  71  |  89  |  75  |  64  | 104  | 108  |  62  | 112  | 103  |  81  | \n",
       "| peak_9;13026_0_40 |  270 | 1225 | 336  |  706 |  43  | 176  | 179  | 186  | 116  | 316  | ⋯    |  30  |  50  | 129  |  47  | 339  |  37  | 245  |  62  | 145  | 162  | \n",
       "| peak_10;13027_40_60 |  136 |  162 |  71  |  196 |  53  |  68  |  37  |  70  |  41  |  59  | ⋯    |  59  |  42  |  80  |  53  |  52  |  99  | 121  |  82  |  87  |  62  | \n",
       "| peak_11;13029_0_60 |  405 |  259 | 265  |  497 | 170  | 158  | 215  | 238  | 133  | 258  | ⋯    |  74  | 111  | 130  |  89  | 149  | 182  | 420  | 115  | 175  | 125  | \n",
       "| peak_12;13035_0_60 |  475 |  401 | 402  |  340 |  95  | 462  | 991  | 569  | 984  | 760  | ⋯    | 231  | 236  | 173  | 281  | 380  | 438  | 195  | 237  | 273  | 309  | \n",
       "| peak_13;19740_0_72 |  800 |  449 | 426  |  875 | 314  | 282  | 284  | 421  | 208  | 433  | ⋯    | 106  | 166  | 202  | 131  | 224  | 159  | 850  | 169  | 268  | 156  | \n",
       "| peak_14;20010_20_86 |  237 |  649 | 266  |  215 |  85  | 129  | 191  | 239  | 175  | 413  | ⋯    | 266  | 250  | 265  | 348  | 333  | 313  | 314  | 330  | 359  | 433  | \n",
       "| peak_15;20044_0_40 |   73 |  138 | 254  |  127 |  25  |  42  | 654  | 168  | 185  | 226  | ⋯    |  33  |  42  |  67  |  25  |  30  |  47  |  54  |  30  |  70  |  48  | \n",
       "| peak_16;20137_40_82 |  223 |  132 |  96  |  374 |  58  |  81  |  78  | 103  |  49  |  86  | ⋯    |  16  |  62  |  74  |  34  |  37  |  28  | 330  |  30  |  99  |  35  | \n",
       "| peak_17;20271_0_40 |   81 |  138 |  85  |  128 |  55  |  34  |  62  |  50  |  44  |  93  | ⋯    |  34  |  49  |  53  |  33  |  80  |  65  |  76  |  49  |  74  |  66  | \n",
       "| peak_18;20272_0_72 |  840 |  475 | 365  |  915 | 316  | 287  | 302  | 376  | 220  | 389  | ⋯    |  88  | 173  | 184  | 120  | 227  | 160  | 852  | 201  | 257  | 160  | \n",
       "| peak_19;20274_0_60 |  327 |  510 | 390  |  263 |  64  | 150  | 417  | 406  | 372  | 735  | ⋯    | 368  | 245  | 274  | 362  | 433  | 658  | 217  | 320  | 377  | 383  | \n",
       "| peak_20;20276_60_80 |  153 |  114 |  63  |  317 |  30  |  47  |  32  |  91  |  24  |  59  | ⋯    |   2  |  18  |  13  |  12  |  13  |  10  | 229  |   6  |  22  |  17  | \n",
       "| peak_21;20283_40_60 |  212 |  110 |  97  |  190 |  23  |  29  |  39  |  94  |  29  | 105  | ⋯    |  37  |  36  |  51  |  36  |  42  |  67  | 215  |  33  |  42  |  34  | \n",
       "| peak_22;20284_20_72 |  218 |  220 | 123  |  265 |  68  |  60  |  41  | 106  |  40  | 143  | ⋯    |  79  |  64  |  95  | 108  |  89  | 130  | 164  | 119  | 137  | 107  | \n",
       "| peak_23;20288_0_20 |  256 |  233 |  99  |   29 |  10  |  12  |  72  |  60  |  49  |  97  | ⋯    |  58  |  74  | 224  | 146  | 106  | 109  |  73  |  86  | 210  | 157  | \n",
       "| peak_24;20288_40_80 |  194 |  226 |  64  |  167 |  38  |  59  |  51  |  82  |  21  |  64  | ⋯    |  15  |  27  |  38  |  82  |  24  |  30  |  97  |  17  |  54  |  76  | \n",
       "| peak_25;20332_20_72 |  545 |  282 | 239  |  864 | 219  | 243  | 143  | 294  | 100  | 204  | ⋯    |  28  | 106  | 124  |  61  | 101  |  75  | 635  |  78  | 158  |  74  | \n",
       "| peak_26;20648_0_72 | 1009 |  534 | 391  | 1164 | 130  | 244  | 600  | 526  | 408  | 497  | ⋯    |  79  | 203  | 203  | 129  | 165  | 105  | 875  | 159  | 318  | 156  | \n",
       "| peak_27;20650_40_74 |  225 |   99 |  60  |  331 |  36  |  62  |  36  |  92  |  28  |  68  | ⋯    |   4  |  32  |  22  |  11  |  20  |  11  | 227  |  18  |  29  |  16  | \n",
       "| peak_28;20656_0_40 |  165 |  330 | 295  |  475 |  64  | 120  | 533  | 229  | 405  | 220  | ⋯    |  62  | 133  | 152  |  83  |  98  |  97  | 205  | 110  | 246  |  88  | \n",
       "| peak_29;20658_40_74 |  229 |  120 |  48  |  336 |  36  |  60  |  32  | 108  |  46  |  88  | ⋯    |  10  |  28  |  17  |   8  |  15  |   9  | 216  |  27  |  36  |  15  | \n",
       "| peak_30;20819_0_60 |  314 |  631 | 577  |  266 | 124  | 141  | 621  | 337  | 397  | 735  | ⋯    | 213  | 225  | 332  | 182  | 233  | 341  | 327  | 226  | 363  | 232  | \n",
       "| ⋮ | ⋮ | ⋮ | ⋮ | ⋮ | ⋮ | ⋮ | ⋮ | ⋮ | ⋮ | ⋮ | ⋱ | ⋮ | ⋮ | ⋮ | ⋮ | ⋮ | ⋮ | ⋮ | ⋮ | ⋮ | ⋮ | \n",
       "| peak_1698;piR-hsa-6145_5_0_32 |   515  |    438 |    411 |  253   |  84    |  422   |    528 |    657 |   675  |   994  | ⋯      |   269  |   256  |   206  |   387  |   441  |   517  |  161   |   360  |   358  |   458  | \n",
       "| peak_1699;piR-hsa-6145_6_0_32 |   474  |    439 |    430 |  246   |  83    |  386   |    530 |    684 |   732  |   964  | ⋯      |   309  |   267  |   219  |   415  |   435  |   571  |  159   |   393  |   345  |   422  | \n",
       "| peak_1700;piR-hsa-6145_7_0_32 |   515  |    407 |    418 |  232   |  76    |  429   |    553 |    682 |   722  |  1004  | ⋯      |   282  |   235  |   209  |   429  |   424  |   513  |  158   |   363  |   360  |   430  | \n",
       "| peak_1701;piR-hsa-6145_8_0_32 |   502  |    453 |    425 |  221   |  65    |  421   |    550 |    721 |   724  |   990  | ⋯      |   309  |   257  |   218  |   355  |   452  |   513  |  139   |   307  |   357  |   460  | \n",
       "| peak_1702;piR-hsa-6145_9_0_32 |   487  |    414 |    409 |  242   |  72    |  383   |    587 |    674 |   737  |  1069  | ⋯      |   290  |   248  |   217  |   400  |   407  |   486  |  149   |   330  |   314  |   441  | \n",
       "| peak_1703;piR-hsa-6146_0_31 |   363  |     92 |    129 |  107   |  21    |   35   |     76 |     61 |    47  |   221  | ⋯      |    78  |    48  |    52  |   123  |   123  |   158  |   63   |   106  |    88  |   159  | \n",
       "| peak_1704;piR-hsa-6147_0_32 |   833  |    721 |    691 |  393   | 120    |  189   |    344 |    519 |   319  |  1619  | ⋯      |   802  |   513  |   522  |  1155  |   900  |  1384  |  443   |   867  |   695  |  1180  | \n",
       "| peak_1705;piR-hsa-619_0_29 |   826  |   1055 |    938 | 2036   | 628    |  495   |   1330 |   1672 |   737  |  1170  | ⋯      |   204  |   440  |   769  |   873  |   862  |   359  | 1226   |   357  |   897  |   883  | \n",
       "| peak_1706;piR-hsa-7116_0_27 |    12  |     42 |    268 |   77   |  23    |  199   |    396 |    220 |   230  |    49  | ⋯      |    46  |    73  |    93  |   124  |   148  |   154  |   20   |    79  |   126  |   154  | \n",
       "| peak_1707;piR-hsa-7193_0_31 |   285  |    149 |    225 |  279   | 279    |  197   |    544 |    171 |   163  |   265  | ⋯      |    85  |   129  |   170  |   112  |   121  |   115  |  175   |   137  |   213  |   118  | \n",
       "| peak_1708;piR-hsa-7193_2_0_31 |   300  |    151 |    224 |  282   | 257    |  178   |    551 |    203 |   174  |   298  | ⋯      |   101  |   165  |   175  |    98  |   121  |   143  |  197   |   123  |   229  |   130  | \n",
       "| peak_1709;piR-hsa-7193_3_0_31 |   301  |    159 |    249 |  275   | 261    |  169   |    573 |    167 |   192  |   274  | ⋯      |   111  |   170  |   142  |   104  |   125  |   160  |  187   |   146  |   198  |   113  | \n",
       "| peak_1710;piR-hsa-7193_4_0_31 |   282  |    158 |    224 |  264   | 248    |  182   |    554 |    187 |   193  |   270  | ⋯      |    83  |   168  |   157  |    94  |   112  |   141  |  172   |   145  |   257  |   114  | \n",
       "| peak_1711;piR-hsa-7193_5_0_31 |   311  |    153 |    224 |  261   | 253    |  195   |    537 |    181 |   184  |   275  | ⋯      |    98  |   137  |   135  |   100  |   112  |   160  |  191   |   131  |   243  |    90  | \n",
       "| peak_1712;piR-hsa-7193_6_0_31 |   283  |    153 |    217 |  268   | 264    |  193   |    582 |    213 |   178  |   264  | ⋯      |    87  |   145  |   150  |   102  |   111  |   126  |  176   |   138  |   195  |   120  | \n",
       "| peak_1713;piR-hsa-7193_7_0_31 |   309  |    159 |    229 |  255   | 250    |  195   |    572 |    170 |   185  |   281  | ⋯      |    85  |   158  |   138  |   100  |   112  |   116  |  177   |   144  |   226  |   106  | \n",
       "| peak_1714;piR-hsa-7327_0_27 |    30  |     58 |     63 |   76   |  37    |   85   |    142 |    255 |    71  |   154  | ⋯      |    35  |    34  |    50  |    52  |    73  |    85  |   43   |    32  |    44  |    52  | \n",
       "| peak_1715;piR-hsa-7327_2_0_27 |    21  |     65 |     80 |   85   |  44    |   66   |    134 |    247 |    59  |   145  | ⋯      |    41  |    32  |    61  |    58  |    69  |    98  |   43   |    25  |    31  |    52  | \n",
       "| peak_1716;piR-hsa-7327_3_0_27 |    22  |     71 |     63 |   90   |  38    |   81   |    105 |    229 |    69  |   156  | ⋯      |    25  |    35  |    55  |    68  |    67  |    91  |   44   |    24  |    37  |    55  | \n",
       "| peak_1717;piR-hsa-7327_4_0_27 |    36  |     52 |     82 |   76   |  47    |   85   |    136 |    243 |    68  |   162  | ⋯      |    33  |    38  |    39  |    48  |    67  |    89  |   38   |    28  |    31  |    46  | \n",
       "| peak_1718;piR-hsa-7327_5_0_27 |    27  |     64 |     77 |   91   |  47    |   86   |    120 |    262 |    85  |   135  | ⋯      |    35  |    42  |    44  |    61  |    80  |    79  |   37   |    25  |    43  |    51  | \n",
       "| peak_1719;piR-hsa-7327_6_0_27 |    25  |     51 |     71 |  104   |  49    |   86   |    125 |    251 |    70  |   151  | ⋯      |    43  |    29  |    46  |    60  |    71  |    72  |   46   |    28  |    36  |    53  | \n",
       "| peak_1720;piR-hsa-7327_7_0_27 |    21  |     53 |     82 |   82   |  49    |   83   |    142 |    216 |    74  |   172  | ⋯      |    38  |    31  |    58  |    56  |    67  |    77  |   48   |    26  |    44  |    60  | \n",
       "| peak_1721;piR-hsa-793_0_30 |   191  |    760 |    666 |  517   | 181    |  210   |    704 |    780 |   502  |   230  | ⋯      |    46  |    82  |   143  |   152  |   158  |    76  |  300   |    80  |   202  |   218  | \n",
       "| peak_1722;piR-hsa-820_0_29 |   681  |  50345 |  18386 |  463   |  76    |  439   |  27158 |  54848 | 11292  |  6026  | ⋯      |  1716  |   385  |   621  |  2120  |   556  |  3398  |  525   |   826  |   178  |  1243  | \n",
       "| peak_1723;piR-hsa-9010_0_26 |   350  |   3734 |   1345 |  374   | 250    |  340   |   1939 |    848 |   754  |   752  | ⋯      |    53  |    79  |   162  |   124  |   152  |   165  |  332   |    92  |   172  |   149  | \n",
       "| peak_1724;piR-hsa-9491_0_32 |  1713  |  10775 |   3109 | 2655   | 246    | 2415   |   1322 |   3938 |  5306  |  8706  | ⋯      | 30866  | 11657  | 10205  | 59739  | 25720  | 47438  | 4303   | 35180  | 17042  | 54027  | \n",
       "| peak_1725;piR-hsa-952_0_28 | 10887  | 368876 | 135444 | 2785   | 408    | 3440   | 244993 | 293284 | 65559  | 52173  | ⋯      |  9594  |  2030  |  3397  |  9166  |  2547  | 14658  | 2650   |  5409  |  1086  |  5771  | \n",
       "| peak_1726;piR-hsa-963_0_31 |   589  |  50617 |  19659 |  438   |  62    |  450   |  27185 |  46127 | 10110  |  6175  | ⋯      |  1451  |   388  |   521  |  1568  |   504  |  2577  |  539   |   772  |   144  |  1048  | \n",
       "| peak_1727;piR-hsa-993_0_28 |   815  |  54962 |  25160 |  582   | 359    | 1063   |  50569 |  54646 | 18721  |  6530  | ⋯      |  2796  |   945  |  1375  |  2423  |  1334  |  4446  | 1392   |  1429  |   362  |  1429  | \n",
       "\n",
       "\n"
      ],
      "text/plain": [
       "                              V2    V3     V4     V5   V6  V7   V8     V9    \n",
       "peak_1;12979_0_60              239   112   116     209 130  91  142    125   \n",
       "peak_2;12985_20_72             249   218   110     232  64  62   49    107   \n",
       "peak_3;12991_20_72             216   215   115     263  67  57   50     98   \n",
       "peak_4;12993_0_72              826   486   394     948 295 311  266    408   \n",
       "peak_5;13011_0_60              311   515   370     253  77 146  432    387   \n",
       "peak_6;13013_20_72             589   285   276     816 221 244  139    279   \n",
       "peak_7;13014_20_72             442   245   252     643 184 173  111    213   \n",
       "peak_8;13016_0_40               55    52   326     126  25  89  592    133   \n",
       "peak_9;13026_0_40              270  1225   336     706  43 176  179    186   \n",
       "peak_10;13027_40_60            136   162    71     196  53  68   37     70   \n",
       "peak_11;13029_0_60             405   259   265     497 170 158  215    238   \n",
       "peak_12;13035_0_60             475   401   402     340  95 462  991    569   \n",
       "peak_13;19740_0_72             800   449   426     875 314 282  284    421   \n",
       "peak_14;20010_20_86            237   649   266     215  85 129  191    239   \n",
       "peak_15;20044_0_40              73   138   254     127  25  42  654    168   \n",
       "peak_16;20137_40_82            223   132    96     374  58  81   78    103   \n",
       "peak_17;20271_0_40              81   138    85     128  55  34   62     50   \n",
       "peak_18;20272_0_72             840   475   365     915 316 287  302    376   \n",
       "peak_19;20274_0_60             327   510   390     263  64 150  417    406   \n",
       "peak_20;20276_60_80            153   114    63     317  30  47   32     91   \n",
       "peak_21;20283_40_60            212   110    97     190  23  29   39     94   \n",
       "peak_22;20284_20_72            218   220   123     265  68  60   41    106   \n",
       "peak_23;20288_0_20             256   233    99      29  10  12   72     60   \n",
       "peak_24;20288_40_80            194   226    64     167  38  59   51     82   \n",
       "peak_25;20332_20_72            545   282   239     864 219 243  143    294   \n",
       "peak_26;20648_0_72            1009   534   391    1164 130 244  600    526   \n",
       "peak_27;20650_40_74            225    99    60     331  36  62   36     92   \n",
       "peak_28;20656_0_40             165   330   295     475  64 120  533    229   \n",
       "peak_29;20658_40_74            229   120    48     336  36  60   32    108   \n",
       "peak_30;20819_0_60             314   631   577     266 124 141  621    337   \n",
       "⋮                             ⋮     ⋮      ⋮      ⋮    ⋮   ⋮    ⋮      ⋮     \n",
       "peak_1698;piR-hsa-6145_5_0_32   515    438    411  253  84  422    528    657\n",
       "peak_1699;piR-hsa-6145_6_0_32   474    439    430  246  83  386    530    684\n",
       "peak_1700;piR-hsa-6145_7_0_32   515    407    418  232  76  429    553    682\n",
       "peak_1701;piR-hsa-6145_8_0_32   502    453    425  221  65  421    550    721\n",
       "peak_1702;piR-hsa-6145_9_0_32   487    414    409  242  72  383    587    674\n",
       "peak_1703;piR-hsa-6146_0_31     363     92    129  107  21   35     76     61\n",
       "peak_1704;piR-hsa-6147_0_32     833    721    691  393 120  189    344    519\n",
       "peak_1705;piR-hsa-619_0_29      826   1055    938 2036 628  495   1330   1672\n",
       "peak_1706;piR-hsa-7116_0_27      12     42    268   77  23  199    396    220\n",
       "peak_1707;piR-hsa-7193_0_31     285    149    225  279 279  197    544    171\n",
       "peak_1708;piR-hsa-7193_2_0_31   300    151    224  282 257  178    551    203\n",
       "peak_1709;piR-hsa-7193_3_0_31   301    159    249  275 261  169    573    167\n",
       "peak_1710;piR-hsa-7193_4_0_31   282    158    224  264 248  182    554    187\n",
       "peak_1711;piR-hsa-7193_5_0_31   311    153    224  261 253  195    537    181\n",
       "peak_1712;piR-hsa-7193_6_0_31   283    153    217  268 264  193    582    213\n",
       "peak_1713;piR-hsa-7193_7_0_31   309    159    229  255 250  195    572    170\n",
       "peak_1714;piR-hsa-7327_0_27      30     58     63   76  37   85    142    255\n",
       "peak_1715;piR-hsa-7327_2_0_27    21     65     80   85  44   66    134    247\n",
       "peak_1716;piR-hsa-7327_3_0_27    22     71     63   90  38   81    105    229\n",
       "peak_1717;piR-hsa-7327_4_0_27    36     52     82   76  47   85    136    243\n",
       "peak_1718;piR-hsa-7327_5_0_27    27     64     77   91  47   86    120    262\n",
       "peak_1719;piR-hsa-7327_6_0_27    25     51     71  104  49   86    125    251\n",
       "peak_1720;piR-hsa-7327_7_0_27    21     53     82   82  49   83    142    216\n",
       "peak_1721;piR-hsa-793_0_30      191    760    666  517 181  210    704    780\n",
       "peak_1722;piR-hsa-820_0_29      681  50345  18386  463  76  439  27158  54848\n",
       "peak_1723;piR-hsa-9010_0_26     350   3734   1345  374 250  340   1939    848\n",
       "peak_1724;piR-hsa-9491_0_32    1713  10775   3109 2655 246 2415   1322   3938\n",
       "peak_1725;piR-hsa-952_0_28    10887 368876 135444 2785 408 3440 244993 293284\n",
       "peak_1726;piR-hsa-963_0_31      589  50617  19659  438  62  450  27185  46127\n",
       "peak_1727;piR-hsa-993_0_28      815  54962  25160  582 359 1063  50569  54646\n",
       "                              V10   V11   ⋯ V35   V36   V37   V38   V39   V40  \n",
       "peak_1;12979_0_60              66   109   ⋯  25    54    59    33    70    51  \n",
       "peak_2;12985_20_72             57   145   ⋯  92    49   116    78    87   129  \n",
       "peak_3;12991_20_72             61   134   ⋯ 108    44    94   113    92   118  \n",
       "peak_4;12993_0_72             217   400   ⋯ 105   186   174   125   208   191  \n",
       "peak_5;13011_0_60             378   780   ⋯ 340   266   258   390   491   658  \n",
       "peak_6;13013_20_72            114   198   ⋯  29   102   105    63    53    54  \n",
       "peak_7;13014_20_72             95   160   ⋯  19    75    80    48    84    49  \n",
       "peak_8;13016_0_40             187   127   ⋯  71    89    75    64   104   108  \n",
       "peak_9;13026_0_40             116   316   ⋯  30    50   129    47   339    37  \n",
       "peak_10;13027_40_60            41    59   ⋯  59    42    80    53    52    99  \n",
       "peak_11;13029_0_60            133   258   ⋯  74   111   130    89   149   182  \n",
       "peak_12;13035_0_60            984   760   ⋯ 231   236   173   281   380   438  \n",
       "peak_13;19740_0_72            208   433   ⋯ 106   166   202   131   224   159  \n",
       "peak_14;20010_20_86           175   413   ⋯ 266   250   265   348   333   313  \n",
       "peak_15;20044_0_40            185   226   ⋯  33    42    67    25    30    47  \n",
       "peak_16;20137_40_82            49    86   ⋯  16    62    74    34    37    28  \n",
       "peak_17;20271_0_40             44    93   ⋯  34    49    53    33    80    65  \n",
       "peak_18;20272_0_72            220   389   ⋯  88   173   184   120   227   160  \n",
       "peak_19;20274_0_60            372   735   ⋯ 368   245   274   362   433   658  \n",
       "peak_20;20276_60_80            24    59   ⋯   2    18    13    12    13    10  \n",
       "peak_21;20283_40_60            29   105   ⋯  37    36    51    36    42    67  \n",
       "peak_22;20284_20_72            40   143   ⋯  79    64    95   108    89   130  \n",
       "peak_23;20288_0_20             49    97   ⋯  58    74   224   146   106   109  \n",
       "peak_24;20288_40_80            21    64   ⋯  15    27    38    82    24    30  \n",
       "peak_25;20332_20_72           100   204   ⋯  28   106   124    61   101    75  \n",
       "peak_26;20648_0_72            408   497   ⋯  79   203   203   129   165   105  \n",
       "peak_27;20650_40_74            28    68   ⋯   4    32    22    11    20    11  \n",
       "peak_28;20656_0_40            405   220   ⋯  62   133   152    83    98    97  \n",
       "peak_29;20658_40_74            46    88   ⋯  10    28    17     8    15     9  \n",
       "peak_30;20819_0_60            397   735   ⋯ 213   225   332   182   233   341  \n",
       "⋮                             ⋮     ⋮     ⋱ ⋮     ⋮     ⋮     ⋮     ⋮     ⋮    \n",
       "peak_1698;piR-hsa-6145_5_0_32   675   994 ⋯   269   256   206   387   441   517\n",
       "peak_1699;piR-hsa-6145_6_0_32   732   964 ⋯   309   267   219   415   435   571\n",
       "peak_1700;piR-hsa-6145_7_0_32   722  1004 ⋯   282   235   209   429   424   513\n",
       "peak_1701;piR-hsa-6145_8_0_32   724   990 ⋯   309   257   218   355   452   513\n",
       "peak_1702;piR-hsa-6145_9_0_32   737  1069 ⋯   290   248   217   400   407   486\n",
       "peak_1703;piR-hsa-6146_0_31      47   221 ⋯    78    48    52   123   123   158\n",
       "peak_1704;piR-hsa-6147_0_32     319  1619 ⋯   802   513   522  1155   900  1384\n",
       "peak_1705;piR-hsa-619_0_29      737  1170 ⋯   204   440   769   873   862   359\n",
       "peak_1706;piR-hsa-7116_0_27     230    49 ⋯    46    73    93   124   148   154\n",
       "peak_1707;piR-hsa-7193_0_31     163   265 ⋯    85   129   170   112   121   115\n",
       "peak_1708;piR-hsa-7193_2_0_31   174   298 ⋯   101   165   175    98   121   143\n",
       "peak_1709;piR-hsa-7193_3_0_31   192   274 ⋯   111   170   142   104   125   160\n",
       "peak_1710;piR-hsa-7193_4_0_31   193   270 ⋯    83   168   157    94   112   141\n",
       "peak_1711;piR-hsa-7193_5_0_31   184   275 ⋯    98   137   135   100   112   160\n",
       "peak_1712;piR-hsa-7193_6_0_31   178   264 ⋯    87   145   150   102   111   126\n",
       "peak_1713;piR-hsa-7193_7_0_31   185   281 ⋯    85   158   138   100   112   116\n",
       "peak_1714;piR-hsa-7327_0_27      71   154 ⋯    35    34    50    52    73    85\n",
       "peak_1715;piR-hsa-7327_2_0_27    59   145 ⋯    41    32    61    58    69    98\n",
       "peak_1716;piR-hsa-7327_3_0_27    69   156 ⋯    25    35    55    68    67    91\n",
       "peak_1717;piR-hsa-7327_4_0_27    68   162 ⋯    33    38    39    48    67    89\n",
       "peak_1718;piR-hsa-7327_5_0_27    85   135 ⋯    35    42    44    61    80    79\n",
       "peak_1719;piR-hsa-7327_6_0_27    70   151 ⋯    43    29    46    60    71    72\n",
       "peak_1720;piR-hsa-7327_7_0_27    74   172 ⋯    38    31    58    56    67    77\n",
       "peak_1721;piR-hsa-793_0_30      502   230 ⋯    46    82   143   152   158    76\n",
       "peak_1722;piR-hsa-820_0_29    11292  6026 ⋯  1716   385   621  2120   556  3398\n",
       "peak_1723;piR-hsa-9010_0_26     754   752 ⋯    53    79   162   124   152   165\n",
       "peak_1724;piR-hsa-9491_0_32    5306  8706 ⋯ 30866 11657 10205 59739 25720 47438\n",
       "peak_1725;piR-hsa-952_0_28    65559 52173 ⋯  9594  2030  3397  9166  2547 14658\n",
       "peak_1726;piR-hsa-963_0_31    10110  6175 ⋯  1451   388   521  1568   504  2577\n",
       "peak_1727;piR-hsa-993_0_28    18721  6530 ⋯  2796   945  1375  2423  1334  4446\n",
       "                              V41  V42   V43   V44  \n",
       "peak_1;12979_0_60             274   50    81    61  \n",
       "peak_2;12985_20_72            196  102   125    94  \n",
       "peak_3;12991_20_72            184  115   126   104  \n",
       "peak_4;12993_0_72             824  182   290   190  \n",
       "peak_5;13011_0_60             212  407   391   383  \n",
       "peak_6;13013_20_72            712   83   164    77  \n",
       "peak_7;13014_20_72            587   58   134    66  \n",
       "peak_8;13016_0_40              62  112   103    81  \n",
       "peak_9;13026_0_40             245   62   145   162  \n",
       "peak_10;13027_40_60           121   82    87    62  \n",
       "peak_11;13029_0_60            420  115   175   125  \n",
       "peak_12;13035_0_60            195  237   273   309  \n",
       "peak_13;19740_0_72            850  169   268   156  \n",
       "peak_14;20010_20_86           314  330   359   433  \n",
       "peak_15;20044_0_40             54   30    70    48  \n",
       "peak_16;20137_40_82           330   30    99    35  \n",
       "peak_17;20271_0_40             76   49    74    66  \n",
       "peak_18;20272_0_72            852  201   257   160  \n",
       "peak_19;20274_0_60            217  320   377   383  \n",
       "peak_20;20276_60_80           229    6    22    17  \n",
       "peak_21;20283_40_60           215   33    42    34  \n",
       "peak_22;20284_20_72           164  119   137   107  \n",
       "peak_23;20288_0_20             73   86   210   157  \n",
       "peak_24;20288_40_80            97   17    54    76  \n",
       "peak_25;20332_20_72           635   78   158    74  \n",
       "peak_26;20648_0_72            875  159   318   156  \n",
       "peak_27;20650_40_74           227   18    29    16  \n",
       "peak_28;20656_0_40            205  110   246    88  \n",
       "peak_29;20658_40_74           216   27    36    15  \n",
       "peak_30;20819_0_60            327  226   363   232  \n",
       "⋮                             ⋮    ⋮     ⋮     ⋮    \n",
       "peak_1698;piR-hsa-6145_5_0_32  161   360   358   458\n",
       "peak_1699;piR-hsa-6145_6_0_32  159   393   345   422\n",
       "peak_1700;piR-hsa-6145_7_0_32  158   363   360   430\n",
       "peak_1701;piR-hsa-6145_8_0_32  139   307   357   460\n",
       "peak_1702;piR-hsa-6145_9_0_32  149   330   314   441\n",
       "peak_1703;piR-hsa-6146_0_31     63   106    88   159\n",
       "peak_1704;piR-hsa-6147_0_32    443   867   695  1180\n",
       "peak_1705;piR-hsa-619_0_29    1226   357   897   883\n",
       "peak_1706;piR-hsa-7116_0_27     20    79   126   154\n",
       "peak_1707;piR-hsa-7193_0_31    175   137   213   118\n",
       "peak_1708;piR-hsa-7193_2_0_31  197   123   229   130\n",
       "peak_1709;piR-hsa-7193_3_0_31  187   146   198   113\n",
       "peak_1710;piR-hsa-7193_4_0_31  172   145   257   114\n",
       "peak_1711;piR-hsa-7193_5_0_31  191   131   243    90\n",
       "peak_1712;piR-hsa-7193_6_0_31  176   138   195   120\n",
       "peak_1713;piR-hsa-7193_7_0_31  177   144   226   106\n",
       "peak_1714;piR-hsa-7327_0_27     43    32    44    52\n",
       "peak_1715;piR-hsa-7327_2_0_27   43    25    31    52\n",
       "peak_1716;piR-hsa-7327_3_0_27   44    24    37    55\n",
       "peak_1717;piR-hsa-7327_4_0_27   38    28    31    46\n",
       "peak_1718;piR-hsa-7327_5_0_27   37    25    43    51\n",
       "peak_1719;piR-hsa-7327_6_0_27   46    28    36    53\n",
       "peak_1720;piR-hsa-7327_7_0_27   48    26    44    60\n",
       "peak_1721;piR-hsa-793_0_30     300    80   202   218\n",
       "peak_1722;piR-hsa-820_0_29     525   826   178  1243\n",
       "peak_1723;piR-hsa-9010_0_26    332    92   172   149\n",
       "peak_1724;piR-hsa-9491_0_32   4303 35180 17042 54027\n",
       "peak_1725;piR-hsa-952_0_28    2650  5409  1086  5771\n",
       "peak_1726;piR-hsa-963_0_31     539   772   144  1048\n",
       "peak_1727;piR-hsa-993_0_28    1392  1429   362  1429"
      ]
     },
     "metadata": {},
     "output_type": "display_data"
    }
   ],
   "source": [
    "raw_mx"
   ]
  },
  {
   "cell_type": "code",
   "execution_count": 51,
   "metadata": {},
   "outputs": [],
   "source": [
    "colnames(raw_mx)<-wholeanno[wholeanno$use ==1,]$Sample_ID"
   ]
  },
  {
   "cell_type": "code",
   "execution_count": 53,
   "metadata": {},
   "outputs": [
    {
     "data": {
      "text/html": [
       "<ol class=list-inline>\n",
       "\t<li>'peak_371;ENST00000364908.1_0_80'</li>\n",
       "\t<li>'peak_618;ENST00000385059.1_0_72'</li>\n",
       "\t<li>'peak_608;ENST00000385044.3_0_80'</li>\n",
       "\t<li>'peak_189;ENST00000362134.1_0_72'</li>\n",
       "\t<li>'peak_236;ENST00000362309.3_0_40'</li>\n",
       "\t<li>'peak_211;ENST00000362205.1_0_40'</li>\n",
       "\t<li>'peak_615;ENST00000385054.1_0_80'</li>\n",
       "\t<li>'peak_232;ENST00000362291.1_0_80'</li>\n",
       "\t<li>'peak_228;ENST00000362280.3_0_40'</li>\n",
       "\t<li>'peak_1183;ENST00000637446.1_0_64'</li>\n",
       "\t<li>'peak_1040;ENST00000612171.2_0_68'</li>\n",
       "\t<li>'peak_213;ENST00000362215.3_0_68'</li>\n",
       "\t<li>'peak_208;ENST00000362201.2_0_80'</li>\n",
       "\t<li>'peak_630;ENST00000385140.1_0_80'</li>\n",
       "\t<li>'peak_635;ENST00000385201.1_0_80'</li>\n",
       "\t<li>'peak_230;ENST00000362283.1_0_70'</li>\n",
       "\t<li>'peak_668;ENST00000385277.1_0_80'</li>\n",
       "\t<li>'peak_221;ENST00000362251.4_0_77'</li>\n",
       "\t<li>'peak_209;ENST00000362202.3_0_40'</li>\n",
       "\t<li>'peak_530;ENST00000384816.1_0_80'</li>\n",
       "</ol>\n"
      ],
      "text/latex": [
       "\\begin{enumerate*}\n",
       "\\item 'peak\\_371;ENST00000364908.1\\_0\\_80'\n",
       "\\item 'peak\\_618;ENST00000385059.1\\_0\\_72'\n",
       "\\item 'peak\\_608;ENST00000385044.3\\_0\\_80'\n",
       "\\item 'peak\\_189;ENST00000362134.1\\_0\\_72'\n",
       "\\item 'peak\\_236;ENST00000362309.3\\_0\\_40'\n",
       "\\item 'peak\\_211;ENST00000362205.1\\_0\\_40'\n",
       "\\item 'peak\\_615;ENST00000385054.1\\_0\\_80'\n",
       "\\item 'peak\\_232;ENST00000362291.1\\_0\\_80'\n",
       "\\item 'peak\\_228;ENST00000362280.3\\_0\\_40'\n",
       "\\item 'peak\\_1183;ENST00000637446.1\\_0\\_64'\n",
       "\\item 'peak\\_1040;ENST00000612171.2\\_0\\_68'\n",
       "\\item 'peak\\_213;ENST00000362215.3\\_0\\_68'\n",
       "\\item 'peak\\_208;ENST00000362201.2\\_0\\_80'\n",
       "\\item 'peak\\_630;ENST00000385140.1\\_0\\_80'\n",
       "\\item 'peak\\_635;ENST00000385201.1\\_0\\_80'\n",
       "\\item 'peak\\_230;ENST00000362283.1\\_0\\_70'\n",
       "\\item 'peak\\_668;ENST00000385277.1\\_0\\_80'\n",
       "\\item 'peak\\_221;ENST00000362251.4\\_0\\_77'\n",
       "\\item 'peak\\_209;ENST00000362202.3\\_0\\_40'\n",
       "\\item 'peak\\_530;ENST00000384816.1\\_0\\_80'\n",
       "\\end{enumerate*}\n"
      ],
      "text/markdown": [
       "1. 'peak_371;ENST00000364908.1_0_80'\n",
       "2. 'peak_618;ENST00000385059.1_0_72'\n",
       "3. 'peak_608;ENST00000385044.3_0_80'\n",
       "4. 'peak_189;ENST00000362134.1_0_72'\n",
       "5. 'peak_236;ENST00000362309.3_0_40'\n",
       "6. 'peak_211;ENST00000362205.1_0_40'\n",
       "7. 'peak_615;ENST00000385054.1_0_80'\n",
       "8. 'peak_232;ENST00000362291.1_0_80'\n",
       "9. 'peak_228;ENST00000362280.3_0_40'\n",
       "10. 'peak_1183;ENST00000637446.1_0_64'\n",
       "11. 'peak_1040;ENST00000612171.2_0_68'\n",
       "12. 'peak_213;ENST00000362215.3_0_68'\n",
       "13. 'peak_208;ENST00000362201.2_0_80'\n",
       "14. 'peak_630;ENST00000385140.1_0_80'\n",
       "15. 'peak_635;ENST00000385201.1_0_80'\n",
       "16. 'peak_230;ENST00000362283.1_0_70'\n",
       "17. 'peak_668;ENST00000385277.1_0_80'\n",
       "18. 'peak_221;ENST00000362251.4_0_77'\n",
       "19. 'peak_209;ENST00000362202.3_0_40'\n",
       "20. 'peak_530;ENST00000384816.1_0_80'\n",
       "\n",
       "\n"
      ],
      "text/plain": [
       " [1] \"peak_371;ENST00000364908.1_0_80\"  \"peak_618;ENST00000385059.1_0_72\" \n",
       " [3] \"peak_608;ENST00000385044.3_0_80\"  \"peak_189;ENST00000362134.1_0_72\" \n",
       " [5] \"peak_236;ENST00000362309.3_0_40\"  \"peak_211;ENST00000362205.1_0_40\" \n",
       " [7] \"peak_615;ENST00000385054.1_0_80\"  \"peak_232;ENST00000362291.1_0_80\" \n",
       " [9] \"peak_228;ENST00000362280.3_0_40\"  \"peak_1183;ENST00000637446.1_0_64\"\n",
       "[11] \"peak_1040;ENST00000612171.2_0_68\" \"peak_213;ENST00000362215.3_0_68\" \n",
       "[13] \"peak_208;ENST00000362201.2_0_80\"  \"peak_630;ENST00000385140.1_0_80\" \n",
       "[15] \"peak_635;ENST00000385201.1_0_80\"  \"peak_230;ENST00000362283.1_0_70\" \n",
       "[17] \"peak_668;ENST00000385277.1_0_80\"  \"peak_221;ENST00000362251.4_0_77\" \n",
       "[19] \"peak_209;ENST00000362202.3_0_40\"  \"peak_530;ENST00000384816.1_0_80\" "
      ]
     },
     "metadata": {},
     "output_type": "display_data"
    }
   ],
   "source": [
    "rowsums <-rowSums(raw_mx)\n",
    "rowsumind <-order(-rowsums)\n",
    "top20name <-rownames(raw_mx)[rowsumind[1:20]]\n",
    "top20name"
   ]
  },
  {
   "cell_type": "code",
   "execution_count": 63,
   "metadata": {},
   "outputs": [],
   "source": [
    "new_raw_mx <-raw_mx[-which(rownames(raw_mx) %in% top20name), ]"
   ]
  },
  {
   "cell_type": "code",
   "execution_count": 64,
   "metadata": {},
   "outputs": [
    {
     "name": "stdout",
     "output_type": "stream",
     "text": [
      "[1] 1727   43\n",
      "[1] 1707   43\n"
     ]
    }
   ],
   "source": [
    "print (dim(raw_mx))\n",
    "print (dim(new_raw_mx))"
   ]
  },
  {
   "cell_type": "code",
   "execution_count": 65,
   "metadata": {},
   "outputs": [],
   "source": [
    "wholeanno$Status <- \"HD\"\n",
    "wholeanno[which(wholeanno$Stage.BCLC==\"A\"),\"Status\"] <- \"A\"\n",
    "wholeanno[which(wholeanno$Stage.BCLC==\"B\"),\"Status\"] <- \"B\"\n",
    "wholeanno[which(wholeanno$Stage.BCLC==\"C\"),\"Status\"] <- \"C\"\n",
    "wholeanno[which(wholeanno$Disease_status==\"HCC_after_surgery\"),\"Status\"] <- \"Postoperative\"\n",
    "wholeanno[which(wholeanno$Disease_status==\"mixed by 5 HBV\"),\"Status\"] <- \"CHB\"\n",
    "wholeanno[which(wholeanno$Disease_status==\"HCC_before_surgery\"),\"Disease_status\"] <- \"HCC\"\n",
    "wholeanno[which(wholeanno$Disease_status==\"Healthy\"),\"Disease_status\"] <- \"HD\"\n",
    "wholeanno[which(wholeanno$Disease_status==\"mixed by 5 HBV\"),\"Disease_status\"] <- \"CHB\""
   ]
  },
  {
   "cell_type": "code",
   "execution_count": 66,
   "metadata": {},
   "outputs": [
    {
     "data": {
      "text/html": [
       "<ol class=list-inline>\n",
       "\t<li>'HCC'</li>\n",
       "\t<li>'HCC'</li>\n",
       "\t<li>'HCC'</li>\n",
       "\t<li>'HCC'</li>\n",
       "\t<li>'HCC'</li>\n",
       "\t<li>'HCC'</li>\n",
       "\t<li>'HCC'</li>\n",
       "\t<li>'HCC'</li>\n",
       "\t<li>'HCC'</li>\n",
       "\t<li>'HCC'</li>\n",
       "\t<li>'HCC'</li>\n",
       "\t<li>'HCC'</li>\n",
       "\t<li>'HCC'</li>\n",
       "\t<li>'HCC'</li>\n",
       "\t<li>'HCC'</li>\n",
       "\t<li>'HCC'</li>\n",
       "\t<li>'HCC'</li>\n",
       "\t<li>'HCC'</li>\n",
       "\t<li>'HCC'</li>\n",
       "\t<li>'HCC'</li>\n",
       "\t<li>'HCC'</li>\n",
       "\t<li>'HCC'</li>\n",
       "\t<li>'HCC'</li>\n",
       "\t<li>'HCC'</li>\n",
       "\t<li>'HCC'</li>\n",
       "\t<li>'HCC'</li>\n",
       "\t<li>'HCC'</li>\n",
       "\t<li>'HCC'</li>\n",
       "\t<li>'HCC'</li>\n",
       "\t<li>'HCC'</li>\n",
       "\t<li>'HCC'</li>\n",
       "\t<li>'HD'</li>\n",
       "\t<li>'HD'</li>\n",
       "\t<li>'HD'</li>\n",
       "\t<li>'HD'</li>\n",
       "\t<li>'HD'</li>\n",
       "\t<li>'HD'</li>\n",
       "\t<li>'HD'</li>\n",
       "\t<li>'HD'</li>\n",
       "\t<li>'HD'</li>\n",
       "\t<li>'HD'</li>\n",
       "\t<li>'HD'</li>\n",
       "\t<li>'HCC_after_surgery'</li>\n",
       "\t<li>'HCC_after_surgery'</li>\n",
       "\t<li>'HCC_after_surgery'</li>\n",
       "\t<li>'HCC_after_surgery'</li>\n",
       "\t<li>'HCC_after_surgery'</li>\n",
       "\t<li>'HCC_after_surgery'</li>\n",
       "\t<li>'HCC_after_surgery'</li>\n",
       "\t<li>'HCC_after_surgery'</li>\n",
       "\t<li>'HCC_after_surgery'</li>\n",
       "\t<li>'HCC_after_surgery'</li>\n",
       "\t<li>'HCC_after_surgery'</li>\n",
       "\t<li>'HCC_after_surgery'</li>\n",
       "\t<li>'HCC_after_surgery'</li>\n",
       "\t<li>'HCC_after_surgery'</li>\n",
       "\t<li>'HCC_after_surgery'</li>\n",
       "\t<li>'HCC_after_surgery'</li>\n",
       "\t<li>'HCC_after_surgery'</li>\n",
       "\t<li>'HCC_after_surgery'</li>\n",
       "\t<li>'HCC_after_surgery'</li>\n",
       "\t<li>'CHB'</li>\n",
       "\t<li>'CHB'</li>\n",
       "\t<li>'CHB'</li>\n",
       "</ol>\n"
      ],
      "text/latex": [
       "\\begin{enumerate*}\n",
       "\\item 'HCC'\n",
       "\\item 'HCC'\n",
       "\\item 'HCC'\n",
       "\\item 'HCC'\n",
       "\\item 'HCC'\n",
       "\\item 'HCC'\n",
       "\\item 'HCC'\n",
       "\\item 'HCC'\n",
       "\\item 'HCC'\n",
       "\\item 'HCC'\n",
       "\\item 'HCC'\n",
       "\\item 'HCC'\n",
       "\\item 'HCC'\n",
       "\\item 'HCC'\n",
       "\\item 'HCC'\n",
       "\\item 'HCC'\n",
       "\\item 'HCC'\n",
       "\\item 'HCC'\n",
       "\\item 'HCC'\n",
       "\\item 'HCC'\n",
       "\\item 'HCC'\n",
       "\\item 'HCC'\n",
       "\\item 'HCC'\n",
       "\\item 'HCC'\n",
       "\\item 'HCC'\n",
       "\\item 'HCC'\n",
       "\\item 'HCC'\n",
       "\\item 'HCC'\n",
       "\\item 'HCC'\n",
       "\\item 'HCC'\n",
       "\\item 'HCC'\n",
       "\\item 'HD'\n",
       "\\item 'HD'\n",
       "\\item 'HD'\n",
       "\\item 'HD'\n",
       "\\item 'HD'\n",
       "\\item 'HD'\n",
       "\\item 'HD'\n",
       "\\item 'HD'\n",
       "\\item 'HD'\n",
       "\\item 'HD'\n",
       "\\item 'HD'\n",
       "\\item 'HCC\\_after\\_surgery'\n",
       "\\item 'HCC\\_after\\_surgery'\n",
       "\\item 'HCC\\_after\\_surgery'\n",
       "\\item 'HCC\\_after\\_surgery'\n",
       "\\item 'HCC\\_after\\_surgery'\n",
       "\\item 'HCC\\_after\\_surgery'\n",
       "\\item 'HCC\\_after\\_surgery'\n",
       "\\item 'HCC\\_after\\_surgery'\n",
       "\\item 'HCC\\_after\\_surgery'\n",
       "\\item 'HCC\\_after\\_surgery'\n",
       "\\item 'HCC\\_after\\_surgery'\n",
       "\\item 'HCC\\_after\\_surgery'\n",
       "\\item 'HCC\\_after\\_surgery'\n",
       "\\item 'HCC\\_after\\_surgery'\n",
       "\\item 'HCC\\_after\\_surgery'\n",
       "\\item 'HCC\\_after\\_surgery'\n",
       "\\item 'HCC\\_after\\_surgery'\n",
       "\\item 'HCC\\_after\\_surgery'\n",
       "\\item 'HCC\\_after\\_surgery'\n",
       "\\item 'CHB'\n",
       "\\item 'CHB'\n",
       "\\item 'CHB'\n",
       "\\end{enumerate*}\n"
      ],
      "text/markdown": [
       "1. 'HCC'\n",
       "2. 'HCC'\n",
       "3. 'HCC'\n",
       "4. 'HCC'\n",
       "5. 'HCC'\n",
       "6. 'HCC'\n",
       "7. 'HCC'\n",
       "8. 'HCC'\n",
       "9. 'HCC'\n",
       "10. 'HCC'\n",
       "11. 'HCC'\n",
       "12. 'HCC'\n",
       "13. 'HCC'\n",
       "14. 'HCC'\n",
       "15. 'HCC'\n",
       "16. 'HCC'\n",
       "17. 'HCC'\n",
       "18. 'HCC'\n",
       "19. 'HCC'\n",
       "20. 'HCC'\n",
       "21. 'HCC'\n",
       "22. 'HCC'\n",
       "23. 'HCC'\n",
       "24. 'HCC'\n",
       "25. 'HCC'\n",
       "26. 'HCC'\n",
       "27. 'HCC'\n",
       "28. 'HCC'\n",
       "29. 'HCC'\n",
       "30. 'HCC'\n",
       "31. 'HCC'\n",
       "32. 'HD'\n",
       "33. 'HD'\n",
       "34. 'HD'\n",
       "35. 'HD'\n",
       "36. 'HD'\n",
       "37. 'HD'\n",
       "38. 'HD'\n",
       "39. 'HD'\n",
       "40. 'HD'\n",
       "41. 'HD'\n",
       "42. 'HD'\n",
       "43. 'HCC_after_surgery'\n",
       "44. 'HCC_after_surgery'\n",
       "45. 'HCC_after_surgery'\n",
       "46. 'HCC_after_surgery'\n",
       "47. 'HCC_after_surgery'\n",
       "48. 'HCC_after_surgery'\n",
       "49. 'HCC_after_surgery'\n",
       "50. 'HCC_after_surgery'\n",
       "51. 'HCC_after_surgery'\n",
       "52. 'HCC_after_surgery'\n",
       "53. 'HCC_after_surgery'\n",
       "54. 'HCC_after_surgery'\n",
       "55. 'HCC_after_surgery'\n",
       "56. 'HCC_after_surgery'\n",
       "57. 'HCC_after_surgery'\n",
       "58. 'HCC_after_surgery'\n",
       "59. 'HCC_after_surgery'\n",
       "60. 'HCC_after_surgery'\n",
       "61. 'HCC_after_surgery'\n",
       "62. 'CHB'\n",
       "63. 'CHB'\n",
       "64. 'CHB'\n",
       "\n",
       "\n"
      ],
      "text/plain": [
       " [1] \"HCC\"               \"HCC\"               \"HCC\"              \n",
       " [4] \"HCC\"               \"HCC\"               \"HCC\"              \n",
       " [7] \"HCC\"               \"HCC\"               \"HCC\"              \n",
       "[10] \"HCC\"               \"HCC\"               \"HCC\"              \n",
       "[13] \"HCC\"               \"HCC\"               \"HCC\"              \n",
       "[16] \"HCC\"               \"HCC\"               \"HCC\"              \n",
       "[19] \"HCC\"               \"HCC\"               \"HCC\"              \n",
       "[22] \"HCC\"               \"HCC\"               \"HCC\"              \n",
       "[25] \"HCC\"               \"HCC\"               \"HCC\"              \n",
       "[28] \"HCC\"               \"HCC\"               \"HCC\"              \n",
       "[31] \"HCC\"               \"HD\"                \"HD\"               \n",
       "[34] \"HD\"                \"HD\"                \"HD\"               \n",
       "[37] \"HD\"                \"HD\"                \"HD\"               \n",
       "[40] \"HD\"                \"HD\"                \"HD\"               \n",
       "[43] \"HCC_after_surgery\" \"HCC_after_surgery\" \"HCC_after_surgery\"\n",
       "[46] \"HCC_after_surgery\" \"HCC_after_surgery\" \"HCC_after_surgery\"\n",
       "[49] \"HCC_after_surgery\" \"HCC_after_surgery\" \"HCC_after_surgery\"\n",
       "[52] \"HCC_after_surgery\" \"HCC_after_surgery\" \"HCC_after_surgery\"\n",
       "[55] \"HCC_after_surgery\" \"HCC_after_surgery\" \"HCC_after_surgery\"\n",
       "[58] \"HCC_after_surgery\" \"HCC_after_surgery\" \"HCC_after_surgery\"\n",
       "[61] \"HCC_after_surgery\" \"CHB\"               \"CHB\"              \n",
       "[64] \"CHB\"              "
      ]
     },
     "metadata": {},
     "output_type": "display_data"
    }
   ],
   "source": [
    "wholeanno$Disease_status"
   ]
  },
  {
   "cell_type": "markdown",
   "metadata": {},
   "source": [
    "#### drop some sample"
   ]
  },
  {
   "cell_type": "code",
   "execution_count": 67,
   "metadata": {},
   "outputs": [
    {
     "data": {
      "text/html": [
       "<ol class=list-inline>\n",
       "\t<li>'HCC'</li>\n",
       "\t<li>'HCC'</li>\n",
       "\t<li>'HCC'</li>\n",
       "\t<li>'HCC'</li>\n",
       "\t<li>'HCC'</li>\n",
       "\t<li>'HCC'</li>\n",
       "\t<li>'HCC'</li>\n",
       "\t<li>'HCC'</li>\n",
       "\t<li>'HCC'</li>\n",
       "\t<li>'HCC'</li>\n",
       "\t<li>'HCC'</li>\n",
       "\t<li>'HCC'</li>\n",
       "\t<li>'HCC'</li>\n",
       "\t<li>'HCC'</li>\n",
       "\t<li>'HCC'</li>\n",
       "\t<li>'HCC'</li>\n",
       "\t<li>'HCC'</li>\n",
       "\t<li>'HCC'</li>\n",
       "\t<li>'HCC'</li>\n",
       "\t<li>'HCC'</li>\n",
       "\t<li>'HCC'</li>\n",
       "\t<li>'HCC'</li>\n",
       "\t<li>'HCC'</li>\n",
       "\t<li>'HCC'</li>\n",
       "\t<li>'HCC'</li>\n",
       "\t<li>'HCC'</li>\n",
       "\t<li>'HCC'</li>\n",
       "\t<li>'HCC'</li>\n",
       "\t<li>'HCC'</li>\n",
       "\t<li>'HCC'</li>\n",
       "\t<li>'HD'</li>\n",
       "\t<li>'HD'</li>\n",
       "\t<li>'HD'</li>\n",
       "\t<li>'HD'</li>\n",
       "\t<li>'HD'</li>\n",
       "\t<li>'HD'</li>\n",
       "\t<li>'HD'</li>\n",
       "\t<li>'HD'</li>\n",
       "\t<li>'HD'</li>\n",
       "\t<li>'HD'</li>\n",
       "\t<li>'CHB'</li>\n",
       "\t<li>'CHB'</li>\n",
       "\t<li>'CHB'</li>\n",
       "</ol>\n"
      ],
      "text/latex": [
       "\\begin{enumerate*}\n",
       "\\item 'HCC'\n",
       "\\item 'HCC'\n",
       "\\item 'HCC'\n",
       "\\item 'HCC'\n",
       "\\item 'HCC'\n",
       "\\item 'HCC'\n",
       "\\item 'HCC'\n",
       "\\item 'HCC'\n",
       "\\item 'HCC'\n",
       "\\item 'HCC'\n",
       "\\item 'HCC'\n",
       "\\item 'HCC'\n",
       "\\item 'HCC'\n",
       "\\item 'HCC'\n",
       "\\item 'HCC'\n",
       "\\item 'HCC'\n",
       "\\item 'HCC'\n",
       "\\item 'HCC'\n",
       "\\item 'HCC'\n",
       "\\item 'HCC'\n",
       "\\item 'HCC'\n",
       "\\item 'HCC'\n",
       "\\item 'HCC'\n",
       "\\item 'HCC'\n",
       "\\item 'HCC'\n",
       "\\item 'HCC'\n",
       "\\item 'HCC'\n",
       "\\item 'HCC'\n",
       "\\item 'HCC'\n",
       "\\item 'HCC'\n",
       "\\item 'HD'\n",
       "\\item 'HD'\n",
       "\\item 'HD'\n",
       "\\item 'HD'\n",
       "\\item 'HD'\n",
       "\\item 'HD'\n",
       "\\item 'HD'\n",
       "\\item 'HD'\n",
       "\\item 'HD'\n",
       "\\item 'HD'\n",
       "\\item 'CHB'\n",
       "\\item 'CHB'\n",
       "\\item 'CHB'\n",
       "\\end{enumerate*}\n"
      ],
      "text/markdown": [
       "1. 'HCC'\n",
       "2. 'HCC'\n",
       "3. 'HCC'\n",
       "4. 'HCC'\n",
       "5. 'HCC'\n",
       "6. 'HCC'\n",
       "7. 'HCC'\n",
       "8. 'HCC'\n",
       "9. 'HCC'\n",
       "10. 'HCC'\n",
       "11. 'HCC'\n",
       "12. 'HCC'\n",
       "13. 'HCC'\n",
       "14. 'HCC'\n",
       "15. 'HCC'\n",
       "16. 'HCC'\n",
       "17. 'HCC'\n",
       "18. 'HCC'\n",
       "19. 'HCC'\n",
       "20. 'HCC'\n",
       "21. 'HCC'\n",
       "22. 'HCC'\n",
       "23. 'HCC'\n",
       "24. 'HCC'\n",
       "25. 'HCC'\n",
       "26. 'HCC'\n",
       "27. 'HCC'\n",
       "28. 'HCC'\n",
       "29. 'HCC'\n",
       "30. 'HCC'\n",
       "31. 'HD'\n",
       "32. 'HD'\n",
       "33. 'HD'\n",
       "34. 'HD'\n",
       "35. 'HD'\n",
       "36. 'HD'\n",
       "37. 'HD'\n",
       "38. 'HD'\n",
       "39. 'HD'\n",
       "40. 'HD'\n",
       "41. 'CHB'\n",
       "42. 'CHB'\n",
       "43. 'CHB'\n",
       "\n",
       "\n"
      ],
      "text/plain": [
       " [1] \"HCC\" \"HCC\" \"HCC\" \"HCC\" \"HCC\" \"HCC\" \"HCC\" \"HCC\" \"HCC\" \"HCC\" \"HCC\" \"HCC\"\n",
       "[13] \"HCC\" \"HCC\" \"HCC\" \"HCC\" \"HCC\" \"HCC\" \"HCC\" \"HCC\" \"HCC\" \"HCC\" \"HCC\" \"HCC\"\n",
       "[25] \"HCC\" \"HCC\" \"HCC\" \"HCC\" \"HCC\" \"HCC\" \"HD\"  \"HD\"  \"HD\"  \"HD\"  \"HD\"  \"HD\" \n",
       "[37] \"HD\"  \"HD\"  \"HD\"  \"HD\"  \"CHB\" \"CHB\" \"CHB\""
      ]
     },
     "metadata": {},
     "output_type": "display_data"
    }
   ],
   "source": [
    "wholeanno$Disease_status[wholeanno$use ==1]\n",
    "#wholeanno$Sample_ID[wholeanno$use ==1]"
   ]
  },
  {
   "cell_type": "code",
   "execution_count": 68,
   "metadata": {},
   "outputs": [
    {
     "data": {
      "text/html": [
       "<ol class=list-inline>\n",
       "\t<li>'A'</li>\n",
       "\t<li>'A'</li>\n",
       "\t<li>'C'</li>\n",
       "\t<li>'A'</li>\n",
       "\t<li>'B'</li>\n",
       "\t<li>'B'</li>\n",
       "\t<li>'B'</li>\n",
       "\t<li>'A'</li>\n",
       "\t<li>'A'</li>\n",
       "\t<li>'B'</li>\n",
       "\t<li>'A'</li>\n",
       "\t<li>'B'</li>\n",
       "\t<li>'A'</li>\n",
       "\t<li>'A'</li>\n",
       "\t<li>'B'</li>\n",
       "\t<li>'A'</li>\n",
       "\t<li>'A'</li>\n",
       "\t<li>'C'</li>\n",
       "\t<li>'B'</li>\n",
       "\t<li>'A'</li>\n",
       "\t<li>'B'</li>\n",
       "\t<li>'C'</li>\n",
       "\t<li>'A'</li>\n",
       "\t<li>'B'</li>\n",
       "\t<li>'A'</li>\n",
       "\t<li>'A'</li>\n",
       "\t<li>'B'</li>\n",
       "\t<li>'C'</li>\n",
       "\t<li>'A'</li>\n",
       "\t<li>'A'</li>\n",
       "\t<li>'HD'</li>\n",
       "\t<li>'HD'</li>\n",
       "\t<li>'HD'</li>\n",
       "\t<li>'HD'</li>\n",
       "\t<li>'HD'</li>\n",
       "\t<li>'HD'</li>\n",
       "\t<li>'HD'</li>\n",
       "\t<li>'HD'</li>\n",
       "\t<li>'HD'</li>\n",
       "\t<li>'HD'</li>\n",
       "\t<li>'CHB'</li>\n",
       "\t<li>'CHB'</li>\n",
       "\t<li>'CHB'</li>\n",
       "</ol>\n"
      ],
      "text/latex": [
       "\\begin{enumerate*}\n",
       "\\item 'A'\n",
       "\\item 'A'\n",
       "\\item 'C'\n",
       "\\item 'A'\n",
       "\\item 'B'\n",
       "\\item 'B'\n",
       "\\item 'B'\n",
       "\\item 'A'\n",
       "\\item 'A'\n",
       "\\item 'B'\n",
       "\\item 'A'\n",
       "\\item 'B'\n",
       "\\item 'A'\n",
       "\\item 'A'\n",
       "\\item 'B'\n",
       "\\item 'A'\n",
       "\\item 'A'\n",
       "\\item 'C'\n",
       "\\item 'B'\n",
       "\\item 'A'\n",
       "\\item 'B'\n",
       "\\item 'C'\n",
       "\\item 'A'\n",
       "\\item 'B'\n",
       "\\item 'A'\n",
       "\\item 'A'\n",
       "\\item 'B'\n",
       "\\item 'C'\n",
       "\\item 'A'\n",
       "\\item 'A'\n",
       "\\item 'HD'\n",
       "\\item 'HD'\n",
       "\\item 'HD'\n",
       "\\item 'HD'\n",
       "\\item 'HD'\n",
       "\\item 'HD'\n",
       "\\item 'HD'\n",
       "\\item 'HD'\n",
       "\\item 'HD'\n",
       "\\item 'HD'\n",
       "\\item 'CHB'\n",
       "\\item 'CHB'\n",
       "\\item 'CHB'\n",
       "\\end{enumerate*}\n"
      ],
      "text/markdown": [
       "1. 'A'\n",
       "2. 'A'\n",
       "3. 'C'\n",
       "4. 'A'\n",
       "5. 'B'\n",
       "6. 'B'\n",
       "7. 'B'\n",
       "8. 'A'\n",
       "9. 'A'\n",
       "10. 'B'\n",
       "11. 'A'\n",
       "12. 'B'\n",
       "13. 'A'\n",
       "14. 'A'\n",
       "15. 'B'\n",
       "16. 'A'\n",
       "17. 'A'\n",
       "18. 'C'\n",
       "19. 'B'\n",
       "20. 'A'\n",
       "21. 'B'\n",
       "22. 'C'\n",
       "23. 'A'\n",
       "24. 'B'\n",
       "25. 'A'\n",
       "26. 'A'\n",
       "27. 'B'\n",
       "28. 'C'\n",
       "29. 'A'\n",
       "30. 'A'\n",
       "31. 'HD'\n",
       "32. 'HD'\n",
       "33. 'HD'\n",
       "34. 'HD'\n",
       "35. 'HD'\n",
       "36. 'HD'\n",
       "37. 'HD'\n",
       "38. 'HD'\n",
       "39. 'HD'\n",
       "40. 'HD'\n",
       "41. 'CHB'\n",
       "42. 'CHB'\n",
       "43. 'CHB'\n",
       "\n",
       "\n"
      ],
      "text/plain": [
       " [1] \"A\"   \"A\"   \"C\"   \"A\"   \"B\"   \"B\"   \"B\"   \"A\"   \"A\"   \"B\"   \"A\"   \"B\"  \n",
       "[13] \"A\"   \"A\"   \"B\"   \"A\"   \"A\"   \"C\"   \"B\"   \"A\"   \"B\"   \"C\"   \"A\"   \"B\"  \n",
       "[25] \"A\"   \"A\"   \"B\"   \"C\"   \"A\"   \"A\"   \"HD\"  \"HD\"  \"HD\"  \"HD\"  \"HD\"  \"HD\" \n",
       "[37] \"HD\"  \"HD\"  \"HD\"  \"HD\"  \"CHB\" \"CHB\" \"CHB\""
      ]
     },
     "metadata": {},
     "output_type": "display_data"
    }
   ],
   "source": [
    "wholeanno$Status[wholeanno$use ==1]"
   ]
  },
  {
   "cell_type": "markdown",
   "metadata": {},
   "source": [
    "<span class=\"mark\">QC sample in another python jupyter, so freeze QC, drop some sample and start from imputation</span>"
   ]
  },
  {
   "cell_type": "code",
   "execution_count": 71,
   "metadata": {},
   "outputs": [],
   "source": [
    "mx <-new_raw_mx"
   ]
  },
  {
   "cell_type": "code",
   "execution_count": 72,
   "metadata": {},
   "outputs": [
    {
     "name": "stdout",
     "output_type": "stream",
     "text": [
      "[1] 1707   43\n"
     ]
    }
   ],
   "source": [
    "#print (dim(raw_mx))\n",
    "print (dim(mx))\n",
    "#print (dim(withoutaftermx))\n",
    "# we use mx and withoutaftermx"
   ]
  },
  {
   "cell_type": "markdown",
   "metadata": {},
   "source": [
    "****************\n",
    "#### construct singleCellExperiment object"
   ]
  },
  {
   "cell_type": "code",
   "execution_count": 73,
   "metadata": {},
   "outputs": [
    {
     "data": {
      "text/plain": [
       "class: SingleCellExperiment \n",
       "dim: 1707 43 \n",
       "metadata(0):\n",
       "assays(1): counts\n",
       "rownames(1707): peak_1;12979_0_60 peak_2;12985_20_72 ...\n",
       "  peak_1726;piR-hsa-963_0_31 peak_1727;piR-hsa-993_0_28\n",
       "rowData names(0):\n",
       "colnames(43): lulab_249136_B lulab_385247_B ... lulab_HBV_2 lulab_HBV_3\n",
       "colData names(27): X Sample_ID ... Class Status\n",
       "reducedDimNames(0):\n",
       "spikeNames(0):"
      ]
     },
     "metadata": {},
     "output_type": "display_data"
    }
   ],
   "source": [
    "reads <- SingleCellExperiment(\n",
    "    assays = list(counts = as.matrix(mx)),\n",
    "    colData = wholeanno[wholeanno$use ==1,])\n",
    "reads"
   ]
  },
  {
   "cell_type": "code",
   "execution_count": 74,
   "metadata": {},
   "outputs": [
    {
     "data": {
      "text/html": [
       "<ol class=list-inline>\n",
       "\t<li>'HCC'</li>\n",
       "\t<li>'HCC'</li>\n",
       "\t<li>'HCC'</li>\n",
       "\t<li>'HCC'</li>\n",
       "\t<li>'HCC'</li>\n",
       "\t<li>'HCC'</li>\n",
       "\t<li>'HCC'</li>\n",
       "\t<li>'HCC'</li>\n",
       "\t<li>'HCC'</li>\n",
       "\t<li>'HCC'</li>\n",
       "\t<li>'HCC'</li>\n",
       "\t<li>'HCC'</li>\n",
       "\t<li>'HCC'</li>\n",
       "\t<li>'HCC'</li>\n",
       "\t<li>'HCC'</li>\n",
       "\t<li>'HCC'</li>\n",
       "\t<li>'HCC'</li>\n",
       "\t<li>'HCC'</li>\n",
       "\t<li>'HCC'</li>\n",
       "\t<li>'HCC'</li>\n",
       "\t<li>'HCC'</li>\n",
       "\t<li>'HCC'</li>\n",
       "\t<li>'HCC'</li>\n",
       "\t<li>'HCC'</li>\n",
       "\t<li>'HCC'</li>\n",
       "\t<li>'HCC'</li>\n",
       "\t<li>'HCC'</li>\n",
       "\t<li>'HCC'</li>\n",
       "\t<li>'HCC'</li>\n",
       "\t<li>'HCC'</li>\n",
       "\t<li>'HD'</li>\n",
       "\t<li>'HD'</li>\n",
       "\t<li>'HD'</li>\n",
       "\t<li>'HD'</li>\n",
       "\t<li>'HD'</li>\n",
       "\t<li>'HD'</li>\n",
       "\t<li>'HD'</li>\n",
       "\t<li>'HD'</li>\n",
       "\t<li>'HD'</li>\n",
       "\t<li>'HD'</li>\n",
       "\t<li>'CHB'</li>\n",
       "\t<li>'CHB'</li>\n",
       "\t<li>'CHB'</li>\n",
       "</ol>\n"
      ],
      "text/latex": [
       "\\begin{enumerate*}\n",
       "\\item 'HCC'\n",
       "\\item 'HCC'\n",
       "\\item 'HCC'\n",
       "\\item 'HCC'\n",
       "\\item 'HCC'\n",
       "\\item 'HCC'\n",
       "\\item 'HCC'\n",
       "\\item 'HCC'\n",
       "\\item 'HCC'\n",
       "\\item 'HCC'\n",
       "\\item 'HCC'\n",
       "\\item 'HCC'\n",
       "\\item 'HCC'\n",
       "\\item 'HCC'\n",
       "\\item 'HCC'\n",
       "\\item 'HCC'\n",
       "\\item 'HCC'\n",
       "\\item 'HCC'\n",
       "\\item 'HCC'\n",
       "\\item 'HCC'\n",
       "\\item 'HCC'\n",
       "\\item 'HCC'\n",
       "\\item 'HCC'\n",
       "\\item 'HCC'\n",
       "\\item 'HCC'\n",
       "\\item 'HCC'\n",
       "\\item 'HCC'\n",
       "\\item 'HCC'\n",
       "\\item 'HCC'\n",
       "\\item 'HCC'\n",
       "\\item 'HD'\n",
       "\\item 'HD'\n",
       "\\item 'HD'\n",
       "\\item 'HD'\n",
       "\\item 'HD'\n",
       "\\item 'HD'\n",
       "\\item 'HD'\n",
       "\\item 'HD'\n",
       "\\item 'HD'\n",
       "\\item 'HD'\n",
       "\\item 'CHB'\n",
       "\\item 'CHB'\n",
       "\\item 'CHB'\n",
       "\\end{enumerate*}\n"
      ],
      "text/markdown": [
       "1. 'HCC'\n",
       "2. 'HCC'\n",
       "3. 'HCC'\n",
       "4. 'HCC'\n",
       "5. 'HCC'\n",
       "6. 'HCC'\n",
       "7. 'HCC'\n",
       "8. 'HCC'\n",
       "9. 'HCC'\n",
       "10. 'HCC'\n",
       "11. 'HCC'\n",
       "12. 'HCC'\n",
       "13. 'HCC'\n",
       "14. 'HCC'\n",
       "15. 'HCC'\n",
       "16. 'HCC'\n",
       "17. 'HCC'\n",
       "18. 'HCC'\n",
       "19. 'HCC'\n",
       "20. 'HCC'\n",
       "21. 'HCC'\n",
       "22. 'HCC'\n",
       "23. 'HCC'\n",
       "24. 'HCC'\n",
       "25. 'HCC'\n",
       "26. 'HCC'\n",
       "27. 'HCC'\n",
       "28. 'HCC'\n",
       "29. 'HCC'\n",
       "30. 'HCC'\n",
       "31. 'HD'\n",
       "32. 'HD'\n",
       "33. 'HD'\n",
       "34. 'HD'\n",
       "35. 'HD'\n",
       "36. 'HD'\n",
       "37. 'HD'\n",
       "38. 'HD'\n",
       "39. 'HD'\n",
       "40. 'HD'\n",
       "41. 'CHB'\n",
       "42. 'CHB'\n",
       "43. 'CHB'\n",
       "\n",
       "\n"
      ],
      "text/plain": [
       " [1] \"HCC\" \"HCC\" \"HCC\" \"HCC\" \"HCC\" \"HCC\" \"HCC\" \"HCC\" \"HCC\" \"HCC\" \"HCC\" \"HCC\"\n",
       "[13] \"HCC\" \"HCC\" \"HCC\" \"HCC\" \"HCC\" \"HCC\" \"HCC\" \"HCC\" \"HCC\" \"HCC\" \"HCC\" \"HCC\"\n",
       "[25] \"HCC\" \"HCC\" \"HCC\" \"HCC\" \"HCC\" \"HCC\" \"HD\"  \"HD\"  \"HD\"  \"HD\"  \"HD\"  \"HD\" \n",
       "[37] \"HD\"  \"HD\"  \"HD\"  \"HD\"  \"CHB\" \"CHB\" \"CHB\""
      ]
     },
     "metadata": {},
     "output_type": "display_data"
    }
   ],
   "source": [
    "reads$Disease_status"
   ]
  },
  {
   "cell_type": "markdown",
   "metadata": {},
   "source": [
    "##### Remove genes that are not expressed in any samples"
   ]
  },
  {
   "cell_type": "code",
   "execution_count": 75,
   "metadata": {},
   "outputs": [
    {
     "data": {
      "text/html": [
       "<ol class=list-inline>\n",
       "\t<li>1707</li>\n",
       "\t<li>43</li>\n",
       "</ol>\n"
      ],
      "text/latex": [
       "\\begin{enumerate*}\n",
       "\\item 1707\n",
       "\\item 43\n",
       "\\end{enumerate*}\n"
      ],
      "text/markdown": [
       "1. 1707\n",
       "2. 43\n",
       "\n",
       "\n"
      ],
      "text/plain": [
       "[1] 1707   43"
      ]
     },
     "metadata": {},
     "output_type": "display_data"
    }
   ],
   "source": [
    "keep_feature <- rowSums(counts(reads) > 0) > 0\n",
    "reads <- reads[keep_feature, ]\n",
    "dim(reads)"
   ]
  },
  {
   "cell_type": "code",
   "execution_count": 76,
   "metadata": {},
   "outputs": [],
   "source": [
    "reads <-  calculateQCMetrics(reads)"
   ]
  },
  {
   "cell_type": "markdown",
   "metadata": {},
   "source": [
    "****************\n",
    "### filter samples and genes"
   ]
  },
  {
   "cell_type": "code",
   "execution_count": 77,
   "metadata": {},
   "outputs": [],
   "source": [
    "reads$use <-rep(TRUE,dim(reads)[2])"
   ]
  },
  {
   "cell_type": "markdown",
   "metadata": {},
   "source": [
    "#### gene QC\n",
    "##### filter genes with too low expression"
   ]
  },
  {
   "cell_type": "markdown",
   "metadata": {},
   "source": [
    "## <span class=\"mark\">这里要注意，新的feature数量少，要少筛掉一些！</span>"
   ]
  },
  {
   "cell_type": "code",
   "execution_count": 78,
   "metadata": {},
   "outputs": [
    {
     "data": {
      "text/plain": [
       "filter_genes\n",
       "TRUE \n",
       "1707 "
      ]
     },
     "metadata": {},
     "output_type": "display_data"
    },
    {
     "data": {
      "text/html": [
       "<ol class=list-inline>\n",
       "\t<li>1707</li>\n",
       "\t<li>43</li>\n",
       "</ol>\n"
      ],
      "text/latex": [
       "\\begin{enumerate*}\n",
       "\\item 1707\n",
       "\\item 43\n",
       "\\end{enumerate*}\n"
      ],
      "text/markdown": [
       "1. 1707\n",
       "2. 43\n",
       "\n",
       "\n"
      ],
      "text/plain": [
       "[1] 1707   43"
      ]
     },
     "metadata": {},
     "output_type": "display_data"
    }
   ],
   "source": [
    "filter_genes <- apply(counts(reads[, colData(reads)$use]), 1, function(x) length(x[x >= 1]) >= 4)\n",
    "table(filter_genes)\n",
    "rowData(reads)$use <- filter_genes\n",
    "reducedDim(reads) <- NULL\n",
    "dim(reads[rowData(reads)$use, colData(reads)$use])"
   ]
  },
  {
   "cell_type": "code",
   "execution_count": 79,
   "metadata": {},
   "outputs": [],
   "source": [
    "assay(reads, \"logcounts_raw\") <- log2(counts(reads) + 1)\n",
    "reads.qc <- reads[rowData(reads)$use, colData(reads)$use]\n",
    "endog_genes <- !rowData(reads.qc)$is_feature_control"
   ]
  },
  {
   "cell_type": "code",
   "execution_count": 80,
   "metadata": {},
   "outputs": [
    {
     "data": {
      "text/html": [
       "<ol class=list-inline>\n",
       "\t<li>1707</li>\n",
       "\t<li>43</li>\n",
       "</ol>\n"
      ],
      "text/latex": [
       "\\begin{enumerate*}\n",
       "\\item 1707\n",
       "\\item 43\n",
       "\\end{enumerate*}\n"
      ],
      "text/markdown": [
       "1. 1707\n",
       "2. 43\n",
       "\n",
       "\n"
      ],
      "text/plain": [
       "[1] 1707   43"
      ]
     },
     "metadata": {},
     "output_type": "display_data"
    }
   ],
   "source": [
    "dim(reads.qc)"
   ]
  },
  {
   "cell_type": "code",
   "execution_count": 81,
   "metadata": {},
   "outputs": [
    {
     "data": {
      "text/html": [
       "0"
      ],
      "text/latex": [
       "0"
      ],
      "text/markdown": [
       "0"
      ],
      "text/plain": [
       "[1] 0"
      ]
     },
     "metadata": {},
     "output_type": "display_data"
    }
   ],
   "source": [
    "sum(counts(reads.qc)<0)"
   ]
  },
  {
   "cell_type": "code",
   "execution_count": 82,
   "metadata": {},
   "outputs": [],
   "source": [
    "# save the data\n",
    "saveRDS(reads.qc, file = \"new_feature/tmpsave/feature_1.rds\")\n",
    "write.csv(counts(reads.qc), \"new_feature/tmpsave/feature_1.rds.csv\")"
   ]
  },
  {
   "cell_type": "code",
   "execution_count": 83,
   "metadata": {},
   "outputs": [
    {
     "data": {
      "text/html": [
       "<ol class=list-inline>\n",
       "\t<li>'HCC'</li>\n",
       "\t<li>'HCC'</li>\n",
       "\t<li>'HCC'</li>\n",
       "\t<li>'HCC'</li>\n",
       "\t<li>'HCC'</li>\n",
       "\t<li>'HCC'</li>\n",
       "\t<li>'HCC'</li>\n",
       "\t<li>'HCC'</li>\n",
       "\t<li>'HCC'</li>\n",
       "\t<li>'HCC'</li>\n",
       "\t<li>'HCC'</li>\n",
       "\t<li>'HCC'</li>\n",
       "\t<li>'HCC'</li>\n",
       "\t<li>'HCC'</li>\n",
       "\t<li>'HCC'</li>\n",
       "\t<li>'HCC'</li>\n",
       "\t<li>'HCC'</li>\n",
       "\t<li>'HCC'</li>\n",
       "\t<li>'HCC'</li>\n",
       "\t<li>'HCC'</li>\n",
       "\t<li>'HCC'</li>\n",
       "\t<li>'HCC'</li>\n",
       "\t<li>'HCC'</li>\n",
       "\t<li>'HCC'</li>\n",
       "\t<li>'HCC'</li>\n",
       "\t<li>'HCC'</li>\n",
       "\t<li>'HCC'</li>\n",
       "\t<li>'HCC'</li>\n",
       "\t<li>'HCC'</li>\n",
       "\t<li>'HCC'</li>\n",
       "\t<li>'HD'</li>\n",
       "\t<li>'HD'</li>\n",
       "\t<li>'HD'</li>\n",
       "\t<li>'HD'</li>\n",
       "\t<li>'HD'</li>\n",
       "\t<li>'HD'</li>\n",
       "\t<li>'HD'</li>\n",
       "\t<li>'HD'</li>\n",
       "\t<li>'HD'</li>\n",
       "\t<li>'HD'</li>\n",
       "\t<li>'CHB'</li>\n",
       "\t<li>'CHB'</li>\n",
       "\t<li>'CHB'</li>\n",
       "</ol>\n"
      ],
      "text/latex": [
       "\\begin{enumerate*}\n",
       "\\item 'HCC'\n",
       "\\item 'HCC'\n",
       "\\item 'HCC'\n",
       "\\item 'HCC'\n",
       "\\item 'HCC'\n",
       "\\item 'HCC'\n",
       "\\item 'HCC'\n",
       "\\item 'HCC'\n",
       "\\item 'HCC'\n",
       "\\item 'HCC'\n",
       "\\item 'HCC'\n",
       "\\item 'HCC'\n",
       "\\item 'HCC'\n",
       "\\item 'HCC'\n",
       "\\item 'HCC'\n",
       "\\item 'HCC'\n",
       "\\item 'HCC'\n",
       "\\item 'HCC'\n",
       "\\item 'HCC'\n",
       "\\item 'HCC'\n",
       "\\item 'HCC'\n",
       "\\item 'HCC'\n",
       "\\item 'HCC'\n",
       "\\item 'HCC'\n",
       "\\item 'HCC'\n",
       "\\item 'HCC'\n",
       "\\item 'HCC'\n",
       "\\item 'HCC'\n",
       "\\item 'HCC'\n",
       "\\item 'HCC'\n",
       "\\item 'HD'\n",
       "\\item 'HD'\n",
       "\\item 'HD'\n",
       "\\item 'HD'\n",
       "\\item 'HD'\n",
       "\\item 'HD'\n",
       "\\item 'HD'\n",
       "\\item 'HD'\n",
       "\\item 'HD'\n",
       "\\item 'HD'\n",
       "\\item 'CHB'\n",
       "\\item 'CHB'\n",
       "\\item 'CHB'\n",
       "\\end{enumerate*}\n"
      ],
      "text/markdown": [
       "1. 'HCC'\n",
       "2. 'HCC'\n",
       "3. 'HCC'\n",
       "4. 'HCC'\n",
       "5. 'HCC'\n",
       "6. 'HCC'\n",
       "7. 'HCC'\n",
       "8. 'HCC'\n",
       "9. 'HCC'\n",
       "10. 'HCC'\n",
       "11. 'HCC'\n",
       "12. 'HCC'\n",
       "13. 'HCC'\n",
       "14. 'HCC'\n",
       "15. 'HCC'\n",
       "16. 'HCC'\n",
       "17. 'HCC'\n",
       "18. 'HCC'\n",
       "19. 'HCC'\n",
       "20. 'HCC'\n",
       "21. 'HCC'\n",
       "22. 'HCC'\n",
       "23. 'HCC'\n",
       "24. 'HCC'\n",
       "25. 'HCC'\n",
       "26. 'HCC'\n",
       "27. 'HCC'\n",
       "28. 'HCC'\n",
       "29. 'HCC'\n",
       "30. 'HCC'\n",
       "31. 'HD'\n",
       "32. 'HD'\n",
       "33. 'HD'\n",
       "34. 'HD'\n",
       "35. 'HD'\n",
       "36. 'HD'\n",
       "37. 'HD'\n",
       "38. 'HD'\n",
       "39. 'HD'\n",
       "40. 'HD'\n",
       "41. 'CHB'\n",
       "42. 'CHB'\n",
       "43. 'CHB'\n",
       "\n",
       "\n"
      ],
      "text/plain": [
       " [1] \"HCC\" \"HCC\" \"HCC\" \"HCC\" \"HCC\" \"HCC\" \"HCC\" \"HCC\" \"HCC\" \"HCC\" \"HCC\" \"HCC\"\n",
       "[13] \"HCC\" \"HCC\" \"HCC\" \"HCC\" \"HCC\" \"HCC\" \"HCC\" \"HCC\" \"HCC\" \"HCC\" \"HCC\" \"HCC\"\n",
       "[25] \"HCC\" \"HCC\" \"HCC\" \"HCC\" \"HCC\" \"HCC\" \"HD\"  \"HD\"  \"HD\"  \"HD\"  \"HD\"  \"HD\" \n",
       "[37] \"HD\"  \"HD\"  \"HD\"  \"HD\"  \"CHB\" \"CHB\" \"CHB\""
      ]
     },
     "metadata": {},
     "output_type": "display_data"
    }
   ],
   "source": [
    "reads.qc$Disease_status"
   ]
  },
  {
   "cell_type": "code",
   "execution_count": 84,
   "metadata": {},
   "outputs": [
    {
     "data": {},
     "metadata": {},
     "output_type": "display_data"
    },
    {
     "data": {
      "image/png": "[encoded data removed]",
      "text/plain": [
       "plot without title"
      ]
     },
     "metadata": {},
     "output_type": "display_data"
    }
   ],
   "source": [
    "plotPCA(\n",
    "    reads.qc[endog_genes, ],\n",
    "    exprs_values = \"logcounts_raw\",\n",
    "    colour_by = \"Class\",\n",
    "    shape_by = \"Disease_status\",\n",
    "    size_by = \"total_features\"\n",
    ")"
   ]
  },
  {
   "cell_type": "markdown",
   "metadata": {},
   "source": [
    "## imputation"
   ]
  },
  {
   "cell_type": "code",
   "execution_count": 85,
   "metadata": {},
   "outputs": [],
   "source": [
    "suppressMessages(library(\"scImpute\"))\n",
    "reads.qc <- readRDS(\"new_feature/tmpsave/feature_1.rds\")\n",
    "sampleLables <- c()\n",
    "for(i in colnames(reads.qc)){tmp <- as.character(wholeanno[which(wholeanno$Sample_ID==i),\"Class\"]); sampleLables <- c(sampleLables,tmp)}"
   ]
  },
  {
   "cell_type": "code",
   "execution_count": 86,
   "metadata": {},
   "outputs": [
    {
     "name": "stdout",
     "output_type": "stream",
     "text": [
      "[1] \"reading in raw count matrix ...\"\n",
      "[1] \"number of genes in raw count matrix 1707\"\n",
      "[1] \"number of cells in raw count matrix 43\"\n",
      "[1] \"estimating dropout probability for type 1 ...\"\n",
      "[1] \"imputing dropout values for type 1 ...\"\n",
      "[1] \"estimating dropout probability for type 2 ...\"\n",
      "[1] \"imputing dropout values for type 2 ...\"\n",
      "[1] \"writing imputed count matrix ...\"\n"
     ]
    },
    {
     "data": {
      "text/html": [],
      "text/latex": [],
      "text/markdown": [],
      "text/plain": [
       "integer(0)"
      ]
     },
     "metadata": {},
     "output_type": "display_data"
    }
   ],
   "source": [
    "scimpute(count_path = \"new_feature/tmpsave/feature_1.rds.csv\", infile = \"csv\", \n",
    "         outfile = \"txt\", out_dir = \"new_feature/imputation/\", Kcluster = 5, ncores = 2, labels = as.vector(sampleLables), labeled = TRUE)"
   ]
  },
  {
   "cell_type": "code",
   "execution_count": 87,
   "metadata": {},
   "outputs": [],
   "source": [
    "res.qc <- read.table(\"new_feature/imputation/scimpute_count.txt\")\n",
    "reads.qc.impute <- SingleCellExperiment(assays = list(counts = as.matrix(res.qc)), colData = colData(reads.qc))\n",
    "reads.qc.impute <- calculateQCMetrics(reads.qc.impute)"
   ]
  },
  {
   "cell_type": "code",
   "execution_count": 88,
   "metadata": {},
   "outputs": [],
   "source": [
    "assay(reads.qc.impute, \"logcounts_raw\") <- log2(counts(reads.qc.impute) + 1)"
   ]
  },
  {
   "cell_type": "code",
   "execution_count": 89,
   "metadata": {},
   "outputs": [
    {
     "data": {},
     "metadata": {},
     "output_type": "display_data"
    },
    {
     "data": {
      "image/png": "[encoded data removed]",
      "text/plain": [
       "plot without title"
      ]
     },
     "metadata": {},
     "output_type": "display_data"
    }
   ],
   "source": [
    "plotPCA(\n",
    "    reads.qc.impute[endog_genes, ],\n",
    "    exprs_values = \"logcounts_raw\",\n",
    "    colour_by = \"Class\",\n",
    "    shape_by = \"Disease_status\",\n",
    "    size_by = \"total_features\"\n",
    ")"
   ]
  },
  {
   "cell_type": "code",
   "execution_count": 90,
   "metadata": {},
   "outputs": [
    {
     "data": {},
     "metadata": {},
     "output_type": "display_data"
    },
    {
     "data": {
      "image/png": "[encoded data removed]",
      "text/plain": [
       "plot without title"
      ]
     },
     "metadata": {},
     "output_type": "display_data"
    }
   ],
   "source": [
    "plotTSNE(\n",
    "    reads.qc.impute[endog_genes, ],\n",
    "    exprs_values = \"logcounts_raw\",\n",
    "    perplexity = 8,\n",
    "    colour_by = \"Class\",\n",
    "    shape_by = \"Disease_status\",\n",
    "    size_by = \"total_features\",\n",
    "    rand_seed = 123456,\n",
    "    ntop = 300\n",
    ")"
   ]
  },
  {
   "cell_type": "code",
   "execution_count": 91,
   "metadata": {},
   "outputs": [
    {
     "data": {
      "text/html": [
       "<table>\n",
       "<thead><tr><th></th><th scope=col>lulab_249136_B</th><th scope=col>lulab_385247_B</th><th scope=col>lulab_423976_B</th><th scope=col>lulab_497411_B</th><th scope=col>lulab_497497_B</th><th scope=col>lulab_498127_B</th><th scope=col>lulab_498187_B</th><th scope=col>lulab_498221_B</th><th scope=col>lulab_507450_B</th><th scope=col>lulab_507468_B</th><th scope=col>⋯</th><th scope=col>lulab_Normal_2</th><th scope=col>lulab_Normal_3</th><th scope=col>lulab_Normal_4</th><th scope=col>lulab_Normal_5</th><th scope=col>lulab_Normal_6</th><th scope=col>lulab_Normal_7</th><th scope=col>lulab_Normal_8</th><th scope=col>lulab_HBV_1</th><th scope=col>lulab_HBV_2</th><th scope=col>lulab_HBV_3</th></tr></thead>\n",
       "<tbody>\n",
       "\t<tr><th scope=row>peak_1;12979_0_60</th><td>239</td><td>112</td><td>116</td><td>209</td><td>130</td><td> 91</td><td>142</td><td>125</td><td> 66</td><td>109</td><td>⋯  </td><td> 25</td><td> 54</td><td> 59</td><td> 33</td><td> 70</td><td> 51</td><td>274</td><td> 50</td><td> 81</td><td> 61</td></tr>\n",
       "\t<tr><th scope=row>peak_2;12985_20_72</th><td>249</td><td>218</td><td>110</td><td>232</td><td> 64</td><td> 62</td><td> 49</td><td>107</td><td> 57</td><td>145</td><td>⋯  </td><td> 92</td><td> 49</td><td>116</td><td> 78</td><td> 87</td><td>129</td><td>196</td><td>102</td><td>125</td><td> 94</td></tr>\n",
       "\t<tr><th scope=row>peak_3;12991_20_72</th><td>216</td><td>215</td><td>115</td><td>263</td><td> 67</td><td> 57</td><td> 50</td><td> 98</td><td> 61</td><td>134</td><td>⋯  </td><td>108</td><td> 44</td><td> 94</td><td>113</td><td> 92</td><td>118</td><td>184</td><td>115</td><td>126</td><td>104</td></tr>\n",
       "\t<tr><th scope=row>peak_4;12993_0_72</th><td>826</td><td>486</td><td>394</td><td>948</td><td>295</td><td>311</td><td>266</td><td>408</td><td>217</td><td>400</td><td>⋯  </td><td>105</td><td>186</td><td>174</td><td>125</td><td>208</td><td>191</td><td>824</td><td>182</td><td>290</td><td>190</td></tr>\n",
       "\t<tr><th scope=row>peak_5;13011_0_60</th><td>311</td><td>515</td><td>370</td><td>253</td><td> 77</td><td>146</td><td>432</td><td>387</td><td>378</td><td>780</td><td>⋯  </td><td>340</td><td>266</td><td>258</td><td>390</td><td>491</td><td>658</td><td>212</td><td>407</td><td>391</td><td>383</td></tr>\n",
       "\t<tr><th scope=row>peak_6;13013_20_72</th><td>589</td><td>285</td><td>276</td><td>816</td><td>221</td><td>244</td><td>139</td><td>279</td><td>114</td><td>198</td><td>⋯  </td><td> 29</td><td>102</td><td>105</td><td> 63</td><td> 53</td><td> 54</td><td>712</td><td> 83</td><td>164</td><td> 77</td></tr>\n",
       "</tbody>\n",
       "</table>\n"
      ],
      "text/latex": [
       "\\begin{tabular}{r|lllllllllllllllllllllllllllllllllllllllllll}\n",
       "  & lulab\\_249136\\_B & lulab\\_385247\\_B & lulab\\_423976\\_B & lulab\\_497411\\_B & lulab\\_497497\\_B & lulab\\_498127\\_B & lulab\\_498187\\_B & lulab\\_498221\\_B & lulab\\_507450\\_B & lulab\\_507468\\_B & ⋯ & lulab\\_Normal\\_2 & lulab\\_Normal\\_3 & lulab\\_Normal\\_4 & lulab\\_Normal\\_5 & lulab\\_Normal\\_6 & lulab\\_Normal\\_7 & lulab\\_Normal\\_8 & lulab\\_HBV\\_1 & lulab\\_HBV\\_2 & lulab\\_HBV\\_3\\\\\n",
       "\\hline\n",
       "\tpeak\\_1;12979\\_0\\_60 & 239 & 112 & 116 & 209 & 130 &  91 & 142 & 125 &  66 & 109 & ⋯   &  25 &  54 &  59 &  33 &  70 &  51 & 274 &  50 &  81 &  61\\\\\n",
       "\tpeak\\_2;12985\\_20\\_72 & 249 & 218 & 110 & 232 &  64 &  62 &  49 & 107 &  57 & 145 & ⋯   &  92 &  49 & 116 &  78 &  87 & 129 & 196 & 102 & 125 &  94\\\\\n",
       "\tpeak\\_3;12991\\_20\\_72 & 216 & 215 & 115 & 263 &  67 &  57 &  50 &  98 &  61 & 134 & ⋯   & 108 &  44 &  94 & 113 &  92 & 118 & 184 & 115 & 126 & 104\\\\\n",
       "\tpeak\\_4;12993\\_0\\_72 & 826 & 486 & 394 & 948 & 295 & 311 & 266 & 408 & 217 & 400 & ⋯   & 105 & 186 & 174 & 125 & 208 & 191 & 824 & 182 & 290 & 190\\\\\n",
       "\tpeak\\_5;13011\\_0\\_60 & 311 & 515 & 370 & 253 &  77 & 146 & 432 & 387 & 378 & 780 & ⋯   & 340 & 266 & 258 & 390 & 491 & 658 & 212 & 407 & 391 & 383\\\\\n",
       "\tpeak\\_6;13013\\_20\\_72 & 589 & 285 & 276 & 816 & 221 & 244 & 139 & 279 & 114 & 198 & ⋯   &  29 & 102 & 105 &  63 &  53 &  54 & 712 &  83 & 164 &  77\\\\\n",
       "\\end{tabular}\n"
      ],
      "text/markdown": [
       "\n",
       "| <!--/--> | lulab_249136_B | lulab_385247_B | lulab_423976_B | lulab_497411_B | lulab_497497_B | lulab_498127_B | lulab_498187_B | lulab_498221_B | lulab_507450_B | lulab_507468_B | ⋯ | lulab_Normal_2 | lulab_Normal_3 | lulab_Normal_4 | lulab_Normal_5 | lulab_Normal_6 | lulab_Normal_7 | lulab_Normal_8 | lulab_HBV_1 | lulab_HBV_2 | lulab_HBV_3 | \n",
       "|---|---|---|---|---|---|\n",
       "| peak_1;12979_0_60 | 239 | 112 | 116 | 209 | 130 |  91 | 142 | 125 |  66 | 109 | ⋯   |  25 |  54 |  59 |  33 |  70 |  51 | 274 |  50 |  81 |  61 | \n",
       "| peak_2;12985_20_72 | 249 | 218 | 110 | 232 |  64 |  62 |  49 | 107 |  57 | 145 | ⋯   |  92 |  49 | 116 |  78 |  87 | 129 | 196 | 102 | 125 |  94 | \n",
       "| peak_3;12991_20_72 | 216 | 215 | 115 | 263 |  67 |  57 |  50 |  98 |  61 | 134 | ⋯   | 108 |  44 |  94 | 113 |  92 | 118 | 184 | 115 | 126 | 104 | \n",
       "| peak_4;12993_0_72 | 826 | 486 | 394 | 948 | 295 | 311 | 266 | 408 | 217 | 400 | ⋯   | 105 | 186 | 174 | 125 | 208 | 191 | 824 | 182 | 290 | 190 | \n",
       "| peak_5;13011_0_60 | 311 | 515 | 370 | 253 |  77 | 146 | 432 | 387 | 378 | 780 | ⋯   | 340 | 266 | 258 | 390 | 491 | 658 | 212 | 407 | 391 | 383 | \n",
       "| peak_6;13013_20_72 | 589 | 285 | 276 | 816 | 221 | 244 | 139 | 279 | 114 | 198 | ⋯   |  29 | 102 | 105 |  63 |  53 |  54 | 712 |  83 | 164 |  77 | \n",
       "\n",
       "\n"
      ],
      "text/plain": [
       "                   lulab_249136_B lulab_385247_B lulab_423976_B lulab_497411_B\n",
       "peak_1;12979_0_60  239            112            116            209           \n",
       "peak_2;12985_20_72 249            218            110            232           \n",
       "peak_3;12991_20_72 216            215            115            263           \n",
       "peak_4;12993_0_72  826            486            394            948           \n",
       "peak_5;13011_0_60  311            515            370            253           \n",
       "peak_6;13013_20_72 589            285            276            816           \n",
       "                   lulab_497497_B lulab_498127_B lulab_498187_B lulab_498221_B\n",
       "peak_1;12979_0_60  130             91            142            125           \n",
       "peak_2;12985_20_72  64             62             49            107           \n",
       "peak_3;12991_20_72  67             57             50             98           \n",
       "peak_4;12993_0_72  295            311            266            408           \n",
       "peak_5;13011_0_60   77            146            432            387           \n",
       "peak_6;13013_20_72 221            244            139            279           \n",
       "                   lulab_507450_B lulab_507468_B ⋯ lulab_Normal_2\n",
       "peak_1;12979_0_60   66            109            ⋯  25           \n",
       "peak_2;12985_20_72  57            145            ⋯  92           \n",
       "peak_3;12991_20_72  61            134            ⋯ 108           \n",
       "peak_4;12993_0_72  217            400            ⋯ 105           \n",
       "peak_5;13011_0_60  378            780            ⋯ 340           \n",
       "peak_6;13013_20_72 114            198            ⋯  29           \n",
       "                   lulab_Normal_3 lulab_Normal_4 lulab_Normal_5 lulab_Normal_6\n",
       "peak_1;12979_0_60   54             59             33             70           \n",
       "peak_2;12985_20_72  49            116             78             87           \n",
       "peak_3;12991_20_72  44             94            113             92           \n",
       "peak_4;12993_0_72  186            174            125            208           \n",
       "peak_5;13011_0_60  266            258            390            491           \n",
       "peak_6;13013_20_72 102            105             63             53           \n",
       "                   lulab_Normal_7 lulab_Normal_8 lulab_HBV_1 lulab_HBV_2\n",
       "peak_1;12979_0_60   51            274             50          81        \n",
       "peak_2;12985_20_72 129            196            102         125        \n",
       "peak_3;12991_20_72 118            184            115         126        \n",
       "peak_4;12993_0_72  191            824            182         290        \n",
       "peak_5;13011_0_60  658            212            407         391        \n",
       "peak_6;13013_20_72  54            712             83         164        \n",
       "                   lulab_HBV_3\n",
       "peak_1;12979_0_60   61        \n",
       "peak_2;12985_20_72  94        \n",
       "peak_3;12991_20_72 104        \n",
       "peak_4;12993_0_72  190        \n",
       "peak_5;13011_0_60  383        \n",
       "peak_6;13013_20_72  77        "
      ]
     },
     "metadata": {},
     "output_type": "display_data"
    }
   ],
   "source": [
    "head(counts(reads.qc.impute))\n",
    "saveRDS(counts(reads.qc.impute), file = \"new_feature/imputation/feature_1_imputationresults.rds\")"
   ]
  },
  {
   "cell_type": "markdown",
   "metadata": {},
   "source": [
    "**********************\n",
    "## normalization"
   ]
  },
  {
   "cell_type": "code",
   "execution_count": 92,
   "metadata": {},
   "outputs": [
    {
     "data": {
      "text/plain": [
       "class: SingleCellExperiment \n",
       "dim: 1707 43 \n",
       "metadata(0):\n",
       "assays(2): counts logcounts_raw\n",
       "rownames(1707): peak_1;12979_0_60 peak_2;12985_20_72 ...\n",
       "  peak_1726;piR-hsa-963_0_31 peak_1727;piR-hsa-993_0_28\n",
       "rowData names(8): is_feature_control mean_counts ... total_counts\n",
       "  log10_total_counts\n",
       "colnames(43): lulab_249136_B lulab_385247_B ... lulab_HBV_2 lulab_HBV_3\n",
       "colData names(36): X Sample_ID ... pct_counts_top_500_features\n",
       "  is_cell_control\n",
       "reducedDimNames(0):\n",
       "spikeNames(0):"
      ]
     },
     "metadata": {},
     "output_type": "display_data"
    }
   ],
   "source": [
    "reads.qc.impute\n",
    "#counts logcounts_raw 是取log2的"
   ]
  },
  {
   "cell_type": "code",
   "execution_count": 93,
   "metadata": {},
   "outputs": [],
   "source": [
    "# CPM\n",
    "logcounts(reads.qc.impute) <- log2(calculateCPM(reads.qc.impute, use.size.factors = FALSE) + 1)"
   ]
  },
  {
   "cell_type": "code",
   "execution_count": 94,
   "metadata": {},
   "outputs": [
    {
     "name": "stderr",
     "output_type": "stream",
     "text": [
      "Loading required package: BiocParallel\n"
     ]
    }
   ],
   "source": [
    "# scran (CPM)\n",
    "library(scran)\n",
    "# define cluster for each sample\n",
    "sampleLables <- c()\n",
    "for(i in colnames(reads.qc.impute)){tmp <- as.character(wholeanno[which(wholeanno$Sample_ID==i),\"Class\"]); sampleLables <- c(sampleLables,tmp)}\n",
    "\n",
    "# sampleLables <- quickCluster(reads.qc.impute, min.size = 10)\n",
    "sampleLables <- replace(sampleLables, which(sampleLables==\"HCC\"),1)\n",
    "sampleLables <- replace(sampleLables, which(sampleLables==\"Ctrl\"),2)\n",
    "sampleLables <- as.numeric(sampleLables)\n",
    "reads.qc.impute <- computeSumFactors(reads.qc.impute, sizes = 5, clusters = sampleLables)\n",
    "reads.qc.impute <- normalize(reads.qc.impute)"
   ]
  },
  {
   "cell_type": "code",
   "execution_count": 96,
   "metadata": {},
   "outputs": [
    {
     "data": {},
     "metadata": {},
     "output_type": "display_data"
    },
    {
     "data": {},
     "metadata": {},
     "output_type": "display_data"
    },
    {
     "data": {
      "image/png": "[encoded data removed]",
      "text/plain": [
       "plot without title"
      ]
     },
     "metadata": {},
     "output_type": "display_data"
    },
    {
     "data": {
      "image/png": "[encoded data removed]",
      "text/plain": [
       "plot without title"
      ]
     },
     "metadata": {},
     "output_type": "display_data"
    }
   ],
   "source": [
    "plotPCA(\n",
    "    reads.qc.impute,\n",
    "    exprs_values = \"logcounts\",\n",
    "    colour_by = \"Class\",\n",
    "    shape_by = \"Disease_status\",\n",
    "    size_by = \"total_features\",\n",
    "    ntop = 300\n",
    ")\n",
    "\n",
    "plotTSNE(\n",
    "    reads.qc.impute,\n",
    "    exprs_values = \"logcounts\",\n",
    "    check_duplicates = FALSE,\n",
    "    perplexity = 8,\n",
    "    colour_by = \"Class\",\n",
    "    shape_by = \"Disease_status\",\n",
    "    size_by = \"total_features\",\n",
    "    rand_seed = 123456,\n",
    "    ntop = 300\n",
    ")"
   ]
  },
  {
   "cell_type": "markdown",
   "metadata": {},
   "source": [
    "### save data after normalization"
   ]
  },
  {
   "cell_type": "code",
   "execution_count": 98,
   "metadata": {},
   "outputs": [],
   "source": [
    "write.csv(raw_mx[which(rownames(raw_mx) %in% top20name),],'new_feature/top20/feature1_top20.csv')"
   ]
  },
  {
   "cell_type": "code",
   "execution_count": 99,
   "metadata": {},
   "outputs": [],
   "source": [
    "inputF1 <- t(assay(reads.qc.impute, i=\"logcounts\"))\n",
    "write.csv(data.frame(sampleID = rownames(inputF1), lables = sampleLables, inputF1),'new_feature/preprocessed/preprocessed_feature1.csv')\n"
   ]
  },
  {
   "cell_type": "code",
   "execution_count": null,
   "metadata": {},
   "outputs": [],
   "source": []
  },
  {
   "cell_type": "code",
   "execution_count": null,
   "metadata": {},
   "outputs": [],
   "source": []
  },
  {
   "cell_type": "code",
   "execution_count": null,
   "metadata": {},
   "outputs": [],
   "source": []
  }
 ],
 "metadata": {
  "gist": {
   "data": {
    "description": "projects/training/QC&after_full_sample_use.ipynb",
    "public": false
   },
   "id": ""
  },
  "hide_input": false,
  "kernelspec": {
   "display_name": "R",
   "language": "R",
   "name": "ir"
  },
  "language_info": {
   "codemirror_mode": "r",
   "file_extension": ".r",
   "mimetype": "text/x-r-source",
   "name": "R",
   "pygments_lexer": "r",
   "version": "3.4.3"
  },
  "toc": {
   "base_numbering": 1,
   "nav_menu": {},
   "number_sections": true,
   "sideBar": true,
   "skip_h1_title": false,
   "title_cell": "Table of Contents",
   "title_sidebar": "Contents",
   "toc_cell": false,
   "toc_position": {
    "height": "calc(100% - 180px)",
    "left": "10px",
    "top": "150px",
    "width": "201px"
   },
   "toc_section_display": true,
   "toc_window_display": false
  }
 },
 "nbformat": 4,
 "nbformat_minor": 2
}
